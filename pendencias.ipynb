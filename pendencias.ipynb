{
 "cells": [
  {
   "cell_type": "markdown",
   "metadata": {},
   "source": [
    "# Code"
   ]
  },
  {
   "cell_type": "markdown",
   "metadata": {},
   "source": [
    "## Set"
   ]
  },
  {
   "cell_type": "code",
   "execution_count": null,
   "metadata": {
    "id": "TocGuzNwlVlT"
   },
   "outputs": [],
   "source": [
    "import pandas as pd"
   ]
  },
  {
   "cell_type": "code",
   "execution_count": null,
   "metadata": {
    "id": "Bow97gC5gJK3"
   },
   "outputs": [],
   "source": [
    "caminho_pend = r'C:\\Users\\fsp_adolpho.salvador\\Desktop\\Konica Minolta\\Desktop Cloud - Documentos\\Desktop\\Py\\Pendencias\\Arquivos\\PEND.XLSX'\n",
    "caminho_pend_geral = r'C:\\Users\\fsp_adolpho.salvador\\Desktop\\Konica Minolta\\Desktop Cloud - Documentos\\Desktop\\Py\\Pendencias\\Arquivos\\pend geral.XLSX'\n",
    "caminho_zstok = r'C:\\Users\\fsp_adolpho.salvador\\Desktop\\Konica Minolta\\Desktop Cloud - Documentos\\Desktop\\Py\\Pendencias\\Arquivos\\zstok.XLSX'\n",
    "caminho_fup = r'C:\\Users\\fsp_adolpho.salvador\\Desktop\\Konica Minolta\\Desktop Cloud - Documentos\\Desktop\\Py\\Pendencias\\Arquivos\\fup.XLSX'\n",
    "caminho_fob = r'C:\\Users\\fsp_adolpho.salvador\\Desktop\\Konica Minolta\\Desktop Cloud - Documentos\\Desktop\\Py\\Pendencias\\Arquivos\\ZTMM069.XLSX'\n",
    "caminho_pecas = r'C:\\Users\\fsp_adolpho.salvador\\Desktop\\Konica Minolta\\Desktop Cloud - Documentos\\Desktop\\Py\\Pendencias\\Arquivos\\ZTMM085.XLSX'\n",
    "caminho_atuais = r'C:\\Users\\fsp_adolpho.salvador\\Desktop\\Konica Minolta\\Desktop Cloud - Documentos\\Desktop\\Py\\Pendencias\\Arquivos\\atuais.xlsx'\n",
    "caminho_classificacao =r'C:\\Users\\fsp_adolpho.salvador\\Desktop\\Konica Minolta\\Desktop Cloud - Documentos\\Desktop\\Py\\Pendencias\\Arquivos\\Classificação das Peças.xlsx'"
   ]
  },
  {
   "cell_type": "markdown",
   "metadata": {
    "id": "YybzIMWxlALi"
   },
   "source": [
    "## Pendências"
   ]
  },
  {
   "cell_type": "code",
   "execution_count": null,
   "metadata": {
    "id": "PufxUea3lZXr"
   },
   "outputs": [],
   "source": [
    "pendencias = pd.read_excel(caminho_pend)"
   ]
  },
  {
   "cell_type": "code",
   "execution_count": null,
   "metadata": {
    "colab": {
     "base_uri": "https://localhost:8080/"
    },
    "id": "mV-INAiSmEyU",
    "outputId": "5e4e28da-0cd9-4a18-f3d7-3c702a8d1dae"
   },
   "outputs": [],
   "source": [
    "pendencias.columns\n"
   ]
  },
  {
   "cell_type": "code",
   "execution_count": null,
   "metadata": {
    "colab": {
     "base_uri": "https://localhost:8080/"
    },
    "id": "MeT87jF5qTOq",
    "outputId": "b79fb7db-8211-41ce-9687-0333a4c8814c"
   },
   "outputs": [],
   "source": [
    "# Substitua a lista pelos nomes das colunas que você deseja visualizar\n",
    "colunas_selecionadas = pendencias[[ 'Criado por',\"Canal\"]]\n",
    "\n",
    "# Exibir as colunas selecionadas\n",
    "print(colunas_selecionadas)\n"
   ]
  },
  {
   "cell_type": "code",
   "execution_count": null,
   "metadata": {
    "colab": {
     "base_uri": "https://localhost:8080/"
    },
    "id": "rhz6J-PsmXZP",
    "outputId": "310afde0-923c-44ec-c93b-054718245d52"
   },
   "outputs": [],
   "source": [
    "num_linhas = pendencias.shape[0]\n",
    "\n",
    "# Exibir o número de linhas\n",
    "print(f'O número de linhas em merged_table é: {num_linhas}')\n",
    "\n"
   ]
  },
  {
   "cell_type": "code",
   "execution_count": null,
   "metadata": {
    "colab": {
     "base_uri": "https://localhost:8080/"
    },
    "id": "y6pzFUwumNdt",
    "outputId": "2d345a72-63c3-4610-827d-ce219e571a66"
   },
   "outputs": [],
   "source": [
    "import pandas as pd\n",
    "\n",
    "# Se você já não tiver feito isso, crie a tabela dinâmica como mostrado no código fornecido\n",
    "tabela_dinamica_pend = pd.pivot_table(pendencias, values='Qtd.pendente', index='Material', columns='Centro', aggfunc='sum', fill_value=0)\n",
    "tabela_dinamica_pend = tabela_dinamica_pend.add_suffix('_zva70')\n",
    "\n",
    "# Exibir a tabela dinâmica com as colunas adicionadas\n",
    "print(tabela_dinamica_pend)\n",
    "\n"
   ]
  },
  {
   "cell_type": "code",
   "execution_count": null,
   "metadata": {
    "colab": {
     "base_uri": "https://localhost:8080/"
    },
    "id": "xu2h5mTo5C2k",
    "outputId": "34a5239c-fda2-4cec-c508-a6a8e7fe12e9"
   },
   "outputs": [],
   "source": [
    "tabela_dinamica_pend2 = pd.pivot_table(pendencias, values='Denominação', index='Material', aggfunc='first', fill_value=0)\n",
    "\n",
    "print(tabela_dinamica_pend2)"
   ]
  },
  {
   "cell_type": "code",
   "execution_count": null,
   "metadata": {
    "colab": {
     "base_uri": "https://localhost:8080/"
    },
    "id": "f8VigsvV56_B",
    "outputId": "6a55d80c-4884-4b0f-a44b-e3e5b45360b4"
   },
   "outputs": [],
   "source": [
    "tabela_dinamica_pend3 = pd.pivot_table(pendencias, values='Criado por', index='Material', aggfunc=lambda x: '/'.join(x), fill_value='')\n",
    "tabela_dinamica_pend4 = pd.pivot_table(pendencias, values='Canal', index='Material', aggfunc=lambda x: '/'.join(str(v) for v in x), fill_value='')\n",
    "\n",
    "print(tabela_dinamica_pend3)\n",
    "print(tabela_dinamica_pend4)"
   ]
  },
  {
   "cell_type": "code",
   "execution_count": null,
   "metadata": {
    "colab": {
     "base_uri": "https://localhost:8080/"
    },
    "id": "Ci8wemth6STh",
    "outputId": "7ff9823c-41db-4015-9075-0858a2011a34"
   },
   "outputs": [],
   "source": [
    "# Realizar left join entre as tabelas usando a coluna \"Material\" como chave\n",
    "merged_table_pend = tabela_dinamica_pend.merge(tabela_dinamica_pend2, how='left', left_index=True, right_index=True)\n",
    "merged_table_pend2 = merged_table_pend.merge(tabela_dinamica_pend3, how='left', left_index=True, right_index=True)\n",
    "_table_pend = merged_table_pend2.merge(tabela_dinamica_pend4, how='left', left_index=True, right_index=True)\n",
    "# Preencher valores nulos com zero\n",
    "_table_pend = _table_pend.fillna(0)\n",
    "\n",
    "print(_table_pend)"
   ]
  },
  {
   "cell_type": "markdown",
   "metadata": {
    "id": "O1WlUUCLlErb"
   },
   "source": [
    "## Pendencia geral"
   ]
  },
  {
   "cell_type": "code",
   "execution_count": null,
   "metadata": {
    "id": "YoDWXIOQneYO"
   },
   "outputs": [],
   "source": [
    "pendencias_geral = pd.read_excel(caminho_pend_geral)"
   ]
  },
  {
   "cell_type": "code",
   "execution_count": null,
   "metadata": {
    "colab": {
     "base_uri": "https://localhost:8080/"
    },
    "id": "bpySQbrYXNmV",
    "outputId": "f456d55d-360c-4e47-ac6b-622359dca4ef"
   },
   "outputs": [],
   "source": [
    "pendencias_geral.head"
   ]
  },
  {
   "cell_type": "code",
   "execution_count": null,
   "metadata": {
    "colab": {
     "base_uri": "https://localhost:8080/"
    },
    "id": "tUlLUsv_nt9O",
    "outputId": "ba253d33-cd8f-49c5-d91d-89298c47b9e6"
   },
   "outputs": [],
   "source": [
    "pendencias_geral.columns"
   ]
  },
  {
   "cell_type": "code",
   "execution_count": null,
   "metadata": {
    "colab": {
     "base_uri": "https://localhost:8080/"
    },
    "id": "RhCXEkBkn-IH",
    "outputId": "f71c9638-eee3-4d8f-a585-c958c53df495"
   },
   "outputs": [],
   "source": [
    "\n",
    "tabela_dinamica_pendente = pd.pivot_table(pendencias_geral, values='Qtd.pendente', index='Material', aggfunc='sum', fill_value=0)\n",
    "\n",
    "tabela_dinamica_pendente = tabela_dinamica_pendente.rename(columns={'Qtd.pendente': 'Pendências Gerais'})\n",
    "\n",
    "print(tabela_dinamica_pendente)\n",
    "\n"
   ]
  },
  {
   "cell_type": "markdown",
   "metadata": {
    "id": "1Koc5JwAlIsj"
   },
   "source": [
    "## zstok"
   ]
  },
  {
   "cell_type": "code",
   "execution_count": null,
   "metadata": {
    "id": "vjBPjqgdp6aB"
   },
   "outputs": [],
   "source": [
    "zstok = pd.read_excel(caminho_zstok)"
   ]
  },
  {
   "cell_type": "code",
   "execution_count": null,
   "metadata": {
    "colab": {
     "base_uri": "https://localhost:8080/"
    },
    "id": "J9xNs_oIqE63",
    "outputId": "16958948-75a0-46b6-bb08-80f5ffb652f6"
   },
   "outputs": [],
   "source": [
    "zstok.columns"
   ]
  },
  {
   "cell_type": "code",
   "execution_count": null,
   "metadata": {
    "colab": {
     "base_uri": "https://localhost:8080/"
    },
    "id": "5oKNJqiQqXW4",
    "outputId": "21a2b91e-4612-448e-e6e9-c1198a880375"
   },
   "outputs": [],
   "source": [
    "# Criar a tabela dinâmica mantendo 'Cen.' como texto\n",
    "tabela_dinamica_zstok = pd.pivot_table(zstok, values='Utiliz.livre', index='Material', columns='Cen.', aggfunc='sum', fill_value=0)\n",
    "\n",
    "tabela_dinamica_zstok = tabela_dinamica_zstok.add_suffix('_zstok')\n",
    "\n",
    "\n",
    "# Exibir a tabela dinâmica\n",
    "print(tabela_dinamica_zstok)"
   ]
  },
  {
   "cell_type": "code",
   "execution_count": null,
   "metadata": {
    "colab": {
     "base_uri": "https://localhost:8080/"
    },
    "id": "LZin8zUcqj6R",
    "outputId": "1c9badb8-038a-45a2-c3c7-898bb74e63ae"
   },
   "outputs": [],
   "source": [
    "tabela_dinamica_zstok_qualidade = pd.pivot_table(zstok, values='Contr.qualid.', index='Material', aggfunc='sum', fill_value=0)\n",
    "\n",
    "# Exibir a tabela dinâmica\n",
    "print(tabela_dinamica_zstok_qualidade)"
   ]
  },
  {
   "cell_type": "markdown",
   "metadata": {
    "id": "oyZA1kH0lKbC"
   },
   "source": [
    "## fup\n"
   ]
  },
  {
   "cell_type": "code",
   "execution_count": null,
   "metadata": {
    "id": "X97OK4fSq87_"
   },
   "outputs": [],
   "source": [
    "fup = pd.read_excel(caminho_fup)"
   ]
  },
  {
   "cell_type": "code",
   "execution_count": null,
   "metadata": {
    "colab": {
     "base_uri": "https://localhost:8080/"
    },
    "id": "mAwSMckrrGZ3",
    "outputId": "31a93d06-cb28-4594-b0c7-9d1e8e28aeeb"
   },
   "outputs": [],
   "source": [
    "fup.columns"
   ]
  },
  {
   "cell_type": "code",
   "execution_count": null,
   "metadata": {
    "colab": {
     "base_uri": "https://localhost:8080/"
    },
    "id": "ZQLPORuFrZqq",
    "outputId": "cb049f34-4631-4599-cc28-d437693cb6f6"
   },
   "outputs": [],
   "source": [
    "# Selecione apenas as colunas relevantes do DataFrame 'fup'\n",
    "fup_relevantes = fup[['Material', 'Qtde Pedido', 'Data total']].copy()\n",
    "\n",
    "# Converter 'Data total' para datetime e sobrescrever a coluna original\n",
    "fup_relevantes['Data total'] = pd.to_datetime(fup_relevantes['Data total'], errors='coerce')\n",
    "\n",
    "# Criar uma nova coluna 'MesAno' no formato desejado\n",
    "fup_relevantes['MesAno'] = fup_relevantes['Data total'].dt.strftime('%b/%y')\n",
    "\n",
    "# Criar a tabela dinâmica\n",
    "tabela_dinamica_fup = pd.pivot_table(fup_relevantes, values='Qtde Pedido', index='Material', columns='Data total', aggfunc='sum', fill_value=0)\n",
    "\n",
    "# Exibir a tabela dinâmica\n",
    "print(tabela_dinamica_fup)\n",
    "\n"
   ]
  },
  {
   "cell_type": "code",
   "execution_count": null,
   "metadata": {
    "colab": {
     "base_uri": "https://localhost:8080/"
    },
    "id": "IhIEyqhitIuj",
    "outputId": "2d90990f-ae67-44d7-c3c2-1227883fe931"
   },
   "outputs": [],
   "source": [
    "# Exibir apenas a coluna 'Material' da tabela dinâmica\n",
    "coluna_material = tabela_dinamica_fup.index\n",
    "print(coluna_material)\n"
   ]
  },
  {
   "cell_type": "markdown",
   "metadata": {
    "id": "yDYT1LOElM9z"
   },
   "source": [
    "\n",
    "\n",
    "> Bloco com recuo\n",
    "\n"
   ]
  },
  {
   "cell_type": "markdown",
   "metadata": {
    "id": "0XgTbAT2JGgy"
   },
   "source": [
    "## ZTMM069"
   ]
  },
  {
   "cell_type": "code",
   "execution_count": null,
   "metadata": {
    "id": "8Z_5A-snLYfW"
   },
   "outputs": [],
   "source": [
    "fob = pd.read_excel(caminho_fob)"
   ]
  },
  {
   "cell_type": "code",
   "execution_count": null,
   "metadata": {
    "colab": {
     "base_uri": "https://localhost:8080/"
    },
    "id": "H_qd-HWALkIh",
    "outputId": "516748d8-db9e-4597-9c78-d8324a631428"
   },
   "outputs": [],
   "source": [
    "fob.head"
   ]
  },
  {
   "cell_type": "code",
   "execution_count": null,
   "metadata": {
    "colab": {
     "base_uri": "https://localhost:8080/"
    },
    "id": "1lTXKItfLyxm",
    "outputId": "959a436b-6a95-4ac4-adfe-af16c5b3e86b"
   },
   "outputs": [],
   "source": [
    "fob.columns"
   ]
  },
  {
   "cell_type": "code",
   "execution_count": null,
   "metadata": {
    "colab": {
     "base_uri": "https://localhost:8080/"
    },
    "id": "QlnxxjAfL4H3",
    "outputId": "268cac4f-b0bf-4e26-e2d9-4be9cdd9b585"
   },
   "outputs": [],
   "source": [
    "# Criar a tabela dinâmica mantendo 'Cen.' como texto\n",
    "tabela_dinamica_fob = pd.pivot_table(fob, values='Montante', index='Material', aggfunc='sum', fill_value=0)\n",
    "\n",
    "# Exibir a tabela dinâmica\n",
    "print(tabela_dinamica_fob)"
   ]
  },
  {
   "cell_type": "markdown",
   "metadata": {
    "id": "NVf1Tr1JJKSB"
   },
   "source": [
    "## ZTMM085\n"
   ]
  },
  {
   "cell_type": "code",
   "execution_count": null,
   "metadata": {
    "id": "3cxwZD7CMJ1v"
   },
   "outputs": [],
   "source": [
    "pecas = pd.read_excel(caminho_pecas)"
   ]
  },
  {
   "cell_type": "code",
   "execution_count": null,
   "metadata": {
    "colab": {
     "base_uri": "https://localhost:8080/"
    },
    "id": "rzzl0CqOMUQ1",
    "outputId": "ca909e3f-f61f-42b3-8ed5-42ed6dbe703f"
   },
   "outputs": [],
   "source": [
    "pecas.head"
   ]
  },
  {
   "cell_type": "code",
   "execution_count": null,
   "metadata": {
    "colab": {
     "base_uri": "https://localhost:8080/"
    },
    "id": "Jmt1fwl5MX1e",
    "outputId": "8f41556a-8fdd-41ff-dd21-ce5a872001a9"
   },
   "outputs": [],
   "source": [
    "pecas.columns"
   ]
  },
  {
   "cell_type": "code",
   "execution_count": null,
   "metadata": {
    "colab": {
     "base_uri": "https://localhost:8080/"
    },
    "id": "dcXHkX_sMaZN",
    "outputId": "71e35be8-b16f-4a58-da73-53aa21222936"
   },
   "outputs": [],
   "source": [
    "# Criar a tabela dinâmica mantendo 'Cen.' como texto\n",
    "tabela_dinamica_pecas = pd.pivot_table(pecas, values='Modelos Lista Técnica', index='Material', aggfunc='sum', fill_value=0)\n",
    "\n",
    "# Exibir a tabela dinâmica\n",
    "print(tabela_dinamica_pecas)"
   ]
  },
  {
   "cell_type": "markdown",
   "metadata": {
    "id": "TzPPMAA_jAuT"
   },
   "source": []
  },
  {
   "cell_type": "code",
   "execution_count": null,
   "metadata": {
    "id": "hSdvAHrgi_0y"
   },
   "outputs": [],
   "source": []
  },
  {
   "cell_type": "markdown",
   "metadata": {
    "id": "HBe_enGOjCLL"
   },
   "source": [
    "## codigos atuais"
   ]
  },
  {
   "cell_type": "code",
   "execution_count": null,
   "metadata": {
    "id": "gGSI_oJ0jGK-"
   },
   "outputs": [],
   "source": [
    "atuais = pd.read_excel(caminho_atuais)"
   ]
  },
  {
   "cell_type": "code",
   "execution_count": null,
   "metadata": {
    "colab": {
     "base_uri": "https://localhost:8080/"
    },
    "id": "Xw4mM0Rsk3SY",
    "outputId": "2adbef34-e3dc-4eef-abe3-dbcd59deb424"
   },
   "outputs": [],
   "source": [
    "atuais"
   ]
  },
  {
   "cell_type": "code",
   "execution_count": null,
   "metadata": {
    "colab": {
     "base_uri": "https://localhost:8080/"
    },
    "id": "M93y7tkvlPyx",
    "outputId": "ae148223-39a9-455c-f97d-bae566a23b00"
   },
   "outputs": [],
   "source": [
    "atuais.columns"
   ]
  },
  {
   "cell_type": "code",
   "execution_count": null,
   "metadata": {
    "colab": {
     "base_uri": "https://localhost:8080/"
    },
    "id": "Ym54xRgBrUo3",
    "outputId": "715a8115-9a14-4b78-e94e-f88a6a011379"
   },
   "outputs": [],
   "source": [
    "resultados_filtrados = atuais[atuais['Atual'].isin(coluna_material)]\n",
    "\n",
    "tabela_resultados = pd.DataFrame(resultados_filtrados)\n",
    "\n",
    "# Exibir o novo DataFrame\n",
    "print(tabela_resultados)"
   ]
  },
  {
   "cell_type": "code",
   "execution_count": null,
   "metadata": {
    "colab": {
     "base_uri": "https://localhost:8080/"
    },
    "id": "RgRZiVAF0gEO",
    "outputId": "b5c38326-6a25-493e-f817-6ae9433cefac"
   },
   "outputs": [],
   "source": [
    "tabela_resultados = tabela_resultados.set_index(tabela_resultados.columns[0])\n",
    "\n",
    "# Exibir o novo DataFrame\n",
    "print(tabela_resultados)"
   ]
  },
  {
   "cell_type": "code",
   "execution_count": null,
   "metadata": {
    "id": "cmiqM9VUvbUM"
   },
   "outputs": [],
   "source": []
  },
  {
   "cell_type": "code",
   "execution_count": null,
   "metadata": {
    "id": "RvsAkUNDvbTI"
   },
   "outputs": [],
   "source": []
  },
  {
   "cell_type": "markdown",
   "metadata": {
    "id": "6xRNfQGJyK1v"
   },
   "source": [
    "## Classificação de peças"
   ]
  },
  {
   "cell_type": "code",
   "execution_count": null,
   "metadata": {
    "id": "pdep8rVnyRQN"
   },
   "outputs": [],
   "source": [
    "classificacao = pd.read_excel(caminho_classificacao, sheet_name='consumable parts')"
   ]
  },
  {
   "cell_type": "code",
   "execution_count": null,
   "metadata": {
    "colab": {
     "base_uri": "https://localhost:8080/"
    },
    "id": "Omok9dAmy4lN",
    "outputId": "af5895a3-ae25-40f9-81b9-4fce24a99223"
   },
   "outputs": [],
   "source": [
    "classificacao.head"
   ]
  },
  {
   "cell_type": "code",
   "execution_count": null,
   "metadata": {
    "colab": {
     "base_uri": "https://localhost:8080/"
    },
    "id": "8loQBBC8zmTC",
    "outputId": "22e5d1b2-8c42-4449-cebd-2df17c719ca6"
   },
   "outputs": [],
   "source": [
    "classificacao.columns"
   ]
  },
  {
   "cell_type": "code",
   "execution_count": null,
   "metadata": {
    "colab": {
     "base_uri": "https://localhost:8080/"
    },
    "id": "3DNnf2bLzhg6",
    "outputId": "d6daab57-3e78-4090-ee66-be3ee3d66a11"
   },
   "outputs": [],
   "source": [
    "# Criar a tabela dinâmica mantendo 'Cen.' como texto\n",
    "tabela_dinamica_classificacao = pd.pivot_table(classificacao, values='Durabilidade', index='Código', aggfunc='first', fill_value=0)\n",
    "\n",
    "\n",
    "# Exibir a tabela dinâmica\n",
    "print(tabela_dinamica_classificacao)"
   ]
  },
  {
   "cell_type": "markdown",
   "metadata": {
    "id": "bivdLhPFuCnC"
   },
   "source": [
    "## juntando tabelas\n"
   ]
  },
  {
   "cell_type": "markdown",
   "metadata": {
    "id": "ZzgNa0NMw2Oe"
   },
   "source": [
    "juntando pendencias"
   ]
  },
  {
   "cell_type": "code",
   "execution_count": null,
   "metadata": {
    "colab": {
     "base_uri": "https://localhost:8080/"
    },
    "id": "LI3Bn5znuKzn",
    "outputId": "8c0500c0-9782-485a-edcb-f5593a12b3fb"
   },
   "outputs": [],
   "source": [
    "# Realizar left join entre as tabelas usando a coluna \"Material\" como chave\n",
    "merged_table_pend = _table_pend.merge(tabela_dinamica_pendente, how='left', left_index=True, right_index=True)\n",
    "\n",
    "# Preencher valores nulos com zero\n",
    "merged_table_pend = merged_table_pend.fillna(0)\n",
    "\n",
    "print(merged_table_pend)\n"
   ]
  },
  {
   "cell_type": "code",
   "execution_count": null,
   "metadata": {
    "colab": {
     "base_uri": "https://localhost:8080/"
    },
    "id": "AKf46nHiuxjp",
    "outputId": "acbad665-9081-440d-c6f1-1a35169b9d9f"
   },
   "outputs": [],
   "source": [
    "merged_table_pend.columns"
   ]
  },
  {
   "cell_type": "markdown",
   "metadata": {
    "id": "ci51sme8uHd4"
   },
   "source": [
    "juntando zstok"
   ]
  },
  {
   "cell_type": "code",
   "execution_count": null,
   "metadata": {
    "colab": {
     "base_uri": "https://localhost:8080/"
    },
    "id": "qvyGn4s5w--B",
    "outputId": "3578f1ac-d4df-4aeb-a532-3767bf4f14ed"
   },
   "outputs": [],
   "source": [
    "# Realizar left join entre as tabelas usando a coluna \"Material\" como chave\n",
    "merged_table_zstok = tabela_dinamica_zstok.merge(tabela_dinamica_zstok_qualidade, how='left', left_index=True, right_index=True)\n",
    "\n",
    "# Preencher valores nulos com zero\n",
    "merged_table_zstok = merged_table_zstok.fillna(0)\n",
    "\n",
    "print(merged_table_zstok)"
   ]
  },
  {
   "cell_type": "markdown",
   "metadata": {
    "id": "LYJYChyyxjqz"
   },
   "source": [
    "juntando pend com zstok"
   ]
  },
  {
   "cell_type": "code",
   "execution_count": null,
   "metadata": {
    "colab": {
     "base_uri": "https://localhost:8080/"
    },
    "id": "_HdLYaYpxdn_",
    "outputId": "ceb9c759-8a39-47c8-f2b1-6b3de627566e"
   },
   "outputs": [],
   "source": [
    "# Realizar left join entre as tabelas usando a coluna \"Material\" como chave\n",
    "merged_table_1 = merged_table_pend.merge(merged_table_zstok, how='left', left_index=True, right_index=True)\n",
    "\n",
    "# Preencher valores nulos com zero\n",
    "merged_table_1 = merged_table_1.fillna(0)\n",
    "\n",
    "print(merged_table_1)"
   ]
  },
  {
   "cell_type": "code",
   "execution_count": null,
   "metadata": {
    "colab": {
     "base_uri": "https://localhost:8080/"
    },
    "id": "dL-H6otByU60",
    "outputId": "9601c914-cfb4-4039-d691-51021a8b24eb"
   },
   "outputs": [],
   "source": [
    "merged_table_1.columns"
   ]
  },
  {
   "cell_type": "markdown",
   "metadata": {
    "id": "FbEdg9w2ynhX"
   },
   "source": [
    "colocando o fup"
   ]
  },
  {
   "cell_type": "code",
   "execution_count": null,
   "metadata": {
    "colab": {
     "base_uri": "https://localhost:8080/"
    },
    "id": "yVN9twaBya7z",
    "outputId": "9ae1059c-8407-445a-e6ee-cea5761e44c5"
   },
   "outputs": [],
   "source": [
    "# Realizar left join entre as tabelas usando a coluna \"Material\" como chave\n",
    "merged_table_2 = merged_table_1.merge(tabela_dinamica_fup, how='left', left_index=True, right_index=True)\n",
    "\n",
    "# Preencher valores nulos com zero\n",
    "merged_table_2 = merged_table_2.fillna(0)\n",
    "\n",
    "print(merged_table_2)"
   ]
  },
  {
   "cell_type": "code",
   "execution_count": null,
   "metadata": {
    "colab": {
     "base_uri": "https://localhost:8080/"
    },
    "id": "naqhcdgRyzfi",
    "outputId": "05f69321-4df1-4c7f-90e1-815aa97a0390"
   },
   "outputs": [],
   "source": [
    "merged_table_2.columns"
   ]
  },
  {
   "cell_type": "code",
   "execution_count": null,
   "metadata": {
    "id": "xV6-3goc1ND_"
   },
   "outputs": [],
   "source": [
    "# Renomear colunas com sufixo \"_x\"\n",
    "#merged_table_2 = merged_table_2.rename(columns=lambda x: x.replace('_x', '_zva70'))\n",
    "\n",
    "# Renomear colunas com sufixo \"_y\"\n",
    "#merged_table_2 = merged_table_2.rename(columns=lambda x: x.replace('_y', '_zstok'))\n"
   ]
  },
  {
   "cell_type": "code",
   "execution_count": null,
   "metadata": {
    "colab": {
     "base_uri": "https://localhost:8080/"
    },
    "id": "wgPKOqwXMwBn",
    "outputId": "e2b8f186-1d5e-47d1-e988-c86815e0de1b"
   },
   "outputs": [],
   "source": [
    "# Realizar left join entre as tabelas usando a coluna \"Material\" como chave\n",
    "merged_table_3 = merged_table_2.merge(tabela_dinamica_fob, how='left', left_index=True, right_index=True)\n",
    "\n",
    "# Preencher valores nulos com zero\n",
    "merged_table_3 = merged_table_3.fillna(0)\n",
    "\n",
    "print(merged_table_3)"
   ]
  },
  {
   "cell_type": "code",
   "execution_count": null,
   "metadata": {
    "colab": {
     "base_uri": "https://localhost:8080/"
    },
    "id": "qS1JaxmdMvIG",
    "outputId": "5dcd9ada-f328-498f-acf1-fed8241a0cbe"
   },
   "outputs": [],
   "source": [
    "# Realizar left join entre as tabelas usando a coluna \"Material\" como chave\n",
    "merged_table_4 = merged_table_3.merge(tabela_dinamica_pecas, how='left', left_index=True, right_index=True)\n",
    "\n",
    "# Preencher valores nulos com zero\n",
    "merged_table_4 = merged_table_4.fillna(0)\n",
    "\n",
    "print(merged_table_4)"
   ]
  },
  {
   "cell_type": "code",
   "execution_count": null,
   "metadata": {
    "colab": {
     "base_uri": "https://localhost:8080/"
    },
    "id": "HpeYh95LtwU7",
    "outputId": "9016fcc1-e63a-4b71-99a1-e603ecb6eda2"
   },
   "outputs": [],
   "source": [
    "# Realizar left join entre as tabelas usando a coluna \"Material\" como chave\n",
    "merged_table_5 = merged_table_4.merge(tabela_resultados, how='left', left_index=True, right_index=True)\n",
    "\n",
    "# Preencher valores nulos com zero\n",
    "merged_table_5 = merged_table_5.fillna(0)\n",
    "\n",
    "print(merged_table_5)"
   ]
  },
  {
   "cell_type": "code",
   "execution_count": null,
   "metadata": {
    "colab": {
     "base_uri": "https://localhost:8080/"
    },
    "id": "Av3CKwK00NDx",
    "outputId": "e72e9dfa-df0a-4bbe-a347-edaec60d9fd9"
   },
   "outputs": [],
   "source": [
    "# Realizar left join entre as tabelas usando a coluna \"Material\" como chave\n",
    "merged_table_6 = merged_table_5.merge(tabela_dinamica_classificacao, how='left', left_index=True, right_index=True)\n",
    "\n",
    "# Preencher valores nulos com zero\n",
    "merged_table_6 = merged_table_6.fillna(0)\n",
    "\n",
    "print(merged_table_6)"
   ]
  },
  {
   "cell_type": "code",
   "execution_count": null,
   "metadata": {
    "colab": {
     "base_uri": "https://localhost:8080/"
    },
    "id": "aYCsNgDTujli",
    "outputId": "c3515f20-4a27-401d-fa49-4195f3f8cad2"
   },
   "outputs": [],
   "source": [
    "merged_table_6.columns"
   ]
  },
  {
   "cell_type": "code",
   "execution_count": null,
   "metadata": {
    "id": "eCzTViJly1uF"
   },
   "outputs": [],
   "source": [
    "# Supondo que você tenha um DataFrame chamado 'merged_table_2'\n",
    "# Certifique-se de ajustar isso conforme necessário com o nome correto do seu DataFrame\n",
    "\n",
    "# Especificar o caminho do arquivo Excel de saída\n",
    "caminho_saida = r'C:\\Users\\fsp_adolpho.salvador\\Desktop\\Konica Minolta\\Desktop Cloud - Documentos\\Desktop\\Py\\Pendencias\\Mapa.xlsx'\n",
    "\n",
    "# Exportar o DataFrame para o arquivo Excel\n",
    "merged_table_6.to_excel(caminho_saida, index=True)\n"
   ]
  },
  {
   "cell_type": "code",
   "execution_count": null,
   "metadata": {
    "colab": {
     "base_uri": "https://localhost:8080/",
     "height": 187
    },
    "id": "e86m_xIZzbH3",
    "outputId": "df79a1f3-3b9e-48f8-f40c-3e096f901b4e"
   },
   "outputs": [],
   "source": [
    "merged_table_6.head"
   ]
  },
  {
   "cell_type": "code",
   "execution_count": null,
   "metadata": {
    "id": "lw_1k4QZzb9j"
   },
   "outputs": [],
   "source": [
    "\n",
    "merged_table_6 = pd.read_excel(r'C:\\Users\\fsp_adolpho.salvador\\Desktop\\Konica Minolta\\Desktop Cloud - Documentos\\Desktop\\Py\\Pendencias\\Arquivos\\Mapa.xlsx')\n",
    "\n",
    "ztsd017_data = pd.read_excel(r'C:\\Users\\fsp_adolpho.salvador\\Desktop\\Konica Minolta\\Desktop Cloud - Documentos\\Desktop\\Py\\Pendencias\\Arquivos\\ztsd017.XLSX')\n",
    "\n",
    "merged_table_6.columns = merged_table_6.columns.str.strip()\n",
    "ztsd017_data.columns = ztsd017_data.columns.str.strip()\n",
    "\n",
    "# Função para encontrar o material no Mapa em uma das colunas e retornar o valor de estoque\n",
    "def buscar_estoque(material, df_estoque):\n",
    "    # Verificar se o material existe no ztsd017 e pegar o valor de 'Quant estoque 09/2024'\n",
    "    if material in df_estoque['Material'].values:\n",
    "        return df_estoque.loc[df_estoque['Material'] == material, 'Quant estoque 24/10/2024'].values[0]\n",
    "    return 0  # Se não encontrar o material, retornar 0\n",
    "\n",
    "# Função para verificar o material ou seus similares e buscar o estoque correspondente\n",
    "def buscar_estoque_similar(row, df_estoque):\n",
    "    # Lista de colunas de materiais para verificar (Material, Atual, Similar1, Similar2, Similar3, Similar4)\n",
    "    materiais = [row['Material'], row['Atual'], row['Similar1'], row['Similar2'], row['Similar3'], row['Similar4']]\n",
    "    \n",
    "    # Procurar em cada material e similar\n",
    "    for material in materiais:\n",
    "        estoque = buscar_estoque(material, df_estoque)\n",
    "        if estoque > 0:\n",
    "            return estoque  # Se encontrar estoque, retornar o valor\n",
    "    \n",
    "    return 0  # Retornar 0 se não encontrar estoque\n",
    "\n",
    "# Aplicar a função no DataFrame do Mapa para trazer o estoque da planilha ztsd017\n",
    "merged_table_6['Quant estoque'] = merged_table_6.apply(lambda row: buscar_estoque_similar(row, ztsd017_data), axis=1)\n"
   ]
  },
  {
   "cell_type": "code",
   "execution_count": null,
   "metadata": {},
   "outputs": [],
   "source": [
    "\n",
    "# Especificar o caminho do arquivo Excel de saída\n",
    "caminho_saida = r'C:\\Users\\fsp_adolpho.salvador\\Desktop\\Konica Minolta\\Desktop Cloud - Documentos\\Desktop\\Py\\Pendencias\\Arquivos\\Mapa2.xlsx'\n",
    "\n",
    "# Exportar o DataFrame para o arquivo Excel\n",
    "merged_table_6.to_excel(caminho_saida, index=True)"
   ]
  },
  {
   "cell_type": "code",
   "execution_count": null,
   "metadata": {},
   "outputs": [],
   "source": []
  }
 ],
 "metadata": {
  "colab": {
   "collapsed_sections": [
    "YybzIMWxlALi",
    "O1WlUUCLlErb",
    "1Koc5JwAlIsj",
    "0XgTbAT2JGgy",
    "NVf1Tr1JJKSB"
   ],
   "provenance": []
  },
  "kernelspec": {
   "display_name": "Python 3",
   "name": "python3"
  },
  "language_info": {
   "codemirror_mode": {
    "name": "ipython",
    "version": 3
   },
   "file_extension": ".py",
   "mimetype": "text/x-python",
   "name": "python",
   "nbconvert_exporter": "python",
   "pygments_lexer": "ipython3",
   "version": "3.12.3"
  }
 },
 "nbformat": 4,
 "nbformat_minor": 0
}
