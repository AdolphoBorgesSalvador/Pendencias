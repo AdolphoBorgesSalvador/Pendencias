{
 "cells": [
  {
   "cell_type": "markdown",
   "metadata": {},
   "source": [
    "# Code"
   ]
  },
  {
   "cell_type": "markdown",
   "metadata": {},
   "source": [
    "## Set"
   ]
  },
  {
   "cell_type": "code",
   "execution_count": 3,
   "metadata": {
    "id": "TocGuzNwlVlT"
   },
   "outputs": [],
   "source": [
    "import pandas as pd"
   ]
  },
  {
   "cell_type": "code",
   "execution_count": 112,
   "metadata": {
    "id": "Bow97gC5gJK3"
   },
   "outputs": [],
   "source": [
    "caminho_pend = r'C:\\Users\\fsp_adolpho.salvador\\Desktop\\Konica Minolta\\Desktop Cloud - Documentos\\Desktop\\Py\\Pendencias\\Arquivos\\PEND.XLSX'\n",
    "caminho_pend_geral = r'C:\\Users\\fsp_adolpho.salvador\\Desktop\\Konica Minolta\\Desktop Cloud - Documentos\\Desktop\\Py\\Pendencias\\Arquivos\\pend geral.XLSX'\n",
    "caminho_zstok = r'C:\\Users\\fsp_adolpho.salvador\\Desktop\\Konica Minolta\\Desktop Cloud - Documentos\\Desktop\\Py\\Pendencias\\Arquivos\\zstok.XLSX'\n",
    "caminho_fup = r'C:\\Users\\fsp_adolpho.salvador\\Desktop\\Konica Minolta\\Desktop Cloud - Documentos\\Desktop\\Py\\Pendencias\\Arquivos\\fup.XLSX'\n",
    "caminho_fob = r'C:\\Users\\fsp_adolpho.salvador\\Desktop\\Konica Minolta\\Desktop Cloud - Documentos\\Desktop\\Py\\Pendencias\\Arquivos\\ZTMM069.XLSX'\n",
    "caminho_pecas = r'C:\\Users\\fsp_adolpho.salvador\\Desktop\\Konica Minolta\\Desktop Cloud - Documentos\\Desktop\\Py\\Pendencias\\Arquivos\\ZTMM085.XLSX'\n",
    "caminho_atuais = r'C:\\Users\\fsp_adolpho.salvador\\Desktop\\Konica Minolta\\Desktop Cloud - Documentos\\Desktop\\Py\\Pendencias\\Arquivos\\atuais.xlsx'\n",
    "caminho_classificacao =r'C:\\Users\\fsp_adolpho.salvador\\Desktop\\Konica Minolta\\Desktop Cloud - Documentos\\Desktop\\Py\\Pendencias\\Arquivos\\Classificação das Peças.xlsx'"
   ]
  },
  {
   "cell_type": "markdown",
   "metadata": {
    "id": "YybzIMWxlALi"
   },
   "source": [
    "## Pendências"
   ]
  },
  {
   "cell_type": "code",
   "execution_count": 113,
   "metadata": {
    "id": "PufxUea3lZXr"
   },
   "outputs": [],
   "source": [
    "pendencias = pd.read_excel(caminho_pend)"
   ]
  },
  {
   "cell_type": "code",
   "execution_count": 114,
   "metadata": {
    "colab": {
     "base_uri": "https://localhost:8080/"
    },
    "id": "mV-INAiSmEyU",
    "outputId": "5e4e28da-0cd9-4a18-f3d7-3c702a8d1dae"
   },
   "outputs": [
    {
     "data": {
      "text/plain": [
       "Index(['Nome 1', 'Cliente', 'Doc.vendas', 'Criado em', 'Item', 'Material',\n",
       "       'Denominação', 'Tipo material', 'Centro', 'Quantidade da ordem',\n",
       "       'Qtd.confirm.acumul.', 'Qtd.pendente', 'Unidade venda',\n",
       "       'Data de remessa', 'Criado por', 'Canal', 'Classificação'],\n",
       "      dtype='object')"
      ]
     },
     "execution_count": 114,
     "metadata": {},
     "output_type": "execute_result"
    }
   ],
   "source": [
    "pendencias.columns\n"
   ]
  },
  {
   "cell_type": "code",
   "execution_count": 115,
   "metadata": {
    "colab": {
     "base_uri": "https://localhost:8080/"
    },
    "id": "MeT87jF5qTOq",
    "outputId": "b79fb7db-8211-41ce-9687-0333a4c8814c"
   },
   "outputs": [
    {
     "name": "stdout",
     "output_type": "stream",
     "text": [
      "                           Criado por           Canal\n",
      "0           MARIANA PEREIRA DOS ANJOS  VENDA INDIRETA\n",
      "1           RODRIGO PEREIRA DOS ANJOS    VENDA DIRETA\n",
      "2               JESSIE OLIVEIRA SILVA    VENDA DIRETA\n",
      "3            PATRICIA ALVES PELAKOSKI  VENDA INDIRETA\n",
      "4            PATRICIA ALVES PELAKOSKI  VENDA INDIRETA\n",
      "..                                ...             ...\n",
      "175  REGILENE DE CASSIA LUIZ OLIVEIRA    VENDA DIRETA\n",
      "176       ÁVILA MORAES DE VASCONCELOS    VENDA DIRETA\n",
      "177       ÁVILA MORAES DE VASCONCELOS    VENDA DIRETA\n",
      "178         RODRIGO PEREIRA DOS ANJOS    VENDA DIRETA\n",
      "179         RODRIGO PEREIRA DOS ANJOS    VENDA DIRETA\n",
      "\n",
      "[180 rows x 2 columns]\n"
     ]
    }
   ],
   "source": [
    "colunas_selecionadas = pendencias[[ 'Criado por',\"Canal\"]]\n",
    "\n",
    "print(colunas_selecionadas)\n"
   ]
  },
  {
   "cell_type": "code",
   "execution_count": 116,
   "metadata": {
    "colab": {
     "base_uri": "https://localhost:8080/"
    },
    "id": "rhz6J-PsmXZP",
    "outputId": "310afde0-923c-44ec-c93b-054718245d52"
   },
   "outputs": [
    {
     "name": "stdout",
     "output_type": "stream",
     "text": [
      "O número de linhas em merged_table é: 180\n"
     ]
    }
   ],
   "source": [
    "num_linhas = pendencias.shape[0]\n",
    "\n",
    "# Exibir o número de linhas\n",
    "print(f'O número de linhas em merged_table é: {num_linhas}')\n",
    "\n"
   ]
  },
  {
   "cell_type": "code",
   "execution_count": 117,
   "metadata": {
    "colab": {
     "base_uri": "https://localhost:8080/"
    },
    "id": "y6pzFUwumNdt",
    "outputId": "2d345a72-63c3-4610-827d-ce219e571a66"
   },
   "outputs": [
    {
     "name": "stdout",
     "output_type": "stream",
     "text": [
      "Centro      CE03_zva70  CE04_zva70  CE05_zva70  CE11_zva70  CE13_zva70\n",
      "Material                                                              \n",
      "08AA85512            0           0           0           1           0\n",
      "13QA40610            0           0           0           9           0\n",
      "25AA42570            0           0           0           4           0\n",
      "25AA77890            0           0           0           1           0\n",
      "25AAR70300           0           0           0           1           0\n",
      "...                ...         ...         ...         ...         ...\n",
      "V121040403           0           0           0           4           0\n",
      "V126030803           0           0           0           2           0\n",
      "V217020003           0           0           0           2           0\n",
      "V217060003           0           0           0           2           0\n",
      "V234301050           0           0           0           2           0\n",
      "\n",
      "[151 rows x 5 columns]\n"
     ]
    }
   ],
   "source": [
    "import pandas as pd\n",
    "\n",
    "# Se você já não tiver feito isso, crie a tabela dinâmica como mostrado no código fornecido\n",
    "tabela_dinamica_pend = pd.pivot_table(pendencias, values='Qtd.pendente', index='Material', columns='Centro', aggfunc='sum', fill_value=0)\n",
    "tabela_dinamica_pend = tabela_dinamica_pend.add_suffix('_zva70')\n",
    "\n",
    "# Exibir a tabela dinâmica com as colunas adicionadas\n",
    "print(tabela_dinamica_pend)\n",
    "\n"
   ]
  },
  {
   "cell_type": "code",
   "execution_count": 118,
   "metadata": {
    "colab": {
     "base_uri": "https://localhost:8080/"
    },
    "id": "xu2h5mTo5C2k",
    "outputId": "34a5239c-fda2-4cec-c508-a6a8e7fe12e9"
   },
   "outputs": [
    {
     "name": "stdout",
     "output_type": "stream",
     "text": [
      "                     Denominação\n",
      "Material                        \n",
      "08AA85512            FOTO-SENSOR\n",
      "13QA40610              LIMITADOR\n",
      "25AA42570          POLIA DO CABO\n",
      "25AA77890   ENGRENAGEM 36 DENTES\n",
      "25AAR70300                   FIO\n",
      "...                          ...\n",
      "V121040403              PARAFUSO\n",
      "V126030803              PARAFUSO\n",
      "V217020003                  ANEL\n",
      "V217060003                  ANEL\n",
      "V234301050                  PINO\n",
      "\n",
      "[151 rows x 1 columns]\n"
     ]
    }
   ],
   "source": [
    "tabela_dinamica_pend2 = pd.pivot_table(pendencias, values='Denominação', index='Material', aggfunc='first', fill_value=0)\n",
    "\n",
    "print(tabela_dinamica_pend2)"
   ]
  },
  {
   "cell_type": "code",
   "execution_count": 119,
   "metadata": {
    "colab": {
     "base_uri": "https://localhost:8080/"
    },
    "id": "f8VigsvV56_B",
    "outputId": "6a55d80c-4884-4b0f-a44b-e3e5b45360b4"
   },
   "outputs": [
    {
     "name": "stdout",
     "output_type": "stream",
     "text": [
      "                                  Criado por\n",
      "Material                                    \n",
      "08AA85512          MARIANA PEREIRA DOS ANJOS\n",
      "13QA40610   REGILENE DE CASSIA LUIZ OLIVEIRA\n",
      "25AA42570              JESSIE OLIVEIRA SILVA\n",
      "25AA77890   REGILENE DE CASSIA LUIZ OLIVEIRA\n",
      "25AAR70300             JESSIE OLIVEIRA SILVA\n",
      "...                                      ...\n",
      "V121040403       JULIA MARIA MORETO DA SILVA\n",
      "V126030803       JULIA MARIA MORETO DA SILVA\n",
      "V217020003       JULIA MARIA MORETO DA SILVA\n",
      "V217060003  REGILENE DE CASSIA LUIZ OLIVEIRA\n",
      "V234301050       JULIA MARIA MORETO DA SILVA\n",
      "\n",
      "[151 rows x 1 columns]\n",
      "                     Canal\n",
      "Material                  \n",
      "08AA85512   VENDA INDIRETA\n",
      "13QA40610     VENDA DIRETA\n",
      "25AA42570     VENDA DIRETA\n",
      "25AA77890     VENDA DIRETA\n",
      "25AAR70300    VENDA DIRETA\n",
      "...                    ...\n",
      "V121040403    VENDA DIRETA\n",
      "V126030803    VENDA DIRETA\n",
      "V217020003    VENDA DIRETA\n",
      "V217060003    VENDA DIRETA\n",
      "V234301050    VENDA DIRETA\n",
      "\n",
      "[151 rows x 1 columns]\n"
     ]
    }
   ],
   "source": [
    "tabela_dinamica_pend3 = pd.pivot_table(pendencias, values='Criado por', index='Material', aggfunc=lambda x: '/'.join(x), fill_value='')\n",
    "tabela_dinamica_pend4 = pd.pivot_table(pendencias, values='Canal', index='Material', aggfunc=lambda x: '/'.join(str(v) for v in x), fill_value='')\n",
    "\n",
    "print(tabela_dinamica_pend3)\n",
    "print(tabela_dinamica_pend4)"
   ]
  },
  {
   "cell_type": "code",
   "execution_count": 120,
   "metadata": {
    "colab": {
     "base_uri": "https://localhost:8080/"
    },
    "id": "Ci8wemth6STh",
    "outputId": "7ff9823c-41db-4015-9075-0858a2011a34"
   },
   "outputs": [
    {
     "name": "stdout",
     "output_type": "stream",
     "text": [
      "            CE03_zva70  CE04_zva70  CE05_zva70  CE11_zva70  CE13_zva70  \\\n",
      "Material                                                                 \n",
      "08AA85512            0           0           0           1           0   \n",
      "13QA40610            0           0           0           9           0   \n",
      "25AA42570            0           0           0           4           0   \n",
      "25AA77890            0           0           0           1           0   \n",
      "25AAR70300           0           0           0           1           0   \n",
      "...                ...         ...         ...         ...         ...   \n",
      "V121040403           0           0           0           4           0   \n",
      "V126030803           0           0           0           2           0   \n",
      "V217020003           0           0           0           2           0   \n",
      "V217060003           0           0           0           2           0   \n",
      "V234301050           0           0           0           2           0   \n",
      "\n",
      "                     Denominação                        Criado por  \\\n",
      "Material                                                             \n",
      "08AA85512            FOTO-SENSOR         MARIANA PEREIRA DOS ANJOS   \n",
      "13QA40610              LIMITADOR  REGILENE DE CASSIA LUIZ OLIVEIRA   \n",
      "25AA42570          POLIA DO CABO             JESSIE OLIVEIRA SILVA   \n",
      "25AA77890   ENGRENAGEM 36 DENTES  REGILENE DE CASSIA LUIZ OLIVEIRA   \n",
      "25AAR70300                   FIO             JESSIE OLIVEIRA SILVA   \n",
      "...                          ...                               ...   \n",
      "V121040403              PARAFUSO       JULIA MARIA MORETO DA SILVA   \n",
      "V126030803              PARAFUSO       JULIA MARIA MORETO DA SILVA   \n",
      "V217020003                  ANEL       JULIA MARIA MORETO DA SILVA   \n",
      "V217060003                  ANEL  REGILENE DE CASSIA LUIZ OLIVEIRA   \n",
      "V234301050                  PINO       JULIA MARIA MORETO DA SILVA   \n",
      "\n",
      "                     Canal  \n",
      "Material                    \n",
      "08AA85512   VENDA INDIRETA  \n",
      "13QA40610     VENDA DIRETA  \n",
      "25AA42570     VENDA DIRETA  \n",
      "25AA77890     VENDA DIRETA  \n",
      "25AAR70300    VENDA DIRETA  \n",
      "...                    ...  \n",
      "V121040403    VENDA DIRETA  \n",
      "V126030803    VENDA DIRETA  \n",
      "V217020003    VENDA DIRETA  \n",
      "V217060003    VENDA DIRETA  \n",
      "V234301050    VENDA DIRETA  \n",
      "\n",
      "[151 rows x 8 columns]\n"
     ]
    }
   ],
   "source": [
    "# Realizar left join entre as tabelas usando a coluna \"Material\" como chave\n",
    "merged_table_pend = tabela_dinamica_pend.merge(tabela_dinamica_pend2, how='left', left_index=True, right_index=True)\n",
    "merged_table_pend2 = merged_table_pend.merge(tabela_dinamica_pend3, how='left', left_index=True, right_index=True)\n",
    "_table_pend = merged_table_pend2.merge(tabela_dinamica_pend4, how='left', left_index=True, right_index=True)\n",
    "# Preencher valores nulos com zero\n",
    "_table_pend = _table_pend.fillna(0)\n",
    "\n",
    "print(_table_pend)"
   ]
  },
  {
   "cell_type": "markdown",
   "metadata": {
    "id": "O1WlUUCLlErb"
   },
   "source": [
    "## Pendencia geral"
   ]
  },
  {
   "cell_type": "code",
   "execution_count": 121,
   "metadata": {
    "id": "YoDWXIOQneYO"
   },
   "outputs": [],
   "source": [
    "pendencias_geral = pd.read_excel(caminho_pend_geral)"
   ]
  },
  {
   "cell_type": "code",
   "execution_count": 122,
   "metadata": {
    "colab": {
     "base_uri": "https://localhost:8080/"
    },
    "id": "bpySQbrYXNmV",
    "outputId": "f456d55d-360c-4e47-ac6b-622359dca4ef"
   },
   "outputs": [
    {
     "data": {
      "text/plain": [
       "<bound method NDFrame.head of                                  Nome 1  Cliente  Doc.vendas  Criado em  Item  \\\n",
       "0       3EX COM DE PROD. INFORM.LTDA ME     3117      207121 2024-09-12    20   \n",
       "1       3EX COM DE PROD. INFORM.LTDA ME     3117      207287 2024-09-19    50   \n",
       "2       3EX COM DE PROD. INFORM.LTDA ME     3117      207287 2024-09-19   100   \n",
       "3       3EX COM DE PROD. INFORM.LTDA ME     3117      207454 2024-09-25    10   \n",
       "4       3EX COM DE PROD. INFORM.LTDA ME     3117      207454 2024-09-25    20   \n",
       "..                                  ...      ...         ...        ...   ...   \n",
       "670          WBL GRAFICA E EDITORA LTDA    10113    50200746 2024-10-22    10   \n",
       "671          WBL GRAFICA E EDITORA LTDA    10113    50201437 2024-10-31    10   \n",
       "672  WITTE COMERCIO E SERVICOS GRAFICOS     2873    50197564 2024-08-27    10   \n",
       "673  WITTE COMERCIO E SERVICOS GRAFICOS     2873    50199218 2024-09-24    10   \n",
       "674  WITTE COMERCIO E SERVICOS GRAFICOS     2873    50200608 2024-10-18   120   \n",
       "\n",
       "       Material                     Denominação Tipo material Centro  \\\n",
       "0    A50U520001                            ROLO          PCPS   CE13   \n",
       "1    A1DUR73600                      CHAPA GUIA          PCPS   CE13   \n",
       "2    A50U743200            ENGRENAGEM 87 DENTES          PCPS   CE13   \n",
       "3     65AA26111  ROLO DE TRANSFERÊNCIA INFERIOR          PCPS   CE13   \n",
       "4    A50UR70266            UNIDADE DE REVELAÇÃO          PCPS   CE13   \n",
       "..          ...                             ...           ...    ...   \n",
       "670   65AA22290                            MOLA          PCPS   CE11   \n",
       "671  A1RG112800                    Fixing  Part          PCPS   CE11   \n",
       "672  A4EU400800                          TRILHO          PCPS   CE11   \n",
       "673  A9VPR70311                          CORONA          PCPS   CE11   \n",
       "674  A0GD522500               Roller Bearing /B          PCPS   CE11   \n",
       "\n",
       "     Quantidade da ordem  Qtd.confirm.acumul.  Qtd.pendente Unidade venda  \\\n",
       "0                      1                    0             1            PÇ   \n",
       "1                      1                    0             1            PÇ   \n",
       "2                      2                    0             2            PÇ   \n",
       "3                      1                    0             1            PÇ   \n",
       "4                      1                    0             1            PÇ   \n",
       "..                   ...                  ...           ...           ...   \n",
       "670                    1                    0             1            PÇ   \n",
       "671                    4                    0             4            PÇ   \n",
       "672                    1                    0             1            PÇ   \n",
       "673                    4                    0             4            PÇ   \n",
       "674                    4                    0             4            PÇ   \n",
       "\n",
       "    Data de remessa                 Criado por           Canal Classificação  \n",
       "0        2024-12-11                  ANA PAULA  VENDA INDIRETA        REV VI  \n",
       "1        2024-12-18  MARIANA PEREIRA DOS ANJOS  VENDA INDIRETA        REV VI  \n",
       "2        2024-12-18  MARIANA PEREIRA DOS ANJOS  VENDA INDIRETA        REV VI  \n",
       "3        2024-12-24  MARIANA PEREIRA DOS ANJOS  VENDA INDIRETA        REV VI  \n",
       "4        2024-12-24  MARIANA PEREIRA DOS ANJOS  VENDA INDIRETA        REV VI  \n",
       "..              ...                        ...             ...           ...  \n",
       "670      2025-01-20  RODRIGO PEREIRA DOS ANJOS             NaN    CLIENTE SP  \n",
       "671      2025-01-29  RODRIGO PEREIRA DOS ANJOS             NaN    CLIENTE SP  \n",
       "672      2024-11-25  RODRIGO PEREIRA DOS ANJOS    VENDA DIRETA    CLIENTE SP  \n",
       "673      2024-12-23          ITALO LIMA NOVAES    VENDA DIRETA    CLIENTE SP  \n",
       "674      2025-01-16             VANESSA ARAUJO    VENDA DIRETA    CLIENTE SP  \n",
       "\n",
       "[675 rows x 17 columns]>"
      ]
     },
     "execution_count": 122,
     "metadata": {},
     "output_type": "execute_result"
    }
   ],
   "source": [
    "pendencias_geral.head"
   ]
  },
  {
   "cell_type": "code",
   "execution_count": 123,
   "metadata": {
    "colab": {
     "base_uri": "https://localhost:8080/"
    },
    "id": "tUlLUsv_nt9O",
    "outputId": "ba253d33-cd8f-49c5-d91d-89298c47b9e6"
   },
   "outputs": [
    {
     "data": {
      "text/plain": [
       "Index(['Nome 1', 'Cliente', 'Doc.vendas', 'Criado em', 'Item', 'Material',\n",
       "       'Denominação', 'Tipo material', 'Centro', 'Quantidade da ordem',\n",
       "       'Qtd.confirm.acumul.', 'Qtd.pendente', 'Unidade venda',\n",
       "       'Data de remessa', 'Criado por', 'Canal', 'Classificação'],\n",
       "      dtype='object')"
      ]
     },
     "execution_count": 123,
     "metadata": {},
     "output_type": "execute_result"
    }
   ],
   "source": [
    "pendencias_geral.columns"
   ]
  },
  {
   "cell_type": "code",
   "execution_count": 124,
   "metadata": {
    "colab": {
     "base_uri": "https://localhost:8080/"
    },
    "id": "RhCXEkBkn-IH",
    "outputId": "f71c9638-eee3-4d8f-a585-c958c53df495"
   },
   "outputs": [
    {
     "name": "stdout",
     "output_type": "stream",
     "text": [
      "               Pendências Gerais\n",
      "Material                        \n",
      "00VC200                        1\n",
      "00VD1000                       1\n",
      "019-11833-006                  2\n",
      "021-14301-208                  2\n",
      "035-14303-001                  2\n",
      "...                          ...\n",
      "V217100050                     3\n",
      "V223150004                     1\n",
      "V223170017                     2\n",
      "V234301650                     1\n",
      "V500020030                     6\n",
      "\n",
      "[540 rows x 1 columns]\n"
     ]
    }
   ],
   "source": [
    "\n",
    "tabela_dinamica_pendente = pd.pivot_table(pendencias_geral, values='Qtd.pendente', index='Material', aggfunc='sum', fill_value=0)\n",
    "\n",
    "tabela_dinamica_pendente = tabela_dinamica_pendente.rename(columns={'Qtd.pendente': 'Pendências Gerais'})\n",
    "\n",
    "print(tabela_dinamica_pendente)\n",
    "\n"
   ]
  },
  {
   "cell_type": "markdown",
   "metadata": {
    "id": "1Koc5JwAlIsj"
   },
   "source": [
    "## zstok"
   ]
  },
  {
   "cell_type": "code",
   "execution_count": 125,
   "metadata": {
    "id": "vjBPjqgdp6aB"
   },
   "outputs": [],
   "source": [
    "zstok = pd.read_excel(caminho_zstok)"
   ]
  },
  {
   "cell_type": "code",
   "execution_count": 126,
   "metadata": {
    "colab": {
     "base_uri": "https://localhost:8080/"
    },
    "id": "J9xNs_oIqE63",
    "outputId": "16958948-75a0-46b6-bb08-80f5ffb652f6"
   },
   "outputs": [
    {
     "data": {
      "text/plain": [
       "Index(['Tipo de material', 'Material', 'Descrição', 'UMB', 'Cen.', 'Dep.',\n",
       "       'Pos.dpst.', 'Utiliz.livre', 'Contr.qualid.', 'Transf.dep.',\n",
       "       'Transfer.(centro)', 'Bloqueado', 'Estoque Total', 'Reservado',\n",
       "       'Remessa->Cliente', 'SC', 'Status todos centros', 'SV',\n",
       "       'Status vendas'],\n",
       "      dtype='object')"
      ]
     },
     "execution_count": 126,
     "metadata": {},
     "output_type": "execute_result"
    }
   ],
   "source": [
    "zstok.columns"
   ]
  },
  {
   "cell_type": "code",
   "execution_count": 127,
   "metadata": {
    "colab": {
     "base_uri": "https://localhost:8080/"
    },
    "id": "5oKNJqiQqXW4",
    "outputId": "21a2b91e-4612-448e-e6e9-c1198a880375"
   },
   "outputs": [
    {
     "name": "stdout",
     "output_type": "stream",
     "text": [
      "Cen.        CE03_zstok  CE05_zstok  CE07_zstok  CE09_zstok  CE11_zstok  \\\n",
      "Material                                                                 \n",
      "08AA85512            0           0           1           1           0   \n",
      "25AA42570            0           0           0           0           2   \n",
      "26NA32870            0           0           0           0           0   \n",
      "40AA88031            0           0           0           1           0   \n",
      "4109553001           0           3           0           0           0   \n",
      "...                ...         ...         ...         ...         ...   \n",
      "AC0CR76200           0           0           0           0           0   \n",
      "AC0CR76800           0           1           0           0           1   \n",
      "AC57R70111           0           0          15          14           0   \n",
      "D00V9X001            0           0           0           0           0   \n",
      "SP00-0220            0           0           5           3           0   \n",
      "\n",
      "Cen.        CE13_zstok  \n",
      "Material                \n",
      "08AA85512            0  \n",
      "25AA42570            0  \n",
      "26NA32870            1  \n",
      "40AA88031           12  \n",
      "4109553001           0  \n",
      "...                ...  \n",
      "AC0CR76200           8  \n",
      "AC0CR76800           0  \n",
      "AC57R70111           0  \n",
      "D00V9X001            0  \n",
      "SP00-0220            0  \n",
      "\n",
      "[68 rows x 6 columns]\n"
     ]
    }
   ],
   "source": [
    "tabela_dinamica_zstok = pd.pivot_table(zstok, values='Utiliz.livre', index='Material', columns='Cen.', aggfunc='sum', fill_value=0)\n",
    "\n",
    "tabela_dinamica_zstok = tabela_dinamica_zstok.add_suffix('_zstok')\n",
    "\n",
    "print(tabela_dinamica_zstok)"
   ]
  },
  {
   "cell_type": "code",
   "execution_count": 128,
   "metadata": {
    "colab": {
     "base_uri": "https://localhost:8080/"
    },
    "id": "LZin8zUcqj6R",
    "outputId": "1c9badb8-038a-45a2-c3c7-898bb74e63ae"
   },
   "outputs": [
    {
     "name": "stdout",
     "output_type": "stream",
     "text": [
      "            Contr.qualid.\n",
      "Material                 \n",
      "08AA85512              34\n",
      "25AA42570               0\n",
      "26NA32870              11\n",
      "40AA88031              32\n",
      "4109553001              5\n",
      "...                   ...\n",
      "AC0CR76200             11\n",
      "AC0CR76800              0\n",
      "AC57R70111              4\n",
      "D00V9X001               1\n",
      "SP00-0220               1\n",
      "\n",
      "[68 rows x 1 columns]\n"
     ]
    }
   ],
   "source": [
    "tabela_dinamica_zstok_qualidade = pd.pivot_table(zstok, values='Contr.qualid.', index='Material', aggfunc='sum', fill_value=0)\n",
    "\n",
    "# Exibir a tabela dinâmica\n",
    "print(tabela_dinamica_zstok_qualidade)"
   ]
  },
  {
   "cell_type": "markdown",
   "metadata": {
    "id": "oyZA1kH0lKbC"
   },
   "source": [
    "## fup\n"
   ]
  },
  {
   "cell_type": "code",
   "execution_count": 129,
   "metadata": {
    "id": "X97OK4fSq87_"
   },
   "outputs": [],
   "source": [
    "fup = pd.read_excel(caminho_fup)"
   ]
  },
  {
   "cell_type": "code",
   "execution_count": 130,
   "metadata": {
    "colab": {
     "base_uri": "https://localhost:8080/"
    },
    "id": "mAwSMckrrGZ3",
    "outputId": "31a93d06-cb28-4594-b0c7-9d1e8e28aeeb"
   },
   "outputs": [
    {
     "data": {
      "text/plain": [
       "Index(['Nº Sequência do Embarque', 'Nº do Pedido', 'Data Pedido', 'Centro',\n",
       "       'Depósito', 'Pos.Dep.MM', 'Pos.Dep.WM', 'Cod. Fornecedor',\n",
       "       'Nome Fornecedor', 'Item', 'Saldo Pedido', 'UMP', 'UMP.1', 'UMP.2',\n",
       "       'Material', 'Texto Breve', 'Qtde Pedido', 'Vl. Total Pedido', 'Moeda',\n",
       "       'Data de Remessa', 'Data Estatística', 'Sua Referência',\n",
       "       'Nossa Referência', 'Embarque', 'Meio de Transporte', 'Meio Embarque',\n",
       "       'Nº do Conhecimento', 'Data do BL', 'Data de Chegada', 'Declaração',\n",
       "       'Dt.Registro', 'Dt.Desembaraço', 'Qtde. Desembarcada',\n",
       "       'Referência de Fatura', 'Data da Fatura', 'Valor da Fatura',\n",
       "       'Data Prev.Entrada', 'Dt. Recebimento', 'Recebimento', 'Peso Líquido',\n",
       "       'Un', 'Cód.NCM', 'Fabricante', 'Num.conversão', 'Qtd.Ped.UMB',\n",
       "       'TipoMat', 'Data total'],\n",
       "      dtype='object')"
      ]
     },
     "execution_count": 130,
     "metadata": {},
     "output_type": "execute_result"
    }
   ],
   "source": [
    "fup.columns"
   ]
  },
  {
   "cell_type": "code",
   "execution_count": 131,
   "metadata": {
    "colab": {
     "base_uri": "https://localhost:8080/"
    },
    "id": "ZQLPORuFrZqq",
    "outputId": "cb049f34-4631-4599-cc28-d437693cb6f6"
   },
   "outputs": [
    {
     "name": "stdout",
     "output_type": "stream",
     "text": [
      "Data total  2024-11-14  2025-01-06  2025-01-09  2025-01-19  2025-01-28  \\\n",
      "Material                                                                 \n",
      "08AA85512            0           0           0           0           0   \n",
      "25AA42570            0           0           0           0           0   \n",
      "26NA32870            0           2          10           0           0   \n",
      "40AA88031            0           5           0           0           0   \n",
      "4109553001           0           0           2           0           0   \n",
      "...                ...         ...         ...         ...         ...   \n",
      "AD7ER73100           0           0           0           0           0   \n",
      "ADXG590200           0           0           0           0           0   \n",
      "D00V9X001            0           0           0           0           1   \n",
      "SP00-0220            0           0           0           0           0   \n",
      "V217060003           0           0           2           0           0   \n",
      "\n",
      "Data total  2025-02-10  2025-02-11  2025-02-14  2025-02-18  2025-02-20  \\\n",
      "Material                                                                 \n",
      "08AA85512            4           0           0           0           0   \n",
      "25AA42570            0           0           0           0           0   \n",
      "26NA32870            0           0           0           4           0   \n",
      "40AA88031            0           0           0           0           0   \n",
      "4109553001           0           0           0           5           0   \n",
      "...                ...         ...         ...         ...         ...   \n",
      "AD7ER73100           0           2           0           0           0   \n",
      "ADXG590200           0           0           0           0           0   \n",
      "D00V9X001            0           0           0           0           0   \n",
      "SP00-0220            0           0           0           0           0   \n",
      "V217060003           0           0           0           0           0   \n",
      "\n",
      "Data total  2025-02-25  2025-02-28  2025-03-21  2025-03-28  2025-04-16  \n",
      "Material                                                                \n",
      "08AA85512            0           0           0           0           0  \n",
      "25AA42570            0           0           0           0           3  \n",
      "26NA32870            0           0           0           0           0  \n",
      "40AA88031            0           0           0           0           0  \n",
      "4109553001           5           0           0           0           7  \n",
      "...                ...         ...         ...         ...         ...  \n",
      "AD7ER73100           0           0           0           2           0  \n",
      "ADXG590200           0           0          15          10          10  \n",
      "D00V9X001            0           0           0           0           0  \n",
      "SP00-0220           13           0           0           0           5  \n",
      "V217060003           0           0           0           0           0  \n",
      "\n",
      "[78 rows x 15 columns]\n"
     ]
    }
   ],
   "source": [
    "fup_relevantes = fup[['Material', 'Qtde Pedido', 'Data total']].copy()\n",
    "\n",
    "fup_relevantes['Data total'] = pd.to_datetime(fup_relevantes['Data total'], errors='coerce')\n",
    "\n",
    "fup_relevantes['MesAno'] = fup_relevantes['Data total'].dt.strftime('%b/%y')\n",
    "\n",
    "tabela_dinamica_fup = pd.pivot_table(fup_relevantes, values='Qtde Pedido', index='Material', columns='Data total', aggfunc='sum', fill_value=0)\n",
    "\n",
    "print(tabela_dinamica_fup)\n",
    "\n"
   ]
  },
  {
   "cell_type": "code",
   "execution_count": 132,
   "metadata": {
    "colab": {
     "base_uri": "https://localhost:8080/"
    },
    "id": "IhIEyqhitIuj",
    "outputId": "2d90990f-ae67-44d7-c3c2-1227883fe931"
   },
   "outputs": [
    {
     "name": "stdout",
     "output_type": "stream",
     "text": [
      "Index(['08AA85512', '25AA42570', '26NA32870', '40AA88031', '4109553001',\n",
      "       '56UA77111', '56UA77260', '56UA77740', '56UA77760', '56UA77770',\n",
      "       '56UAR73900', '65AA22290', 'A00J563600', 'A03U808400', 'A0VD163400',\n",
      "       'A161897200', 'A1RF105900', 'A1RF168500', 'A1RF710900', 'A1RG684000',\n",
      "       'A4EU252000', 'A4EUR70200', 'A4EUR72K11', 'A4F3710400', 'A50U503500',\n",
      "       'A50U505800', 'A50U510100', 'A50U510200', 'A50U744000', 'A50UM10202',\n",
      "       'A50UM50200', 'A50UR70A12', 'A55C239400', 'A5AW359900', 'A5AW720200',\n",
      "       'A5AW720301', 'A5AW721700', 'A5AW744900', 'A5AW745200', 'A5AWR70F00',\n",
      "       'A5AWR71D00', 'A5AWR71R11', 'A7PUM10000', 'A8AK104100', 'A8AW161000',\n",
      "       'A92W461100', 'A92WR70C11', 'A92WR71M00', 'A9JT217400', 'A9JT500100',\n",
      "       'A9JTM10200', 'A9VE720300', 'A9VE720500', 'A9VP536600', 'A9VP748700',\n",
      "       'A9VP758000', 'A9VPR71800', 'AA1PPP0700', 'AA2J161301', 'AA2J620901',\n",
      "       'AA7NR72811', 'AC0C506000', 'AC0C720300', 'AC0C728501', 'AC0CH09011',\n",
      "       'AC0CR70622', 'AC0CR76200', 'AC0CR76800', 'AC57812200', 'AD7E127300',\n",
      "       'AD7E720400', 'AD7ER72000', 'AD7ER72911', 'AD7ER73100', 'ADXG590200',\n",
      "       'D00V9X001', 'SP00-0220', 'V217060003'],\n",
      "      dtype='object', name='Material')\n"
     ]
    }
   ],
   "source": [
    "coluna_material = tabela_dinamica_fup.index\n",
    "print(coluna_material)\n"
   ]
  },
  {
   "cell_type": "markdown",
   "metadata": {
    "id": "yDYT1LOElM9z"
   },
   "source": [
    "\n",
    "\n",
    "> Bloco com recuo\n",
    "\n"
   ]
  },
  {
   "cell_type": "markdown",
   "metadata": {
    "id": "0XgTbAT2JGgy"
   },
   "source": [
    "## ZTMM069"
   ]
  },
  {
   "cell_type": "code",
   "execution_count": 133,
   "metadata": {
    "id": "8Z_5A-snLYfW"
   },
   "outputs": [],
   "source": [
    "fob = pd.read_excel(caminho_fob)"
   ]
  },
  {
   "cell_type": "code",
   "execution_count": 134,
   "metadata": {
    "colab": {
     "base_uri": "https://localhost:8080/"
    },
    "id": "H_qd-HWALkIh",
    "outputId": "516748d8-db9e-4597-9c78-d8324a631428"
   },
   "outputs": [
    {
     "data": {
      "text/plain": [
       "<bound method NDFrame.head of        Material       Descrição (PT) Descrição (EN)  Fornecedor  \\\n",
       "0    4109553001            LIMITADOR        STOPPER       30194   \n",
       "1    4163522401      ENGRENAGEM 20 D       GEAR 20T       30194   \n",
       "2    9313110033  MOTOR DE VENTILAÇÃO      FAN MOTOR       30194   \n",
       "3     08AA85512          FOTO-SENSOR   PHOTO SENSOR       30194   \n",
       "4     13QA40610            LIMITADOR    GEAR SPACER       30194   \n",
       "..          ...                  ...            ...         ...   \n",
       "141  V121040403             PARAFUSO          screw       30194   \n",
       "142  V126030803             PARAFUSO          SCREW       30194   \n",
       "143  V217020003                 ANEL         E Ring       30194   \n",
       "144  V217060003                 ANEL         E-RING       30194   \n",
       "145  V234301050                 PINO            Pin       30194   \n",
       "\n",
       "       Nome do fornecedor  Montante Unid.  por  Vál.desde  TMat  ...  \\\n",
       "0    MARUBENI CORPORATION      0.06   USD    1 2018-04-11  PCPS  ...   \n",
       "1    MARUBENI CORPORATION      1.18   USD    5 2018-04-24  PCPS  ...   \n",
       "2    MARUBENI CORPORATION      8.35   USD    1 2018-04-11  PCPS  ...   \n",
       "3    MARUBENI CORPORATION      0.82   USD    1 2018-04-11  PCPS  ...   \n",
       "4    MARUBENI CORPORATION      0.05   USD    1 2018-04-11  PCPS  ...   \n",
       "..                    ...       ...   ...  ...        ...   ...  ...   \n",
       "141  MARUBENI CORPORATION      9.41   USD  100 2018-04-11  PCPS  ...   \n",
       "142  MARUBENI CORPORATION      4.71   USD  100 2018-04-11  PCPS  ...   \n",
       "143  MARUBENI CORPORATION      4.71   USD  100 2018-04-24  PCPS  ...   \n",
       "144  MARUBENI CORPORATION      4.71   USD  100 2018-04-24  PCPS  ...   \n",
       "145  MARUBENI CORPORATION      9.41   USD  100 2018-04-11  PCPS  ...   \n",
       "\n",
       "    Aplicação Pr GME            GrMerc.Ext  SM Status  Vál.desde.1  Criado em  \\\n",
       "0           C352  MC  Multifuncional Color NaN    NaN          NaN 2007-04-24   \n",
       "1            423  MP    Multifuncional P&B NaN    NaN          NaN 2010-12-21   \n",
       "2          C224E  MC  Multifuncional Color NaN    NaN          NaN 2006-03-15   \n",
       "3            751  MP    Multifuncional P&B NaN    NaN          NaN 2005-09-26   \n",
       "4            751  MP    Multifuncional P&B NaN    NaN          NaN 2008-01-30   \n",
       "..           ...  ..                   ...  ..    ...          ...        ...   \n",
       "141          751  PC           PP Colorida NaN    NaN          NaN 2012-02-03   \n",
       "142         C652  MC  Multifuncional Color NaN    NaN          NaN 2012-02-03   \n",
       "143          NaN  PP                PP P&B NaN    NaN          NaN 2018-03-13   \n",
       "144         C353  MC  Multifuncional Color NaN    NaN          NaN 2012-02-28   \n",
       "145        C71HC  PC           PP Colorida NaN    NaN          NaN 2015-06-30   \n",
       "\n",
       "     Criado por   ÚltModif  Modif.por  \n",
       "0      ALMOXSP1 2024-11-26     CSILVA  \n",
       "1      FERNANDA 2024-06-03  MYAMAMOTO  \n",
       "2      ALMOXSP2 2024-06-03  MYAMAMOTO  \n",
       "3      ALMOXSP2 2024-07-24     CSILVA  \n",
       "4      ALMOXSP1 2023-10-24     CSILVA  \n",
       "..          ...        ...        ...  \n",
       "141        LUIZ 2024-12-17  SSAKAGAWA  \n",
       "142        LUIZ 2024-12-17  SSAKAGAWA  \n",
       "143   JCARVALHO 2024-12-17  SSAKAGAWA  \n",
       "144        LUIZ 2024-12-17  SSAKAGAWA  \n",
       "145    FERNANDA 2024-12-17  SSAKAGAWA  \n",
       "\n",
       "[146 rows x 33 columns]>"
      ]
     },
     "execution_count": 134,
     "metadata": {},
     "output_type": "execute_result"
    }
   ],
   "source": [
    "fob.head"
   ]
  },
  {
   "cell_type": "code",
   "execution_count": 135,
   "metadata": {
    "colab": {
     "base_uri": "https://localhost:8080/"
    },
    "id": "1lTXKItfLyxm",
    "outputId": "959a436b-6a95-4ac4-adfe-af16c5b3e86b"
   },
   "outputs": [
    {
     "data": {
      "text/plain": [
       "Index(['Material', 'Descrição (PT)', 'Descrição (EN)', 'Fornecedor',\n",
       "       'Nome do fornecedor', 'Montante', 'Unid.', 'por', 'Vál.desde', 'TMat',\n",
       "       'Tipo Mat', 'SA', 'Setor de atividade', 'GrpMercads.',\n",
       "       'Grupo de mercadorias', 'BU', 'KMI Business Unit', 'PS',\n",
       "       'KMI Print Size', 'C/B', 'KMI Color/BW', 'Printing Speed',\n",
       "       'KMI Develop Name', 'Aplicação Pr', 'GME', 'GrMerc.Ext', 'SM', 'Status',\n",
       "       'Vál.desde.1', 'Criado em', 'Criado por', 'ÚltModif', 'Modif.por'],\n",
       "      dtype='object')"
      ]
     },
     "execution_count": 135,
     "metadata": {},
     "output_type": "execute_result"
    }
   ],
   "source": [
    "fob.columns"
   ]
  },
  {
   "cell_type": "code",
   "execution_count": 136,
   "metadata": {
    "colab": {
     "base_uri": "https://localhost:8080/"
    },
    "id": "QlnxxjAfL4H3",
    "outputId": "268cac4f-b0bf-4e26-e2d9-4be9cdd9b585"
   },
   "outputs": [
    {
     "name": "stdout",
     "output_type": "stream",
     "text": [
      "            Montante\n",
      "Material            \n",
      "08AA85512       0.82\n",
      "13QA40610       0.05\n",
      "25AA42570       0.47\n",
      "25AA77890       0.84\n",
      "25AAR70300      1.26\n",
      "...              ...\n",
      "V121040403      9.41\n",
      "V126030803      4.71\n",
      "V217020003      4.71\n",
      "V217060003      4.71\n",
      "V234301050      9.41\n",
      "\n",
      "[146 rows x 1 columns]\n"
     ]
    }
   ],
   "source": [
    "tabela_dinamica_fob = pd.pivot_table(fob, values='Montante', index='Material', aggfunc='sum', fill_value=0)\n",
    "\n",
    "print(tabela_dinamica_fob)"
   ]
  },
  {
   "cell_type": "markdown",
   "metadata": {
    "id": "NVf1Tr1JJKSB"
   },
   "source": [
    "## ZTMM085\n"
   ]
  },
  {
   "cell_type": "code",
   "execution_count": 137,
   "metadata": {
    "id": "3cxwZD7CMJ1v"
   },
   "outputs": [],
   "source": [
    "pecas = pd.read_excel(caminho_pecas)"
   ]
  },
  {
   "cell_type": "code",
   "execution_count": 138,
   "metadata": {
    "colab": {
     "base_uri": "https://localhost:8080/"
    },
    "id": "rzzl0CqOMUQ1",
    "outputId": "ca909e3f-f61f-42b3-8ed5-42ed6dbe703f"
   },
   "outputs": [
    {
     "data": {
      "text/plain": [
       "<bound method NDFrame.head of                Material            Descrição Tipo material  \\\n",
       "0    000000004109553001            LIMITADOR          PCPS   \n",
       "1    000000004163522401      ENGRENAGEM 20 D          PCPS   \n",
       "2    000000009313110033  MOTOR DE VENTILAÇÃO          PCPS   \n",
       "3             08AA85512          FOTO-SENSOR          PCPS   \n",
       "4             13QA40610            LIMITADOR          PCPS   \n",
       "..                  ...                  ...           ...   \n",
       "146          V121040403             PARAFUSO          PCPS   \n",
       "147          V126030803             PARAFUSO          PCPS   \n",
       "148          V217020003                 ANEL          PCPS   \n",
       "149          V217060003                 ANEL          PCPS   \n",
       "150          V234301050                 PINO          PCPS   \n",
       "\n",
       "             Txt Tipo material  GrpMerc Denom. Grupo Merc.  Stat.centros  \\\n",
       "0    Produto Coml-Peça-SPO/MAO       50              Parts           NaN   \n",
       "1    Produto Coml-Peça-SPO/MAO       50              Parts           NaN   \n",
       "2    Produto Coml-Peça-SPO/MAO       50              Parts           NaN   \n",
       "3    Produto Coml-Peça-SPO/MAO       50              Parts           NaN   \n",
       "4    Produto Coml-Peça-SPO/MAO       50              Parts           NaN   \n",
       "..                         ...      ...                ...           ...   \n",
       "146  Produto Coml-Peça-SPO/MAO       50              Parts           NaN   \n",
       "147  Produto Coml-Peça-SPO/MAO       50              Parts           NaN   \n",
       "148  Produto Coml-Peça-SPO/MAO       50              Parts           NaN   \n",
       "149  Produto Coml-Peça-SPO/MAO       50              Parts           NaN   \n",
       "150  Produto Coml-Peça-SPO/MAO       50              Parts           NaN   \n",
       "\n",
       "     Status p/todos centros  Stat.canais Status p/todos canais  \\\n",
       "0                       NaN          NaN                   NaN   \n",
       "1                       NaN          NaN                   NaN   \n",
       "2                       NaN          NaN                   NaN   \n",
       "3                       NaN          NaN                   NaN   \n",
       "4                       NaN          NaN                   NaN   \n",
       "..                      ...          ...                   ...   \n",
       "146                     NaN          NaN                   NaN   \n",
       "147                     NaN          NaN                   NaN   \n",
       "148                     NaN          NaN                   NaN   \n",
       "149                     NaN          NaN                   NaN   \n",
       "150                     NaN          NaN                   NaN   \n",
       "\n",
       "                                 Modelos Lista Técnica  \n",
       "0    8050/ACCURIOLABEL 190/BIZHUB PRESS C71CF/ACCUR...  \n",
       "1    BIZHUB 250/BIZHUB 282/BIZHUB 283/BIZHUB 350/BI...  \n",
       "2    ACCURIOLABEL 190/BIZHUB PRESS C71CF/ACCURIOLAB...  \n",
       "3    7020/7025/7030/7075/7085/7255/7272/8050/ACCURI...  \n",
       "4    8050/ACCURIOLABEL 190/BIZHUB PRESS C71CF/ACCUR...  \n",
       "..                                                 ...  \n",
       "146  ACCURIOLABEL 190/BIZHUB PRESS C71CF/ACCURIOLAB...  \n",
       "147  ACCURIOPRESS 6136P/ACCURIOPRESS 7136P/ACCURIOP...  \n",
       "148  ACCURIOLABEL 230/ACCURIOLABEL 400/ACCURIOPRESS...  \n",
       "149  ACCURIOLABEL 230/ACCURIOLABEL 400/ACCURIOPRESS...  \n",
       "150  ACCURIOLABEL 190/BIZHUB PRESS C71CF/ACCURIOLAB...  \n",
       "\n",
       "[151 rows x 11 columns]>"
      ]
     },
     "execution_count": 138,
     "metadata": {},
     "output_type": "execute_result"
    }
   ],
   "source": [
    "pecas.head"
   ]
  },
  {
   "cell_type": "code",
   "execution_count": 139,
   "metadata": {
    "colab": {
     "base_uri": "https://localhost:8080/"
    },
    "id": "Jmt1fwl5MX1e",
    "outputId": "8f41556a-8fdd-41ff-dd21-ce5a872001a9"
   },
   "outputs": [
    {
     "data": {
      "text/plain": [
       "Index(['Material', 'Descrição', 'Tipo material', 'Txt Tipo material',\n",
       "       'GrpMerc', 'Denom. Grupo Merc.', 'Stat.centros',\n",
       "       'Status p/todos centros', 'Stat.canais', 'Status p/todos canais',\n",
       "       'Modelos Lista Técnica'],\n",
       "      dtype='object')"
      ]
     },
     "execution_count": 139,
     "metadata": {},
     "output_type": "execute_result"
    }
   ],
   "source": [
    "pecas.columns"
   ]
  },
  {
   "cell_type": "code",
   "execution_count": 140,
   "metadata": {
    "colab": {
     "base_uri": "https://localhost:8080/"
    },
    "id": "dcXHkX_sMaZN",
    "outputId": "71e35be8-b16f-4a58-da73-53aa21222936"
   },
   "outputs": [
    {
     "name": "stdout",
     "output_type": "stream",
     "text": [
      "                                                Modelos Lista Técnica\n",
      "Material                                                             \n",
      "000000004109553001  8050/ACCURIOLABEL 190/BIZHUB PRESS C71CF/ACCUR...\n",
      "000000004163522401  BIZHUB 250/BIZHUB 282/BIZHUB 283/BIZHUB 350/BI...\n",
      "000000009313110033  ACCURIOLABEL 190/BIZHUB PRESS C71CF/ACCURIOLAB...\n",
      "08AA85512           7020/7025/7030/7075/7085/7255/7272/8050/ACCURI...\n",
      "13QA40610           8050/ACCURIOLABEL 190/BIZHUB PRESS C71CF/ACCUR...\n",
      "...                                                               ...\n",
      "V121040403          ACCURIOLABEL 190/BIZHUB PRESS C71CF/ACCURIOLAB...\n",
      "V126030803          ACCURIOPRESS 6136P/ACCURIOPRESS 7136P/ACCURIOP...\n",
      "V217020003          ACCURIOLABEL 230/ACCURIOLABEL 400/ACCURIOPRESS...\n",
      "V217060003          ACCURIOLABEL 230/ACCURIOLABEL 400/ACCURIOPRESS...\n",
      "V234301050          ACCURIOLABEL 190/BIZHUB PRESS C71CF/ACCURIOLAB...\n",
      "\n",
      "[151 rows x 1 columns]\n"
     ]
    }
   ],
   "source": [
    "tabela_dinamica_pecas = pd.pivot_table(pecas, values='Modelos Lista Técnica', index='Material', aggfunc='sum', fill_value=0)\n",
    "\n",
    "print(tabela_dinamica_pecas)"
   ]
  },
  {
   "cell_type": "markdown",
   "metadata": {
    "id": "TzPPMAA_jAuT"
   },
   "source": []
  },
  {
   "cell_type": "code",
   "execution_count": null,
   "metadata": {
    "id": "hSdvAHrgi_0y"
   },
   "outputs": [],
   "source": []
  },
  {
   "cell_type": "markdown",
   "metadata": {
    "id": "HBe_enGOjCLL"
   },
   "source": [
    "## codigos atuais"
   ]
  },
  {
   "cell_type": "code",
   "execution_count": 141,
   "metadata": {
    "id": "gGSI_oJ0jGK-"
   },
   "outputs": [],
   "source": [
    "atuais = pd.read_excel(caminho_atuais)"
   ]
  },
  {
   "cell_type": "code",
   "execution_count": 142,
   "metadata": {
    "colab": {
     "base_uri": "https://localhost:8080/"
    },
    "id": "Xw4mM0Rsk3SY",
    "outputId": "2adbef34-e3dc-4eef-abe3-dbcd59deb424"
   },
   "outputs": [
    {
     "data": {
      "text/html": [
       "<div>\n",
       "<style scoped>\n",
       "    .dataframe tbody tr th:only-of-type {\n",
       "        vertical-align: middle;\n",
       "    }\n",
       "\n",
       "    .dataframe tbody tr th {\n",
       "        vertical-align: top;\n",
       "    }\n",
       "\n",
       "    .dataframe thead th {\n",
       "        text-align: right;\n",
       "    }\n",
       "</style>\n",
       "<table border=\"1\" class=\"dataframe\">\n",
       "  <thead>\n",
       "    <tr style=\"text-align: right;\">\n",
       "      <th></th>\n",
       "      <th>Atual</th>\n",
       "      <th>Material</th>\n",
       "      <th>Similar1</th>\n",
       "      <th>Similar2</th>\n",
       "      <th>Similar3</th>\n",
       "      <th>Similar4</th>\n",
       "      <th>Unnamed: 6</th>\n",
       "      <th>Unnamed: 7</th>\n",
       "      <th>Unnamed: 8</th>\n",
       "    </tr>\n",
       "  </thead>\n",
       "  <tbody>\n",
       "    <tr>\n",
       "      <th>0</th>\n",
       "      <td>4109553001</td>\n",
       "      <td>4109553001</td>\n",
       "      <td>-</td>\n",
       "      <td>-</td>\n",
       "      <td>-</td>\n",
       "      <td>-</td>\n",
       "      <td>NaN</td>\n",
       "      <td>NaN</td>\n",
       "      <td>NaN</td>\n",
       "    </tr>\n",
       "    <tr>\n",
       "      <th>1</th>\n",
       "      <td>4163522401</td>\n",
       "      <td>4163522401</td>\n",
       "      <td>-</td>\n",
       "      <td>-</td>\n",
       "      <td>-</td>\n",
       "      <td>-</td>\n",
       "      <td>NaN</td>\n",
       "      <td>NaN</td>\n",
       "      <td>NaN</td>\n",
       "    </tr>\n",
       "    <tr>\n",
       "      <th>2</th>\n",
       "      <td>9313110033</td>\n",
       "      <td>9313110033</td>\n",
       "      <td>-</td>\n",
       "      <td>-</td>\n",
       "      <td>-</td>\n",
       "      <td>-</td>\n",
       "      <td>NaN</td>\n",
       "      <td>NaN</td>\n",
       "      <td>NaN</td>\n",
       "    </tr>\n",
       "    <tr>\n",
       "      <th>3</th>\n",
       "      <td>08AA85512</td>\n",
       "      <td>08AA85512</td>\n",
       "      <td>08AA85510</td>\n",
       "      <td>4014102301</td>\n",
       "      <td>-</td>\n",
       "      <td>-</td>\n",
       "      <td>NaN</td>\n",
       "      <td>NaN</td>\n",
       "      <td>NaN</td>\n",
       "    </tr>\n",
       "    <tr>\n",
       "      <th>4</th>\n",
       "      <td>13QA40610</td>\n",
       "      <td>13QA40610</td>\n",
       "      <td>-</td>\n",
       "      <td>-</td>\n",
       "      <td>-</td>\n",
       "      <td>-</td>\n",
       "      <td>NaN</td>\n",
       "      <td>NaN</td>\n",
       "      <td>NaN</td>\n",
       "    </tr>\n",
       "    <tr>\n",
       "      <th>...</th>\n",
       "      <td>...</td>\n",
       "      <td>...</td>\n",
       "      <td>...</td>\n",
       "      <td>...</td>\n",
       "      <td>...</td>\n",
       "      <td>...</td>\n",
       "      <td>...</td>\n",
       "      <td>...</td>\n",
       "      <td>...</td>\n",
       "    </tr>\n",
       "    <tr>\n",
       "      <th>144</th>\n",
       "      <td>V121040403</td>\n",
       "      <td>V121040403</td>\n",
       "      <td>-</td>\n",
       "      <td>-</td>\n",
       "      <td>-</td>\n",
       "      <td>-</td>\n",
       "      <td>NaN</td>\n",
       "      <td>NaN</td>\n",
       "      <td>NaN</td>\n",
       "    </tr>\n",
       "    <tr>\n",
       "      <th>145</th>\n",
       "      <td>V126030803</td>\n",
       "      <td>V126030803</td>\n",
       "      <td>-</td>\n",
       "      <td>-</td>\n",
       "      <td>-</td>\n",
       "      <td>-</td>\n",
       "      <td>NaN</td>\n",
       "      <td>NaN</td>\n",
       "      <td>NaN</td>\n",
       "    </tr>\n",
       "    <tr>\n",
       "      <th>146</th>\n",
       "      <td>V217020003</td>\n",
       "      <td>V217020003</td>\n",
       "      <td>-</td>\n",
       "      <td>-</td>\n",
       "      <td>-</td>\n",
       "      <td>-</td>\n",
       "      <td>NaN</td>\n",
       "      <td>NaN</td>\n",
       "      <td>NaN</td>\n",
       "    </tr>\n",
       "    <tr>\n",
       "      <th>147</th>\n",
       "      <td>V217060003</td>\n",
       "      <td>V217060003</td>\n",
       "      <td>-</td>\n",
       "      <td>-</td>\n",
       "      <td>-</td>\n",
       "      <td>-</td>\n",
       "      <td>NaN</td>\n",
       "      <td>NaN</td>\n",
       "      <td>NaN</td>\n",
       "    </tr>\n",
       "    <tr>\n",
       "      <th>148</th>\n",
       "      <td>V234301050</td>\n",
       "      <td>V234301050</td>\n",
       "      <td>-</td>\n",
       "      <td>-</td>\n",
       "      <td>-</td>\n",
       "      <td>-</td>\n",
       "      <td>NaN</td>\n",
       "      <td>NaN</td>\n",
       "      <td>NaN</td>\n",
       "    </tr>\n",
       "  </tbody>\n",
       "</table>\n",
       "<p>149 rows × 9 columns</p>\n",
       "</div>"
      ],
      "text/plain": [
       "          Atual    Material   Similar1    Similar2 Similar3 Similar4  \\\n",
       "0    4109553001  4109553001          -           -        -        -   \n",
       "1    4163522401  4163522401          -           -        -        -   \n",
       "2    9313110033  9313110033          -           -        -        -   \n",
       "3     08AA85512   08AA85512  08AA85510  4014102301        -        -   \n",
       "4     13QA40610   13QA40610          -           -        -        -   \n",
       "..          ...         ...        ...         ...      ...      ...   \n",
       "144  V121040403  V121040403          -           -        -        -   \n",
       "145  V126030803  V126030803          -           -        -        -   \n",
       "146  V217020003  V217020003          -           -        -        -   \n",
       "147  V217060003  V217060003          -           -        -        -   \n",
       "148  V234301050  V234301050          -           -        -        -   \n",
       "\n",
       "     Unnamed: 6  Unnamed: 7 Unnamed: 8  \n",
       "0           NaN         NaN        NaN  \n",
       "1           NaN         NaN        NaN  \n",
       "2           NaN         NaN        NaN  \n",
       "3           NaN         NaN        NaN  \n",
       "4           NaN         NaN        NaN  \n",
       "..          ...         ...        ...  \n",
       "144         NaN         NaN        NaN  \n",
       "145         NaN         NaN        NaN  \n",
       "146         NaN         NaN        NaN  \n",
       "147         NaN         NaN        NaN  \n",
       "148         NaN         NaN        NaN  \n",
       "\n",
       "[149 rows x 9 columns]"
      ]
     },
     "execution_count": 142,
     "metadata": {},
     "output_type": "execute_result"
    }
   ],
   "source": [
    "atuais"
   ]
  },
  {
   "cell_type": "code",
   "execution_count": 143,
   "metadata": {
    "colab": {
     "base_uri": "https://localhost:8080/"
    },
    "id": "M93y7tkvlPyx",
    "outputId": "ae148223-39a9-455c-f97d-bae566a23b00"
   },
   "outputs": [
    {
     "data": {
      "text/plain": [
       "Index(['Atual', 'Material', 'Similar1', 'Similar2', 'Similar3', 'Similar4',\n",
       "       'Unnamed: 6', 'Unnamed: 7', 'Unnamed: 8'],\n",
       "      dtype='object')"
      ]
     },
     "execution_count": 143,
     "metadata": {},
     "output_type": "execute_result"
    }
   ],
   "source": [
    "atuais.columns"
   ]
  },
  {
   "cell_type": "code",
   "execution_count": 144,
   "metadata": {
    "colab": {
     "base_uri": "https://localhost:8080/"
    },
    "id": "Ym54xRgBrUo3",
    "outputId": "715a8115-9a14-4b78-e94e-f88a6a011379"
   },
   "outputs": [
    {
     "name": "stdout",
     "output_type": "stream",
     "text": [
      "          Atual    Material    Similar1    Similar2 Similar3 Similar4  \\\n",
      "3     08AA85512   08AA85512   08AA85510  4014102301        -        -   \n",
      "5     25AA42570   25AA42570        1223           -        -        -   \n",
      "9     26NA32870   26NA32870           -           -        -        -   \n",
      "10    40AA88031   40AA88031   40AA88030  4014174201        -        -   \n",
      "13    56UA77111   56UA77111   56UA77110           -        -        -   \n",
      "..          ...         ...         ...         ...      ...      ...   \n",
      "139  AD7ER73100  AD7ER73100           -           -        -        -   \n",
      "141  ADXG590200  ADXG590200  A00F623201  A00F623200        -        -   \n",
      "142   D00V9X001   D00V9X001           -           -        -        -   \n",
      "143   SP00-0220   SP00-0220           -           -        -        -   \n",
      "147  V217060003  V217060003           -           -        -        -   \n",
      "\n",
      "     Unnamed: 6  Unnamed: 7 Unnamed: 8  \n",
      "3           NaN         NaN        NaN  \n",
      "5           NaN         NaN        NaN  \n",
      "9           NaN         NaN        NaN  \n",
      "10          NaN         NaN        NaN  \n",
      "13          NaN         NaN        NaN  \n",
      "..          ...         ...        ...  \n",
      "139         NaN         NaN        NaN  \n",
      "141         NaN         NaN        NaN  \n",
      "142         NaN         NaN        NaN  \n",
      "143         NaN         NaN        NaN  \n",
      "147         NaN         NaN        NaN  \n",
      "\n",
      "[77 rows x 9 columns]\n"
     ]
    }
   ],
   "source": [
    "resultados_filtrados = atuais[atuais['Atual'].isin(coluna_material)]\n",
    "\n",
    "tabela_resultados = pd.DataFrame(resultados_filtrados)\n",
    "\n",
    "print(tabela_resultados)"
   ]
  },
  {
   "cell_type": "code",
   "execution_count": 145,
   "metadata": {
    "colab": {
     "base_uri": "https://localhost:8080/"
    },
    "id": "RgRZiVAF0gEO",
    "outputId": "b5c38326-6a25-493e-f817-6ae9433cefac"
   },
   "outputs": [
    {
     "name": "stdout",
     "output_type": "stream",
     "text": [
      "              Material    Similar1    Similar2 Similar3 Similar4  Unnamed: 6  \\\n",
      "Atual                                                                          \n",
      "08AA85512    08AA85512   08AA85510  4014102301        -        -         NaN   \n",
      "25AA42570    25AA42570        1223           -        -        -         NaN   \n",
      "26NA32870    26NA32870           -           -        -        -         NaN   \n",
      "40AA88031    40AA88031   40AA88030  4014174201        -        -         NaN   \n",
      "56UA77111    56UA77111   56UA77110           -        -        -         NaN   \n",
      "...                ...         ...         ...      ...      ...         ...   \n",
      "AD7ER73100  AD7ER73100           -           -        -        -         NaN   \n",
      "ADXG590200  ADXG590200  A00F623201  A00F623200        -        -         NaN   \n",
      "D00V9X001    D00V9X001           -           -        -        -         NaN   \n",
      "SP00-0220    SP00-0220           -           -        -        -         NaN   \n",
      "V217060003  V217060003           -           -        -        -         NaN   \n",
      "\n",
      "            Unnamed: 7 Unnamed: 8  \n",
      "Atual                              \n",
      "08AA85512          NaN        NaN  \n",
      "25AA42570          NaN        NaN  \n",
      "26NA32870          NaN        NaN  \n",
      "40AA88031          NaN        NaN  \n",
      "56UA77111          NaN        NaN  \n",
      "...                ...        ...  \n",
      "AD7ER73100         NaN        NaN  \n",
      "ADXG590200         NaN        NaN  \n",
      "D00V9X001          NaN        NaN  \n",
      "SP00-0220          NaN        NaN  \n",
      "V217060003         NaN        NaN  \n",
      "\n",
      "[77 rows x 8 columns]\n"
     ]
    }
   ],
   "source": [
    "tabela_resultados = tabela_resultados.set_index(tabela_resultados.columns[0])\n",
    "\n",
    "print(tabela_resultados)"
   ]
  },
  {
   "cell_type": "code",
   "execution_count": null,
   "metadata": {
    "id": "cmiqM9VUvbUM"
   },
   "outputs": [],
   "source": []
  },
  {
   "cell_type": "code",
   "execution_count": null,
   "metadata": {
    "id": "RvsAkUNDvbTI"
   },
   "outputs": [],
   "source": []
  },
  {
   "cell_type": "markdown",
   "metadata": {
    "id": "6xRNfQGJyK1v"
   },
   "source": [
    "## Classificação de peças"
   ]
  },
  {
   "cell_type": "code",
   "execution_count": 146,
   "metadata": {
    "id": "pdep8rVnyRQN"
   },
   "outputs": [],
   "source": [
    "classificacao = pd.read_excel(caminho_classificacao, sheet_name='consumable parts')"
   ]
  },
  {
   "cell_type": "code",
   "execution_count": 147,
   "metadata": {
    "colab": {
     "base_uri": "https://localhost:8080/"
    },
    "id": "Omok9dAmy4lN",
    "outputId": "af5895a3-ae25-40f9-81b9-4fce24a99223"
   },
   "outputs": [
    {
     "data": {
      "text/plain": [
       "<bound method NDFrame.head of           Código                                   Aplicação Modelo  \\\n",
       "0     A92WR70100                                              C6100   \n",
       "1     65AAR75600  8050/ C14000/ C6100/ C1085/ C1100/ C8000/ C500...   \n",
       "2     A1RF520400                 C14000/ C6100/ C1085/ C1100/ C8000   \n",
       "3     A1RF531600                                C6100/ C1085/ C1100   \n",
       "4     A1RF532800                 C14000/ C6100/ C1085/ C1100/ C8000   \n",
       "...          ...                                                ...   \n",
       "2104  AC4K701900                                             MB-511   \n",
       "2105  A79A603400                                             MB-511   \n",
       "2106  A0GDR70111                                             PF-712   \n",
       "2107  A11U560000                                              4051i   \n",
       "2108  A5AW728500                         C6100/ C1085/ C1100/EF-104   \n",
       "\n",
       "       Cód.Atual    Similar1    Similar2 Similar3 Similar4 Similar5 Similar6  \\\n",
       "0     A92WR70100           -           -        -        -        -        -   \n",
       "1     65AAR75600   65AA-2930           -        -        -        -        -   \n",
       "2     A1RF520400           -           -        -        -        -        -   \n",
       "3     A1RF531600           -           -        -        -        -        -   \n",
       "4     A1RF532800        4109           -        -        -        -        -   \n",
       "...          ...         ...         ...      ...      ...      ...      ...   \n",
       "2104  AC4K701900           -           -        -        -        -        -   \n",
       "2105  A79A603400           -           -        -        -        -        -   \n",
       "2106  A0GDR70111  A0GDR70100           -        -        -        -        -   \n",
       "2107  A11U560000           -           -        -        -        -        -   \n",
       "2108  A5AW720301  A5AW728500  A5AW720300        -        -        -        -   \n",
       "\n",
       "     Similar7 Similar7.1 Durabilidade                     Unnamed: 12  \n",
       "0           -          -          Sim                   C6100 / C1100  \n",
       "1           -          -          Sim                   C6100 / C1100  \n",
       "2           -          -          Sim                   C6100 / C1100  \n",
       "3           -          -          Sim                   C6100 / C1100  \n",
       "4           -          -          Sim                   C6100 / C1100  \n",
       "...       ...        ...          ...                             ...  \n",
       "2104        -          -          Sim  Acrescentado 12.07.24 - Carlos  \n",
       "2105        -          -          Sim  Acrescentado 12.07.24 - Carlos  \n",
       "2106        -          -          Sim  Acrescentado 12.07.24 - Carlos  \n",
       "2107        -          -          Sim  Acrescentado 12.07.24 - Carlos  \n",
       "2108        -          -          Sim  Acrescentado 15.08.24 - Carlos  \n",
       "\n",
       "[2109 rows x 13 columns]>"
      ]
     },
     "execution_count": 147,
     "metadata": {},
     "output_type": "execute_result"
    }
   ],
   "source": [
    "classificacao.head"
   ]
  },
  {
   "cell_type": "code",
   "execution_count": 148,
   "metadata": {
    "colab": {
     "base_uri": "https://localhost:8080/"
    },
    "id": "8loQBBC8zmTC",
    "outputId": "22e5d1b2-8c42-4449-cebd-2df17c719ca6"
   },
   "outputs": [
    {
     "data": {
      "text/plain": [
       "Index(['Código', 'Aplicação Modelo', 'Cód.Atual', 'Similar1', 'Similar2',\n",
       "       'Similar3', 'Similar4', 'Similar5', 'Similar6', 'Similar7',\n",
       "       'Similar7.1', 'Durabilidade', 'Unnamed: 12'],\n",
       "      dtype='object')"
      ]
     },
     "execution_count": 148,
     "metadata": {},
     "output_type": "execute_result"
    }
   ],
   "source": [
    "classificacao.columns"
   ]
  },
  {
   "cell_type": "code",
   "execution_count": 149,
   "metadata": {
    "colab": {
     "base_uri": "https://localhost:8080/"
    },
    "id": "3DNnf2bLzhg6",
    "outputId": "d6daab57-3e78-4090-ee66-be3ee3d66a11"
   },
   "outputs": [
    {
     "name": "stdout",
     "output_type": "stream",
     "text": [
      "           Durabilidade\n",
      "Código                 \n",
      "4049521             Sim\n",
      "4049522             Sim\n",
      "4049524             Sim\n",
      "454053391           Sim\n",
      "454075040           Sim\n",
      "...                 ...\n",
      "AE1KR70600          Sim\n",
      "SP00-0210           Sim\n",
      "SP00-0220           Sim\n",
      "V218060086          Sim\n",
      "V234301250          Sim\n",
      "\n",
      "[1408 rows x 1 columns]\n"
     ]
    }
   ],
   "source": [
    "tabela_dinamica_classificacao = pd.pivot_table(classificacao, values='Durabilidade', index='Código', aggfunc='first', fill_value=0)\n",
    "\n",
    "print(tabela_dinamica_classificacao)"
   ]
  },
  {
   "cell_type": "markdown",
   "metadata": {
    "id": "bivdLhPFuCnC"
   },
   "source": [
    "## juntando tabelas\n"
   ]
  },
  {
   "cell_type": "markdown",
   "metadata": {
    "id": "ZzgNa0NMw2Oe"
   },
   "source": [
    "juntando pendencias"
   ]
  },
  {
   "cell_type": "code",
   "execution_count": 150,
   "metadata": {
    "colab": {
     "base_uri": "https://localhost:8080/"
    },
    "id": "LI3Bn5znuKzn",
    "outputId": "8c0500c0-9782-485a-edcb-f5593a12b3fb"
   },
   "outputs": [
    {
     "name": "stdout",
     "output_type": "stream",
     "text": [
      "            CE03_zva70  CE04_zva70  CE05_zva70  CE11_zva70  CE13_zva70  \\\n",
      "Material                                                                 \n",
      "08AA85512            0           0           0           1           0   \n",
      "13QA40610            0           0           0           9           0   \n",
      "25AA42570            0           0           0           4           0   \n",
      "25AA77890            0           0           0           1           0   \n",
      "25AAR70300           0           0           0           1           0   \n",
      "...                ...         ...         ...         ...         ...   \n",
      "V121040403           0           0           0           4           0   \n",
      "V126030803           0           0           0           2           0   \n",
      "V217020003           0           0           0           2           0   \n",
      "V217060003           0           0           0           2           0   \n",
      "V234301050           0           0           0           2           0   \n",
      "\n",
      "                     Denominação                        Criado por  \\\n",
      "Material                                                             \n",
      "08AA85512            FOTO-SENSOR         MARIANA PEREIRA DOS ANJOS   \n",
      "13QA40610              LIMITADOR  REGILENE DE CASSIA LUIZ OLIVEIRA   \n",
      "25AA42570          POLIA DO CABO             JESSIE OLIVEIRA SILVA   \n",
      "25AA77890   ENGRENAGEM 36 DENTES  REGILENE DE CASSIA LUIZ OLIVEIRA   \n",
      "25AAR70300                   FIO             JESSIE OLIVEIRA SILVA   \n",
      "...                          ...                               ...   \n",
      "V121040403              PARAFUSO       JULIA MARIA MORETO DA SILVA   \n",
      "V126030803              PARAFUSO       JULIA MARIA MORETO DA SILVA   \n",
      "V217020003                  ANEL       JULIA MARIA MORETO DA SILVA   \n",
      "V217060003                  ANEL  REGILENE DE CASSIA LUIZ OLIVEIRA   \n",
      "V234301050                  PINO       JULIA MARIA MORETO DA SILVA   \n",
      "\n",
      "                     Canal  Pendências Gerais  \n",
      "Material                                       \n",
      "08AA85512   VENDA INDIRETA                0.0  \n",
      "13QA40610     VENDA DIRETA                0.0  \n",
      "25AA42570     VENDA DIRETA                6.0  \n",
      "25AA77890     VENDA DIRETA                0.0  \n",
      "25AAR70300    VENDA DIRETA                0.0  \n",
      "...                    ...                ...  \n",
      "V121040403    VENDA DIRETA                0.0  \n",
      "V126030803    VENDA DIRETA                0.0  \n",
      "V217020003    VENDA DIRETA                0.0  \n",
      "V217060003    VENDA DIRETA                4.0  \n",
      "V234301050    VENDA DIRETA                0.0  \n",
      "\n",
      "[151 rows x 9 columns]\n"
     ]
    }
   ],
   "source": [
    "merged_table_pend = _table_pend.merge(tabela_dinamica_pendente, how='left', left_index=True, right_index=True)\n",
    "\n",
    "merged_table_pend = merged_table_pend.fillna(0)\n",
    "\n",
    "print(merged_table_pend)\n"
   ]
  },
  {
   "cell_type": "code",
   "execution_count": 151,
   "metadata": {
    "colab": {
     "base_uri": "https://localhost:8080/"
    },
    "id": "AKf46nHiuxjp",
    "outputId": "acbad665-9081-440d-c6f1-1a35169b9d9f"
   },
   "outputs": [
    {
     "data": {
      "text/plain": [
       "Index(['CE03_zva70', 'CE04_zva70', 'CE05_zva70', 'CE11_zva70', 'CE13_zva70',\n",
       "       'Denominação', 'Criado por', 'Canal', 'Pendências Gerais'],\n",
       "      dtype='object')"
      ]
     },
     "execution_count": 151,
     "metadata": {},
     "output_type": "execute_result"
    }
   ],
   "source": [
    "merged_table_pend.columns"
   ]
  },
  {
   "cell_type": "markdown",
   "metadata": {
    "id": "ci51sme8uHd4"
   },
   "source": [
    "juntando zstok"
   ]
  },
  {
   "cell_type": "code",
   "execution_count": 152,
   "metadata": {
    "colab": {
     "base_uri": "https://localhost:8080/"
    },
    "id": "qvyGn4s5w--B",
    "outputId": "3578f1ac-d4df-4aeb-a532-3767bf4f14ed"
   },
   "outputs": [
    {
     "name": "stdout",
     "output_type": "stream",
     "text": [
      "            CE03_zstok  CE05_zstok  CE07_zstok  CE09_zstok  CE11_zstok  \\\n",
      "Material                                                                 \n",
      "08AA85512            0           0           1           1           0   \n",
      "25AA42570            0           0           0           0           2   \n",
      "26NA32870            0           0           0           0           0   \n",
      "40AA88031            0           0           0           1           0   \n",
      "4109553001           0           3           0           0           0   \n",
      "...                ...         ...         ...         ...         ...   \n",
      "AC0CR76200           0           0           0           0           0   \n",
      "AC0CR76800           0           1           0           0           1   \n",
      "AC57R70111           0           0          15          14           0   \n",
      "D00V9X001            0           0           0           0           0   \n",
      "SP00-0220            0           0           5           3           0   \n",
      "\n",
      "            CE13_zstok  Contr.qualid.  \n",
      "Material                               \n",
      "08AA85512            0             34  \n",
      "25AA42570            0              0  \n",
      "26NA32870            1             11  \n",
      "40AA88031           12             32  \n",
      "4109553001           0              5  \n",
      "...                ...            ...  \n",
      "AC0CR76200           8             11  \n",
      "AC0CR76800           0              0  \n",
      "AC57R70111           0              4  \n",
      "D00V9X001            0              1  \n",
      "SP00-0220            0              1  \n",
      "\n",
      "[68 rows x 7 columns]\n"
     ]
    }
   ],
   "source": [
    "merged_table_zstok = tabela_dinamica_zstok.merge(tabela_dinamica_zstok_qualidade, how='left', left_index=True, right_index=True)\n",
    "\n",
    "merged_table_zstok = merged_table_zstok.fillna(0)\n",
    "\n",
    "print(merged_table_zstok)"
   ]
  },
  {
   "cell_type": "markdown",
   "metadata": {
    "id": "LYJYChyyxjqz"
   },
   "source": [
    "juntando pend com zstok"
   ]
  },
  {
   "cell_type": "code",
   "execution_count": 153,
   "metadata": {
    "colab": {
     "base_uri": "https://localhost:8080/"
    },
    "id": "_HdLYaYpxdn_",
    "outputId": "ceb9c759-8a39-47c8-f2b1-6b3de627566e"
   },
   "outputs": [
    {
     "name": "stdout",
     "output_type": "stream",
     "text": [
      "            CE03_zva70  CE04_zva70  CE05_zva70  CE11_zva70  CE13_zva70  \\\n",
      "Material                                                                 \n",
      "08AA85512            0           0           0           1           0   \n",
      "13QA40610            0           0           0           9           0   \n",
      "25AA42570            0           0           0           4           0   \n",
      "25AA77890            0           0           0           1           0   \n",
      "25AAR70300           0           0           0           1           0   \n",
      "...                ...         ...         ...         ...         ...   \n",
      "V121040403           0           0           0           4           0   \n",
      "V126030803           0           0           0           2           0   \n",
      "V217020003           0           0           0           2           0   \n",
      "V217060003           0           0           0           2           0   \n",
      "V234301050           0           0           0           2           0   \n",
      "\n",
      "                     Denominação                        Criado por  \\\n",
      "Material                                                             \n",
      "08AA85512            FOTO-SENSOR         MARIANA PEREIRA DOS ANJOS   \n",
      "13QA40610              LIMITADOR  REGILENE DE CASSIA LUIZ OLIVEIRA   \n",
      "25AA42570          POLIA DO CABO             JESSIE OLIVEIRA SILVA   \n",
      "25AA77890   ENGRENAGEM 36 DENTES  REGILENE DE CASSIA LUIZ OLIVEIRA   \n",
      "25AAR70300                   FIO             JESSIE OLIVEIRA SILVA   \n",
      "...                          ...                               ...   \n",
      "V121040403              PARAFUSO       JULIA MARIA MORETO DA SILVA   \n",
      "V126030803              PARAFUSO       JULIA MARIA MORETO DA SILVA   \n",
      "V217020003                  ANEL       JULIA MARIA MORETO DA SILVA   \n",
      "V217060003                  ANEL  REGILENE DE CASSIA LUIZ OLIVEIRA   \n",
      "V234301050                  PINO       JULIA MARIA MORETO DA SILVA   \n",
      "\n",
      "                     Canal  Pendências Gerais  CE03_zstok  CE05_zstok  \\\n",
      "Material                                                                \n",
      "08AA85512   VENDA INDIRETA                0.0         0.0         0.0   \n",
      "13QA40610     VENDA DIRETA                0.0         0.0         0.0   \n",
      "25AA42570     VENDA DIRETA                6.0         0.0         0.0   \n",
      "25AA77890     VENDA DIRETA                0.0         0.0         0.0   \n",
      "25AAR70300    VENDA DIRETA                0.0         0.0         0.0   \n",
      "...                    ...                ...         ...         ...   \n",
      "V121040403    VENDA DIRETA                0.0         0.0         0.0   \n",
      "V126030803    VENDA DIRETA                0.0         0.0         0.0   \n",
      "V217020003    VENDA DIRETA                0.0         0.0         0.0   \n",
      "V217060003    VENDA DIRETA                4.0         0.0         0.0   \n",
      "V234301050    VENDA DIRETA                0.0         0.0         0.0   \n",
      "\n",
      "            CE07_zstok  CE09_zstok  CE11_zstok  CE13_zstok  Contr.qualid.  \n",
      "Material                                                                   \n",
      "08AA85512          1.0         1.0         0.0         0.0           34.0  \n",
      "13QA40610          0.0         0.0         0.0         0.0            0.0  \n",
      "25AA42570          0.0         0.0         2.0         0.0            0.0  \n",
      "25AA77890          0.0         0.0         0.0         0.0            0.0  \n",
      "25AAR70300         0.0         0.0         0.0         0.0            0.0  \n",
      "...                ...         ...         ...         ...            ...  \n",
      "V121040403         0.0         0.0         0.0         0.0            0.0  \n",
      "V126030803         0.0         0.0         0.0         0.0            0.0  \n",
      "V217020003         0.0         0.0         0.0         0.0            0.0  \n",
      "V217060003         0.0         0.0         0.0         0.0            0.0  \n",
      "V234301050         0.0         0.0         0.0         0.0            0.0  \n",
      "\n",
      "[151 rows x 16 columns]\n"
     ]
    }
   ],
   "source": [
    "merged_table_1 = merged_table_pend.merge(merged_table_zstok, how='left', left_index=True, right_index=True)\n",
    "\n",
    "merged_table_1 = merged_table_1.fillna(0)\n",
    "\n",
    "print(merged_table_1)"
   ]
  },
  {
   "cell_type": "code",
   "execution_count": 154,
   "metadata": {
    "colab": {
     "base_uri": "https://localhost:8080/"
    },
    "id": "dL-H6otByU60",
    "outputId": "9601c914-cfb4-4039-d691-51021a8b24eb"
   },
   "outputs": [
    {
     "data": {
      "text/plain": [
       "Index(['CE03_zva70', 'CE04_zva70', 'CE05_zva70', 'CE11_zva70', 'CE13_zva70',\n",
       "       'Denominação', 'Criado por', 'Canal', 'Pendências Gerais', 'CE03_zstok',\n",
       "       'CE05_zstok', 'CE07_zstok', 'CE09_zstok', 'CE11_zstok', 'CE13_zstok',\n",
       "       'Contr.qualid.'],\n",
       "      dtype='object')"
      ]
     },
     "execution_count": 154,
     "metadata": {},
     "output_type": "execute_result"
    }
   ],
   "source": [
    "merged_table_1.columns"
   ]
  },
  {
   "cell_type": "markdown",
   "metadata": {
    "id": "FbEdg9w2ynhX"
   },
   "source": [
    "colocando o fup"
   ]
  },
  {
   "cell_type": "code",
   "execution_count": 155,
   "metadata": {
    "colab": {
     "base_uri": "https://localhost:8080/"
    },
    "id": "yVN9twaBya7z",
    "outputId": "9ae1059c-8407-445a-e6ee-cea5761e44c5"
   },
   "outputs": [
    {
     "name": "stdout",
     "output_type": "stream",
     "text": [
      "            CE03_zva70  CE04_zva70  CE05_zva70  CE11_zva70  CE13_zva70  \\\n",
      "Material                                                                 \n",
      "08AA85512            0           0           0           1           0   \n",
      "13QA40610            0           0           0           9           0   \n",
      "25AA42570            0           0           0           4           0   \n",
      "25AA77890            0           0           0           1           0   \n",
      "25AAR70300           0           0           0           1           0   \n",
      "...                ...         ...         ...         ...         ...   \n",
      "V121040403           0           0           0           4           0   \n",
      "V126030803           0           0           0           2           0   \n",
      "V217020003           0           0           0           2           0   \n",
      "V217060003           0           0           0           2           0   \n",
      "V234301050           0           0           0           2           0   \n",
      "\n",
      "                     Denominação                        Criado por  \\\n",
      "Material                                                             \n",
      "08AA85512            FOTO-SENSOR         MARIANA PEREIRA DOS ANJOS   \n",
      "13QA40610              LIMITADOR  REGILENE DE CASSIA LUIZ OLIVEIRA   \n",
      "25AA42570          POLIA DO CABO             JESSIE OLIVEIRA SILVA   \n",
      "25AA77890   ENGRENAGEM 36 DENTES  REGILENE DE CASSIA LUIZ OLIVEIRA   \n",
      "25AAR70300                   FIO             JESSIE OLIVEIRA SILVA   \n",
      "...                          ...                               ...   \n",
      "V121040403              PARAFUSO       JULIA MARIA MORETO DA SILVA   \n",
      "V126030803              PARAFUSO       JULIA MARIA MORETO DA SILVA   \n",
      "V217020003                  ANEL       JULIA MARIA MORETO DA SILVA   \n",
      "V217060003                  ANEL  REGILENE DE CASSIA LUIZ OLIVEIRA   \n",
      "V234301050                  PINO       JULIA MARIA MORETO DA SILVA   \n",
      "\n",
      "                     Canal  Pendências Gerais  CE03_zstok  ...  \\\n",
      "Material                                                   ...   \n",
      "08AA85512   VENDA INDIRETA                0.0         0.0  ...   \n",
      "13QA40610     VENDA DIRETA                0.0         0.0  ...   \n",
      "25AA42570     VENDA DIRETA                6.0         0.0  ...   \n",
      "25AA77890     VENDA DIRETA                0.0         0.0  ...   \n",
      "25AAR70300    VENDA DIRETA                0.0         0.0  ...   \n",
      "...                    ...                ...         ...  ...   \n",
      "V121040403    VENDA DIRETA                0.0         0.0  ...   \n",
      "V126030803    VENDA DIRETA                0.0         0.0  ...   \n",
      "V217020003    VENDA DIRETA                0.0         0.0  ...   \n",
      "V217060003    VENDA DIRETA                4.0         0.0  ...   \n",
      "V234301050    VENDA DIRETA                0.0         0.0  ...   \n",
      "\n",
      "            2025-02-10 00:00:00  2025-02-11 00:00:00  2025-02-14 00:00:00  \\\n",
      "Material                                                                    \n",
      "08AA85512                   4.0                  0.0                  0.0   \n",
      "13QA40610                   0.0                  0.0                  0.0   \n",
      "25AA42570                   0.0                  0.0                  0.0   \n",
      "25AA77890                   0.0                  0.0                  0.0   \n",
      "25AAR70300                  0.0                  0.0                  0.0   \n",
      "...                         ...                  ...                  ...   \n",
      "V121040403                  0.0                  0.0                  0.0   \n",
      "V126030803                  0.0                  0.0                  0.0   \n",
      "V217020003                  0.0                  0.0                  0.0   \n",
      "V217060003                  0.0                  0.0                  0.0   \n",
      "V234301050                  0.0                  0.0                  0.0   \n",
      "\n",
      "            2025-02-18 00:00:00  2025-02-20 00:00:00  2025-02-25 00:00:00  \\\n",
      "Material                                                                    \n",
      "08AA85512                   0.0                  0.0                  0.0   \n",
      "13QA40610                   0.0                  0.0                  0.0   \n",
      "25AA42570                   0.0                  0.0                  0.0   \n",
      "25AA77890                   0.0                  0.0                  0.0   \n",
      "25AAR70300                  0.0                  0.0                  0.0   \n",
      "...                         ...                  ...                  ...   \n",
      "V121040403                  0.0                  0.0                  0.0   \n",
      "V126030803                  0.0                  0.0                  0.0   \n",
      "V217020003                  0.0                  0.0                  0.0   \n",
      "V217060003                  0.0                  0.0                  0.0   \n",
      "V234301050                  0.0                  0.0                  0.0   \n",
      "\n",
      "            2025-02-28 00:00:00  2025-03-21 00:00:00  2025-03-28 00:00:00  \\\n",
      "Material                                                                    \n",
      "08AA85512                   0.0                  0.0                  0.0   \n",
      "13QA40610                   0.0                  0.0                  0.0   \n",
      "25AA42570                   0.0                  0.0                  0.0   \n",
      "25AA77890                   0.0                  0.0                  0.0   \n",
      "25AAR70300                  0.0                  0.0                  0.0   \n",
      "...                         ...                  ...                  ...   \n",
      "V121040403                  0.0                  0.0                  0.0   \n",
      "V126030803                  0.0                  0.0                  0.0   \n",
      "V217020003                  0.0                  0.0                  0.0   \n",
      "V217060003                  0.0                  0.0                  0.0   \n",
      "V234301050                  0.0                  0.0                  0.0   \n",
      "\n",
      "            2025-04-16 00:00:00  \n",
      "Material                         \n",
      "08AA85512                   0.0  \n",
      "13QA40610                   0.0  \n",
      "25AA42570                   3.0  \n",
      "25AA77890                   0.0  \n",
      "25AAR70300                  0.0  \n",
      "...                         ...  \n",
      "V121040403                  0.0  \n",
      "V126030803                  0.0  \n",
      "V217020003                  0.0  \n",
      "V217060003                  0.0  \n",
      "V234301050                  0.0  \n",
      "\n",
      "[151 rows x 31 columns]\n"
     ]
    }
   ],
   "source": [
    "merged_table_2 = merged_table_1.merge(tabela_dinamica_fup, how='left', left_index=True, right_index=True)\n",
    "\n",
    "merged_table_2 = merged_table_2.fillna(0)\n",
    "\n",
    "print(merged_table_2)"
   ]
  },
  {
   "cell_type": "code",
   "execution_count": 156,
   "metadata": {
    "colab": {
     "base_uri": "https://localhost:8080/"
    },
    "id": "naqhcdgRyzfi",
    "outputId": "05f69321-4df1-4c7f-90e1-815aa97a0390"
   },
   "outputs": [
    {
     "data": {
      "text/plain": [
       "Index([       'CE03_zva70',        'CE04_zva70',        'CE05_zva70',\n",
       "              'CE11_zva70',        'CE13_zva70',       'Denominação',\n",
       "              'Criado por',             'Canal', 'Pendências Gerais',\n",
       "              'CE03_zstok',        'CE05_zstok',        'CE07_zstok',\n",
       "              'CE09_zstok',        'CE11_zstok',        'CE13_zstok',\n",
       "           'Contr.qualid.', 2024-11-14 00:00:00, 2025-01-06 00:00:00,\n",
       "       2025-01-09 00:00:00, 2025-01-19 00:00:00, 2025-01-28 00:00:00,\n",
       "       2025-02-10 00:00:00, 2025-02-11 00:00:00, 2025-02-14 00:00:00,\n",
       "       2025-02-18 00:00:00, 2025-02-20 00:00:00, 2025-02-25 00:00:00,\n",
       "       2025-02-28 00:00:00, 2025-03-21 00:00:00, 2025-03-28 00:00:00,\n",
       "       2025-04-16 00:00:00],\n",
       "      dtype='object')"
      ]
     },
     "execution_count": 156,
     "metadata": {},
     "output_type": "execute_result"
    }
   ],
   "source": [
    "merged_table_2.columns"
   ]
  },
  {
   "cell_type": "code",
   "execution_count": 157,
   "metadata": {
    "id": "xV6-3goc1ND_"
   },
   "outputs": [],
   "source": [
    "# Renomear colunas com sufixo \"_x\"\n",
    "#merged_table_2 = merged_table_2.rename(columns=lambda x: x.replace('_x', '_zva70'))\n",
    "\n",
    "# Renomear colunas com sufixo \"_y\"\n",
    "#merged_table_2 = merged_table_2.rename(columns=lambda x: x.replace('_y', '_zstok'))\n"
   ]
  },
  {
   "cell_type": "code",
   "execution_count": 158,
   "metadata": {
    "colab": {
     "base_uri": "https://localhost:8080/"
    },
    "id": "wgPKOqwXMwBn",
    "outputId": "e2b8f186-1d5e-47d1-e988-c86815e0de1b"
   },
   "outputs": [
    {
     "name": "stdout",
     "output_type": "stream",
     "text": [
      "            CE03_zva70  CE04_zva70  CE05_zva70  CE11_zva70  CE13_zva70  \\\n",
      "Material                                                                 \n",
      "08AA85512            0           0           0           1           0   \n",
      "13QA40610            0           0           0           9           0   \n",
      "25AA42570            0           0           0           4           0   \n",
      "25AA77890            0           0           0           1           0   \n",
      "25AAR70300           0           0           0           1           0   \n",
      "...                ...         ...         ...         ...         ...   \n",
      "V121040403           0           0           0           4           0   \n",
      "V126030803           0           0           0           2           0   \n",
      "V217020003           0           0           0           2           0   \n",
      "V217060003           0           0           0           2           0   \n",
      "V234301050           0           0           0           2           0   \n",
      "\n",
      "                     Denominação                        Criado por  \\\n",
      "Material                                                             \n",
      "08AA85512            FOTO-SENSOR         MARIANA PEREIRA DOS ANJOS   \n",
      "13QA40610              LIMITADOR  REGILENE DE CASSIA LUIZ OLIVEIRA   \n",
      "25AA42570          POLIA DO CABO             JESSIE OLIVEIRA SILVA   \n",
      "25AA77890   ENGRENAGEM 36 DENTES  REGILENE DE CASSIA LUIZ OLIVEIRA   \n",
      "25AAR70300                   FIO             JESSIE OLIVEIRA SILVA   \n",
      "...                          ...                               ...   \n",
      "V121040403              PARAFUSO       JULIA MARIA MORETO DA SILVA   \n",
      "V126030803              PARAFUSO       JULIA MARIA MORETO DA SILVA   \n",
      "V217020003                  ANEL       JULIA MARIA MORETO DA SILVA   \n",
      "V217060003                  ANEL  REGILENE DE CASSIA LUIZ OLIVEIRA   \n",
      "V234301050                  PINO       JULIA MARIA MORETO DA SILVA   \n",
      "\n",
      "                     Canal  Pendências Gerais  CE03_zstok  ...  \\\n",
      "Material                                                   ...   \n",
      "08AA85512   VENDA INDIRETA                0.0         0.0  ...   \n",
      "13QA40610     VENDA DIRETA                0.0         0.0  ...   \n",
      "25AA42570     VENDA DIRETA                6.0         0.0  ...   \n",
      "25AA77890     VENDA DIRETA                0.0         0.0  ...   \n",
      "25AAR70300    VENDA DIRETA                0.0         0.0  ...   \n",
      "...                    ...                ...         ...  ...   \n",
      "V121040403    VENDA DIRETA                0.0         0.0  ...   \n",
      "V126030803    VENDA DIRETA                0.0         0.0  ...   \n",
      "V217020003    VENDA DIRETA                0.0         0.0  ...   \n",
      "V217060003    VENDA DIRETA                4.0         0.0  ...   \n",
      "V234301050    VENDA DIRETA                0.0         0.0  ...   \n",
      "\n",
      "            2025-02-11 00:00:00  2025-02-14 00:00:00  2025-02-18 00:00:00  \\\n",
      "Material                                                                    \n",
      "08AA85512                   0.0                  0.0                  0.0   \n",
      "13QA40610                   0.0                  0.0                  0.0   \n",
      "25AA42570                   0.0                  0.0                  0.0   \n",
      "25AA77890                   0.0                  0.0                  0.0   \n",
      "25AAR70300                  0.0                  0.0                  0.0   \n",
      "...                         ...                  ...                  ...   \n",
      "V121040403                  0.0                  0.0                  0.0   \n",
      "V126030803                  0.0                  0.0                  0.0   \n",
      "V217020003                  0.0                  0.0                  0.0   \n",
      "V217060003                  0.0                  0.0                  0.0   \n",
      "V234301050                  0.0                  0.0                  0.0   \n",
      "\n",
      "            2025-02-20 00:00:00  2025-02-25 00:00:00  2025-02-28 00:00:00  \\\n",
      "Material                                                                    \n",
      "08AA85512                   0.0                  0.0                  0.0   \n",
      "13QA40610                   0.0                  0.0                  0.0   \n",
      "25AA42570                   0.0                  0.0                  0.0   \n",
      "25AA77890                   0.0                  0.0                  0.0   \n",
      "25AAR70300                  0.0                  0.0                  0.0   \n",
      "...                         ...                  ...                  ...   \n",
      "V121040403                  0.0                  0.0                  0.0   \n",
      "V126030803                  0.0                  0.0                  0.0   \n",
      "V217020003                  0.0                  0.0                  0.0   \n",
      "V217060003                  0.0                  0.0                  0.0   \n",
      "V234301050                  0.0                  0.0                  0.0   \n",
      "\n",
      "            2025-03-21 00:00:00  2025-03-28 00:00:00  2025-04-16 00:00:00  \\\n",
      "Material                                                                    \n",
      "08AA85512                   0.0                  0.0                  0.0   \n",
      "13QA40610                   0.0                  0.0                  0.0   \n",
      "25AA42570                   0.0                  0.0                  3.0   \n",
      "25AA77890                   0.0                  0.0                  0.0   \n",
      "25AAR70300                  0.0                  0.0                  0.0   \n",
      "...                         ...                  ...                  ...   \n",
      "V121040403                  0.0                  0.0                  0.0   \n",
      "V126030803                  0.0                  0.0                  0.0   \n",
      "V217020003                  0.0                  0.0                  0.0   \n",
      "V217060003                  0.0                  0.0                  0.0   \n",
      "V234301050                  0.0                  0.0                  0.0   \n",
      "\n",
      "            Montante  \n",
      "Material              \n",
      "08AA85512       0.82  \n",
      "13QA40610       0.05  \n",
      "25AA42570       0.47  \n",
      "25AA77890       0.84  \n",
      "25AAR70300      1.26  \n",
      "...              ...  \n",
      "V121040403      9.41  \n",
      "V126030803      4.71  \n",
      "V217020003      4.71  \n",
      "V217060003      4.71  \n",
      "V234301050      9.41  \n",
      "\n",
      "[151 rows x 32 columns]\n"
     ]
    }
   ],
   "source": [
    "merged_table_3 = merged_table_2.merge(tabela_dinamica_fob, how='left', left_index=True, right_index=True)\n",
    "\n",
    "merged_table_3 = merged_table_3.fillna(0)\n",
    "\n",
    "print(merged_table_3)"
   ]
  },
  {
   "cell_type": "code",
   "execution_count": 159,
   "metadata": {
    "colab": {
     "base_uri": "https://localhost:8080/"
    },
    "id": "qS1JaxmdMvIG",
    "outputId": "5dcd9ada-f328-498f-acf1-fed8241a0cbe"
   },
   "outputs": [
    {
     "name": "stdout",
     "output_type": "stream",
     "text": [
      "            CE03_zva70  CE04_zva70  CE05_zva70  CE11_zva70  CE13_zva70  \\\n",
      "Material                                                                 \n",
      "08AA85512            0           0           0           1           0   \n",
      "13QA40610            0           0           0           9           0   \n",
      "25AA42570            0           0           0           4           0   \n",
      "25AA77890            0           0           0           1           0   \n",
      "25AAR70300           0           0           0           1           0   \n",
      "...                ...         ...         ...         ...         ...   \n",
      "V121040403           0           0           0           4           0   \n",
      "V126030803           0           0           0           2           0   \n",
      "V217020003           0           0           0           2           0   \n",
      "V217060003           0           0           0           2           0   \n",
      "V234301050           0           0           0           2           0   \n",
      "\n",
      "                     Denominação                        Criado por  \\\n",
      "Material                                                             \n",
      "08AA85512            FOTO-SENSOR         MARIANA PEREIRA DOS ANJOS   \n",
      "13QA40610              LIMITADOR  REGILENE DE CASSIA LUIZ OLIVEIRA   \n",
      "25AA42570          POLIA DO CABO             JESSIE OLIVEIRA SILVA   \n",
      "25AA77890   ENGRENAGEM 36 DENTES  REGILENE DE CASSIA LUIZ OLIVEIRA   \n",
      "25AAR70300                   FIO             JESSIE OLIVEIRA SILVA   \n",
      "...                          ...                               ...   \n",
      "V121040403              PARAFUSO       JULIA MARIA MORETO DA SILVA   \n",
      "V126030803              PARAFUSO       JULIA MARIA MORETO DA SILVA   \n",
      "V217020003                  ANEL       JULIA MARIA MORETO DA SILVA   \n",
      "V217060003                  ANEL  REGILENE DE CASSIA LUIZ OLIVEIRA   \n",
      "V234301050                  PINO       JULIA MARIA MORETO DA SILVA   \n",
      "\n",
      "                     Canal  Pendências Gerais  CE03_zstok  ...  \\\n",
      "Material                                                   ...   \n",
      "08AA85512   VENDA INDIRETA                0.0         0.0  ...   \n",
      "13QA40610     VENDA DIRETA                0.0         0.0  ...   \n",
      "25AA42570     VENDA DIRETA                6.0         0.0  ...   \n",
      "25AA77890     VENDA DIRETA                0.0         0.0  ...   \n",
      "25AAR70300    VENDA DIRETA                0.0         0.0  ...   \n",
      "...                    ...                ...         ...  ...   \n",
      "V121040403    VENDA DIRETA                0.0         0.0  ...   \n",
      "V126030803    VENDA DIRETA                0.0         0.0  ...   \n",
      "V217020003    VENDA DIRETA                0.0         0.0  ...   \n",
      "V217060003    VENDA DIRETA                4.0         0.0  ...   \n",
      "V234301050    VENDA DIRETA                0.0         0.0  ...   \n",
      "\n",
      "            2025-02-14 00:00:00  2025-02-18 00:00:00  2025-02-20 00:00:00  \\\n",
      "Material                                                                    \n",
      "08AA85512                   0.0                  0.0                  0.0   \n",
      "13QA40610                   0.0                  0.0                  0.0   \n",
      "25AA42570                   0.0                  0.0                  0.0   \n",
      "25AA77890                   0.0                  0.0                  0.0   \n",
      "25AAR70300                  0.0                  0.0                  0.0   \n",
      "...                         ...                  ...                  ...   \n",
      "V121040403                  0.0                  0.0                  0.0   \n",
      "V126030803                  0.0                  0.0                  0.0   \n",
      "V217020003                  0.0                  0.0                  0.0   \n",
      "V217060003                  0.0                  0.0                  0.0   \n",
      "V234301050                  0.0                  0.0                  0.0   \n",
      "\n",
      "            2025-02-25 00:00:00  2025-02-28 00:00:00  2025-03-21 00:00:00  \\\n",
      "Material                                                                    \n",
      "08AA85512                   0.0                  0.0                  0.0   \n",
      "13QA40610                   0.0                  0.0                  0.0   \n",
      "25AA42570                   0.0                  0.0                  0.0   \n",
      "25AA77890                   0.0                  0.0                  0.0   \n",
      "25AAR70300                  0.0                  0.0                  0.0   \n",
      "...                         ...                  ...                  ...   \n",
      "V121040403                  0.0                  0.0                  0.0   \n",
      "V126030803                  0.0                  0.0                  0.0   \n",
      "V217020003                  0.0                  0.0                  0.0   \n",
      "V217060003                  0.0                  0.0                  0.0   \n",
      "V234301050                  0.0                  0.0                  0.0   \n",
      "\n",
      "            2025-03-28 00:00:00  2025-04-16 00:00:00  Montante  \\\n",
      "Material                                                         \n",
      "08AA85512                   0.0                  0.0      0.82   \n",
      "13QA40610                   0.0                  0.0      0.05   \n",
      "25AA42570                   0.0                  3.0      0.47   \n",
      "25AA77890                   0.0                  0.0      0.84   \n",
      "25AAR70300                  0.0                  0.0      1.26   \n",
      "...                         ...                  ...       ...   \n",
      "V121040403                  0.0                  0.0      9.41   \n",
      "V126030803                  0.0                  0.0      4.71   \n",
      "V217020003                  0.0                  0.0      4.71   \n",
      "V217060003                  0.0                  0.0      4.71   \n",
      "V234301050                  0.0                  0.0      9.41   \n",
      "\n",
      "                                        Modelos Lista Técnica  \n",
      "Material                                                       \n",
      "08AA85512   7020/7025/7030/7075/7085/7255/7272/8050/ACCURI...  \n",
      "13QA40610   8050/ACCURIOLABEL 190/BIZHUB PRESS C71CF/ACCUR...  \n",
      "25AA42570   7075/7085/7255/7272/BIZHUB PRO 920/FORCE85/LT-...  \n",
      "25AA77890   8050/ACCURIOPRESS 6136P/ACCURIOPRESS 7136P/BIZ...  \n",
      "25AAR70300  LT-211/LU-202/LU-202XL/LU-202XLM/LU-208XL/LU-4...  \n",
      "...                                                       ...  \n",
      "V121040403  ACCURIOLABEL 190/BIZHUB PRESS C71CF/ACCURIOLAB...  \n",
      "V126030803  ACCURIOPRESS 6136P/ACCURIOPRESS 7136P/ACCURIOP...  \n",
      "V217020003  ACCURIOLABEL 230/ACCURIOLABEL 400/ACCURIOPRESS...  \n",
      "V217060003  ACCURIOLABEL 230/ACCURIOLABEL 400/ACCURIOPRESS...  \n",
      "V234301050  ACCURIOLABEL 190/BIZHUB PRESS C71CF/ACCURIOLAB...  \n",
      "\n",
      "[151 rows x 33 columns]\n"
     ]
    }
   ],
   "source": [
    "merged_table_4 = merged_table_3.merge(tabela_dinamica_pecas, how='left', left_index=True, right_index=True)\n",
    "\n",
    "merged_table_4 = merged_table_4.fillna(0)\n",
    "\n",
    "print(merged_table_4)"
   ]
  },
  {
   "cell_type": "code",
   "execution_count": 160,
   "metadata": {
    "colab": {
     "base_uri": "https://localhost:8080/"
    },
    "id": "HpeYh95LtwU7",
    "outputId": "9016fcc1-e63a-4b71-99a1-e603ecb6eda2"
   },
   "outputs": [
    {
     "name": "stdout",
     "output_type": "stream",
     "text": [
      "            CE03_zva70  CE04_zva70  CE05_zva70  CE11_zva70  CE13_zva70  \\\n",
      "Material                                                                 \n",
      "08AA85512            0           0           0           1           0   \n",
      "13QA40610            0           0           0           9           0   \n",
      "25AA42570            0           0           0           4           0   \n",
      "25AA77890            0           0           0           1           0   \n",
      "25AAR70300           0           0           0           1           0   \n",
      "...                ...         ...         ...         ...         ...   \n",
      "V121040403           0           0           0           4           0   \n",
      "V126030803           0           0           0           2           0   \n",
      "V217020003           0           0           0           2           0   \n",
      "V217060003           0           0           0           2           0   \n",
      "V234301050           0           0           0           2           0   \n",
      "\n",
      "                     Denominação                        Criado por  \\\n",
      "Material                                                             \n",
      "08AA85512            FOTO-SENSOR         MARIANA PEREIRA DOS ANJOS   \n",
      "13QA40610              LIMITADOR  REGILENE DE CASSIA LUIZ OLIVEIRA   \n",
      "25AA42570          POLIA DO CABO             JESSIE OLIVEIRA SILVA   \n",
      "25AA77890   ENGRENAGEM 36 DENTES  REGILENE DE CASSIA LUIZ OLIVEIRA   \n",
      "25AAR70300                   FIO             JESSIE OLIVEIRA SILVA   \n",
      "...                          ...                               ...   \n",
      "V121040403              PARAFUSO       JULIA MARIA MORETO DA SILVA   \n",
      "V126030803              PARAFUSO       JULIA MARIA MORETO DA SILVA   \n",
      "V217020003                  ANEL       JULIA MARIA MORETO DA SILVA   \n",
      "V217060003                  ANEL  REGILENE DE CASSIA LUIZ OLIVEIRA   \n",
      "V234301050                  PINO       JULIA MARIA MORETO DA SILVA   \n",
      "\n",
      "                     Canal  Pendências Gerais  CE03_zstok  ...  Montante  \\\n",
      "Material                                                   ...             \n",
      "08AA85512   VENDA INDIRETA                0.0         0.0  ...      0.82   \n",
      "13QA40610     VENDA DIRETA                0.0         0.0  ...      0.05   \n",
      "25AA42570     VENDA DIRETA                6.0         0.0  ...      0.47   \n",
      "25AA77890     VENDA DIRETA                0.0         0.0  ...      0.84   \n",
      "25AAR70300    VENDA DIRETA                0.0         0.0  ...      1.26   \n",
      "...                    ...                ...         ...  ...       ...   \n",
      "V121040403    VENDA DIRETA                0.0         0.0  ...      9.41   \n",
      "V126030803    VENDA DIRETA                0.0         0.0  ...      4.71   \n",
      "V217020003    VENDA DIRETA                0.0         0.0  ...      4.71   \n",
      "V217060003    VENDA DIRETA                4.0         0.0  ...      4.71   \n",
      "V234301050    VENDA DIRETA                0.0         0.0  ...      9.41   \n",
      "\n",
      "                                        Modelos Lista Técnica    Material  \\\n",
      "Material                                                                    \n",
      "08AA85512   7020/7025/7030/7075/7085/7255/7272/8050/ACCURI...   08AA85512   \n",
      "13QA40610   8050/ACCURIOLABEL 190/BIZHUB PRESS C71CF/ACCUR...           0   \n",
      "25AA42570   7075/7085/7255/7272/BIZHUB PRO 920/FORCE85/LT-...   25AA42570   \n",
      "25AA77890   8050/ACCURIOPRESS 6136P/ACCURIOPRESS 7136P/BIZ...           0   \n",
      "25AAR70300  LT-211/LU-202/LU-202XL/LU-202XLM/LU-208XL/LU-4...           0   \n",
      "...                                                       ...         ...   \n",
      "V121040403  ACCURIOLABEL 190/BIZHUB PRESS C71CF/ACCURIOLAB...           0   \n",
      "V126030803  ACCURIOPRESS 6136P/ACCURIOPRESS 7136P/ACCURIOP...           0   \n",
      "V217020003  ACCURIOLABEL 230/ACCURIOLABEL 400/ACCURIOPRESS...           0   \n",
      "V217060003  ACCURIOLABEL 230/ACCURIOLABEL 400/ACCURIOPRESS...  V217060003   \n",
      "V234301050  ACCURIOLABEL 190/BIZHUB PRESS C71CF/ACCURIOLAB...           0   \n",
      "\n",
      "             Similar1    Similar2  Similar3  Similar4  Unnamed: 6  Unnamed: 7  \\\n",
      "Material                                                                        \n",
      "08AA85512   08AA85510  4014102301         -         -         0.0         0.0   \n",
      "13QA40610           0           0         0         0         0.0         0.0   \n",
      "25AA42570        1223           -         -         -         0.0         0.0   \n",
      "25AA77890           0           0         0         0         0.0         0.0   \n",
      "25AAR70300          0           0         0         0         0.0         0.0   \n",
      "...               ...         ...       ...       ...         ...         ...   \n",
      "V121040403          0           0         0         0         0.0         0.0   \n",
      "V126030803          0           0         0         0         0.0         0.0   \n",
      "V217020003          0           0         0         0         0.0         0.0   \n",
      "V217060003          -           -         -         -         0.0         0.0   \n",
      "V234301050          0           0         0         0         0.0         0.0   \n",
      "\n",
      "            Unnamed: 8  \n",
      "Material                \n",
      "08AA85512            0  \n",
      "13QA40610            0  \n",
      "25AA42570            0  \n",
      "25AA77890            0  \n",
      "25AAR70300           0  \n",
      "...                ...  \n",
      "V121040403           0  \n",
      "V126030803           0  \n",
      "V217020003           0  \n",
      "V217060003           0  \n",
      "V234301050           0  \n",
      "\n",
      "[151 rows x 41 columns]\n"
     ]
    },
    {
     "name": "stderr",
     "output_type": "stream",
     "text": [
      "C:\\Users\\fsp_adolpho.salvador\\AppData\\Local\\Temp\\ipykernel_23988\\1465948772.py:5: FutureWarning: Downcasting object dtype arrays on .fillna, .ffill, .bfill is deprecated and will change in a future version. Call result.infer_objects(copy=False) instead. To opt-in to the future behavior, set `pd.set_option('future.no_silent_downcasting', True)`\n",
      "  merged_table_5 = merged_table_5.fillna(0)\n"
     ]
    }
   ],
   "source": [
    "merged_table_5 = merged_table_4.merge(tabela_resultados, how='left', left_index=True, right_index=True)\n",
    "\n",
    "merged_table_5 = merged_table_5.fillna(0)\n",
    "\n",
    "print(merged_table_5)"
   ]
  },
  {
   "cell_type": "code",
   "execution_count": 161,
   "metadata": {
    "colab": {
     "base_uri": "https://localhost:8080/"
    },
    "id": "Av3CKwK00NDx",
    "outputId": "e72e9dfa-df0a-4bbe-a347-edaec60d9fd9"
   },
   "outputs": [
    {
     "name": "stdout",
     "output_type": "stream",
     "text": [
      "            CE03_zva70  CE04_zva70  CE05_zva70  CE11_zva70  CE13_zva70  \\\n",
      "Material                                                                 \n",
      "08AA85512            0           0           0           1           0   \n",
      "13QA40610            0           0           0           9           0   \n",
      "25AA42570            0           0           0           4           0   \n",
      "25AA77890            0           0           0           1           0   \n",
      "25AAR70300           0           0           0           1           0   \n",
      "...                ...         ...         ...         ...         ...   \n",
      "V121040403           0           0           0           4           0   \n",
      "V126030803           0           0           0           2           0   \n",
      "V217020003           0           0           0           2           0   \n",
      "V217060003           0           0           0           2           0   \n",
      "V234301050           0           0           0           2           0   \n",
      "\n",
      "                     Denominação                        Criado por  \\\n",
      "Material                                                             \n",
      "08AA85512            FOTO-SENSOR         MARIANA PEREIRA DOS ANJOS   \n",
      "13QA40610              LIMITADOR  REGILENE DE CASSIA LUIZ OLIVEIRA   \n",
      "25AA42570          POLIA DO CABO             JESSIE OLIVEIRA SILVA   \n",
      "25AA77890   ENGRENAGEM 36 DENTES  REGILENE DE CASSIA LUIZ OLIVEIRA   \n",
      "25AAR70300                   FIO             JESSIE OLIVEIRA SILVA   \n",
      "...                          ...                               ...   \n",
      "V121040403              PARAFUSO       JULIA MARIA MORETO DA SILVA   \n",
      "V126030803              PARAFUSO       JULIA MARIA MORETO DA SILVA   \n",
      "V217020003                  ANEL       JULIA MARIA MORETO DA SILVA   \n",
      "V217060003                  ANEL  REGILENE DE CASSIA LUIZ OLIVEIRA   \n",
      "V234301050                  PINO       JULIA MARIA MORETO DA SILVA   \n",
      "\n",
      "                     Canal  Pendências Gerais  CE03_zstok  ...  \\\n",
      "Material                                                   ...   \n",
      "08AA85512   VENDA INDIRETA                0.0         0.0  ...   \n",
      "13QA40610     VENDA DIRETA                0.0         0.0  ...   \n",
      "25AA42570     VENDA DIRETA                6.0         0.0  ...   \n",
      "25AA77890     VENDA DIRETA                0.0         0.0  ...   \n",
      "25AAR70300    VENDA DIRETA                0.0         0.0  ...   \n",
      "...                    ...                ...         ...  ...   \n",
      "V121040403    VENDA DIRETA                0.0         0.0  ...   \n",
      "V126030803    VENDA DIRETA                0.0         0.0  ...   \n",
      "V217020003    VENDA DIRETA                0.0         0.0  ...   \n",
      "V217060003    VENDA DIRETA                4.0         0.0  ...   \n",
      "V234301050    VENDA DIRETA                0.0         0.0  ...   \n",
      "\n",
      "                                        Modelos Lista Técnica    Material  \\\n",
      "Material                                                                    \n",
      "08AA85512   7020/7025/7030/7075/7085/7255/7272/8050/ACCURI...   08AA85512   \n",
      "13QA40610   8050/ACCURIOLABEL 190/BIZHUB PRESS C71CF/ACCUR...           0   \n",
      "25AA42570   7075/7085/7255/7272/BIZHUB PRO 920/FORCE85/LT-...   25AA42570   \n",
      "25AA77890   8050/ACCURIOPRESS 6136P/ACCURIOPRESS 7136P/BIZ...           0   \n",
      "25AAR70300  LT-211/LU-202/LU-202XL/LU-202XLM/LU-208XL/LU-4...           0   \n",
      "...                                                       ...         ...   \n",
      "V121040403  ACCURIOLABEL 190/BIZHUB PRESS C71CF/ACCURIOLAB...           0   \n",
      "V126030803  ACCURIOPRESS 6136P/ACCURIOPRESS 7136P/ACCURIOP...           0   \n",
      "V217020003  ACCURIOLABEL 230/ACCURIOLABEL 400/ACCURIOPRESS...           0   \n",
      "V217060003  ACCURIOLABEL 230/ACCURIOLABEL 400/ACCURIOPRESS...  V217060003   \n",
      "V234301050  ACCURIOLABEL 190/BIZHUB PRESS C71CF/ACCURIOLAB...           0   \n",
      "\n",
      "             Similar1    Similar2  Similar3  Similar4  Unnamed: 6  Unnamed: 7  \\\n",
      "Material                                                                        \n",
      "08AA85512   08AA85510  4014102301         -         -         0.0         0.0   \n",
      "13QA40610           0           0         0         0         0.0         0.0   \n",
      "25AA42570        1223           -         -         -         0.0         0.0   \n",
      "25AA77890           0           0         0         0         0.0         0.0   \n",
      "25AAR70300          0           0         0         0         0.0         0.0   \n",
      "...               ...         ...       ...       ...         ...         ...   \n",
      "V121040403          0           0         0         0         0.0         0.0   \n",
      "V126030803          0           0         0         0         0.0         0.0   \n",
      "V217020003          0           0         0         0         0.0         0.0   \n",
      "V217060003          -           -         -         -         0.0         0.0   \n",
      "V234301050          0           0         0         0         0.0         0.0   \n",
      "\n",
      "            Unnamed: 8  Durabilidade  \n",
      "Material                              \n",
      "08AA85512            0             0  \n",
      "13QA40610            0             0  \n",
      "25AA42570            0             0  \n",
      "25AA77890            0             0  \n",
      "25AAR70300           0             0  \n",
      "...                ...           ...  \n",
      "V121040403           0             0  \n",
      "V126030803           0             0  \n",
      "V217020003           0             0  \n",
      "V217060003           0             0  \n",
      "V234301050           0             0  \n",
      "\n",
      "[151 rows x 42 columns]\n"
     ]
    }
   ],
   "source": [
    "merged_table_6 = merged_table_5.merge(tabela_dinamica_classificacao, how='left', left_index=True, right_index=True)\n",
    "\n",
    "merged_table_6 = merged_table_6.fillna(0)\n",
    "\n",
    "print(merged_table_6)"
   ]
  },
  {
   "cell_type": "code",
   "execution_count": 162,
   "metadata": {
    "colab": {
     "base_uri": "https://localhost:8080/"
    },
    "id": "aYCsNgDTujli",
    "outputId": "c3515f20-4a27-401d-fa49-4195f3f8cad2"
   },
   "outputs": [
    {
     "data": {
      "text/plain": [
       "Index([           'CE03_zva70',            'CE04_zva70',\n",
       "                  'CE05_zva70',            'CE11_zva70',\n",
       "                  'CE13_zva70',           'Denominação',\n",
       "                  'Criado por',                 'Canal',\n",
       "           'Pendências Gerais',            'CE03_zstok',\n",
       "                  'CE05_zstok',            'CE07_zstok',\n",
       "                  'CE09_zstok',            'CE11_zstok',\n",
       "                  'CE13_zstok',         'Contr.qualid.',\n",
       "           2024-11-14 00:00:00,     2025-01-06 00:00:00,\n",
       "           2025-01-09 00:00:00,     2025-01-19 00:00:00,\n",
       "           2025-01-28 00:00:00,     2025-02-10 00:00:00,\n",
       "           2025-02-11 00:00:00,     2025-02-14 00:00:00,\n",
       "           2025-02-18 00:00:00,     2025-02-20 00:00:00,\n",
       "           2025-02-25 00:00:00,     2025-02-28 00:00:00,\n",
       "           2025-03-21 00:00:00,     2025-03-28 00:00:00,\n",
       "           2025-04-16 00:00:00,              'Montante',\n",
       "       'Modelos Lista Técnica',              'Material',\n",
       "                    'Similar1',              'Similar2',\n",
       "                    'Similar3',              'Similar4',\n",
       "                  'Unnamed: 6',            'Unnamed: 7',\n",
       "                  'Unnamed: 8',          'Durabilidade'],\n",
       "      dtype='object')"
      ]
     },
     "execution_count": 162,
     "metadata": {},
     "output_type": "execute_result"
    }
   ],
   "source": [
    "merged_table_6.columns"
   ]
  },
  {
   "cell_type": "code",
   "execution_count": 163,
   "metadata": {
    "id": "eCzTViJly1uF"
   },
   "outputs": [],
   "source": [
    "\n",
    "caminho_saida = r'C:\\Users\\fsp_adolpho.salvador\\Desktop\\Konica Minolta\\Desktop Cloud - Documentos\\Desktop\\Py\\Pendencias\\Mapa.xlsx'\n",
    "\n",
    "merged_table_6.to_excel(caminho_saida, index=True)\n"
   ]
  },
  {
   "cell_type": "code",
   "execution_count": 164,
   "metadata": {
    "colab": {
     "base_uri": "https://localhost:8080/",
     "height": 187
    },
    "id": "e86m_xIZzbH3",
    "outputId": "df79a1f3-3b9e-48f8-f40c-3e096f901b4e"
   },
   "outputs": [
    {
     "data": {
      "text/plain": [
       "<bound method NDFrame.head of             CE03_zva70  CE04_zva70  CE05_zva70  CE11_zva70  CE13_zva70  \\\n",
       "Material                                                                 \n",
       "08AA85512            0           0           0           1           0   \n",
       "13QA40610            0           0           0           9           0   \n",
       "25AA42570            0           0           0           4           0   \n",
       "25AA77890            0           0           0           1           0   \n",
       "25AAR70300           0           0           0           1           0   \n",
       "...                ...         ...         ...         ...         ...   \n",
       "V121040403           0           0           0           4           0   \n",
       "V126030803           0           0           0           2           0   \n",
       "V217020003           0           0           0           2           0   \n",
       "V217060003           0           0           0           2           0   \n",
       "V234301050           0           0           0           2           0   \n",
       "\n",
       "                     Denominação                        Criado por  \\\n",
       "Material                                                             \n",
       "08AA85512            FOTO-SENSOR         MARIANA PEREIRA DOS ANJOS   \n",
       "13QA40610              LIMITADOR  REGILENE DE CASSIA LUIZ OLIVEIRA   \n",
       "25AA42570          POLIA DO CABO             JESSIE OLIVEIRA SILVA   \n",
       "25AA77890   ENGRENAGEM 36 DENTES  REGILENE DE CASSIA LUIZ OLIVEIRA   \n",
       "25AAR70300                   FIO             JESSIE OLIVEIRA SILVA   \n",
       "...                          ...                               ...   \n",
       "V121040403              PARAFUSO       JULIA MARIA MORETO DA SILVA   \n",
       "V126030803              PARAFUSO       JULIA MARIA MORETO DA SILVA   \n",
       "V217020003                  ANEL       JULIA MARIA MORETO DA SILVA   \n",
       "V217060003                  ANEL  REGILENE DE CASSIA LUIZ OLIVEIRA   \n",
       "V234301050                  PINO       JULIA MARIA MORETO DA SILVA   \n",
       "\n",
       "                     Canal  Pendências Gerais  CE03_zstok  ...  \\\n",
       "Material                                                   ...   \n",
       "08AA85512   VENDA INDIRETA                0.0         0.0  ...   \n",
       "13QA40610     VENDA DIRETA                0.0         0.0  ...   \n",
       "25AA42570     VENDA DIRETA                6.0         0.0  ...   \n",
       "25AA77890     VENDA DIRETA                0.0         0.0  ...   \n",
       "25AAR70300    VENDA DIRETA                0.0         0.0  ...   \n",
       "...                    ...                ...         ...  ...   \n",
       "V121040403    VENDA DIRETA                0.0         0.0  ...   \n",
       "V126030803    VENDA DIRETA                0.0         0.0  ...   \n",
       "V217020003    VENDA DIRETA                0.0         0.0  ...   \n",
       "V217060003    VENDA DIRETA                4.0         0.0  ...   \n",
       "V234301050    VENDA DIRETA                0.0         0.0  ...   \n",
       "\n",
       "                                        Modelos Lista Técnica    Material  \\\n",
       "Material                                                                    \n",
       "08AA85512   7020/7025/7030/7075/7085/7255/7272/8050/ACCURI...   08AA85512   \n",
       "13QA40610   8050/ACCURIOLABEL 190/BIZHUB PRESS C71CF/ACCUR...           0   \n",
       "25AA42570   7075/7085/7255/7272/BIZHUB PRO 920/FORCE85/LT-...   25AA42570   \n",
       "25AA77890   8050/ACCURIOPRESS 6136P/ACCURIOPRESS 7136P/BIZ...           0   \n",
       "25AAR70300  LT-211/LU-202/LU-202XL/LU-202XLM/LU-208XL/LU-4...           0   \n",
       "...                                                       ...         ...   \n",
       "V121040403  ACCURIOLABEL 190/BIZHUB PRESS C71CF/ACCURIOLAB...           0   \n",
       "V126030803  ACCURIOPRESS 6136P/ACCURIOPRESS 7136P/ACCURIOP...           0   \n",
       "V217020003  ACCURIOLABEL 230/ACCURIOLABEL 400/ACCURIOPRESS...           0   \n",
       "V217060003  ACCURIOLABEL 230/ACCURIOLABEL 400/ACCURIOPRESS...  V217060003   \n",
       "V234301050  ACCURIOLABEL 190/BIZHUB PRESS C71CF/ACCURIOLAB...           0   \n",
       "\n",
       "             Similar1    Similar2  Similar3  Similar4  Unnamed: 6  Unnamed: 7  \\\n",
       "Material                                                                        \n",
       "08AA85512   08AA85510  4014102301         -         -         0.0         0.0   \n",
       "13QA40610           0           0         0         0         0.0         0.0   \n",
       "25AA42570        1223           -         -         -         0.0         0.0   \n",
       "25AA77890           0           0         0         0         0.0         0.0   \n",
       "25AAR70300          0           0         0         0         0.0         0.0   \n",
       "...               ...         ...       ...       ...         ...         ...   \n",
       "V121040403          0           0         0         0         0.0         0.0   \n",
       "V126030803          0           0         0         0         0.0         0.0   \n",
       "V217020003          0           0         0         0         0.0         0.0   \n",
       "V217060003          -           -         -         -         0.0         0.0   \n",
       "V234301050          0           0         0         0         0.0         0.0   \n",
       "\n",
       "            Unnamed: 8  Durabilidade  \n",
       "Material                              \n",
       "08AA85512            0             0  \n",
       "13QA40610            0             0  \n",
       "25AA42570            0             0  \n",
       "25AA77890            0             0  \n",
       "25AAR70300           0             0  \n",
       "...                ...           ...  \n",
       "V121040403           0             0  \n",
       "V126030803           0             0  \n",
       "V217020003           0             0  \n",
       "V217060003           0             0  \n",
       "V234301050           0             0  \n",
       "\n",
       "[151 rows x 42 columns]>"
      ]
     },
     "execution_count": 164,
     "metadata": {},
     "output_type": "execute_result"
    }
   ],
   "source": [
    "merged_table_6.head"
   ]
  },
  {
   "cell_type": "code",
   "execution_count": 17,
   "metadata": {},
   "outputs": [],
   "source": [
    "\n",
    "merged_table_6 = pd.read_excel(r'C:\\Users\\fsp_adolpho.salvador\\Desktop\\Konica Minolta\\Desktop Cloud - Documentos\\Desktop\\Py\\Pendencias\\Arquivos\\Mapa.xlsx')\n",
    "ztsd017_data = pd.read_excel(r'C:\\Users\\fsp_adolpho.salvador\\Desktop\\Konica Minolta\\Desktop Cloud - Documentos\\Desktop\\Py\\Pendencias\\Arquivos\\ztsd017.XLSX')"
   ]
  },
  {
   "cell_type": "code",
   "execution_count": 18,
   "metadata": {},
   "outputs": [
    {
     "data": {
      "text/html": [
       "<div>\n",
       "<style scoped>\n",
       "    .dataframe tbody tr th:only-of-type {\n",
       "        vertical-align: middle;\n",
       "    }\n",
       "\n",
       "    .dataframe tbody tr th {\n",
       "        vertical-align: top;\n",
       "    }\n",
       "\n",
       "    .dataframe thead th {\n",
       "        text-align: right;\n",
       "    }\n",
       "</style>\n",
       "<table border=\"1\" class=\"dataframe\">\n",
       "  <thead>\n",
       "    <tr style=\"text-align: right;\">\n",
       "      <th></th>\n",
       "      <th>Material</th>\n",
       "      <th>CE04_zva70</th>\n",
       "      <th>CE05_zva70</th>\n",
       "      <th>CE07_zva70</th>\n",
       "      <th>CE11_zva70</th>\n",
       "      <th>CE13_zva70</th>\n",
       "      <th>Denominação</th>\n",
       "      <th>Criado por</th>\n",
       "      <th>Canal</th>\n",
       "      <th>Pendências Gerais</th>\n",
       "      <th>...</th>\n",
       "      <th>Atual</th>\n",
       "      <th>Similar1</th>\n",
       "      <th>Similar2</th>\n",
       "      <th>Similar3</th>\n",
       "      <th>Similar4</th>\n",
       "      <th>Unnamed: 6</th>\n",
       "      <th>Unnamed: 7</th>\n",
       "      <th>Unnamed: 8</th>\n",
       "      <th>Durabilidade</th>\n",
       "      <th>Quant estoque 24/10/2024</th>\n",
       "    </tr>\n",
       "  </thead>\n",
       "  <tbody>\n",
       "    <tr>\n",
       "      <th>0</th>\n",
       "      <td>15AG76710</td>\n",
       "      <td>0</td>\n",
       "      <td>0</td>\n",
       "      <td>0</td>\n",
       "      <td>2</td>\n",
       "      <td>0</td>\n",
       "      <td>CORREIA 2</td>\n",
       "      <td>JULIA MARIA MORETO DA SILVA</td>\n",
       "      <td>VENDA DIRETA</td>\n",
       "      <td>0</td>\n",
       "      <td>...</td>\n",
       "      <td>0</td>\n",
       "      <td>0</td>\n",
       "      <td>0</td>\n",
       "      <td>0</td>\n",
       "      <td>0</td>\n",
       "      <td>0</td>\n",
       "      <td>0</td>\n",
       "      <td>0</td>\n",
       "      <td>0</td>\n",
       "      <td>0</td>\n",
       "    </tr>\n",
       "    <tr>\n",
       "      <th>1</th>\n",
       "      <td>15BA77031E</td>\n",
       "      <td>0</td>\n",
       "      <td>0</td>\n",
       "      <td>0</td>\n",
       "      <td>0</td>\n",
       "      <td>13</td>\n",
       "      <td>ENGRENAGEM 27 DENTES</td>\n",
       "      <td>ROBERTA MACHADO</td>\n",
       "      <td>VENDA INDIRETA</td>\n",
       "      <td>0</td>\n",
       "      <td>...</td>\n",
       "      <td>0</td>\n",
       "      <td>0</td>\n",
       "      <td>0</td>\n",
       "      <td>0</td>\n",
       "      <td>0</td>\n",
       "      <td>0</td>\n",
       "      <td>0</td>\n",
       "      <td>0</td>\n",
       "      <td>0</td>\n",
       "      <td>21</td>\n",
       "    </tr>\n",
       "    <tr>\n",
       "      <th>2</th>\n",
       "      <td>20AAR70600</td>\n",
       "      <td>0</td>\n",
       "      <td>0</td>\n",
       "      <td>0</td>\n",
       "      <td>0</td>\n",
       "      <td>1</td>\n",
       "      <td>LIMPADOR</td>\n",
       "      <td>MARIANA PEREIRA DOS ANJOS</td>\n",
       "      <td>VENDA INDIRETA</td>\n",
       "      <td>0</td>\n",
       "      <td>...</td>\n",
       "      <td>0</td>\n",
       "      <td>0</td>\n",
       "      <td>0</td>\n",
       "      <td>0</td>\n",
       "      <td>0</td>\n",
       "      <td>0</td>\n",
       "      <td>0</td>\n",
       "      <td>0</td>\n",
       "      <td>0</td>\n",
       "      <td>3</td>\n",
       "    </tr>\n",
       "    <tr>\n",
       "      <th>3</th>\n",
       "      <td>25AA77890</td>\n",
       "      <td>0</td>\n",
       "      <td>0</td>\n",
       "      <td>0</td>\n",
       "      <td>1</td>\n",
       "      <td>0</td>\n",
       "      <td>ENGRENAGEM 36 DENTES</td>\n",
       "      <td>JOÃO PAULO CLEMENTE DOS SANTOS</td>\n",
       "      <td>NaN</td>\n",
       "      <td>0</td>\n",
       "      <td>...</td>\n",
       "      <td>0</td>\n",
       "      <td>0</td>\n",
       "      <td>0</td>\n",
       "      <td>0</td>\n",
       "      <td>0</td>\n",
       "      <td>0</td>\n",
       "      <td>0</td>\n",
       "      <td>0</td>\n",
       "      <td>0</td>\n",
       "      <td>0</td>\n",
       "    </tr>\n",
       "    <tr>\n",
       "      <th>4</th>\n",
       "      <td>4038258001</td>\n",
       "      <td>0</td>\n",
       "      <td>0</td>\n",
       "      <td>0</td>\n",
       "      <td>1</td>\n",
       "      <td>0</td>\n",
       "      <td>ENGRENAGEM 16D</td>\n",
       "      <td>JULIA MARIA MORETO DA SILVA</td>\n",
       "      <td>NaN</td>\n",
       "      <td>0</td>\n",
       "      <td>...</td>\n",
       "      <td>0</td>\n",
       "      <td>0</td>\n",
       "      <td>0</td>\n",
       "      <td>0</td>\n",
       "      <td>0</td>\n",
       "      <td>0</td>\n",
       "      <td>0</td>\n",
       "      <td>0</td>\n",
       "      <td>0</td>\n",
       "      <td>0</td>\n",
       "    </tr>\n",
       "    <tr>\n",
       "      <th>...</th>\n",
       "      <td>...</td>\n",
       "      <td>...</td>\n",
       "      <td>...</td>\n",
       "      <td>...</td>\n",
       "      <td>...</td>\n",
       "      <td>...</td>\n",
       "      <td>...</td>\n",
       "      <td>...</td>\n",
       "      <td>...</td>\n",
       "      <td>...</td>\n",
       "      <td>...</td>\n",
       "      <td>...</td>\n",
       "      <td>...</td>\n",
       "      <td>...</td>\n",
       "      <td>...</td>\n",
       "      <td>...</td>\n",
       "      <td>...</td>\n",
       "      <td>...</td>\n",
       "      <td>...</td>\n",
       "      <td>...</td>\n",
       "      <td>...</td>\n",
       "    </tr>\n",
       "    <tr>\n",
       "      <th>95</th>\n",
       "      <td>AD7EP72200</td>\n",
       "      <td>1</td>\n",
       "      <td>0</td>\n",
       "      <td>0</td>\n",
       "      <td>0</td>\n",
       "      <td>0</td>\n",
       "      <td>ROLO DE LIMPEZA /SP</td>\n",
       "      <td>VANESSA ARAUJO</td>\n",
       "      <td>VENDA INDIRETA</td>\n",
       "      <td>0</td>\n",
       "      <td>...</td>\n",
       "      <td>0</td>\n",
       "      <td>0</td>\n",
       "      <td>0</td>\n",
       "      <td>0</td>\n",
       "      <td>0</td>\n",
       "      <td>0</td>\n",
       "      <td>0</td>\n",
       "      <td>0</td>\n",
       "      <td>0</td>\n",
       "      <td>0</td>\n",
       "    </tr>\n",
       "    <tr>\n",
       "      <th>96</th>\n",
       "      <td>AD7ER72500</td>\n",
       "      <td>2</td>\n",
       "      <td>0</td>\n",
       "      <td>0</td>\n",
       "      <td>0</td>\n",
       "      <td>0</td>\n",
       "      <td>CONJUNTO DE ROLO /1</td>\n",
       "      <td>REGILENE DE CASSIA LUIZ OLIVEIRA</td>\n",
       "      <td>VENDA DIRETA</td>\n",
       "      <td>0</td>\n",
       "      <td>...</td>\n",
       "      <td>AD7ER72500</td>\n",
       "      <td>-</td>\n",
       "      <td>-</td>\n",
       "      <td>-</td>\n",
       "      <td>-</td>\n",
       "      <td>0</td>\n",
       "      <td>0</td>\n",
       "      <td>0</td>\n",
       "      <td>0</td>\n",
       "      <td>0</td>\n",
       "    </tr>\n",
       "    <tr>\n",
       "      <th>97</th>\n",
       "      <td>AD7ER72600</td>\n",
       "      <td>2</td>\n",
       "      <td>0</td>\n",
       "      <td>0</td>\n",
       "      <td>0</td>\n",
       "      <td>0</td>\n",
       "      <td>CONJUNTO DE ROLO /2</td>\n",
       "      <td>REGILENE DE CASSIA LUIZ OLIVEIRA</td>\n",
       "      <td>VENDA DIRETA</td>\n",
       "      <td>0</td>\n",
       "      <td>...</td>\n",
       "      <td>AD7ER72600</td>\n",
       "      <td>-</td>\n",
       "      <td>-</td>\n",
       "      <td>-</td>\n",
       "      <td>-</td>\n",
       "      <td>0</td>\n",
       "      <td>0</td>\n",
       "      <td>0</td>\n",
       "      <td>0</td>\n",
       "      <td>0</td>\n",
       "    </tr>\n",
       "    <tr>\n",
       "      <th>98</th>\n",
       "      <td>SP00-0220</td>\n",
       "      <td>0</td>\n",
       "      <td>0</td>\n",
       "      <td>0</td>\n",
       "      <td>0</td>\n",
       "      <td>19</td>\n",
       "      <td>TERMOSTATO INFERIOR</td>\n",
       "      <td>ROBERTA MACHADO</td>\n",
       "      <td>VENDA INDIRETA</td>\n",
       "      <td>0</td>\n",
       "      <td>...</td>\n",
       "      <td>0</td>\n",
       "      <td>0</td>\n",
       "      <td>0</td>\n",
       "      <td>0</td>\n",
       "      <td>0</td>\n",
       "      <td>0</td>\n",
       "      <td>0</td>\n",
       "      <td>0</td>\n",
       "      <td>Sim</td>\n",
       "      <td>6</td>\n",
       "    </tr>\n",
       "    <tr>\n",
       "      <th>99</th>\n",
       "      <td>Z907284300</td>\n",
       "      <td>0</td>\n",
       "      <td>0</td>\n",
       "      <td>0</td>\n",
       "      <td>1</td>\n",
       "      <td>0</td>\n",
       "      <td>UNIDADE CIS - LEITOR DE IMAGEM HN12H-X03</td>\n",
       "      <td>JESSIE OLIVEIRA SILVA</td>\n",
       "      <td>NaN</td>\n",
       "      <td>0</td>\n",
       "      <td>...</td>\n",
       "      <td>Z907284300</td>\n",
       "      <td>Z90728430X</td>\n",
       "      <td>-</td>\n",
       "      <td>-</td>\n",
       "      <td>-</td>\n",
       "      <td>0</td>\n",
       "      <td>0</td>\n",
       "      <td>0</td>\n",
       "      <td>0</td>\n",
       "      <td>0</td>\n",
       "    </tr>\n",
       "  </tbody>\n",
       "</table>\n",
       "<p>100 rows × 34 columns</p>\n",
       "</div>"
      ],
      "text/plain": [
       "      Material  CE04_zva70  CE05_zva70  CE07_zva70  CE11_zva70  CE13_zva70  \\\n",
       "0    15AG76710           0           0           0           2           0   \n",
       "1   15BA77031E           0           0           0           0          13   \n",
       "2   20AAR70600           0           0           0           0           1   \n",
       "3    25AA77890           0           0           0           1           0   \n",
       "4   4038258001           0           0           0           1           0   \n",
       "..         ...         ...         ...         ...         ...         ...   \n",
       "95  AD7EP72200           1           0           0           0           0   \n",
       "96  AD7ER72500           2           0           0           0           0   \n",
       "97  AD7ER72600           2           0           0           0           0   \n",
       "98   SP00-0220           0           0           0           0          19   \n",
       "99  Z907284300           0           0           0           1           0   \n",
       "\n",
       "                                 Denominação  \\\n",
       "0                                  CORREIA 2   \n",
       "1                       ENGRENAGEM 27 DENTES   \n",
       "2                                   LIMPADOR   \n",
       "3                       ENGRENAGEM 36 DENTES   \n",
       "4                             ENGRENAGEM 16D   \n",
       "..                                       ...   \n",
       "95                       ROLO DE LIMPEZA /SP   \n",
       "96                       CONJUNTO DE ROLO /1   \n",
       "97                       CONJUNTO DE ROLO /2   \n",
       "98                       TERMOSTATO INFERIOR   \n",
       "99  UNIDADE CIS - LEITOR DE IMAGEM HN12H-X03   \n",
       "\n",
       "                          Criado por           Canal  Pendências Gerais  ...  \\\n",
       "0        JULIA MARIA MORETO DA SILVA    VENDA DIRETA                  0  ...   \n",
       "1                    ROBERTA MACHADO  VENDA INDIRETA                  0  ...   \n",
       "2          MARIANA PEREIRA DOS ANJOS  VENDA INDIRETA                  0  ...   \n",
       "3     JOÃO PAULO CLEMENTE DOS SANTOS             NaN                  0  ...   \n",
       "4        JULIA MARIA MORETO DA SILVA             NaN                  0  ...   \n",
       "..                               ...             ...                ...  ...   \n",
       "95                    VANESSA ARAUJO  VENDA INDIRETA                  0  ...   \n",
       "96  REGILENE DE CASSIA LUIZ OLIVEIRA    VENDA DIRETA                  0  ...   \n",
       "97  REGILENE DE CASSIA LUIZ OLIVEIRA    VENDA DIRETA                  0  ...   \n",
       "98                   ROBERTA MACHADO  VENDA INDIRETA                  0  ...   \n",
       "99             JESSIE OLIVEIRA SILVA             NaN                  0  ...   \n",
       "\n",
       "         Atual    Similar1  Similar2  Similar3  Similar4  Unnamed: 6  \\\n",
       "0            0           0         0         0         0           0   \n",
       "1            0           0         0         0         0           0   \n",
       "2            0           0         0         0         0           0   \n",
       "3            0           0         0         0         0           0   \n",
       "4            0           0         0         0         0           0   \n",
       "..         ...         ...       ...       ...       ...         ...   \n",
       "95           0           0         0         0         0           0   \n",
       "96  AD7ER72500           -         -         -         -           0   \n",
       "97  AD7ER72600           -         -         -         -           0   \n",
       "98           0           0         0         0         0           0   \n",
       "99  Z907284300  Z90728430X         -         -         -           0   \n",
       "\n",
       "    Unnamed: 7  Unnamed: 8  Durabilidade  Quant estoque 24/10/2024  \n",
       "0            0           0             0                         0  \n",
       "1            0           0             0                        21  \n",
       "2            0           0             0                         3  \n",
       "3            0           0             0                         0  \n",
       "4            0           0             0                         0  \n",
       "..         ...         ...           ...                       ...  \n",
       "95           0           0             0                         0  \n",
       "96           0           0             0                         0  \n",
       "97           0           0             0                         0  \n",
       "98           0           0           Sim                         6  \n",
       "99           0           0             0                         0  \n",
       "\n",
       "[100 rows x 34 columns]"
      ]
     },
     "execution_count": 18,
     "metadata": {},
     "output_type": "execute_result"
    }
   ],
   "source": [
    "merged_table_6"
   ]
  },
  {
   "cell_type": "code",
   "execution_count": 19,
   "metadata": {},
   "outputs": [],
   "source": [
    "colunas_para_remover = ['Unnamed: 6', 'Unnamed: 7', 'Unnamed: 8', 'Durabilidade', 'Quant estoque 24/10/2024']\n",
    "\n",
    "merged_table_6 = merged_table_6.drop(columns=colunas_para_remover, errors='ignore')"
   ]
  },
  {
   "cell_type": "code",
   "execution_count": 20,
   "metadata": {},
   "outputs": [
    {
     "data": {
      "text/plain": [
       "Index(['Material', 'CE04_zva70', 'CE05_zva70', 'CE07_zva70', 'CE11_zva70',\n",
       "       'CE13_zva70', 'Denominação', 'Criado por', 'Canal', 'Pendências Gerais',\n",
       "       'CE01_zstok', 'CE03_zstok', 'CE05_zstok', 'CE07_zstok', 'CE09_zstok',\n",
       "       'CE11_zstok', 'CE13_zstok', 'Contr.qualid.', 'Nov/24_FUP', 'Dez/24_FUP',\n",
       "       'Jan/24_FUP', 'Fev/24_Fup', 'Montante', 'Modelos Lista Técnica',\n",
       "       'Atual', 'Similar1', 'Similar2', 'Similar3', 'Similar4'],\n",
       "      dtype='object')"
      ]
     },
     "execution_count": 20,
     "metadata": {},
     "output_type": "execute_result"
    }
   ],
   "source": [
    "merged_table_6.columns"
   ]
  },
  {
   "cell_type": "code",
   "execution_count": 8,
   "metadata": {
    "id": "lw_1k4QZzb9j"
   },
   "outputs": [
    {
     "data": {
      "text/plain": [
       "Index(['Tipo material', 'Txt Tipo material', 'Material', 'Descrição',\n",
       "       'GrpMerc', 'Denom. Grupo Merc.', 'BU', 'Business Unit', 'Size',\n",
       "       'Print Size', 'Cor', 'Color/BW', 'Speed', 'Develop Name', 'Fabricante',\n",
       "       'Modelo Lista Manutenção', 'Seção LM', 'Qtde LM', 'Durabilidade LM',\n",
       "       'Page LM', 'Key LM', 'Destinations LM', 'Nota LM', 'Mais durabilidades',\n",
       "       'Modelos Lista Técnica', 'Classe', 'Status p/todos centros',\n",
       "       'Status p/todos canais', 'Preço venda', 'Moeda venda', 'Preço compra',\n",
       "       'Moeda compra', 'Qt.UMB', 'Unidade', '12/2023', '01/2024', '02/2024',\n",
       "       '03/2024', '04/2024', '05/2024', '06/2024', '07/2024', '08/2024',\n",
       "       '09/2024', '10/2024', '11/2024', 'Total Mov.', 'Média Mov.',\n",
       "       'Quant estoque 11/2024', 'Valor estoque 11/2024',\n",
       "       'Nº entradas de estoque', 'Quant total de consumo',\n",
       "       'Quant saída do estoque', 'Atendimentos 12/2024',\n",
       "       'Recebimentos 12/2024', 'Quant estoque 17/12/2024',\n",
       "       'Valor estoque 17/12/2024', 'Não faturado', 'Saldo Disponível',\n",
       "       'BKO 12/2023', 'BKO 01/2024', 'BKO 02/2024', 'BKO 03/2024',\n",
       "       'BKO 04/2024', 'BKO 05/2024', 'BKO 06/2024', 'BKO 07/2024',\n",
       "       'BKO 08/2024', 'BKO 09/2024', 'BKO 10/2024', 'BKO 11/2024',\n",
       "       'BKO 12/2024 ~', 'Backorder total', 'P.O. 12/2024', 'P.O. 01/2025',\n",
       "       'P.O. 02/2025', 'P.O. 03/2025', 'P.O. 04/2025', 'P.O. 05/2025', 'Atual',\n",
       "       'Similar1', 'Similar2', 'Similar3', 'Similar4'],\n",
       "      dtype='object')"
      ]
     },
     "execution_count": 8,
     "metadata": {},
     "output_type": "execute_result"
    }
   ],
   "source": [
    "ztsd017_data.columns"
   ]
  },
  {
   "cell_type": "code",
   "execution_count": 21,
   "metadata": {},
   "outputs": [],
   "source": [
    "estoque_coluna_indice = 52\n",
    "\n",
    "coluna_estoque = ztsd017_data.iloc[:, estoque_coluna_indice]\n",
    "\n",
    "def buscar_estoque(material, df_estoque, estoque_coluna_indice):\n",
    "    if material in df_estoque['Material'].values:\n",
    "        return df_estoque.loc[df_estoque['Material'] == material].iloc[0, estoque_coluna_indice]\n",
    "    return 0"
   ]
  },
  {
   "cell_type": "code",
   "execution_count": 22,
   "metadata": {},
   "outputs": [],
   "source": [
    "def buscar_estoque_similar(row, df_estoque, estoque_coluna_indice):\n",
    "    materiais = ['Material', 'Atual', 'Similar1', 'Similar2', 'Similar3', 'Similar4']\n",
    "    \n",
    "    for material_col in materiais:\n",
    "        if material_col in row.index and pd.notna(row[material_col]):\n",
    "            estoque = buscar_estoque(row[material_col], df_estoque, estoque_coluna_indice)\n",
    "            if estoque > 0:\n",
    "                return estoque \n",
    "    return 0  "
   ]
  },
  {
   "cell_type": "code",
   "execution_count": 23,
   "metadata": {},
   "outputs": [
    {
     "data": {
      "text/html": [
       "<div>\n",
       "<style scoped>\n",
       "    .dataframe tbody tr th:only-of-type {\n",
       "        vertical-align: middle;\n",
       "    }\n",
       "\n",
       "    .dataframe tbody tr th {\n",
       "        vertical-align: top;\n",
       "    }\n",
       "\n",
       "    .dataframe thead th {\n",
       "        text-align: right;\n",
       "    }\n",
       "</style>\n",
       "<table border=\"1\" class=\"dataframe\">\n",
       "  <thead>\n",
       "    <tr style=\"text-align: right;\">\n",
       "      <th></th>\n",
       "      <th>Material</th>\n",
       "      <th>CE04_zva70</th>\n",
       "      <th>CE05_zva70</th>\n",
       "      <th>CE07_zva70</th>\n",
       "      <th>CE11_zva70</th>\n",
       "      <th>CE13_zva70</th>\n",
       "      <th>Denominação</th>\n",
       "      <th>Criado por</th>\n",
       "      <th>Canal</th>\n",
       "      <th>Pendências Gerais</th>\n",
       "      <th>...</th>\n",
       "      <th>Jan/24_FUP</th>\n",
       "      <th>Fev/24_Fup</th>\n",
       "      <th>Montante</th>\n",
       "      <th>Modelos Lista Técnica</th>\n",
       "      <th>Atual</th>\n",
       "      <th>Similar1</th>\n",
       "      <th>Similar2</th>\n",
       "      <th>Similar3</th>\n",
       "      <th>Similar4</th>\n",
       "      <th>Quant estoque</th>\n",
       "    </tr>\n",
       "  </thead>\n",
       "  <tbody>\n",
       "    <tr>\n",
       "      <th>0</th>\n",
       "      <td>15AG76710</td>\n",
       "      <td>0</td>\n",
       "      <td>0</td>\n",
       "      <td>0</td>\n",
       "      <td>2</td>\n",
       "      <td>0</td>\n",
       "      <td>CORREIA 2</td>\n",
       "      <td>JULIA MARIA MORETO DA SILVA</td>\n",
       "      <td>VENDA DIRETA</td>\n",
       "      <td>0</td>\n",
       "      <td>...</td>\n",
       "      <td>0</td>\n",
       "      <td>0</td>\n",
       "      <td>1.20</td>\n",
       "      <td>FD-501/FD-503/FS-532/FS-532 PK-SD/OT-512</td>\n",
       "      <td>0</td>\n",
       "      <td>0</td>\n",
       "      <td>0</td>\n",
       "      <td>0</td>\n",
       "      <td>0</td>\n",
       "      <td>0.0</td>\n",
       "    </tr>\n",
       "    <tr>\n",
       "      <th>1</th>\n",
       "      <td>15BA77031E</td>\n",
       "      <td>0</td>\n",
       "      <td>0</td>\n",
       "      <td>0</td>\n",
       "      <td>0</td>\n",
       "      <td>13</td>\n",
       "      <td>ENGRENAGEM 27 DENTES</td>\n",
       "      <td>ROBERTA MACHADO</td>\n",
       "      <td>VENDA INDIRETA</td>\n",
       "      <td>0</td>\n",
       "      <td>...</td>\n",
       "      <td>0</td>\n",
       "      <td>0</td>\n",
       "      <td>0.44</td>\n",
       "      <td>LU-201/PF-701/PF-703/PF-704/PF-707/PF-707M</td>\n",
       "      <td>0</td>\n",
       "      <td>0</td>\n",
       "      <td>0</td>\n",
       "      <td>0</td>\n",
       "      <td>0</td>\n",
       "      <td>0.0</td>\n",
       "    </tr>\n",
       "    <tr>\n",
       "      <th>2</th>\n",
       "      <td>20AAR70600</td>\n",
       "      <td>0</td>\n",
       "      <td>0</td>\n",
       "      <td>0</td>\n",
       "      <td>0</td>\n",
       "      <td>1</td>\n",
       "      <td>LIMPADOR</td>\n",
       "      <td>MARIANA PEREIRA DOS ANJOS</td>\n",
       "      <td>VENDA INDIRETA</td>\n",
       "      <td>0</td>\n",
       "      <td>...</td>\n",
       "      <td>0</td>\n",
       "      <td>0</td>\n",
       "      <td>3.58</td>\n",
       "      <td>LT-211/LU-202/LU-202M/LU-202XL/LU-202XLM/LU-208XL</td>\n",
       "      <td>0</td>\n",
       "      <td>0</td>\n",
       "      <td>0</td>\n",
       "      <td>0</td>\n",
       "      <td>0</td>\n",
       "      <td>0.0</td>\n",
       "    </tr>\n",
       "    <tr>\n",
       "      <th>3</th>\n",
       "      <td>25AA77890</td>\n",
       "      <td>0</td>\n",
       "      <td>0</td>\n",
       "      <td>0</td>\n",
       "      <td>1</td>\n",
       "      <td>0</td>\n",
       "      <td>ENGRENAGEM 36 DENTES</td>\n",
       "      <td>JOÃO PAULO CLEMENTE DOS SANTOS</td>\n",
       "      <td>NaN</td>\n",
       "      <td>0</td>\n",
       "      <td>...</td>\n",
       "      <td>0</td>\n",
       "      <td>0</td>\n",
       "      <td>0.84</td>\n",
       "      <td>8050/ACCURIOPRESS 6136P/ACCURIOPRESS 7136P/BIZ...</td>\n",
       "      <td>0</td>\n",
       "      <td>0</td>\n",
       "      <td>0</td>\n",
       "      <td>0</td>\n",
       "      <td>0</td>\n",
       "      <td>0.0</td>\n",
       "    </tr>\n",
       "    <tr>\n",
       "      <th>4</th>\n",
       "      <td>4038258001</td>\n",
       "      <td>0</td>\n",
       "      <td>0</td>\n",
       "      <td>0</td>\n",
       "      <td>1</td>\n",
       "      <td>0</td>\n",
       "      <td>ENGRENAGEM 16D</td>\n",
       "      <td>JULIA MARIA MORETO DA SILVA</td>\n",
       "      <td>NaN</td>\n",
       "      <td>0</td>\n",
       "      <td>...</td>\n",
       "      <td>0</td>\n",
       "      <td>0</td>\n",
       "      <td>1.59</td>\n",
       "      <td>0</td>\n",
       "      <td>0</td>\n",
       "      <td>0</td>\n",
       "      <td>0</td>\n",
       "      <td>0</td>\n",
       "      <td>0</td>\n",
       "      <td>0.0</td>\n",
       "    </tr>\n",
       "    <tr>\n",
       "      <th>...</th>\n",
       "      <td>...</td>\n",
       "      <td>...</td>\n",
       "      <td>...</td>\n",
       "      <td>...</td>\n",
       "      <td>...</td>\n",
       "      <td>...</td>\n",
       "      <td>...</td>\n",
       "      <td>...</td>\n",
       "      <td>...</td>\n",
       "      <td>...</td>\n",
       "      <td>...</td>\n",
       "      <td>...</td>\n",
       "      <td>...</td>\n",
       "      <td>...</td>\n",
       "      <td>...</td>\n",
       "      <td>...</td>\n",
       "      <td>...</td>\n",
       "      <td>...</td>\n",
       "      <td>...</td>\n",
       "      <td>...</td>\n",
       "      <td>...</td>\n",
       "    </tr>\n",
       "    <tr>\n",
       "      <th>95</th>\n",
       "      <td>AD7EP72200</td>\n",
       "      <td>1</td>\n",
       "      <td>0</td>\n",
       "      <td>0</td>\n",
       "      <td>0</td>\n",
       "      <td>0</td>\n",
       "      <td>ROLO DE LIMPEZA /SP</td>\n",
       "      <td>VANESSA ARAUJO</td>\n",
       "      <td>VENDA INDIRETA</td>\n",
       "      <td>0</td>\n",
       "      <td>...</td>\n",
       "      <td>0</td>\n",
       "      <td>0</td>\n",
       "      <td>562.08</td>\n",
       "      <td>ACCURIOLABEL 400</td>\n",
       "      <td>0</td>\n",
       "      <td>0</td>\n",
       "      <td>0</td>\n",
       "      <td>0</td>\n",
       "      <td>0</td>\n",
       "      <td>0.0</td>\n",
       "    </tr>\n",
       "    <tr>\n",
       "      <th>96</th>\n",
       "      <td>AD7ER72500</td>\n",
       "      <td>2</td>\n",
       "      <td>0</td>\n",
       "      <td>0</td>\n",
       "      <td>0</td>\n",
       "      <td>0</td>\n",
       "      <td>CONJUNTO DE ROLO /1</td>\n",
       "      <td>REGILENE DE CASSIA LUIZ OLIVEIRA</td>\n",
       "      <td>VENDA DIRETA</td>\n",
       "      <td>0</td>\n",
       "      <td>...</td>\n",
       "      <td>2</td>\n",
       "      <td>0</td>\n",
       "      <td>173.93</td>\n",
       "      <td>ACCURIOLABEL 400</td>\n",
       "      <td>AD7ER72500</td>\n",
       "      <td>-</td>\n",
       "      <td>-</td>\n",
       "      <td>-</td>\n",
       "      <td>-</td>\n",
       "      <td>0.0</td>\n",
       "    </tr>\n",
       "    <tr>\n",
       "      <th>97</th>\n",
       "      <td>AD7ER72600</td>\n",
       "      <td>2</td>\n",
       "      <td>0</td>\n",
       "      <td>0</td>\n",
       "      <td>0</td>\n",
       "      <td>0</td>\n",
       "      <td>CONJUNTO DE ROLO /2</td>\n",
       "      <td>REGILENE DE CASSIA LUIZ OLIVEIRA</td>\n",
       "      <td>VENDA DIRETA</td>\n",
       "      <td>0</td>\n",
       "      <td>...</td>\n",
       "      <td>2</td>\n",
       "      <td>0</td>\n",
       "      <td>213.52</td>\n",
       "      <td>ACCURIOLABEL 400</td>\n",
       "      <td>AD7ER72600</td>\n",
       "      <td>-</td>\n",
       "      <td>-</td>\n",
       "      <td>-</td>\n",
       "      <td>-</td>\n",
       "      <td>0.0</td>\n",
       "    </tr>\n",
       "    <tr>\n",
       "      <th>98</th>\n",
       "      <td>SP00-0220</td>\n",
       "      <td>0</td>\n",
       "      <td>0</td>\n",
       "      <td>0</td>\n",
       "      <td>0</td>\n",
       "      <td>19</td>\n",
       "      <td>TERMOSTATO INFERIOR</td>\n",
       "      <td>ROBERTA MACHADO</td>\n",
       "      <td>VENDA INDIRETA</td>\n",
       "      <td>0</td>\n",
       "      <td>...</td>\n",
       "      <td>0</td>\n",
       "      <td>0</td>\n",
       "      <td>3.68</td>\n",
       "      <td>ACCURIOLABEL 190/BIZHUB PRESS C71CF/ACCURIOLAB...</td>\n",
       "      <td>0</td>\n",
       "      <td>0</td>\n",
       "      <td>0</td>\n",
       "      <td>0</td>\n",
       "      <td>0</td>\n",
       "      <td>19.0</td>\n",
       "    </tr>\n",
       "    <tr>\n",
       "      <th>99</th>\n",
       "      <td>Z907284300</td>\n",
       "      <td>0</td>\n",
       "      <td>0</td>\n",
       "      <td>0</td>\n",
       "      <td>1</td>\n",
       "      <td>0</td>\n",
       "      <td>UNIDADE CIS - LEITOR DE IMAGEM HN12H-X03</td>\n",
       "      <td>JESSIE OLIVEIRA SILVA</td>\n",
       "      <td>NaN</td>\n",
       "      <td>0</td>\n",
       "      <td>...</td>\n",
       "      <td>0</td>\n",
       "      <td>0</td>\n",
       "      <td>0.00</td>\n",
       "      <td>0</td>\n",
       "      <td>Z907284300</td>\n",
       "      <td>Z90728430X</td>\n",
       "      <td>-</td>\n",
       "      <td>-</td>\n",
       "      <td>-</td>\n",
       "      <td>0.0</td>\n",
       "    </tr>\n",
       "  </tbody>\n",
       "</table>\n",
       "<p>100 rows × 30 columns</p>\n",
       "</div>"
      ],
      "text/plain": [
       "      Material  CE04_zva70  CE05_zva70  CE07_zva70  CE11_zva70  CE13_zva70  \\\n",
       "0    15AG76710           0           0           0           2           0   \n",
       "1   15BA77031E           0           0           0           0          13   \n",
       "2   20AAR70600           0           0           0           0           1   \n",
       "3    25AA77890           0           0           0           1           0   \n",
       "4   4038258001           0           0           0           1           0   \n",
       "..         ...         ...         ...         ...         ...         ...   \n",
       "95  AD7EP72200           1           0           0           0           0   \n",
       "96  AD7ER72500           2           0           0           0           0   \n",
       "97  AD7ER72600           2           0           0           0           0   \n",
       "98   SP00-0220           0           0           0           0          19   \n",
       "99  Z907284300           0           0           0           1           0   \n",
       "\n",
       "                                 Denominação  \\\n",
       "0                                  CORREIA 2   \n",
       "1                       ENGRENAGEM 27 DENTES   \n",
       "2                                   LIMPADOR   \n",
       "3                       ENGRENAGEM 36 DENTES   \n",
       "4                             ENGRENAGEM 16D   \n",
       "..                                       ...   \n",
       "95                       ROLO DE LIMPEZA /SP   \n",
       "96                       CONJUNTO DE ROLO /1   \n",
       "97                       CONJUNTO DE ROLO /2   \n",
       "98                       TERMOSTATO INFERIOR   \n",
       "99  UNIDADE CIS - LEITOR DE IMAGEM HN12H-X03   \n",
       "\n",
       "                          Criado por           Canal  Pendências Gerais  ...  \\\n",
       "0        JULIA MARIA MORETO DA SILVA    VENDA DIRETA                  0  ...   \n",
       "1                    ROBERTA MACHADO  VENDA INDIRETA                  0  ...   \n",
       "2          MARIANA PEREIRA DOS ANJOS  VENDA INDIRETA                  0  ...   \n",
       "3     JOÃO PAULO CLEMENTE DOS SANTOS             NaN                  0  ...   \n",
       "4        JULIA MARIA MORETO DA SILVA             NaN                  0  ...   \n",
       "..                               ...             ...                ...  ...   \n",
       "95                    VANESSA ARAUJO  VENDA INDIRETA                  0  ...   \n",
       "96  REGILENE DE CASSIA LUIZ OLIVEIRA    VENDA DIRETA                  0  ...   \n",
       "97  REGILENE DE CASSIA LUIZ OLIVEIRA    VENDA DIRETA                  0  ...   \n",
       "98                   ROBERTA MACHADO  VENDA INDIRETA                  0  ...   \n",
       "99             JESSIE OLIVEIRA SILVA             NaN                  0  ...   \n",
       "\n",
       "    Jan/24_FUP  Fev/24_Fup  Montante  \\\n",
       "0            0           0      1.20   \n",
       "1            0           0      0.44   \n",
       "2            0           0      3.58   \n",
       "3            0           0      0.84   \n",
       "4            0           0      1.59   \n",
       "..         ...         ...       ...   \n",
       "95           0           0    562.08   \n",
       "96           2           0    173.93   \n",
       "97           2           0    213.52   \n",
       "98           0           0      3.68   \n",
       "99           0           0      0.00   \n",
       "\n",
       "                                Modelos Lista Técnica       Atual    Similar1  \\\n",
       "0            FD-501/FD-503/FS-532/FS-532 PK-SD/OT-512           0           0   \n",
       "1          LU-201/PF-701/PF-703/PF-704/PF-707/PF-707M           0           0   \n",
       "2   LT-211/LU-202/LU-202M/LU-202XL/LU-202XLM/LU-208XL           0           0   \n",
       "3   8050/ACCURIOPRESS 6136P/ACCURIOPRESS 7136P/BIZ...           0           0   \n",
       "4                                                   0           0           0   \n",
       "..                                                ...         ...         ...   \n",
       "95                                   ACCURIOLABEL 400           0           0   \n",
       "96                                   ACCURIOLABEL 400  AD7ER72500           -   \n",
       "97                                   ACCURIOLABEL 400  AD7ER72600           -   \n",
       "98  ACCURIOLABEL 190/BIZHUB PRESS C71CF/ACCURIOLAB...           0           0   \n",
       "99                                                  0  Z907284300  Z90728430X   \n",
       "\n",
       "    Similar2  Similar3  Similar4  Quant estoque  \n",
       "0          0         0         0            0.0  \n",
       "1          0         0         0            0.0  \n",
       "2          0         0         0            0.0  \n",
       "3          0         0         0            0.0  \n",
       "4          0         0         0            0.0  \n",
       "..       ...       ...       ...            ...  \n",
       "95         0         0         0            0.0  \n",
       "96         -         -         -            0.0  \n",
       "97         -         -         -            0.0  \n",
       "98         0         0         0           19.0  \n",
       "99         -         -         -            0.0  \n",
       "\n",
       "[100 rows x 30 columns]"
      ]
     },
     "execution_count": 23,
     "metadata": {},
     "output_type": "execute_result"
    }
   ],
   "source": [
    "merged_table_6['Quant estoque'] = merged_table_6.apply(\n",
    "    lambda row: buscar_estoque_similar(row, ztsd017_data, estoque_coluna_indice), axis=1\n",
    ")\n",
    "\n",
    "merged_table_6"
   ]
  },
  {
   "cell_type": "code",
   "execution_count": 24,
   "metadata": {},
   "outputs": [],
   "source": [
    "\n",
    "caminho_saida = r'C:\\Users\\fsp_adolpho.salvador\\Desktop\\Konica Minolta\\Desktop Cloud - Documentos\\Desktop\\Py\\Pendencias\\Arquivos\\Mapa2.xlsx'\n",
    "\n",
    "merged_table_6.to_excel(caminho_saida, index=True)"
   ]
  },
  {
   "cell_type": "code",
   "execution_count": null,
   "metadata": {},
   "outputs": [],
   "source": []
  }
 ],
 "metadata": {
  "colab": {
   "collapsed_sections": [
    "YybzIMWxlALi",
    "O1WlUUCLlErb",
    "1Koc5JwAlIsj",
    "0XgTbAT2JGgy",
    "NVf1Tr1JJKSB"
   ],
   "provenance": []
  },
  "kernelspec": {
   "display_name": "Python 3",
   "name": "python3"
  },
  "language_info": {
   "codemirror_mode": {
    "name": "ipython",
    "version": 3
   },
   "file_extension": ".py",
   "mimetype": "text/x-python",
   "name": "python",
   "nbconvert_exporter": "python",
   "pygments_lexer": "ipython3",
   "version": "3.12.3"
  }
 },
 "nbformat": 4,
 "nbformat_minor": 0
}
