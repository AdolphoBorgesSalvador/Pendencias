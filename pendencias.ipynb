{
  "cells": [
    {
      "cell_type": "markdown",
      "metadata": {},
      "source": [
        "# Code"
      ]
    },
    {
      "cell_type": "markdown",
      "metadata": {},
      "source": [
        "## Set"
      ]
    },
    {
      "cell_type": "code",
      "execution_count": 43,
      "metadata": {
        "id": "TocGuzNwlVlT"
      },
      "outputs": [],
      "source": [
        "import pandas as pd"
      ]
    },
    {
      "cell_type": "code",
      "execution_count": 44,
      "metadata": {
        "id": "Bow97gC5gJK3"
      },
      "outputs": [],
      "source": [
        "caminho_pend = r'C:\\Users\\fsp_adolpho.salvador\\Desktop\\Konica Minolta\\Desktop Cloud - Documentos\\Desktop\\Py\\Pendencias\\PEND.XLSX'\n",
        "caminho_pend_geral = r'C:\\Users\\fsp_adolpho.salvador\\Desktop\\Konica Minolta\\Desktop Cloud - Documentos\\Desktop\\Py\\Pendencias\\pend geral.XLSX'\n",
        "caminho_zstok = r'C:\\Users\\fsp_adolpho.salvador\\Desktop\\Konica Minolta\\Desktop Cloud - Documentos\\Desktop\\Py\\Pendencias\\zstok.XLSX'\n",
        "caminho_fup = r'C:\\Users\\fsp_adolpho.salvador\\Desktop\\Konica Minolta\\Desktop Cloud - Documentos\\Desktop\\Py\\Pendencias\\fup.XLSX'\n",
        "caminho_fob = r'C:\\Users\\fsp_adolpho.salvador\\Desktop\\Konica Minolta\\Desktop Cloud - Documentos\\Desktop\\Py\\Pendencias\\ZTMM069.XLSX'\n",
        "caminho_pecas = r'C:\\Users\\fsp_adolpho.salvador\\Desktop\\Konica Minolta\\Desktop Cloud - Documentos\\Desktop\\Py\\Pendencias\\ZTMM085.XLSX'\n",
        "caminho_atuais = r'C:\\Users\\fsp_adolpho.salvador\\Desktop\\Konica Minolta\\Desktop Cloud - Documentos\\Desktop\\Py\\Pendencias\\atuais.xlsx'\n",
        "caminho_classificacao =r'C:\\Users\\fsp_adolpho.salvador\\Desktop\\Konica Minolta\\Desktop Cloud - Documentos\\Desktop\\Py\\Pendencias\\Classificação das Peças.xlsx'"
      ]
    },
    {
      "cell_type": "markdown",
      "metadata": {
        "id": "YybzIMWxlALi"
      },
      "source": [
        "## Pendências"
      ]
    },
    {
      "cell_type": "code",
      "execution_count": 45,
      "metadata": {
        "id": "PufxUea3lZXr"
      },
      "outputs": [],
      "source": [
        "pendencias = pd.read_excel(caminho_pend)"
      ]
    },
    {
      "cell_type": "code",
      "execution_count": 46,
      "metadata": {
        "colab": {
          "base_uri": "https://localhost:8080/"
        },
        "id": "mV-INAiSmEyU",
        "outputId": "5e4e28da-0cd9-4a18-f3d7-3c702a8d1dae"
      },
      "outputs": [
        {
          "data": {
            "text/plain": [
              "Index(['Nome 1', 'Cliente', 'Doc.vendas', 'Criado em', 'Item', 'Material',\n",
              "       'Denominação', 'Tipo material', 'Centro', 'Quantidade da ordem',\n",
              "       'Qtd.confirm.acumul.', 'Qtd.pendente', 'Unidade venda',\n",
              "       'Data de remessa', 'Criado por', 'Canal', 'Classificação'],\n",
              "      dtype='object')"
            ]
          },
          "execution_count": 46,
          "metadata": {},
          "output_type": "execute_result"
        }
      ],
      "source": [
        "pendencias.columns\n"
      ]
    },
    {
      "cell_type": "code",
      "execution_count": 47,
      "metadata": {
        "colab": {
          "base_uri": "https://localhost:8080/"
        },
        "id": "MeT87jF5qTOq",
        "outputId": "b79fb7db-8211-41ce-9687-0333a4c8814c"
      },
      "outputs": [
        {
          "name": "stdout",
          "output_type": "stream",
          "text": [
            "                               Criado por           Canal\n",
            "0                               ANA PAULA  VENDA INDIRETA\n",
            "1                    THAYS JESUS DE SOUZA    VENDA DIRETA\n",
            "2          JOÃO PAULO CLEMENTE DOS SANTOS             NaN\n",
            "3                               ANA PAULA  VENDA INDIRETA\n",
            "4               MARIANA PEREIRA DOS ANJOS  VENDA INDIRETA\n",
            "..                                    ...             ...\n",
            "145                       ROBERTA MACHADO  VENDA INDIRETA\n",
            "146                       ROBERTA MACHADO  VENDA INDIRETA\n",
            "147  MILENA PIMENTEL MONTEIRO DE OLIVEIRA             NaN\n",
            "148  MILENA PIMENTEL MONTEIRO DE OLIVEIRA             NaN\n",
            "149  MILENA PIMENTEL MONTEIRO DE OLIVEIRA             NaN\n",
            "\n",
            "[150 rows x 2 columns]\n"
          ]
        }
      ],
      "source": [
        "# Substitua a lista pelos nomes das colunas que você deseja visualizar\n",
        "colunas_selecionadas = pendencias[[ 'Criado por',\"Canal\"]]\n",
        "\n",
        "# Exibir as colunas selecionadas\n",
        "print(colunas_selecionadas)\n"
      ]
    },
    {
      "cell_type": "code",
      "execution_count": 48,
      "metadata": {
        "colab": {
          "base_uri": "https://localhost:8080/"
        },
        "id": "rhz6J-PsmXZP",
        "outputId": "310afde0-923c-44ec-c93b-054718245d52"
      },
      "outputs": [
        {
          "name": "stdout",
          "output_type": "stream",
          "text": [
            "O número de linhas em merged_table é: 150\n"
          ]
        }
      ],
      "source": [
        "num_linhas = pendencias.shape[0]\n",
        "\n",
        "# Exibir o número de linhas\n",
        "print(f'O número de linhas em merged_table é: {num_linhas}')\n",
        "\n"
      ]
    },
    {
      "cell_type": "code",
      "execution_count": 49,
      "metadata": {
        "colab": {
          "base_uri": "https://localhost:8080/"
        },
        "id": "y6pzFUwumNdt",
        "outputId": "2d345a72-63c3-4610-827d-ce219e571a66"
      },
      "outputs": [
        {
          "name": "stdout",
          "output_type": "stream",
          "text": [
            "Centro      CE03_zva70  CE04_zva70  CE05_zva70  CE11_zva70  CE13_zva70\n",
            "Material                                                              \n",
            "20AA15140            0           0           0           0           2\n",
            "26NA32870            0           0           0           0          10\n",
            "4030520401           0           0           0           0          20\n",
            "50BA40220            0           0           0           1           0\n",
            "55VA77890            0           0           0           1           0\n",
            "...                ...         ...         ...         ...         ...\n",
            "AC0C841400           0           0           0           1           0\n",
            "AC0CM50200           0           0           0           2           0\n",
            "AC0CR70622           0           0           0           1           0\n",
            "DD1A012A30           0           0           0           1           0\n",
            "V500020030           0           0           0           6           0\n",
            "\n",
            "[137 rows x 5 columns]\n"
          ]
        }
      ],
      "source": [
        "import pandas as pd\n",
        "\n",
        "# Se você já não tiver feito isso, crie a tabela dinâmica como mostrado no código fornecido\n",
        "tabela_dinamica_pend = pd.pivot_table(pendencias, values='Qtd.pendente', index='Material', columns='Centro', aggfunc='sum', fill_value=0)\n",
        "tabela_dinamica_pend = tabela_dinamica_pend.add_suffix('_zva70')\n",
        "\n",
        "# Exibir a tabela dinâmica com as colunas adicionadas\n",
        "print(tabela_dinamica_pend)\n",
        "\n"
      ]
    },
    {
      "cell_type": "code",
      "execution_count": 50,
      "metadata": {
        "colab": {
          "base_uri": "https://localhost:8080/"
        },
        "id": "xu2h5mTo5C2k",
        "outputId": "34a5239c-fda2-4cec-c508-a6a8e7fe12e9"
      },
      "outputs": [
        {
          "name": "stdout",
          "output_type": "stream",
          "text": [
            "                        Denominação\n",
            "Material                           \n",
            "20AA15140               CABO DE AÇO\n",
            "26NA32870         MOLA DE PRESSÃO 2\n",
            "4030520401                     SELO\n",
            "50BA40220                      ROLO\n",
            "55VA77890           ENGRENAGEM 20 D\n",
            "...                             ...\n",
            "AC0C841400                     ROLO\n",
            "AC0CM50200     Photointerrupter  /S\n",
            "AC0CR70622  CONJUNTO CAIXA COLETORA\n",
            "DD1A012A30        CONJUNTO DE FUSÃO\n",
            "V500020030                    GARRA\n",
            "\n",
            "[137 rows x 1 columns]\n"
          ]
        }
      ],
      "source": [
        "tabela_dinamica_pend2 = pd.pivot_table(pendencias, values='Denominação', index='Material', aggfunc='first', fill_value=0)\n",
        "\n",
        "print(tabela_dinamica_pend2)"
      ]
    },
    {
      "cell_type": "code",
      "execution_count": 51,
      "metadata": {
        "colab": {
          "base_uri": "https://localhost:8080/"
        },
        "id": "f8VigsvV56_B",
        "outputId": "6a55d80c-4884-4b0f-a44b-e3e5b45360b4"
      },
      "outputs": [
        {
          "name": "stdout",
          "output_type": "stream",
          "text": [
            "                                      Criado por\n",
            "Material                                        \n",
            "20AA15140              MARIANA PEREIRA DOS ANJOS\n",
            "26NA32870              MARIANA PEREIRA DOS ANJOS\n",
            "4030520401                             ANA PAULA\n",
            "50BA40220                        ROBERTA MACHADO\n",
            "55VA77890       REGILENE DE CASSIA LUIZ OLIVEIRA\n",
            "...                                          ...\n",
            "AC0C841400  MILENA PIMENTEL MONTEIRO DE OLIVEIRA\n",
            "AC0CM50200  MILENA PIMENTEL MONTEIRO DE OLIVEIRA\n",
            "AC0CR70622  MILENA PIMENTEL MONTEIRO DE OLIVEIRA\n",
            "DD1A012A30        JOÃO PAULO CLEMENTE DOS SANTOS\n",
            "V500020030  MILENA PIMENTEL MONTEIRO DE OLIVEIRA\n",
            "\n",
            "[137 rows x 1 columns]\n",
            "                     Canal\n",
            "Material                  \n",
            "20AA15140   VENDA INDIRETA\n",
            "26NA32870   VENDA INDIRETA\n",
            "4030520401  VENDA INDIRETA\n",
            "50BA40220   VENDA INDIRETA\n",
            "55VA77890              nan\n",
            "...                    ...\n",
            "AC0C841400    VENDA DIRETA\n",
            "AC0CM50200    VENDA DIRETA\n",
            "AC0CR70622    VENDA DIRETA\n",
            "DD1A012A30    VENDA DIRETA\n",
            "V500020030             nan\n",
            "\n",
            "[137 rows x 1 columns]\n"
          ]
        }
      ],
      "source": [
        "tabela_dinamica_pend3 = pd.pivot_table(pendencias, values='Criado por', index='Material', aggfunc=lambda x: '/'.join(x), fill_value='')\n",
        "tabela_dinamica_pend4 = pd.pivot_table(pendencias, values='Canal', index='Material', aggfunc=lambda x: '/'.join(str(v) for v in x), fill_value='')\n",
        "\n",
        "print(tabela_dinamica_pend3)\n",
        "print(tabela_dinamica_pend4)"
      ]
    },
    {
      "cell_type": "code",
      "execution_count": 52,
      "metadata": {
        "colab": {
          "base_uri": "https://localhost:8080/"
        },
        "id": "Ci8wemth6STh",
        "outputId": "7ff9823c-41db-4015-9075-0858a2011a34"
      },
      "outputs": [
        {
          "name": "stdout",
          "output_type": "stream",
          "text": [
            "            CE03_zva70  CE04_zva70  CE05_zva70  CE11_zva70  CE13_zva70  \\\n",
            "Material                                                                 \n",
            "20AA15140            0           0           0           0           2   \n",
            "26NA32870            0           0           0           0          10   \n",
            "4030520401           0           0           0           0          20   \n",
            "50BA40220            0           0           0           1           0   \n",
            "55VA77890            0           0           0           1           0   \n",
            "...                ...         ...         ...         ...         ...   \n",
            "AC0C841400           0           0           0           1           0   \n",
            "AC0CM50200           0           0           0           2           0   \n",
            "AC0CR70622           0           0           0           1           0   \n",
            "DD1A012A30           0           0           0           1           0   \n",
            "V500020030           0           0           0           6           0   \n",
            "\n",
            "                        Denominação                            Criado por  \\\n",
            "Material                                                                    \n",
            "20AA15140               CABO DE AÇO             MARIANA PEREIRA DOS ANJOS   \n",
            "26NA32870         MOLA DE PRESSÃO 2             MARIANA PEREIRA DOS ANJOS   \n",
            "4030520401                     SELO                             ANA PAULA   \n",
            "50BA40220                      ROLO                       ROBERTA MACHADO   \n",
            "55VA77890           ENGRENAGEM 20 D      REGILENE DE CASSIA LUIZ OLIVEIRA   \n",
            "...                             ...                                   ...   \n",
            "AC0C841400                     ROLO  MILENA PIMENTEL MONTEIRO DE OLIVEIRA   \n",
            "AC0CM50200     Photointerrupter  /S  MILENA PIMENTEL MONTEIRO DE OLIVEIRA   \n",
            "AC0CR70622  CONJUNTO CAIXA COLETORA  MILENA PIMENTEL MONTEIRO DE OLIVEIRA   \n",
            "DD1A012A30        CONJUNTO DE FUSÃO        JOÃO PAULO CLEMENTE DOS SANTOS   \n",
            "V500020030                    GARRA  MILENA PIMENTEL MONTEIRO DE OLIVEIRA   \n",
            "\n",
            "                     Canal  \n",
            "Material                    \n",
            "20AA15140   VENDA INDIRETA  \n",
            "26NA32870   VENDA INDIRETA  \n",
            "4030520401  VENDA INDIRETA  \n",
            "50BA40220   VENDA INDIRETA  \n",
            "55VA77890              nan  \n",
            "...                    ...  \n",
            "AC0C841400    VENDA DIRETA  \n",
            "AC0CM50200    VENDA DIRETA  \n",
            "AC0CR70622    VENDA DIRETA  \n",
            "DD1A012A30    VENDA DIRETA  \n",
            "V500020030             nan  \n",
            "\n",
            "[137 rows x 8 columns]\n"
          ]
        }
      ],
      "source": [
        "# Realizar left join entre as tabelas usando a coluna \"Material\" como chave\n",
        "merged_table_pend = tabela_dinamica_pend.merge(tabela_dinamica_pend2, how='left', left_index=True, right_index=True)\n",
        "merged_table_pend2 = merged_table_pend.merge(tabela_dinamica_pend3, how='left', left_index=True, right_index=True)\n",
        "_table_pend = merged_table_pend2.merge(tabela_dinamica_pend4, how='left', left_index=True, right_index=True)\n",
        "# Preencher valores nulos com zero\n",
        "_table_pend = _table_pend.fillna(0)\n",
        "\n",
        "print(_table_pend)"
      ]
    },
    {
      "cell_type": "markdown",
      "metadata": {
        "id": "O1WlUUCLlErb"
      },
      "source": [
        "## Pendencia geral"
      ]
    },
    {
      "cell_type": "code",
      "execution_count": 53,
      "metadata": {
        "id": "YoDWXIOQneYO"
      },
      "outputs": [],
      "source": [
        "pendencias_geral = pd.read_excel(caminho_pend_geral)"
      ]
    },
    {
      "cell_type": "code",
      "execution_count": 54,
      "metadata": {
        "colab": {
          "base_uri": "https://localhost:8080/"
        },
        "id": "bpySQbrYXNmV",
        "outputId": "f456d55d-360c-4e47-ac6b-622359dca4ef"
      },
      "outputs": [
        {
          "data": {
            "text/plain": [
              "<bound method NDFrame.head of                                   Nome 1  Cliente  Doc.vendas  Criado em  \\\n",
              "0        3EX COM DE PROD. INFORM.LTDA ME     3117      202323 2024-03-01   \n",
              "1        3EX COM DE PROD. INFORM.LTDA ME     3117      204617 2024-06-05   \n",
              "2        3EX COM DE PROD. INFORM.LTDA ME     3117      205451 2024-07-10   \n",
              "3      ATANER DIG COP E SS DE IMP EIRELI    11081    50191295 2024-04-26   \n",
              "4    AUTOMACAO IND E C. DE ROT E ETIQ EI     9871      200436 2023-11-30   \n",
              "..                                   ...      ...         ...        ...   \n",
              "428           WBL GRAFICA E EDITORA LTDA    10113    50195626 2024-07-23   \n",
              "429           WBL GRAFICA E EDITORA LTDA    10113    50195626 2024-07-23   \n",
              "430           WBL GRAFICA E EDITORA LTDA    10113    50196107 2024-07-31   \n",
              "431           WBL GRAFICA E EDITORA LTDA    10113    50196349 2024-08-05   \n",
              "432   WITTE COMERCIO E SERVICOS GRAFICOS     2873    50197564 2024-08-27   \n",
              "\n",
              "     Item    Material                        Denominação Tipo material Centro  \\\n",
              "0      70  A1DU808600                  ENGRENAGEM 20/29T          PCPS   CE13   \n",
              "1      10  V226030050                   ANEL DE PLÁSTICO          PCPS   CE13   \n",
              "2      30  AA2JR70322            UNIDADE DE FUSÃO (120V)          PCPS   CE05   \n",
              "3      10  A50UN14001  FIAÇÃO DE ALIMENTAÇÃO DE PAPEL /2          PCPS   CE11   \n",
              "4      10  A8GJPP0600                       CORREIA EM V          PCPS   CE09   \n",
              "..    ...         ...                                ...           ...    ...   \n",
              "428    50  A9VP727600                               SELO          PCPS   CE11   \n",
              "429    60  A9VP727700                          SELO GUIA          PCPS   CE11   \n",
              "430    60  A50U401200                   Selo de proteção          PCPS   CE11   \n",
              "431    30  A21ER70400              CONJUNTO DE SOLENÓIDE          PCPS   CE11   \n",
              "432    10  A4EU400800                             TRILHO          PCPS   CE11   \n",
              "\n",
              "     Quantidade da ordem  Qtd.confirm.acumul.  Qtd.pendente Unidade venda  \\\n",
              "0                      1                    0             1            PÇ   \n",
              "1                      1                    0             1            PÇ   \n",
              "2                      1                    0             1            PÇ   \n",
              "3                      1                    0             1            PÇ   \n",
              "4                      1                    0             1            PÇ   \n",
              "..                   ...                  ...           ...           ...   \n",
              "428                    3                    0             3            PÇ   \n",
              "429                    6                    0             6            PÇ   \n",
              "430                    4                    0             4            PÇ   \n",
              "431                    1                    0             1            PÇ   \n",
              "432                    1                    0             1            PÇ   \n",
              "\n",
              "    Data de remessa                        Criado por           Canal  \\\n",
              "0        2024-05-30                   ROBERTA MACHADO  VENDA INDIRETA   \n",
              "1        2024-09-03                   ROBERTA MACHADO  VENDA INDIRETA   \n",
              "2        2024-10-08                   ROBERTA MACHADO  VENDA INDIRETA   \n",
              "3        2024-07-25             JESSIE OLIVEIRA SILVA    VENDA DIRETA   \n",
              "4        2024-02-28                    VICTOR GODINHO             NaN   \n",
              "..              ...                               ...             ...   \n",
              "428      2024-10-21  REGILENE DE CASSIA LUIZ OLIVEIRA             NaN   \n",
              "429      2024-10-21  REGILENE DE CASSIA LUIZ OLIVEIRA             NaN   \n",
              "430      2024-10-29  REGILENE DE CASSIA LUIZ OLIVEIRA             NaN   \n",
              "431      2024-11-03  REGILENE DE CASSIA LUIZ OLIVEIRA             NaN   \n",
              "432      2024-11-25         RODRIGO PEREIRA DOS ANJOS    VENDA DIRETA   \n",
              "\n",
              "    Classificação  \n",
              "0          REV VI  \n",
              "1          REV VI  \n",
              "2          REV VI  \n",
              "3      CLIENTE SP  \n",
              "4      CLIENTE RS  \n",
              "..            ...  \n",
              "428    CLIENTE SP  \n",
              "429    CLIENTE SP  \n",
              "430    CLIENTE SP  \n",
              "431    CLIENTE SP  \n",
              "432    CLIENTE SP  \n",
              "\n",
              "[433 rows x 17 columns]>"
            ]
          },
          "execution_count": 54,
          "metadata": {},
          "output_type": "execute_result"
        }
      ],
      "source": [
        "pendencias_geral.head"
      ]
    },
    {
      "cell_type": "code",
      "execution_count": 55,
      "metadata": {
        "colab": {
          "base_uri": "https://localhost:8080/"
        },
        "id": "tUlLUsv_nt9O",
        "outputId": "ba253d33-cd8f-49c5-d91d-89298c47b9e6"
      },
      "outputs": [
        {
          "data": {
            "text/plain": [
              "Index(['Nome 1', 'Cliente', 'Doc.vendas', 'Criado em', 'Item', 'Material',\n",
              "       'Denominação', 'Tipo material', 'Centro', 'Quantidade da ordem',\n",
              "       'Qtd.confirm.acumul.', 'Qtd.pendente', 'Unidade venda',\n",
              "       'Data de remessa', 'Criado por', 'Canal', 'Classificação'],\n",
              "      dtype='object')"
            ]
          },
          "execution_count": 55,
          "metadata": {},
          "output_type": "execute_result"
        }
      ],
      "source": [
        "pendencias_geral.columns"
      ]
    },
    {
      "cell_type": "code",
      "execution_count": 56,
      "metadata": {
        "colab": {
          "base_uri": "https://localhost:8080/"
        },
        "id": "RhCXEkBkn-IH",
        "outputId": "f71c9638-eee3-4d8f-a585-c958c53df495"
      },
      "outputs": [
        {
          "name": "stdout",
          "output_type": "stream",
          "text": [
            "            Pendências Gerais\n",
            "Material                     \n",
            "00VC200                     1\n",
            "07BA12352                   1\n",
            "12EJ41370                   2\n",
            "13GG15111                   1\n",
            "15AG12380                   2\n",
            "...                       ...\n",
            "V182030603                  1\n",
            "V223150004                  1\n",
            "V223170017                  2\n",
            "V226030050                  1\n",
            "Z907284300                  1\n",
            "\n",
            "[342 rows x 1 columns]\n"
          ]
        }
      ],
      "source": [
        "\n",
        "tabela_dinamica_pendente = pd.pivot_table(pendencias_geral, values='Qtd.pendente', index='Material', aggfunc='sum', fill_value=0)\n",
        "\n",
        "tabela_dinamica_pendente = tabela_dinamica_pendente.rename(columns={'Qtd.pendente': 'Pendências Gerais'})\n",
        "\n",
        "print(tabela_dinamica_pendente)\n",
        "\n"
      ]
    },
    {
      "cell_type": "markdown",
      "metadata": {
        "id": "1Koc5JwAlIsj"
      },
      "source": [
        "## zstok"
      ]
    },
    {
      "cell_type": "code",
      "execution_count": 57,
      "metadata": {
        "id": "vjBPjqgdp6aB"
      },
      "outputs": [],
      "source": [
        "zstok = pd.read_excel(caminho_zstok)"
      ]
    },
    {
      "cell_type": "code",
      "execution_count": 58,
      "metadata": {
        "colab": {
          "base_uri": "https://localhost:8080/"
        },
        "id": "J9xNs_oIqE63",
        "outputId": "16958948-75a0-46b6-bb08-80f5ffb652f6"
      },
      "outputs": [
        {
          "data": {
            "text/plain": [
              "Index(['   ', 'Material', 'Descrição', 'UMB', 'Cen.', 'Dep.', 'Pos.dpst.',\n",
              "       'Utiliz.livre', 'Contr.qualid.', 'Transf.dep.', 'Transfer.(centro)',\n",
              "       'Bloqueado', 'Estoque Total', 'Reservado', 'Remessa->Cliente', 'SC',\n",
              "       'Status todos centros', 'SV', 'Status vendas'],\n",
              "      dtype='object')"
            ]
          },
          "execution_count": 58,
          "metadata": {},
          "output_type": "execute_result"
        }
      ],
      "source": [
        "zstok.columns"
      ]
    },
    {
      "cell_type": "code",
      "execution_count": 59,
      "metadata": {
        "colab": {
          "base_uri": "https://localhost:8080/"
        },
        "id": "5oKNJqiQqXW4",
        "outputId": "21a2b91e-4612-448e-e6e9-c1198a880375"
      },
      "outputs": [
        {
          "name": "stdout",
          "output_type": "stream",
          "text": [
            "Cen.        CE01_zstok  CE03_zstok  CE05_zstok  CE07_zstok  CE09_zstok  \\\n",
            "Material                                                                 \n",
            "20AA15140            0           0           1           1           3   \n",
            "26NA32870            0           0           0           0           0   \n",
            "4030520401           0           0           0           6           0   \n",
            "50BA40220            0           0           0           2           0   \n",
            "56UA75070            0           0          20           1           3   \n",
            "56UA78030            1           0           0           0           0   \n",
            "65AA50320            0           0           0           2           1   \n",
            "65AA53651            0           0           0           2           0   \n",
            "65AA77380            0           0           4           0           1   \n",
            "9314230021           0           0           0           0           0   \n",
            "A03TM50000           0           0           0           1           0   \n",
            "A03U808700          10           0           0           0           0   \n",
            "A03U808811           0           0           0           2           0   \n",
            "A03U838900           0           0           0           0           3   \n",
            "A03U861002           0           0           0           1           1   \n",
            "A03UM32E00           0           0           0           2           2   \n",
            "A0GDR72300           0           0           1           0           0   \n",
            "A0HR223700           0           0           0           0           0   \n",
            "A1RF120600           0           0           2           0           0   \n",
            "A1RF121700           0           0           0           0           0   \n",
            "A1RF121900           0           0           0           0           0   \n",
            "A1RF435201           0           0           1           2           1   \n",
            "A1RF815801           0           0           2           0           0   \n",
            "A1UDM20000           0           0           0           7           1   \n",
            "A2UPN30501           0           0           0           2           0   \n",
            "A4EUR75P00           0           0           0           0           0   \n",
            "A4F3905400           0           0           6           0           2   \n",
            "A4F3R71511           0           0           1           0           1   \n",
            "A50U221701           0           0           0           0           0   \n",
            "A50U221800           0           0           1           0           0   \n",
            "A50U505800           0           0           1           0           0   \n",
            "A50U520001           0           0           0           9           0   \n",
            "A50U525900           0           0           0           7           1   \n",
            "A50UR70266           0           0           0          14           8   \n",
            "A5AW359800           0           0           0           0           0   \n",
            "A5AW808000           0           0           2           0           0   \n",
            "A5AW861000           0           0           0           0           2   \n",
            "A5AWR71400           0           0           0           0           0   \n",
            "A5AWR72300           0           0           0           0           0   \n",
            "A5C1562200           0           0           0          22           9   \n",
            "A5C1H0200B           0           0           0           2           0   \n",
            "A7X5720100           0           0           2           0           1   \n",
            "A92WR70211           0           0           3           5           2   \n",
            "A92WR70744           0           0           2           0           0   \n",
            "A92WR70R00           0           0           0           0           0   \n",
            "A9JTR71622           0           0           0           1           1   \n",
            "A9VE500200           0           1           4           8           0   \n",
            "A9VP758800           0           0           0           0           0   \n",
            "AA2JR70322           0           2           0          10           3   \n",
            "AC0C720300           0           0           0           0           0   \n",
            "DD1A012A30           0           0           0           1           0   \n",
            "\n",
            "Cen.        CE11_zstok  CE13_zstok  \n",
            "Material                            \n",
            "20AA15140            0           0  \n",
            "26NA32870            2           0  \n",
            "4030520401          22           0  \n",
            "50BA40220            0           0  \n",
            "56UA75070            0           0  \n",
            "56UA78030            0           0  \n",
            "65AA50320            0           0  \n",
            "65AA53651            0           0  \n",
            "65AA77380            3          10  \n",
            "9314230021           1           0  \n",
            "A03TM50000           0           1  \n",
            "A03U808700           0           0  \n",
            "A03U808811           0           0  \n",
            "A03U838900           0           0  \n",
            "A03U861002           0           0  \n",
            "A03UM32E00           0           0  \n",
            "A0GDR72300           0           0  \n",
            "A0HR223700           5           0  \n",
            "A1RF120600           3           0  \n",
            "A1RF121700           2           0  \n",
            "A1RF121900           2           0  \n",
            "A1RF435201           0           5  \n",
            "A1RF815801           0           0  \n",
            "A1UDM20000           0           0  \n",
            "A2UPN30501           1           0  \n",
            "A4EUR75P00           0           0  \n",
            "A4F3905400           0           6  \n",
            "A4F3R71511           5           0  \n",
            "A50U221701           1           0  \n",
            "A50U221800           2           0  \n",
            "A50U505800           4           2  \n",
            "A50U520001           0           0  \n",
            "A50U525900           2           0  \n",
            "A50UR70266           0           0  \n",
            "A5AW359800          11          18  \n",
            "A5AW808000           0           0  \n",
            "A5AW861000           1           1  \n",
            "A5AWR71400           0           1  \n",
            "A5AWR72300           0           2  \n",
            "A5C1562200         106          52  \n",
            "A5C1H0200B           0           1  \n",
            "A7X5720100           0           1  \n",
            "A92WR70211          27          46  \n",
            "A92WR70744           9           0  \n",
            "A92WR70R00           0           0  \n",
            "A9JTR71622           2           0  \n",
            "A9VE500200           1          30  \n",
            "A9VP758800           0           0  \n",
            "AA2JR70322           0           0  \n",
            "AC0C720300           0           5  \n",
            "DD1A012A30           0           0  \n"
          ]
        }
      ],
      "source": [
        "# Criar a tabela dinâmica mantendo 'Cen.' como texto\n",
        "tabela_dinamica_zstok = pd.pivot_table(zstok, values='Utiliz.livre', index='Material', columns='Cen.', aggfunc='sum', fill_value=0)\n",
        "\n",
        "tabela_dinamica_zstok = tabela_dinamica_zstok.add_suffix('_zstok')\n",
        "\n",
        "\n",
        "# Exibir a tabela dinâmica\n",
        "print(tabela_dinamica_zstok)"
      ]
    },
    {
      "cell_type": "code",
      "execution_count": 60,
      "metadata": {
        "colab": {
          "base_uri": "https://localhost:8080/"
        },
        "id": "LZin8zUcqj6R",
        "outputId": "1c9badb8-038a-45a2-c3c7-898bb74e63ae"
      },
      "outputs": [
        {
          "name": "stdout",
          "output_type": "stream",
          "text": [
            "            Contr.qualid.\n",
            "Material                 \n",
            "20AA15140               3\n",
            "26NA32870               0\n",
            "4030520401              2\n",
            "50BA40220               0\n",
            "56UA75070              20\n",
            "56UA78030               0\n",
            "65AA50320               1\n",
            "65AA53651               0\n",
            "65AA77380               1\n",
            "9314230021              0\n",
            "A03TM50000              4\n",
            "A03U808700              0\n",
            "A03U808811              0\n",
            "A03U838900              0\n",
            "A03U861002              1\n",
            "A03UM32E00              1\n",
            "A0GDR72300              0\n",
            "A0HR223700              0\n",
            "A1RF120600              0\n",
            "A1RF121700              0\n",
            "A1RF121900              0\n",
            "A1RF435201              3\n",
            "A1RF815801              0\n",
            "A1UDM20000              3\n",
            "A2UPN30501              0\n",
            "A4EUR75P00              1\n",
            "A4F3905400              1\n",
            "A4F3R71511              0\n",
            "A50U221701              0\n",
            "A50U221800              0\n",
            "A50U505800             11\n",
            "A50U520001              3\n",
            "A50U525900              0\n",
            "A50UR70266              6\n",
            "A5AW359800              4\n",
            "A5AW808000              1\n",
            "A5AW861000              0\n",
            "A5AWR71400              0\n",
            "A5AWR72300              0\n",
            "A5C1562200            308\n",
            "A5C1H0200B              1\n",
            "A7X5720100              2\n",
            "A92WR70211              4\n",
            "A92WR70744              0\n",
            "A92WR70R00              2\n",
            "A9JTR71622              5\n",
            "A9VE500200              5\n",
            "A9VP758800              5\n",
            "AA2JR70322              0\n",
            "AC0C720300              0\n",
            "DD1A012A30              0\n"
          ]
        }
      ],
      "source": [
        "tabela_dinamica_zstok_qualidade = pd.pivot_table(zstok, values='Contr.qualid.', index='Material', aggfunc='sum', fill_value=0)\n",
        "\n",
        "# Exibir a tabela dinâmica\n",
        "print(tabela_dinamica_zstok_qualidade)"
      ]
    },
    {
      "cell_type": "markdown",
      "metadata": {
        "id": "oyZA1kH0lKbC"
      },
      "source": [
        "## fup\n"
      ]
    },
    {
      "cell_type": "code",
      "execution_count": 61,
      "metadata": {
        "id": "X97OK4fSq87_"
      },
      "outputs": [],
      "source": [
        "fup = pd.read_excel(caminho_fup)"
      ]
    },
    {
      "cell_type": "code",
      "execution_count": 62,
      "metadata": {
        "colab": {
          "base_uri": "https://localhost:8080/"
        },
        "id": "mAwSMckrrGZ3",
        "outputId": "31a93d06-cb28-4594-b0c7-9d1e8e28aeeb"
      },
      "outputs": [
        {
          "data": {
            "text/plain": [
              "Index(['Nº Sequência do Embarque', 'Nº do Pedido', 'Data Pedido', 'Centro',\n",
              "       'Depósito', 'Pos.Dep.MM', 'Pos.Dep.WM', 'Cod. Fornecedor',\n",
              "       'Nome Fornecedor', 'Item', 'Saldo Pedido', 'UMP', 'UMP.1', 'UMP.2',\n",
              "       'Material', 'Texto Breve', 'Qtde Pedido', 'Vl. Total Pedido', 'Moeda',\n",
              "       'Data de Remessa', 'Data Estatística', 'Sua Referência',\n",
              "       'Nossa Referência', 'Embarque', 'Meio de Transporte', 'Meio Embarque',\n",
              "       'Nº do Conhecimento', 'Data do BL', 'Data de Chegada', 'Declaração',\n",
              "       'Dt.Registro', 'Dt.Desembaraço', 'Qtde. Desembarcada',\n",
              "       'Referência de Fatura', 'Data da Fatura', 'Valor da Fatura',\n",
              "       'Data Prev.Entrada', 'Dt. Recebimento', 'Recebimento', 'Peso Líquido',\n",
              "       'Un', 'Cód.NCM', 'Fabricante', 'Num.conversão', 'Qtd.Ped.UMB',\n",
              "       'TipoMat', 'Data Total'],\n",
              "      dtype='object')"
            ]
          },
          "execution_count": 62,
          "metadata": {},
          "output_type": "execute_result"
        }
      ],
      "source": [
        "fup.columns"
      ]
    },
    {
      "cell_type": "code",
      "execution_count": 63,
      "metadata": {
        "colab": {
          "base_uri": "https://localhost:8080/"
        },
        "id": "ZQLPORuFrZqq",
        "outputId": "cb049f34-4631-4599-cc28-d437693cb6f6"
      },
      "outputs": [
        {
          "name": "stdout",
          "output_type": "stream",
          "text": [
            "MesAno      Dec/24  Jan/25  Nov/24  Oct/24\n",
            "Material                                  \n",
            "20AA15140        0       5       0       8\n",
            "26NA32870        0       2      16       0\n",
            "4030520401      60       0      20     200\n",
            "56UA75070        0      37      10      97\n",
            "A03TM50000       0      10      12       0\n",
            "A03U808700       0       0       2       0\n",
            "A0GDR72300       0       0       2       0\n",
            "A1RF105900       0       2       2       0\n",
            "A1RF121700       0       0       3       0\n",
            "A1RF121900       0       0       3       0\n",
            "A1RF435201       0      10       6       0\n",
            "A1RF435500       0       0       1       0\n",
            "A1RF808600       0       0       0       2\n",
            "A1RF815801       0       0       4       2\n",
            "A1UDM20000       0       0       0       8\n",
            "A3EPPP7H00       0       0       2       0\n",
            "A4EUR75P00       0       1       2       0\n",
            "A50U221701       0       0       3       0\n",
            "A50U221800       0       0      41       0\n",
            "A50U505800       0       2       0       0\n",
            "A50U743200       0       1       5       0\n",
            "A5AW808000       0       0       8       2\n",
            "A5AWR71400       0       0       2       0\n",
            "A5AWR72300       0      10      11      15\n",
            "A5AWR72E00       0       1       2       0\n",
            "A5C1562200       0       0     595     436\n",
            "A7X5720100       0       3       3       0\n",
            "A92WR70211       0      30       0      18\n",
            "A92WR70744       0       0      42       6\n",
            "A92WR70R00       0       0       5       0\n",
            "A93EN11412       0       1       2       2\n",
            "A9JTM10200       0      10      28       5\n",
            "A9VE500200       0      15      71      81\n",
            "A9VP727500       0       2       5       6\n",
            "A9VP727600       0       0       6       6\n",
            "A9VP727700       0       1       7      12\n",
            "A9VP758000       0       0       6       6\n",
            "A9VP758800       0       0       2       0\n",
            "A9VPR73022      25       0       0      20\n",
            "A9VPR77800       0       2       4       2\n",
            "AC0C720300       7      10      19      23\n",
            "AC0CR70622       0       0       6       2\n",
            "V500020030       0       0       6       0\n"
          ]
        }
      ],
      "source": [
        "\n",
        "# Selecione apenas as colunas relevantes do DataFrame 'fup'\n",
        "fup_relevantes = fup[['Material', 'Qtde Pedido', 'Data Total']].copy()\n",
        "\n",
        "# Converter 'Data de Remessa' para datetime\n",
        "fup_relevantes['Data Total'] = pd.to_datetime(fup_relevantes['Data Total'], errors='coerce')\n",
        "\n",
        "# Criar uma nova coluna 'MesAno' no formato desejado\n",
        "fup_relevantes['MesAno'] = fup_relevantes['Data Total'].dt.strftime('%b/%y')\n",
        "\n",
        "# Criar a tabela dinâmica\n",
        "tabela_dinamica_fup = pd.pivot_table(fup_relevantes, values='Qtde Pedido', index='Material', columns='MesAno', aggfunc='sum', fill_value=0)\n",
        "\n",
        "# Exibir a tabela dinâmica\n",
        "print(tabela_dinamica_fup)\n",
        "\n"
      ]
    },
    {
      "cell_type": "code",
      "execution_count": 64,
      "metadata": {
        "colab": {
          "base_uri": "https://localhost:8080/"
        },
        "id": "IhIEyqhitIuj",
        "outputId": "2d90990f-ae67-44d7-c3c2-1227883fe931"
      },
      "outputs": [
        {
          "name": "stdout",
          "output_type": "stream",
          "text": [
            "Index(['20AA15140', '26NA32870', '4030520401', '56UA75070', 'A03TM50000',\n",
            "       'A03U808700', 'A0GDR72300', 'A1RF105900', 'A1RF121700', 'A1RF121900',\n",
            "       'A1RF435201', 'A1RF435500', 'A1RF808600', 'A1RF815801', 'A1UDM20000',\n",
            "       'A3EPPP7H00', 'A4EUR75P00', 'A50U221701', 'A50U221800', 'A50U505800',\n",
            "       'A50U743200', 'A5AW808000', 'A5AWR71400', 'A5AWR72300', 'A5AWR72E00',\n",
            "       'A5C1562200', 'A7X5720100', 'A92WR70211', 'A92WR70744', 'A92WR70R00',\n",
            "       'A93EN11412', 'A9JTM10200', 'A9VE500200', 'A9VP727500', 'A9VP727600',\n",
            "       'A9VP727700', 'A9VP758000', 'A9VP758800', 'A9VPR73022', 'A9VPR77800',\n",
            "       'AC0C720300', 'AC0CR70622', 'V500020030'],\n",
            "      dtype='object', name='Material')\n"
          ]
        }
      ],
      "source": [
        "# Exibir apenas a coluna 'Material' da tabela dinâmica\n",
        "coluna_material = tabela_dinamica_fup.index\n",
        "print(coluna_material)\n"
      ]
    },
    {
      "cell_type": "markdown",
      "metadata": {
        "id": "yDYT1LOElM9z"
      },
      "source": [
        "\n",
        "\n",
        "> Bloco com recuo\n",
        "\n"
      ]
    },
    {
      "cell_type": "markdown",
      "metadata": {
        "id": "0XgTbAT2JGgy"
      },
      "source": [
        "## ZTMM069"
      ]
    },
    {
      "cell_type": "code",
      "execution_count": 65,
      "metadata": {
        "id": "8Z_5A-snLYfW"
      },
      "outputs": [],
      "source": [
        "fob = pd.read_excel(caminho_fob)"
      ]
    },
    {
      "cell_type": "code",
      "execution_count": 66,
      "metadata": {
        "colab": {
          "base_uri": "https://localhost:8080/"
        },
        "id": "H_qd-HWALkIh",
        "outputId": "516748d8-db9e-4597-9c78-d8324a631428"
      },
      "outputs": [
        {
          "data": {
            "text/plain": [
              "<bound method NDFrame.head of        Material           Descrição (PT)               Descrição (EN)  \\\n",
              "0    4030520401                     SELO                         SEAL   \n",
              "1    9314230021                    MOTOR                        MOTOR   \n",
              "2     20AA15140              CABO DE AÇO         DRIVE UP DOWN WIRE C   \n",
              "3     26NA32870        MOLA DE PRESSÃO 2  CARTRIDGE PRESSING SPRING 2   \n",
              "4     50BA40220                     ROLO               REVERSE ROLLER   \n",
              "..          ...                      ...                          ...   \n",
              "131  AC0C841300                     ROLO                   Roller  /1   \n",
              "132  AC0C841400                     ROLO                   Roller  /2   \n",
              "133  AC0CM50200     PHOTOINTERRUPTER  /S         Photointerrupter  /S   \n",
              "134  AC0CR70622  CONJUNTO CAIXA COLETORA        TONER COLLECTION ASSY   \n",
              "135  V500020030                    GARRA                        clamp   \n",
              "\n",
              "     Fornecedor    Nome do fornecedor  Montante Unid.  por  Vál.desde  TMat  \\\n",
              "0         30194  MARUBENI CORPORATION      0.41   USD    1 2018-04-11  PCPS   \n",
              "1         30194  MARUBENI CORPORATION     17.18   USD    1 2018-04-23  PCPS   \n",
              "2         30194  MARUBENI CORPORATION      2.72   USD    1 2018-05-16  PCPS   \n",
              "3         30194  MARUBENI CORPORATION      0.26   USD    1 2018-04-11  PCPS   \n",
              "4         30194  MARUBENI CORPORATION      0.45   USD    1 2018-04-20  PCPS   \n",
              "..          ...                   ...       ...   ...  ...        ...   ...   \n",
              "131       30194  MARUBENI CORPORATION     26.20   USD    1 2020-01-09  PCPS   \n",
              "132       30194  MARUBENI CORPORATION     17.95   USD    1 2020-01-09  PCPS   \n",
              "133       30194  MARUBENI CORPORATION     29.18   USD    1 2020-01-09  PCPS   \n",
              "134       30194  MARUBENI CORPORATION    162.20   USD    1 2023-08-17  PCPS   \n",
              "135       30194  MARUBENI CORPORATION      2.13   USD    1 2018-04-11  PCPS   \n",
              "\n",
              "     ... Aplicação Pr GME            GrMerc.Ext  SM Status  Vál.desde.1  \\\n",
              "0    ...          184  MP    Multifuncional P&B NaN    NaN          NaN   \n",
              "1    ...         C654  MC  Multifuncional Color NaN    NaN          NaN   \n",
              "2    ...        C70HC  PC           PP Colorida NaN    NaN          NaN   \n",
              "3    ...          501  MP    Multifuncional P&B NaN    NaN          NaN   \n",
              "4    ...        C70HC  MP    Multifuncional P&B NaN    NaN          NaN   \n",
              "..   ...          ...  ..                   ...  ..    ...          ...   \n",
              "131  ...          NaN  PC           PP Colorida NaN    NaN          NaN   \n",
              "132  ...          NaN  PC           PP Colorida NaN    NaN          NaN   \n",
              "133  ...          NaN  PC           PP Colorida NaN    NaN          NaN   \n",
              "134  ...          NaN  PC           PP Colorida NaN    NaN          NaN   \n",
              "135  ...       C6501P  PC           PP Colorida NaN    NaN          NaN   \n",
              "\n",
              "     Criado em  Criado por   ÚltModif  Modif.por  \n",
              "0   2005-11-04    ALMOXSP2 2024-06-03  MYAMAMOTO  \n",
              "1   2005-11-08    ALMOXSP2 2021-01-21  SSAKAGAWA  \n",
              "2   2008-01-30    ALMOXSP1 2024-07-15     PNUNES  \n",
              "3   2008-01-30    ALMOXSP1 2024-08-28     CSILVA  \n",
              "4   2006-05-22    ALMOXSP2 2024-01-02    VANESSA  \n",
              "..         ...         ...        ...        ...  \n",
              "131 2020-01-09   SSAKAGAWA 2023-09-26  SSAKAGAWA  \n",
              "132 2020-01-09   SSAKAGAWA 2023-09-26  SSAKAGAWA  \n",
              "133 2020-01-09   SSAKAGAWA 2023-11-24     CSILVA  \n",
              "134 2023-08-17      CSILVA 2023-09-26  SSAKAGAWA  \n",
              "135 2012-02-03        LUIZ 2023-09-26  SSAKAGAWA  \n",
              "\n",
              "[136 rows x 33 columns]>"
            ]
          },
          "execution_count": 66,
          "metadata": {},
          "output_type": "execute_result"
        }
      ],
      "source": [
        "fob.head"
      ]
    },
    {
      "cell_type": "code",
      "execution_count": 67,
      "metadata": {
        "colab": {
          "base_uri": "https://localhost:8080/"
        },
        "id": "1lTXKItfLyxm",
        "outputId": "959a436b-6a95-4ac4-adfe-af16c5b3e86b"
      },
      "outputs": [
        {
          "data": {
            "text/plain": [
              "Index(['Material', 'Descrição (PT)', 'Descrição (EN)', 'Fornecedor',\n",
              "       'Nome do fornecedor', 'Montante', 'Unid.', 'por', 'Vál.desde', 'TMat',\n",
              "       'Tipo Mat', 'SA', 'Setor de atividade', 'GrpMercads.',\n",
              "       'Grupo de mercadorias', 'BU', 'KMI Business Unit', 'PS',\n",
              "       'KMI Print Size', 'C/B', 'KMI Color/BW', 'Printing Speed',\n",
              "       'KMI Develop Name', 'Aplicação Pr', 'GME', 'GrMerc.Ext', 'SM', 'Status',\n",
              "       'Vál.desde.1', 'Criado em', 'Criado por', 'ÚltModif', 'Modif.por'],\n",
              "      dtype='object')"
            ]
          },
          "execution_count": 67,
          "metadata": {},
          "output_type": "execute_result"
        }
      ],
      "source": [
        "fob.columns"
      ]
    },
    {
      "cell_type": "code",
      "execution_count": 68,
      "metadata": {
        "colab": {
          "base_uri": "https://localhost:8080/"
        },
        "id": "QlnxxjAfL4H3",
        "outputId": "268cac4f-b0bf-4e26-e2d9-4be9cdd9b585"
      },
      "outputs": [
        {
          "name": "stdout",
          "output_type": "stream",
          "text": [
            "            Montante\n",
            "Material            \n",
            "20AA15140       2.72\n",
            "26NA32870       0.26\n",
            "4030520401      0.41\n",
            "50BA40220       0.45\n",
            "55VA77890       7.06\n",
            "...              ...\n",
            "AC0C841300     26.20\n",
            "AC0C841400     17.95\n",
            "AC0CM50200     29.18\n",
            "AC0CR70622    162.20\n",
            "V500020030      2.13\n",
            "\n",
            "[136 rows x 1 columns]\n"
          ]
        }
      ],
      "source": [
        "# Criar a tabela dinâmica mantendo 'Cen.' como texto\n",
        "tabela_dinamica_fob = pd.pivot_table(fob, values='Montante', index='Material', aggfunc='sum', fill_value=0)\n",
        "\n",
        "# Exibir a tabela dinâmica\n",
        "print(tabela_dinamica_fob)"
      ]
    },
    {
      "cell_type": "markdown",
      "metadata": {
        "id": "NVf1Tr1JJKSB"
      },
      "source": [
        "## ZTMM085\n"
      ]
    },
    {
      "cell_type": "code",
      "execution_count": 69,
      "metadata": {
        "id": "3cxwZD7CMJ1v"
      },
      "outputs": [],
      "source": [
        "pecas = pd.read_excel(caminho_pecas)"
      ]
    },
    {
      "cell_type": "code",
      "execution_count": 70,
      "metadata": {
        "colab": {
          "base_uri": "https://localhost:8080/"
        },
        "id": "rzzl0CqOMUQ1",
        "outputId": "ca909e3f-f61f-42b3-8ed5-42ed6dbe703f"
      },
      "outputs": [
        {
          "data": {
            "text/plain": [
              "<bound method NDFrame.head of                Material                Descrição Tipo material  \\\n",
              "0    000000004030520401                     SELO          PCPS   \n",
              "1    000000009314230021                    MOTOR          PCPS   \n",
              "2             20AA15140              CABO DE AÇO          PCPS   \n",
              "3             26NA32870        MOLA DE PRESSÃO 2          PCPS   \n",
              "4             50BA40220                     ROLO          PCPS   \n",
              "..                  ...                      ...           ...   \n",
              "132          AC0C841400                     ROLO          PCPS   \n",
              "133          AC0CM50200     Photointerrupter  /S          PCPS   \n",
              "134          AC0CR70622  CONJUNTO CAIXA COLETORA          PCPS   \n",
              "135          DD1A012A30        CONJUNTO DE FUSÃO          PCPS   \n",
              "136          V500020030                    GARRA          PCPS   \n",
              "\n",
              "             Txt Tipo material GrpMerc   Denom. Grupo Merc.  Stat.centros  \\\n",
              "0    Produto Coml-Peça-SPO/MAO      50                Parts           NaN   \n",
              "1    Produto Coml-Peça-SPO/MAO      50                Parts           NaN   \n",
              "2    Produto Coml-Peça-SPO/MAO      50                Parts           NaN   \n",
              "3    Produto Coml-Peça-SPO/MAO      50                Parts           NaN   \n",
              "4    Produto Coml-Peça-SPO/MAO      50                Parts           NaN   \n",
              "..                         ...     ...                  ...           ...   \n",
              "132  Produto Coml-Peça-SPO/MAO      50                Parts           NaN   \n",
              "133  Produto Coml-Peça-SPO/MAO      50                Parts           NaN   \n",
              "134  Produto Coml-Peça-SPO/MAO      50                Parts           NaN   \n",
              "135  Produto Coml-Peça-SPO/MAO    MFBP  MFP Non-HW BW: Part           NaN   \n",
              "136  Produto Coml-Peça-SPO/MAO      50                Parts           NaN   \n",
              "\n",
              "     Status p/todos centros  Stat.canais Status p/todos canais  \\\n",
              "0                       NaN          NaN                   NaN   \n",
              "1                       NaN          NaN                   NaN   \n",
              "2                       NaN          NaN                   NaN   \n",
              "3                       NaN          NaN                   NaN   \n",
              "4                       NaN          NaN                   NaN   \n",
              "..                      ...          ...                   ...   \n",
              "132                     NaN          NaN                   NaN   \n",
              "133                     NaN          NaN                   NaN   \n",
              "134                     NaN          NaN                   NaN   \n",
              "135                     NaN          NaN                   NaN   \n",
              "136                     NaN          NaN                   NaN   \n",
              "\n",
              "                                 Modelos Lista Técnica  \n",
              "0    1611/DI1611/KONICA7216/BIZHUB 162/BIZHUB 163/B...  \n",
              "1    BIZHUB C350/CF2203/BIZHUB C351/BIZHUB C450/BIZ...  \n",
              "2                                LT-211/LU-202/LU-202M  \n",
              "3    8050/ACCURIOLABEL 190/BIZHUB PRESS C71CF/ACCUR...  \n",
              "4    7075/7085/ACCURIOPRESS 6136P/ACCURIOPRESS 7136...  \n",
              "..                                                 ...  \n",
              "132                                ACCURIOPRESS C14000  \n",
              "133               ACCURIOLABEL 400/ACCURIOPRESS C14000  \n",
              "134                                ACCURIOPRESS C14000  \n",
              "135                                                NaN  \n",
              "136  ACCURIOPRESS 6136P/ACCURIOPRESS 7136P/ACCURIOP...  \n",
              "\n",
              "[137 rows x 11 columns]>"
            ]
          },
          "execution_count": 70,
          "metadata": {},
          "output_type": "execute_result"
        }
      ],
      "source": [
        "pecas.head"
      ]
    },
    {
      "cell_type": "code",
      "execution_count": 71,
      "metadata": {
        "colab": {
          "base_uri": "https://localhost:8080/"
        },
        "id": "Jmt1fwl5MX1e",
        "outputId": "8f41556a-8fdd-41ff-dd21-ce5a872001a9"
      },
      "outputs": [
        {
          "data": {
            "text/plain": [
              "Index(['Material', 'Descrição', 'Tipo material', 'Txt Tipo material',\n",
              "       'GrpMerc', 'Denom. Grupo Merc.', 'Stat.centros',\n",
              "       'Status p/todos centros', 'Stat.canais', 'Status p/todos canais',\n",
              "       'Modelos Lista Técnica'],\n",
              "      dtype='object')"
            ]
          },
          "execution_count": 71,
          "metadata": {},
          "output_type": "execute_result"
        }
      ],
      "source": [
        "pecas.columns"
      ]
    },
    {
      "cell_type": "code",
      "execution_count": 72,
      "metadata": {
        "colab": {
          "base_uri": "https://localhost:8080/"
        },
        "id": "dcXHkX_sMaZN",
        "outputId": "71e35be8-b16f-4a58-da73-53aa21222936"
      },
      "outputs": [
        {
          "name": "stdout",
          "output_type": "stream",
          "text": [
            "                                                Modelos Lista Técnica\n",
            "Material                                                             \n",
            "000000004030520401  1611/DI1611/KONICA7216/BIZHUB 162/BIZHUB 163/B...\n",
            "000000009314230021  BIZHUB C350/CF2203/BIZHUB C351/BIZHUB C450/BIZ...\n",
            "20AA15140                                       LT-211/LU-202/LU-202M\n",
            "26NA32870           8050/ACCURIOLABEL 190/BIZHUB PRESS C71CF/ACCUR...\n",
            "50BA40220           7075/7085/ACCURIOPRESS 6136P/ACCURIOPRESS 7136...\n",
            "...                                                               ...\n",
            "AC0C841400                                        ACCURIOPRESS C14000\n",
            "AC0CM50200                       ACCURIOLABEL 400/ACCURIOPRESS C14000\n",
            "AC0CR70622                                        ACCURIOPRESS C14000\n",
            "DD1A012A30                                                          0\n",
            "V500020030          ACCURIOPRESS 6136P/ACCURIOPRESS 7136P/ACCURIOP...\n",
            "\n",
            "[137 rows x 1 columns]\n"
          ]
        }
      ],
      "source": [
        "# Criar a tabela dinâmica mantendo 'Cen.' como texto\n",
        "tabela_dinamica_pecas = pd.pivot_table(pecas, values='Modelos Lista Técnica', index='Material', aggfunc='sum', fill_value=0)\n",
        "\n",
        "# Exibir a tabela dinâmica\n",
        "print(tabela_dinamica_pecas)"
      ]
    },
    {
      "cell_type": "markdown",
      "metadata": {
        "id": "TzPPMAA_jAuT"
      },
      "source": []
    },
    {
      "cell_type": "code",
      "execution_count": null,
      "metadata": {
        "id": "hSdvAHrgi_0y"
      },
      "outputs": [],
      "source": []
    },
    {
      "cell_type": "markdown",
      "metadata": {
        "id": "HBe_enGOjCLL"
      },
      "source": [
        "## codigos atuais"
      ]
    },
    {
      "cell_type": "code",
      "execution_count": 73,
      "metadata": {
        "id": "gGSI_oJ0jGK-"
      },
      "outputs": [],
      "source": [
        "atuais = pd.read_excel(caminho_atuais)"
      ]
    },
    {
      "cell_type": "code",
      "execution_count": 74,
      "metadata": {
        "colab": {
          "base_uri": "https://localhost:8080/"
        },
        "id": "Xw4mM0Rsk3SY",
        "outputId": "2adbef34-e3dc-4eef-abe3-dbcd59deb424"
      },
      "outputs": [
        {
          "data": {
            "text/plain": [
              "<bound method NDFrame.head of           Atual    Material    Similar1    Similar2    Similar3    Similar4\n",
              "0     20AA15140   20AA15140           -           -           -           -\n",
              "1     26NA32870   26NA32870           -           -           -           -\n",
              "2    4030520401  4030520401           -           -           -           -\n",
              "3     50BA40220   50BA40220  A03X599800           -           -           -\n",
              "4     55VA77890   55VA77890           -           -           -           -\n",
              "..          ...         ...         ...         ...         ...         ...\n",
              "132  AC0C841400  AC0C841400           -           -           -           -\n",
              "133  AC0CM50200  AC0CM50200           -           -           -           -\n",
              "134  AC0CR70622  AC0CR70622  AC0CR70611  AC0CR70600           -           -\n",
              "135  DD1A012A30  DD1A012A30  DD1A012A3X  DD1A012A3H  DD1A012A3G  DD1A012A37\n",
              "136  V500020030  V500020030           -           -           -           -\n",
              "\n",
              "[137 rows x 6 columns]>"
            ]
          },
          "execution_count": 74,
          "metadata": {},
          "output_type": "execute_result"
        }
      ],
      "source": [
        "atuais.head"
      ]
    },
    {
      "cell_type": "code",
      "execution_count": 75,
      "metadata": {
        "colab": {
          "base_uri": "https://localhost:8080/"
        },
        "id": "M93y7tkvlPyx",
        "outputId": "ae148223-39a9-455c-f97d-bae566a23b00"
      },
      "outputs": [
        {
          "data": {
            "text/plain": [
              "Index(['Atual', 'Material', 'Similar1', 'Similar2', 'Similar3', 'Similar4'], dtype='object')"
            ]
          },
          "execution_count": 75,
          "metadata": {},
          "output_type": "execute_result"
        }
      ],
      "source": [
        "atuais.columns"
      ]
    },
    {
      "cell_type": "code",
      "execution_count": 76,
      "metadata": {
        "colab": {
          "base_uri": "https://localhost:8080/"
        },
        "id": "Ym54xRgBrUo3",
        "outputId": "715a8115-9a14-4b78-e94e-f88a6a011379"
      },
      "outputs": [
        {
          "name": "stdout",
          "output_type": "stream",
          "text": [
            "          Atual    Material    Similar1    Similar2    Similar3 Similar4\n",
            "0     20AA15140   20AA15140           -           -           -        -\n",
            "1     26NA32870   26NA32870           -           -           -        -\n",
            "2    4030520401  4030520401           -           -           -        -\n",
            "11    56UA75070   56UA75070           -           -           -        -\n",
            "21   A03TM50000  A03TM50000           -           -           -        -\n",
            "23   A03U808700  A03U808700           -           -           -        -\n",
            "37   A0GDR72300  A0GDR72300           -           -           -        -\n",
            "42   A1RF105900  A1RF105900           -           -           -        -\n",
            "45   A1RF121700  A1RF121700           -           -           -        -\n",
            "46   A1RF121900  A1RF121900           -           -           -        -\n",
            "47   A1RF435201  A1RF435201  A1RF435200           -           -        -\n",
            "48   A1RF435500  A1RF435500           -           -           -        -\n",
            "49   A1RF808600  A1RF808600           -           -           -        -\n",
            "50   A1RF815801  A1RF815801  A1RF815800           -           -        -\n",
            "56   A1UDM20000  A1UDM20000           -           -           -        -\n",
            "66   A3EPPP7H00  A3EPPP7H00           -           -           -        -\n",
            "72   A4EUR75P00  A4EUR75P00           -           -           -        -\n",
            "75   A50U221701  A50U221701           -           -           -        -\n",
            "76   A50U221800  A50U221800           -           -           -        -\n",
            "77   A50U505800  A50U505800           -           -           -        -\n",
            "81   A50U743200  A50U743200           -           -           -        -\n",
            "90   A5AW808000  A5AW808000           -           -           -        -\n",
            "93   A5AWR71400  A5AWR71400           -           -           -        -\n",
            "94   A5AWR72300  A5AWR72300           -           -           -        -\n",
            "95   A5AWR72E00  A5AWR72E00           -           -           -        -\n",
            "96   A5C1562200  A5C1562200           -           -           -        -\n",
            "101  A7X5720100  A7X5720100           -           -           -        -\n",
            "104  A92WR70211  A92WR70211  A92WR70200           -           -        -\n",
            "105  A92WR70744  A92WR70744  A92WR70733  A92WR70722  A92WR70700        -\n",
            "106  A92WR70R00  A92WR70R00           -           -           -        -\n",
            "108  A93EN11412  A93EN11412  A93EN11300           -           -        -\n",
            "113  A9JTM10200  A9JTM10200           -           -           -        -\n",
            "115  A9VE500200  A9VE500200           -           -           -        -\n",
            "117  A9VP727500  A9VP727500           -           -           -        -\n",
            "118  A9VP727600  A9VP727600           -           -           -        -\n",
            "119  A9VP727700  A9VP727700           -           -           -        -\n",
            "120  A9VP758000  A9VP758000           -           -           -        -\n",
            "121  A9VP758800  A9VP758800           -           -           -        -\n",
            "122  A9VPR73022  A9VPR73022  A9VPR73000           -           -        -\n",
            "124  A9VPR77800  A9VPR77800  A9VP769300  A9VP765300           -        -\n",
            "129  AC0C720300  AC0C720300           -           -           -        -\n",
            "134  AC0CR70622  AC0CR70622  AC0CR70611  AC0CR70600           -        -\n",
            "136  V500020030  V500020030           -           -           -        -\n"
          ]
        }
      ],
      "source": [
        "resultados_filtrados = atuais[atuais['Atual'].isin(coluna_material)]\n",
        "\n",
        "tabela_resultados = pd.DataFrame(resultados_filtrados)\n",
        "\n",
        "# Exibir o novo DataFrame\n",
        "print(tabela_resultados)"
      ]
    },
    {
      "cell_type": "code",
      "execution_count": 77,
      "metadata": {
        "colab": {
          "base_uri": "https://localhost:8080/"
        },
        "id": "RgRZiVAF0gEO",
        "outputId": "b5c38326-6a25-493e-f817-6ae9433cefac"
      },
      "outputs": [
        {
          "name": "stdout",
          "output_type": "stream",
          "text": [
            "              Material    Similar1    Similar2    Similar3 Similar4\n",
            "Atual                                                              \n",
            "20AA15140    20AA15140           -           -           -        -\n",
            "26NA32870    26NA32870           -           -           -        -\n",
            "4030520401  4030520401           -           -           -        -\n",
            "56UA75070    56UA75070           -           -           -        -\n",
            "A03TM50000  A03TM50000           -           -           -        -\n",
            "A03U808700  A03U808700           -           -           -        -\n",
            "A0GDR72300  A0GDR72300           -           -           -        -\n",
            "A1RF105900  A1RF105900           -           -           -        -\n",
            "A1RF121700  A1RF121700           -           -           -        -\n",
            "A1RF121900  A1RF121900           -           -           -        -\n",
            "A1RF435201  A1RF435201  A1RF435200           -           -        -\n",
            "A1RF435500  A1RF435500           -           -           -        -\n",
            "A1RF808600  A1RF808600           -           -           -        -\n",
            "A1RF815801  A1RF815801  A1RF815800           -           -        -\n",
            "A1UDM20000  A1UDM20000           -           -           -        -\n",
            "A3EPPP7H00  A3EPPP7H00           -           -           -        -\n",
            "A4EUR75P00  A4EUR75P00           -           -           -        -\n",
            "A50U221701  A50U221701           -           -           -        -\n",
            "A50U221800  A50U221800           -           -           -        -\n",
            "A50U505800  A50U505800           -           -           -        -\n",
            "A50U743200  A50U743200           -           -           -        -\n",
            "A5AW808000  A5AW808000           -           -           -        -\n",
            "A5AWR71400  A5AWR71400           -           -           -        -\n",
            "A5AWR72300  A5AWR72300           -           -           -        -\n",
            "A5AWR72E00  A5AWR72E00           -           -           -        -\n",
            "A5C1562200  A5C1562200           -           -           -        -\n",
            "A7X5720100  A7X5720100           -           -           -        -\n",
            "A92WR70211  A92WR70211  A92WR70200           -           -        -\n",
            "A92WR70744  A92WR70744  A92WR70733  A92WR70722  A92WR70700        -\n",
            "A92WR70R00  A92WR70R00           -           -           -        -\n",
            "A93EN11412  A93EN11412  A93EN11300           -           -        -\n",
            "A9JTM10200  A9JTM10200           -           -           -        -\n",
            "A9VE500200  A9VE500200           -           -           -        -\n",
            "A9VP727500  A9VP727500           -           -           -        -\n",
            "A9VP727600  A9VP727600           -           -           -        -\n",
            "A9VP727700  A9VP727700           -           -           -        -\n",
            "A9VP758000  A9VP758000           -           -           -        -\n",
            "A9VP758800  A9VP758800           -           -           -        -\n",
            "A9VPR73022  A9VPR73022  A9VPR73000           -           -        -\n",
            "A9VPR77800  A9VPR77800  A9VP769300  A9VP765300           -        -\n",
            "AC0C720300  AC0C720300           -           -           -        -\n",
            "AC0CR70622  AC0CR70622  AC0CR70611  AC0CR70600           -        -\n",
            "V500020030  V500020030           -           -           -        -\n"
          ]
        }
      ],
      "source": [
        "tabela_resultados = tabela_resultados.set_index(tabela_resultados.columns[0])\n",
        "\n",
        "# Exibir o novo DataFrame\n",
        "print(tabela_resultados)"
      ]
    },
    {
      "cell_type": "code",
      "execution_count": null,
      "metadata": {
        "id": "cmiqM9VUvbUM"
      },
      "outputs": [],
      "source": []
    },
    {
      "cell_type": "code",
      "execution_count": null,
      "metadata": {
        "id": "RvsAkUNDvbTI"
      },
      "outputs": [],
      "source": []
    },
    {
      "cell_type": "markdown",
      "metadata": {
        "id": "6xRNfQGJyK1v"
      },
      "source": [
        "## Classificação de peças"
      ]
    },
    {
      "cell_type": "code",
      "execution_count": 78,
      "metadata": {
        "id": "pdep8rVnyRQN"
      },
      "outputs": [],
      "source": [
        "classificacao = pd.read_excel(caminho_classificacao, sheet_name='consumable parts')"
      ]
    },
    {
      "cell_type": "code",
      "execution_count": 79,
      "metadata": {
        "colab": {
          "base_uri": "https://localhost:8080/"
        },
        "id": "Omok9dAmy4lN",
        "outputId": "af5895a3-ae25-40f9-81b9-4fce24a99223"
      },
      "outputs": [
        {
          "data": {
            "text/plain": [
              "<bound method NDFrame.head of           Código                                   Aplicação Modelo  \\\n",
              "0     A92WR70100                                              C6100   \n",
              "1     65AAR75600  8050/ C14000/ C6100/ C1085/ C1100/ C8000/ C500...   \n",
              "2     A1RF520400                 C14000/ C6100/ C1085/ C1100/ C8000   \n",
              "3     A1RF531600                                C6100/ C1085/ C1100   \n",
              "4     A1RF532800                 C14000/ C6100/ C1085/ C1100/ C8000   \n",
              "...          ...                                                ...   \n",
              "2104  AC4K701900                                             MB-511   \n",
              "2105  A79A603400                                             MB-511   \n",
              "2106  A0GDR70111                                             PF-712   \n",
              "2107  A11U560000                                              4051i   \n",
              "2108  A5AW728500                         C6100/ C1085/ C1100/EF-104   \n",
              "\n",
              "       Cód.Atual    Similar1    Similar2 Similar3 Similar4 Similar5 Similar6  \\\n",
              "0     A92WR70100           -           -        -        -        -        -   \n",
              "1     65AAR75600   65AA-2930           -        -        -        -        -   \n",
              "2     A1RF520400           -           -        -        -        -        -   \n",
              "3     A1RF531600           -           -        -        -        -        -   \n",
              "4     A1RF532800        4109           -        -        -        -        -   \n",
              "...          ...         ...         ...      ...      ...      ...      ...   \n",
              "2104  AC4K701900           -           -        -        -        -        -   \n",
              "2105  A79A603400           -           -        -        -        -        -   \n",
              "2106  A0GDR70111  A0GDR70100           -        -        -        -        -   \n",
              "2107  A11U560000           -           -        -        -        -        -   \n",
              "2108  A5AW720301  A5AW728500  A5AW720300        -        -        -        -   \n",
              "\n",
              "     Similar7 Similar7.1 Durabilidade                     Unnamed: 12  \n",
              "0           -          -          Sim                   C6100 / C1100  \n",
              "1           -          -          Sim                   C6100 / C1100  \n",
              "2           -          -          Sim                   C6100 / C1100  \n",
              "3           -          -          Sim                   C6100 / C1100  \n",
              "4           -          -          Sim                   C6100 / C1100  \n",
              "...       ...        ...          ...                             ...  \n",
              "2104        -          -          Sim  Acrescentado 12.07.24 - Carlos  \n",
              "2105        -          -          Sim  Acrescentado 12.07.24 - Carlos  \n",
              "2106        -          -          Sim  Acrescentado 12.07.24 - Carlos  \n",
              "2107        -          -          Sim  Acrescentado 12.07.24 - Carlos  \n",
              "2108        -          -          Sim  Acrescentado 15.08.24 - Carlos  \n",
              "\n",
              "[2109 rows x 13 columns]>"
            ]
          },
          "execution_count": 79,
          "metadata": {},
          "output_type": "execute_result"
        }
      ],
      "source": [
        "classificacao.head"
      ]
    },
    {
      "cell_type": "code",
      "execution_count": 80,
      "metadata": {
        "colab": {
          "base_uri": "https://localhost:8080/"
        },
        "id": "8loQBBC8zmTC",
        "outputId": "22e5d1b2-8c42-4449-cebd-2df17c719ca6"
      },
      "outputs": [
        {
          "data": {
            "text/plain": [
              "Index(['Código', 'Aplicação Modelo', 'Cód.Atual', 'Similar1', 'Similar2',\n",
              "       'Similar3', 'Similar4', 'Similar5', 'Similar6', 'Similar7',\n",
              "       'Similar7.1', 'Durabilidade', 'Unnamed: 12'],\n",
              "      dtype='object')"
            ]
          },
          "execution_count": 80,
          "metadata": {},
          "output_type": "execute_result"
        }
      ],
      "source": [
        "classificacao.columns"
      ]
    },
    {
      "cell_type": "code",
      "execution_count": 81,
      "metadata": {
        "colab": {
          "base_uri": "https://localhost:8080/"
        },
        "id": "3DNnf2bLzhg6",
        "outputId": "d6daab57-3e78-4090-ee66-be3ee3d66a11"
      },
      "outputs": [
        {
          "name": "stdout",
          "output_type": "stream",
          "text": [
            "           Durabilidade\n",
            "Código                 \n",
            "4049521             Sim\n",
            "4049522             Sim\n",
            "4049524             Sim\n",
            "454053391           Sim\n",
            "454075040           Sim\n",
            "...                 ...\n",
            "AE1KR70600          Sim\n",
            "SP00-0210           Sim\n",
            "SP00-0220           Sim\n",
            "V218060086          Sim\n",
            "V234301250          Sim\n",
            "\n",
            "[1408 rows x 1 columns]\n"
          ]
        }
      ],
      "source": [
        "# Criar a tabela dinâmica mantendo 'Cen.' como texto\n",
        "tabela_dinamica_classificacao = pd.pivot_table(classificacao, values='Durabilidade', index='Código', aggfunc='first', fill_value=0)\n",
        "\n",
        "\n",
        "# Exibir a tabela dinâmica\n",
        "print(tabela_dinamica_classificacao)"
      ]
    },
    {
      "cell_type": "markdown",
      "metadata": {
        "id": "bivdLhPFuCnC"
      },
      "source": [
        "## juntando tabelas\n"
      ]
    },
    {
      "cell_type": "markdown",
      "metadata": {
        "id": "ZzgNa0NMw2Oe"
      },
      "source": [
        "juntando pendencias"
      ]
    },
    {
      "cell_type": "code",
      "execution_count": 82,
      "metadata": {
        "colab": {
          "base_uri": "https://localhost:8080/"
        },
        "id": "LI3Bn5znuKzn",
        "outputId": "8c0500c0-9782-485a-edcb-f5593a12b3fb"
      },
      "outputs": [
        {
          "name": "stdout",
          "output_type": "stream",
          "text": [
            "            CE03_zva70  CE04_zva70  CE05_zva70  CE11_zva70  CE13_zva70  \\\n",
            "Material                                                                 \n",
            "20AA15140            0           0           0           0           2   \n",
            "26NA32870            0           0           0           0          10   \n",
            "4030520401           0           0           0           0          20   \n",
            "50BA40220            0           0           0           1           0   \n",
            "55VA77890            0           0           0           1           0   \n",
            "...                ...         ...         ...         ...         ...   \n",
            "AC0C841400           0           0           0           1           0   \n",
            "AC0CM50200           0           0           0           2           0   \n",
            "AC0CR70622           0           0           0           1           0   \n",
            "DD1A012A30           0           0           0           1           0   \n",
            "V500020030           0           0           0           6           0   \n",
            "\n",
            "                        Denominação                            Criado por  \\\n",
            "Material                                                                    \n",
            "20AA15140               CABO DE AÇO             MARIANA PEREIRA DOS ANJOS   \n",
            "26NA32870         MOLA DE PRESSÃO 2             MARIANA PEREIRA DOS ANJOS   \n",
            "4030520401                     SELO                             ANA PAULA   \n",
            "50BA40220                      ROLO                       ROBERTA MACHADO   \n",
            "55VA77890           ENGRENAGEM 20 D      REGILENE DE CASSIA LUIZ OLIVEIRA   \n",
            "...                             ...                                   ...   \n",
            "AC0C841400                     ROLO  MILENA PIMENTEL MONTEIRO DE OLIVEIRA   \n",
            "AC0CM50200     Photointerrupter  /S  MILENA PIMENTEL MONTEIRO DE OLIVEIRA   \n",
            "AC0CR70622  CONJUNTO CAIXA COLETORA  MILENA PIMENTEL MONTEIRO DE OLIVEIRA   \n",
            "DD1A012A30        CONJUNTO DE FUSÃO        JOÃO PAULO CLEMENTE DOS SANTOS   \n",
            "V500020030                    GARRA  MILENA PIMENTEL MONTEIRO DE OLIVEIRA   \n",
            "\n",
            "                     Canal  Pendências Gerais  \n",
            "Material                                       \n",
            "20AA15140   VENDA INDIRETA                3.0  \n",
            "26NA32870   VENDA INDIRETA                4.0  \n",
            "4030520401  VENDA INDIRETA              220.0  \n",
            "50BA40220   VENDA INDIRETA                0.0  \n",
            "55VA77890              nan                0.0  \n",
            "...                    ...                ...  \n",
            "AC0C841400    VENDA DIRETA                0.0  \n",
            "AC0CM50200    VENDA DIRETA                0.0  \n",
            "AC0CR70622    VENDA DIRETA                0.0  \n",
            "DD1A012A30    VENDA DIRETA                0.0  \n",
            "V500020030             nan                0.0  \n",
            "\n",
            "[137 rows x 9 columns]\n"
          ]
        }
      ],
      "source": [
        "# Realizar left join entre as tabelas usando a coluna \"Material\" como chave\n",
        "merged_table_pend = _table_pend.merge(tabela_dinamica_pendente, how='left', left_index=True, right_index=True)\n",
        "\n",
        "# Preencher valores nulos com zero\n",
        "merged_table_pend = merged_table_pend.fillna(0)\n",
        "\n",
        "print(merged_table_pend)\n"
      ]
    },
    {
      "cell_type": "code",
      "execution_count": 83,
      "metadata": {
        "colab": {
          "base_uri": "https://localhost:8080/"
        },
        "id": "AKf46nHiuxjp",
        "outputId": "acbad665-9081-440d-c6f1-1a35169b9d9f"
      },
      "outputs": [
        {
          "data": {
            "text/plain": [
              "Index(['CE03_zva70', 'CE04_zva70', 'CE05_zva70', 'CE11_zva70', 'CE13_zva70',\n",
              "       'Denominação', 'Criado por', 'Canal', 'Pendências Gerais'],\n",
              "      dtype='object')"
            ]
          },
          "execution_count": 83,
          "metadata": {},
          "output_type": "execute_result"
        }
      ],
      "source": [
        "merged_table_pend.columns"
      ]
    },
    {
      "cell_type": "markdown",
      "metadata": {
        "id": "ci51sme8uHd4"
      },
      "source": [
        "juntando zstok"
      ]
    },
    {
      "cell_type": "code",
      "execution_count": 84,
      "metadata": {
        "colab": {
          "base_uri": "https://localhost:8080/"
        },
        "id": "qvyGn4s5w--B",
        "outputId": "3578f1ac-d4df-4aeb-a532-3767bf4f14ed"
      },
      "outputs": [
        {
          "name": "stdout",
          "output_type": "stream",
          "text": [
            "            CE01_zstok  CE03_zstok  CE05_zstok  CE07_zstok  CE09_zstok  \\\n",
            "Material                                                                 \n",
            "20AA15140            0           0           1           1           3   \n",
            "26NA32870            0           0           0           0           0   \n",
            "4030520401           0           0           0           6           0   \n",
            "50BA40220            0           0           0           2           0   \n",
            "56UA75070            0           0          20           1           3   \n",
            "56UA78030            1           0           0           0           0   \n",
            "65AA50320            0           0           0           2           1   \n",
            "65AA53651            0           0           0           2           0   \n",
            "65AA77380            0           0           4           0           1   \n",
            "9314230021           0           0           0           0           0   \n",
            "A03TM50000           0           0           0           1           0   \n",
            "A03U808700          10           0           0           0           0   \n",
            "A03U808811           0           0           0           2           0   \n",
            "A03U838900           0           0           0           0           3   \n",
            "A03U861002           0           0           0           1           1   \n",
            "A03UM32E00           0           0           0           2           2   \n",
            "A0GDR72300           0           0           1           0           0   \n",
            "A0HR223700           0           0           0           0           0   \n",
            "A1RF120600           0           0           2           0           0   \n",
            "A1RF121700           0           0           0           0           0   \n",
            "A1RF121900           0           0           0           0           0   \n",
            "A1RF435201           0           0           1           2           1   \n",
            "A1RF815801           0           0           2           0           0   \n",
            "A1UDM20000           0           0           0           7           1   \n",
            "A2UPN30501           0           0           0           2           0   \n",
            "A4EUR75P00           0           0           0           0           0   \n",
            "A4F3905400           0           0           6           0           2   \n",
            "A4F3R71511           0           0           1           0           1   \n",
            "A50U221701           0           0           0           0           0   \n",
            "A50U221800           0           0           1           0           0   \n",
            "A50U505800           0           0           1           0           0   \n",
            "A50U520001           0           0           0           9           0   \n",
            "A50U525900           0           0           0           7           1   \n",
            "A50UR70266           0           0           0          14           8   \n",
            "A5AW359800           0           0           0           0           0   \n",
            "A5AW808000           0           0           2           0           0   \n",
            "A5AW861000           0           0           0           0           2   \n",
            "A5AWR71400           0           0           0           0           0   \n",
            "A5AWR72300           0           0           0           0           0   \n",
            "A5C1562200           0           0           0          22           9   \n",
            "A5C1H0200B           0           0           0           2           0   \n",
            "A7X5720100           0           0           2           0           1   \n",
            "A92WR70211           0           0           3           5           2   \n",
            "A92WR70744           0           0           2           0           0   \n",
            "A92WR70R00           0           0           0           0           0   \n",
            "A9JTR71622           0           0           0           1           1   \n",
            "A9VE500200           0           1           4           8           0   \n",
            "A9VP758800           0           0           0           0           0   \n",
            "AA2JR70322           0           2           0          10           3   \n",
            "AC0C720300           0           0           0           0           0   \n",
            "DD1A012A30           0           0           0           1           0   \n",
            "\n",
            "            CE11_zstok  CE13_zstok  Contr.qualid.  \n",
            "Material                                           \n",
            "20AA15140            0           0              3  \n",
            "26NA32870            2           0              0  \n",
            "4030520401          22           0              2  \n",
            "50BA40220            0           0              0  \n",
            "56UA75070            0           0             20  \n",
            "56UA78030            0           0              0  \n",
            "65AA50320            0           0              1  \n",
            "65AA53651            0           0              0  \n",
            "65AA77380            3          10              1  \n",
            "9314230021           1           0              0  \n",
            "A03TM50000           0           1              4  \n",
            "A03U808700           0           0              0  \n",
            "A03U808811           0           0              0  \n",
            "A03U838900           0           0              0  \n",
            "A03U861002           0           0              1  \n",
            "A03UM32E00           0           0              1  \n",
            "A0GDR72300           0           0              0  \n",
            "A0HR223700           5           0              0  \n",
            "A1RF120600           3           0              0  \n",
            "A1RF121700           2           0              0  \n",
            "A1RF121900           2           0              0  \n",
            "A1RF435201           0           5              3  \n",
            "A1RF815801           0           0              0  \n",
            "A1UDM20000           0           0              3  \n",
            "A2UPN30501           1           0              0  \n",
            "A4EUR75P00           0           0              1  \n",
            "A4F3905400           0           6              1  \n",
            "A4F3R71511           5           0              0  \n",
            "A50U221701           1           0              0  \n",
            "A50U221800           2           0              0  \n",
            "A50U505800           4           2             11  \n",
            "A50U520001           0           0              3  \n",
            "A50U525900           2           0              0  \n",
            "A50UR70266           0           0              6  \n",
            "A5AW359800          11          18              4  \n",
            "A5AW808000           0           0              1  \n",
            "A5AW861000           1           1              0  \n",
            "A5AWR71400           0           1              0  \n",
            "A5AWR72300           0           2              0  \n",
            "A5C1562200         106          52            308  \n",
            "A5C1H0200B           0           1              1  \n",
            "A7X5720100           0           1              2  \n",
            "A92WR70211          27          46              4  \n",
            "A92WR70744           9           0              0  \n",
            "A92WR70R00           0           0              2  \n",
            "A9JTR71622           2           0              5  \n",
            "A9VE500200           1          30              5  \n",
            "A9VP758800           0           0              5  \n",
            "AA2JR70322           0           0              0  \n",
            "AC0C720300           0           5              0  \n",
            "DD1A012A30           0           0              0  \n"
          ]
        }
      ],
      "source": [
        "# Realizar left join entre as tabelas usando a coluna \"Material\" como chave\n",
        "merged_table_zstok = tabela_dinamica_zstok.merge(tabela_dinamica_zstok_qualidade, how='left', left_index=True, right_index=True)\n",
        "\n",
        "# Preencher valores nulos com zero\n",
        "merged_table_zstok = merged_table_zstok.fillna(0)\n",
        "\n",
        "print(merged_table_zstok)"
      ]
    },
    {
      "cell_type": "markdown",
      "metadata": {
        "id": "LYJYChyyxjqz"
      },
      "source": [
        "juntando pend com zstok"
      ]
    },
    {
      "cell_type": "code",
      "execution_count": 85,
      "metadata": {
        "colab": {
          "base_uri": "https://localhost:8080/"
        },
        "id": "_HdLYaYpxdn_",
        "outputId": "ceb9c759-8a39-47c8-f2b1-6b3de627566e"
      },
      "outputs": [
        {
          "name": "stdout",
          "output_type": "stream",
          "text": [
            "            CE03_zva70  CE04_zva70  CE05_zva70  CE11_zva70  CE13_zva70  \\\n",
            "Material                                                                 \n",
            "20AA15140            0           0           0           0           2   \n",
            "26NA32870            0           0           0           0          10   \n",
            "4030520401           0           0           0           0          20   \n",
            "50BA40220            0           0           0           1           0   \n",
            "55VA77890            0           0           0           1           0   \n",
            "...                ...         ...         ...         ...         ...   \n",
            "AC0C841400           0           0           0           1           0   \n",
            "AC0CM50200           0           0           0           2           0   \n",
            "AC0CR70622           0           0           0           1           0   \n",
            "DD1A012A30           0           0           0           1           0   \n",
            "V500020030           0           0           0           6           0   \n",
            "\n",
            "                        Denominação                            Criado por  \\\n",
            "Material                                                                    \n",
            "20AA15140               CABO DE AÇO             MARIANA PEREIRA DOS ANJOS   \n",
            "26NA32870         MOLA DE PRESSÃO 2             MARIANA PEREIRA DOS ANJOS   \n",
            "4030520401                     SELO                             ANA PAULA   \n",
            "50BA40220                      ROLO                       ROBERTA MACHADO   \n",
            "55VA77890           ENGRENAGEM 20 D      REGILENE DE CASSIA LUIZ OLIVEIRA   \n",
            "...                             ...                                   ...   \n",
            "AC0C841400                     ROLO  MILENA PIMENTEL MONTEIRO DE OLIVEIRA   \n",
            "AC0CM50200     Photointerrupter  /S  MILENA PIMENTEL MONTEIRO DE OLIVEIRA   \n",
            "AC0CR70622  CONJUNTO CAIXA COLETORA  MILENA PIMENTEL MONTEIRO DE OLIVEIRA   \n",
            "DD1A012A30        CONJUNTO DE FUSÃO        JOÃO PAULO CLEMENTE DOS SANTOS   \n",
            "V500020030                    GARRA  MILENA PIMENTEL MONTEIRO DE OLIVEIRA   \n",
            "\n",
            "                     Canal  Pendências Gerais  CE01_zstok  CE03_zstok  \\\n",
            "Material                                                                \n",
            "20AA15140   VENDA INDIRETA                3.0         0.0         0.0   \n",
            "26NA32870   VENDA INDIRETA                4.0         0.0         0.0   \n",
            "4030520401  VENDA INDIRETA              220.0         0.0         0.0   \n",
            "50BA40220   VENDA INDIRETA                0.0         0.0         0.0   \n",
            "55VA77890              nan                0.0         0.0         0.0   \n",
            "...                    ...                ...         ...         ...   \n",
            "AC0C841400    VENDA DIRETA                0.0         0.0         0.0   \n",
            "AC0CM50200    VENDA DIRETA                0.0         0.0         0.0   \n",
            "AC0CR70622    VENDA DIRETA                0.0         0.0         0.0   \n",
            "DD1A012A30    VENDA DIRETA                0.0         0.0         0.0   \n",
            "V500020030             nan                0.0         0.0         0.0   \n",
            "\n",
            "            CE05_zstok  CE07_zstok  CE09_zstok  CE11_zstok  CE13_zstok  \\\n",
            "Material                                                                 \n",
            "20AA15140          1.0         1.0         3.0         0.0         0.0   \n",
            "26NA32870          0.0         0.0         0.0         2.0         0.0   \n",
            "4030520401         0.0         6.0         0.0        22.0         0.0   \n",
            "50BA40220          0.0         2.0         0.0         0.0         0.0   \n",
            "55VA77890          0.0         0.0         0.0         0.0         0.0   \n",
            "...                ...         ...         ...         ...         ...   \n",
            "AC0C841400         0.0         0.0         0.0         0.0         0.0   \n",
            "AC0CM50200         0.0         0.0         0.0         0.0         0.0   \n",
            "AC0CR70622         0.0         0.0         0.0         0.0         0.0   \n",
            "DD1A012A30         0.0         1.0         0.0         0.0         0.0   \n",
            "V500020030         0.0         0.0         0.0         0.0         0.0   \n",
            "\n",
            "            Contr.qualid.  \n",
            "Material                   \n",
            "20AA15140             3.0  \n",
            "26NA32870             0.0  \n",
            "4030520401            2.0  \n",
            "50BA40220             0.0  \n",
            "55VA77890             0.0  \n",
            "...                   ...  \n",
            "AC0C841400            0.0  \n",
            "AC0CM50200            0.0  \n",
            "AC0CR70622            0.0  \n",
            "DD1A012A30            0.0  \n",
            "V500020030            0.0  \n",
            "\n",
            "[137 rows x 17 columns]\n"
          ]
        }
      ],
      "source": [
        "# Realizar left join entre as tabelas usando a coluna \"Material\" como chave\n",
        "merged_table_1 = merged_table_pend.merge(merged_table_zstok, how='left', left_index=True, right_index=True)\n",
        "\n",
        "# Preencher valores nulos com zero\n",
        "merged_table_1 = merged_table_1.fillna(0)\n",
        "\n",
        "print(merged_table_1)"
      ]
    },
    {
      "cell_type": "code",
      "execution_count": 86,
      "metadata": {
        "colab": {
          "base_uri": "https://localhost:8080/"
        },
        "id": "dL-H6otByU60",
        "outputId": "9601c914-cfb4-4039-d691-51021a8b24eb"
      },
      "outputs": [
        {
          "data": {
            "text/plain": [
              "Index(['CE03_zva70', 'CE04_zva70', 'CE05_zva70', 'CE11_zva70', 'CE13_zva70',\n",
              "       'Denominação', 'Criado por', 'Canal', 'Pendências Gerais', 'CE01_zstok',\n",
              "       'CE03_zstok', 'CE05_zstok', 'CE07_zstok', 'CE09_zstok', 'CE11_zstok',\n",
              "       'CE13_zstok', 'Contr.qualid.'],\n",
              "      dtype='object')"
            ]
          },
          "execution_count": 86,
          "metadata": {},
          "output_type": "execute_result"
        }
      ],
      "source": [
        "merged_table_1.columns"
      ]
    },
    {
      "cell_type": "markdown",
      "metadata": {
        "id": "FbEdg9w2ynhX"
      },
      "source": [
        "colocando o fup"
      ]
    },
    {
      "cell_type": "code",
      "execution_count": 87,
      "metadata": {
        "colab": {
          "base_uri": "https://localhost:8080/"
        },
        "id": "yVN9twaBya7z",
        "outputId": "9ae1059c-8407-445a-e6ee-cea5761e44c5"
      },
      "outputs": [
        {
          "name": "stdout",
          "output_type": "stream",
          "text": [
            "            CE03_zva70  CE04_zva70  CE05_zva70  CE11_zva70  CE13_zva70  \\\n",
            "Material                                                                 \n",
            "20AA15140            0           0           0           0           2   \n",
            "26NA32870            0           0           0           0          10   \n",
            "4030520401           0           0           0           0          20   \n",
            "50BA40220            0           0           0           1           0   \n",
            "55VA77890            0           0           0           1           0   \n",
            "...                ...         ...         ...         ...         ...   \n",
            "AC0C841400           0           0           0           1           0   \n",
            "AC0CM50200           0           0           0           2           0   \n",
            "AC0CR70622           0           0           0           1           0   \n",
            "DD1A012A30           0           0           0           1           0   \n",
            "V500020030           0           0           0           6           0   \n",
            "\n",
            "                        Denominação                            Criado por  \\\n",
            "Material                                                                    \n",
            "20AA15140               CABO DE AÇO             MARIANA PEREIRA DOS ANJOS   \n",
            "26NA32870         MOLA DE PRESSÃO 2             MARIANA PEREIRA DOS ANJOS   \n",
            "4030520401                     SELO                             ANA PAULA   \n",
            "50BA40220                      ROLO                       ROBERTA MACHADO   \n",
            "55VA77890           ENGRENAGEM 20 D      REGILENE DE CASSIA LUIZ OLIVEIRA   \n",
            "...                             ...                                   ...   \n",
            "AC0C841400                     ROLO  MILENA PIMENTEL MONTEIRO DE OLIVEIRA   \n",
            "AC0CM50200     Photointerrupter  /S  MILENA PIMENTEL MONTEIRO DE OLIVEIRA   \n",
            "AC0CR70622  CONJUNTO CAIXA COLETORA  MILENA PIMENTEL MONTEIRO DE OLIVEIRA   \n",
            "DD1A012A30        CONJUNTO DE FUSÃO        JOÃO PAULO CLEMENTE DOS SANTOS   \n",
            "V500020030                    GARRA  MILENA PIMENTEL MONTEIRO DE OLIVEIRA   \n",
            "\n",
            "                     Canal  Pendências Gerais  CE01_zstok  ...  CE05_zstok  \\\n",
            "Material                                                   ...               \n",
            "20AA15140   VENDA INDIRETA                3.0         0.0  ...         1.0   \n",
            "26NA32870   VENDA INDIRETA                4.0         0.0  ...         0.0   \n",
            "4030520401  VENDA INDIRETA              220.0         0.0  ...         0.0   \n",
            "50BA40220   VENDA INDIRETA                0.0         0.0  ...         0.0   \n",
            "55VA77890              nan                0.0         0.0  ...         0.0   \n",
            "...                    ...                ...         ...  ...         ...   \n",
            "AC0C841400    VENDA DIRETA                0.0         0.0  ...         0.0   \n",
            "AC0CM50200    VENDA DIRETA                0.0         0.0  ...         0.0   \n",
            "AC0CR70622    VENDA DIRETA                0.0         0.0  ...         0.0   \n",
            "DD1A012A30    VENDA DIRETA                0.0         0.0  ...         0.0   \n",
            "V500020030             nan                0.0         0.0  ...         0.0   \n",
            "\n",
            "            CE07_zstok  CE09_zstok  CE11_zstok  CE13_zstok  Contr.qualid.  \\\n",
            "Material                                                                    \n",
            "20AA15140          1.0         3.0         0.0         0.0            3.0   \n",
            "26NA32870          0.0         0.0         2.0         0.0            0.0   \n",
            "4030520401         6.0         0.0        22.0         0.0            2.0   \n",
            "50BA40220          2.0         0.0         0.0         0.0            0.0   \n",
            "55VA77890          0.0         0.0         0.0         0.0            0.0   \n",
            "...                ...         ...         ...         ...            ...   \n",
            "AC0C841400         0.0         0.0         0.0         0.0            0.0   \n",
            "AC0CM50200         0.0         0.0         0.0         0.0            0.0   \n",
            "AC0CR70622         0.0         0.0         0.0         0.0            0.0   \n",
            "DD1A012A30         1.0         0.0         0.0         0.0            0.0   \n",
            "V500020030         0.0         0.0         0.0         0.0            0.0   \n",
            "\n",
            "            Dec/24  Jan/25  Nov/24  Oct/24  \n",
            "Material                                    \n",
            "20AA15140      0.0     5.0     0.0     8.0  \n",
            "26NA32870      0.0     2.0    16.0     0.0  \n",
            "4030520401    60.0     0.0    20.0   200.0  \n",
            "50BA40220      0.0     0.0     0.0     0.0  \n",
            "55VA77890      0.0     0.0     0.0     0.0  \n",
            "...            ...     ...     ...     ...  \n",
            "AC0C841400     0.0     0.0     0.0     0.0  \n",
            "AC0CM50200     0.0     0.0     0.0     0.0  \n",
            "AC0CR70622     0.0     0.0     6.0     2.0  \n",
            "DD1A012A30     0.0     0.0     0.0     0.0  \n",
            "V500020030     0.0     0.0     6.0     0.0  \n",
            "\n",
            "[137 rows x 21 columns]\n"
          ]
        }
      ],
      "source": [
        "# Realizar left join entre as tabelas usando a coluna \"Material\" como chave\n",
        "merged_table_2 = merged_table_1.merge(tabela_dinamica_fup, how='left', left_index=True, right_index=True)\n",
        "\n",
        "# Preencher valores nulos com zero\n",
        "merged_table_2 = merged_table_2.fillna(0)\n",
        "\n",
        "print(merged_table_2)"
      ]
    },
    {
      "cell_type": "code",
      "execution_count": 88,
      "metadata": {
        "colab": {
          "base_uri": "https://localhost:8080/"
        },
        "id": "naqhcdgRyzfi",
        "outputId": "05f69321-4df1-4c7f-90e1-815aa97a0390"
      },
      "outputs": [
        {
          "data": {
            "text/plain": [
              "Index(['CE03_zva70', 'CE04_zva70', 'CE05_zva70', 'CE11_zva70', 'CE13_zva70',\n",
              "       'Denominação', 'Criado por', 'Canal', 'Pendências Gerais', 'CE01_zstok',\n",
              "       'CE03_zstok', 'CE05_zstok', 'CE07_zstok', 'CE09_zstok', 'CE11_zstok',\n",
              "       'CE13_zstok', 'Contr.qualid.', 'Dec/24', 'Jan/25', 'Nov/24', 'Oct/24'],\n",
              "      dtype='object')"
            ]
          },
          "execution_count": 88,
          "metadata": {},
          "output_type": "execute_result"
        }
      ],
      "source": [
        "merged_table_2.columns"
      ]
    },
    {
      "cell_type": "code",
      "execution_count": 89,
      "metadata": {
        "id": "xV6-3goc1ND_"
      },
      "outputs": [],
      "source": [
        "# Renomear colunas com sufixo \"_x\"\n",
        "merged_table_2 = merged_table_2.rename(columns=lambda x: x.replace('_x', '_zva70'))\n",
        "\n",
        "# Renomear colunas com sufixo \"_y\"\n",
        "merged_table_2 = merged_table_2.rename(columns=lambda x: x.replace('_y', '_zstok'))\n"
      ]
    },
    {
      "cell_type": "code",
      "execution_count": 90,
      "metadata": {
        "colab": {
          "base_uri": "https://localhost:8080/"
        },
        "id": "wgPKOqwXMwBn",
        "outputId": "e2b8f186-1d5e-47d1-e988-c86815e0de1b"
      },
      "outputs": [
        {
          "name": "stdout",
          "output_type": "stream",
          "text": [
            "            CE03_zva70  CE04_zva70  CE05_zva70  CE11_zva70  CE13_zva70  \\\n",
            "Material                                                                 \n",
            "20AA15140            0           0           0           0           2   \n",
            "26NA32870            0           0           0           0          10   \n",
            "4030520401           0           0           0           0          20   \n",
            "50BA40220            0           0           0           1           0   \n",
            "55VA77890            0           0           0           1           0   \n",
            "...                ...         ...         ...         ...         ...   \n",
            "AC0C841400           0           0           0           1           0   \n",
            "AC0CM50200           0           0           0           2           0   \n",
            "AC0CR70622           0           0           0           1           0   \n",
            "DD1A012A30           0           0           0           1           0   \n",
            "V500020030           0           0           0           6           0   \n",
            "\n",
            "                        Denominação                            Criado por  \\\n",
            "Material                                                                    \n",
            "20AA15140               CABO DE AÇO             MARIANA PEREIRA DOS ANJOS   \n",
            "26NA32870         MOLA DE PRESSÃO 2             MARIANA PEREIRA DOS ANJOS   \n",
            "4030520401                     SELO                             ANA PAULA   \n",
            "50BA40220                      ROLO                       ROBERTA MACHADO   \n",
            "55VA77890           ENGRENAGEM 20 D      REGILENE DE CASSIA LUIZ OLIVEIRA   \n",
            "...                             ...                                   ...   \n",
            "AC0C841400                     ROLO  MILENA PIMENTEL MONTEIRO DE OLIVEIRA   \n",
            "AC0CM50200     Photointerrupter  /S  MILENA PIMENTEL MONTEIRO DE OLIVEIRA   \n",
            "AC0CR70622  CONJUNTO CAIXA COLETORA  MILENA PIMENTEL MONTEIRO DE OLIVEIRA   \n",
            "DD1A012A30        CONJUNTO DE FUSÃO        JOÃO PAULO CLEMENTE DOS SANTOS   \n",
            "V500020030                    GARRA  MILENA PIMENTEL MONTEIRO DE OLIVEIRA   \n",
            "\n",
            "                     Canal  Pendências Gerais  CE01_zstok  ...  CE07_zstok  \\\n",
            "Material                                                   ...               \n",
            "20AA15140   VENDA INDIRETA                3.0         0.0  ...         1.0   \n",
            "26NA32870   VENDA INDIRETA                4.0         0.0  ...         0.0   \n",
            "4030520401  VENDA INDIRETA              220.0         0.0  ...         6.0   \n",
            "50BA40220   VENDA INDIRETA                0.0         0.0  ...         2.0   \n",
            "55VA77890              nan                0.0         0.0  ...         0.0   \n",
            "...                    ...                ...         ...  ...         ...   \n",
            "AC0C841400    VENDA DIRETA                0.0         0.0  ...         0.0   \n",
            "AC0CM50200    VENDA DIRETA                0.0         0.0  ...         0.0   \n",
            "AC0CR70622    VENDA DIRETA                0.0         0.0  ...         0.0   \n",
            "DD1A012A30    VENDA DIRETA                0.0         0.0  ...         1.0   \n",
            "V500020030             nan                0.0         0.0  ...         0.0   \n",
            "\n",
            "            CE09_zstok  CE11_zstok  CE13_zstok  Contr.qualid.  Dec/24  Jan/25  \\\n",
            "Material                                                                        \n",
            "20AA15140          3.0         0.0         0.0            3.0     0.0     5.0   \n",
            "26NA32870          0.0         2.0         0.0            0.0     0.0     2.0   \n",
            "4030520401         0.0        22.0         0.0            2.0    60.0     0.0   \n",
            "50BA40220          0.0         0.0         0.0            0.0     0.0     0.0   \n",
            "55VA77890          0.0         0.0         0.0            0.0     0.0     0.0   \n",
            "...                ...         ...         ...            ...     ...     ...   \n",
            "AC0C841400         0.0         0.0         0.0            0.0     0.0     0.0   \n",
            "AC0CM50200         0.0         0.0         0.0            0.0     0.0     0.0   \n",
            "AC0CR70622         0.0         0.0         0.0            0.0     0.0     0.0   \n",
            "DD1A012A30         0.0         0.0         0.0            0.0     0.0     0.0   \n",
            "V500020030         0.0         0.0         0.0            0.0     0.0     0.0   \n",
            "\n",
            "            Nov/24  Oct/24  Montante  \n",
            "Material                              \n",
            "20AA15140      0.0     8.0      2.72  \n",
            "26NA32870     16.0     0.0      0.26  \n",
            "4030520401    20.0   200.0      0.41  \n",
            "50BA40220      0.0     0.0      0.45  \n",
            "55VA77890      0.0     0.0      7.06  \n",
            "...            ...     ...       ...  \n",
            "AC0C841400     0.0     0.0     17.95  \n",
            "AC0CM50200     0.0     0.0     29.18  \n",
            "AC0CR70622     6.0     2.0    162.20  \n",
            "DD1A012A30     0.0     0.0      0.00  \n",
            "V500020030     6.0     0.0      2.13  \n",
            "\n",
            "[137 rows x 22 columns]\n"
          ]
        }
      ],
      "source": [
        "# Realizar left join entre as tabelas usando a coluna \"Material\" como chave\n",
        "merged_table_3 = merged_table_2.merge(tabela_dinamica_fob, how='left', left_index=True, right_index=True)\n",
        "\n",
        "# Preencher valores nulos com zero\n",
        "merged_table_3 = merged_table_3.fillna(0)\n",
        "\n",
        "print(merged_table_3)"
      ]
    },
    {
      "cell_type": "code",
      "execution_count": 91,
      "metadata": {
        "colab": {
          "base_uri": "https://localhost:8080/"
        },
        "id": "qS1JaxmdMvIG",
        "outputId": "5dcd9ada-f328-498f-acf1-fed8241a0cbe"
      },
      "outputs": [
        {
          "name": "stdout",
          "output_type": "stream",
          "text": [
            "            CE03_zva70  CE04_zva70  CE05_zva70  CE11_zva70  CE13_zva70  \\\n",
            "Material                                                                 \n",
            "20AA15140            0           0           0           0           2   \n",
            "26NA32870            0           0           0           0          10   \n",
            "4030520401           0           0           0           0          20   \n",
            "50BA40220            0           0           0           1           0   \n",
            "55VA77890            0           0           0           1           0   \n",
            "...                ...         ...         ...         ...         ...   \n",
            "AC0C841400           0           0           0           1           0   \n",
            "AC0CM50200           0           0           0           2           0   \n",
            "AC0CR70622           0           0           0           1           0   \n",
            "DD1A012A30           0           0           0           1           0   \n",
            "V500020030           0           0           0           6           0   \n",
            "\n",
            "                        Denominação                            Criado por  \\\n",
            "Material                                                                    \n",
            "20AA15140               CABO DE AÇO             MARIANA PEREIRA DOS ANJOS   \n",
            "26NA32870         MOLA DE PRESSÃO 2             MARIANA PEREIRA DOS ANJOS   \n",
            "4030520401                     SELO                             ANA PAULA   \n",
            "50BA40220                      ROLO                       ROBERTA MACHADO   \n",
            "55VA77890           ENGRENAGEM 20 D      REGILENE DE CASSIA LUIZ OLIVEIRA   \n",
            "...                             ...                                   ...   \n",
            "AC0C841400                     ROLO  MILENA PIMENTEL MONTEIRO DE OLIVEIRA   \n",
            "AC0CM50200     Photointerrupter  /S  MILENA PIMENTEL MONTEIRO DE OLIVEIRA   \n",
            "AC0CR70622  CONJUNTO CAIXA COLETORA  MILENA PIMENTEL MONTEIRO DE OLIVEIRA   \n",
            "DD1A012A30        CONJUNTO DE FUSÃO        JOÃO PAULO CLEMENTE DOS SANTOS   \n",
            "V500020030                    GARRA  MILENA PIMENTEL MONTEIRO DE OLIVEIRA   \n",
            "\n",
            "                     Canal  Pendências Gerais  CE01_zstok  ...  CE09_zstok  \\\n",
            "Material                                                   ...               \n",
            "20AA15140   VENDA INDIRETA                3.0         0.0  ...         3.0   \n",
            "26NA32870   VENDA INDIRETA                4.0         0.0  ...         0.0   \n",
            "4030520401  VENDA INDIRETA              220.0         0.0  ...         0.0   \n",
            "50BA40220   VENDA INDIRETA                0.0         0.0  ...         0.0   \n",
            "55VA77890              nan                0.0         0.0  ...         0.0   \n",
            "...                    ...                ...         ...  ...         ...   \n",
            "AC0C841400    VENDA DIRETA                0.0         0.0  ...         0.0   \n",
            "AC0CM50200    VENDA DIRETA                0.0         0.0  ...         0.0   \n",
            "AC0CR70622    VENDA DIRETA                0.0         0.0  ...         0.0   \n",
            "DD1A012A30    VENDA DIRETA                0.0         0.0  ...         0.0   \n",
            "V500020030             nan                0.0         0.0  ...         0.0   \n",
            "\n",
            "            CE11_zstok  CE13_zstok  Contr.qualid.  Dec/24  Jan/25  Nov/24  \\\n",
            "Material                                                                    \n",
            "20AA15140          0.0         0.0            3.0     0.0     5.0     0.0   \n",
            "26NA32870          2.0         0.0            0.0     0.0     2.0    16.0   \n",
            "4030520401        22.0         0.0            2.0    60.0     0.0    20.0   \n",
            "50BA40220          0.0         0.0            0.0     0.0     0.0     0.0   \n",
            "55VA77890          0.0         0.0            0.0     0.0     0.0     0.0   \n",
            "...                ...         ...            ...     ...     ...     ...   \n",
            "AC0C841400         0.0         0.0            0.0     0.0     0.0     0.0   \n",
            "AC0CM50200         0.0         0.0            0.0     0.0     0.0     0.0   \n",
            "AC0CR70622         0.0         0.0            0.0     0.0     0.0     6.0   \n",
            "DD1A012A30         0.0         0.0            0.0     0.0     0.0     0.0   \n",
            "V500020030         0.0         0.0            0.0     0.0     0.0     6.0   \n",
            "\n",
            "            Oct/24  Montante  \\\n",
            "Material                       \n",
            "20AA15140      8.0      2.72   \n",
            "26NA32870      0.0      0.26   \n",
            "4030520401   200.0      0.41   \n",
            "50BA40220      0.0      0.45   \n",
            "55VA77890      0.0      7.06   \n",
            "...            ...       ...   \n",
            "AC0C841400     0.0     17.95   \n",
            "AC0CM50200     0.0     29.18   \n",
            "AC0CR70622     2.0    162.20   \n",
            "DD1A012A30     0.0      0.00   \n",
            "V500020030     0.0      2.13   \n",
            "\n",
            "                                        Modelos Lista Técnica  \n",
            "Material                                                       \n",
            "20AA15140                               LT-211/LU-202/LU-202M  \n",
            "26NA32870   8050/ACCURIOLABEL 190/BIZHUB PRESS C71CF/ACCUR...  \n",
            "4030520401                                                  0  \n",
            "50BA40220   7075/7085/ACCURIOPRESS 6136P/ACCURIOPRESS 7136...  \n",
            "55VA77890   7075/7085/ACCURIOPRESS 6136P/ACCURIOPRESS 7136...  \n",
            "...                                                       ...  \n",
            "AC0C841400                                ACCURIOPRESS C14000  \n",
            "AC0CM50200               ACCURIOLABEL 400/ACCURIOPRESS C14000  \n",
            "AC0CR70622                                ACCURIOPRESS C14000  \n",
            "DD1A012A30                                                  0  \n",
            "V500020030  ACCURIOPRESS 6136P/ACCURIOPRESS 7136P/ACCURIOP...  \n",
            "\n",
            "[137 rows x 23 columns]\n"
          ]
        }
      ],
      "source": [
        "# Realizar left join entre as tabelas usando a coluna \"Material\" como chave\n",
        "merged_table_4 = merged_table_3.merge(tabela_dinamica_pecas, how='left', left_index=True, right_index=True)\n",
        "\n",
        "# Preencher valores nulos com zero\n",
        "merged_table_4 = merged_table_4.fillna(0)\n",
        "\n",
        "print(merged_table_4)"
      ]
    },
    {
      "cell_type": "code",
      "execution_count": 92,
      "metadata": {
        "colab": {
          "base_uri": "https://localhost:8080/"
        },
        "id": "HpeYh95LtwU7",
        "outputId": "9016fcc1-e63a-4b71-99a1-e603ecb6eda2"
      },
      "outputs": [
        {
          "name": "stdout",
          "output_type": "stream",
          "text": [
            "            CE03_zva70  CE04_zva70  CE05_zva70  CE11_zva70  CE13_zva70  \\\n",
            "Material                                                                 \n",
            "20AA15140            0           0           0           0           2   \n",
            "26NA32870            0           0           0           0          10   \n",
            "4030520401           0           0           0           0          20   \n",
            "50BA40220            0           0           0           1           0   \n",
            "55VA77890            0           0           0           1           0   \n",
            "...                ...         ...         ...         ...         ...   \n",
            "AC0C841400           0           0           0           1           0   \n",
            "AC0CM50200           0           0           0           2           0   \n",
            "AC0CR70622           0           0           0           1           0   \n",
            "DD1A012A30           0           0           0           1           0   \n",
            "V500020030           0           0           0           6           0   \n",
            "\n",
            "                        Denominação                            Criado por  \\\n",
            "Material                                                                    \n",
            "20AA15140               CABO DE AÇO             MARIANA PEREIRA DOS ANJOS   \n",
            "26NA32870         MOLA DE PRESSÃO 2             MARIANA PEREIRA DOS ANJOS   \n",
            "4030520401                     SELO                             ANA PAULA   \n",
            "50BA40220                      ROLO                       ROBERTA MACHADO   \n",
            "55VA77890           ENGRENAGEM 20 D      REGILENE DE CASSIA LUIZ OLIVEIRA   \n",
            "...                             ...                                   ...   \n",
            "AC0C841400                     ROLO  MILENA PIMENTEL MONTEIRO DE OLIVEIRA   \n",
            "AC0CM50200     Photointerrupter  /S  MILENA PIMENTEL MONTEIRO DE OLIVEIRA   \n",
            "AC0CR70622  CONJUNTO CAIXA COLETORA  MILENA PIMENTEL MONTEIRO DE OLIVEIRA   \n",
            "DD1A012A30        CONJUNTO DE FUSÃO        JOÃO PAULO CLEMENTE DOS SANTOS   \n",
            "V500020030                    GARRA  MILENA PIMENTEL MONTEIRO DE OLIVEIRA   \n",
            "\n",
            "                     Canal  Pendências Gerais  CE01_zstok  ...  Jan/25  \\\n",
            "Material                                                   ...           \n",
            "20AA15140   VENDA INDIRETA                3.0         0.0  ...     5.0   \n",
            "26NA32870   VENDA INDIRETA                4.0         0.0  ...     2.0   \n",
            "4030520401  VENDA INDIRETA              220.0         0.0  ...     0.0   \n",
            "50BA40220   VENDA INDIRETA                0.0         0.0  ...     0.0   \n",
            "55VA77890              nan                0.0         0.0  ...     0.0   \n",
            "...                    ...                ...         ...  ...     ...   \n",
            "AC0C841400    VENDA DIRETA                0.0         0.0  ...     0.0   \n",
            "AC0CM50200    VENDA DIRETA                0.0         0.0  ...     0.0   \n",
            "AC0CR70622    VENDA DIRETA                0.0         0.0  ...     0.0   \n",
            "DD1A012A30    VENDA DIRETA                0.0         0.0  ...     0.0   \n",
            "V500020030             nan                0.0         0.0  ...     0.0   \n",
            "\n",
            "            Nov/24  Oct/24  Montante  \\\n",
            "Material                               \n",
            "20AA15140      0.0     8.0      2.72   \n",
            "26NA32870     16.0     0.0      0.26   \n",
            "4030520401    20.0   200.0      0.41   \n",
            "50BA40220      0.0     0.0      0.45   \n",
            "55VA77890      0.0     0.0      7.06   \n",
            "...            ...     ...       ...   \n",
            "AC0C841400     0.0     0.0     17.95   \n",
            "AC0CM50200     0.0     0.0     29.18   \n",
            "AC0CR70622     6.0     2.0    162.20   \n",
            "DD1A012A30     0.0     0.0      0.00   \n",
            "V500020030     6.0     0.0      2.13   \n",
            "\n",
            "                                        Modelos Lista Técnica    Material  \\\n",
            "Material                                                                    \n",
            "20AA15140                               LT-211/LU-202/LU-202M   20AA15140   \n",
            "26NA32870   8050/ACCURIOLABEL 190/BIZHUB PRESS C71CF/ACCUR...   26NA32870   \n",
            "4030520401                                                  0  4030520401   \n",
            "50BA40220   7075/7085/ACCURIOPRESS 6136P/ACCURIOPRESS 7136...           0   \n",
            "55VA77890   7075/7085/ACCURIOPRESS 6136P/ACCURIOPRESS 7136...           0   \n",
            "...                                                       ...         ...   \n",
            "AC0C841400                                ACCURIOPRESS C14000           0   \n",
            "AC0CM50200               ACCURIOLABEL 400/ACCURIOPRESS C14000           0   \n",
            "AC0CR70622                                ACCURIOPRESS C14000  AC0CR70622   \n",
            "DD1A012A30                                                  0           0   \n",
            "V500020030  ACCURIOPRESS 6136P/ACCURIOPRESS 7136P/ACCURIOP...  V500020030   \n",
            "\n",
            "              Similar1    Similar2  Similar3  Similar4  \n",
            "Material                                                \n",
            "20AA15140            -           -         -         -  \n",
            "26NA32870            -           -         -         -  \n",
            "4030520401           -           -         -         -  \n",
            "50BA40220            0           0         0         0  \n",
            "55VA77890            0           0         0         0  \n",
            "...                ...         ...       ...       ...  \n",
            "AC0C841400           0           0         0         0  \n",
            "AC0CM50200           0           0         0         0  \n",
            "AC0CR70622  AC0CR70611  AC0CR70600         -         -  \n",
            "DD1A012A30           0           0         0         0  \n",
            "V500020030           -           -         -         -  \n",
            "\n",
            "[137 rows x 28 columns]\n"
          ]
        }
      ],
      "source": [
        "# Realizar left join entre as tabelas usando a coluna \"Material\" como chave\n",
        "merged_table_5 = merged_table_4.merge(tabela_resultados, how='left', left_index=True, right_index=True)\n",
        "\n",
        "# Preencher valores nulos com zero\n",
        "merged_table_5 = merged_table_5.fillna(0)\n",
        "\n",
        "print(merged_table_5)"
      ]
    },
    {
      "cell_type": "code",
      "execution_count": 93,
      "metadata": {
        "colab": {
          "base_uri": "https://localhost:8080/"
        },
        "id": "Av3CKwK00NDx",
        "outputId": "e72e9dfa-df0a-4bbe-a347-edaec60d9fd9"
      },
      "outputs": [
        {
          "name": "stdout",
          "output_type": "stream",
          "text": [
            "            CE03_zva70  CE04_zva70  CE05_zva70  CE11_zva70  CE13_zva70  \\\n",
            "Material                                                                 \n",
            "20AA15140            0           0           0           0           2   \n",
            "26NA32870            0           0           0           0          10   \n",
            "4030520401           0           0           0           0          20   \n",
            "50BA40220            0           0           0           1           0   \n",
            "55VA77890            0           0           0           1           0   \n",
            "...                ...         ...         ...         ...         ...   \n",
            "AC0C841400           0           0           0           1           0   \n",
            "AC0CM50200           0           0           0           2           0   \n",
            "AC0CR70622           0           0           0           1           0   \n",
            "DD1A012A30           0           0           0           1           0   \n",
            "V500020030           0           0           0           6           0   \n",
            "\n",
            "                        Denominação                            Criado por  \\\n",
            "Material                                                                    \n",
            "20AA15140               CABO DE AÇO             MARIANA PEREIRA DOS ANJOS   \n",
            "26NA32870         MOLA DE PRESSÃO 2             MARIANA PEREIRA DOS ANJOS   \n",
            "4030520401                     SELO                             ANA PAULA   \n",
            "50BA40220                      ROLO                       ROBERTA MACHADO   \n",
            "55VA77890           ENGRENAGEM 20 D      REGILENE DE CASSIA LUIZ OLIVEIRA   \n",
            "...                             ...                                   ...   \n",
            "AC0C841400                     ROLO  MILENA PIMENTEL MONTEIRO DE OLIVEIRA   \n",
            "AC0CM50200     Photointerrupter  /S  MILENA PIMENTEL MONTEIRO DE OLIVEIRA   \n",
            "AC0CR70622  CONJUNTO CAIXA COLETORA  MILENA PIMENTEL MONTEIRO DE OLIVEIRA   \n",
            "DD1A012A30        CONJUNTO DE FUSÃO        JOÃO PAULO CLEMENTE DOS SANTOS   \n",
            "V500020030                    GARRA  MILENA PIMENTEL MONTEIRO DE OLIVEIRA   \n",
            "\n",
            "                     Canal  Pendências Gerais  CE01_zstok  ...  Nov/24  \\\n",
            "Material                                                   ...           \n",
            "20AA15140   VENDA INDIRETA                3.0         0.0  ...     0.0   \n",
            "26NA32870   VENDA INDIRETA                4.0         0.0  ...    16.0   \n",
            "4030520401  VENDA INDIRETA              220.0         0.0  ...    20.0   \n",
            "50BA40220   VENDA INDIRETA                0.0         0.0  ...     0.0   \n",
            "55VA77890              nan                0.0         0.0  ...     0.0   \n",
            "...                    ...                ...         ...  ...     ...   \n",
            "AC0C841400    VENDA DIRETA                0.0         0.0  ...     0.0   \n",
            "AC0CM50200    VENDA DIRETA                0.0         0.0  ...     0.0   \n",
            "AC0CR70622    VENDA DIRETA                0.0         0.0  ...     6.0   \n",
            "DD1A012A30    VENDA DIRETA                0.0         0.0  ...     0.0   \n",
            "V500020030             nan                0.0         0.0  ...     6.0   \n",
            "\n",
            "            Oct/24  Montante  \\\n",
            "Material                       \n",
            "20AA15140      8.0      2.72   \n",
            "26NA32870      0.0      0.26   \n",
            "4030520401   200.0      0.41   \n",
            "50BA40220      0.0      0.45   \n",
            "55VA77890      0.0      7.06   \n",
            "...            ...       ...   \n",
            "AC0C841400     0.0     17.95   \n",
            "AC0CM50200     0.0     29.18   \n",
            "AC0CR70622     2.0    162.20   \n",
            "DD1A012A30     0.0      0.00   \n",
            "V500020030     0.0      2.13   \n",
            "\n",
            "                                        Modelos Lista Técnica    Material  \\\n",
            "Material                                                                    \n",
            "20AA15140                               LT-211/LU-202/LU-202M   20AA15140   \n",
            "26NA32870   8050/ACCURIOLABEL 190/BIZHUB PRESS C71CF/ACCUR...   26NA32870   \n",
            "4030520401                                                  0  4030520401   \n",
            "50BA40220   7075/7085/ACCURIOPRESS 6136P/ACCURIOPRESS 7136...           0   \n",
            "55VA77890   7075/7085/ACCURIOPRESS 6136P/ACCURIOPRESS 7136...           0   \n",
            "...                                                       ...         ...   \n",
            "AC0C841400                                ACCURIOPRESS C14000           0   \n",
            "AC0CM50200               ACCURIOLABEL 400/ACCURIOPRESS C14000           0   \n",
            "AC0CR70622                                ACCURIOPRESS C14000  AC0CR70622   \n",
            "DD1A012A30                                                  0           0   \n",
            "V500020030  ACCURIOPRESS 6136P/ACCURIOPRESS 7136P/ACCURIOP...  V500020030   \n",
            "\n",
            "              Similar1    Similar2  Similar3  Similar4  Durabilidade  \n",
            "Material                                                              \n",
            "20AA15140            -           -         -         -             0  \n",
            "26NA32870            -           -         -         -             0  \n",
            "4030520401           -           -         -         -             0  \n",
            "50BA40220            0           0         0         0             0  \n",
            "55VA77890            0           0         0         0             0  \n",
            "...                ...         ...       ...       ...           ...  \n",
            "AC0C841400           0           0         0         0             0  \n",
            "AC0CM50200           0           0         0         0             0  \n",
            "AC0CR70622  AC0CR70611  AC0CR70600         -         -             0  \n",
            "DD1A012A30           0           0         0         0             0  \n",
            "V500020030           -           -         -         -             0  \n",
            "\n",
            "[137 rows x 29 columns]\n"
          ]
        }
      ],
      "source": [
        "# Realizar left join entre as tabelas usando a coluna \"Material\" como chave\n",
        "merged_table_6 = merged_table_5.merge(tabela_dinamica_classificacao, how='left', left_index=True, right_index=True)\n",
        "\n",
        "# Preencher valores nulos com zero\n",
        "merged_table_6 = merged_table_6.fillna(0)\n",
        "\n",
        "print(merged_table_6)"
      ]
    },
    {
      "cell_type": "code",
      "execution_count": 94,
      "metadata": {
        "colab": {
          "base_uri": "https://localhost:8080/"
        },
        "id": "aYCsNgDTujli",
        "outputId": "c3515f20-4a27-401d-fa49-4195f3f8cad2"
      },
      "outputs": [
        {
          "data": {
            "text/plain": [
              "Index(['CE03_zva70', 'CE04_zva70', 'CE05_zva70', 'CE11_zva70', 'CE13_zva70',\n",
              "       'Denominação', 'Criado por', 'Canal', 'Pendências Gerais', 'CE01_zstok',\n",
              "       'CE03_zstok', 'CE05_zstok', 'CE07_zstok', 'CE09_zstok', 'CE11_zstok',\n",
              "       'CE13_zstok', 'Contr.qualid.', 'Dec/24', 'Jan/25', 'Nov/24', 'Oct/24',\n",
              "       'Montante', 'Modelos Lista Técnica', 'Material', 'Similar1', 'Similar2',\n",
              "       'Similar3', 'Similar4', 'Durabilidade'],\n",
              "      dtype='object')"
            ]
          },
          "execution_count": 94,
          "metadata": {},
          "output_type": "execute_result"
        }
      ],
      "source": [
        "merged_table_6.columns"
      ]
    },
    {
      "cell_type": "code",
      "execution_count": 95,
      "metadata": {
        "id": "eCzTViJly1uF"
      },
      "outputs": [],
      "source": [
        "# Supondo que você tenha um DataFrame chamado 'merged_table_2'\n",
        "# Certifique-se de ajustar isso conforme necessário com o nome correto do seu DataFrame\n",
        "\n",
        "# Especificar o caminho do arquivo Excel de saída\n",
        "caminho_saida = r'C:\\Users\\fsp_adolpho.salvador\\Desktop\\Konica Minolta\\Desktop Cloud - Documentos\\Desktop\\Py\\Pendencias\\Mapa.xlsx'\n",
        "\n",
        "# Exportar o DataFrame para o arquivo Excel\n",
        "merged_table_6.to_excel(caminho_saida, index=True)\n"
      ]
    },
    {
      "cell_type": "code",
      "execution_count": 96,
      "metadata": {
        "colab": {
          "base_uri": "https://localhost:8080/",
          "height": 187
        },
        "id": "e86m_xIZzbH3",
        "outputId": "df79a1f3-3b9e-48f8-f40c-3e096f901b4e"
      },
      "outputs": [
        {
          "data": {
            "text/plain": [
              "<bound method NDFrame.head of             CE03_zva70  CE04_zva70  CE05_zva70  CE11_zva70  CE13_zva70  \\\n",
              "Material                                                                 \n",
              "20AA15140            0           0           0           0           2   \n",
              "26NA32870            0           0           0           0          10   \n",
              "4030520401           0           0           0           0          20   \n",
              "50BA40220            0           0           0           1           0   \n",
              "55VA77890            0           0           0           1           0   \n",
              "...                ...         ...         ...         ...         ...   \n",
              "AC0C841400           0           0           0           1           0   \n",
              "AC0CM50200           0           0           0           2           0   \n",
              "AC0CR70622           0           0           0           1           0   \n",
              "DD1A012A30           0           0           0           1           0   \n",
              "V500020030           0           0           0           6           0   \n",
              "\n",
              "                        Denominação                            Criado por  \\\n",
              "Material                                                                    \n",
              "20AA15140               CABO DE AÇO             MARIANA PEREIRA DOS ANJOS   \n",
              "26NA32870         MOLA DE PRESSÃO 2             MARIANA PEREIRA DOS ANJOS   \n",
              "4030520401                     SELO                             ANA PAULA   \n",
              "50BA40220                      ROLO                       ROBERTA MACHADO   \n",
              "55VA77890           ENGRENAGEM 20 D      REGILENE DE CASSIA LUIZ OLIVEIRA   \n",
              "...                             ...                                   ...   \n",
              "AC0C841400                     ROLO  MILENA PIMENTEL MONTEIRO DE OLIVEIRA   \n",
              "AC0CM50200     Photointerrupter  /S  MILENA PIMENTEL MONTEIRO DE OLIVEIRA   \n",
              "AC0CR70622  CONJUNTO CAIXA COLETORA  MILENA PIMENTEL MONTEIRO DE OLIVEIRA   \n",
              "DD1A012A30        CONJUNTO DE FUSÃO        JOÃO PAULO CLEMENTE DOS SANTOS   \n",
              "V500020030                    GARRA  MILENA PIMENTEL MONTEIRO DE OLIVEIRA   \n",
              "\n",
              "                     Canal  Pendências Gerais  CE01_zstok  ...  Nov/24  \\\n",
              "Material                                                   ...           \n",
              "20AA15140   VENDA INDIRETA                3.0         0.0  ...     0.0   \n",
              "26NA32870   VENDA INDIRETA                4.0         0.0  ...    16.0   \n",
              "4030520401  VENDA INDIRETA              220.0         0.0  ...    20.0   \n",
              "50BA40220   VENDA INDIRETA                0.0         0.0  ...     0.0   \n",
              "55VA77890              nan                0.0         0.0  ...     0.0   \n",
              "...                    ...                ...         ...  ...     ...   \n",
              "AC0C841400    VENDA DIRETA                0.0         0.0  ...     0.0   \n",
              "AC0CM50200    VENDA DIRETA                0.0         0.0  ...     0.0   \n",
              "AC0CR70622    VENDA DIRETA                0.0         0.0  ...     6.0   \n",
              "DD1A012A30    VENDA DIRETA                0.0         0.0  ...     0.0   \n",
              "V500020030             nan                0.0         0.0  ...     6.0   \n",
              "\n",
              "            Oct/24  Montante  \\\n",
              "Material                       \n",
              "20AA15140      8.0      2.72   \n",
              "26NA32870      0.0      0.26   \n",
              "4030520401   200.0      0.41   \n",
              "50BA40220      0.0      0.45   \n",
              "55VA77890      0.0      7.06   \n",
              "...            ...       ...   \n",
              "AC0C841400     0.0     17.95   \n",
              "AC0CM50200     0.0     29.18   \n",
              "AC0CR70622     2.0    162.20   \n",
              "DD1A012A30     0.0      0.00   \n",
              "V500020030     0.0      2.13   \n",
              "\n",
              "                                        Modelos Lista Técnica    Material  \\\n",
              "Material                                                                    \n",
              "20AA15140                               LT-211/LU-202/LU-202M   20AA15140   \n",
              "26NA32870   8050/ACCURIOLABEL 190/BIZHUB PRESS C71CF/ACCUR...   26NA32870   \n",
              "4030520401                                                  0  4030520401   \n",
              "50BA40220   7075/7085/ACCURIOPRESS 6136P/ACCURIOPRESS 7136...           0   \n",
              "55VA77890   7075/7085/ACCURIOPRESS 6136P/ACCURIOPRESS 7136...           0   \n",
              "...                                                       ...         ...   \n",
              "AC0C841400                                ACCURIOPRESS C14000           0   \n",
              "AC0CM50200               ACCURIOLABEL 400/ACCURIOPRESS C14000           0   \n",
              "AC0CR70622                                ACCURIOPRESS C14000  AC0CR70622   \n",
              "DD1A012A30                                                  0           0   \n",
              "V500020030  ACCURIOPRESS 6136P/ACCURIOPRESS 7136P/ACCURIOP...  V500020030   \n",
              "\n",
              "              Similar1    Similar2  Similar3  Similar4  Durabilidade  \n",
              "Material                                                              \n",
              "20AA15140            -           -         -         -             0  \n",
              "26NA32870            -           -         -         -             0  \n",
              "4030520401           -           -         -         -             0  \n",
              "50BA40220            0           0         0         0             0  \n",
              "55VA77890            0           0         0         0             0  \n",
              "...                ...         ...       ...       ...           ...  \n",
              "AC0C841400           0           0         0         0             0  \n",
              "AC0CM50200           0           0         0         0             0  \n",
              "AC0CR70622  AC0CR70611  AC0CR70600         -         -             0  \n",
              "DD1A012A30           0           0         0         0             0  \n",
              "V500020030           -           -         -         -             0  \n",
              "\n",
              "[137 rows x 29 columns]>"
            ]
          },
          "execution_count": 96,
          "metadata": {},
          "output_type": "execute_result"
        }
      ],
      "source": [
        "merged_table_6.head"
      ]
    },
    {
      "cell_type": "code",
      "execution_count": null,
      "metadata": {
        "id": "lw_1k4QZzb9j"
      },
      "outputs": [],
      "source": []
    }
  ],
  "metadata": {
    "colab": {
      "collapsed_sections": [
        "YybzIMWxlALi",
        "O1WlUUCLlErb",
        "1Koc5JwAlIsj",
        "0XgTbAT2JGgy",
        "NVf1Tr1JJKSB"
      ],
      "provenance": []
    },
    "kernelspec": {
      "display_name": "Python 3",
      "name": "python3"
    },
    "language_info": {
      "codemirror_mode": {
        "name": "ipython",
        "version": 3
      },
      "file_extension": ".py",
      "mimetype": "text/x-python",
      "name": "python",
      "nbconvert_exporter": "python",
      "pygments_lexer": "ipython3",
      "version": "3.12.3"
    }
  },
  "nbformat": 4,
  "nbformat_minor": 0
}
