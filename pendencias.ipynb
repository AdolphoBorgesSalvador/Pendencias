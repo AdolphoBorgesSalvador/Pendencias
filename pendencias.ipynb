{
 "cells": [
  {
   "cell_type": "markdown",
   "metadata": {},
   "source": [
    "# Code"
   ]
  },
  {
   "cell_type": "markdown",
   "metadata": {},
   "source": [
    "## Set"
   ]
  },
  {
   "cell_type": "code",
   "execution_count": 1,
   "metadata": {
    "id": "TocGuzNwlVlT"
   },
   "outputs": [],
   "source": [
    "import pandas as pd"
   ]
  },
  {
   "cell_type": "code",
   "execution_count": 2,
   "metadata": {
    "id": "Bow97gC5gJK3"
   },
   "outputs": [],
   "source": [
    "caminho_pend = r'C:\\Users\\fsp_adolpho.salvador\\Desktop\\Konica Minolta\\Desktop Cloud - Documentos\\Desktop\\Py\\Pendencias\\Arquivos\\PEND.XLSX'\n",
    "caminho_pend_geral = r'C:\\Users\\fsp_adolpho.salvador\\Desktop\\Konica Minolta\\Desktop Cloud - Documentos\\Desktop\\Py\\Pendencias\\Arquivos\\pend geral.XLSX'\n",
    "caminho_zstok = r'C:\\Users\\fsp_adolpho.salvador\\Desktop\\Konica Minolta\\Desktop Cloud - Documentos\\Desktop\\Py\\Pendencias\\Arquivos\\zstok.XLSX'\n",
    "caminho_fup = r'C:\\Users\\fsp_adolpho.salvador\\Desktop\\Konica Minolta\\Desktop Cloud - Documentos\\Desktop\\Py\\Pendencias\\Arquivos\\fup.XLSX'\n",
    "caminho_fob = r'C:\\Users\\fsp_adolpho.salvador\\Desktop\\Konica Minolta\\Desktop Cloud - Documentos\\Desktop\\Py\\Pendencias\\Arquivos\\ZTMM069.XLSX'\n",
    "caminho_pecas = r'C:\\Users\\fsp_adolpho.salvador\\Desktop\\Konica Minolta\\Desktop Cloud - Documentos\\Desktop\\Py\\Pendencias\\Arquivos\\ZTMM085.XLSX'\n",
    "caminho_atuais = r'C:\\Users\\fsp_adolpho.salvador\\Desktop\\Konica Minolta\\Desktop Cloud - Documentos\\Desktop\\Py\\Pendencias\\Arquivos\\atuais.xlsx'\n",
    "caminho_classificacao =r'C:\\Users\\fsp_adolpho.salvador\\Desktop\\Konica Minolta\\Desktop Cloud - Documentos\\Desktop\\Py\\Pendencias\\Arquivos\\Classificação das Peças.xlsx'"
   ]
  },
  {
   "cell_type": "markdown",
   "metadata": {
    "id": "YybzIMWxlALi"
   },
   "source": [
    "## Pendências"
   ]
  },
  {
   "cell_type": "code",
   "execution_count": 3,
   "metadata": {
    "id": "PufxUea3lZXr"
   },
   "outputs": [],
   "source": [
    "pendencias = pd.read_excel(caminho_pend)"
   ]
  },
  {
   "cell_type": "code",
   "execution_count": 4,
   "metadata": {
    "colab": {
     "base_uri": "https://localhost:8080/"
    },
    "id": "mV-INAiSmEyU",
    "outputId": "5e4e28da-0cd9-4a18-f3d7-3c702a8d1dae"
   },
   "outputs": [
    {
     "data": {
      "text/plain": [
       "Index(['Nome 1', 'Cliente', 'Doc.vendas', 'Criado em', 'Item', 'Material',\n",
       "       'Denominação', 'Tipo material', 'Centro', 'Quantidade da ordem',\n",
       "       'Qtd.confirm.acumul.', 'Qtd.pendente', 'Unidade venda',\n",
       "       'Data de remessa', 'Criado por', 'Canal', 'Classificação'],\n",
       "      dtype='object')"
      ]
     },
     "execution_count": 4,
     "metadata": {},
     "output_type": "execute_result"
    }
   ],
   "source": [
    "pendencias.columns\n"
   ]
  },
  {
   "cell_type": "code",
   "execution_count": 5,
   "metadata": {
    "colab": {
     "base_uri": "https://localhost:8080/"
    },
    "id": "MeT87jF5qTOq",
    "outputId": "b79fb7db-8211-41ce-9687-0333a4c8814c"
   },
   "outputs": [
    {
     "name": "stdout",
     "output_type": "stream",
     "text": [
      "                           Criado por           Canal\n",
      "0           MARIANA PEREIRA DOS ANJOS  VENDA INDIRETA\n",
      "1         ÁVILA MORAES DE VASCONCELOS    VENDA DIRETA\n",
      "2                THAYS JESUS DE SOUZA    VENDA DIRETA\n",
      "3           MARIANA PEREIRA DOS ANJOS  VENDA INDIRETA\n",
      "4                     ROBERTA MACHADO  VENDA INDIRETA\n",
      "..                                ...             ...\n",
      "194  REGILENE DE CASSIA LUIZ OLIVEIRA    VENDA DIRETA\n",
      "195  REGILENE DE CASSIA LUIZ OLIVEIRA    VENDA DIRETA\n",
      "196  REGILENE DE CASSIA LUIZ OLIVEIRA    VENDA DIRETA\n",
      "197         RODRIGO PEREIRA DOS ANJOS    VENDA DIRETA\n",
      "198         RODRIGO PEREIRA DOS ANJOS    VENDA DIRETA\n",
      "\n",
      "[199 rows x 2 columns]\n"
     ]
    }
   ],
   "source": [
    "colunas_selecionadas = pendencias[[ 'Criado por',\"Canal\"]]\n",
    "\n",
    "print(colunas_selecionadas)\n"
   ]
  },
  {
   "cell_type": "code",
   "execution_count": 6,
   "metadata": {
    "colab": {
     "base_uri": "https://localhost:8080/"
    },
    "id": "rhz6J-PsmXZP",
    "outputId": "310afde0-923c-44ec-c93b-054718245d52"
   },
   "outputs": [
    {
     "name": "stdout",
     "output_type": "stream",
     "text": [
      "O número de linhas em merged_table é: 199\n"
     ]
    }
   ],
   "source": [
    "num_linhas = pendencias.shape[0]\n",
    "\n",
    "# Exibir o número de linhas\n",
    "print(f'O número de linhas em merged_table é: {num_linhas}')\n",
    "\n"
   ]
  },
  {
   "cell_type": "code",
   "execution_count": 7,
   "metadata": {
    "colab": {
     "base_uri": "https://localhost:8080/"
    },
    "id": "y6pzFUwumNdt",
    "outputId": "2d345a72-63c3-4610-827d-ce219e571a66"
   },
   "outputs": [
    {
     "name": "stdout",
     "output_type": "stream",
     "text": [
      "Centro      CE05_zva70  CE07_zva70  CE11_zva70  CE13_zva70\n",
      "Material                                                  \n",
      "20AL48470G           0           0           1           0\n",
      "25SA20150            0           0           1           0\n",
      "40AA77660            0           0           4           0\n",
      "4658015106           0           0           3           0\n",
      "55FU20140            0           0           1           0\n",
      "...                ...         ...         ...         ...\n",
      "AC4J668800           0           0           2           0\n",
      "AC57R70111           0           0           4           0\n",
      "AC57R70122           0           0           1           9\n",
      "ACDN0Y1              0           0          21           0\n",
      "SP00-0220            0           0           2           0\n",
      "\n",
      "[174 rows x 4 columns]\n"
     ]
    }
   ],
   "source": [
    "import pandas as pd\n",
    "\n",
    "# Se você já não tiver feito isso, crie a tabela dinâmica como mostrado no código fornecido\n",
    "tabela_dinamica_pend = pd.pivot_table(pendencias, values='Qtd.pendente', index='Material', columns='Centro', aggfunc='sum', fill_value=0)\n",
    "tabela_dinamica_pend = tabela_dinamica_pend.add_suffix('_zva70')\n",
    "\n",
    "# Exibir a tabela dinâmica com as colunas adicionadas\n",
    "print(tabela_dinamica_pend)\n",
    "\n"
   ]
  },
  {
   "cell_type": "code",
   "execution_count": 8,
   "metadata": {
    "colab": {
     "base_uri": "https://localhost:8080/"
    },
    "id": "xu2h5mTo5C2k",
    "outputId": "34a5239c-fda2-4cec-c508-a6a8e7fe12e9"
   },
   "outputs": [
    {
     "name": "stdout",
     "output_type": "stream",
     "text": [
      "                                 Denominação\n",
      "Material                                    \n",
      "20AL48470G                             BOTÃO\n",
      "25SA20150            COLAR DE POSICIONAMENTO\n",
      "40AA77660             ENGRENAGEM F 28 DENTES\n",
      "4658015106                  CONJUNTO DO ROLO\n",
      "55FU20140                    MOLA DE FIXAÇÃO\n",
      "...                                      ...\n",
      "AC4J668800             Protection  Sheet  /6\n",
      "AC57R70111                  UNIDADE DE CARGA\n",
      "AC57R70122                  UNIDADE DE CARGA\n",
      "ACDN0Y1     FRASCO COLETOR DE TONER RESIDUAL\n",
      "SP00-0220                TERMOSTATO INFERIOR\n",
      "\n",
      "[174 rows x 1 columns]\n"
     ]
    }
   ],
   "source": [
    "tabela_dinamica_pend2 = pd.pivot_table(pendencias, values='Denominação', index='Material', aggfunc='first', fill_value=0)\n",
    "\n",
    "print(tabela_dinamica_pend2)"
   ]
  },
  {
   "cell_type": "code",
   "execution_count": 9,
   "metadata": {
    "colab": {
     "base_uri": "https://localhost:8080/"
    },
    "id": "f8VigsvV56_B",
    "outputId": "6a55d80c-4884-4b0f-a44b-e3e5b45360b4"
   },
   "outputs": [
    {
     "name": "stdout",
     "output_type": "stream",
     "text": [
      "                                                   Criado por\n",
      "Material                                                     \n",
      "20AL48470G                                    ROBERTA MACHADO\n",
      "25SA20150                           RODRIGO PEREIRA DOS ANJOS\n",
      "40AA77660                    REGILENE DE CASSIA LUIZ OLIVEIRA\n",
      "4658015106                                    ROBERTA MACHADO\n",
      "55FU20140                           RODRIGO PEREIRA DOS ANJOS\n",
      "...                                                       ...\n",
      "AC4J668800                              JESSIE OLIVEIRA SILVA\n",
      "AC57R70111                                    ROBERTA MACHADO\n",
      "AC57R70122  PATRICIA ALVES PELAKOSKI/PATRICIA ALVES PELAKO...\n",
      "ACDN0Y1     ROBERTA MACHADO/ROBERTA MACHADO/EDITH PEREIRA ...\n",
      "SP00-0220                           MARIANA PEREIRA DOS ANJOS\n",
      "\n",
      "[174 rows x 1 columns]\n",
      "                                                   Canal\n",
      "Material                                                \n",
      "20AL48470G                                VENDA INDIRETA\n",
      "25SA20150                                   VENDA DIRETA\n",
      "40AA77660                                   VENDA DIRETA\n",
      "4658015106                                VENDA INDIRETA\n",
      "55FU20140                                   VENDA DIRETA\n",
      "...                                                  ...\n",
      "AC4J668800                                  VENDA DIRETA\n",
      "AC57R70111                                VENDA INDIRETA\n",
      "AC57R70122  VENDA INDIRETA/VENDA INDIRETA/VENDA INDIRETA\n",
      "ACDN0Y1       VENDA INDIRETA/VENDA INDIRETA/VENDA DIRETA\n",
      "SP00-0220                                 VENDA INDIRETA\n",
      "\n",
      "[174 rows x 1 columns]\n"
     ]
    }
   ],
   "source": [
    "tabela_dinamica_pend3 = pd.pivot_table(pendencias, values='Criado por', index='Material', aggfunc=lambda x: '/'.join(x), fill_value='')\n",
    "tabela_dinamica_pend4 = pd.pivot_table(pendencias, values='Canal', index='Material', aggfunc=lambda x: '/'.join(str(v) for v in x), fill_value='')\n",
    "\n",
    "print(tabela_dinamica_pend3)\n",
    "print(tabela_dinamica_pend4)"
   ]
  },
  {
   "cell_type": "code",
   "execution_count": 10,
   "metadata": {
    "colab": {
     "base_uri": "https://localhost:8080/"
    },
    "id": "Ci8wemth6STh",
    "outputId": "7ff9823c-41db-4015-9075-0858a2011a34"
   },
   "outputs": [
    {
     "name": "stdout",
     "output_type": "stream",
     "text": [
      "            CE05_zva70  CE07_zva70  CE11_zva70  CE13_zva70  \\\n",
      "Material                                                     \n",
      "20AL48470G           0           0           1           0   \n",
      "25SA20150            0           0           1           0   \n",
      "40AA77660            0           0           4           0   \n",
      "4658015106           0           0           3           0   \n",
      "55FU20140            0           0           1           0   \n",
      "...                ...         ...         ...         ...   \n",
      "AC4J668800           0           0           2           0   \n",
      "AC57R70111           0           0           4           0   \n",
      "AC57R70122           0           0           1           9   \n",
      "ACDN0Y1              0           0          21           0   \n",
      "SP00-0220            0           0           2           0   \n",
      "\n",
      "                                 Denominação  \\\n",
      "Material                                       \n",
      "20AL48470G                             BOTÃO   \n",
      "25SA20150            COLAR DE POSICIONAMENTO   \n",
      "40AA77660             ENGRENAGEM F 28 DENTES   \n",
      "4658015106                  CONJUNTO DO ROLO   \n",
      "55FU20140                    MOLA DE FIXAÇÃO   \n",
      "...                                      ...   \n",
      "AC4J668800             Protection  Sheet  /6   \n",
      "AC57R70111                  UNIDADE DE CARGA   \n",
      "AC57R70122                  UNIDADE DE CARGA   \n",
      "ACDN0Y1     FRASCO COLETOR DE TONER RESIDUAL   \n",
      "SP00-0220                TERMOSTATO INFERIOR   \n",
      "\n",
      "                                                   Criado por  \\\n",
      "Material                                                        \n",
      "20AL48470G                                    ROBERTA MACHADO   \n",
      "25SA20150                           RODRIGO PEREIRA DOS ANJOS   \n",
      "40AA77660                    REGILENE DE CASSIA LUIZ OLIVEIRA   \n",
      "4658015106                                    ROBERTA MACHADO   \n",
      "55FU20140                           RODRIGO PEREIRA DOS ANJOS   \n",
      "...                                                       ...   \n",
      "AC4J668800                              JESSIE OLIVEIRA SILVA   \n",
      "AC57R70111                                    ROBERTA MACHADO   \n",
      "AC57R70122  PATRICIA ALVES PELAKOSKI/PATRICIA ALVES PELAKO...   \n",
      "ACDN0Y1     ROBERTA MACHADO/ROBERTA MACHADO/EDITH PEREIRA ...   \n",
      "SP00-0220                           MARIANA PEREIRA DOS ANJOS   \n",
      "\n",
      "                                                   Canal  \n",
      "Material                                                  \n",
      "20AL48470G                                VENDA INDIRETA  \n",
      "25SA20150                                   VENDA DIRETA  \n",
      "40AA77660                                   VENDA DIRETA  \n",
      "4658015106                                VENDA INDIRETA  \n",
      "55FU20140                                   VENDA DIRETA  \n",
      "...                                                  ...  \n",
      "AC4J668800                                  VENDA DIRETA  \n",
      "AC57R70111                                VENDA INDIRETA  \n",
      "AC57R70122  VENDA INDIRETA/VENDA INDIRETA/VENDA INDIRETA  \n",
      "ACDN0Y1       VENDA INDIRETA/VENDA INDIRETA/VENDA DIRETA  \n",
      "SP00-0220                                 VENDA INDIRETA  \n",
      "\n",
      "[174 rows x 7 columns]\n"
     ]
    }
   ],
   "source": [
    "# Realizar left join entre as tabelas usando a coluna \"Material\" como chave\n",
    "merged_table_pend = tabela_dinamica_pend.merge(tabela_dinamica_pend2, how='left', left_index=True, right_index=True)\n",
    "merged_table_pend2 = merged_table_pend.merge(tabela_dinamica_pend3, how='left', left_index=True, right_index=True)\n",
    "_table_pend = merged_table_pend2.merge(tabela_dinamica_pend4, how='left', left_index=True, right_index=True)\n",
    "# Preencher valores nulos com zero\n",
    "_table_pend = _table_pend.fillna(0)\n",
    "\n",
    "print(_table_pend)"
   ]
  },
  {
   "cell_type": "markdown",
   "metadata": {
    "id": "O1WlUUCLlErb"
   },
   "source": [
    "## Pendencia geral"
   ]
  },
  {
   "cell_type": "code",
   "execution_count": 11,
   "metadata": {
    "id": "YoDWXIOQneYO"
   },
   "outputs": [],
   "source": [
    "pendencias_geral = pd.read_excel(caminho_pend_geral)"
   ]
  },
  {
   "cell_type": "code",
   "execution_count": 12,
   "metadata": {
    "colab": {
     "base_uri": "https://localhost:8080/"
    },
    "id": "bpySQbrYXNmV",
    "outputId": "f456d55d-360c-4e47-ac6b-622359dca4ef"
   },
   "outputs": [
    {
     "data": {
      "text/plain": [
       "<bound method NDFrame.head of                                   Nome 1  Cliente  Doc.vendas  Criado em  \\\n",
       "0        3EX COM DE PROD. INFORM.LTDA ME     3117    50204709 2024-12-26   \n",
       "1      AG PRINT COM E SERV GRAFICOS LTDA    11059    50203724 2024-12-09   \n",
       "2                AM FOTOGRAFIAS LTDA EPP     4994    50199631 2024-10-01   \n",
       "3     BETA GRAPHICS COM E SERV GRAF LTDA     9552    50202470 2024-11-19   \n",
       "4     BETA GRAPHICS COM E SERV GRAF LTDA     9552    50202470 2024-11-19   \n",
       "..                                   ...      ...         ...        ...   \n",
       "116           WBL GRAFICA E EDITORA LTDA    10113    50203177 2024-12-02   \n",
       "117           WBL GRAFICA E EDITORA LTDA    10113    50203634 2024-12-09   \n",
       "118           WBL GRAFICA E EDITORA LTDA    10113    50204190 2024-12-16   \n",
       "119           WBL GRAFICA E EDITORA LTDA    10113    50204190 2024-12-16   \n",
       "120  ZAMBA INDUSTRIA E COM DE BRINDES LT    10321    50203861 2024-12-10   \n",
       "\n",
       "     Item    Material               Denominação Tipo material Centro  \\\n",
       "0      10   65AA80112                     MOTOR          PCPS   CE11   \n",
       "1      10  A50U510100         BLOCO DE VOLTAGEM          PCPS   CE11   \n",
       "2     140  A5AWR71R11                      ROLO          PCPS   CE11   \n",
       "3      10  AC0CR76200                      ROLO          PCPS   CE11   \n",
       "4      20  A92WR71M00       SUPORTE DE MONTAGEM          PCPS   CE11   \n",
       "..    ...         ...                       ...           ...    ...   \n",
       "116    10  AC0CR76200                      ROLO          PCPS   CE11   \n",
       "117   210  A5AW720301            MANTA DA FUSÃO          PCPS   CE11   \n",
       "118    10  AC0CR76200                      ROLO          PCPS   CE11   \n",
       "119    50  A92WR71M00       SUPORTE DE MONTAGEM          PCPS   CE11   \n",
       "120    10  A50U212600  ROLAMENTO DE ESFERAS /15          PCPS   CE13   \n",
       "\n",
       "     Quantidade da ordem  Qtd.confirm.acumul.  Qtd.pendente Unidade venda  \\\n",
       "0                      1                    0             1            PÇ   \n",
       "1                      3                    0             3            PÇ   \n",
       "2                      1                    0             1            PÇ   \n",
       "3                      8                    0             8            PÇ   \n",
       "4                      8                    0             8            PÇ   \n",
       "..                   ...                  ...           ...           ...   \n",
       "116                    8                    0             8            PÇ   \n",
       "117                    1                    0             1            PÇ   \n",
       "118                    8                    0             8            PÇ   \n",
       "119                    8                    0             8            PÇ   \n",
       "120                    1                    0             1            PÇ   \n",
       "\n",
       "    Data de remessa                        Criado por           Canal  \\\n",
       "0        2025-03-26    JOÃO PAULO CLEMENTE DOS SANTOS  VENDA INDIRETA   \n",
       "1        2025-03-09         RODRIGO PEREIRA DOS ANJOS    VENDA DIRETA   \n",
       "2        2024-12-30                 ITALO LIMA NOVAES    VENDA DIRETA   \n",
       "3        2025-02-17             JESSIE OLIVEIRA SILVA    VENDA DIRETA   \n",
       "4        2025-02-17             JESSIE OLIVEIRA SILVA    VENDA DIRETA   \n",
       "..              ...                               ...             ...   \n",
       "116      2025-03-02       JULIA MARIA MORETO DA SILVA    VENDA DIRETA   \n",
       "117      2025-03-09  REGILENE DE CASSIA LUIZ OLIVEIRA    VENDA DIRETA   \n",
       "118      2025-03-03  REGILENE DE CASSIA LUIZ OLIVEIRA    VENDA DIRETA   \n",
       "119      2025-03-03  REGILENE DE CASSIA LUIZ OLIVEIRA    VENDA DIRETA   \n",
       "120      2025-02-20  REGILENE DE CASSIA LUIZ OLIVEIRA    VENDA DIRETA   \n",
       "\n",
       "    Classificação  \n",
       "0      VI_REVENDA  \n",
       "1       VD_CLI_SP  \n",
       "2       VD_CLI_SP  \n",
       "3       VD_CLI_SP  \n",
       "4       VD_CLI_SP  \n",
       "..            ...  \n",
       "116     VD_CLI_SP  \n",
       "117     VD_CLI_SP  \n",
       "118     VD_CLI_SP  \n",
       "119     VD_CLI_SP  \n",
       "120     VD_CLI_SP  \n",
       "\n",
       "[121 rows x 17 columns]>"
      ]
     },
     "execution_count": 12,
     "metadata": {},
     "output_type": "execute_result"
    }
   ],
   "source": [
    "pendencias_geral.head"
   ]
  },
  {
   "cell_type": "code",
   "execution_count": 13,
   "metadata": {
    "colab": {
     "base_uri": "https://localhost:8080/"
    },
    "id": "tUlLUsv_nt9O",
    "outputId": "ba253d33-cd8f-49c5-d91d-89298c47b9e6"
   },
   "outputs": [
    {
     "data": {
      "text/plain": [
       "Index(['Nome 1', 'Cliente', 'Doc.vendas', 'Criado em', 'Item', 'Material',\n",
       "       'Denominação', 'Tipo material', 'Centro', 'Quantidade da ordem',\n",
       "       'Qtd.confirm.acumul.', 'Qtd.pendente', 'Unidade venda',\n",
       "       'Data de remessa', 'Criado por', 'Canal', 'Classificação'],\n",
       "      dtype='object')"
      ]
     },
     "execution_count": 13,
     "metadata": {},
     "output_type": "execute_result"
    }
   ],
   "source": [
    "pendencias_geral.columns"
   ]
  },
  {
   "cell_type": "code",
   "execution_count": 14,
   "metadata": {
    "colab": {
     "base_uri": "https://localhost:8080/"
    },
    "id": "RhCXEkBkn-IH",
    "outputId": "f71c9638-eee3-4d8f-a585-c958c53df495"
   },
   "outputs": [
    {
     "name": "stdout",
     "output_type": "stream",
     "text": [
      "            Pendências Gerais\n",
      "Material                     \n",
      "40AA77660                   1\n",
      "56AA77940                   2\n",
      "65AA22290                   1\n",
      "65AA26950D                  1\n",
      "65AA27180                   9\n",
      "65AA80112                   2\n",
      "A00J563600                 12\n",
      "A143PP5200                  1\n",
      "A161R71433                  2\n",
      "A1RF105900                  2\n",
      "A1RF362400                  2\n",
      "A1RF404500                  2\n",
      "A1RF435201                  1\n",
      "A1RF508900                  8\n",
      "A1RF890201                  2\n",
      "A50U212600                  2\n",
      "A50U510100                 13\n",
      "A50U765000                  1\n",
      "A50UR70115                  2\n",
      "A50UR70323                 13\n",
      "A5AW460411                 27\n",
      "A5AW720301                  8\n",
      "A5AW893100                  1\n",
      "A5AWR71400                  1\n",
      "A5AWR71R11                  5\n",
      "A5AWR73011                  1\n",
      "A5C1562200                  3\n",
      "A63PPP1700                  1\n",
      "A797R70211                  1\n",
      "A8AW161000                  1\n",
      "A8JJWY1                     1\n",
      "A92W461100                 57\n",
      "A92WR70744                  1\n",
      "A92WR70C11                  5\n",
      "A92WR71M00                 74\n",
      "A9JTM10200                  8\n",
      "A9U1R90111                  3\n",
      "A9VP536600                  3\n",
      "AA2JR72011                  1\n",
      "AC0C460400                  8\n",
      "AC0C506000                  1\n",
      "AC0C720300                 10\n",
      "AC0C728501                  1\n",
      "AC0C891400                  4\n",
      "AC0CR70700                  1\n",
      "AC0CR76200                102\n",
      "AC57R70111                  3\n",
      "AC57R70122                 26\n",
      "SP00-0220                  21\n"
     ]
    }
   ],
   "source": [
    "\n",
    "tabela_dinamica_pendente = pd.pivot_table(pendencias_geral, values='Qtd.pendente', index='Material', aggfunc='sum', fill_value=0)\n",
    "\n",
    "tabela_dinamica_pendente = tabela_dinamica_pendente.rename(columns={'Qtd.pendente': 'Pendências Gerais'})\n",
    "\n",
    "print(tabela_dinamica_pendente)\n",
    "\n"
   ]
  },
  {
   "cell_type": "markdown",
   "metadata": {
    "id": "1Koc5JwAlIsj"
   },
   "source": [
    "## zstok"
   ]
  },
  {
   "cell_type": "code",
   "execution_count": 15,
   "metadata": {
    "id": "vjBPjqgdp6aB"
   },
   "outputs": [],
   "source": [
    "zstok = pd.read_excel(caminho_zstok)"
   ]
  },
  {
   "cell_type": "code",
   "execution_count": 16,
   "metadata": {
    "colab": {
     "base_uri": "https://localhost:8080/"
    },
    "id": "J9xNs_oIqE63",
    "outputId": "16958948-75a0-46b6-bb08-80f5ffb652f6"
   },
   "outputs": [
    {
     "data": {
      "text/plain": [
       "Index(['Tipo de material', 'Material', 'Descrição', 'UMB', 'Cen.', 'Dep.',\n",
       "       'Pos.dpst.', 'Utiliz.livre', 'Contr.qualid.', 'Transf.dep.',\n",
       "       'Transfer.(centro)', 'Bloqueado', 'Estoque Total', 'Reservado',\n",
       "       'Remessa->Cliente', 'SC', 'Status todos centros', 'SV',\n",
       "       'Status vendas'],\n",
       "      dtype='object')"
      ]
     },
     "execution_count": 16,
     "metadata": {},
     "output_type": "execute_result"
    }
   ],
   "source": [
    "zstok.columns"
   ]
  },
  {
   "cell_type": "code",
   "execution_count": 17,
   "metadata": {
    "colab": {
     "base_uri": "https://localhost:8080/"
    },
    "id": "5oKNJqiQqXW4",
    "outputId": "21a2b91e-4612-448e-e6e9-c1198a880375"
   },
   "outputs": [
    {
     "name": "stdout",
     "output_type": "stream",
     "text": [
      "Cen.        CE01_zstok  CE03_zstok  CE05_zstok  CE07_zstok  CE09_zstok  \\\n",
      "Material                                                                 \n",
      "20AL48470G           0           0           0          12           1   \n",
      "25SA20150            4           0           0           0           1   \n",
      "40AA77660            0           0           0           0           1   \n",
      "4658015106           0           0           0          13           3   \n",
      "55FU20140            0           0           0           3           1   \n",
      "...                ...         ...         ...         ...         ...   \n",
      "AC0CR76200           0           0           0           0           0   \n",
      "AC57R70111           0           0           0           7           6   \n",
      "AC57R70122           0           0           0           0           0   \n",
      "ACDN0Y1              0           0           0          11           2   \n",
      "SP00-0220            0           0           0           5           3   \n",
      "\n",
      "Cen.        CE11_zstok  CE13_zstok  \n",
      "Material                            \n",
      "20AL48470G           2           1  \n",
      "25SA20150           11           0  \n",
      "40AA77660            0           0  \n",
      "4658015106           9           0  \n",
      "55FU20140           14           0  \n",
      "...                ...         ...  \n",
      "AC0CR76200           2          36  \n",
      "AC57R70111           0           0  \n",
      "AC57R70122           1          90  \n",
      "ACDN0Y1             60         120  \n",
      "SP00-0220            0           0  \n",
      "\n",
      "[111 rows x 7 columns]\n"
     ]
    }
   ],
   "source": [
    "tabela_dinamica_zstok = pd.pivot_table(zstok, values='Utiliz.livre', index='Material', columns='Cen.', aggfunc='sum', fill_value=0)\n",
    "\n",
    "tabela_dinamica_zstok = tabela_dinamica_zstok.add_suffix('_zstok')\n",
    "\n",
    "print(tabela_dinamica_zstok)"
   ]
  },
  {
   "cell_type": "code",
   "execution_count": 18,
   "metadata": {
    "colab": {
     "base_uri": "https://localhost:8080/"
    },
    "id": "LZin8zUcqj6R",
    "outputId": "1c9badb8-038a-45a2-c3c7-898bb74e63ae"
   },
   "outputs": [
    {
     "name": "stdout",
     "output_type": "stream",
     "text": [
      "            Contr.qualid.\n",
      "Material                 \n",
      "20AL48470G              7\n",
      "25SA20150              12\n",
      "40AA77660               0\n",
      "4658015106            228\n",
      "55FU20140              23\n",
      "...                   ...\n",
      "AC0CR76200              9\n",
      "AC57R70111              0\n",
      "AC57R70122             10\n",
      "ACDN0Y1               371\n",
      "SP00-0220               1\n",
      "\n",
      "[111 rows x 1 columns]\n"
     ]
    }
   ],
   "source": [
    "tabela_dinamica_zstok_qualidade = pd.pivot_table(zstok, values='Contr.qualid.', index='Material', aggfunc='sum', fill_value=0)\n",
    "\n",
    "# Exibir a tabela dinâmica\n",
    "print(tabela_dinamica_zstok_qualidade)"
   ]
  },
  {
   "cell_type": "markdown",
   "metadata": {
    "id": "oyZA1kH0lKbC"
   },
   "source": [
    "## fup\n"
   ]
  },
  {
   "cell_type": "code",
   "execution_count": 19,
   "metadata": {
    "id": "X97OK4fSq87_"
   },
   "outputs": [],
   "source": [
    "fup = pd.read_excel(caminho_fup)"
   ]
  },
  {
   "cell_type": "code",
   "execution_count": 20,
   "metadata": {
    "colab": {
     "base_uri": "https://localhost:8080/"
    },
    "id": "mAwSMckrrGZ3",
    "outputId": "31a93d06-cb28-4594-b0c7-9d1e8e28aeeb"
   },
   "outputs": [
    {
     "data": {
      "text/plain": [
       "Index(['Nº Sequência do Embarque', 'Nº do Pedido', 'Data Pedido', 'Centro',\n",
       "       'Depósito', 'Pos.Dep.MM', 'Pos.Dep.WM', 'Cod. Fornecedor',\n",
       "       'Nome Fornecedor', 'Item', 'Saldo Pedido', 'UMP', 'UMP.1', 'UMP.2',\n",
       "       'Material', 'Texto Breve', 'Qtde Pedido', 'Vl. Total Pedido', 'Moeda',\n",
       "       'Data de Remessa', 'Data Estatística', 'Sua Referência',\n",
       "       'Nossa Referência', 'Embarque', 'Meio de Transporte', 'Meio Embarque',\n",
       "       'Nº do Conhecimento', 'Data do BL', 'Data de Chegada', 'Declaração',\n",
       "       'Dt.Registro', 'Dt.Desembaraço', 'Qtde. Desembarcada',\n",
       "       'Referência de Fatura', 'Data da Fatura', 'Valor da Fatura',\n",
       "       'Data Prev.Entrada', 'Dt. Recebimento', 'Recebimento', 'Peso Líquido',\n",
       "       'Un', 'Cód.NCM', 'Fabricante', 'Num.conversão', 'Qtd.Ped.UMB',\n",
       "       'TipoMat', 'Data total'],\n",
       "      dtype='object')"
      ]
     },
     "execution_count": 20,
     "metadata": {},
     "output_type": "execute_result"
    }
   ],
   "source": [
    "fup.columns"
   ]
  },
  {
   "cell_type": "code",
   "execution_count": 21,
   "metadata": {
    "colab": {
     "base_uri": "https://localhost:8080/"
    },
    "id": "ZQLPORuFrZqq",
    "outputId": "cb049f34-4631-4599-cc28-d437693cb6f6"
   },
   "outputs": [
    {
     "name": "stdout",
     "output_type": "stream",
     "text": [
      "Data total  2025-01-22  2025-02-05  2025-02-10  2025-02-13  2025-02-27  \\\n",
      "Material                                                                 \n",
      "20AL48470G           0           0           2           0           0   \n",
      "40AA77660            0           0           0           0           0   \n",
      "4658015106           0           2           0           0           0   \n",
      "55VA25140           40          14          10          13           0   \n",
      "56AA77330            0          12          60           0           0   \n",
      "...                ...         ...         ...         ...         ...   \n",
      "AC0CR74322           0           0           0           0           0   \n",
      "AC0CR76200          80          60           0         133           0   \n",
      "AC57R70122          90           2           0           0           0   \n",
      "ACDN0Y1            200         153           0           0           0   \n",
      "SP00-0220            0          13           0           0           0   \n",
      "\n",
      "Data total  2025-03-03  2025-03-07  2025-03-10  2025-03-20  2025-03-21  \\\n",
      "Material                                                                 \n",
      "20AL48470G           0           5           0           0           0   \n",
      "40AA77660            0           0           2           0           0   \n",
      "4658015106           0           0           0           0           0   \n",
      "55VA25140            0          10         145         141           0   \n",
      "56AA77330            0           0           0           0           0   \n",
      "...                ...         ...         ...         ...         ...   \n",
      "AC0CR74322           0           0          17           0           0   \n",
      "AC0CR76200          54          50         191           0           0   \n",
      "AC57R70122           0          90         342           0           0   \n",
      "ACDN0Y1              0         330         220           0           0   \n",
      "SP00-0220            0           0          10           0           0   \n",
      "\n",
      "Data total  2025-03-25  2025-03-28  2025-04-02  2025-04-16  2025-05-19  \n",
      "Material                                                                \n",
      "20AL48470G           0           0           0           0           0  \n",
      "40AA77660            0           0           0           1           0  \n",
      "4658015106           0           0           0           0           0  \n",
      "55VA25140            0           0          16          17          13  \n",
      "56AA77330            0           0           0           0           0  \n",
      "...                ...         ...         ...         ...         ...  \n",
      "AC0CR74322           0          10          10           2           4  \n",
      "AC0CR76200           0           0           0         150         163  \n",
      "AC57R70122           0           0           0         140           0  \n",
      "ACDN0Y1              0           0           0           0           0  \n",
      "SP00-0220            0           0           0           5           0  \n",
      "\n",
      "[86 rows x 15 columns]\n"
     ]
    }
   ],
   "source": [
    "fup_relevantes = fup[['Material', 'Qtde Pedido', 'Data total']].copy()\n",
    "\n",
    "fup_relevantes['Data total'] = pd.to_datetime(fup_relevantes['Data total'], errors='coerce')\n",
    "\n",
    "fup_relevantes['MesAno'] = fup_relevantes['Data total'].dt.strftime('%b/%y')\n",
    "\n",
    "tabela_dinamica_fup = pd.pivot_table(fup_relevantes, values='Qtde Pedido', index='Material', columns='Data total', aggfunc='sum', fill_value=0)\n",
    "\n",
    "print(tabela_dinamica_fup)\n",
    "\n"
   ]
  },
  {
   "cell_type": "code",
   "execution_count": 22,
   "metadata": {
    "colab": {
     "base_uri": "https://localhost:8080/"
    },
    "id": "IhIEyqhitIuj",
    "outputId": "2d90990f-ae67-44d7-c3c2-1227883fe931"
   },
   "outputs": [
    {
     "name": "stdout",
     "output_type": "stream",
     "text": [
      "Index(['20AL48470G', '40AA77660', '4658015106', '55VA25140', '56AA77330',\n",
      "       '56AA77940', '56UA12570', '56UA25090', '56UA75050', '56UA77700',\n",
      "       '65AA22290', '65AA27180', '65AA80112', 'A03X565611', 'A0G6345600',\n",
      "       'A0G6470800', 'A0G6535000', 'A1DU504203', 'A1DUR71C11', 'A1RF105900',\n",
      "       'A1RF404500', 'A1RF435201', 'A1RF500400', 'A1RF504403', 'A1RF508900',\n",
      "       'A1RF808900', 'A1RFR70500', 'A21ER70200', 'A4EUR70900', 'A4EUR70V00',\n",
      "       'A4EUR71100', 'A4EUR71200', 'A50U212600', 'A50U510100', 'A50UR70115',\n",
      "       'A50UR70323', 'A50UR70666', 'A50UR70F00', 'A50UR72U11', 'A5AW460411',\n",
      "       'A5AW500400', 'A5AW501200', 'A5AW720200', 'A5AW720301', 'A5AW745000',\n",
      "       'A5AW864800', 'A5AW893100', 'A5AWR70A44', 'A5AWR70M11', 'A5AWR70P22',\n",
      "       'A5AWR71400', 'A5AWR71R11', 'A5AWR72500', 'A5AWR73011', 'A5AWR73111',\n",
      "       'A5AWR73500', 'A5C1562200', 'A85CM55600', 'A8AW161000', 'A8JJWY1',\n",
      "       'A92W461100', 'A92WR70311', 'A92WR70744', 'A92WR70C11', 'A92WR71M00',\n",
      "       'A9JTM10200', 'A9JTR71500', 'A9JXR70111', 'A9VE500200', 'A9VP529100',\n",
      "       'A9VP536600', 'A9VPM50200', 'AA2J560000', 'AA2JR72011', 'AC0C460400',\n",
      "       'AC0C506000', 'AC0C720300', 'AC0C728501', 'AC0C891400', 'AC0CR70700',\n",
      "       'AC0CR74211', 'AC0CR74322', 'AC0CR76200', 'AC57R70122', 'ACDN0Y1',\n",
      "       'SP00-0220'],\n",
      "      dtype='object', name='Material')\n"
     ]
    }
   ],
   "source": [
    "coluna_material = tabela_dinamica_fup.index\n",
    "print(coluna_material)\n"
   ]
  },
  {
   "cell_type": "markdown",
   "metadata": {
    "id": "yDYT1LOElM9z"
   },
   "source": [
    "\n",
    "\n",
    "> Bloco com recuo\n",
    "\n"
   ]
  },
  {
   "cell_type": "markdown",
   "metadata": {
    "id": "0XgTbAT2JGgy"
   },
   "source": [
    "## ZTMM069"
   ]
  },
  {
   "cell_type": "code",
   "execution_count": 23,
   "metadata": {
    "id": "8Z_5A-snLYfW"
   },
   "outputs": [],
   "source": [
    "fob = pd.read_excel(caminho_fob)"
   ]
  },
  {
   "cell_type": "code",
   "execution_count": 24,
   "metadata": {
    "colab": {
     "base_uri": "https://localhost:8080/"
    },
    "id": "H_qd-HWALkIh",
    "outputId": "516748d8-db9e-4597-9c78-d8324a631428"
   },
   "outputs": [
    {
     "data": {
      "text/plain": [
       "<bound method NDFrame.head of        Material                    Descrição (PT)           Descrição (EN)  \\\n",
       "0    4658015106                  CONJUNTO DO ROLO              Roller Assy   \n",
       "1    20AL48470G                             BOTÃO         JAM RELEASE KNOB   \n",
       "2     25SA20150           COLAR DE POSICIONAMENTO   SPRING POSITION COLLAR   \n",
       "3     40AA77660            ENGRENAGEM F 28 DENTES  TONER SUPPLY GEAR F 28T   \n",
       "4     55FU20140                   MOLA DE FIXAÇÃO        DRUM FIXED SPRING   \n",
       "..          ...                               ...                      ...   \n",
       "168  AC4J668800             PROTECTION  SHEET  /6    Protection  Sheet  /6   \n",
       "169  AC57R70111                  UNIDADE DE CARGA       Charging Pole Unit   \n",
       "170  AC57R70122                  UNIDADE DE CARGA       CHARGING POLE UNIT   \n",
       "171     ACDN0Y1  FRASCO COLETOR DE TONER RESIDUAL       Waste Toner Bottle   \n",
       "172   SP00-0220               TERMOSTATO INFERIOR       Thermostat  /Lower   \n",
       "\n",
       "     Fornecedor    Nome do fornecedor  Montante Unid.  por  Vál.desde  TMat  \\\n",
       "0         30194  MARUBENI CORPORATION      6.71   USD    1 2018-04-11  PCPS   \n",
       "1         30194  MARUBENI CORPORATION      1.38   USD    1 2018-04-11  PCPS   \n",
       "2         30194  MARUBENI CORPORATION      0.33   USD    1 2018-04-20  PCPS   \n",
       "3         30194  MARUBENI CORPORATION      0.41   USD    1 2018-04-11  PCPS   \n",
       "4         30194  MARUBENI CORPORATION      0.41   USD    1 2018-04-20  PCPS   \n",
       "..          ...                   ...       ...   ...  ...        ...   ...   \n",
       "168       30194  MARUBENI CORPORATION      1.18   USD    5 2021-06-28  PCPS   \n",
       "169       30194  MARUBENI CORPORATION     26.49   USD    1 2022-04-26  PCPS   \n",
       "170       30194  MARUBENI CORPORATION     26.49   USD    1 2024-05-20  PCPS   \n",
       "171       30194  MARUBENI CORPORATION     19.81   USD    1 2020-01-30  PCPS   \n",
       "172       30194  MARUBENI CORPORATION      3.68   USD    1 2018-04-11  PCPS   \n",
       "\n",
       "     ... Aplicação Pr  GME            GrMerc.Ext  SM Status  Vál.desde.1  \\\n",
       "0    ...        C454E   MC  Multifuncional Color NaN    NaN          NaN   \n",
       "1    ...        C70HC   PC           PP Colorida NaN    NaN          NaN   \n",
       "2    ...         1250   PP                PP P&B NaN    NaN          NaN   \n",
       "3    ...       C6501P   PC           PP Colorida NaN    NaN          NaN   \n",
       "4    ...         1250   PP                PP P&B NaN    NaN          NaN   \n",
       "..   ...          ...  ...                   ...  ..    ...          ...   \n",
       "168  ...          NaN  NaN                   NaN NaN    NaN          NaN   \n",
       "169  ...          NaN   PC           PP Colorida NaN    NaN          NaN   \n",
       "170  ...          NaN   PC           PP Colorida NaN    NaN          NaN   \n",
       "171  ...          NaN   IC   Impressora Colorida NaN    NaN          NaN   \n",
       "172  ...        C71HC   PC           PP Colorida NaN    NaN          NaN   \n",
       "\n",
       "     Criado em  Criado por   ÚltModif  Modif.por  \n",
       "0   2008-10-02    ALMOXSP1 2024-11-26     CSILVA  \n",
       "1   2011-08-03    FERNANDA 2024-12-17  SSAKAGAWA  \n",
       "2   2006-05-22    ALMOXSP2 2024-01-02    VANESSA  \n",
       "3   2008-01-30    ALMOXSP1 2023-12-28  MYAMAMOTO  \n",
       "4   2006-05-22    ALMOXSP2 2023-07-14    VANESSA  \n",
       "..         ...         ...        ...        ...  \n",
       "168 2021-06-28   SSAKAGAWA 2023-09-26  SSAKAGAWA  \n",
       "169 2022-04-26   SSAKAGAWA 2025-01-10    VANESSA  \n",
       "170 2024-05-20      CSILVA 2024-05-20     CSILVA  \n",
       "171 2020-01-30   SSAKAGAWA 2025-01-06    VANESSA  \n",
       "172 2014-04-09    FERNANDA 2024-01-02    VANESSA  \n",
       "\n",
       "[173 rows x 33 columns]>"
      ]
     },
     "execution_count": 24,
     "metadata": {},
     "output_type": "execute_result"
    }
   ],
   "source": [
    "fob.head"
   ]
  },
  {
   "cell_type": "code",
   "execution_count": 25,
   "metadata": {
    "colab": {
     "base_uri": "https://localhost:8080/"
    },
    "id": "1lTXKItfLyxm",
    "outputId": "959a436b-6a95-4ac4-adfe-af16c5b3e86b"
   },
   "outputs": [
    {
     "data": {
      "text/plain": [
       "Index(['Material', 'Descrição (PT)', 'Descrição (EN)', 'Fornecedor',\n",
       "       'Nome do fornecedor', 'Montante', 'Unid.', 'por', 'Vál.desde', 'TMat',\n",
       "       'Tipo Mat', 'SA', 'Setor de atividade', 'GrpMercads.',\n",
       "       'Grupo de mercadorias', 'BU', 'KMI Business Unit', 'PS',\n",
       "       'KMI Print Size', 'C/B', 'KMI Color/BW', 'Printing Speed',\n",
       "       'KMI Develop Name', 'Aplicação Pr', 'GME', 'GrMerc.Ext', 'SM', 'Status',\n",
       "       'Vál.desde.1', 'Criado em', 'Criado por', 'ÚltModif', 'Modif.por'],\n",
       "      dtype='object')"
      ]
     },
     "execution_count": 25,
     "metadata": {},
     "output_type": "execute_result"
    }
   ],
   "source": [
    "fob.columns"
   ]
  },
  {
   "cell_type": "code",
   "execution_count": 26,
   "metadata": {
    "colab": {
     "base_uri": "https://localhost:8080/"
    },
    "id": "QlnxxjAfL4H3",
    "outputId": "268cac4f-b0bf-4e26-e2d9-4be9cdd9b585"
   },
   "outputs": [
    {
     "name": "stdout",
     "output_type": "stream",
     "text": [
      "            Montante\n",
      "Material            \n",
      "20AL48470G      1.38\n",
      "25SA20150       0.33\n",
      "40AA77660       0.41\n",
      "4658015106      6.71\n",
      "55FU20140       0.41\n",
      "...              ...\n",
      "AC4J668800      1.18\n",
      "AC57R70111     26.49\n",
      "AC57R70122     26.49\n",
      "ACDN0Y1        19.81\n",
      "SP00-0220       3.68\n",
      "\n",
      "[173 rows x 1 columns]\n"
     ]
    }
   ],
   "source": [
    "tabela_dinamica_fob = pd.pivot_table(fob, values='Montante', index='Material', aggfunc='sum', fill_value=0)\n",
    "\n",
    "print(tabela_dinamica_fob)"
   ]
  },
  {
   "cell_type": "markdown",
   "metadata": {
    "id": "NVf1Tr1JJKSB"
   },
   "source": [
    "## ZTMM085\n"
   ]
  },
  {
   "cell_type": "code",
   "execution_count": 27,
   "metadata": {
    "id": "3cxwZD7CMJ1v"
   },
   "outputs": [],
   "source": [
    "pecas = pd.read_excel(caminho_pecas)"
   ]
  },
  {
   "cell_type": "code",
   "execution_count": 28,
   "metadata": {
    "colab": {
     "base_uri": "https://localhost:8080/"
    },
    "id": "rzzl0CqOMUQ1",
    "outputId": "ca909e3f-f61f-42b3-8ed5-42ed6dbe703f"
   },
   "outputs": [
    {
     "data": {
      "text/plain": [
       "<bound method NDFrame.head of                Material                         Descrição Tipo material  \\\n",
       "0    000000004658015106                  CONJUNTO DO ROLO          PCPS   \n",
       "1            20AL48470G                             BOTÃO          PCPS   \n",
       "2             25SA20150           COLAR DE POSICIONAMENTO          PCPS   \n",
       "3             40AA77660            ENGRENAGEM F 28 DENTES          PCPS   \n",
       "4             55FU20140                   MOLA DE FIXAÇÃO          PCPS   \n",
       "..                  ...                               ...           ...   \n",
       "169          AC4J668800             Protection  Sheet  /6          PCPS   \n",
       "170          AC57R70111                  UNIDADE DE CARGA          PCPS   \n",
       "171          AC57R70122                  UNIDADE DE CARGA          PCPS   \n",
       "172             ACDN0Y1  FRASCO COLETOR DE TONER RESIDUAL          PCPS   \n",
       "173           SP00-0220               TERMOSTATO INFERIOR          PCPS   \n",
       "\n",
       "             Txt Tipo material GrpMerc Denom. Grupo Merc.  Stat.centros  \\\n",
       "0    Produto Coml-Peça-SPO/MAO      50              Parts           NaN   \n",
       "1    Produto Coml-Peça-SPO/MAO      50              Parts           NaN   \n",
       "2    Produto Coml-Peça-SPO/MAO      50              Parts           NaN   \n",
       "3    Produto Coml-Peça-SPO/MAO      50              Parts           NaN   \n",
       "4    Produto Coml-Peça-SPO/MAO      50              Parts           NaN   \n",
       "..                         ...     ...                ...           ...   \n",
       "169  Produto Coml-Peça-SPO/MAO      50              Parts           NaN   \n",
       "170  Produto Coml-Peça-SPO/MAO      50              Parts           NaN   \n",
       "171  Produto Coml-Peça-SPO/MAO      50              Parts           NaN   \n",
       "172  Produto Coml-Peça-SPO/MAO      50              Parts           NaN   \n",
       "173  Produto Coml-Peça-SPO/MAO      50              Parts           NaN   \n",
       "\n",
       "     Status p/todos centros  Stat.canais  Status p/todos canais  \\\n",
       "0                       NaN          NaN                    NaN   \n",
       "1                       NaN          NaN                    NaN   \n",
       "2                       NaN          NaN                    NaN   \n",
       "3                       NaN          NaN                    NaN   \n",
       "4                       NaN          NaN                    NaN   \n",
       "..                      ...          ...                    ...   \n",
       "169                     NaN          NaN                    NaN   \n",
       "170                     NaN          NaN                    NaN   \n",
       "171                     NaN          NaN                    NaN   \n",
       "172                     NaN          NaN                    NaN   \n",
       "173                     NaN          NaN                    NaN   \n",
       "\n",
       "                                 Modelos Lista Técnica  \n",
       "0    BIZHUB 287/BIZHUB 367/BIZHUB C221/BIZHUB C221S...  \n",
       "1    ACCURIOLABEL 190/BIZHUB PRESS C71CF/ACCURIOLAB...  \n",
       "2    7075/7085/ACCURIOPRINT 2100/BIZHUB PRESS 1250/...  \n",
       "3    8050/ACCURIOPRESS C6100/BIZHUB PRESS C1085/BIZ...  \n",
       "4    7075/7085/BIZHUB PRESS 1250/BIZHUB PRESS 1250P...  \n",
       "..                                                 ...  \n",
       "169                                             PF-812  \n",
       "170              ACCURIOPRESS C4080/ACCURIOPRINT C4065  \n",
       "171              ACCURIOPRESS C4080/ACCURIOPRINT C4065  \n",
       "172          BIZHUB C3300I/BIZHUB C3350I/BIZHUB C3351I  \n",
       "173  ACCURIOLABEL 190/BIZHUB PRESS C71CF/ACCURIOLAB...  \n",
       "\n",
       "[174 rows x 11 columns]>"
      ]
     },
     "execution_count": 28,
     "metadata": {},
     "output_type": "execute_result"
    }
   ],
   "source": [
    "pecas.head"
   ]
  },
  {
   "cell_type": "code",
   "execution_count": 29,
   "metadata": {
    "colab": {
     "base_uri": "https://localhost:8080/"
    },
    "id": "Jmt1fwl5MX1e",
    "outputId": "8f41556a-8fdd-41ff-dd21-ce5a872001a9"
   },
   "outputs": [
    {
     "data": {
      "text/plain": [
       "Index(['Material', 'Descrição', 'Tipo material', 'Txt Tipo material',\n",
       "       'GrpMerc', 'Denom. Grupo Merc.', 'Stat.centros',\n",
       "       'Status p/todos centros', 'Stat.canais', 'Status p/todos canais',\n",
       "       'Modelos Lista Técnica'],\n",
       "      dtype='object')"
      ]
     },
     "execution_count": 29,
     "metadata": {},
     "output_type": "execute_result"
    }
   ],
   "source": [
    "pecas.columns"
   ]
  },
  {
   "cell_type": "code",
   "execution_count": 30,
   "metadata": {
    "colab": {
     "base_uri": "https://localhost:8080/"
    },
    "id": "dcXHkX_sMaZN",
    "outputId": "71e35be8-b16f-4a58-da73-53aa21222936"
   },
   "outputs": [
    {
     "name": "stdout",
     "output_type": "stream",
     "text": [
      "                                                Modelos Lista Técnica\n",
      "Material                                                             \n",
      "000000004658015106  BIZHUB 287/BIZHUB 367/BIZHUB C221/BIZHUB C221S...\n",
      "20AL48470G          ACCURIOLABEL 190/BIZHUB PRESS C71CF/ACCURIOLAB...\n",
      "25SA20150           7075/7085/ACCURIOPRINT 2100/BIZHUB PRESS 1250/...\n",
      "40AA77660           8050/ACCURIOPRESS C6100/BIZHUB PRESS C1085/BIZ...\n",
      "55FU20140           7075/7085/BIZHUB PRESS 1250/BIZHUB PRESS 1250P...\n",
      "...                                                               ...\n",
      "AC4J668800                                                     PF-812\n",
      "AC57R70111                      ACCURIOPRESS C4080/ACCURIOPRINT C4065\n",
      "AC57R70122                      ACCURIOPRESS C4080/ACCURIOPRINT C4065\n",
      "ACDN0Y1                     BIZHUB C3300I/BIZHUB C3350I/BIZHUB C3351I\n",
      "SP00-0220           ACCURIOLABEL 190/BIZHUB PRESS C71CF/ACCURIOLAB...\n",
      "\n",
      "[174 rows x 1 columns]\n"
     ]
    }
   ],
   "source": [
    "tabela_dinamica_pecas = pd.pivot_table(pecas, values='Modelos Lista Técnica', index='Material', aggfunc='sum', fill_value=0)\n",
    "\n",
    "print(tabela_dinamica_pecas)"
   ]
  },
  {
   "cell_type": "markdown",
   "metadata": {
    "id": "TzPPMAA_jAuT"
   },
   "source": []
  },
  {
   "cell_type": "code",
   "execution_count": null,
   "metadata": {
    "id": "hSdvAHrgi_0y"
   },
   "outputs": [],
   "source": []
  },
  {
   "cell_type": "markdown",
   "metadata": {
    "id": "HBe_enGOjCLL"
   },
   "source": [
    "## codigos atuais"
   ]
  },
  {
   "cell_type": "code",
   "execution_count": 31,
   "metadata": {
    "id": "gGSI_oJ0jGK-"
   },
   "outputs": [],
   "source": [
    "atuais = pd.read_excel(caminho_atuais)"
   ]
  },
  {
   "cell_type": "code",
   "execution_count": 32,
   "metadata": {
    "colab": {
     "base_uri": "https://localhost:8080/"
    },
    "id": "Xw4mM0Rsk3SY",
    "outputId": "2adbef34-e3dc-4eef-abe3-dbcd59deb424"
   },
   "outputs": [
    {
     "data": {
      "text/html": [
       "<div>\n",
       "<style scoped>\n",
       "    .dataframe tbody tr th:only-of-type {\n",
       "        vertical-align: middle;\n",
       "    }\n",
       "\n",
       "    .dataframe tbody tr th {\n",
       "        vertical-align: top;\n",
       "    }\n",
       "\n",
       "    .dataframe thead th {\n",
       "        text-align: right;\n",
       "    }\n",
       "</style>\n",
       "<table border=\"1\" class=\"dataframe\">\n",
       "  <thead>\n",
       "    <tr style=\"text-align: right;\">\n",
       "      <th></th>\n",
       "      <th>Atual</th>\n",
       "      <th>Material</th>\n",
       "      <th>Similar1</th>\n",
       "      <th>Similar2</th>\n",
       "      <th>Similar3</th>\n",
       "      <th>Similar4</th>\n",
       "      <th>Unnamed: 6</th>\n",
       "      <th>Unnamed: 7</th>\n",
       "      <th>Unnamed: 8</th>\n",
       "      <th>Unnamed: 9</th>\n",
       "      <th>Unnamed: 10</th>\n",
       "      <th>Unnamed: 11</th>\n",
       "    </tr>\n",
       "  </thead>\n",
       "  <tbody>\n",
       "    <tr>\n",
       "      <th>0</th>\n",
       "      <td>20AL48470G</td>\n",
       "      <td>20AL48470G</td>\n",
       "      <td>20AL48470</td>\n",
       "      <td>-</td>\n",
       "      <td>-</td>\n",
       "      <td>-</td>\n",
       "      <td>NaN</td>\n",
       "      <td>Atender pelo CE13</td>\n",
       "      <td>NaN</td>\n",
       "      <td>NaN</td>\n",
       "      <td>NaN</td>\n",
       "      <td>NaN</td>\n",
       "    </tr>\n",
       "    <tr>\n",
       "      <th>1</th>\n",
       "      <td>25SA20150</td>\n",
       "      <td>25SA20150</td>\n",
       "      <td>-</td>\n",
       "      <td>-</td>\n",
       "      <td>-</td>\n",
       "      <td>-</td>\n",
       "      <td>NaN</td>\n",
       "      <td>Atender pelo CE11</td>\n",
       "      <td>NaN</td>\n",
       "      <td>NaN</td>\n",
       "      <td>NaN</td>\n",
       "      <td>NaN</td>\n",
       "    </tr>\n",
       "    <tr>\n",
       "      <th>2</th>\n",
       "      <td>40AA77660</td>\n",
       "      <td>40AA77660</td>\n",
       "      <td>-</td>\n",
       "      <td>-</td>\n",
       "      <td>-</td>\n",
       "      <td>-</td>\n",
       "      <td>NaN</td>\n",
       "      <td>Aguardar IMP</td>\n",
       "      <td>NaN</td>\n",
       "      <td>NaN</td>\n",
       "      <td>NaN</td>\n",
       "      <td>NaN</td>\n",
       "    </tr>\n",
       "    <tr>\n",
       "      <th>3</th>\n",
       "      <td>4658015106</td>\n",
       "      <td>4658015106</td>\n",
       "      <td>-</td>\n",
       "      <td>-</td>\n",
       "      <td>-</td>\n",
       "      <td>-</td>\n",
       "      <td>NaN</td>\n",
       "      <td>Atender pelo CE11</td>\n",
       "      <td>NaN</td>\n",
       "      <td>NaN</td>\n",
       "      <td>NaN</td>\n",
       "      <td>NaN</td>\n",
       "    </tr>\n",
       "    <tr>\n",
       "      <th>4</th>\n",
       "      <td>55FU20140</td>\n",
       "      <td>55FU20140</td>\n",
       "      <td>-</td>\n",
       "      <td>-</td>\n",
       "      <td>-</td>\n",
       "      <td>-</td>\n",
       "      <td>NaN</td>\n",
       "      <td>Atender pelo CE11</td>\n",
       "      <td>NaN</td>\n",
       "      <td>NaN</td>\n",
       "      <td>NaN</td>\n",
       "      <td>NaN</td>\n",
       "    </tr>\n",
       "    <tr>\n",
       "      <th>...</th>\n",
       "      <td>...</td>\n",
       "      <td>...</td>\n",
       "      <td>...</td>\n",
       "      <td>...</td>\n",
       "      <td>...</td>\n",
       "      <td>...</td>\n",
       "      <td>...</td>\n",
       "      <td>...</td>\n",
       "      <td>...</td>\n",
       "      <td>...</td>\n",
       "      <td>...</td>\n",
       "      <td>...</td>\n",
       "    </tr>\n",
       "    <tr>\n",
       "      <th>169</th>\n",
       "      <td>AC4J668800</td>\n",
       "      <td>AC4J668800</td>\n",
       "      <td>-</td>\n",
       "      <td>-</td>\n",
       "      <td>-</td>\n",
       "      <td>-</td>\n",
       "      <td>NaN</td>\n",
       "      <td>2</td>\n",
       "      <td>NaN</td>\n",
       "      <td>NaN</td>\n",
       "      <td>NaN</td>\n",
       "      <td>NaN</td>\n",
       "    </tr>\n",
       "    <tr>\n",
       "      <th>170</th>\n",
       "      <td>AC57R70111</td>\n",
       "      <td>AC57R70111</td>\n",
       "      <td>-</td>\n",
       "      <td>-</td>\n",
       "      <td>-</td>\n",
       "      <td>-</td>\n",
       "      <td>NaN</td>\n",
       "      <td>Atender pelo CE09</td>\n",
       "      <td>NaN</td>\n",
       "      <td>NaN</td>\n",
       "      <td>NaN</td>\n",
       "      <td>NaN</td>\n",
       "    </tr>\n",
       "    <tr>\n",
       "      <th>171</th>\n",
       "      <td>AC57R70122</td>\n",
       "      <td>AC57R70122</td>\n",
       "      <td>AC57R70111</td>\n",
       "      <td>AC57R70100</td>\n",
       "      <td>-</td>\n",
       "      <td>-</td>\n",
       "      <td>NaN</td>\n",
       "      <td>Atender pelo CE13</td>\n",
       "      <td>NaN</td>\n",
       "      <td>NaN</td>\n",
       "      <td>NaN</td>\n",
       "      <td>NaN</td>\n",
       "    </tr>\n",
       "    <tr>\n",
       "      <th>172</th>\n",
       "      <td>ACDN0Y1</td>\n",
       "      <td>ACDN0Y1</td>\n",
       "      <td>ACDNWY1</td>\n",
       "      <td>-</td>\n",
       "      <td>-</td>\n",
       "      <td>-</td>\n",
       "      <td>NaN</td>\n",
       "      <td>Atender pelo CE13</td>\n",
       "      <td>NaN</td>\n",
       "      <td>NaN</td>\n",
       "      <td>NaN</td>\n",
       "      <td>NaN</td>\n",
       "    </tr>\n",
       "    <tr>\n",
       "      <th>173</th>\n",
       "      <td>SP00-0220</td>\n",
       "      <td>SP00-0220</td>\n",
       "      <td>-</td>\n",
       "      <td>-</td>\n",
       "      <td>-</td>\n",
       "      <td>-</td>\n",
       "      <td>NaN</td>\n",
       "      <td>Aguardar IMP</td>\n",
       "      <td>NaN</td>\n",
       "      <td>NaN</td>\n",
       "      <td>NaN</td>\n",
       "      <td>NaN</td>\n",
       "    </tr>\n",
       "  </tbody>\n",
       "</table>\n",
       "<p>174 rows × 12 columns</p>\n",
       "</div>"
      ],
      "text/plain": [
       "          Atual    Material    Similar1    Similar2 Similar3 Similar4  \\\n",
       "0    20AL48470G  20AL48470G   20AL48470           -        -        -   \n",
       "1     25SA20150   25SA20150           -           -        -        -   \n",
       "2     40AA77660   40AA77660           -           -        -        -   \n",
       "3    4658015106  4658015106           -           -        -        -   \n",
       "4     55FU20140   55FU20140           -           -        -        -   \n",
       "..          ...         ...         ...         ...      ...      ...   \n",
       "169  AC4J668800  AC4J668800           -           -        -        -   \n",
       "170  AC57R70111  AC57R70111           -           -        -        -   \n",
       "171  AC57R70122  AC57R70122  AC57R70111  AC57R70100        -        -   \n",
       "172     ACDN0Y1     ACDN0Y1     ACDNWY1           -        -        -   \n",
       "173   SP00-0220   SP00-0220           -           -        -        -   \n",
       "\n",
       "     Unnamed: 6         Unnamed: 7 Unnamed: 8  Unnamed: 9  Unnamed: 10  \\\n",
       "0           NaN  Atender pelo CE13        NaN         NaN          NaN   \n",
       "1           NaN  Atender pelo CE11        NaN         NaN          NaN   \n",
       "2           NaN       Aguardar IMP        NaN         NaN          NaN   \n",
       "3           NaN  Atender pelo CE11        NaN         NaN          NaN   \n",
       "4           NaN  Atender pelo CE11        NaN         NaN          NaN   \n",
       "..          ...                ...        ...         ...          ...   \n",
       "169         NaN                  2        NaN         NaN          NaN   \n",
       "170         NaN  Atender pelo CE09        NaN         NaN          NaN   \n",
       "171         NaN  Atender pelo CE13        NaN         NaN          NaN   \n",
       "172         NaN  Atender pelo CE13        NaN         NaN          NaN   \n",
       "173         NaN       Aguardar IMP        NaN         NaN          NaN   \n",
       "\n",
       "    Unnamed: 11  \n",
       "0           NaN  \n",
       "1           NaN  \n",
       "2           NaN  \n",
       "3           NaN  \n",
       "4           NaN  \n",
       "..          ...  \n",
       "169         NaN  \n",
       "170         NaN  \n",
       "171         NaN  \n",
       "172         NaN  \n",
       "173         NaN  \n",
       "\n",
       "[174 rows x 12 columns]"
      ]
     },
     "execution_count": 32,
     "metadata": {},
     "output_type": "execute_result"
    }
   ],
   "source": [
    "atuais"
   ]
  },
  {
   "cell_type": "code",
   "execution_count": 33,
   "metadata": {
    "colab": {
     "base_uri": "https://localhost:8080/"
    },
    "id": "M93y7tkvlPyx",
    "outputId": "ae148223-39a9-455c-f97d-bae566a23b00"
   },
   "outputs": [
    {
     "data": {
      "text/plain": [
       "Index(['Atual', 'Material', 'Similar1', 'Similar2', 'Similar3', 'Similar4',\n",
       "       'Unnamed: 6', 'Unnamed: 7', 'Unnamed: 8', 'Unnamed: 9', 'Unnamed: 10',\n",
       "       'Unnamed: 11'],\n",
       "      dtype='object')"
      ]
     },
     "execution_count": 33,
     "metadata": {},
     "output_type": "execute_result"
    }
   ],
   "source": [
    "atuais.columns"
   ]
  },
  {
   "cell_type": "code",
   "execution_count": 34,
   "metadata": {
    "colab": {
     "base_uri": "https://localhost:8080/"
    },
    "id": "Ym54xRgBrUo3",
    "outputId": "715a8115-9a14-4b78-e94e-f88a6a011379"
   },
   "outputs": [
    {
     "name": "stdout",
     "output_type": "stream",
     "text": [
      "          Atual    Material    Similar1    Similar2 Similar3 Similar4  \\\n",
      "0    20AL48470G  20AL48470G   20AL48470           -        -        -   \n",
      "2     40AA77660   40AA77660           -           -        -        -   \n",
      "3    4658015106  4658015106           -           -        -        -   \n",
      "5     55VA25140   55VA25140           -           -        -        -   \n",
      "7     56AA77330   56AA77330           -           -        -        -   \n",
      "..          ...         ...         ...         ...      ...      ...   \n",
      "166  AC0CR74322  AC0CR74322  AC0CR74311           -        -        -   \n",
      "167  AC0CR76200  AC0CR76200           -           -        -        -   \n",
      "171  AC57R70122  AC57R70122  AC57R70111  AC57R70100        -        -   \n",
      "172     ACDN0Y1     ACDN0Y1     ACDNWY1           -        -        -   \n",
      "173   SP00-0220   SP00-0220           -           -        -        -   \n",
      "\n",
      "     Unnamed: 6         Unnamed: 7 Unnamed: 8  Unnamed: 9  Unnamed: 10  \\\n",
      "0           NaN  Atender pelo CE13        NaN         NaN          NaN   \n",
      "2           NaN       Aguardar IMP        NaN         NaN          NaN   \n",
      "3           NaN  Atender pelo CE11        NaN         NaN          NaN   \n",
      "5           NaN       Aguardar IMP        NaN         NaN          NaN   \n",
      "7           NaN  Atender pelo CE13        NaN         NaN          NaN   \n",
      "..          ...                ...        ...         ...          ...   \n",
      "166         NaN  Atender pelo CE11        NaN         NaN          NaN   \n",
      "167         NaN  Atender pelo CE13        NaN         NaN          NaN   \n",
      "171         NaN  Atender pelo CE13        NaN         NaN          NaN   \n",
      "172         NaN  Atender pelo CE13        NaN         NaN          NaN   \n",
      "173         NaN       Aguardar IMP        NaN         NaN          NaN   \n",
      "\n",
      "    Unnamed: 11  \n",
      "0           NaN  \n",
      "2           NaN  \n",
      "3           NaN  \n",
      "5           NaN  \n",
      "7           NaN  \n",
      "..          ...  \n",
      "166         NaN  \n",
      "167         NaN  \n",
      "171         NaN  \n",
      "172         NaN  \n",
      "173         NaN  \n",
      "\n",
      "[88 rows x 12 columns]\n"
     ]
    }
   ],
   "source": [
    "resultados_filtrados = atuais[atuais['Atual'].isin(coluna_material)]\n",
    "\n",
    "tabela_resultados = pd.DataFrame(resultados_filtrados)\n",
    "\n",
    "print(tabela_resultados)"
   ]
  },
  {
   "cell_type": "code",
   "execution_count": 35,
   "metadata": {
    "colab": {
     "base_uri": "https://localhost:8080/"
    },
    "id": "RgRZiVAF0gEO",
    "outputId": "b5c38326-6a25-493e-f817-6ae9433cefac"
   },
   "outputs": [
    {
     "name": "stdout",
     "output_type": "stream",
     "text": [
      "              Material    Similar1    Similar2 Similar3 Similar4  Unnamed: 6  \\\n",
      "Atual                                                                          \n",
      "20AL48470G  20AL48470G   20AL48470           -        -        -         NaN   \n",
      "40AA77660    40AA77660           -           -        -        -         NaN   \n",
      "4658015106  4658015106           -           -        -        -         NaN   \n",
      "55VA25140    55VA25140           -           -        -        -         NaN   \n",
      "56AA77330    56AA77330           -           -        -        -         NaN   \n",
      "...                ...         ...         ...      ...      ...         ...   \n",
      "AC0CR74322  AC0CR74322  AC0CR74311           -        -        -         NaN   \n",
      "AC0CR76200  AC0CR76200           -           -        -        -         NaN   \n",
      "AC57R70122  AC57R70122  AC57R70111  AC57R70100        -        -         NaN   \n",
      "ACDN0Y1        ACDN0Y1     ACDNWY1           -        -        -         NaN   \n",
      "SP00-0220    SP00-0220           -           -        -        -         NaN   \n",
      "\n",
      "                   Unnamed: 7 Unnamed: 8  Unnamed: 9  Unnamed: 10 Unnamed: 11  \n",
      "Atual                                                                          \n",
      "20AL48470G  Atender pelo CE13        NaN         NaN          NaN         NaN  \n",
      "40AA77660        Aguardar IMP        NaN         NaN          NaN         NaN  \n",
      "4658015106  Atender pelo CE11        NaN         NaN          NaN         NaN  \n",
      "55VA25140        Aguardar IMP        NaN         NaN          NaN         NaN  \n",
      "56AA77330   Atender pelo CE13        NaN         NaN          NaN         NaN  \n",
      "...                       ...        ...         ...          ...         ...  \n",
      "AC0CR74322  Atender pelo CE11        NaN         NaN          NaN         NaN  \n",
      "AC0CR76200  Atender pelo CE13        NaN         NaN          NaN         NaN  \n",
      "AC57R70122  Atender pelo CE13        NaN         NaN          NaN         NaN  \n",
      "ACDN0Y1     Atender pelo CE13        NaN         NaN          NaN         NaN  \n",
      "SP00-0220        Aguardar IMP        NaN         NaN          NaN         NaN  \n",
      "\n",
      "[88 rows x 11 columns]\n"
     ]
    }
   ],
   "source": [
    "tabela_resultados = tabela_resultados.set_index(tabela_resultados.columns[0])\n",
    "\n",
    "print(tabela_resultados)"
   ]
  },
  {
   "cell_type": "code",
   "execution_count": null,
   "metadata": {
    "id": "cmiqM9VUvbUM"
   },
   "outputs": [],
   "source": []
  },
  {
   "cell_type": "code",
   "execution_count": null,
   "metadata": {
    "id": "RvsAkUNDvbTI"
   },
   "outputs": [],
   "source": []
  },
  {
   "cell_type": "markdown",
   "metadata": {
    "id": "6xRNfQGJyK1v"
   },
   "source": [
    "## Classificação de peças"
   ]
  },
  {
   "cell_type": "code",
   "execution_count": 36,
   "metadata": {
    "id": "pdep8rVnyRQN"
   },
   "outputs": [],
   "source": [
    "classificacao = pd.read_excel(caminho_classificacao, sheet_name='consumable parts')"
   ]
  },
  {
   "cell_type": "code",
   "execution_count": 37,
   "metadata": {
    "colab": {
     "base_uri": "https://localhost:8080/"
    },
    "id": "Omok9dAmy4lN",
    "outputId": "af5895a3-ae25-40f9-81b9-4fce24a99223"
   },
   "outputs": [
    {
     "data": {
      "text/plain": [
       "<bound method NDFrame.head of           Código                                   Aplicação Modelo  \\\n",
       "0     A92WR70100                                              C6100   \n",
       "1     65AAR75600  8050/ C14000/ C6100/ C1085/ C1100/ C8000/ C500...   \n",
       "2     A1RF520400                 C14000/ C6100/ C1085/ C1100/ C8000   \n",
       "3     A1RF531600                                C6100/ C1085/ C1100   \n",
       "4     A1RF532800                 C14000/ C6100/ C1085/ C1100/ C8000   \n",
       "...          ...                                                ...   \n",
       "2104  AC4K701900                                             MB-511   \n",
       "2105  A79A603400                                             MB-511   \n",
       "2106  A0GDR70111                                             PF-712   \n",
       "2107  A11U560000                                              4051i   \n",
       "2108  A5AW728500                         C6100/ C1085/ C1100/EF-104   \n",
       "\n",
       "       Cód.Atual    Similar1    Similar2 Similar3 Similar4 Similar5 Similar6  \\\n",
       "0     A92WR70100           -           -        -        -        -        -   \n",
       "1     65AAR75600   65AA-2930           -        -        -        -        -   \n",
       "2     A1RF520400           -           -        -        -        -        -   \n",
       "3     A1RF531600           -           -        -        -        -        -   \n",
       "4     A1RF532800        4109           -        -        -        -        -   \n",
       "...          ...         ...         ...      ...      ...      ...      ...   \n",
       "2104  AC4K701900           -           -        -        -        -        -   \n",
       "2105  A79A603400           -           -        -        -        -        -   \n",
       "2106  A0GDR70111  A0GDR70100           -        -        -        -        -   \n",
       "2107  A11U560000           -           -        -        -        -        -   \n",
       "2108  A5AW720301  A5AW728500  A5AW720300        -        -        -        -   \n",
       "\n",
       "     Similar7 Similar7.1 Durabilidade                     Unnamed: 12  \n",
       "0           -          -          Sim                   C6100 / C1100  \n",
       "1           -          -          Sim                   C6100 / C1100  \n",
       "2           -          -          Sim                   C6100 / C1100  \n",
       "3           -          -          Sim                   C6100 / C1100  \n",
       "4           -          -          Sim                   C6100 / C1100  \n",
       "...       ...        ...          ...                             ...  \n",
       "2104        -          -          Sim  Acrescentado 12.07.24 - Carlos  \n",
       "2105        -          -          Sim  Acrescentado 12.07.24 - Carlos  \n",
       "2106        -          -          Sim  Acrescentado 12.07.24 - Carlos  \n",
       "2107        -          -          Sim  Acrescentado 12.07.24 - Carlos  \n",
       "2108        -          -          Sim  Acrescentado 15.08.24 - Carlos  \n",
       "\n",
       "[2109 rows x 13 columns]>"
      ]
     },
     "execution_count": 37,
     "metadata": {},
     "output_type": "execute_result"
    }
   ],
   "source": [
    "classificacao.head"
   ]
  },
  {
   "cell_type": "code",
   "execution_count": 38,
   "metadata": {
    "colab": {
     "base_uri": "https://localhost:8080/"
    },
    "id": "8loQBBC8zmTC",
    "outputId": "22e5d1b2-8c42-4449-cebd-2df17c719ca6"
   },
   "outputs": [
    {
     "data": {
      "text/plain": [
       "Index(['Código', 'Aplicação Modelo', 'Cód.Atual', 'Similar1', 'Similar2',\n",
       "       'Similar3', 'Similar4', 'Similar5', 'Similar6', 'Similar7',\n",
       "       'Similar7.1', 'Durabilidade', 'Unnamed: 12'],\n",
       "      dtype='object')"
      ]
     },
     "execution_count": 38,
     "metadata": {},
     "output_type": "execute_result"
    }
   ],
   "source": [
    "classificacao.columns"
   ]
  },
  {
   "cell_type": "code",
   "execution_count": 39,
   "metadata": {
    "colab": {
     "base_uri": "https://localhost:8080/"
    },
    "id": "3DNnf2bLzhg6",
    "outputId": "d6daab57-3e78-4090-ee66-be3ee3d66a11"
   },
   "outputs": [
    {
     "name": "stdout",
     "output_type": "stream",
     "text": [
      "           Durabilidade\n",
      "Código                 \n",
      "4049521             Sim\n",
      "4049522             Sim\n",
      "4049524             Sim\n",
      "454053391           Sim\n",
      "454075040           Sim\n",
      "...                 ...\n",
      "AE1KR70600          Sim\n",
      "SP00-0210           Sim\n",
      "SP00-0220           Sim\n",
      "V218060086          Sim\n",
      "V234301250          Sim\n",
      "\n",
      "[1408 rows x 1 columns]\n"
     ]
    }
   ],
   "source": [
    "tabela_dinamica_classificacao = pd.pivot_table(classificacao, values='Durabilidade', index='Código', aggfunc='first', fill_value=0)\n",
    "\n",
    "print(tabela_dinamica_classificacao)"
   ]
  },
  {
   "cell_type": "markdown",
   "metadata": {
    "id": "bivdLhPFuCnC"
   },
   "source": [
    "## juntando tabelas\n"
   ]
  },
  {
   "cell_type": "markdown",
   "metadata": {
    "id": "ZzgNa0NMw2Oe"
   },
   "source": [
    "juntando pendencias"
   ]
  },
  {
   "cell_type": "code",
   "execution_count": 40,
   "metadata": {
    "colab": {
     "base_uri": "https://localhost:8080/"
    },
    "id": "LI3Bn5znuKzn",
    "outputId": "8c0500c0-9782-485a-edcb-f5593a12b3fb"
   },
   "outputs": [
    {
     "name": "stdout",
     "output_type": "stream",
     "text": [
      "            CE05_zva70  CE07_zva70  CE11_zva70  CE13_zva70  \\\n",
      "Material                                                     \n",
      "20AL48470G           0           0           1           0   \n",
      "25SA20150            0           0           1           0   \n",
      "40AA77660            0           0           4           0   \n",
      "4658015106           0           0           3           0   \n",
      "55FU20140            0           0           1           0   \n",
      "...                ...         ...         ...         ...   \n",
      "AC4J668800           0           0           2           0   \n",
      "AC57R70111           0           0           4           0   \n",
      "AC57R70122           0           0           1           9   \n",
      "ACDN0Y1              0           0          21           0   \n",
      "SP00-0220            0           0           2           0   \n",
      "\n",
      "                                 Denominação  \\\n",
      "Material                                       \n",
      "20AL48470G                             BOTÃO   \n",
      "25SA20150            COLAR DE POSICIONAMENTO   \n",
      "40AA77660             ENGRENAGEM F 28 DENTES   \n",
      "4658015106                  CONJUNTO DO ROLO   \n",
      "55FU20140                    MOLA DE FIXAÇÃO   \n",
      "...                                      ...   \n",
      "AC4J668800             Protection  Sheet  /6   \n",
      "AC57R70111                  UNIDADE DE CARGA   \n",
      "AC57R70122                  UNIDADE DE CARGA   \n",
      "ACDN0Y1     FRASCO COLETOR DE TONER RESIDUAL   \n",
      "SP00-0220                TERMOSTATO INFERIOR   \n",
      "\n",
      "                                                   Criado por  \\\n",
      "Material                                                        \n",
      "20AL48470G                                    ROBERTA MACHADO   \n",
      "25SA20150                           RODRIGO PEREIRA DOS ANJOS   \n",
      "40AA77660                    REGILENE DE CASSIA LUIZ OLIVEIRA   \n",
      "4658015106                                    ROBERTA MACHADO   \n",
      "55FU20140                           RODRIGO PEREIRA DOS ANJOS   \n",
      "...                                                       ...   \n",
      "AC4J668800                              JESSIE OLIVEIRA SILVA   \n",
      "AC57R70111                                    ROBERTA MACHADO   \n",
      "AC57R70122  PATRICIA ALVES PELAKOSKI/PATRICIA ALVES PELAKO...   \n",
      "ACDN0Y1     ROBERTA MACHADO/ROBERTA MACHADO/EDITH PEREIRA ...   \n",
      "SP00-0220                           MARIANA PEREIRA DOS ANJOS   \n",
      "\n",
      "                                                   Canal  Pendências Gerais  \n",
      "Material                                                                     \n",
      "20AL48470G                                VENDA INDIRETA                0.0  \n",
      "25SA20150                                   VENDA DIRETA                0.0  \n",
      "40AA77660                                   VENDA DIRETA                1.0  \n",
      "4658015106                                VENDA INDIRETA                0.0  \n",
      "55FU20140                                   VENDA DIRETA                0.0  \n",
      "...                                                  ...                ...  \n",
      "AC4J668800                                  VENDA DIRETA                0.0  \n",
      "AC57R70111                                VENDA INDIRETA                3.0  \n",
      "AC57R70122  VENDA INDIRETA/VENDA INDIRETA/VENDA INDIRETA               26.0  \n",
      "ACDN0Y1       VENDA INDIRETA/VENDA INDIRETA/VENDA DIRETA                0.0  \n",
      "SP00-0220                                 VENDA INDIRETA               21.0  \n",
      "\n",
      "[174 rows x 8 columns]\n"
     ]
    }
   ],
   "source": [
    "merged_table_pend = _table_pend.merge(tabela_dinamica_pendente, how='left', left_index=True, right_index=True)\n",
    "\n",
    "merged_table_pend = merged_table_pend.fillna(0)\n",
    "\n",
    "print(merged_table_pend)\n"
   ]
  },
  {
   "cell_type": "code",
   "execution_count": 41,
   "metadata": {
    "colab": {
     "base_uri": "https://localhost:8080/"
    },
    "id": "AKf46nHiuxjp",
    "outputId": "acbad665-9081-440d-c6f1-1a35169b9d9f"
   },
   "outputs": [
    {
     "data": {
      "text/plain": [
       "Index(['CE05_zva70', 'CE07_zva70', 'CE11_zva70', 'CE13_zva70', 'Denominação',\n",
       "       'Criado por', 'Canal', 'Pendências Gerais'],\n",
       "      dtype='object')"
      ]
     },
     "execution_count": 41,
     "metadata": {},
     "output_type": "execute_result"
    }
   ],
   "source": [
    "merged_table_pend.columns"
   ]
  },
  {
   "cell_type": "markdown",
   "metadata": {
    "id": "ci51sme8uHd4"
   },
   "source": [
    "juntando zstok"
   ]
  },
  {
   "cell_type": "code",
   "execution_count": 42,
   "metadata": {
    "colab": {
     "base_uri": "https://localhost:8080/"
    },
    "id": "qvyGn4s5w--B",
    "outputId": "3578f1ac-d4df-4aeb-a532-3767bf4f14ed"
   },
   "outputs": [
    {
     "name": "stdout",
     "output_type": "stream",
     "text": [
      "            CE01_zstok  CE03_zstok  CE05_zstok  CE07_zstok  CE09_zstok  \\\n",
      "Material                                                                 \n",
      "20AL48470G           0           0           0          12           1   \n",
      "25SA20150            4           0           0           0           1   \n",
      "40AA77660            0           0           0           0           1   \n",
      "4658015106           0           0           0          13           3   \n",
      "55FU20140            0           0           0           3           1   \n",
      "...                ...         ...         ...         ...         ...   \n",
      "AC0CR76200           0           0           0           0           0   \n",
      "AC57R70111           0           0           0           7           6   \n",
      "AC57R70122           0           0           0           0           0   \n",
      "ACDN0Y1              0           0           0          11           2   \n",
      "SP00-0220            0           0           0           5           3   \n",
      "\n",
      "            CE11_zstok  CE13_zstok  Contr.qualid.  \n",
      "Material                                           \n",
      "20AL48470G           2           1              7  \n",
      "25SA20150           11           0             12  \n",
      "40AA77660            0           0              0  \n",
      "4658015106           9           0            228  \n",
      "55FU20140           14           0             23  \n",
      "...                ...         ...            ...  \n",
      "AC0CR76200           2          36              9  \n",
      "AC57R70111           0           0              0  \n",
      "AC57R70122           1          90             10  \n",
      "ACDN0Y1             60         120            371  \n",
      "SP00-0220            0           0              1  \n",
      "\n",
      "[111 rows x 8 columns]\n"
     ]
    }
   ],
   "source": [
    "merged_table_zstok = tabela_dinamica_zstok.merge(tabela_dinamica_zstok_qualidade, how='left', left_index=True, right_index=True)\n",
    "\n",
    "merged_table_zstok = merged_table_zstok.fillna(0)\n",
    "\n",
    "print(merged_table_zstok)"
   ]
  },
  {
   "cell_type": "markdown",
   "metadata": {
    "id": "LYJYChyyxjqz"
   },
   "source": [
    "juntando pend com zstok"
   ]
  },
  {
   "cell_type": "code",
   "execution_count": 43,
   "metadata": {
    "colab": {
     "base_uri": "https://localhost:8080/"
    },
    "id": "_HdLYaYpxdn_",
    "outputId": "ceb9c759-8a39-47c8-f2b1-6b3de627566e"
   },
   "outputs": [
    {
     "name": "stdout",
     "output_type": "stream",
     "text": [
      "            CE05_zva70  CE07_zva70  CE11_zva70  CE13_zva70  \\\n",
      "Material                                                     \n",
      "20AL48470G           0           0           1           0   \n",
      "25SA20150            0           0           1           0   \n",
      "40AA77660            0           0           4           0   \n",
      "4658015106           0           0           3           0   \n",
      "55FU20140            0           0           1           0   \n",
      "...                ...         ...         ...         ...   \n",
      "AC4J668800           0           0           2           0   \n",
      "AC57R70111           0           0           4           0   \n",
      "AC57R70122           0           0           1           9   \n",
      "ACDN0Y1              0           0          21           0   \n",
      "SP00-0220            0           0           2           0   \n",
      "\n",
      "                                 Denominação  \\\n",
      "Material                                       \n",
      "20AL48470G                             BOTÃO   \n",
      "25SA20150            COLAR DE POSICIONAMENTO   \n",
      "40AA77660             ENGRENAGEM F 28 DENTES   \n",
      "4658015106                  CONJUNTO DO ROLO   \n",
      "55FU20140                    MOLA DE FIXAÇÃO   \n",
      "...                                      ...   \n",
      "AC4J668800             Protection  Sheet  /6   \n",
      "AC57R70111                  UNIDADE DE CARGA   \n",
      "AC57R70122                  UNIDADE DE CARGA   \n",
      "ACDN0Y1     FRASCO COLETOR DE TONER RESIDUAL   \n",
      "SP00-0220                TERMOSTATO INFERIOR   \n",
      "\n",
      "                                                   Criado por  \\\n",
      "Material                                                        \n",
      "20AL48470G                                    ROBERTA MACHADO   \n",
      "25SA20150                           RODRIGO PEREIRA DOS ANJOS   \n",
      "40AA77660                    REGILENE DE CASSIA LUIZ OLIVEIRA   \n",
      "4658015106                                    ROBERTA MACHADO   \n",
      "55FU20140                           RODRIGO PEREIRA DOS ANJOS   \n",
      "...                                                       ...   \n",
      "AC4J668800                              JESSIE OLIVEIRA SILVA   \n",
      "AC57R70111                                    ROBERTA MACHADO   \n",
      "AC57R70122  PATRICIA ALVES PELAKOSKI/PATRICIA ALVES PELAKO...   \n",
      "ACDN0Y1     ROBERTA MACHADO/ROBERTA MACHADO/EDITH PEREIRA ...   \n",
      "SP00-0220                           MARIANA PEREIRA DOS ANJOS   \n",
      "\n",
      "                                                   Canal  Pendências Gerais  \\\n",
      "Material                                                                      \n",
      "20AL48470G                                VENDA INDIRETA                0.0   \n",
      "25SA20150                                   VENDA DIRETA                0.0   \n",
      "40AA77660                                   VENDA DIRETA                1.0   \n",
      "4658015106                                VENDA INDIRETA                0.0   \n",
      "55FU20140                                   VENDA DIRETA                0.0   \n",
      "...                                                  ...                ...   \n",
      "AC4J668800                                  VENDA DIRETA                0.0   \n",
      "AC57R70111                                VENDA INDIRETA                3.0   \n",
      "AC57R70122  VENDA INDIRETA/VENDA INDIRETA/VENDA INDIRETA               26.0   \n",
      "ACDN0Y1       VENDA INDIRETA/VENDA INDIRETA/VENDA DIRETA                0.0   \n",
      "SP00-0220                                 VENDA INDIRETA               21.0   \n",
      "\n",
      "            CE01_zstok  CE03_zstok  CE05_zstok  CE07_zstok  CE09_zstok  \\\n",
      "Material                                                                 \n",
      "20AL48470G         0.0         0.0         0.0        12.0         1.0   \n",
      "25SA20150          4.0         0.0         0.0         0.0         1.0   \n",
      "40AA77660          0.0         0.0         0.0         0.0         1.0   \n",
      "4658015106         0.0         0.0         0.0        13.0         3.0   \n",
      "55FU20140          0.0         0.0         0.0         3.0         1.0   \n",
      "...                ...         ...         ...         ...         ...   \n",
      "AC4J668800         0.0         0.0         0.0         0.0         0.0   \n",
      "AC57R70111         0.0         0.0         0.0         7.0         6.0   \n",
      "AC57R70122         0.0         0.0         0.0         0.0         0.0   \n",
      "ACDN0Y1            0.0         0.0         0.0        11.0         2.0   \n",
      "SP00-0220          0.0         0.0         0.0         5.0         3.0   \n",
      "\n",
      "            CE11_zstok  CE13_zstok  Contr.qualid.  \n",
      "Material                                           \n",
      "20AL48470G         2.0         1.0            7.0  \n",
      "25SA20150         11.0         0.0           12.0  \n",
      "40AA77660          0.0         0.0            0.0  \n",
      "4658015106         9.0         0.0          228.0  \n",
      "55FU20140         14.0         0.0           23.0  \n",
      "...                ...         ...            ...  \n",
      "AC4J668800         0.0         0.0            0.0  \n",
      "AC57R70111         0.0         0.0            0.0  \n",
      "AC57R70122         1.0        90.0           10.0  \n",
      "ACDN0Y1           60.0       120.0          371.0  \n",
      "SP00-0220          0.0         0.0            1.0  \n",
      "\n",
      "[174 rows x 16 columns]\n"
     ]
    }
   ],
   "source": [
    "merged_table_1 = merged_table_pend.merge(merged_table_zstok, how='left', left_index=True, right_index=True)\n",
    "\n",
    "merged_table_1 = merged_table_1.fillna(0)\n",
    "\n",
    "print(merged_table_1)"
   ]
  },
  {
   "cell_type": "code",
   "execution_count": 44,
   "metadata": {
    "colab": {
     "base_uri": "https://localhost:8080/"
    },
    "id": "dL-H6otByU60",
    "outputId": "9601c914-cfb4-4039-d691-51021a8b24eb"
   },
   "outputs": [
    {
     "data": {
      "text/plain": [
       "Index(['CE05_zva70', 'CE07_zva70', 'CE11_zva70', 'CE13_zva70', 'Denominação',\n",
       "       'Criado por', 'Canal', 'Pendências Gerais', 'CE01_zstok', 'CE03_zstok',\n",
       "       'CE05_zstok', 'CE07_zstok', 'CE09_zstok', 'CE11_zstok', 'CE13_zstok',\n",
       "       'Contr.qualid.'],\n",
       "      dtype='object')"
      ]
     },
     "execution_count": 44,
     "metadata": {},
     "output_type": "execute_result"
    }
   ],
   "source": [
    "merged_table_1.columns"
   ]
  },
  {
   "cell_type": "markdown",
   "metadata": {
    "id": "FbEdg9w2ynhX"
   },
   "source": [
    "colocando o fup"
   ]
  },
  {
   "cell_type": "code",
   "execution_count": 45,
   "metadata": {
    "colab": {
     "base_uri": "https://localhost:8080/"
    },
    "id": "yVN9twaBya7z",
    "outputId": "9ae1059c-8407-445a-e6ee-cea5761e44c5"
   },
   "outputs": [
    {
     "name": "stdout",
     "output_type": "stream",
     "text": [
      "            CE05_zva70  CE07_zva70  CE11_zva70  CE13_zva70  \\\n",
      "Material                                                     \n",
      "20AL48470G           0           0           1           0   \n",
      "25SA20150            0           0           1           0   \n",
      "40AA77660            0           0           4           0   \n",
      "4658015106           0           0           3           0   \n",
      "55FU20140            0           0           1           0   \n",
      "...                ...         ...         ...         ...   \n",
      "AC4J668800           0           0           2           0   \n",
      "AC57R70111           0           0           4           0   \n",
      "AC57R70122           0           0           1           9   \n",
      "ACDN0Y1              0           0          21           0   \n",
      "SP00-0220            0           0           2           0   \n",
      "\n",
      "                                 Denominação  \\\n",
      "Material                                       \n",
      "20AL48470G                             BOTÃO   \n",
      "25SA20150            COLAR DE POSICIONAMENTO   \n",
      "40AA77660             ENGRENAGEM F 28 DENTES   \n",
      "4658015106                  CONJUNTO DO ROLO   \n",
      "55FU20140                    MOLA DE FIXAÇÃO   \n",
      "...                                      ...   \n",
      "AC4J668800             Protection  Sheet  /6   \n",
      "AC57R70111                  UNIDADE DE CARGA   \n",
      "AC57R70122                  UNIDADE DE CARGA   \n",
      "ACDN0Y1     FRASCO COLETOR DE TONER RESIDUAL   \n",
      "SP00-0220                TERMOSTATO INFERIOR   \n",
      "\n",
      "                                                   Criado por  \\\n",
      "Material                                                        \n",
      "20AL48470G                                    ROBERTA MACHADO   \n",
      "25SA20150                           RODRIGO PEREIRA DOS ANJOS   \n",
      "40AA77660                    REGILENE DE CASSIA LUIZ OLIVEIRA   \n",
      "4658015106                                    ROBERTA MACHADO   \n",
      "55FU20140                           RODRIGO PEREIRA DOS ANJOS   \n",
      "...                                                       ...   \n",
      "AC4J668800                              JESSIE OLIVEIRA SILVA   \n",
      "AC57R70111                                    ROBERTA MACHADO   \n",
      "AC57R70122  PATRICIA ALVES PELAKOSKI/PATRICIA ALVES PELAKO...   \n",
      "ACDN0Y1     ROBERTA MACHADO/ROBERTA MACHADO/EDITH PEREIRA ...   \n",
      "SP00-0220                           MARIANA PEREIRA DOS ANJOS   \n",
      "\n",
      "                                                   Canal  Pendências Gerais  \\\n",
      "Material                                                                      \n",
      "20AL48470G                                VENDA INDIRETA                0.0   \n",
      "25SA20150                                   VENDA DIRETA                0.0   \n",
      "40AA77660                                   VENDA DIRETA                1.0   \n",
      "4658015106                                VENDA INDIRETA                0.0   \n",
      "55FU20140                                   VENDA DIRETA                0.0   \n",
      "...                                                  ...                ...   \n",
      "AC4J668800                                  VENDA DIRETA                0.0   \n",
      "AC57R70111                                VENDA INDIRETA                3.0   \n",
      "AC57R70122  VENDA INDIRETA/VENDA INDIRETA/VENDA INDIRETA               26.0   \n",
      "ACDN0Y1       VENDA INDIRETA/VENDA INDIRETA/VENDA DIRETA                0.0   \n",
      "SP00-0220                                 VENDA INDIRETA               21.0   \n",
      "\n",
      "            CE01_zstok  CE03_zstok  ...  2025-03-03 00:00:00  \\\n",
      "Material                            ...                        \n",
      "20AL48470G         0.0         0.0  ...                  0.0   \n",
      "25SA20150          4.0         0.0  ...                  0.0   \n",
      "40AA77660          0.0         0.0  ...                  0.0   \n",
      "4658015106         0.0         0.0  ...                  0.0   \n",
      "55FU20140          0.0         0.0  ...                  0.0   \n",
      "...                ...         ...  ...                  ...   \n",
      "AC4J668800         0.0         0.0  ...                  0.0   \n",
      "AC57R70111         0.0         0.0  ...                  0.0   \n",
      "AC57R70122         0.0         0.0  ...                  0.0   \n",
      "ACDN0Y1            0.0         0.0  ...                  0.0   \n",
      "SP00-0220          0.0         0.0  ...                  0.0   \n",
      "\n",
      "            2025-03-07 00:00:00  2025-03-10 00:00:00  2025-03-20 00:00:00  \\\n",
      "Material                                                                    \n",
      "20AL48470G                  5.0                  0.0                  0.0   \n",
      "25SA20150                   0.0                  0.0                  0.0   \n",
      "40AA77660                   0.0                  2.0                  0.0   \n",
      "4658015106                  0.0                  0.0                  0.0   \n",
      "55FU20140                   0.0                  0.0                  0.0   \n",
      "...                         ...                  ...                  ...   \n",
      "AC4J668800                  0.0                  0.0                  0.0   \n",
      "AC57R70111                  0.0                  0.0                  0.0   \n",
      "AC57R70122                 90.0                342.0                  0.0   \n",
      "ACDN0Y1                   330.0                220.0                  0.0   \n",
      "SP00-0220                   0.0                 10.0                  0.0   \n",
      "\n",
      "            2025-03-21 00:00:00  2025-03-25 00:00:00  2025-03-28 00:00:00  \\\n",
      "Material                                                                    \n",
      "20AL48470G                  0.0                  0.0                  0.0   \n",
      "25SA20150                   0.0                  0.0                  0.0   \n",
      "40AA77660                   0.0                  0.0                  0.0   \n",
      "4658015106                  0.0                  0.0                  0.0   \n",
      "55FU20140                   0.0                  0.0                  0.0   \n",
      "...                         ...                  ...                  ...   \n",
      "AC4J668800                  0.0                  0.0                  0.0   \n",
      "AC57R70111                  0.0                  0.0                  0.0   \n",
      "AC57R70122                  0.0                  0.0                  0.0   \n",
      "ACDN0Y1                     0.0                  0.0                  0.0   \n",
      "SP00-0220                   0.0                  0.0                  0.0   \n",
      "\n",
      "            2025-04-02 00:00:00  2025-04-16 00:00:00  2025-05-19 00:00:00  \n",
      "Material                                                                   \n",
      "20AL48470G                  0.0                  0.0                  0.0  \n",
      "25SA20150                   0.0                  0.0                  0.0  \n",
      "40AA77660                   0.0                  1.0                  0.0  \n",
      "4658015106                  0.0                  0.0                  0.0  \n",
      "55FU20140                   0.0                  0.0                  0.0  \n",
      "...                         ...                  ...                  ...  \n",
      "AC4J668800                  0.0                  0.0                  0.0  \n",
      "AC57R70111                  0.0                  0.0                  0.0  \n",
      "AC57R70122                  0.0                140.0                  0.0  \n",
      "ACDN0Y1                     0.0                  0.0                  0.0  \n",
      "SP00-0220                   0.0                  5.0                  0.0  \n",
      "\n",
      "[174 rows x 31 columns]\n"
     ]
    }
   ],
   "source": [
    "merged_table_2 = merged_table_1.merge(tabela_dinamica_fup, how='left', left_index=True, right_index=True)\n",
    "\n",
    "merged_table_2 = merged_table_2.fillna(0)\n",
    "\n",
    "print(merged_table_2)"
   ]
  },
  {
   "cell_type": "code",
   "execution_count": 46,
   "metadata": {
    "colab": {
     "base_uri": "https://localhost:8080/"
    },
    "id": "naqhcdgRyzfi",
    "outputId": "05f69321-4df1-4c7f-90e1-815aa97a0390"
   },
   "outputs": [
    {
     "data": {
      "text/plain": [
       "Index([       'CE05_zva70',        'CE07_zva70',        'CE11_zva70',\n",
       "              'CE13_zva70',       'Denominação',        'Criado por',\n",
       "                   'Canal', 'Pendências Gerais',        'CE01_zstok',\n",
       "              'CE03_zstok',        'CE05_zstok',        'CE07_zstok',\n",
       "              'CE09_zstok',        'CE11_zstok',        'CE13_zstok',\n",
       "           'Contr.qualid.', 2025-01-22 00:00:00, 2025-02-05 00:00:00,\n",
       "       2025-02-10 00:00:00, 2025-02-13 00:00:00, 2025-02-27 00:00:00,\n",
       "       2025-03-03 00:00:00, 2025-03-07 00:00:00, 2025-03-10 00:00:00,\n",
       "       2025-03-20 00:00:00, 2025-03-21 00:00:00, 2025-03-25 00:00:00,\n",
       "       2025-03-28 00:00:00, 2025-04-02 00:00:00, 2025-04-16 00:00:00,\n",
       "       2025-05-19 00:00:00],\n",
       "      dtype='object')"
      ]
     },
     "execution_count": 46,
     "metadata": {},
     "output_type": "execute_result"
    }
   ],
   "source": [
    "merged_table_2.columns"
   ]
  },
  {
   "cell_type": "code",
   "execution_count": 47,
   "metadata": {
    "id": "xV6-3goc1ND_"
   },
   "outputs": [],
   "source": [
    "# Renomear colunas com sufixo \"_x\"\n",
    "#merged_table_2 = merged_table_2.rename(columns=lambda x: x.replace('_x', '_zva70'))\n",
    "\n",
    "# Renomear colunas com sufixo \"_y\"\n",
    "#merged_table_2 = merged_table_2.rename(columns=lambda x: x.replace('_y', '_zstok'))\n"
   ]
  },
  {
   "cell_type": "code",
   "execution_count": 48,
   "metadata": {
    "colab": {
     "base_uri": "https://localhost:8080/"
    },
    "id": "wgPKOqwXMwBn",
    "outputId": "e2b8f186-1d5e-47d1-e988-c86815e0de1b"
   },
   "outputs": [
    {
     "name": "stdout",
     "output_type": "stream",
     "text": [
      "            CE05_zva70  CE07_zva70  CE11_zva70  CE13_zva70  \\\n",
      "Material                                                     \n",
      "20AL48470G           0           0           1           0   \n",
      "25SA20150            0           0           1           0   \n",
      "40AA77660            0           0           4           0   \n",
      "4658015106           0           0           3           0   \n",
      "55FU20140            0           0           1           0   \n",
      "...                ...         ...         ...         ...   \n",
      "AC4J668800           0           0           2           0   \n",
      "AC57R70111           0           0           4           0   \n",
      "AC57R70122           0           0           1           9   \n",
      "ACDN0Y1              0           0          21           0   \n",
      "SP00-0220            0           0           2           0   \n",
      "\n",
      "                                 Denominação  \\\n",
      "Material                                       \n",
      "20AL48470G                             BOTÃO   \n",
      "25SA20150            COLAR DE POSICIONAMENTO   \n",
      "40AA77660             ENGRENAGEM F 28 DENTES   \n",
      "4658015106                  CONJUNTO DO ROLO   \n",
      "55FU20140                    MOLA DE FIXAÇÃO   \n",
      "...                                      ...   \n",
      "AC4J668800             Protection  Sheet  /6   \n",
      "AC57R70111                  UNIDADE DE CARGA   \n",
      "AC57R70122                  UNIDADE DE CARGA   \n",
      "ACDN0Y1     FRASCO COLETOR DE TONER RESIDUAL   \n",
      "SP00-0220                TERMOSTATO INFERIOR   \n",
      "\n",
      "                                                   Criado por  \\\n",
      "Material                                                        \n",
      "20AL48470G                                    ROBERTA MACHADO   \n",
      "25SA20150                           RODRIGO PEREIRA DOS ANJOS   \n",
      "40AA77660                    REGILENE DE CASSIA LUIZ OLIVEIRA   \n",
      "4658015106                                    ROBERTA MACHADO   \n",
      "55FU20140                           RODRIGO PEREIRA DOS ANJOS   \n",
      "...                                                       ...   \n",
      "AC4J668800                              JESSIE OLIVEIRA SILVA   \n",
      "AC57R70111                                    ROBERTA MACHADO   \n",
      "AC57R70122  PATRICIA ALVES PELAKOSKI/PATRICIA ALVES PELAKO...   \n",
      "ACDN0Y1     ROBERTA MACHADO/ROBERTA MACHADO/EDITH PEREIRA ...   \n",
      "SP00-0220                           MARIANA PEREIRA DOS ANJOS   \n",
      "\n",
      "                                                   Canal  Pendências Gerais  \\\n",
      "Material                                                                      \n",
      "20AL48470G                                VENDA INDIRETA                0.0   \n",
      "25SA20150                                   VENDA DIRETA                0.0   \n",
      "40AA77660                                   VENDA DIRETA                1.0   \n",
      "4658015106                                VENDA INDIRETA                0.0   \n",
      "55FU20140                                   VENDA DIRETA                0.0   \n",
      "...                                                  ...                ...   \n",
      "AC4J668800                                  VENDA DIRETA                0.0   \n",
      "AC57R70111                                VENDA INDIRETA                3.0   \n",
      "AC57R70122  VENDA INDIRETA/VENDA INDIRETA/VENDA INDIRETA               26.0   \n",
      "ACDN0Y1       VENDA INDIRETA/VENDA INDIRETA/VENDA DIRETA                0.0   \n",
      "SP00-0220                                 VENDA INDIRETA               21.0   \n",
      "\n",
      "            CE01_zstok  CE03_zstok  ...  2025-03-07 00:00:00  \\\n",
      "Material                            ...                        \n",
      "20AL48470G         0.0         0.0  ...                  5.0   \n",
      "25SA20150          4.0         0.0  ...                  0.0   \n",
      "40AA77660          0.0         0.0  ...                  0.0   \n",
      "4658015106         0.0         0.0  ...                  0.0   \n",
      "55FU20140          0.0         0.0  ...                  0.0   \n",
      "...                ...         ...  ...                  ...   \n",
      "AC4J668800         0.0         0.0  ...                  0.0   \n",
      "AC57R70111         0.0         0.0  ...                  0.0   \n",
      "AC57R70122         0.0         0.0  ...                 90.0   \n",
      "ACDN0Y1            0.0         0.0  ...                330.0   \n",
      "SP00-0220          0.0         0.0  ...                  0.0   \n",
      "\n",
      "            2025-03-10 00:00:00  2025-03-20 00:00:00  2025-03-21 00:00:00  \\\n",
      "Material                                                                    \n",
      "20AL48470G                  0.0                  0.0                  0.0   \n",
      "25SA20150                   0.0                  0.0                  0.0   \n",
      "40AA77660                   2.0                  0.0                  0.0   \n",
      "4658015106                  0.0                  0.0                  0.0   \n",
      "55FU20140                   0.0                  0.0                  0.0   \n",
      "...                         ...                  ...                  ...   \n",
      "AC4J668800                  0.0                  0.0                  0.0   \n",
      "AC57R70111                  0.0                  0.0                  0.0   \n",
      "AC57R70122                342.0                  0.0                  0.0   \n",
      "ACDN0Y1                   220.0                  0.0                  0.0   \n",
      "SP00-0220                  10.0                  0.0                  0.0   \n",
      "\n",
      "            2025-03-25 00:00:00  2025-03-28 00:00:00  2025-04-02 00:00:00  \\\n",
      "Material                                                                    \n",
      "20AL48470G                  0.0                  0.0                  0.0   \n",
      "25SA20150                   0.0                  0.0                  0.0   \n",
      "40AA77660                   0.0                  0.0                  0.0   \n",
      "4658015106                  0.0                  0.0                  0.0   \n",
      "55FU20140                   0.0                  0.0                  0.0   \n",
      "...                         ...                  ...                  ...   \n",
      "AC4J668800                  0.0                  0.0                  0.0   \n",
      "AC57R70111                  0.0                  0.0                  0.0   \n",
      "AC57R70122                  0.0                  0.0                  0.0   \n",
      "ACDN0Y1                     0.0                  0.0                  0.0   \n",
      "SP00-0220                   0.0                  0.0                  0.0   \n",
      "\n",
      "            2025-04-16 00:00:00  2025-05-19 00:00:00  Montante  \n",
      "Material                                                        \n",
      "20AL48470G                  0.0                  0.0      1.38  \n",
      "25SA20150                   0.0                  0.0      0.33  \n",
      "40AA77660                   1.0                  0.0      0.41  \n",
      "4658015106                  0.0                  0.0      6.71  \n",
      "55FU20140                   0.0                  0.0      0.41  \n",
      "...                         ...                  ...       ...  \n",
      "AC4J668800                  0.0                  0.0      1.18  \n",
      "AC57R70111                  0.0                  0.0     26.49  \n",
      "AC57R70122                140.0                  0.0     26.49  \n",
      "ACDN0Y1                     0.0                  0.0     19.81  \n",
      "SP00-0220                   5.0                  0.0      3.68  \n",
      "\n",
      "[174 rows x 32 columns]\n"
     ]
    }
   ],
   "source": [
    "merged_table_3 = merged_table_2.merge(tabela_dinamica_fob, how='left', left_index=True, right_index=True)\n",
    "\n",
    "merged_table_3 = merged_table_3.fillna(0)\n",
    "\n",
    "print(merged_table_3)"
   ]
  },
  {
   "cell_type": "code",
   "execution_count": 49,
   "metadata": {
    "colab": {
     "base_uri": "https://localhost:8080/"
    },
    "id": "qS1JaxmdMvIG",
    "outputId": "5dcd9ada-f328-498f-acf1-fed8241a0cbe"
   },
   "outputs": [
    {
     "name": "stdout",
     "output_type": "stream",
     "text": [
      "            CE05_zva70  CE07_zva70  CE11_zva70  CE13_zva70  \\\n",
      "Material                                                     \n",
      "20AL48470G           0           0           1           0   \n",
      "25SA20150            0           0           1           0   \n",
      "40AA77660            0           0           4           0   \n",
      "4658015106           0           0           3           0   \n",
      "55FU20140            0           0           1           0   \n",
      "...                ...         ...         ...         ...   \n",
      "AC4J668800           0           0           2           0   \n",
      "AC57R70111           0           0           4           0   \n",
      "AC57R70122           0           0           1           9   \n",
      "ACDN0Y1              0           0          21           0   \n",
      "SP00-0220            0           0           2           0   \n",
      "\n",
      "                                 Denominação  \\\n",
      "Material                                       \n",
      "20AL48470G                             BOTÃO   \n",
      "25SA20150            COLAR DE POSICIONAMENTO   \n",
      "40AA77660             ENGRENAGEM F 28 DENTES   \n",
      "4658015106                  CONJUNTO DO ROLO   \n",
      "55FU20140                    MOLA DE FIXAÇÃO   \n",
      "...                                      ...   \n",
      "AC4J668800             Protection  Sheet  /6   \n",
      "AC57R70111                  UNIDADE DE CARGA   \n",
      "AC57R70122                  UNIDADE DE CARGA   \n",
      "ACDN0Y1     FRASCO COLETOR DE TONER RESIDUAL   \n",
      "SP00-0220                TERMOSTATO INFERIOR   \n",
      "\n",
      "                                                   Criado por  \\\n",
      "Material                                                        \n",
      "20AL48470G                                    ROBERTA MACHADO   \n",
      "25SA20150                           RODRIGO PEREIRA DOS ANJOS   \n",
      "40AA77660                    REGILENE DE CASSIA LUIZ OLIVEIRA   \n",
      "4658015106                                    ROBERTA MACHADO   \n",
      "55FU20140                           RODRIGO PEREIRA DOS ANJOS   \n",
      "...                                                       ...   \n",
      "AC4J668800                              JESSIE OLIVEIRA SILVA   \n",
      "AC57R70111                                    ROBERTA MACHADO   \n",
      "AC57R70122  PATRICIA ALVES PELAKOSKI/PATRICIA ALVES PELAKO...   \n",
      "ACDN0Y1     ROBERTA MACHADO/ROBERTA MACHADO/EDITH PEREIRA ...   \n",
      "SP00-0220                           MARIANA PEREIRA DOS ANJOS   \n",
      "\n",
      "                                                   Canal  Pendências Gerais  \\\n",
      "Material                                                                      \n",
      "20AL48470G                                VENDA INDIRETA                0.0   \n",
      "25SA20150                                   VENDA DIRETA                0.0   \n",
      "40AA77660                                   VENDA DIRETA                1.0   \n",
      "4658015106                                VENDA INDIRETA                0.0   \n",
      "55FU20140                                   VENDA DIRETA                0.0   \n",
      "...                                                  ...                ...   \n",
      "AC4J668800                                  VENDA DIRETA                0.0   \n",
      "AC57R70111                                VENDA INDIRETA                3.0   \n",
      "AC57R70122  VENDA INDIRETA/VENDA INDIRETA/VENDA INDIRETA               26.0   \n",
      "ACDN0Y1       VENDA INDIRETA/VENDA INDIRETA/VENDA DIRETA                0.0   \n",
      "SP00-0220                                 VENDA INDIRETA               21.0   \n",
      "\n",
      "            CE01_zstok  CE03_zstok  ...  2025-03-10 00:00:00  \\\n",
      "Material                            ...                        \n",
      "20AL48470G         0.0         0.0  ...                  0.0   \n",
      "25SA20150          4.0         0.0  ...                  0.0   \n",
      "40AA77660          0.0         0.0  ...                  2.0   \n",
      "4658015106         0.0         0.0  ...                  0.0   \n",
      "55FU20140          0.0         0.0  ...                  0.0   \n",
      "...                ...         ...  ...                  ...   \n",
      "AC4J668800         0.0         0.0  ...                  0.0   \n",
      "AC57R70111         0.0         0.0  ...                  0.0   \n",
      "AC57R70122         0.0         0.0  ...                342.0   \n",
      "ACDN0Y1            0.0         0.0  ...                220.0   \n",
      "SP00-0220          0.0         0.0  ...                 10.0   \n",
      "\n",
      "            2025-03-20 00:00:00  2025-03-21 00:00:00  2025-03-25 00:00:00  \\\n",
      "Material                                                                    \n",
      "20AL48470G                  0.0                  0.0                  0.0   \n",
      "25SA20150                   0.0                  0.0                  0.0   \n",
      "40AA77660                   0.0                  0.0                  0.0   \n",
      "4658015106                  0.0                  0.0                  0.0   \n",
      "55FU20140                   0.0                  0.0                  0.0   \n",
      "...                         ...                  ...                  ...   \n",
      "AC4J668800                  0.0                  0.0                  0.0   \n",
      "AC57R70111                  0.0                  0.0                  0.0   \n",
      "AC57R70122                  0.0                  0.0                  0.0   \n",
      "ACDN0Y1                     0.0                  0.0                  0.0   \n",
      "SP00-0220                   0.0                  0.0                  0.0   \n",
      "\n",
      "            2025-03-28 00:00:00  2025-04-02 00:00:00  2025-04-16 00:00:00  \\\n",
      "Material                                                                    \n",
      "20AL48470G                  0.0                  0.0                  0.0   \n",
      "25SA20150                   0.0                  0.0                  0.0   \n",
      "40AA77660                   0.0                  0.0                  1.0   \n",
      "4658015106                  0.0                  0.0                  0.0   \n",
      "55FU20140                   0.0                  0.0                  0.0   \n",
      "...                         ...                  ...                  ...   \n",
      "AC4J668800                  0.0                  0.0                  0.0   \n",
      "AC57R70111                  0.0                  0.0                  0.0   \n",
      "AC57R70122                  0.0                  0.0                140.0   \n",
      "ACDN0Y1                     0.0                  0.0                  0.0   \n",
      "SP00-0220                   0.0                  0.0                  5.0   \n",
      "\n",
      "            2025-05-19 00:00:00  Montante  \\\n",
      "Material                                    \n",
      "20AL48470G                  0.0      1.38   \n",
      "25SA20150                   0.0      0.33   \n",
      "40AA77660                   0.0      0.41   \n",
      "4658015106                  0.0      6.71   \n",
      "55FU20140                   0.0      0.41   \n",
      "...                         ...       ...   \n",
      "AC4J668800                  0.0      1.18   \n",
      "AC57R70111                  0.0     26.49   \n",
      "AC57R70122                  0.0     26.49   \n",
      "ACDN0Y1                     0.0     19.81   \n",
      "SP00-0220                   0.0      3.68   \n",
      "\n",
      "                                        Modelos Lista Técnica  \n",
      "Material                                                       \n",
      "20AL48470G  ACCURIOLABEL 190/BIZHUB PRESS C71CF/ACCURIOLAB...  \n",
      "25SA20150   7075/7085/ACCURIOPRINT 2100/BIZHUB PRESS 1250/...  \n",
      "40AA77660   8050/ACCURIOPRESS C6100/BIZHUB PRESS C1085/BIZ...  \n",
      "4658015106                                                  0  \n",
      "55FU20140   7075/7085/BIZHUB PRESS 1250/BIZHUB PRESS 1250P...  \n",
      "...                                                       ...  \n",
      "AC4J668800                                             PF-812  \n",
      "AC57R70111              ACCURIOPRESS C4080/ACCURIOPRINT C4065  \n",
      "AC57R70122              ACCURIOPRESS C4080/ACCURIOPRINT C4065  \n",
      "ACDN0Y1             BIZHUB C3300I/BIZHUB C3350I/BIZHUB C3351I  \n",
      "SP00-0220   ACCURIOLABEL 190/BIZHUB PRESS C71CF/ACCURIOLAB...  \n",
      "\n",
      "[174 rows x 33 columns]\n"
     ]
    }
   ],
   "source": [
    "merged_table_4 = merged_table_3.merge(tabela_dinamica_pecas, how='left', left_index=True, right_index=True)\n",
    "\n",
    "merged_table_4 = merged_table_4.fillna(0)\n",
    "\n",
    "print(merged_table_4)"
   ]
  },
  {
   "cell_type": "code",
   "execution_count": 50,
   "metadata": {
    "colab": {
     "base_uri": "https://localhost:8080/"
    },
    "id": "HpeYh95LtwU7",
    "outputId": "9016fcc1-e63a-4b71-99a1-e603ecb6eda2"
   },
   "outputs": [
    {
     "name": "stdout",
     "output_type": "stream",
     "text": [
      "            CE05_zva70  CE07_zva70  CE11_zva70  CE13_zva70  \\\n",
      "20AL48470G           0           0           1           0   \n",
      "25SA20150            0           0           1           0   \n",
      "40AA77660            0           0           4           0   \n",
      "4658015106           0           0           3           0   \n",
      "55FU20140            0           0           1           0   \n",
      "...                ...         ...         ...         ...   \n",
      "AC4J668800           0           0           2           0   \n",
      "AC57R70111           0           0           4           0   \n",
      "AC57R70122           0           0           1           9   \n",
      "ACDN0Y1              0           0          21           0   \n",
      "SP00-0220            0           0           2           0   \n",
      "\n",
      "                                 Denominação  \\\n",
      "20AL48470G                             BOTÃO   \n",
      "25SA20150            COLAR DE POSICIONAMENTO   \n",
      "40AA77660             ENGRENAGEM F 28 DENTES   \n",
      "4658015106                  CONJUNTO DO ROLO   \n",
      "55FU20140                    MOLA DE FIXAÇÃO   \n",
      "...                                      ...   \n",
      "AC4J668800             Protection  Sheet  /6   \n",
      "AC57R70111                  UNIDADE DE CARGA   \n",
      "AC57R70122                  UNIDADE DE CARGA   \n",
      "ACDN0Y1     FRASCO COLETOR DE TONER RESIDUAL   \n",
      "SP00-0220                TERMOSTATO INFERIOR   \n",
      "\n",
      "                                                   Criado por  \\\n",
      "20AL48470G                                    ROBERTA MACHADO   \n",
      "25SA20150                           RODRIGO PEREIRA DOS ANJOS   \n",
      "40AA77660                    REGILENE DE CASSIA LUIZ OLIVEIRA   \n",
      "4658015106                                    ROBERTA MACHADO   \n",
      "55FU20140                           RODRIGO PEREIRA DOS ANJOS   \n",
      "...                                                       ...   \n",
      "AC4J668800                              JESSIE OLIVEIRA SILVA   \n",
      "AC57R70111                                    ROBERTA MACHADO   \n",
      "AC57R70122  PATRICIA ALVES PELAKOSKI/PATRICIA ALVES PELAKO...   \n",
      "ACDN0Y1     ROBERTA MACHADO/ROBERTA MACHADO/EDITH PEREIRA ...   \n",
      "SP00-0220                           MARIANA PEREIRA DOS ANJOS   \n",
      "\n",
      "                                                   Canal  Pendências Gerais  \\\n",
      "20AL48470G                                VENDA INDIRETA                0.0   \n",
      "25SA20150                                   VENDA DIRETA                0.0   \n",
      "40AA77660                                   VENDA DIRETA                1.0   \n",
      "4658015106                                VENDA INDIRETA                0.0   \n",
      "55FU20140                                   VENDA DIRETA                0.0   \n",
      "...                                                  ...                ...   \n",
      "AC4J668800                                  VENDA DIRETA                0.0   \n",
      "AC57R70111                                VENDA INDIRETA                3.0   \n",
      "AC57R70122  VENDA INDIRETA/VENDA INDIRETA/VENDA INDIRETA               26.0   \n",
      "ACDN0Y1       VENDA INDIRETA/VENDA INDIRETA/VENDA DIRETA                0.0   \n",
      "SP00-0220                                 VENDA INDIRETA               21.0   \n",
      "\n",
      "            CE01_zstok  CE03_zstok  ...    Similar1    Similar2  Similar3  \\\n",
      "20AL48470G         0.0         0.0  ...   20AL48470           -         -   \n",
      "25SA20150          4.0         0.0  ...           0           0         0   \n",
      "40AA77660          0.0         0.0  ...           -           -         -   \n",
      "4658015106         0.0         0.0  ...           -           -         -   \n",
      "55FU20140          0.0         0.0  ...           0           0         0   \n",
      "...                ...         ...  ...         ...         ...       ...   \n",
      "AC4J668800         0.0         0.0  ...           0           0         0   \n",
      "AC57R70111         0.0         0.0  ...           0           0         0   \n",
      "AC57R70122         0.0         0.0  ...  AC57R70111  AC57R70100         -   \n",
      "ACDN0Y1            0.0         0.0  ...     ACDNWY1           -         -   \n",
      "SP00-0220          0.0         0.0  ...           -           -         -   \n",
      "\n",
      "            Similar4  Unnamed: 6         Unnamed: 7  Unnamed: 8  Unnamed: 9  \\\n",
      "20AL48470G         -         0.0  Atender pelo CE13           0         0.0   \n",
      "25SA20150          0         0.0                  0           0         0.0   \n",
      "40AA77660          -         0.0       Aguardar IMP           0         0.0   \n",
      "4658015106         -         0.0  Atender pelo CE11           0         0.0   \n",
      "55FU20140          0         0.0                  0           0         0.0   \n",
      "...              ...         ...                ...         ...         ...   \n",
      "AC4J668800         0         0.0                  0           0         0.0   \n",
      "AC57R70111         0         0.0                  0           0         0.0   \n",
      "AC57R70122         -         0.0  Atender pelo CE13           0         0.0   \n",
      "ACDN0Y1            -         0.0  Atender pelo CE13           0         0.0   \n",
      "SP00-0220          -         0.0       Aguardar IMP           0         0.0   \n",
      "\n",
      "            Unnamed: 10  Unnamed: 11  \n",
      "20AL48470G          0.0            0  \n",
      "25SA20150           0.0            0  \n",
      "40AA77660           0.0            0  \n",
      "4658015106          0.0            0  \n",
      "55FU20140           0.0            0  \n",
      "...                 ...          ...  \n",
      "AC4J668800          0.0            0  \n",
      "AC57R70111          0.0            0  \n",
      "AC57R70122          0.0            0  \n",
      "ACDN0Y1             0.0            0  \n",
      "SP00-0220           0.0            0  \n",
      "\n",
      "[177 rows x 44 columns]\n"
     ]
    },
    {
     "name": "stderr",
     "output_type": "stream",
     "text": [
      "C:\\Users\\fsp_adolpho.salvador\\AppData\\Local\\Temp\\ipykernel_16892\\3118937538.py:3: FutureWarning: Downcasting object dtype arrays on .fillna, .ffill, .bfill is deprecated and will change in a future version. Call result.infer_objects(copy=False) instead. To opt-in to the future behavior, set `pd.set_option('future.no_silent_downcasting', True)`\n",
      "  merged_table_5 = merged_table_5.fillna(0)\n"
     ]
    }
   ],
   "source": [
    "merged_table_5 = merged_table_4.merge(tabela_resultados, how='left', left_index=True, right_index=True)\n",
    "\n",
    "merged_table_5 = merged_table_5.fillna(0)\n",
    "\n",
    "print(merged_table_5)"
   ]
  },
  {
   "cell_type": "code",
   "execution_count": 51,
   "metadata": {
    "colab": {
     "base_uri": "https://localhost:8080/"
    },
    "id": "Av3CKwK00NDx",
    "outputId": "e72e9dfa-df0a-4bbe-a347-edaec60d9fd9"
   },
   "outputs": [
    {
     "name": "stdout",
     "output_type": "stream",
     "text": [
      "            CE05_zva70  CE07_zva70  CE11_zva70  CE13_zva70  \\\n",
      "20AL48470G           0           0           1           0   \n",
      "25SA20150            0           0           1           0   \n",
      "40AA77660            0           0           4           0   \n",
      "4658015106           0           0           3           0   \n",
      "55FU20140            0           0           1           0   \n",
      "...                ...         ...         ...         ...   \n",
      "AC4J668800           0           0           2           0   \n",
      "AC57R70111           0           0           4           0   \n",
      "AC57R70122           0           0           1           9   \n",
      "ACDN0Y1              0           0          21           0   \n",
      "SP00-0220            0           0           2           0   \n",
      "\n",
      "                                 Denominação  \\\n",
      "20AL48470G                             BOTÃO   \n",
      "25SA20150            COLAR DE POSICIONAMENTO   \n",
      "40AA77660             ENGRENAGEM F 28 DENTES   \n",
      "4658015106                  CONJUNTO DO ROLO   \n",
      "55FU20140                    MOLA DE FIXAÇÃO   \n",
      "...                                      ...   \n",
      "AC4J668800             Protection  Sheet  /6   \n",
      "AC57R70111                  UNIDADE DE CARGA   \n",
      "AC57R70122                  UNIDADE DE CARGA   \n",
      "ACDN0Y1     FRASCO COLETOR DE TONER RESIDUAL   \n",
      "SP00-0220                TERMOSTATO INFERIOR   \n",
      "\n",
      "                                                   Criado por  \\\n",
      "20AL48470G                                    ROBERTA MACHADO   \n",
      "25SA20150                           RODRIGO PEREIRA DOS ANJOS   \n",
      "40AA77660                    REGILENE DE CASSIA LUIZ OLIVEIRA   \n",
      "4658015106                                    ROBERTA MACHADO   \n",
      "55FU20140                           RODRIGO PEREIRA DOS ANJOS   \n",
      "...                                                       ...   \n",
      "AC4J668800                              JESSIE OLIVEIRA SILVA   \n",
      "AC57R70111                                    ROBERTA MACHADO   \n",
      "AC57R70122  PATRICIA ALVES PELAKOSKI/PATRICIA ALVES PELAKO...   \n",
      "ACDN0Y1     ROBERTA MACHADO/ROBERTA MACHADO/EDITH PEREIRA ...   \n",
      "SP00-0220                           MARIANA PEREIRA DOS ANJOS   \n",
      "\n",
      "                                                   Canal  Pendências Gerais  \\\n",
      "20AL48470G                                VENDA INDIRETA                0.0   \n",
      "25SA20150                                   VENDA DIRETA                0.0   \n",
      "40AA77660                                   VENDA DIRETA                1.0   \n",
      "4658015106                                VENDA INDIRETA                0.0   \n",
      "55FU20140                                   VENDA DIRETA                0.0   \n",
      "...                                                  ...                ...   \n",
      "AC4J668800                                  VENDA DIRETA                0.0   \n",
      "AC57R70111                                VENDA INDIRETA                3.0   \n",
      "AC57R70122  VENDA INDIRETA/VENDA INDIRETA/VENDA INDIRETA               26.0   \n",
      "ACDN0Y1       VENDA INDIRETA/VENDA INDIRETA/VENDA DIRETA                0.0   \n",
      "SP00-0220                                 VENDA INDIRETA               21.0   \n",
      "\n",
      "            CE01_zstok  CE03_zstok  ...    Similar2  Similar3  Similar4  \\\n",
      "20AL48470G         0.0         0.0  ...           -         -         -   \n",
      "25SA20150          4.0         0.0  ...           0         0         0   \n",
      "40AA77660          0.0         0.0  ...           -         -         -   \n",
      "4658015106         0.0         0.0  ...           -         -         -   \n",
      "55FU20140          0.0         0.0  ...           0         0         0   \n",
      "...                ...         ...  ...         ...       ...       ...   \n",
      "AC4J668800         0.0         0.0  ...           0         0         0   \n",
      "AC57R70111         0.0         0.0  ...           0         0         0   \n",
      "AC57R70122         0.0         0.0  ...  AC57R70100         -         -   \n",
      "ACDN0Y1            0.0         0.0  ...           -         -         -   \n",
      "SP00-0220          0.0         0.0  ...           -         -         -   \n",
      "\n",
      "            Unnamed: 6         Unnamed: 7  Unnamed: 8  Unnamed: 9  \\\n",
      "20AL48470G         0.0  Atender pelo CE13           0         0.0   \n",
      "25SA20150          0.0                  0           0         0.0   \n",
      "40AA77660          0.0       Aguardar IMP           0         0.0   \n",
      "4658015106         0.0  Atender pelo CE11           0         0.0   \n",
      "55FU20140          0.0                  0           0         0.0   \n",
      "...                ...                ...         ...         ...   \n",
      "AC4J668800         0.0                  0           0         0.0   \n",
      "AC57R70111         0.0                  0           0         0.0   \n",
      "AC57R70122         0.0  Atender pelo CE13           0         0.0   \n",
      "ACDN0Y1            0.0  Atender pelo CE13           0         0.0   \n",
      "SP00-0220          0.0       Aguardar IMP           0         0.0   \n",
      "\n",
      "            Unnamed: 10  Unnamed: 11  Durabilidade  \n",
      "20AL48470G          0.0            0             0  \n",
      "25SA20150           0.0            0           Sim  \n",
      "40AA77660           0.0            0             0  \n",
      "4658015106          0.0            0             0  \n",
      "55FU20140           0.0            0           Sim  \n",
      "...                 ...          ...           ...  \n",
      "AC4J668800          0.0            0             0  \n",
      "AC57R70111          0.0            0           Sim  \n",
      "AC57R70122          0.0            0             0  \n",
      "ACDN0Y1             0.0            0           Sim  \n",
      "SP00-0220           0.0            0           Sim  \n",
      "\n",
      "[177 rows x 45 columns]\n"
     ]
    }
   ],
   "source": [
    "merged_table_6 = merged_table_5.merge(tabela_dinamica_classificacao, how='left', left_index=True, right_index=True)\n",
    "\n",
    "merged_table_6 = merged_table_6.fillna(0)\n",
    "\n",
    "print(merged_table_6)"
   ]
  },
  {
   "cell_type": "code",
   "execution_count": 52,
   "metadata": {
    "colab": {
     "base_uri": "https://localhost:8080/"
    },
    "id": "aYCsNgDTujli",
    "outputId": "c3515f20-4a27-401d-fa49-4195f3f8cad2"
   },
   "outputs": [
    {
     "data": {
      "text/plain": [
       "Index([           'CE05_zva70',            'CE07_zva70',\n",
       "                  'CE11_zva70',            'CE13_zva70',\n",
       "                 'Denominação',            'Criado por',\n",
       "                       'Canal',     'Pendências Gerais',\n",
       "                  'CE01_zstok',            'CE03_zstok',\n",
       "                  'CE05_zstok',            'CE07_zstok',\n",
       "                  'CE09_zstok',            'CE11_zstok',\n",
       "                  'CE13_zstok',         'Contr.qualid.',\n",
       "           2025-01-22 00:00:00,     2025-02-05 00:00:00,\n",
       "           2025-02-10 00:00:00,     2025-02-13 00:00:00,\n",
       "           2025-02-27 00:00:00,     2025-03-03 00:00:00,\n",
       "           2025-03-07 00:00:00,     2025-03-10 00:00:00,\n",
       "           2025-03-20 00:00:00,     2025-03-21 00:00:00,\n",
       "           2025-03-25 00:00:00,     2025-03-28 00:00:00,\n",
       "           2025-04-02 00:00:00,     2025-04-16 00:00:00,\n",
       "           2025-05-19 00:00:00,              'Montante',\n",
       "       'Modelos Lista Técnica',              'Material',\n",
       "                    'Similar1',              'Similar2',\n",
       "                    'Similar3',              'Similar4',\n",
       "                  'Unnamed: 6',            'Unnamed: 7',\n",
       "                  'Unnamed: 8',            'Unnamed: 9',\n",
       "                 'Unnamed: 10',           'Unnamed: 11',\n",
       "                'Durabilidade'],\n",
       "      dtype='object')"
      ]
     },
     "execution_count": 52,
     "metadata": {},
     "output_type": "execute_result"
    }
   ],
   "source": [
    "merged_table_6.columns"
   ]
  },
  {
   "cell_type": "code",
   "execution_count": 53,
   "metadata": {
    "id": "eCzTViJly1uF"
   },
   "outputs": [],
   "source": [
    "\n",
    "caminho_saida = r'C:\\Users\\fsp_adolpho.salvador\\Desktop\\Konica Minolta\\Desktop Cloud - Documentos\\Desktop\\Py\\Pendencias\\Mapa.xlsx'\n",
    "\n",
    "merged_table_6.to_excel(caminho_saida, index=True)\n"
   ]
  },
  {
   "cell_type": "code",
   "execution_count": 54,
   "metadata": {
    "colab": {
     "base_uri": "https://localhost:8080/",
     "height": 187
    },
    "id": "e86m_xIZzbH3",
    "outputId": "df79a1f3-3b9e-48f8-f40c-3e096f901b4e"
   },
   "outputs": [
    {
     "data": {
      "text/plain": [
       "<bound method NDFrame.head of             CE05_zva70  CE07_zva70  CE11_zva70  CE13_zva70  \\\n",
       "20AL48470G           0           0           1           0   \n",
       "25SA20150            0           0           1           0   \n",
       "40AA77660            0           0           4           0   \n",
       "4658015106           0           0           3           0   \n",
       "55FU20140            0           0           1           0   \n",
       "...                ...         ...         ...         ...   \n",
       "AC4J668800           0           0           2           0   \n",
       "AC57R70111           0           0           4           0   \n",
       "AC57R70122           0           0           1           9   \n",
       "ACDN0Y1              0           0          21           0   \n",
       "SP00-0220            0           0           2           0   \n",
       "\n",
       "                                 Denominação  \\\n",
       "20AL48470G                             BOTÃO   \n",
       "25SA20150            COLAR DE POSICIONAMENTO   \n",
       "40AA77660             ENGRENAGEM F 28 DENTES   \n",
       "4658015106                  CONJUNTO DO ROLO   \n",
       "55FU20140                    MOLA DE FIXAÇÃO   \n",
       "...                                      ...   \n",
       "AC4J668800             Protection  Sheet  /6   \n",
       "AC57R70111                  UNIDADE DE CARGA   \n",
       "AC57R70122                  UNIDADE DE CARGA   \n",
       "ACDN0Y1     FRASCO COLETOR DE TONER RESIDUAL   \n",
       "SP00-0220                TERMOSTATO INFERIOR   \n",
       "\n",
       "                                                   Criado por  \\\n",
       "20AL48470G                                    ROBERTA MACHADO   \n",
       "25SA20150                           RODRIGO PEREIRA DOS ANJOS   \n",
       "40AA77660                    REGILENE DE CASSIA LUIZ OLIVEIRA   \n",
       "4658015106                                    ROBERTA MACHADO   \n",
       "55FU20140                           RODRIGO PEREIRA DOS ANJOS   \n",
       "...                                                       ...   \n",
       "AC4J668800                              JESSIE OLIVEIRA SILVA   \n",
       "AC57R70111                                    ROBERTA MACHADO   \n",
       "AC57R70122  PATRICIA ALVES PELAKOSKI/PATRICIA ALVES PELAKO...   \n",
       "ACDN0Y1     ROBERTA MACHADO/ROBERTA MACHADO/EDITH PEREIRA ...   \n",
       "SP00-0220                           MARIANA PEREIRA DOS ANJOS   \n",
       "\n",
       "                                                   Canal  Pendências Gerais  \\\n",
       "20AL48470G                                VENDA INDIRETA                0.0   \n",
       "25SA20150                                   VENDA DIRETA                0.0   \n",
       "40AA77660                                   VENDA DIRETA                1.0   \n",
       "4658015106                                VENDA INDIRETA                0.0   \n",
       "55FU20140                                   VENDA DIRETA                0.0   \n",
       "...                                                  ...                ...   \n",
       "AC4J668800                                  VENDA DIRETA                0.0   \n",
       "AC57R70111                                VENDA INDIRETA                3.0   \n",
       "AC57R70122  VENDA INDIRETA/VENDA INDIRETA/VENDA INDIRETA               26.0   \n",
       "ACDN0Y1       VENDA INDIRETA/VENDA INDIRETA/VENDA DIRETA                0.0   \n",
       "SP00-0220                                 VENDA INDIRETA               21.0   \n",
       "\n",
       "            CE01_zstok  CE03_zstok  ...    Similar2  Similar3  Similar4  \\\n",
       "20AL48470G         0.0         0.0  ...           -         -         -   \n",
       "25SA20150          4.0         0.0  ...           0         0         0   \n",
       "40AA77660          0.0         0.0  ...           -         -         -   \n",
       "4658015106         0.0         0.0  ...           -         -         -   \n",
       "55FU20140          0.0         0.0  ...           0         0         0   \n",
       "...                ...         ...  ...         ...       ...       ...   \n",
       "AC4J668800         0.0         0.0  ...           0         0         0   \n",
       "AC57R70111         0.0         0.0  ...           0         0         0   \n",
       "AC57R70122         0.0         0.0  ...  AC57R70100         -         -   \n",
       "ACDN0Y1            0.0         0.0  ...           -         -         -   \n",
       "SP00-0220          0.0         0.0  ...           -         -         -   \n",
       "\n",
       "            Unnamed: 6         Unnamed: 7  Unnamed: 8  Unnamed: 9  \\\n",
       "20AL48470G         0.0  Atender pelo CE13           0         0.0   \n",
       "25SA20150          0.0                  0           0         0.0   \n",
       "40AA77660          0.0       Aguardar IMP           0         0.0   \n",
       "4658015106         0.0  Atender pelo CE11           0         0.0   \n",
       "55FU20140          0.0                  0           0         0.0   \n",
       "...                ...                ...         ...         ...   \n",
       "AC4J668800         0.0                  0           0         0.0   \n",
       "AC57R70111         0.0                  0           0         0.0   \n",
       "AC57R70122         0.0  Atender pelo CE13           0         0.0   \n",
       "ACDN0Y1            0.0  Atender pelo CE13           0         0.0   \n",
       "SP00-0220          0.0       Aguardar IMP           0         0.0   \n",
       "\n",
       "            Unnamed: 10  Unnamed: 11  Durabilidade  \n",
       "20AL48470G          0.0            0             0  \n",
       "25SA20150           0.0            0           Sim  \n",
       "40AA77660           0.0            0             0  \n",
       "4658015106          0.0            0             0  \n",
       "55FU20140           0.0            0           Sim  \n",
       "...                 ...          ...           ...  \n",
       "AC4J668800          0.0            0             0  \n",
       "AC57R70111          0.0            0           Sim  \n",
       "AC57R70122          0.0            0             0  \n",
       "ACDN0Y1             0.0            0           Sim  \n",
       "SP00-0220           0.0            0           Sim  \n",
       "\n",
       "[177 rows x 45 columns]>"
      ]
     },
     "execution_count": 54,
     "metadata": {},
     "output_type": "execute_result"
    }
   ],
   "source": [
    "merged_table_6.head"
   ]
  },
  {
   "cell_type": "code",
   "execution_count": 55,
   "metadata": {},
   "outputs": [],
   "source": [
    "\n",
    "merged_table_6 = pd.read_excel(r'C:\\Users\\fsp_adolpho.salvador\\Desktop\\Konica Minolta\\Desktop Cloud - Documentos\\Desktop\\Py\\Pendencias\\Mapa.xlsx')\n",
    "ztsd017_data = pd.read_excel(r'C:\\Users\\fsp_adolpho.salvador\\Desktop\\Konica Minolta\\Desktop Cloud - Documentos\\Desktop\\Py\\Pendencias\\Arquivos\\ztsd017.XLSX')"
   ]
  },
  {
   "cell_type": "code",
   "execution_count": 56,
   "metadata": {},
   "outputs": [
    {
     "data": {
      "text/html": [
       "<div>\n",
       "<style scoped>\n",
       "    .dataframe tbody tr th:only-of-type {\n",
       "        vertical-align: middle;\n",
       "    }\n",
       "\n",
       "    .dataframe tbody tr th {\n",
       "        vertical-align: top;\n",
       "    }\n",
       "\n",
       "    .dataframe thead th {\n",
       "        text-align: right;\n",
       "    }\n",
       "</style>\n",
       "<table border=\"1\" class=\"dataframe\">\n",
       "  <thead>\n",
       "    <tr style=\"text-align: right;\">\n",
       "      <th></th>\n",
       "      <th>Unnamed: 0</th>\n",
       "      <th>CE05_zva70</th>\n",
       "      <th>CE07_zva70</th>\n",
       "      <th>CE11_zva70</th>\n",
       "      <th>CE13_zva70</th>\n",
       "      <th>Denominação</th>\n",
       "      <th>Criado por</th>\n",
       "      <th>Canal</th>\n",
       "      <th>Pendências Gerais</th>\n",
       "      <th>CE01_zstok</th>\n",
       "      <th>...</th>\n",
       "      <th>Similar2</th>\n",
       "      <th>Similar3</th>\n",
       "      <th>Similar4</th>\n",
       "      <th>Unnamed: 6</th>\n",
       "      <th>Unnamed: 7</th>\n",
       "      <th>Unnamed: 8</th>\n",
       "      <th>Unnamed: 9</th>\n",
       "      <th>Unnamed: 10</th>\n",
       "      <th>Unnamed: 11</th>\n",
       "      <th>Durabilidade</th>\n",
       "    </tr>\n",
       "  </thead>\n",
       "  <tbody>\n",
       "    <tr>\n",
       "      <th>0</th>\n",
       "      <td>20AL48470G</td>\n",
       "      <td>0</td>\n",
       "      <td>0</td>\n",
       "      <td>1</td>\n",
       "      <td>0</td>\n",
       "      <td>BOTÃO</td>\n",
       "      <td>ROBERTA MACHADO</td>\n",
       "      <td>VENDA INDIRETA</td>\n",
       "      <td>0</td>\n",
       "      <td>0</td>\n",
       "      <td>...</td>\n",
       "      <td>-</td>\n",
       "      <td>-</td>\n",
       "      <td>-</td>\n",
       "      <td>0</td>\n",
       "      <td>Atender pelo CE13</td>\n",
       "      <td>0</td>\n",
       "      <td>0</td>\n",
       "      <td>0</td>\n",
       "      <td>0</td>\n",
       "      <td>0</td>\n",
       "    </tr>\n",
       "    <tr>\n",
       "      <th>1</th>\n",
       "      <td>25SA20150</td>\n",
       "      <td>0</td>\n",
       "      <td>0</td>\n",
       "      <td>1</td>\n",
       "      <td>0</td>\n",
       "      <td>COLAR DE POSICIONAMENTO</td>\n",
       "      <td>RODRIGO PEREIRA DOS ANJOS</td>\n",
       "      <td>VENDA DIRETA</td>\n",
       "      <td>0</td>\n",
       "      <td>4</td>\n",
       "      <td>...</td>\n",
       "      <td>0</td>\n",
       "      <td>0</td>\n",
       "      <td>0</td>\n",
       "      <td>0</td>\n",
       "      <td>0</td>\n",
       "      <td>0</td>\n",
       "      <td>0</td>\n",
       "      <td>0</td>\n",
       "      <td>0</td>\n",
       "      <td>Sim</td>\n",
       "    </tr>\n",
       "    <tr>\n",
       "      <th>2</th>\n",
       "      <td>40AA77660</td>\n",
       "      <td>0</td>\n",
       "      <td>0</td>\n",
       "      <td>4</td>\n",
       "      <td>0</td>\n",
       "      <td>ENGRENAGEM F 28 DENTES</td>\n",
       "      <td>REGILENE DE CASSIA LUIZ OLIVEIRA</td>\n",
       "      <td>VENDA DIRETA</td>\n",
       "      <td>1</td>\n",
       "      <td>0</td>\n",
       "      <td>...</td>\n",
       "      <td>-</td>\n",
       "      <td>-</td>\n",
       "      <td>-</td>\n",
       "      <td>0</td>\n",
       "      <td>Aguardar IMP</td>\n",
       "      <td>0</td>\n",
       "      <td>0</td>\n",
       "      <td>0</td>\n",
       "      <td>0</td>\n",
       "      <td>0</td>\n",
       "    </tr>\n",
       "    <tr>\n",
       "      <th>3</th>\n",
       "      <td>4658015106</td>\n",
       "      <td>0</td>\n",
       "      <td>0</td>\n",
       "      <td>3</td>\n",
       "      <td>0</td>\n",
       "      <td>CONJUNTO DO ROLO</td>\n",
       "      <td>ROBERTA MACHADO</td>\n",
       "      <td>VENDA INDIRETA</td>\n",
       "      <td>0</td>\n",
       "      <td>0</td>\n",
       "      <td>...</td>\n",
       "      <td>-</td>\n",
       "      <td>-</td>\n",
       "      <td>-</td>\n",
       "      <td>0</td>\n",
       "      <td>Atender pelo CE11</td>\n",
       "      <td>0</td>\n",
       "      <td>0</td>\n",
       "      <td>0</td>\n",
       "      <td>0</td>\n",
       "      <td>0</td>\n",
       "    </tr>\n",
       "    <tr>\n",
       "      <th>4</th>\n",
       "      <td>55FU20140</td>\n",
       "      <td>0</td>\n",
       "      <td>0</td>\n",
       "      <td>1</td>\n",
       "      <td>0</td>\n",
       "      <td>MOLA DE FIXAÇÃO</td>\n",
       "      <td>RODRIGO PEREIRA DOS ANJOS</td>\n",
       "      <td>VENDA DIRETA</td>\n",
       "      <td>0</td>\n",
       "      <td>0</td>\n",
       "      <td>...</td>\n",
       "      <td>0</td>\n",
       "      <td>0</td>\n",
       "      <td>0</td>\n",
       "      <td>0</td>\n",
       "      <td>0</td>\n",
       "      <td>0</td>\n",
       "      <td>0</td>\n",
       "      <td>0</td>\n",
       "      <td>0</td>\n",
       "      <td>Sim</td>\n",
       "    </tr>\n",
       "    <tr>\n",
       "      <th>...</th>\n",
       "      <td>...</td>\n",
       "      <td>...</td>\n",
       "      <td>...</td>\n",
       "      <td>...</td>\n",
       "      <td>...</td>\n",
       "      <td>...</td>\n",
       "      <td>...</td>\n",
       "      <td>...</td>\n",
       "      <td>...</td>\n",
       "      <td>...</td>\n",
       "      <td>...</td>\n",
       "      <td>...</td>\n",
       "      <td>...</td>\n",
       "      <td>...</td>\n",
       "      <td>...</td>\n",
       "      <td>...</td>\n",
       "      <td>...</td>\n",
       "      <td>...</td>\n",
       "      <td>...</td>\n",
       "      <td>...</td>\n",
       "      <td>...</td>\n",
       "    </tr>\n",
       "    <tr>\n",
       "      <th>172</th>\n",
       "      <td>AC4J668800</td>\n",
       "      <td>0</td>\n",
       "      <td>0</td>\n",
       "      <td>2</td>\n",
       "      <td>0</td>\n",
       "      <td>Protection  Sheet  /6</td>\n",
       "      <td>JESSIE OLIVEIRA SILVA</td>\n",
       "      <td>VENDA DIRETA</td>\n",
       "      <td>0</td>\n",
       "      <td>0</td>\n",
       "      <td>...</td>\n",
       "      <td>0</td>\n",
       "      <td>0</td>\n",
       "      <td>0</td>\n",
       "      <td>0</td>\n",
       "      <td>0</td>\n",
       "      <td>0</td>\n",
       "      <td>0</td>\n",
       "      <td>0</td>\n",
       "      <td>0</td>\n",
       "      <td>0</td>\n",
       "    </tr>\n",
       "    <tr>\n",
       "      <th>173</th>\n",
       "      <td>AC57R70111</td>\n",
       "      <td>0</td>\n",
       "      <td>0</td>\n",
       "      <td>4</td>\n",
       "      <td>0</td>\n",
       "      <td>UNIDADE DE CARGA</td>\n",
       "      <td>ROBERTA MACHADO</td>\n",
       "      <td>VENDA INDIRETA</td>\n",
       "      <td>3</td>\n",
       "      <td>0</td>\n",
       "      <td>...</td>\n",
       "      <td>0</td>\n",
       "      <td>0</td>\n",
       "      <td>0</td>\n",
       "      <td>0</td>\n",
       "      <td>0</td>\n",
       "      <td>0</td>\n",
       "      <td>0</td>\n",
       "      <td>0</td>\n",
       "      <td>0</td>\n",
       "      <td>Sim</td>\n",
       "    </tr>\n",
       "    <tr>\n",
       "      <th>174</th>\n",
       "      <td>AC57R70122</td>\n",
       "      <td>0</td>\n",
       "      <td>0</td>\n",
       "      <td>1</td>\n",
       "      <td>9</td>\n",
       "      <td>UNIDADE DE CARGA</td>\n",
       "      <td>PATRICIA ALVES PELAKOSKI/PATRICIA ALVES PELAKO...</td>\n",
       "      <td>VENDA INDIRETA/VENDA INDIRETA/VENDA INDIRETA</td>\n",
       "      <td>26</td>\n",
       "      <td>0</td>\n",
       "      <td>...</td>\n",
       "      <td>AC57R70100</td>\n",
       "      <td>-</td>\n",
       "      <td>-</td>\n",
       "      <td>0</td>\n",
       "      <td>Atender pelo CE13</td>\n",
       "      <td>0</td>\n",
       "      <td>0</td>\n",
       "      <td>0</td>\n",
       "      <td>0</td>\n",
       "      <td>0</td>\n",
       "    </tr>\n",
       "    <tr>\n",
       "      <th>175</th>\n",
       "      <td>ACDN0Y1</td>\n",
       "      <td>0</td>\n",
       "      <td>0</td>\n",
       "      <td>21</td>\n",
       "      <td>0</td>\n",
       "      <td>FRASCO COLETOR DE TONER RESIDUAL</td>\n",
       "      <td>ROBERTA MACHADO/ROBERTA MACHADO/EDITH PEREIRA ...</td>\n",
       "      <td>VENDA INDIRETA/VENDA INDIRETA/VENDA DIRETA</td>\n",
       "      <td>0</td>\n",
       "      <td>0</td>\n",
       "      <td>...</td>\n",
       "      <td>-</td>\n",
       "      <td>-</td>\n",
       "      <td>-</td>\n",
       "      <td>0</td>\n",
       "      <td>Atender pelo CE13</td>\n",
       "      <td>0</td>\n",
       "      <td>0</td>\n",
       "      <td>0</td>\n",
       "      <td>0</td>\n",
       "      <td>Sim</td>\n",
       "    </tr>\n",
       "    <tr>\n",
       "      <th>176</th>\n",
       "      <td>SP00-0220</td>\n",
       "      <td>0</td>\n",
       "      <td>0</td>\n",
       "      <td>2</td>\n",
       "      <td>0</td>\n",
       "      <td>TERMOSTATO INFERIOR</td>\n",
       "      <td>MARIANA PEREIRA DOS ANJOS</td>\n",
       "      <td>VENDA INDIRETA</td>\n",
       "      <td>21</td>\n",
       "      <td>0</td>\n",
       "      <td>...</td>\n",
       "      <td>-</td>\n",
       "      <td>-</td>\n",
       "      <td>-</td>\n",
       "      <td>0</td>\n",
       "      <td>Aguardar IMP</td>\n",
       "      <td>0</td>\n",
       "      <td>0</td>\n",
       "      <td>0</td>\n",
       "      <td>0</td>\n",
       "      <td>Sim</td>\n",
       "    </tr>\n",
       "  </tbody>\n",
       "</table>\n",
       "<p>177 rows × 46 columns</p>\n",
       "</div>"
      ],
      "text/plain": [
       "     Unnamed: 0  CE05_zva70  CE07_zva70  CE11_zva70  CE13_zva70  \\\n",
       "0    20AL48470G           0           0           1           0   \n",
       "1     25SA20150           0           0           1           0   \n",
       "2     40AA77660           0           0           4           0   \n",
       "3    4658015106           0           0           3           0   \n",
       "4     55FU20140           0           0           1           0   \n",
       "..          ...         ...         ...         ...         ...   \n",
       "172  AC4J668800           0           0           2           0   \n",
       "173  AC57R70111           0           0           4           0   \n",
       "174  AC57R70122           0           0           1           9   \n",
       "175     ACDN0Y1           0           0          21           0   \n",
       "176   SP00-0220           0           0           2           0   \n",
       "\n",
       "                          Denominação  \\\n",
       "0                               BOTÃO   \n",
       "1             COLAR DE POSICIONAMENTO   \n",
       "2              ENGRENAGEM F 28 DENTES   \n",
       "3                    CONJUNTO DO ROLO   \n",
       "4                     MOLA DE FIXAÇÃO   \n",
       "..                                ...   \n",
       "172             Protection  Sheet  /6   \n",
       "173                  UNIDADE DE CARGA   \n",
       "174                  UNIDADE DE CARGA   \n",
       "175  FRASCO COLETOR DE TONER RESIDUAL   \n",
       "176               TERMOSTATO INFERIOR   \n",
       "\n",
       "                                            Criado por  \\\n",
       "0                                      ROBERTA MACHADO   \n",
       "1                            RODRIGO PEREIRA DOS ANJOS   \n",
       "2                     REGILENE DE CASSIA LUIZ OLIVEIRA   \n",
       "3                                      ROBERTA MACHADO   \n",
       "4                            RODRIGO PEREIRA DOS ANJOS   \n",
       "..                                                 ...   \n",
       "172                              JESSIE OLIVEIRA SILVA   \n",
       "173                                    ROBERTA MACHADO   \n",
       "174  PATRICIA ALVES PELAKOSKI/PATRICIA ALVES PELAKO...   \n",
       "175  ROBERTA MACHADO/ROBERTA MACHADO/EDITH PEREIRA ...   \n",
       "176                          MARIANA PEREIRA DOS ANJOS   \n",
       "\n",
       "                                            Canal  Pendências Gerais  \\\n",
       "0                                  VENDA INDIRETA                  0   \n",
       "1                                    VENDA DIRETA                  0   \n",
       "2                                    VENDA DIRETA                  1   \n",
       "3                                  VENDA INDIRETA                  0   \n",
       "4                                    VENDA DIRETA                  0   \n",
       "..                                            ...                ...   \n",
       "172                                  VENDA DIRETA                  0   \n",
       "173                                VENDA INDIRETA                  3   \n",
       "174  VENDA INDIRETA/VENDA INDIRETA/VENDA INDIRETA                 26   \n",
       "175    VENDA INDIRETA/VENDA INDIRETA/VENDA DIRETA                  0   \n",
       "176                                VENDA INDIRETA                 21   \n",
       "\n",
       "     CE01_zstok  ...    Similar2  Similar3  Similar4  Unnamed: 6  \\\n",
       "0             0  ...           -         -         -           0   \n",
       "1             4  ...           0         0         0           0   \n",
       "2             0  ...           -         -         -           0   \n",
       "3             0  ...           -         -         -           0   \n",
       "4             0  ...           0         0         0           0   \n",
       "..          ...  ...         ...       ...       ...         ...   \n",
       "172           0  ...           0         0         0           0   \n",
       "173           0  ...           0         0         0           0   \n",
       "174           0  ...  AC57R70100         -         -           0   \n",
       "175           0  ...           -         -         -           0   \n",
       "176           0  ...           -         -         -           0   \n",
       "\n",
       "            Unnamed: 7  Unnamed: 8  Unnamed: 9  Unnamed: 10  Unnamed: 11  \\\n",
       "0    Atender pelo CE13           0           0            0            0   \n",
       "1                    0           0           0            0            0   \n",
       "2         Aguardar IMP           0           0            0            0   \n",
       "3    Atender pelo CE11           0           0            0            0   \n",
       "4                    0           0           0            0            0   \n",
       "..                 ...         ...         ...          ...          ...   \n",
       "172                  0           0           0            0            0   \n",
       "173                  0           0           0            0            0   \n",
       "174  Atender pelo CE13           0           0            0            0   \n",
       "175  Atender pelo CE13           0           0            0            0   \n",
       "176       Aguardar IMP           0           0            0            0   \n",
       "\n",
       "     Durabilidade  \n",
       "0               0  \n",
       "1             Sim  \n",
       "2               0  \n",
       "3               0  \n",
       "4             Sim  \n",
       "..            ...  \n",
       "172             0  \n",
       "173           Sim  \n",
       "174             0  \n",
       "175           Sim  \n",
       "176           Sim  \n",
       "\n",
       "[177 rows x 46 columns]"
      ]
     },
     "execution_count": 56,
     "metadata": {},
     "output_type": "execute_result"
    }
   ],
   "source": [
    "merged_table_6"
   ]
  },
  {
   "cell_type": "code",
   "execution_count": 57,
   "metadata": {},
   "outputs": [],
   "source": [
    "colunas_para_remover = ['Unnamed: 6', 'Unnamed: 7', 'Unnamed: 8', 'Durabilidade', 'Quant estoque 24/10/2024']\n",
    "\n",
    "merged_table_6 = merged_table_6.drop(columns=colunas_para_remover, errors='ignore')"
   ]
  },
  {
   "cell_type": "code",
   "execution_count": 58,
   "metadata": {},
   "outputs": [
    {
     "data": {
      "text/plain": [
       "Index([           'Unnamed: 0',            'CE05_zva70',\n",
       "                  'CE07_zva70',            'CE11_zva70',\n",
       "                  'CE13_zva70',           'Denominação',\n",
       "                  'Criado por',                 'Canal',\n",
       "           'Pendências Gerais',            'CE01_zstok',\n",
       "                  'CE03_zstok',            'CE05_zstok',\n",
       "                  'CE07_zstok',            'CE09_zstok',\n",
       "                  'CE11_zstok',            'CE13_zstok',\n",
       "               'Contr.qualid.',     2025-01-22 00:00:00,\n",
       "           2025-02-05 00:00:00,     2025-02-10 00:00:00,\n",
       "           2025-02-13 00:00:00,     2025-02-27 00:00:00,\n",
       "           2025-03-03 00:00:00,     2025-03-07 00:00:00,\n",
       "           2025-03-10 00:00:00,     2025-03-20 00:00:00,\n",
       "           2025-03-21 00:00:00,     2025-03-25 00:00:00,\n",
       "           2025-03-28 00:00:00,     2025-04-02 00:00:00,\n",
       "           2025-04-16 00:00:00,     2025-05-19 00:00:00,\n",
       "                    'Montante', 'Modelos Lista Técnica',\n",
       "                    'Material',              'Similar1',\n",
       "                    'Similar2',              'Similar3',\n",
       "                    'Similar4',            'Unnamed: 9',\n",
       "                 'Unnamed: 10',           'Unnamed: 11'],\n",
       "      dtype='object')"
      ]
     },
     "execution_count": 58,
     "metadata": {},
     "output_type": "execute_result"
    }
   ],
   "source": [
    "merged_table_6.columns"
   ]
  },
  {
   "cell_type": "code",
   "execution_count": 59,
   "metadata": {
    "id": "lw_1k4QZzb9j"
   },
   "outputs": [
    {
     "data": {
      "text/plain": [
       "Index(['Tipo material', 'Txt Tipo material', 'Material', 'Descrição',\n",
       "       'GrpMerc', 'Denom. Grupo Merc.', 'BU', 'Business Unit', 'Size',\n",
       "       'Print Size', 'Cor', 'Color/BW', 'Speed', 'Develop Name', 'Fabricante',\n",
       "       'Modelo Lista Manutenção', 'Seção LM', 'Qtde LM', 'Durabilidade LM',\n",
       "       'Page LM', 'Key LM', 'Destinations LM', 'Nota LM', 'Mais durabilidades',\n",
       "       'Modelos Lista Técnica', 'Classe', 'Status p/todos centros',\n",
       "       'Status p/todos canais', 'Preço venda', 'Moeda venda', 'Preço compra',\n",
       "       'Moeda compra', 'Qt.UMB', 'Unidade', '01/2024', '02/2024', '03/2024',\n",
       "       '04/2024', '05/2024', '06/2024', '07/2024', '08/2024', '09/2024',\n",
       "       '10/2024', '11/2024', '12/2024', 'Total Mov.', 'Média Mov.',\n",
       "       'Quant estoque 12/2024', 'Valor estoque 12/2024',\n",
       "       'Nº entradas de estoque', 'Quant total de consumo',\n",
       "       'Quant saída do estoque', 'Atendimentos 01/2025',\n",
       "       'Recebimentos 01/2025', 'Quant estoque 22/01/2025',\n",
       "       'Valor estoque 22/01/2025', 'Não faturado', 'Saldo Disponível',\n",
       "       'BKO 01/2024', 'BKO 02/2024', 'BKO 03/2024', 'BKO 04/2024',\n",
       "       'BKO 05/2024', 'BKO 06/2024', 'BKO 07/2024', 'BKO 08/2024',\n",
       "       'BKO 09/2024', 'BKO 10/2024', 'BKO 11/2024', 'BKO 12/2024',\n",
       "       'BKO 01/2025 ~', 'Backorder total', 'P.O. 01/2025', 'P.O. 02/2025',\n",
       "       'P.O. 03/2025', 'P.O. 04/2025', 'P.O. 05/2025', 'P.O. 06/2025'],\n",
       "      dtype='object')"
      ]
     },
     "execution_count": 59,
     "metadata": {},
     "output_type": "execute_result"
    }
   ],
   "source": [
    "ztsd017_data.columns"
   ]
  },
  {
   "cell_type": "code",
   "execution_count": 60,
   "metadata": {},
   "outputs": [],
   "source": [
    "estoque_coluna_indice = 52\n",
    "\n",
    "coluna_estoque = ztsd017_data.iloc[:, estoque_coluna_indice]\n",
    "\n",
    "def buscar_estoque(material, df_estoque, estoque_coluna_indice):\n",
    "    if material in df_estoque['Material'].values:\n",
    "        return df_estoque.loc[df_estoque['Material'] == material].iloc[0, estoque_coluna_indice]\n",
    "    return 0"
   ]
  },
  {
   "cell_type": "code",
   "execution_count": 61,
   "metadata": {},
   "outputs": [],
   "source": [
    "def buscar_estoque_similar(row, df_estoque, estoque_coluna_indice):\n",
    "    materiais = ['Material', 'Atual', 'Similar1', 'Similar2', 'Similar3', 'Similar4']\n",
    "    \n",
    "    for material_col in materiais:\n",
    "        if material_col in row.index and pd.notna(row[material_col]):\n",
    "            estoque = buscar_estoque(row[material_col], df_estoque, estoque_coluna_indice)\n",
    "            if estoque > 0:\n",
    "                return estoque \n",
    "    return 0  "
   ]
  },
  {
   "cell_type": "code",
   "execution_count": 62,
   "metadata": {},
   "outputs": [
    {
     "data": {
      "text/html": [
       "<div>\n",
       "<style scoped>\n",
       "    .dataframe tbody tr th:only-of-type {\n",
       "        vertical-align: middle;\n",
       "    }\n",
       "\n",
       "    .dataframe tbody tr th {\n",
       "        vertical-align: top;\n",
       "    }\n",
       "\n",
       "    .dataframe thead th {\n",
       "        text-align: right;\n",
       "    }\n",
       "</style>\n",
       "<table border=\"1\" class=\"dataframe\">\n",
       "  <thead>\n",
       "    <tr style=\"text-align: right;\">\n",
       "      <th></th>\n",
       "      <th>Unnamed: 0</th>\n",
       "      <th>CE05_zva70</th>\n",
       "      <th>CE07_zva70</th>\n",
       "      <th>CE11_zva70</th>\n",
       "      <th>CE13_zva70</th>\n",
       "      <th>Denominação</th>\n",
       "      <th>Criado por</th>\n",
       "      <th>Canal</th>\n",
       "      <th>Pendências Gerais</th>\n",
       "      <th>CE01_zstok</th>\n",
       "      <th>...</th>\n",
       "      <th>Modelos Lista Técnica</th>\n",
       "      <th>Material</th>\n",
       "      <th>Similar1</th>\n",
       "      <th>Similar2</th>\n",
       "      <th>Similar3</th>\n",
       "      <th>Similar4</th>\n",
       "      <th>Unnamed: 9</th>\n",
       "      <th>Unnamed: 10</th>\n",
       "      <th>Unnamed: 11</th>\n",
       "      <th>Quant estoque</th>\n",
       "    </tr>\n",
       "  </thead>\n",
       "  <tbody>\n",
       "    <tr>\n",
       "      <th>0</th>\n",
       "      <td>20AL48470G</td>\n",
       "      <td>0</td>\n",
       "      <td>0</td>\n",
       "      <td>1</td>\n",
       "      <td>0</td>\n",
       "      <td>BOTÃO</td>\n",
       "      <td>ROBERTA MACHADO</td>\n",
       "      <td>VENDA INDIRETA</td>\n",
       "      <td>0</td>\n",
       "      <td>0</td>\n",
       "      <td>...</td>\n",
       "      <td>ACCURIOLABEL 190/BIZHUB PRESS C71CF/ACCURIOLAB...</td>\n",
       "      <td>20AL48470G</td>\n",
       "      <td>20AL48470</td>\n",
       "      <td>-</td>\n",
       "      <td>-</td>\n",
       "      <td>-</td>\n",
       "      <td>0</td>\n",
       "      <td>0</td>\n",
       "      <td>0</td>\n",
       "      <td>89.0</td>\n",
       "    </tr>\n",
       "    <tr>\n",
       "      <th>1</th>\n",
       "      <td>25SA20150</td>\n",
       "      <td>0</td>\n",
       "      <td>0</td>\n",
       "      <td>1</td>\n",
       "      <td>0</td>\n",
       "      <td>COLAR DE POSICIONAMENTO</td>\n",
       "      <td>RODRIGO PEREIRA DOS ANJOS</td>\n",
       "      <td>VENDA DIRETA</td>\n",
       "      <td>0</td>\n",
       "      <td>4</td>\n",
       "      <td>...</td>\n",
       "      <td>7075/7085/ACCURIOPRINT 2100/BIZHUB PRESS 1250/...</td>\n",
       "      <td>0</td>\n",
       "      <td>0</td>\n",
       "      <td>0</td>\n",
       "      <td>0</td>\n",
       "      <td>0</td>\n",
       "      <td>0</td>\n",
       "      <td>0</td>\n",
       "      <td>0</td>\n",
       "      <td>0.0</td>\n",
       "    </tr>\n",
       "    <tr>\n",
       "      <th>2</th>\n",
       "      <td>40AA77660</td>\n",
       "      <td>0</td>\n",
       "      <td>0</td>\n",
       "      <td>4</td>\n",
       "      <td>0</td>\n",
       "      <td>ENGRENAGEM F 28 DENTES</td>\n",
       "      <td>REGILENE DE CASSIA LUIZ OLIVEIRA</td>\n",
       "      <td>VENDA DIRETA</td>\n",
       "      <td>1</td>\n",
       "      <td>0</td>\n",
       "      <td>...</td>\n",
       "      <td>8050/ACCURIOPRESS C6100/BIZHUB PRESS C1085/BIZ...</td>\n",
       "      <td>40AA77660</td>\n",
       "      <td>-</td>\n",
       "      <td>-</td>\n",
       "      <td>-</td>\n",
       "      <td>-</td>\n",
       "      <td>0</td>\n",
       "      <td>0</td>\n",
       "      <td>0</td>\n",
       "      <td>3.0</td>\n",
       "    </tr>\n",
       "    <tr>\n",
       "      <th>3</th>\n",
       "      <td>4658015106</td>\n",
       "      <td>0</td>\n",
       "      <td>0</td>\n",
       "      <td>3</td>\n",
       "      <td>0</td>\n",
       "      <td>CONJUNTO DO ROLO</td>\n",
       "      <td>ROBERTA MACHADO</td>\n",
       "      <td>VENDA INDIRETA</td>\n",
       "      <td>0</td>\n",
       "      <td>0</td>\n",
       "      <td>...</td>\n",
       "      <td>0</td>\n",
       "      <td>4658015106</td>\n",
       "      <td>-</td>\n",
       "      <td>-</td>\n",
       "      <td>-</td>\n",
       "      <td>-</td>\n",
       "      <td>0</td>\n",
       "      <td>0</td>\n",
       "      <td>0</td>\n",
       "      <td>950.0</td>\n",
       "    </tr>\n",
       "    <tr>\n",
       "      <th>4</th>\n",
       "      <td>55FU20140</td>\n",
       "      <td>0</td>\n",
       "      <td>0</td>\n",
       "      <td>1</td>\n",
       "      <td>0</td>\n",
       "      <td>MOLA DE FIXAÇÃO</td>\n",
       "      <td>RODRIGO PEREIRA DOS ANJOS</td>\n",
       "      <td>VENDA DIRETA</td>\n",
       "      <td>0</td>\n",
       "      <td>0</td>\n",
       "      <td>...</td>\n",
       "      <td>7075/7085/BIZHUB PRESS 1250/BIZHUB PRESS 1250P...</td>\n",
       "      <td>0</td>\n",
       "      <td>0</td>\n",
       "      <td>0</td>\n",
       "      <td>0</td>\n",
       "      <td>0</td>\n",
       "      <td>0</td>\n",
       "      <td>0</td>\n",
       "      <td>0</td>\n",
       "      <td>0.0</td>\n",
       "    </tr>\n",
       "    <tr>\n",
       "      <th>...</th>\n",
       "      <td>...</td>\n",
       "      <td>...</td>\n",
       "      <td>...</td>\n",
       "      <td>...</td>\n",
       "      <td>...</td>\n",
       "      <td>...</td>\n",
       "      <td>...</td>\n",
       "      <td>...</td>\n",
       "      <td>...</td>\n",
       "      <td>...</td>\n",
       "      <td>...</td>\n",
       "      <td>...</td>\n",
       "      <td>...</td>\n",
       "      <td>...</td>\n",
       "      <td>...</td>\n",
       "      <td>...</td>\n",
       "      <td>...</td>\n",
       "      <td>...</td>\n",
       "      <td>...</td>\n",
       "      <td>...</td>\n",
       "      <td>...</td>\n",
       "    </tr>\n",
       "    <tr>\n",
       "      <th>172</th>\n",
       "      <td>AC4J668800</td>\n",
       "      <td>0</td>\n",
       "      <td>0</td>\n",
       "      <td>2</td>\n",
       "      <td>0</td>\n",
       "      <td>Protection  Sheet  /6</td>\n",
       "      <td>JESSIE OLIVEIRA SILVA</td>\n",
       "      <td>VENDA DIRETA</td>\n",
       "      <td>0</td>\n",
       "      <td>0</td>\n",
       "      <td>...</td>\n",
       "      <td>PF-812</td>\n",
       "      <td>0</td>\n",
       "      <td>0</td>\n",
       "      <td>0</td>\n",
       "      <td>0</td>\n",
       "      <td>0</td>\n",
       "      <td>0</td>\n",
       "      <td>0</td>\n",
       "      <td>0</td>\n",
       "      <td>0.0</td>\n",
       "    </tr>\n",
       "    <tr>\n",
       "      <th>173</th>\n",
       "      <td>AC57R70111</td>\n",
       "      <td>0</td>\n",
       "      <td>0</td>\n",
       "      <td>4</td>\n",
       "      <td>0</td>\n",
       "      <td>UNIDADE DE CARGA</td>\n",
       "      <td>ROBERTA MACHADO</td>\n",
       "      <td>VENDA INDIRETA</td>\n",
       "      <td>3</td>\n",
       "      <td>0</td>\n",
       "      <td>...</td>\n",
       "      <td>ACCURIOPRESS C4080/ACCURIOPRINT C4065</td>\n",
       "      <td>0</td>\n",
       "      <td>0</td>\n",
       "      <td>0</td>\n",
       "      <td>0</td>\n",
       "      <td>0</td>\n",
       "      <td>0</td>\n",
       "      <td>0</td>\n",
       "      <td>0</td>\n",
       "      <td>0.0</td>\n",
       "    </tr>\n",
       "    <tr>\n",
       "      <th>174</th>\n",
       "      <td>AC57R70122</td>\n",
       "      <td>0</td>\n",
       "      <td>0</td>\n",
       "      <td>1</td>\n",
       "      <td>9</td>\n",
       "      <td>UNIDADE DE CARGA</td>\n",
       "      <td>PATRICIA ALVES PELAKOSKI/PATRICIA ALVES PELAKO...</td>\n",
       "      <td>VENDA INDIRETA/VENDA INDIRETA/VENDA INDIRETA</td>\n",
       "      <td>26</td>\n",
       "      <td>0</td>\n",
       "      <td>...</td>\n",
       "      <td>ACCURIOPRESS C4080/ACCURIOPRINT C4065</td>\n",
       "      <td>AC57R70122</td>\n",
       "      <td>AC57R70111</td>\n",
       "      <td>AC57R70100</td>\n",
       "      <td>-</td>\n",
       "      <td>-</td>\n",
       "      <td>0</td>\n",
       "      <td>0</td>\n",
       "      <td>0</td>\n",
       "      <td>2849.0</td>\n",
       "    </tr>\n",
       "    <tr>\n",
       "      <th>175</th>\n",
       "      <td>ACDN0Y1</td>\n",
       "      <td>0</td>\n",
       "      <td>0</td>\n",
       "      <td>21</td>\n",
       "      <td>0</td>\n",
       "      <td>FRASCO COLETOR DE TONER RESIDUAL</td>\n",
       "      <td>ROBERTA MACHADO/ROBERTA MACHADO/EDITH PEREIRA ...</td>\n",
       "      <td>VENDA INDIRETA/VENDA INDIRETA/VENDA DIRETA</td>\n",
       "      <td>0</td>\n",
       "      <td>0</td>\n",
       "      <td>...</td>\n",
       "      <td>BIZHUB C3300I/BIZHUB C3350I/BIZHUB C3351I</td>\n",
       "      <td>ACDN0Y1</td>\n",
       "      <td>ACDNWY1</td>\n",
       "      <td>-</td>\n",
       "      <td>-</td>\n",
       "      <td>-</td>\n",
       "      <td>0</td>\n",
       "      <td>0</td>\n",
       "      <td>0</td>\n",
       "      <td>6889.0</td>\n",
       "    </tr>\n",
       "    <tr>\n",
       "      <th>176</th>\n",
       "      <td>SP00-0220</td>\n",
       "      <td>0</td>\n",
       "      <td>0</td>\n",
       "      <td>2</td>\n",
       "      <td>0</td>\n",
       "      <td>TERMOSTATO INFERIOR</td>\n",
       "      <td>MARIANA PEREIRA DOS ANJOS</td>\n",
       "      <td>VENDA INDIRETA</td>\n",
       "      <td>21</td>\n",
       "      <td>0</td>\n",
       "      <td>...</td>\n",
       "      <td>ACCURIOLABEL 190/BIZHUB PRESS C71CF/ACCURIOLAB...</td>\n",
       "      <td>SP00-0220</td>\n",
       "      <td>-</td>\n",
       "      <td>-</td>\n",
       "      <td>-</td>\n",
       "      <td>-</td>\n",
       "      <td>0</td>\n",
       "      <td>0</td>\n",
       "      <td>0</td>\n",
       "      <td>14.0</td>\n",
       "    </tr>\n",
       "  </tbody>\n",
       "</table>\n",
       "<p>177 rows × 43 columns</p>\n",
       "</div>"
      ],
      "text/plain": [
       "     Unnamed: 0  CE05_zva70  CE07_zva70  CE11_zva70  CE13_zva70  \\\n",
       "0    20AL48470G           0           0           1           0   \n",
       "1     25SA20150           0           0           1           0   \n",
       "2     40AA77660           0           0           4           0   \n",
       "3    4658015106           0           0           3           0   \n",
       "4     55FU20140           0           0           1           0   \n",
       "..          ...         ...         ...         ...         ...   \n",
       "172  AC4J668800           0           0           2           0   \n",
       "173  AC57R70111           0           0           4           0   \n",
       "174  AC57R70122           0           0           1           9   \n",
       "175     ACDN0Y1           0           0          21           0   \n",
       "176   SP00-0220           0           0           2           0   \n",
       "\n",
       "                          Denominação  \\\n",
       "0                               BOTÃO   \n",
       "1             COLAR DE POSICIONAMENTO   \n",
       "2              ENGRENAGEM F 28 DENTES   \n",
       "3                    CONJUNTO DO ROLO   \n",
       "4                     MOLA DE FIXAÇÃO   \n",
       "..                                ...   \n",
       "172             Protection  Sheet  /6   \n",
       "173                  UNIDADE DE CARGA   \n",
       "174                  UNIDADE DE CARGA   \n",
       "175  FRASCO COLETOR DE TONER RESIDUAL   \n",
       "176               TERMOSTATO INFERIOR   \n",
       "\n",
       "                                            Criado por  \\\n",
       "0                                      ROBERTA MACHADO   \n",
       "1                            RODRIGO PEREIRA DOS ANJOS   \n",
       "2                     REGILENE DE CASSIA LUIZ OLIVEIRA   \n",
       "3                                      ROBERTA MACHADO   \n",
       "4                            RODRIGO PEREIRA DOS ANJOS   \n",
       "..                                                 ...   \n",
       "172                              JESSIE OLIVEIRA SILVA   \n",
       "173                                    ROBERTA MACHADO   \n",
       "174  PATRICIA ALVES PELAKOSKI/PATRICIA ALVES PELAKO...   \n",
       "175  ROBERTA MACHADO/ROBERTA MACHADO/EDITH PEREIRA ...   \n",
       "176                          MARIANA PEREIRA DOS ANJOS   \n",
       "\n",
       "                                            Canal  Pendências Gerais  \\\n",
       "0                                  VENDA INDIRETA                  0   \n",
       "1                                    VENDA DIRETA                  0   \n",
       "2                                    VENDA DIRETA                  1   \n",
       "3                                  VENDA INDIRETA                  0   \n",
       "4                                    VENDA DIRETA                  0   \n",
       "..                                            ...                ...   \n",
       "172                                  VENDA DIRETA                  0   \n",
       "173                                VENDA INDIRETA                  3   \n",
       "174  VENDA INDIRETA/VENDA INDIRETA/VENDA INDIRETA                 26   \n",
       "175    VENDA INDIRETA/VENDA INDIRETA/VENDA DIRETA                  0   \n",
       "176                                VENDA INDIRETA                 21   \n",
       "\n",
       "     CE01_zstok  ...                              Modelos Lista Técnica  \\\n",
       "0             0  ...  ACCURIOLABEL 190/BIZHUB PRESS C71CF/ACCURIOLAB...   \n",
       "1             4  ...  7075/7085/ACCURIOPRINT 2100/BIZHUB PRESS 1250/...   \n",
       "2             0  ...  8050/ACCURIOPRESS C6100/BIZHUB PRESS C1085/BIZ...   \n",
       "3             0  ...                                                  0   \n",
       "4             0  ...  7075/7085/BIZHUB PRESS 1250/BIZHUB PRESS 1250P...   \n",
       "..          ...  ...                                                ...   \n",
       "172           0  ...                                             PF-812   \n",
       "173           0  ...              ACCURIOPRESS C4080/ACCURIOPRINT C4065   \n",
       "174           0  ...              ACCURIOPRESS C4080/ACCURIOPRINT C4065   \n",
       "175           0  ...          BIZHUB C3300I/BIZHUB C3350I/BIZHUB C3351I   \n",
       "176           0  ...  ACCURIOLABEL 190/BIZHUB PRESS C71CF/ACCURIOLAB...   \n",
       "\n",
       "       Material    Similar1    Similar2  Similar3  Similar4  Unnamed: 9  \\\n",
       "0    20AL48470G   20AL48470           -         -         -           0   \n",
       "1             0           0           0         0         0           0   \n",
       "2     40AA77660           -           -         -         -           0   \n",
       "3    4658015106           -           -         -         -           0   \n",
       "4             0           0           0         0         0           0   \n",
       "..          ...         ...         ...       ...       ...         ...   \n",
       "172           0           0           0         0         0           0   \n",
       "173           0           0           0         0         0           0   \n",
       "174  AC57R70122  AC57R70111  AC57R70100         -         -           0   \n",
       "175     ACDN0Y1     ACDNWY1           -         -         -           0   \n",
       "176   SP00-0220           -           -         -         -           0   \n",
       "\n",
       "     Unnamed: 10  Unnamed: 11  Quant estoque  \n",
       "0              0            0           89.0  \n",
       "1              0            0            0.0  \n",
       "2              0            0            3.0  \n",
       "3              0            0          950.0  \n",
       "4              0            0            0.0  \n",
       "..           ...          ...            ...  \n",
       "172            0            0            0.0  \n",
       "173            0            0            0.0  \n",
       "174            0            0         2849.0  \n",
       "175            0            0         6889.0  \n",
       "176            0            0           14.0  \n",
       "\n",
       "[177 rows x 43 columns]"
      ]
     },
     "execution_count": 62,
     "metadata": {},
     "output_type": "execute_result"
    }
   ],
   "source": [
    "merged_table_6['Quant estoque'] = merged_table_6.apply(\n",
    "    lambda row: buscar_estoque_similar(row, ztsd017_data, estoque_coluna_indice), axis=1\n",
    ")\n",
    "\n",
    "merged_table_6"
   ]
  },
  {
   "cell_type": "code",
   "execution_count": 63,
   "metadata": {},
   "outputs": [],
   "source": [
    "\n",
    "caminho_saida = r'C:\\Users\\fsp_adolpho.salvador\\Desktop\\Konica Minolta\\Desktop Cloud - Documentos\\Desktop\\Py\\Pendencias\\Arquivos\\Mapa2.xlsx'\n",
    "\n",
    "merged_table_6.to_excel(caminho_saida, index=True)"
   ]
  },
  {
   "cell_type": "code",
   "execution_count": null,
   "metadata": {},
   "outputs": [],
   "source": []
  }
 ],
 "metadata": {
  "colab": {
   "collapsed_sections": [
    "YybzIMWxlALi",
    "O1WlUUCLlErb",
    "1Koc5JwAlIsj",
    "0XgTbAT2JGgy",
    "NVf1Tr1JJKSB"
   ],
   "provenance": []
  },
  "kernelspec": {
   "display_name": "Python 3",
   "name": "python3"
  },
  "language_info": {
   "codemirror_mode": {
    "name": "ipython",
    "version": 3
   },
   "file_extension": ".py",
   "mimetype": "text/x-python",
   "name": "python",
   "nbconvert_exporter": "python",
   "pygments_lexer": "ipython3",
   "version": "3.12.3"
  }
 },
 "nbformat": 4,
 "nbformat_minor": 0
}
