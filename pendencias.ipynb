{
  "cells": [
    {
      "cell_type": "code",
      "execution_count": 140,
      "metadata": {
        "id": "TocGuzNwlVlT"
      },
      "outputs": [],
      "source": [
        "import pandas as pd"
      ]
    },
    {
      "cell_type": "code",
      "execution_count": 141,
      "metadata": {
        "id": "Bow97gC5gJK3"
      },
      "outputs": [],
      "source": [
        "caminho_pend = r'C:\\Users\\fsp_adolpho.salvador\\Desktop\\Konica Minolta\\Desktop Cloud - Documentos\\Desktop\\Py\\Pendencias\\PEND.XLSX'\n",
        "caminho_pend_geral = r'C:\\Users\\fsp_adolpho.salvador\\Desktop\\Konica Minolta\\Desktop Cloud - Documentos\\Desktop\\Py\\Pendencias\\pend geral.XLSX'\n",
        "caminho_zstok = r'C:\\Users\\fsp_adolpho.salvador\\Desktop\\Konica Minolta\\Desktop Cloud - Documentos\\Desktop\\Py\\Pendencias\\zstok.XLSX'\n",
        "caminho_fup = r'C:\\Users\\fsp_adolpho.salvador\\Desktop\\Konica Minolta\\Desktop Cloud - Documentos\\Desktop\\Py\\Pendencias\\fup.XLSX'\n",
        "caminho_fob = r'C:\\Users\\fsp_adolpho.salvador\\Desktop\\Konica Minolta\\Desktop Cloud - Documentos\\Desktop\\Py\\Pendencias\\ZTMM069.XLSX'\n",
        "caminho_pecas = r'C:\\Users\\fsp_adolpho.salvador\\Desktop\\Konica Minolta\\Desktop Cloud - Documentos\\Desktop\\Py\\Pendencias\\ZTMM085.XLSX'\n",
        "caminho_atuais = r'C:\\Users\\fsp_adolpho.salvador\\Desktop\\Konica Minolta\\Desktop Cloud - Documentos\\Desktop\\Py\\Pendencias\\atuais.xlsx'\n",
        "caminho_classificacao =r'C:\\Users\\fsp_adolpho.salvador\\Desktop\\Konica Minolta\\Desktop Cloud - Documentos\\Desktop\\Py\\Pendencias\\Classificação das Peças.xlsx'"
      ]
    },
    {
      "cell_type": "markdown",
      "metadata": {
        "id": "YybzIMWxlALi"
      },
      "source": [
        "# Pendências"
      ]
    },
    {
      "cell_type": "code",
      "execution_count": 142,
      "metadata": {
        "id": "PufxUea3lZXr"
      },
      "outputs": [],
      "source": [
        "pendencias = pd.read_excel(caminho_pend)"
      ]
    },
    {
      "cell_type": "code",
      "execution_count": 143,
      "metadata": {
        "colab": {
          "base_uri": "https://localhost:8080/"
        },
        "id": "mV-INAiSmEyU",
        "outputId": "5e4e28da-0cd9-4a18-f3d7-3c702a8d1dae"
      },
      "outputs": [
        {
          "data": {
            "text/plain": [
              "Index(['Nome 1', 'Cliente', 'Doc.vendas', 'Criado em', 'Item', 'Material',\n",
              "       'Denominação', 'Tipo material', 'Centro', 'Quantidade da ordem',\n",
              "       'Qtd.confirm.acumul.', 'Qtd.pendente', 'Unidade venda',\n",
              "       'Data de remessa', 'Criado por', 'Canal', 'Classificação'],\n",
              "      dtype='object')"
            ]
          },
          "execution_count": 143,
          "metadata": {},
          "output_type": "execute_result"
        }
      ],
      "source": [
        "pendencias.columns\n"
      ]
    },
    {
      "cell_type": "code",
      "execution_count": 144,
      "metadata": {
        "colab": {
          "base_uri": "https://localhost:8080/"
        },
        "id": "MeT87jF5qTOq",
        "outputId": "b79fb7db-8211-41ce-9687-0333a4c8814c"
      },
      "outputs": [
        {
          "name": "stdout",
          "output_type": "stream",
          "text": [
            "                           Criado por           Canal\n",
            "0                     ROBERTA MACHADO  VENDA INDIRETA\n",
            "1                         CARLA SAKAI  VENDA INDIRETA\n",
            "2                         CARLA SAKAI  VENDA INDIRETA\n",
            "3                         CARLA SAKAI  VENDA INDIRETA\n",
            "4                         CARLA SAKAI  VENDA INDIRETA\n",
            "..                                ...             ...\n",
            "160                         ANA PAULA  VENDA INDIRETA\n",
            "161                       CARLA SAKAI  VENDA INDIRETA\n",
            "162                       CARLA SAKAI  VENDA INDIRETA\n",
            "163  REGILENE DE CASSIA LUIZ OLIVEIRA    VENDA DIRETA\n",
            "164  REGILENE DE CASSIA LUIZ OLIVEIRA    VENDA DIRETA\n",
            "\n",
            "[165 rows x 2 columns]\n"
          ]
        }
      ],
      "source": [
        "# Substitua a lista pelos nomes das colunas que você deseja visualizar\n",
        "colunas_selecionadas = pendencias[[ 'Criado por',\"Canal\"]]\n",
        "\n",
        "# Exibir as colunas selecionadas\n",
        "print(colunas_selecionadas)\n"
      ]
    },
    {
      "cell_type": "code",
      "execution_count": 145,
      "metadata": {
        "colab": {
          "base_uri": "https://localhost:8080/"
        },
        "id": "rhz6J-PsmXZP",
        "outputId": "310afde0-923c-44ec-c93b-054718245d52"
      },
      "outputs": [
        {
          "name": "stdout",
          "output_type": "stream",
          "text": [
            "O número de linhas em merged_table é: 165\n"
          ]
        }
      ],
      "source": [
        "num_linhas = pendencias.shape[0]\n",
        "\n",
        "# Exibir o número de linhas\n",
        "print(f'O número de linhas em merged_table é: {num_linhas}')\n",
        "\n"
      ]
    },
    {
      "cell_type": "code",
      "execution_count": 146,
      "metadata": {
        "colab": {
          "base_uri": "https://localhost:8080/"
        },
        "id": "y6pzFUwumNdt",
        "outputId": "2d345a72-63c3-4610-827d-ce219e571a66"
      },
      "outputs": [
        {
          "name": "stdout",
          "output_type": "stream",
          "text": [
            "Centro      CE04_zva70  CE05_zva70  CE10_zva70  CE11_zva70  CE13_zva70\n",
            "Material                                                              \n",
            "13QER70400           0           1           0           2           0\n",
            "20AA15140            0           2           0           0           0\n",
            "20AAR70600           0           1           0           0           0\n",
            "25SA40960            0           0          40           0           0\n",
            "26AA53150            0           0          20           0           0\n",
            "...                ...         ...         ...         ...         ...\n",
            "AC0CR70622           0           0           0           1           0\n",
            "AC0CR71111           0           1           0           0           0\n",
            "V151020603           0           0           0           3           0\n",
            "V226030050           0           0           0           0           1\n",
            "Z907284300           0           0           0           1           0\n",
            "\n",
            "[144 rows x 5 columns]\n"
          ]
        }
      ],
      "source": [
        "import pandas as pd\n",
        "\n",
        "# Se você já não tiver feito isso, crie a tabela dinâmica como mostrado no código fornecido\n",
        "tabela_dinamica_pend = pd.pivot_table(pendencias, values='Qtd.pendente', index='Material', columns='Centro', aggfunc='sum', fill_value=0)\n",
        "tabela_dinamica_pend = tabela_dinamica_pend.add_suffix('_zva70')\n",
        "\n",
        "# Exibir a tabela dinâmica com as colunas adicionadas\n",
        "print(tabela_dinamica_pend)\n",
        "\n"
      ]
    },
    {
      "cell_type": "code",
      "execution_count": 147,
      "metadata": {
        "colab": {
          "base_uri": "https://localhost:8080/"
        },
        "id": "xu2h5mTo5C2k",
        "outputId": "34a5239c-fda2-4cec-c508-a6a8e7fe12e9"
      },
      "outputs": [
        {
          "name": "stdout",
          "output_type": "stream",
          "text": [
            "                                         Denominação\n",
            "Material                                            \n",
            "13QER70400                     CONJUNTO DE SOLENOÍDE\n",
            "20AA15140                               CABO  DE AÇO\n",
            "20AAR70600                                  LIMPADOR\n",
            "25SA40960                                   BORRACHA\n",
            "26AA53150                                   ISOLANTE\n",
            "...                                              ...\n",
            "AC0CR70622                   CONJUNTO CAIXA COLETORA\n",
            "AC0CR71111                      CONJUNTO DE REGISTRO\n",
            "V151020603                                  PARAFUSO\n",
            "V226030050                                   CS ring\n",
            "Z907284300  UNIDADE CIS - LEITOR DE IMAGEM HN12H-X03\n",
            "\n",
            "[144 rows x 1 columns]\n"
          ]
        }
      ],
      "source": [
        "tabela_dinamica_pend2 = pd.pivot_table(pendencias, values='Denominação', index='Material', aggfunc='first', fill_value=0)\n",
        "\n",
        "print(tabela_dinamica_pend2)"
      ]
    },
    {
      "cell_type": "code",
      "execution_count": 148,
      "metadata": {
        "colab": {
          "base_uri": "https://localhost:8080/"
        },
        "id": "f8VigsvV56_B",
        "outputId": "6a55d80c-4884-4b0f-a44b-e3e5b45360b4"
      },
      "outputs": [
        {
          "name": "stdout",
          "output_type": "stream",
          "text": [
            "                                                   Criado por\n",
            "Material                                                     \n",
            "13QER70400  REGILENE DE CASSIA LUIZ OLIVEIRA/JESSIE OLIVEI...\n",
            "20AA15140                    REGILENE DE CASSIA LUIZ OLIVEIRA\n",
            "20AAR70600                                    ROBERTA MACHADO\n",
            "25SA40960                                         WILLIAM LUZ\n",
            "26AA53150                                         WILLIAM LUZ\n",
            "...                                                       ...\n",
            "AC0CR70622                       NAYARA DA SILVA ALVES ABRAMO\n",
            "AC0CR71111                   REGILENE DE CASSIA LUIZ OLIVEIRA\n",
            "V151020603                   REGILENE DE CASSIA LUIZ OLIVEIRA\n",
            "V226030050                                        CARLA SAKAI\n",
            "Z907284300                   REGILENE DE CASSIA LUIZ OLIVEIRA\n",
            "\n",
            "[144 rows x 1 columns]\n",
            "                                             Canal\n",
            "Material                                          \n",
            "13QER70400  VENDA DIRETA/VENDA DIRETA/VENDA DIRETA\n",
            "20AA15140                             VENDA DIRETA\n",
            "20AAR70600                          VENDA INDIRETA\n",
            "25SA40960                                      nan\n",
            "26AA53150                                      nan\n",
            "...                                            ...\n",
            "AC0CR70622                            VENDA DIRETA\n",
            "AC0CR71111                            VENDA DIRETA\n",
            "V151020603                            VENDA DIRETA\n",
            "V226030050                          VENDA INDIRETA\n",
            "Z907284300                            VENDA DIRETA\n",
            "\n",
            "[144 rows x 1 columns]\n"
          ]
        }
      ],
      "source": [
        "tabela_dinamica_pend3 = pd.pivot_table(pendencias, values='Criado por', index='Material', aggfunc=lambda x: '/'.join(x), fill_value='')\n",
        "tabela_dinamica_pend4 = pd.pivot_table(pendencias, values='Canal', index='Material', aggfunc=lambda x: '/'.join(str(v) for v in x), fill_value='')\n",
        "\n",
        "print(tabela_dinamica_pend3)\n",
        "print(tabela_dinamica_pend4)"
      ]
    },
    {
      "cell_type": "code",
      "execution_count": 149,
      "metadata": {
        "colab": {
          "base_uri": "https://localhost:8080/"
        },
        "id": "Ci8wemth6STh",
        "outputId": "7ff9823c-41db-4015-9075-0858a2011a34"
      },
      "outputs": [
        {
          "name": "stdout",
          "output_type": "stream",
          "text": [
            "            CE04_zva70  CE05_zva70  CE10_zva70  CE11_zva70  CE13_zva70  \\\n",
            "Material                                                                 \n",
            "13QER70400           0           1           0           2           0   \n",
            "20AA15140            0           2           0           0           0   \n",
            "20AAR70600           0           1           0           0           0   \n",
            "25SA40960            0           0          40           0           0   \n",
            "26AA53150            0           0          20           0           0   \n",
            "...                ...         ...         ...         ...         ...   \n",
            "AC0CR70622           0           0           0           1           0   \n",
            "AC0CR71111           0           1           0           0           0   \n",
            "V151020603           0           0           0           3           0   \n",
            "V226030050           0           0           0           0           1   \n",
            "Z907284300           0           0           0           1           0   \n",
            "\n",
            "                                         Denominação  \\\n",
            "Material                                               \n",
            "13QER70400                     CONJUNTO DE SOLENOÍDE   \n",
            "20AA15140                               CABO  DE AÇO   \n",
            "20AAR70600                                  LIMPADOR   \n",
            "25SA40960                                   BORRACHA   \n",
            "26AA53150                                   ISOLANTE   \n",
            "...                                              ...   \n",
            "AC0CR70622                   CONJUNTO CAIXA COLETORA   \n",
            "AC0CR71111                      CONJUNTO DE REGISTRO   \n",
            "V151020603                                  PARAFUSO   \n",
            "V226030050                                   CS ring   \n",
            "Z907284300  UNIDADE CIS - LEITOR DE IMAGEM HN12H-X03   \n",
            "\n",
            "                                                   Criado por  \\\n",
            "Material                                                        \n",
            "13QER70400  REGILENE DE CASSIA LUIZ OLIVEIRA/JESSIE OLIVEI...   \n",
            "20AA15140                    REGILENE DE CASSIA LUIZ OLIVEIRA   \n",
            "20AAR70600                                    ROBERTA MACHADO   \n",
            "25SA40960                                         WILLIAM LUZ   \n",
            "26AA53150                                         WILLIAM LUZ   \n",
            "...                                                       ...   \n",
            "AC0CR70622                       NAYARA DA SILVA ALVES ABRAMO   \n",
            "AC0CR71111                   REGILENE DE CASSIA LUIZ OLIVEIRA   \n",
            "V151020603                   REGILENE DE CASSIA LUIZ OLIVEIRA   \n",
            "V226030050                                        CARLA SAKAI   \n",
            "Z907284300                   REGILENE DE CASSIA LUIZ OLIVEIRA   \n",
            "\n",
            "                                             Canal  \n",
            "Material                                            \n",
            "13QER70400  VENDA DIRETA/VENDA DIRETA/VENDA DIRETA  \n",
            "20AA15140                             VENDA DIRETA  \n",
            "20AAR70600                          VENDA INDIRETA  \n",
            "25SA40960                                      nan  \n",
            "26AA53150                                      nan  \n",
            "...                                            ...  \n",
            "AC0CR70622                            VENDA DIRETA  \n",
            "AC0CR71111                            VENDA DIRETA  \n",
            "V151020603                            VENDA DIRETA  \n",
            "V226030050                          VENDA INDIRETA  \n",
            "Z907284300                            VENDA DIRETA  \n",
            "\n",
            "[144 rows x 8 columns]\n"
          ]
        }
      ],
      "source": [
        "# Realizar left join entre as tabelas usando a coluna \"Material\" como chave\n",
        "merged_table_pend = tabela_dinamica_pend.merge(tabela_dinamica_pend2, how='left', left_index=True, right_index=True)\n",
        "merged_table_pend2 = merged_table_pend.merge(tabela_dinamica_pend3, how='left', left_index=True, right_index=True)\n",
        "_table_pend = merged_table_pend2.merge(tabela_dinamica_pend4, how='left', left_index=True, right_index=True)\n",
        "# Preencher valores nulos com zero\n",
        "_table_pend = _table_pend.fillna(0)\n",
        "\n",
        "print(_table_pend)"
      ]
    },
    {
      "cell_type": "markdown",
      "metadata": {
        "id": "O1WlUUCLlErb"
      },
      "source": [
        "# Pendencia geral"
      ]
    },
    {
      "cell_type": "code",
      "execution_count": 150,
      "metadata": {
        "id": "YoDWXIOQneYO"
      },
      "outputs": [],
      "source": [
        "pendencias_geral = pd.read_excel(caminho_pend_geral)"
      ]
    },
    {
      "cell_type": "code",
      "execution_count": 151,
      "metadata": {
        "colab": {
          "base_uri": "https://localhost:8080/"
        },
        "id": "bpySQbrYXNmV",
        "outputId": "f456d55d-360c-4e47-ac6b-622359dca4ef"
      },
      "outputs": [
        {
          "data": {
            "text/plain": [
              "<bound method NDFrame.head of                                  Nome 1  Cliente  Doc.vendas  Criado em  Item  \\\n",
              "0       3EX COM DE PROD. INFORM.LTDA ME     3117      198105 2023-09-05    20   \n",
              "1       3EX COM DE PROD. INFORM.LTDA ME     3117      198105 2023-09-05   100   \n",
              "2       3EX COM DE PROD. INFORM.LTDA ME     3117      199703 2023-10-31    10   \n",
              "3       3EX COM DE PROD. INFORM.LTDA ME     3117      201382 2024-01-18   110   \n",
              "4       3EX COM DE PROD. INFORM.LTDA ME     3117      201575 2024-01-29    50   \n",
              "..                                  ...      ...         ...        ...   ...   \n",
              "534          WBL GRAFICA E EDITORA LTDA    10113    50190226 2024-04-08    10   \n",
              "535          WBL GRAFICA E EDITORA LTDA    10113    50190226 2024-04-08    30   \n",
              "536          WBL GRAFICA E EDITORA LTDA    10113    50190226 2024-04-08    40   \n",
              "537          WBL GRAFICA E EDITORA LTDA    10113    50190809 2024-04-18    10   \n",
              "538  WITTE COMERCIO E SERVICOS GRAFICOS     2873    50179218 2023-08-30    10   \n",
              "\n",
              "       Material               Denominação Tipo material Centro  \\\n",
              "0    A50U510200                     CHAPA          PCPS   CE13   \n",
              "1    A4EUR71511                      ROLO          PCPS   CE13   \n",
              "2    A5AWR71600  CONJUNTO DE MOVIMENTAÇÃO          PCPS   CE13   \n",
              "3    A0EDM50100             FOTO REFLETOR          PCPS   CE13   \n",
              "4    A0EDM50100             FOTO REFLETOR          PCPS   CE13   \n",
              "..          ...                       ...           ...    ...   \n",
              "534  A5AW417000           ENGRENAGEM 14 D          PCPS   CE11   \n",
              "535  A5AW417800     EIXO DE TRASMISSÃO /K          PCPS   CE11   \n",
              "536   56UA77700    ENGRENAGEM A 45 DENTES          PCPS   CE11   \n",
              "537  A11PM10200                     MOTOR          PCPS   CE11   \n",
              "538  A9VP740100                      ROLO          PCPS   CE11   \n",
              "\n",
              "     Quantidade da ordem  Qtd.confirm.acumul.  Qtd.pendente Unidade venda  \\\n",
              "0                      6                    0             6            PÇ   \n",
              "1                      2                    0             2            PÇ   \n",
              "2                      1                    0             1            PÇ   \n",
              "3                      1                    0             1            PÇ   \n",
              "4                     10                    1             9            PÇ   \n",
              "..                   ...                  ...           ...           ...   \n",
              "534                    1                    0             1            PÇ   \n",
              "535                    1                    0             1            PÇ   \n",
              "536                    1                    0             1            PÇ   \n",
              "537                    1                    0             1            PÇ   \n",
              "538                    1                    0             1            PÇ   \n",
              "\n",
              "    Data de remessa                        Criado por           Canal  \\\n",
              "0        2023-12-04                   ROBERTA MACHADO  VENDA INDIRETA   \n",
              "1        2023-12-04                   ROBERTA MACHADO  VENDA INDIRETA   \n",
              "2        2024-01-29                   ROBERTA MACHADO  VENDA INDIRETA   \n",
              "3        2024-04-17                   ROBERTA MACHADO  VENDA INDIRETA   \n",
              "4        2024-04-28                         ANA PAULA  VENDA INDIRETA   \n",
              "..              ...                               ...             ...   \n",
              "534      2024-07-07  REGILENE DE CASSIA LUIZ OLIVEIRA             NaN   \n",
              "535      2024-07-07  REGILENE DE CASSIA LUIZ OLIVEIRA             NaN   \n",
              "536      2024-07-07  REGILENE DE CASSIA LUIZ OLIVEIRA             NaN   \n",
              "537      2024-07-17  REGILENE DE CASSIA LUIZ OLIVEIRA             NaN   \n",
              "538      2023-11-28             JESSIE OLIVEIRA SILVA    VENDA DIRETA   \n",
              "\n",
              "    Classificação  \n",
              "0          REV VI  \n",
              "1          REV VI  \n",
              "2          REV VI  \n",
              "3          REV VI  \n",
              "4          REV VI  \n",
              "..            ...  \n",
              "534    CLIENTE SP  \n",
              "535    CLIENTE SP  \n",
              "536    CLIENTE SP  \n",
              "537    CLIENTE SP  \n",
              "538    CLIENTE SP  \n",
              "\n",
              "[539 rows x 17 columns]>"
            ]
          },
          "execution_count": 151,
          "metadata": {},
          "output_type": "execute_result"
        }
      ],
      "source": [
        "pendencias_geral.head"
      ]
    },
    {
      "cell_type": "code",
      "execution_count": 152,
      "metadata": {
        "colab": {
          "base_uri": "https://localhost:8080/"
        },
        "id": "tUlLUsv_nt9O",
        "outputId": "ba253d33-cd8f-49c5-d91d-89298c47b9e6"
      },
      "outputs": [
        {
          "data": {
            "text/plain": [
              "Index(['Nome 1', 'Cliente', 'Doc.vendas', 'Criado em', 'Item', 'Material',\n",
              "       'Denominação', 'Tipo material', 'Centro', 'Quantidade da ordem',\n",
              "       'Qtd.confirm.acumul.', 'Qtd.pendente', 'Unidade venda',\n",
              "       'Data de remessa', 'Criado por', 'Canal', 'Classificação'],\n",
              "      dtype='object')"
            ]
          },
          "execution_count": 152,
          "metadata": {},
          "output_type": "execute_result"
        }
      ],
      "source": [
        "pendencias_geral.columns"
      ]
    },
    {
      "cell_type": "code",
      "execution_count": 153,
      "metadata": {
        "colab": {
          "base_uri": "https://localhost:8080/"
        },
        "id": "RhCXEkBkn-IH",
        "outputId": "f71c9638-eee3-4d8f-a585-c958c53df495"
      },
      "outputs": [
        {
          "name": "stdout",
          "output_type": "stream",
          "text": [
            "            Pendências Gerais\n",
            "Material                     \n",
            "00VC200                     1\n",
            "00VD1000                    1\n",
            "12EJ41370                   2\n",
            "12QR12190                   1\n",
            "13GG15111                   3\n",
            "...                       ...\n",
            "ACM1M70100                  1\n",
            "ACM1PP6900                  1\n",
            "DA7A01505X                  1\n",
            "V217050003                 20\n",
            "V223200017                  2\n",
            "\n",
            "[447 rows x 1 columns]\n"
          ]
        }
      ],
      "source": [
        "\n",
        "tabela_dinamica_pendente = pd.pivot_table(pendencias_geral, values='Qtd.pendente', index='Material', aggfunc='sum', fill_value=0)\n",
        "\n",
        "tabela_dinamica_pendente = tabela_dinamica_pendente.rename(columns={'Qtd.pendente': 'Pendências Gerais'})\n",
        "\n",
        "print(tabela_dinamica_pendente)\n",
        "\n"
      ]
    },
    {
      "cell_type": "markdown",
      "metadata": {
        "id": "1Koc5JwAlIsj"
      },
      "source": [
        "# zstok"
      ]
    },
    {
      "cell_type": "code",
      "execution_count": 154,
      "metadata": {
        "id": "vjBPjqgdp6aB"
      },
      "outputs": [],
      "source": [
        "zstok = pd.read_excel(caminho_zstok)"
      ]
    },
    {
      "cell_type": "code",
      "execution_count": 155,
      "metadata": {
        "colab": {
          "base_uri": "https://localhost:8080/"
        },
        "id": "J9xNs_oIqE63",
        "outputId": "16958948-75a0-46b6-bb08-80f5ffb652f6"
      },
      "outputs": [
        {
          "data": {
            "text/plain": [
              "Index(['Tipo de material', 'Material', 'Descrição', 'UMB', 'Cen.', 'Dep.',\n",
              "       'Pos.dpst.', 'Utiliz.livre', 'Contr.qualid.', 'Transf.dep.',\n",
              "       'Transfer.(centro)', 'Bloqueado', 'Estoque Total', 'Reservado',\n",
              "       'Remessa->Cliente', 'SC', 'Status todos centros', 'SV',\n",
              "       'Status vendas'],\n",
              "      dtype='object')"
            ]
          },
          "execution_count": 155,
          "metadata": {},
          "output_type": "execute_result"
        }
      ],
      "source": [
        "zstok.columns"
      ]
    },
    {
      "cell_type": "code",
      "execution_count": 156,
      "metadata": {
        "colab": {
          "base_uri": "https://localhost:8080/"
        },
        "id": "5oKNJqiQqXW4",
        "outputId": "21a2b91e-4612-448e-e6e9-c1198a880375"
      },
      "outputs": [
        {
          "name": "stdout",
          "output_type": "stream",
          "text": [
            "Cen.        CE01_zstok  CE02_zstok  CE03_zstok  CE04_zstok  CE05_zstok  \\\n",
            "Material                                                                 \n",
            "13QER70400           0           0           0           0           1   \n",
            "20AA15140            0           0           0           0           3   \n",
            "20AAR70600           0           0           0           0           0   \n",
            "25SA40960            0           0           0           0          97   \n",
            "26AA53150           10           0           0           0           1   \n",
            "...                ...         ...         ...         ...         ...   \n",
            "AC0CR70622           0           0           0           0           0   \n",
            "AC0CR71111           0           0           0           0           3   \n",
            "V151020603           0           0           0           0           0   \n",
            "V226030050           0           0           0           0           0   \n",
            "Z907284300           0           0           0           0           0   \n",
            "\n",
            "Cen.        CE06_zstok  CE07_zstok  CE08_zstok  CE09_zstok  CE10_zstok  \\\n",
            "Material                                                                 \n",
            "13QER70400           0           0           0           0           0   \n",
            "20AA15140            0           1           0           3           0   \n",
            "20AAR70600           0           0           0           0           0   \n",
            "25SA40960            0         123           0          67           0   \n",
            "26AA53150            0           2           0           2           0   \n",
            "...                ...         ...         ...         ...         ...   \n",
            "AC0CR70622           0           0           0           0           0   \n",
            "AC0CR71111           0           0           0           0           0   \n",
            "V151020603           0           0           0           0           0   \n",
            "V226030050           0           0           0           0           0   \n",
            "Z907284300           0           0           0           0           0   \n",
            "\n",
            "Cen.        CE11_zstok  CE13_zstok  \n",
            "Material                            \n",
            "13QER70400           0           0  \n",
            "20AA15140            0           0  \n",
            "20AAR70600           0           0  \n",
            "25SA40960          253          97  \n",
            "26AA53150            5          23  \n",
            "...                ...         ...  \n",
            "AC0CR70622           0           0  \n",
            "AC0CR71111           1           0  \n",
            "V151020603           0           0  \n",
            "V226030050           0           0  \n",
            "Z907284300           0           0  \n",
            "\n",
            "[144 rows x 12 columns]\n"
          ]
        }
      ],
      "source": [
        "# Criar a tabela dinâmica mantendo 'Cen.' como texto\n",
        "tabela_dinamica_zstok = pd.pivot_table(zstok, values='Utiliz.livre', index='Material', columns='Cen.', aggfunc='sum', fill_value=0)\n",
        "\n",
        "tabela_dinamica_zstok = tabela_dinamica_zstok.add_suffix('_zstok')\n",
        "\n",
        "\n",
        "# Exibir a tabela dinâmica\n",
        "print(tabela_dinamica_zstok)"
      ]
    },
    {
      "cell_type": "code",
      "execution_count": 157,
      "metadata": {
        "colab": {
          "base_uri": "https://localhost:8080/"
        },
        "id": "LZin8zUcqj6R",
        "outputId": "1c9badb8-038a-45a2-c3c7-898bb74e63ae"
      },
      "outputs": [
        {
          "name": "stdout",
          "output_type": "stream",
          "text": [
            "            Contr.qualid.\n",
            "Material                 \n",
            "13QER70400              0\n",
            "20AA15140               3\n",
            "20AAR70600              0\n",
            "25SA40960              24\n",
            "26AA53150              41\n",
            "...                   ...\n",
            "AC0CR70622              0\n",
            "AC0CR71111              2\n",
            "V151020603              0\n",
            "V226030050              0\n",
            "Z907284300              0\n",
            "\n",
            "[144 rows x 1 columns]\n"
          ]
        }
      ],
      "source": [
        "tabela_dinamica_zstok_qualidade = pd.pivot_table(zstok, values='Contr.qualid.', index='Material', aggfunc='sum', fill_value=0)\n",
        "\n",
        "# Exibir a tabela dinâmica\n",
        "print(tabela_dinamica_zstok_qualidade)"
      ]
    },
    {
      "cell_type": "markdown",
      "metadata": {
        "id": "oyZA1kH0lKbC"
      },
      "source": [
        "# fup\n"
      ]
    },
    {
      "cell_type": "code",
      "execution_count": 158,
      "metadata": {
        "id": "X97OK4fSq87_"
      },
      "outputs": [],
      "source": [
        "fup = pd.read_excel(caminho_fup)"
      ]
    },
    {
      "cell_type": "code",
      "execution_count": 159,
      "metadata": {
        "colab": {
          "base_uri": "https://localhost:8080/"
        },
        "id": "mAwSMckrrGZ3",
        "outputId": "31a93d06-cb28-4594-b0c7-9d1e8e28aeeb"
      },
      "outputs": [
        {
          "data": {
            "text/plain": [
              "Index(['Nº Sequência do Embarque', 'Nº do Pedido', 'Data Pedido', 'Centro',\n",
              "       'Depósito', 'Pos.Dep.MM', 'Pos.Dep.WM', 'Cod. Fornecedor',\n",
              "       'Nome Fornecedor', 'Item', 'Saldo Pedido', 'UMP', 'UMP.1', 'UMP.2',\n",
              "       'Material', 'Texto Breve', 'Qtde Pedido', 'Vl. Total Pedido', 'Moeda',\n",
              "       'Data de Remessa', 'Data Estatística', 'Sua Referência',\n",
              "       'Nossa Referência', 'Embarque', 'Meio de Transporte', 'Meio Embarque',\n",
              "       'Nº do Conhecimento', 'Data do BL', 'Data de Chegada', 'Declaração',\n",
              "       'Dt.Registro', 'Dt.Desembaraço', 'Qtde. Desembarcada',\n",
              "       'Referência de Fatura', 'Data da Fatura', 'Valor da Fatura',\n",
              "       'Data Prev.Entrada', 'Dt. Recebimento', 'Recebimento', 'Peso Líquido',\n",
              "       'Un', 'Cód.NCM', 'Fabricante', 'Num.conversão', 'Qtd.Ped.UMB',\n",
              "       'TipoMat', 'Data total'],\n",
              "      dtype='object')"
            ]
          },
          "execution_count": 159,
          "metadata": {},
          "output_type": "execute_result"
        }
      ],
      "source": [
        "fup.columns"
      ]
    },
    {
      "cell_type": "code",
      "execution_count": 160,
      "metadata": {
        "colab": {
          "base_uri": "https://localhost:8080/"
        },
        "id": "ZQLPORuFrZqq",
        "outputId": "cb049f34-4631-4599-cc28-d437693cb6f6"
      },
      "outputs": [
        {
          "name": "stdout",
          "output_type": "stream",
          "text": [
            "MesAno      Aug/24  Jul/24  Jun/24  May/24  Sep/24\n",
            "Material                                          \n",
            "20AA15140        0       2       1       0       1\n",
            "20AAR70600       0       2       1       0       1\n",
            "25SA40960        0      15      12       0      21\n",
            "26AA53150        0       0       0       0       1\n",
            "55TA84561E       0       0       2       0       0\n",
            "...            ...     ...     ...     ...     ...\n",
            "AC0C750300       0       0      12       0       0\n",
            "AC0CM40401       0       2       0       0       0\n",
            "AC0CR70211       0       0       1       0       0\n",
            "AC0CR70622       0       0       2       0       0\n",
            "AC0CR71111       0       1       0       0       1\n",
            "\n",
            "[82 rows x 5 columns]\n"
          ]
        }
      ],
      "source": [
        "\n",
        "# Selecione apenas as colunas relevantes do DataFrame 'fup'\n",
        "fup_relevantes = fup[['Material', 'Qtde Pedido', 'Data total']].copy()\n",
        "\n",
        "# Converter 'Data de Remessa' para datetime\n",
        "fup_relevantes['Data total'] = pd.to_datetime(fup_relevantes['Data total'], errors='coerce')\n",
        "\n",
        "# Criar uma nova coluna 'MesAno' no formato desejado\n",
        "fup_relevantes['MesAno'] = fup_relevantes['Data total'].dt.strftime('%b/%y')\n",
        "\n",
        "# Criar a tabela dinâmica\n",
        "tabela_dinamica_fup = pd.pivot_table(fup_relevantes, values='Qtde Pedido', index='Material', columns='MesAno', aggfunc='sum', fill_value=0)\n",
        "\n",
        "# Exibir a tabela dinâmica\n",
        "print(tabela_dinamica_fup)\n",
        "\n"
      ]
    },
    {
      "cell_type": "code",
      "execution_count": 161,
      "metadata": {
        "colab": {
          "base_uri": "https://localhost:8080/"
        },
        "id": "IhIEyqhitIuj",
        "outputId": "2d90990f-ae67-44d7-c3c2-1227883fe931"
      },
      "outputs": [
        {
          "name": "stdout",
          "output_type": "stream",
          "text": [
            "Index(['20AA15140', '20AAR70600', '25SA40960', '26AA53150', '55TA84561E',\n",
            "       '55VA40230', '56AA12270', '56AA17140', '56UA40700', '56UA760900',\n",
            "       '65AA26750', 'A03U712100', 'A03W123100', 'A03X565400', 'A0ED700300',\n",
            "       'A0G6377400', 'A0G6510700', 'A0GD619300', 'A0GD619401', 'A0GE210500',\n",
            "       'A143563100', 'A161230700', 'A161702200', 'A1RF229800', 'A1RF414900',\n",
            "       'A1RF502400', 'A1RF508900', 'A1RF758100', 'A1RF819100', 'A21ER70400',\n",
            "       'A3CFPP4H00', 'A4EU378200', 'A4EU715400', 'A4EUR70K00', 'A4EUR71511',\n",
            "       'A4F3702312', 'A4F3703000', 'A50U505500', 'A50U505601', 'A50U505700',\n",
            "       'A50U505800', 'A50U507900', 'A50U517300', 'A50UN14001', 'A50UR72100',\n",
            "       'A55C632800', 'A5AW229700', 'A5AW417000', 'A5AW818102', 'A5AW818202',\n",
            "       'A5AW818301', 'A5AW835600', 'A5AWM10201', 'A5AWM15200', 'A5AWM31E00',\n",
            "       'A5AWR70444', 'A5AWR71300', 'A5AWR71R11', 'A64J564201', 'A782160101',\n",
            "       'A7PU596100', 'A85CM31E00', 'A85CR70G22', 'A92WR70611', 'A9CE817800',\n",
            "       'A9CE822900', 'A9CER70700', 'A9JT500100', 'A9JT810400', 'A9JTM10300',\n",
            "       'A9VP634400', 'A9VPR70455', 'AA7N591100', 'AAJNR71200', 'AAJRM71000',\n",
            "       'AAJRR70500', 'AC0C510600', 'AC0C750300', 'AC0CM40401', 'AC0CR70211',\n",
            "       'AC0CR70622', 'AC0CR71111'],\n",
            "      dtype='object', name='Material')\n"
          ]
        }
      ],
      "source": [
        "# Exibir apenas a coluna 'Material' da tabela dinâmica\n",
        "coluna_material = tabela_dinamica_fup.index\n",
        "print(coluna_material)\n"
      ]
    },
    {
      "cell_type": "markdown",
      "metadata": {
        "id": "yDYT1LOElM9z"
      },
      "source": [
        "\n",
        "\n",
        "> Bloco com recuo\n",
        "\n"
      ]
    },
    {
      "cell_type": "markdown",
      "metadata": {
        "id": "0XgTbAT2JGgy"
      },
      "source": [
        "# ZTMM069"
      ]
    },
    {
      "cell_type": "code",
      "execution_count": 162,
      "metadata": {
        "id": "8Z_5A-snLYfW"
      },
      "outputs": [],
      "source": [
        "fob = pd.read_excel(caminho_fob)"
      ]
    },
    {
      "cell_type": "code",
      "execution_count": 163,
      "metadata": {
        "colab": {
          "base_uri": "https://localhost:8080/"
        },
        "id": "H_qd-HWALkIh",
        "outputId": "516748d8-db9e-4597-9c78-d8324a631428"
      },
      "outputs": [
        {
          "data": {
            "text/plain": [
              "<bound method NDFrame.head of        Material                    Descrição (PT)  \\\n",
              "0    9335191052                       INTERRUPTOR   \n",
              "1    13QER70400             CONJUNTO DE SOLENOÍDE   \n",
              "2     20AA15140                      CABO  DE AÇO   \n",
              "3    20AAR70600                          LIMPADOR   \n",
              "4     25SA40960                          BORRACHA   \n",
              "..          ...                               ...   \n",
              "137  AC0CR70211  CONJUNTO DE ALIMENTAÇÃO DE PAPEL   \n",
              "138  AC0CR70622           CONJUNTO CAIXA COLETORA   \n",
              "139  AC0CR71111              CONJUNTO DE REGISTRO   \n",
              "140  V151020603                          PARAFUSO   \n",
              "141  V226030050                           CS RING   \n",
              "\n",
              "                    Descrição (EN)  Fornecedor    Nome do fornecedor  \\\n",
              "0               SOLID STATE SWITCH       30194  MARUBENI CORPORATION   \n",
              "1         PAPER EXIT SOLENOID ASSY       30194  MARUBENI CORPORATION   \n",
              "2             DRIVE UP DOWN WIRE C       30194  MARUBENI CORPORATION   \n",
              "3               PAPER FEED CLEANER       30194  MARUBENI CORPORATION   \n",
              "4    DOUBLE FEED PREVENTION RUBBER       30194  MARUBENI CORPORATION   \n",
              "..                             ...         ...                   ...   \n",
              "137                Belt Drive Assy       30194  MARUBENI CORPORATION   \n",
              "138          TONER COLLECTION ASSY       30194  MARUBENI CORPORATION   \n",
              "139    IDC Color Registration Assy       30194  MARUBENI CORPORATION   \n",
              "140                          screw       30194  MARUBENI CORPORATION   \n",
              "141                        CS-RING       30194  MARUBENI CORPORATION   \n",
              "\n",
              "     Montante Unid.  por  Vál.desde  TMat  ... Aplicação Pr GME  \\\n",
              "0        4.94   USD    1 2018-05-04  PCPS  ...         C352  MC   \n",
              "1        9.04   USD    1 2018-05-28  PCPS  ...        C6501  PC   \n",
              "2        2.72   USD    1 2018-05-16  PCPS  ...        C70HC  PC   \n",
              "3        3.58   USD    1 2018-05-16  PCPS  ...        C70HC  PC   \n",
              "4        7.06   USD   10 2018-04-11  PCPS  ...          751  MP   \n",
              "..        ...   ...  ...        ...   ...  ...          ...  ..   \n",
              "137    227.95   USD    1 2020-05-07  PCPS  ...          NaN  PC   \n",
              "138    162.20   USD    1 2023-08-17  PCPS  ...          NaN  PC   \n",
              "139    192.33   USD    1 2020-01-09  PCPS  ...          NaN  PC   \n",
              "140      4.71   USD  100 2018-04-11  PCPS  ...       C6501P  PC   \n",
              "141      4.71   USD  100 2018-04-11  PCPS  ...          501  PC   \n",
              "\n",
              "               GrMerc.Ext  SM Status  Vál.desde.1  Criado em  Criado por  \\\n",
              "0    Multifuncional Color NaN    NaN          NaN 2008-01-31    ALMOXSP1   \n",
              "1             PP Colorida NaN    NaN          NaN 2008-01-30    ALMOXSP1   \n",
              "2             PP Colorida NaN    NaN          NaN 2008-01-30    ALMOXSP1   \n",
              "3             PP Colorida NaN    NaN          NaN 2008-01-30    ALMOXSP1   \n",
              "4      Multifuncional P&B NaN    NaN          NaN 2005-09-28    ALMOXSP2   \n",
              "..                    ...  ..    ...          ...        ...         ...   \n",
              "137           PP Colorida NaN    NaN          NaN 2020-05-07   SSAKAGAWA   \n",
              "138           PP Colorida NaN    NaN          NaN 2023-08-17      CSILVA   \n",
              "139           PP Colorida NaN    NaN          NaN 2020-01-09   SSAKAGAWA   \n",
              "140           PP Colorida NaN    NaN          NaN 2012-02-03        LUIZ   \n",
              "141           PP Colorida NaN    NaN          NaN 2012-02-03        LUIZ   \n",
              "\n",
              "      ÚltModif  Modif.por  \n",
              "0   2023-07-11    VANESSA  \n",
              "1   2024-04-02     PNUNES  \n",
              "2   2024-05-10     CSILVA  \n",
              "3   2021-01-21  SSAKAGAWA  \n",
              "4   2024-05-10     CSILVA  \n",
              "..         ...        ...  \n",
              "137 2024-04-29     CSILVA  \n",
              "138 2023-09-26  SSAKAGAWA  \n",
              "139 2023-12-28  MYAMAMOTO  \n",
              "140 2023-09-26  SSAKAGAWA  \n",
              "141 2023-09-26  SSAKAGAWA  \n",
              "\n",
              "[142 rows x 33 columns]>"
            ]
          },
          "execution_count": 163,
          "metadata": {},
          "output_type": "execute_result"
        }
      ],
      "source": [
        "fob.head"
      ]
    },
    {
      "cell_type": "code",
      "execution_count": 164,
      "metadata": {
        "colab": {
          "base_uri": "https://localhost:8080/"
        },
        "id": "1lTXKItfLyxm",
        "outputId": "959a436b-6a95-4ac4-adfe-af16c5b3e86b"
      },
      "outputs": [
        {
          "data": {
            "text/plain": [
              "Index(['Material', 'Descrição (PT)', 'Descrição (EN)', 'Fornecedor',\n",
              "       'Nome do fornecedor', 'Montante', 'Unid.', 'por', 'Vál.desde', 'TMat',\n",
              "       'Tipo Mat', 'SA', 'Setor de atividade', 'GrpMercads.',\n",
              "       'Grupo de mercadorias', 'BU', 'KMI Business Unit', 'PS',\n",
              "       'KMI Print Size', 'C/B', 'KMI Color/BW', 'Printing Speed',\n",
              "       'KMI Develop Name', 'Aplicação Pr', 'GME', 'GrMerc.Ext', 'SM', 'Status',\n",
              "       'Vál.desde.1', 'Criado em', 'Criado por', 'ÚltModif', 'Modif.por'],\n",
              "      dtype='object')"
            ]
          },
          "execution_count": 164,
          "metadata": {},
          "output_type": "execute_result"
        }
      ],
      "source": [
        "fob.columns"
      ]
    },
    {
      "cell_type": "code",
      "execution_count": 165,
      "metadata": {
        "colab": {
          "base_uri": "https://localhost:8080/"
        },
        "id": "QlnxxjAfL4H3",
        "outputId": "268cac4f-b0bf-4e26-e2d9-4be9cdd9b585"
      },
      "outputs": [
        {
          "name": "stdout",
          "output_type": "stream",
          "text": [
            "            Montante\n",
            "Material            \n",
            "13QER70400      9.04\n",
            "20AA15140       2.72\n",
            "20AAR70600      3.58\n",
            "25SA40960       7.06\n",
            "26AA53150       8.00\n",
            "...              ...\n",
            "AC0CR70211    227.95\n",
            "AC0CR70622    162.20\n",
            "AC0CR71111    192.33\n",
            "V151020603      4.71\n",
            "V226030050      4.71\n",
            "\n",
            "[142 rows x 1 columns]\n"
          ]
        }
      ],
      "source": [
        "# Criar a tabela dinâmica mantendo 'Cen.' como texto\n",
        "tabela_dinamica_fob = pd.pivot_table(fob, values='Montante', index='Material', aggfunc='sum', fill_value=0)\n",
        "\n",
        "# Exibir a tabela dinâmica\n",
        "print(tabela_dinamica_fob)"
      ]
    },
    {
      "cell_type": "markdown",
      "metadata": {
        "id": "NVf1Tr1JJKSB"
      },
      "source": [
        "# ZTMM085\n"
      ]
    },
    {
      "cell_type": "code",
      "execution_count": 166,
      "metadata": {
        "id": "3cxwZD7CMJ1v"
      },
      "outputs": [],
      "source": [
        "pecas = pd.read_excel(caminho_pecas)"
      ]
    },
    {
      "cell_type": "code",
      "execution_count": 167,
      "metadata": {
        "colab": {
          "base_uri": "https://localhost:8080/"
        },
        "id": "rzzl0CqOMUQ1",
        "outputId": "ca909e3f-f61f-42b3-8ed5-42ed6dbe703f"
      },
      "outputs": [
        {
          "data": {
            "text/plain": [
              "<bound method NDFrame.head of                Material                                 Descrição  \\\n",
              "0    000000009335191052                               INTERRUPTOR   \n",
              "1            13QER70400                     CONJUNTO DE SOLENOÍDE   \n",
              "2             20AA15140                              CABO  DE AÇO   \n",
              "3            20AAR70600                                  LIMPADOR   \n",
              "4             25SA40960                                  BORRACHA   \n",
              "..                  ...                                       ...   \n",
              "139          AC0CR70622                   CONJUNTO CAIXA COLETORA   \n",
              "140          AC0CR71111                      CONJUNTO DE REGISTRO   \n",
              "141          V151020603                                  PARAFUSO   \n",
              "142          V226030050                                   CS ring   \n",
              "143          Z907284300  UNIDADE CIS - LEITOR DE IMAGEM HN12H-X03   \n",
              "\n",
              "    Tipo material          Txt Tipo material GrpMerc    Denom. Grupo Merc.  \\\n",
              "0            PCPS  Produto Coml-Peça-SPO/MAO      50                 Parts   \n",
              "1            PCPS  Produto Coml-Peça-SPO/MAO      50                 Parts   \n",
              "2            PCPS  Produto Coml-Peça-SPO/MAO      50                 Parts   \n",
              "3            PCPS  Produto Coml-Peça-SPO/MAO      50                 Parts   \n",
              "4            PCPS  Produto Coml-Peça-SPO/MAO      50                 Parts   \n",
              "..            ...                        ...     ...                   ...   \n",
              "139          PCPS  Produto Coml-Peça-SPO/MAO      50                 Parts   \n",
              "140          PCPS  Produto Coml-Peça-SPO/MAO      50                 Parts   \n",
              "141          PCPS  Produto Coml-Peça-SPO/MAO      50                 Parts   \n",
              "142          PCPS  Produto Coml-Peça-SPO/MAO      50                 Parts   \n",
              "143          PCPS  Produto Coml-Peça-SPO/MAO    MUBP  Murata NonHW BW:Part   \n",
              "\n",
              "     Stat.centros  Status p/todos centros  Stat.canais Status p/todos canais  \\\n",
              "0             NaN                     NaN          NaN                   NaN   \n",
              "1             NaN                     NaN          NaN                   NaN   \n",
              "2             NaN                     NaN          NaN                   NaN   \n",
              "3             NaN                     NaN          NaN                   NaN   \n",
              "4             NaN                     NaN          NaN                   NaN   \n",
              "..            ...                     ...          ...                   ...   \n",
              "139           NaN                     NaN          NaN                   NaN   \n",
              "140           NaN                     NaN          NaN                   NaN   \n",
              "141           NaN                     NaN          NaN                   NaN   \n",
              "142           NaN                     NaN          NaN                   NaN   \n",
              "143           NaN                     NaN          NaN                   NaN   \n",
              "\n",
              "                                 Modelos Lista Técnica  \n",
              "0    BIZHUB C452/BIZHUB C652/DF-608/DF-610/DF-611/D...  \n",
              "1    FS-504/FS-505/FS-509/FS-513/FS-517/FS-531/FS-6...  \n",
              "2                                LT-211/LU-202/LU-202M  \n",
              "3    LT-211/LU-202/LU-202M/LU-202XL/LU-202XLM/LU-208XL  \n",
              "4    7255/7272/8050/ACCURIOPRESS C2060/ACCURIOPRESS...  \n",
              "..                                                 ...  \n",
              "139                                ACCURIOPRESS C14000  \n",
              "140                                ACCURIOPRESS C14000  \n",
              "141  ACCURIOLABEL 190/BIZHUB PRESS C71CF/ACCURIOLAB...  \n",
              "142  ACCURIOPRESS 6136P/ACCURIOPRESS 7136P/ACCURIOP...  \n",
              "143                                                NaN  \n",
              "\n",
              "[144 rows x 11 columns]>"
            ]
          },
          "execution_count": 167,
          "metadata": {},
          "output_type": "execute_result"
        }
      ],
      "source": [
        "pecas.head"
      ]
    },
    {
      "cell_type": "code",
      "execution_count": 168,
      "metadata": {
        "colab": {
          "base_uri": "https://localhost:8080/"
        },
        "id": "Jmt1fwl5MX1e",
        "outputId": "8f41556a-8fdd-41ff-dd21-ce5a872001a9"
      },
      "outputs": [
        {
          "data": {
            "text/plain": [
              "Index(['Material', 'Descrição', 'Tipo material', 'Txt Tipo material',\n",
              "       'GrpMerc', 'Denom. Grupo Merc.', 'Stat.centros',\n",
              "       'Status p/todos centros', 'Stat.canais', 'Status p/todos canais',\n",
              "       'Modelos Lista Técnica'],\n",
              "      dtype='object')"
            ]
          },
          "execution_count": 168,
          "metadata": {},
          "output_type": "execute_result"
        }
      ],
      "source": [
        "pecas.columns"
      ]
    },
    {
      "cell_type": "code",
      "execution_count": 169,
      "metadata": {
        "colab": {
          "base_uri": "https://localhost:8080/"
        },
        "id": "dcXHkX_sMaZN",
        "outputId": "71e35be8-b16f-4a58-da73-53aa21222936"
      },
      "outputs": [
        {
          "name": "stdout",
          "output_type": "stream",
          "text": [
            "                                                Modelos Lista Técnica\n",
            "Material                                                             \n",
            "000000009335191052  BIZHUB C452/BIZHUB C652/DF-608/DF-610/DF-611/D...\n",
            "13QER70400          FS-504/FS-505/FS-509/FS-513/FS-517/FS-531/FS-6...\n",
            "20AA15140                                       LT-211/LU-202/LU-202M\n",
            "20AAR70600          LT-211/LU-202/LU-202M/LU-202XL/LU-202XLM/LU-208XL\n",
            "25SA40960           7255/7272/8050/ACCURIOPRESS C2060/ACCURIOPRESS...\n",
            "...                                                               ...\n",
            "AC0CR70622                                        ACCURIOPRESS C14000\n",
            "AC0CR71111                                        ACCURIOPRESS C14000\n",
            "V151020603          ACCURIOLABEL 190/BIZHUB PRESS C71CF/ACCURIOLAB...\n",
            "V226030050          ACCURIOPRESS 6136P/ACCURIOPRESS 7136P/ACCURIOP...\n",
            "Z907284300                                                          0\n",
            "\n",
            "[144 rows x 1 columns]\n"
          ]
        }
      ],
      "source": [
        "# Criar a tabela dinâmica mantendo 'Cen.' como texto\n",
        "tabela_dinamica_pecas = pd.pivot_table(pecas, values='Modelos Lista Técnica', index='Material', aggfunc='sum', fill_value=0)\n",
        "\n",
        "# Exibir a tabela dinâmica\n",
        "print(tabela_dinamica_pecas)"
      ]
    },
    {
      "cell_type": "markdown",
      "metadata": {
        "id": "TzPPMAA_jAuT"
      },
      "source": []
    },
    {
      "cell_type": "code",
      "execution_count": null,
      "metadata": {
        "id": "hSdvAHrgi_0y"
      },
      "outputs": [],
      "source": []
    },
    {
      "cell_type": "markdown",
      "metadata": {
        "id": "HBe_enGOjCLL"
      },
      "source": [
        "# codigos atuais"
      ]
    },
    {
      "cell_type": "code",
      "execution_count": 170,
      "metadata": {
        "id": "gGSI_oJ0jGK-"
      },
      "outputs": [],
      "source": [
        "atuais = pd.read_excel(caminho_atuais)"
      ]
    },
    {
      "cell_type": "code",
      "execution_count": 171,
      "metadata": {
        "colab": {
          "base_uri": "https://localhost:8080/"
        },
        "id": "Xw4mM0Rsk3SY",
        "outputId": "2adbef34-e3dc-4eef-abe3-dbcd59deb424"
      },
      "outputs": [
        {
          "data": {
            "text/plain": [
              "<bound method NDFrame.head of           Atual    Material    Similar1    Similar2 Similar3 Similar4\n",
              "0    13QER70400  13QER70400   13QE-4860           -        -        -\n",
              "1     20AA15140   20AA15140           -           -        -        -\n",
              "2    20AAR70600  20AAR70600   20AA-4550           -        -        -\n",
              "3     25SA40960   25SA40960           -           -        -        -\n",
              "4     26AA53150   26AA53150           -           -        -        -\n",
              "..          ...         ...         ...         ...      ...      ...\n",
              "139  AC0CR70622  AC0CR70622  AC0CR70611  AC0CR70600        -        -\n",
              "140  AC0CR71111  AC0CR71111           -           -        -        -\n",
              "141  V151020603  V151020603           -           -        -        -\n",
              "142  V226030050  V226030050           -           -        -        -\n",
              "143  Z907284300  Z907284300  Z90728430X           -        -        -\n",
              "\n",
              "[144 rows x 6 columns]>"
            ]
          },
          "execution_count": 171,
          "metadata": {},
          "output_type": "execute_result"
        }
      ],
      "source": [
        "atuais.head"
      ]
    },
    {
      "cell_type": "code",
      "execution_count": 172,
      "metadata": {
        "colab": {
          "base_uri": "https://localhost:8080/"
        },
        "id": "M93y7tkvlPyx",
        "outputId": "ae148223-39a9-455c-f97d-bae566a23b00"
      },
      "outputs": [
        {
          "data": {
            "text/plain": [
              "Index(['Atual', 'Material', 'Similar1', 'Similar2', 'Similar3', 'Similar4'], dtype='object')"
            ]
          },
          "execution_count": 172,
          "metadata": {},
          "output_type": "execute_result"
        }
      ],
      "source": [
        "atuais.columns"
      ]
    },
    {
      "cell_type": "code",
      "execution_count": 173,
      "metadata": {
        "colab": {
          "base_uri": "https://localhost:8080/"
        },
        "id": "Ym54xRgBrUo3",
        "outputId": "715a8115-9a14-4b78-e94e-f88a6a011379"
      },
      "outputs": [
        {
          "name": "stdout",
          "output_type": "stream",
          "text": [
            "          Atual    Material    Similar1    Similar2 Similar3 Similar4\n",
            "1     20AA15140   20AA15140           -           -        -        -\n",
            "2    20AAR70600  20AAR70600   20AA-4550           -        -        -\n",
            "3     25SA40960   25SA40960           -           -        -        -\n",
            "4     26AA53150   26AA53150           -           -        -        -\n",
            "5    55TA84561E  55TA84561E   55TA84561           -        -        -\n",
            "..          ...         ...         ...         ...      ...      ...\n",
            "136  AC0C750300  AC0C750300           -           -        -        -\n",
            "137  AC0CM40401  AC0CM40401           -           -        -        -\n",
            "138  AC0CR70211  AC0CR70211           -           -        -        -\n",
            "139  AC0CR70622  AC0CR70622  AC0CR70611  AC0CR70600        -        -\n",
            "140  AC0CR71111  AC0CR71111           -           -        -        -\n",
            "\n",
            "[82 rows x 6 columns]\n"
          ]
        }
      ],
      "source": [
        "resultados_filtrados = atuais[atuais['Atual'].isin(coluna_material)]\n",
        "\n",
        "tabela_resultados = pd.DataFrame(resultados_filtrados)\n",
        "\n",
        "# Exibir o novo DataFrame\n",
        "print(tabela_resultados)"
      ]
    },
    {
      "cell_type": "code",
      "execution_count": 174,
      "metadata": {
        "colab": {
          "base_uri": "https://localhost:8080/"
        },
        "id": "RgRZiVAF0gEO",
        "outputId": "b5c38326-6a25-493e-f817-6ae9433cefac"
      },
      "outputs": [
        {
          "name": "stdout",
          "output_type": "stream",
          "text": [
            "              Material    Similar1    Similar2 Similar3 Similar4\n",
            "Atual                                                           \n",
            "20AA15140    20AA15140           -           -        -        -\n",
            "20AAR70600  20AAR70600   20AA-4550           -        -        -\n",
            "25SA40960    25SA40960           -           -        -        -\n",
            "26AA53150    26AA53150           -           -        -        -\n",
            "55TA84561E  55TA84561E   55TA84561           -        -        -\n",
            "...                ...         ...         ...      ...      ...\n",
            "AC0C750300  AC0C750300           -           -        -        -\n",
            "AC0CM40401  AC0CM40401           -           -        -        -\n",
            "AC0CR70211  AC0CR70211           -           -        -        -\n",
            "AC0CR70622  AC0CR70622  AC0CR70611  AC0CR70600        -        -\n",
            "AC0CR71111  AC0CR71111           -           -        -        -\n",
            "\n",
            "[82 rows x 5 columns]\n"
          ]
        }
      ],
      "source": [
        "tabela_resultados = tabela_resultados.set_index(tabela_resultados.columns[0])\n",
        "\n",
        "# Exibir o novo DataFrame\n",
        "print(tabela_resultados)"
      ]
    },
    {
      "cell_type": "code",
      "execution_count": null,
      "metadata": {
        "id": "cmiqM9VUvbUM"
      },
      "outputs": [],
      "source": []
    },
    {
      "cell_type": "code",
      "execution_count": null,
      "metadata": {
        "id": "RvsAkUNDvbTI"
      },
      "outputs": [],
      "source": []
    },
    {
      "cell_type": "markdown",
      "metadata": {
        "id": "6xRNfQGJyK1v"
      },
      "source": [
        "# Classificação de peças"
      ]
    },
    {
      "cell_type": "code",
      "execution_count": 175,
      "metadata": {
        "id": "pdep8rVnyRQN"
      },
      "outputs": [],
      "source": [
        "classificacao = pd.read_excel(caminho_classificacao, sheet_name='consumable parts')"
      ]
    },
    {
      "cell_type": "code",
      "execution_count": 176,
      "metadata": {
        "colab": {
          "base_uri": "https://localhost:8080/"
        },
        "id": "Omok9dAmy4lN",
        "outputId": "af5895a3-ae25-40f9-81b9-4fce24a99223"
      },
      "outputs": [
        {
          "data": {
            "text/plain": [
              "<bound method NDFrame.head of           Código                                   Aplicação Modelo  \\\n",
              "0     A92WR70100                                              C6100   \n",
              "1     65AAR75600  8050/ C14000/ C6100/ C1085/ C1100/ C8000/ C500...   \n",
              "2     A1RF520400                 C14000/ C6100/ C1085/ C1100/ C8000   \n",
              "3     A1RF531600                                C6100/ C1085/ C1100   \n",
              "4     A1RF532800                 C14000/ C6100/ C1085/ C1100/ C8000   \n",
              "...          ...                                                ...   \n",
              "2070  AE1KR70200                                              7136P   \n",
              "2071  ADF2390800               6136P/ 7136P/ 2100/ 1250/ 1250P/ 951   \n",
              "2072  AE1KR70100                                              7136P   \n",
              "2073  AE1K670800                                              7136P   \n",
              "2074  AE1KR70600                                              7136P   \n",
              "\n",
              "       Cód.Atual   Similar1 Similar2 Similar3 Similar4 Similar5 Similar6  \\\n",
              "0     A92WR70100          -        -        -        -        -        -   \n",
              "1     65AAR75600  65AA-2930        -        -        -        -        -   \n",
              "2     A1RF520400          -        -        -        -        -        -   \n",
              "3     A1RF531600          -        -        -        -        -        -   \n",
              "4     A1RF532800       4109        -        -        -        -        -   \n",
              "...          ...        ...      ...      ...      ...      ...      ...   \n",
              "2070  AE1KR70200          -        -        -        -        -        -   \n",
              "2071  ADF2390800          -        -        -        -        -        -   \n",
              "2072  AE1KR70100          -        -        -        -        -        -   \n",
              "2073  AE1K670800          -        -        -        -        -        -   \n",
              "2074  AE1KR70600          -        -        -        -        -        -   \n",
              "\n",
              "     Similar7 Similar7.1 Durabilidade                     Unnamed: 12  \n",
              "0           -          -          Sim                   C6100 / C1100  \n",
              "1           -          -          Sim                   C6100 / C1100  \n",
              "2           -          -          Sim                   C6100 / C1100  \n",
              "3           -          -          Sim                   C6100 / C1100  \n",
              "4           -          -          Sim                   C6100 / C1100  \n",
              "...       ...        ...          ...                             ...  \n",
              "2070        -          -          Sim  Acrescentado 31.10.23 - Carlos  \n",
              "2071        -          -          Sim  Acrescentado 31.10.23 - Carlos  \n",
              "2072        -          -          Sim  Acrescentado 31.10.23 - Carlos  \n",
              "2073        -          -          Sim  Acrescentado 31.10.23 - Carlos  \n",
              "2074        -          -          Sim  Acrescentado 31.10.23 - Carlos  \n",
              "\n",
              "[2075 rows x 13 columns]>"
            ]
          },
          "execution_count": 176,
          "metadata": {},
          "output_type": "execute_result"
        }
      ],
      "source": [
        "classificacao.head"
      ]
    },
    {
      "cell_type": "code",
      "execution_count": 177,
      "metadata": {
        "colab": {
          "base_uri": "https://localhost:8080/"
        },
        "id": "8loQBBC8zmTC",
        "outputId": "22e5d1b2-8c42-4449-cebd-2df17c719ca6"
      },
      "outputs": [
        {
          "data": {
            "text/plain": [
              "Index(['Código', 'Aplicação Modelo', 'Cód.Atual', 'Similar1', 'Similar2',\n",
              "       'Similar3', 'Similar4', 'Similar5', 'Similar6', 'Similar7',\n",
              "       'Similar7.1', 'Durabilidade', 'Unnamed: 12'],\n",
              "      dtype='object')"
            ]
          },
          "execution_count": 177,
          "metadata": {},
          "output_type": "execute_result"
        }
      ],
      "source": [
        "classificacao.columns"
      ]
    },
    {
      "cell_type": "code",
      "execution_count": 178,
      "metadata": {
        "colab": {
          "base_uri": "https://localhost:8080/"
        },
        "id": "3DNnf2bLzhg6",
        "outputId": "d6daab57-3e78-4090-ee66-be3ee3d66a11"
      },
      "outputs": [
        {
          "name": "stdout",
          "output_type": "stream",
          "text": [
            "           Durabilidade\n",
            "Código                 \n",
            "4049521             Sim\n",
            "4049522             Sim\n",
            "4049524             Sim\n",
            "454053391           Sim\n",
            "454075040           Sim\n",
            "...                 ...\n",
            "AE1KR70600          Sim\n",
            "SP00-0210           Sim\n",
            "SP00-0220           Sim\n",
            "V218060086          Sim\n",
            "V234301250          Sim\n",
            "\n",
            "[1374 rows x 1 columns]\n"
          ]
        }
      ],
      "source": [
        "# Criar a tabela dinâmica mantendo 'Cen.' como texto\n",
        "tabela_dinamica_classificacao = pd.pivot_table(classificacao, values='Durabilidade', index='Código', aggfunc='first', fill_value=0)\n",
        "\n",
        "\n",
        "# Exibir a tabela dinâmica\n",
        "print(tabela_dinamica_classificacao)"
      ]
    },
    {
      "cell_type": "markdown",
      "metadata": {
        "id": "bivdLhPFuCnC"
      },
      "source": [
        "# juntando tabelas\n"
      ]
    },
    {
      "cell_type": "markdown",
      "metadata": {
        "id": "ZzgNa0NMw2Oe"
      },
      "source": [
        "juntando pendencias"
      ]
    },
    {
      "cell_type": "code",
      "execution_count": 179,
      "metadata": {
        "colab": {
          "base_uri": "https://localhost:8080/"
        },
        "id": "LI3Bn5znuKzn",
        "outputId": "8c0500c0-9782-485a-edcb-f5593a12b3fb"
      },
      "outputs": [
        {
          "name": "stdout",
          "output_type": "stream",
          "text": [
            "            CE04_zva70  CE05_zva70  CE10_zva70  CE11_zva70  CE13_zva70  \\\n",
            "Material                                                                 \n",
            "13QER70400           0           1           0           2           0   \n",
            "20AA15140            0           2           0           0           0   \n",
            "20AAR70600           0           1           0           0           0   \n",
            "25SA40960            0           0          40           0           0   \n",
            "26AA53150            0           0          20           0           0   \n",
            "...                ...         ...         ...         ...         ...   \n",
            "AC0CR70622           0           0           0           1           0   \n",
            "AC0CR71111           0           1           0           0           0   \n",
            "V151020603           0           0           0           3           0   \n",
            "V226030050           0           0           0           0           1   \n",
            "Z907284300           0           0           0           1           0   \n",
            "\n",
            "                                         Denominação  \\\n",
            "Material                                               \n",
            "13QER70400                     CONJUNTO DE SOLENOÍDE   \n",
            "20AA15140                               CABO  DE AÇO   \n",
            "20AAR70600                                  LIMPADOR   \n",
            "25SA40960                                   BORRACHA   \n",
            "26AA53150                                   ISOLANTE   \n",
            "...                                              ...   \n",
            "AC0CR70622                   CONJUNTO CAIXA COLETORA   \n",
            "AC0CR71111                      CONJUNTO DE REGISTRO   \n",
            "V151020603                                  PARAFUSO   \n",
            "V226030050                                   CS ring   \n",
            "Z907284300  UNIDADE CIS - LEITOR DE IMAGEM HN12H-X03   \n",
            "\n",
            "                                                   Criado por  \\\n",
            "Material                                                        \n",
            "13QER70400  REGILENE DE CASSIA LUIZ OLIVEIRA/JESSIE OLIVEI...   \n",
            "20AA15140                    REGILENE DE CASSIA LUIZ OLIVEIRA   \n",
            "20AAR70600                                    ROBERTA MACHADO   \n",
            "25SA40960                                         WILLIAM LUZ   \n",
            "26AA53150                                         WILLIAM LUZ   \n",
            "...                                                       ...   \n",
            "AC0CR70622                       NAYARA DA SILVA ALVES ABRAMO   \n",
            "AC0CR71111                   REGILENE DE CASSIA LUIZ OLIVEIRA   \n",
            "V151020603                   REGILENE DE CASSIA LUIZ OLIVEIRA   \n",
            "V226030050                                        CARLA SAKAI   \n",
            "Z907284300                   REGILENE DE CASSIA LUIZ OLIVEIRA   \n",
            "\n",
            "                                             Canal  Pendências Gerais  \n",
            "Material                                                               \n",
            "13QER70400  VENDA DIRETA/VENDA DIRETA/VENDA DIRETA                1.0  \n",
            "20AA15140                             VENDA DIRETA                3.0  \n",
            "20AAR70600                          VENDA INDIRETA                1.0  \n",
            "25SA40960                                      nan                0.0  \n",
            "26AA53150                                      nan                0.0  \n",
            "...                                            ...                ...  \n",
            "AC0CR70622                            VENDA DIRETA                0.0  \n",
            "AC0CR71111                            VENDA DIRETA                0.0  \n",
            "V151020603                            VENDA DIRETA                0.0  \n",
            "V226030050                          VENDA INDIRETA                0.0  \n",
            "Z907284300                            VENDA DIRETA                0.0  \n",
            "\n",
            "[144 rows x 9 columns]\n"
          ]
        }
      ],
      "source": [
        "# Realizar left join entre as tabelas usando a coluna \"Material\" como chave\n",
        "merged_table_pend = _table_pend.merge(tabela_dinamica_pendente, how='left', left_index=True, right_index=True)\n",
        "\n",
        "# Preencher valores nulos com zero\n",
        "merged_table_pend = merged_table_pend.fillna(0)\n",
        "\n",
        "print(merged_table_pend)\n"
      ]
    },
    {
      "cell_type": "code",
      "execution_count": 180,
      "metadata": {
        "colab": {
          "base_uri": "https://localhost:8080/"
        },
        "id": "AKf46nHiuxjp",
        "outputId": "acbad665-9081-440d-c6f1-1a35169b9d9f"
      },
      "outputs": [
        {
          "data": {
            "text/plain": [
              "Index(['CE04_zva70', 'CE05_zva70', 'CE10_zva70', 'CE11_zva70', 'CE13_zva70',\n",
              "       'Denominação', 'Criado por', 'Canal', 'Pendências Gerais'],\n",
              "      dtype='object')"
            ]
          },
          "execution_count": 180,
          "metadata": {},
          "output_type": "execute_result"
        }
      ],
      "source": [
        "merged_table_pend.columns"
      ]
    },
    {
      "cell_type": "markdown",
      "metadata": {
        "id": "ci51sme8uHd4"
      },
      "source": [
        "juntando zstok"
      ]
    },
    {
      "cell_type": "code",
      "execution_count": 181,
      "metadata": {
        "colab": {
          "base_uri": "https://localhost:8080/"
        },
        "id": "qvyGn4s5w--B",
        "outputId": "3578f1ac-d4df-4aeb-a532-3767bf4f14ed"
      },
      "outputs": [
        {
          "name": "stdout",
          "output_type": "stream",
          "text": [
            "            CE01_zstok  CE02_zstok  CE03_zstok  CE04_zstok  CE05_zstok  \\\n",
            "Material                                                                 \n",
            "13QER70400           0           0           0           0           1   \n",
            "20AA15140            0           0           0           0           3   \n",
            "20AAR70600           0           0           0           0           0   \n",
            "25SA40960            0           0           0           0          97   \n",
            "26AA53150           10           0           0           0           1   \n",
            "...                ...         ...         ...         ...         ...   \n",
            "AC0CR70622           0           0           0           0           0   \n",
            "AC0CR71111           0           0           0           0           3   \n",
            "V151020603           0           0           0           0           0   \n",
            "V226030050           0           0           0           0           0   \n",
            "Z907284300           0           0           0           0           0   \n",
            "\n",
            "            CE06_zstok  CE07_zstok  CE08_zstok  CE09_zstok  CE10_zstok  \\\n",
            "Material                                                                 \n",
            "13QER70400           0           0           0           0           0   \n",
            "20AA15140            0           1           0           3           0   \n",
            "20AAR70600           0           0           0           0           0   \n",
            "25SA40960            0         123           0          67           0   \n",
            "26AA53150            0           2           0           2           0   \n",
            "...                ...         ...         ...         ...         ...   \n",
            "AC0CR70622           0           0           0           0           0   \n",
            "AC0CR71111           0           0           0           0           0   \n",
            "V151020603           0           0           0           0           0   \n",
            "V226030050           0           0           0           0           0   \n",
            "Z907284300           0           0           0           0           0   \n",
            "\n",
            "            CE11_zstok  CE13_zstok  Contr.qualid.  \n",
            "Material                                           \n",
            "13QER70400           0           0              0  \n",
            "20AA15140            0           0              3  \n",
            "20AAR70600           0           0              0  \n",
            "25SA40960          253          97             24  \n",
            "26AA53150            5          23             41  \n",
            "...                ...         ...            ...  \n",
            "AC0CR70622           0           0              0  \n",
            "AC0CR71111           1           0              2  \n",
            "V151020603           0           0              0  \n",
            "V226030050           0           0              0  \n",
            "Z907284300           0           0              0  \n",
            "\n",
            "[144 rows x 13 columns]\n"
          ]
        }
      ],
      "source": [
        "# Realizar left join entre as tabelas usando a coluna \"Material\" como chave\n",
        "merged_table_zstok = tabela_dinamica_zstok.merge(tabela_dinamica_zstok_qualidade, how='left', left_index=True, right_index=True)\n",
        "\n",
        "# Preencher valores nulos com zero\n",
        "merged_table_zstok = merged_table_zstok.fillna(0)\n",
        "\n",
        "print(merged_table_zstok)"
      ]
    },
    {
      "cell_type": "markdown",
      "metadata": {
        "id": "LYJYChyyxjqz"
      },
      "source": [
        "juntando pend com zstok"
      ]
    },
    {
      "cell_type": "code",
      "execution_count": 182,
      "metadata": {
        "colab": {
          "base_uri": "https://localhost:8080/"
        },
        "id": "_HdLYaYpxdn_",
        "outputId": "ceb9c759-8a39-47c8-f2b1-6b3de627566e"
      },
      "outputs": [
        {
          "name": "stdout",
          "output_type": "stream",
          "text": [
            "            CE04_zva70  CE05_zva70  CE10_zva70  CE11_zva70  CE13_zva70  \\\n",
            "Material                                                                 \n",
            "13QER70400           0           1           0           2           0   \n",
            "20AA15140            0           2           0           0           0   \n",
            "20AAR70600           0           1           0           0           0   \n",
            "25SA40960            0           0          40           0           0   \n",
            "26AA53150            0           0          20           0           0   \n",
            "...                ...         ...         ...         ...         ...   \n",
            "AC0CR70622           0           0           0           1           0   \n",
            "AC0CR71111           0           1           0           0           0   \n",
            "V151020603           0           0           0           3           0   \n",
            "V226030050           0           0           0           0           1   \n",
            "Z907284300           0           0           0           1           0   \n",
            "\n",
            "                                         Denominação  \\\n",
            "Material                                               \n",
            "13QER70400                     CONJUNTO DE SOLENOÍDE   \n",
            "20AA15140                               CABO  DE AÇO   \n",
            "20AAR70600                                  LIMPADOR   \n",
            "25SA40960                                   BORRACHA   \n",
            "26AA53150                                   ISOLANTE   \n",
            "...                                              ...   \n",
            "AC0CR70622                   CONJUNTO CAIXA COLETORA   \n",
            "AC0CR71111                      CONJUNTO DE REGISTRO   \n",
            "V151020603                                  PARAFUSO   \n",
            "V226030050                                   CS ring   \n",
            "Z907284300  UNIDADE CIS - LEITOR DE IMAGEM HN12H-X03   \n",
            "\n",
            "                                                   Criado por  \\\n",
            "Material                                                        \n",
            "13QER70400  REGILENE DE CASSIA LUIZ OLIVEIRA/JESSIE OLIVEI...   \n",
            "20AA15140                    REGILENE DE CASSIA LUIZ OLIVEIRA   \n",
            "20AAR70600                                    ROBERTA MACHADO   \n",
            "25SA40960                                         WILLIAM LUZ   \n",
            "26AA53150                                         WILLIAM LUZ   \n",
            "...                                                       ...   \n",
            "AC0CR70622                       NAYARA DA SILVA ALVES ABRAMO   \n",
            "AC0CR71111                   REGILENE DE CASSIA LUIZ OLIVEIRA   \n",
            "V151020603                   REGILENE DE CASSIA LUIZ OLIVEIRA   \n",
            "V226030050                                        CARLA SAKAI   \n",
            "Z907284300                   REGILENE DE CASSIA LUIZ OLIVEIRA   \n",
            "\n",
            "                                             Canal  Pendências Gerais  \\\n",
            "Material                                                                \n",
            "13QER70400  VENDA DIRETA/VENDA DIRETA/VENDA DIRETA                1.0   \n",
            "20AA15140                             VENDA DIRETA                3.0   \n",
            "20AAR70600                          VENDA INDIRETA                1.0   \n",
            "25SA40960                                      nan                0.0   \n",
            "26AA53150                                      nan                0.0   \n",
            "...                                            ...                ...   \n",
            "AC0CR70622                            VENDA DIRETA                0.0   \n",
            "AC0CR71111                            VENDA DIRETA                0.0   \n",
            "V151020603                            VENDA DIRETA                0.0   \n",
            "V226030050                          VENDA INDIRETA                0.0   \n",
            "Z907284300                            VENDA DIRETA                0.0   \n",
            "\n",
            "            CE01_zstok  ...  CE04_zstok  CE05_zstok  CE06_zstok  CE07_zstok  \\\n",
            "Material                ...                                                   \n",
            "13QER70400           0  ...           0           1           0           0   \n",
            "20AA15140            0  ...           0           3           0           1   \n",
            "20AAR70600           0  ...           0           0           0           0   \n",
            "25SA40960            0  ...           0          97           0         123   \n",
            "26AA53150           10  ...           0           1           0           2   \n",
            "...                ...  ...         ...         ...         ...         ...   \n",
            "AC0CR70622           0  ...           0           0           0           0   \n",
            "AC0CR71111           0  ...           0           3           0           0   \n",
            "V151020603           0  ...           0           0           0           0   \n",
            "V226030050           0  ...           0           0           0           0   \n",
            "Z907284300           0  ...           0           0           0           0   \n",
            "\n",
            "            CE08_zstok  CE09_zstok  CE10_zstok  CE11_zstok  CE13_zstok  \\\n",
            "Material                                                                 \n",
            "13QER70400           0           0           0           0           0   \n",
            "20AA15140            0           3           0           0           0   \n",
            "20AAR70600           0           0           0           0           0   \n",
            "25SA40960            0          67           0         253          97   \n",
            "26AA53150            0           2           0           5          23   \n",
            "...                ...         ...         ...         ...         ...   \n",
            "AC0CR70622           0           0           0           0           0   \n",
            "AC0CR71111           0           0           0           1           0   \n",
            "V151020603           0           0           0           0           0   \n",
            "V226030050           0           0           0           0           0   \n",
            "Z907284300           0           0           0           0           0   \n",
            "\n",
            "            Contr.qualid.  \n",
            "Material                   \n",
            "13QER70400              0  \n",
            "20AA15140               3  \n",
            "20AAR70600              0  \n",
            "25SA40960              24  \n",
            "26AA53150              41  \n",
            "...                   ...  \n",
            "AC0CR70622              0  \n",
            "AC0CR71111              2  \n",
            "V151020603              0  \n",
            "V226030050              0  \n",
            "Z907284300              0  \n",
            "\n",
            "[144 rows x 22 columns]\n"
          ]
        }
      ],
      "source": [
        "# Realizar left join entre as tabelas usando a coluna \"Material\" como chave\n",
        "merged_table_1 = merged_table_pend.merge(merged_table_zstok, how='left', left_index=True, right_index=True)\n",
        "\n",
        "# Preencher valores nulos com zero\n",
        "merged_table_1 = merged_table_1.fillna(0)\n",
        "\n",
        "print(merged_table_1)"
      ]
    },
    {
      "cell_type": "code",
      "execution_count": 183,
      "metadata": {
        "colab": {
          "base_uri": "https://localhost:8080/"
        },
        "id": "dL-H6otByU60",
        "outputId": "9601c914-cfb4-4039-d691-51021a8b24eb"
      },
      "outputs": [
        {
          "data": {
            "text/plain": [
              "Index(['CE04_zva70', 'CE05_zva70', 'CE10_zva70', 'CE11_zva70', 'CE13_zva70',\n",
              "       'Denominação', 'Criado por', 'Canal', 'Pendências Gerais', 'CE01_zstok',\n",
              "       'CE02_zstok', 'CE03_zstok', 'CE04_zstok', 'CE05_zstok', 'CE06_zstok',\n",
              "       'CE07_zstok', 'CE08_zstok', 'CE09_zstok', 'CE10_zstok', 'CE11_zstok',\n",
              "       'CE13_zstok', 'Contr.qualid.'],\n",
              "      dtype='object')"
            ]
          },
          "execution_count": 183,
          "metadata": {},
          "output_type": "execute_result"
        }
      ],
      "source": [
        "merged_table_1.columns"
      ]
    },
    {
      "cell_type": "markdown",
      "metadata": {
        "id": "FbEdg9w2ynhX"
      },
      "source": [
        "colocando o fup"
      ]
    },
    {
      "cell_type": "code",
      "execution_count": 184,
      "metadata": {
        "colab": {
          "base_uri": "https://localhost:8080/"
        },
        "id": "yVN9twaBya7z",
        "outputId": "9ae1059c-8407-445a-e6ee-cea5761e44c5"
      },
      "outputs": [
        {
          "name": "stdout",
          "output_type": "stream",
          "text": [
            "            CE04_zva70  CE05_zva70  CE10_zva70  CE11_zva70  CE13_zva70  \\\n",
            "Material                                                                 \n",
            "13QER70400           0           1           0           2           0   \n",
            "20AA15140            0           2           0           0           0   \n",
            "20AAR70600           0           1           0           0           0   \n",
            "25SA40960            0           0          40           0           0   \n",
            "26AA53150            0           0          20           0           0   \n",
            "...                ...         ...         ...         ...         ...   \n",
            "AC0CR70622           0           0           0           1           0   \n",
            "AC0CR71111           0           1           0           0           0   \n",
            "V151020603           0           0           0           3           0   \n",
            "V226030050           0           0           0           0           1   \n",
            "Z907284300           0           0           0           1           0   \n",
            "\n",
            "                                         Denominação  \\\n",
            "Material                                               \n",
            "13QER70400                     CONJUNTO DE SOLENOÍDE   \n",
            "20AA15140                               CABO  DE AÇO   \n",
            "20AAR70600                                  LIMPADOR   \n",
            "25SA40960                                   BORRACHA   \n",
            "26AA53150                                   ISOLANTE   \n",
            "...                                              ...   \n",
            "AC0CR70622                   CONJUNTO CAIXA COLETORA   \n",
            "AC0CR71111                      CONJUNTO DE REGISTRO   \n",
            "V151020603                                  PARAFUSO   \n",
            "V226030050                                   CS ring   \n",
            "Z907284300  UNIDADE CIS - LEITOR DE IMAGEM HN12H-X03   \n",
            "\n",
            "                                                   Criado por  \\\n",
            "Material                                                        \n",
            "13QER70400  REGILENE DE CASSIA LUIZ OLIVEIRA/JESSIE OLIVEI...   \n",
            "20AA15140                    REGILENE DE CASSIA LUIZ OLIVEIRA   \n",
            "20AAR70600                                    ROBERTA MACHADO   \n",
            "25SA40960                                         WILLIAM LUZ   \n",
            "26AA53150                                         WILLIAM LUZ   \n",
            "...                                                       ...   \n",
            "AC0CR70622                       NAYARA DA SILVA ALVES ABRAMO   \n",
            "AC0CR71111                   REGILENE DE CASSIA LUIZ OLIVEIRA   \n",
            "V151020603                   REGILENE DE CASSIA LUIZ OLIVEIRA   \n",
            "V226030050                                        CARLA SAKAI   \n",
            "Z907284300                   REGILENE DE CASSIA LUIZ OLIVEIRA   \n",
            "\n",
            "                                             Canal  Pendências Gerais  \\\n",
            "Material                                                                \n",
            "13QER70400  VENDA DIRETA/VENDA DIRETA/VENDA DIRETA                1.0   \n",
            "20AA15140                             VENDA DIRETA                3.0   \n",
            "20AAR70600                          VENDA INDIRETA                1.0   \n",
            "25SA40960                                      nan                0.0   \n",
            "26AA53150                                      nan                0.0   \n",
            "...                                            ...                ...   \n",
            "AC0CR70622                            VENDA DIRETA                0.0   \n",
            "AC0CR71111                            VENDA DIRETA                0.0   \n",
            "V151020603                            VENDA DIRETA                0.0   \n",
            "V226030050                          VENDA INDIRETA                0.0   \n",
            "Z907284300                            VENDA DIRETA                0.0   \n",
            "\n",
            "            CE01_zstok  ...  CE09_zstok  CE10_zstok  CE11_zstok  CE13_zstok  \\\n",
            "Material                ...                                                   \n",
            "13QER70400           0  ...           0           0           0           0   \n",
            "20AA15140            0  ...           3           0           0           0   \n",
            "20AAR70600           0  ...           0           0           0           0   \n",
            "25SA40960            0  ...          67           0         253          97   \n",
            "26AA53150           10  ...           2           0           5          23   \n",
            "...                ...  ...         ...         ...         ...         ...   \n",
            "AC0CR70622           0  ...           0           0           0           0   \n",
            "AC0CR71111           0  ...           0           0           1           0   \n",
            "V151020603           0  ...           0           0           0           0   \n",
            "V226030050           0  ...           0           0           0           0   \n",
            "Z907284300           0  ...           0           0           0           0   \n",
            "\n",
            "            Contr.qualid.  Aug/24  Jul/24  Jun/24  May/24  Sep/24  \n",
            "Material                                                           \n",
            "13QER70400              0     0.0     0.0     0.0     0.0     0.0  \n",
            "20AA15140               3     0.0     2.0     1.0     0.0     1.0  \n",
            "20AAR70600              0     0.0     2.0     1.0     0.0     1.0  \n",
            "25SA40960              24     0.0    15.0    12.0     0.0    21.0  \n",
            "26AA53150              41     0.0     0.0     0.0     0.0     1.0  \n",
            "...                   ...     ...     ...     ...     ...     ...  \n",
            "AC0CR70622              0     0.0     0.0     2.0     0.0     0.0  \n",
            "AC0CR71111              2     0.0     1.0     0.0     0.0     1.0  \n",
            "V151020603              0     0.0     0.0     0.0     0.0     0.0  \n",
            "V226030050              0     0.0     0.0     0.0     0.0     0.0  \n",
            "Z907284300              0     0.0     0.0     0.0     0.0     0.0  \n",
            "\n",
            "[144 rows x 27 columns]\n"
          ]
        }
      ],
      "source": [
        "# Realizar left join entre as tabelas usando a coluna \"Material\" como chave\n",
        "merged_table_2 = merged_table_1.merge(tabela_dinamica_fup, how='left', left_index=True, right_index=True)\n",
        "\n",
        "# Preencher valores nulos com zero\n",
        "merged_table_2 = merged_table_2.fillna(0)\n",
        "\n",
        "print(merged_table_2)"
      ]
    },
    {
      "cell_type": "code",
      "execution_count": 185,
      "metadata": {
        "colab": {
          "base_uri": "https://localhost:8080/"
        },
        "id": "naqhcdgRyzfi",
        "outputId": "05f69321-4df1-4c7f-90e1-815aa97a0390"
      },
      "outputs": [
        {
          "data": {
            "text/plain": [
              "Index(['CE04_zva70', 'CE05_zva70', 'CE10_zva70', 'CE11_zva70', 'CE13_zva70',\n",
              "       'Denominação', 'Criado por', 'Canal', 'Pendências Gerais', 'CE01_zstok',\n",
              "       'CE02_zstok', 'CE03_zstok', 'CE04_zstok', 'CE05_zstok', 'CE06_zstok',\n",
              "       'CE07_zstok', 'CE08_zstok', 'CE09_zstok', 'CE10_zstok', 'CE11_zstok',\n",
              "       'CE13_zstok', 'Contr.qualid.', 'Aug/24', 'Jul/24', 'Jun/24', 'May/24',\n",
              "       'Sep/24'],\n",
              "      dtype='object')"
            ]
          },
          "execution_count": 185,
          "metadata": {},
          "output_type": "execute_result"
        }
      ],
      "source": [
        "merged_table_2.columns"
      ]
    },
    {
      "cell_type": "code",
      "execution_count": 186,
      "metadata": {
        "id": "xV6-3goc1ND_"
      },
      "outputs": [],
      "source": [
        "# Renomear colunas com sufixo \"_x\"\n",
        "merged_table_2 = merged_table_2.rename(columns=lambda x: x.replace('_x', '_zva70'))\n",
        "\n",
        "# Renomear colunas com sufixo \"_y\"\n",
        "merged_table_2 = merged_table_2.rename(columns=lambda x: x.replace('_y', '_zstok'))\n"
      ]
    },
    {
      "cell_type": "code",
      "execution_count": 187,
      "metadata": {
        "colab": {
          "base_uri": "https://localhost:8080/"
        },
        "id": "wgPKOqwXMwBn",
        "outputId": "e2b8f186-1d5e-47d1-e988-c86815e0de1b"
      },
      "outputs": [
        {
          "name": "stdout",
          "output_type": "stream",
          "text": [
            "            CE04_zva70  CE05_zva70  CE10_zva70  CE11_zva70  CE13_zva70  \\\n",
            "Material                                                                 \n",
            "13QER70400           0           1           0           2           0   \n",
            "20AA15140            0           2           0           0           0   \n",
            "20AAR70600           0           1           0           0           0   \n",
            "25SA40960            0           0          40           0           0   \n",
            "26AA53150            0           0          20           0           0   \n",
            "...                ...         ...         ...         ...         ...   \n",
            "AC0CR70622           0           0           0           1           0   \n",
            "AC0CR71111           0           1           0           0           0   \n",
            "V151020603           0           0           0           3           0   \n",
            "V226030050           0           0           0           0           1   \n",
            "Z907284300           0           0           0           1           0   \n",
            "\n",
            "                                         Denominação  \\\n",
            "Material                                               \n",
            "13QER70400                     CONJUNTO DE SOLENOÍDE   \n",
            "20AA15140                               CABO  DE AÇO   \n",
            "20AAR70600                                  LIMPADOR   \n",
            "25SA40960                                   BORRACHA   \n",
            "26AA53150                                   ISOLANTE   \n",
            "...                                              ...   \n",
            "AC0CR70622                   CONJUNTO CAIXA COLETORA   \n",
            "AC0CR71111                      CONJUNTO DE REGISTRO   \n",
            "V151020603                                  PARAFUSO   \n",
            "V226030050                                   CS ring   \n",
            "Z907284300  UNIDADE CIS - LEITOR DE IMAGEM HN12H-X03   \n",
            "\n",
            "                                                   Criado por  \\\n",
            "Material                                                        \n",
            "13QER70400  REGILENE DE CASSIA LUIZ OLIVEIRA/JESSIE OLIVEI...   \n",
            "20AA15140                    REGILENE DE CASSIA LUIZ OLIVEIRA   \n",
            "20AAR70600                                    ROBERTA MACHADO   \n",
            "25SA40960                                         WILLIAM LUZ   \n",
            "26AA53150                                         WILLIAM LUZ   \n",
            "...                                                       ...   \n",
            "AC0CR70622                       NAYARA DA SILVA ALVES ABRAMO   \n",
            "AC0CR71111                   REGILENE DE CASSIA LUIZ OLIVEIRA   \n",
            "V151020603                   REGILENE DE CASSIA LUIZ OLIVEIRA   \n",
            "V226030050                                        CARLA SAKAI   \n",
            "Z907284300                   REGILENE DE CASSIA LUIZ OLIVEIRA   \n",
            "\n",
            "                                             Canal  Pendências Gerais  \\\n",
            "Material                                                                \n",
            "13QER70400  VENDA DIRETA/VENDA DIRETA/VENDA DIRETA                1.0   \n",
            "20AA15140                             VENDA DIRETA                3.0   \n",
            "20AAR70600                          VENDA INDIRETA                1.0   \n",
            "25SA40960                                      nan                0.0   \n",
            "26AA53150                                      nan                0.0   \n",
            "...                                            ...                ...   \n",
            "AC0CR70622                            VENDA DIRETA                0.0   \n",
            "AC0CR71111                            VENDA DIRETA                0.0   \n",
            "V151020603                            VENDA DIRETA                0.0   \n",
            "V226030050                          VENDA INDIRETA                0.0   \n",
            "Z907284300                            VENDA DIRETA                0.0   \n",
            "\n",
            "            CE01_zstok  ...  CE10_zstok  CE11_zstok  CE13_zstok  \\\n",
            "Material                ...                                       \n",
            "13QER70400           0  ...           0           0           0   \n",
            "20AA15140            0  ...           0           0           0   \n",
            "20AAR70600           0  ...           0           0           0   \n",
            "25SA40960            0  ...           0         253          97   \n",
            "26AA53150           10  ...           0           5          23   \n",
            "...                ...  ...         ...         ...         ...   \n",
            "AC0CR70622           0  ...           0           0           0   \n",
            "AC0CR71111           0  ...           0           1           0   \n",
            "V151020603           0  ...           0           0           0   \n",
            "V226030050           0  ...           0           0           0   \n",
            "Z907284300           0  ...           0           0           0   \n",
            "\n",
            "            Contr.qualid.  Aug/24  Jul/24  Jun/24  May/24  Sep/24  Montante  \n",
            "Material                                                                     \n",
            "13QER70400              0     0.0     0.0     0.0     0.0     0.0      9.04  \n",
            "20AA15140               3     0.0     2.0     1.0     0.0     1.0      2.72  \n",
            "20AAR70600              0     0.0     2.0     1.0     0.0     1.0      3.58  \n",
            "25SA40960              24     0.0    15.0    12.0     0.0    21.0      7.06  \n",
            "26AA53150              41     0.0     0.0     0.0     0.0     1.0      8.00  \n",
            "...                   ...     ...     ...     ...     ...     ...       ...  \n",
            "AC0CR70622              0     0.0     0.0     2.0     0.0     0.0    162.20  \n",
            "AC0CR71111              2     0.0     1.0     0.0     0.0     1.0    192.33  \n",
            "V151020603              0     0.0     0.0     0.0     0.0     0.0      4.71  \n",
            "V226030050              0     0.0     0.0     0.0     0.0     0.0      4.71  \n",
            "Z907284300              0     0.0     0.0     0.0     0.0     0.0      0.00  \n",
            "\n",
            "[144 rows x 28 columns]\n"
          ]
        }
      ],
      "source": [
        "# Realizar left join entre as tabelas usando a coluna \"Material\" como chave\n",
        "merged_table_3 = merged_table_2.merge(tabela_dinamica_fob, how='left', left_index=True, right_index=True)\n",
        "\n",
        "# Preencher valores nulos com zero\n",
        "merged_table_3 = merged_table_3.fillna(0)\n",
        "\n",
        "print(merged_table_3)"
      ]
    },
    {
      "cell_type": "code",
      "execution_count": 188,
      "metadata": {
        "colab": {
          "base_uri": "https://localhost:8080/"
        },
        "id": "qS1JaxmdMvIG",
        "outputId": "5dcd9ada-f328-498f-acf1-fed8241a0cbe"
      },
      "outputs": [
        {
          "name": "stdout",
          "output_type": "stream",
          "text": [
            "            CE04_zva70  CE05_zva70  CE10_zva70  CE11_zva70  CE13_zva70  \\\n",
            "Material                                                                 \n",
            "13QER70400           0           1           0           2           0   \n",
            "20AA15140            0           2           0           0           0   \n",
            "20AAR70600           0           1           0           0           0   \n",
            "25SA40960            0           0          40           0           0   \n",
            "26AA53150            0           0          20           0           0   \n",
            "...                ...         ...         ...         ...         ...   \n",
            "AC0CR70622           0           0           0           1           0   \n",
            "AC0CR71111           0           1           0           0           0   \n",
            "V151020603           0           0           0           3           0   \n",
            "V226030050           0           0           0           0           1   \n",
            "Z907284300           0           0           0           1           0   \n",
            "\n",
            "                                         Denominação  \\\n",
            "Material                                               \n",
            "13QER70400                     CONJUNTO DE SOLENOÍDE   \n",
            "20AA15140                               CABO  DE AÇO   \n",
            "20AAR70600                                  LIMPADOR   \n",
            "25SA40960                                   BORRACHA   \n",
            "26AA53150                                   ISOLANTE   \n",
            "...                                              ...   \n",
            "AC0CR70622                   CONJUNTO CAIXA COLETORA   \n",
            "AC0CR71111                      CONJUNTO DE REGISTRO   \n",
            "V151020603                                  PARAFUSO   \n",
            "V226030050                                   CS ring   \n",
            "Z907284300  UNIDADE CIS - LEITOR DE IMAGEM HN12H-X03   \n",
            "\n",
            "                                                   Criado por  \\\n",
            "Material                                                        \n",
            "13QER70400  REGILENE DE CASSIA LUIZ OLIVEIRA/JESSIE OLIVEI...   \n",
            "20AA15140                    REGILENE DE CASSIA LUIZ OLIVEIRA   \n",
            "20AAR70600                                    ROBERTA MACHADO   \n",
            "25SA40960                                         WILLIAM LUZ   \n",
            "26AA53150                                         WILLIAM LUZ   \n",
            "...                                                       ...   \n",
            "AC0CR70622                       NAYARA DA SILVA ALVES ABRAMO   \n",
            "AC0CR71111                   REGILENE DE CASSIA LUIZ OLIVEIRA   \n",
            "V151020603                   REGILENE DE CASSIA LUIZ OLIVEIRA   \n",
            "V226030050                                        CARLA SAKAI   \n",
            "Z907284300                   REGILENE DE CASSIA LUIZ OLIVEIRA   \n",
            "\n",
            "                                             Canal  Pendências Gerais  \\\n",
            "Material                                                                \n",
            "13QER70400  VENDA DIRETA/VENDA DIRETA/VENDA DIRETA                1.0   \n",
            "20AA15140                             VENDA DIRETA                3.0   \n",
            "20AAR70600                          VENDA INDIRETA                1.0   \n",
            "25SA40960                                      nan                0.0   \n",
            "26AA53150                                      nan                0.0   \n",
            "...                                            ...                ...   \n",
            "AC0CR70622                            VENDA DIRETA                0.0   \n",
            "AC0CR71111                            VENDA DIRETA                0.0   \n",
            "V151020603                            VENDA DIRETA                0.0   \n",
            "V226030050                          VENDA INDIRETA                0.0   \n",
            "Z907284300                            VENDA DIRETA                0.0   \n",
            "\n",
            "            CE01_zstok  ...  CE11_zstok  CE13_zstok  Contr.qualid.  Aug/24  \\\n",
            "Material                ...                                                  \n",
            "13QER70400           0  ...           0           0              0     0.0   \n",
            "20AA15140            0  ...           0           0              3     0.0   \n",
            "20AAR70600           0  ...           0           0              0     0.0   \n",
            "25SA40960            0  ...         253          97             24     0.0   \n",
            "26AA53150           10  ...           5          23             41     0.0   \n",
            "...                ...  ...         ...         ...            ...     ...   \n",
            "AC0CR70622           0  ...           0           0              0     0.0   \n",
            "AC0CR71111           0  ...           1           0              2     0.0   \n",
            "V151020603           0  ...           0           0              0     0.0   \n",
            "V226030050           0  ...           0           0              0     0.0   \n",
            "Z907284300           0  ...           0           0              0     0.0   \n",
            "\n",
            "            Jul/24  Jun/24  May/24  Sep/24  Montante  \\\n",
            "Material                                               \n",
            "13QER70400     0.0     0.0     0.0     0.0      9.04   \n",
            "20AA15140      2.0     1.0     0.0     1.0      2.72   \n",
            "20AAR70600     2.0     1.0     0.0     1.0      3.58   \n",
            "25SA40960     15.0    12.0     0.0    21.0      7.06   \n",
            "26AA53150      0.0     0.0     0.0     1.0      8.00   \n",
            "...            ...     ...     ...     ...       ...   \n",
            "AC0CR70622     0.0     2.0     0.0     0.0    162.20   \n",
            "AC0CR71111     1.0     0.0     0.0     1.0    192.33   \n",
            "V151020603     0.0     0.0     0.0     0.0      4.71   \n",
            "V226030050     0.0     0.0     0.0     0.0      4.71   \n",
            "Z907284300     0.0     0.0     0.0     0.0      0.00   \n",
            "\n",
            "                                        Modelos Lista Técnica  \n",
            "Material                                                       \n",
            "13QER70400  FS-504/FS-505/FS-509/FS-513/FS-517/FS-531/FS-6...  \n",
            "20AA15140                               LT-211/LU-202/LU-202M  \n",
            "20AAR70600  LT-211/LU-202/LU-202M/LU-202XL/LU-202XLM/LU-208XL  \n",
            "25SA40960   7255/7272/8050/ACCURIOPRESS C2060/ACCURIOPRESS...  \n",
            "26AA53150   7075/7085/ACCURIOLABEL 400/ACCURIOPRESS 6136P/...  \n",
            "...                                                       ...  \n",
            "AC0CR70622                                ACCURIOPRESS C14000  \n",
            "AC0CR71111                                ACCURIOPRESS C14000  \n",
            "V151020603  ACCURIOLABEL 190/BIZHUB PRESS C71CF/ACCURIOLAB...  \n",
            "V226030050  ACCURIOPRESS 6136P/ACCURIOPRESS 7136P/ACCURIOP...  \n",
            "Z907284300                                                  0  \n",
            "\n",
            "[144 rows x 29 columns]\n"
          ]
        }
      ],
      "source": [
        "# Realizar left join entre as tabelas usando a coluna \"Material\" como chave\n",
        "merged_table_4 = merged_table_3.merge(tabela_dinamica_pecas, how='left', left_index=True, right_index=True)\n",
        "\n",
        "# Preencher valores nulos com zero\n",
        "merged_table_4 = merged_table_4.fillna(0)\n",
        "\n",
        "print(merged_table_4)"
      ]
    },
    {
      "cell_type": "code",
      "execution_count": 189,
      "metadata": {
        "colab": {
          "base_uri": "https://localhost:8080/"
        },
        "id": "HpeYh95LtwU7",
        "outputId": "9016fcc1-e63a-4b71-99a1-e603ecb6eda2"
      },
      "outputs": [
        {
          "name": "stdout",
          "output_type": "stream",
          "text": [
            "            CE04_zva70  CE05_zva70  CE10_zva70  CE11_zva70  CE13_zva70  \\\n",
            "Material                                                                 \n",
            "13QER70400           0           1           0           2           0   \n",
            "20AA15140            0           2           0           0           0   \n",
            "20AAR70600           0           1           0           0           0   \n",
            "25SA40960            0           0          40           0           0   \n",
            "26AA53150            0           0          20           0           0   \n",
            "...                ...         ...         ...         ...         ...   \n",
            "AC0CR70622           0           0           0           1           0   \n",
            "AC0CR71111           0           1           0           0           0   \n",
            "V151020603           0           0           0           3           0   \n",
            "V226030050           0           0           0           0           1   \n",
            "Z907284300           0           0           0           1           0   \n",
            "\n",
            "                                         Denominação  \\\n",
            "Material                                               \n",
            "13QER70400                     CONJUNTO DE SOLENOÍDE   \n",
            "20AA15140                               CABO  DE AÇO   \n",
            "20AAR70600                                  LIMPADOR   \n",
            "25SA40960                                   BORRACHA   \n",
            "26AA53150                                   ISOLANTE   \n",
            "...                                              ...   \n",
            "AC0CR70622                   CONJUNTO CAIXA COLETORA   \n",
            "AC0CR71111                      CONJUNTO DE REGISTRO   \n",
            "V151020603                                  PARAFUSO   \n",
            "V226030050                                   CS ring   \n",
            "Z907284300  UNIDADE CIS - LEITOR DE IMAGEM HN12H-X03   \n",
            "\n",
            "                                                   Criado por  \\\n",
            "Material                                                        \n",
            "13QER70400  REGILENE DE CASSIA LUIZ OLIVEIRA/JESSIE OLIVEI...   \n",
            "20AA15140                    REGILENE DE CASSIA LUIZ OLIVEIRA   \n",
            "20AAR70600                                    ROBERTA MACHADO   \n",
            "25SA40960                                         WILLIAM LUZ   \n",
            "26AA53150                                         WILLIAM LUZ   \n",
            "...                                                       ...   \n",
            "AC0CR70622                       NAYARA DA SILVA ALVES ABRAMO   \n",
            "AC0CR71111                   REGILENE DE CASSIA LUIZ OLIVEIRA   \n",
            "V151020603                   REGILENE DE CASSIA LUIZ OLIVEIRA   \n",
            "V226030050                                        CARLA SAKAI   \n",
            "Z907284300                   REGILENE DE CASSIA LUIZ OLIVEIRA   \n",
            "\n",
            "                                             Canal  Pendências Gerais  \\\n",
            "Material                                                                \n",
            "13QER70400  VENDA DIRETA/VENDA DIRETA/VENDA DIRETA                1.0   \n",
            "20AA15140                             VENDA DIRETA                3.0   \n",
            "20AAR70600                          VENDA INDIRETA                1.0   \n",
            "25SA40960                                      nan                0.0   \n",
            "26AA53150                                      nan                0.0   \n",
            "...                                            ...                ...   \n",
            "AC0CR70622                            VENDA DIRETA                0.0   \n",
            "AC0CR71111                            VENDA DIRETA                0.0   \n",
            "V151020603                            VENDA DIRETA                0.0   \n",
            "V226030050                          VENDA INDIRETA                0.0   \n",
            "Z907284300                            VENDA DIRETA                0.0   \n",
            "\n",
            "            CE01_zstok  ...  Jun/24  May/24  Sep/24  Montante  \\\n",
            "Material                ...                                     \n",
            "13QER70400           0  ...     0.0     0.0     0.0      9.04   \n",
            "20AA15140            0  ...     1.0     0.0     1.0      2.72   \n",
            "20AAR70600           0  ...     1.0     0.0     1.0      3.58   \n",
            "25SA40960            0  ...    12.0     0.0    21.0      7.06   \n",
            "26AA53150           10  ...     0.0     0.0     1.0      8.00   \n",
            "...                ...  ...     ...     ...     ...       ...   \n",
            "AC0CR70622           0  ...     2.0     0.0     0.0    162.20   \n",
            "AC0CR71111           0  ...     0.0     0.0     1.0    192.33   \n",
            "V151020603           0  ...     0.0     0.0     0.0      4.71   \n",
            "V226030050           0  ...     0.0     0.0     0.0      4.71   \n",
            "Z907284300           0  ...     0.0     0.0     0.0      0.00   \n",
            "\n",
            "                                        Modelos Lista Técnica    Material  \\\n",
            "Material                                                                    \n",
            "13QER70400  FS-504/FS-505/FS-509/FS-513/FS-517/FS-531/FS-6...           0   \n",
            "20AA15140                               LT-211/LU-202/LU-202M   20AA15140   \n",
            "20AAR70600  LT-211/LU-202/LU-202M/LU-202XL/LU-202XLM/LU-208XL  20AAR70600   \n",
            "25SA40960   7255/7272/8050/ACCURIOPRESS C2060/ACCURIOPRESS...   25SA40960   \n",
            "26AA53150   7075/7085/ACCURIOLABEL 400/ACCURIOPRESS 6136P/...   26AA53150   \n",
            "...                                                       ...         ...   \n",
            "AC0CR70622                                ACCURIOPRESS C14000  AC0CR70622   \n",
            "AC0CR71111                                ACCURIOPRESS C14000  AC0CR71111   \n",
            "V151020603  ACCURIOLABEL 190/BIZHUB PRESS C71CF/ACCURIOLAB...           0   \n",
            "V226030050  ACCURIOPRESS 6136P/ACCURIOPRESS 7136P/ACCURIOP...           0   \n",
            "Z907284300                                                  0           0   \n",
            "\n",
            "              Similar1    Similar2  Similar3  Similar4  \n",
            "Material                                                \n",
            "13QER70400           0           0         0         0  \n",
            "20AA15140            -           -         -         -  \n",
            "20AAR70600   20AA-4550           -         -         -  \n",
            "25SA40960            -           -         -         -  \n",
            "26AA53150            -           -         -         -  \n",
            "...                ...         ...       ...       ...  \n",
            "AC0CR70622  AC0CR70611  AC0CR70600         -         -  \n",
            "AC0CR71111           -           -         -         -  \n",
            "V151020603           0           0         0         0  \n",
            "V226030050           0           0         0         0  \n",
            "Z907284300           0           0         0         0  \n",
            "\n",
            "[144 rows x 34 columns]\n"
          ]
        }
      ],
      "source": [
        "# Realizar left join entre as tabelas usando a coluna \"Material\" como chave\n",
        "merged_table_5 = merged_table_4.merge(tabela_resultados, how='left', left_index=True, right_index=True)\n",
        "\n",
        "# Preencher valores nulos com zero\n",
        "merged_table_5 = merged_table_5.fillna(0)\n",
        "\n",
        "print(merged_table_5)"
      ]
    },
    {
      "cell_type": "code",
      "execution_count": 190,
      "metadata": {
        "colab": {
          "base_uri": "https://localhost:8080/"
        },
        "id": "Av3CKwK00NDx",
        "outputId": "e72e9dfa-df0a-4bbe-a347-edaec60d9fd9"
      },
      "outputs": [
        {
          "name": "stdout",
          "output_type": "stream",
          "text": [
            "            CE04_zva70  CE05_zva70  CE10_zva70  CE11_zva70  CE13_zva70  \\\n",
            "Material                                                                 \n",
            "13QER70400           0           1           0           2           0   \n",
            "20AA15140            0           2           0           0           0   \n",
            "20AAR70600           0           1           0           0           0   \n",
            "25SA40960            0           0          40           0           0   \n",
            "26AA53150            0           0          20           0           0   \n",
            "...                ...         ...         ...         ...         ...   \n",
            "AC0CR70622           0           0           0           1           0   \n",
            "AC0CR71111           0           1           0           0           0   \n",
            "V151020603           0           0           0           3           0   \n",
            "V226030050           0           0           0           0           1   \n",
            "Z907284300           0           0           0           1           0   \n",
            "\n",
            "                                         Denominação  \\\n",
            "Material                                               \n",
            "13QER70400                     CONJUNTO DE SOLENOÍDE   \n",
            "20AA15140                               CABO  DE AÇO   \n",
            "20AAR70600                                  LIMPADOR   \n",
            "25SA40960                                   BORRACHA   \n",
            "26AA53150                                   ISOLANTE   \n",
            "...                                              ...   \n",
            "AC0CR70622                   CONJUNTO CAIXA COLETORA   \n",
            "AC0CR71111                      CONJUNTO DE REGISTRO   \n",
            "V151020603                                  PARAFUSO   \n",
            "V226030050                                   CS ring   \n",
            "Z907284300  UNIDADE CIS - LEITOR DE IMAGEM HN12H-X03   \n",
            "\n",
            "                                                   Criado por  \\\n",
            "Material                                                        \n",
            "13QER70400  REGILENE DE CASSIA LUIZ OLIVEIRA/JESSIE OLIVEI...   \n",
            "20AA15140                    REGILENE DE CASSIA LUIZ OLIVEIRA   \n",
            "20AAR70600                                    ROBERTA MACHADO   \n",
            "25SA40960                                         WILLIAM LUZ   \n",
            "26AA53150                                         WILLIAM LUZ   \n",
            "...                                                       ...   \n",
            "AC0CR70622                       NAYARA DA SILVA ALVES ABRAMO   \n",
            "AC0CR71111                   REGILENE DE CASSIA LUIZ OLIVEIRA   \n",
            "V151020603                   REGILENE DE CASSIA LUIZ OLIVEIRA   \n",
            "V226030050                                        CARLA SAKAI   \n",
            "Z907284300                   REGILENE DE CASSIA LUIZ OLIVEIRA   \n",
            "\n",
            "                                             Canal  Pendências Gerais  \\\n",
            "Material                                                                \n",
            "13QER70400  VENDA DIRETA/VENDA DIRETA/VENDA DIRETA                1.0   \n",
            "20AA15140                             VENDA DIRETA                3.0   \n",
            "20AAR70600                          VENDA INDIRETA                1.0   \n",
            "25SA40960                                      nan                0.0   \n",
            "26AA53150                                      nan                0.0   \n",
            "...                                            ...                ...   \n",
            "AC0CR70622                            VENDA DIRETA                0.0   \n",
            "AC0CR71111                            VENDA DIRETA                0.0   \n",
            "V151020603                            VENDA DIRETA                0.0   \n",
            "V226030050                          VENDA INDIRETA                0.0   \n",
            "Z907284300                            VENDA DIRETA                0.0   \n",
            "\n",
            "            CE01_zstok  ...  May/24  Sep/24  Montante  \\\n",
            "Material                ...                             \n",
            "13QER70400           0  ...     0.0     0.0      9.04   \n",
            "20AA15140            0  ...     0.0     1.0      2.72   \n",
            "20AAR70600           0  ...     0.0     1.0      3.58   \n",
            "25SA40960            0  ...     0.0    21.0      7.06   \n",
            "26AA53150           10  ...     0.0     1.0      8.00   \n",
            "...                ...  ...     ...     ...       ...   \n",
            "AC0CR70622           0  ...     0.0     0.0    162.20   \n",
            "AC0CR71111           0  ...     0.0     1.0    192.33   \n",
            "V151020603           0  ...     0.0     0.0      4.71   \n",
            "V226030050           0  ...     0.0     0.0      4.71   \n",
            "Z907284300           0  ...     0.0     0.0      0.00   \n",
            "\n",
            "                                        Modelos Lista Técnica    Material  \\\n",
            "Material                                                                    \n",
            "13QER70400  FS-504/FS-505/FS-509/FS-513/FS-517/FS-531/FS-6...           0   \n",
            "20AA15140                               LT-211/LU-202/LU-202M   20AA15140   \n",
            "20AAR70600  LT-211/LU-202/LU-202M/LU-202XL/LU-202XLM/LU-208XL  20AAR70600   \n",
            "25SA40960   7255/7272/8050/ACCURIOPRESS C2060/ACCURIOPRESS...   25SA40960   \n",
            "26AA53150   7075/7085/ACCURIOLABEL 400/ACCURIOPRESS 6136P/...   26AA53150   \n",
            "...                                                       ...         ...   \n",
            "AC0CR70622                                ACCURIOPRESS C14000  AC0CR70622   \n",
            "AC0CR71111                                ACCURIOPRESS C14000  AC0CR71111   \n",
            "V151020603  ACCURIOLABEL 190/BIZHUB PRESS C71CF/ACCURIOLAB...           0   \n",
            "V226030050  ACCURIOPRESS 6136P/ACCURIOPRESS 7136P/ACCURIOP...           0   \n",
            "Z907284300                                                  0           0   \n",
            "\n",
            "              Similar1    Similar2  Similar3  Similar4  Durabilidade  \n",
            "Material                                                              \n",
            "13QER70400           0           0         0         0             0  \n",
            "20AA15140            -           -         -         -             0  \n",
            "20AAR70600   20AA-4550           -         -         -             0  \n",
            "25SA40960            -           -         -         -           Sim  \n",
            "26AA53150            -           -         -         -           Sim  \n",
            "...                ...         ...       ...       ...           ...  \n",
            "AC0CR70622  AC0CR70611  AC0CR70600         -         -             0  \n",
            "AC0CR71111           -           -         -         -             0  \n",
            "V151020603           0           0         0         0             0  \n",
            "V226030050           0           0         0         0             0  \n",
            "Z907284300           0           0         0         0             0  \n",
            "\n",
            "[144 rows x 35 columns]\n"
          ]
        }
      ],
      "source": [
        "# Realizar left join entre as tabelas usando a coluna \"Material\" como chave\n",
        "merged_table_6 = merged_table_5.merge(tabela_dinamica_classificacao, how='left', left_index=True, right_index=True)\n",
        "\n",
        "# Preencher valores nulos com zero\n",
        "merged_table_6 = merged_table_6.fillna(0)\n",
        "\n",
        "print(merged_table_6)"
      ]
    },
    {
      "cell_type": "code",
      "execution_count": 191,
      "metadata": {
        "colab": {
          "base_uri": "https://localhost:8080/"
        },
        "id": "aYCsNgDTujli",
        "outputId": "c3515f20-4a27-401d-fa49-4195f3f8cad2"
      },
      "outputs": [
        {
          "data": {
            "text/plain": [
              "Index(['CE04_zva70', 'CE05_zva70', 'CE10_zva70', 'CE11_zva70', 'CE13_zva70',\n",
              "       'Denominação', 'Criado por', 'Canal', 'Pendências Gerais', 'CE01_zstok',\n",
              "       'CE02_zstok', 'CE03_zstok', 'CE04_zstok', 'CE05_zstok', 'CE06_zstok',\n",
              "       'CE07_zstok', 'CE08_zstok', 'CE09_zstok', 'CE10_zstok', 'CE11_zstok',\n",
              "       'CE13_zstok', 'Contr.qualid.', 'Aug/24', 'Jul/24', 'Jun/24', 'May/24',\n",
              "       'Sep/24', 'Montante', 'Modelos Lista Técnica', 'Material', 'Similar1',\n",
              "       'Similar2', 'Similar3', 'Similar4', 'Durabilidade'],\n",
              "      dtype='object')"
            ]
          },
          "execution_count": 191,
          "metadata": {},
          "output_type": "execute_result"
        }
      ],
      "source": [
        "merged_table_6.columns"
      ]
    },
    {
      "cell_type": "code",
      "execution_count": 192,
      "metadata": {
        "id": "eCzTViJly1uF"
      },
      "outputs": [],
      "source": [
        "# Supondo que você tenha um DataFrame chamado 'merged_table_2'\n",
        "# Certifique-se de ajustar isso conforme necessário com o nome correto do seu DataFrame\n",
        "\n",
        "# Especificar o caminho do arquivo Excel de saída\n",
        "caminho_saida = r'C:\\Users\\fsp_adolpho.salvador\\Desktop\\Konica Minolta\\Desktop Cloud - Documentos\\Desktop\\Py\\Pendencias\\Mapa.xlsx'\n",
        "\n",
        "# Exportar o DataFrame para o arquivo Excel\n",
        "merged_table_6.to_excel(caminho_saida, index=True)\n"
      ]
    },
    {
      "cell_type": "code",
      "execution_count": 193,
      "metadata": {
        "colab": {
          "base_uri": "https://localhost:8080/",
          "height": 187
        },
        "id": "e86m_xIZzbH3",
        "outputId": "df79a1f3-3b9e-48f8-f40c-3e096f901b4e"
      },
      "outputs": [
        {
          "data": {
            "text/plain": [
              "<bound method NDFrame.head of             CE04_zva70  CE05_zva70  CE10_zva70  CE11_zva70  CE13_zva70  \\\n",
              "Material                                                                 \n",
              "13QER70400           0           1           0           2           0   \n",
              "20AA15140            0           2           0           0           0   \n",
              "20AAR70600           0           1           0           0           0   \n",
              "25SA40960            0           0          40           0           0   \n",
              "26AA53150            0           0          20           0           0   \n",
              "...                ...         ...         ...         ...         ...   \n",
              "AC0CR70622           0           0           0           1           0   \n",
              "AC0CR71111           0           1           0           0           0   \n",
              "V151020603           0           0           0           3           0   \n",
              "V226030050           0           0           0           0           1   \n",
              "Z907284300           0           0           0           1           0   \n",
              "\n",
              "                                         Denominação  \\\n",
              "Material                                               \n",
              "13QER70400                     CONJUNTO DE SOLENOÍDE   \n",
              "20AA15140                               CABO  DE AÇO   \n",
              "20AAR70600                                  LIMPADOR   \n",
              "25SA40960                                   BORRACHA   \n",
              "26AA53150                                   ISOLANTE   \n",
              "...                                              ...   \n",
              "AC0CR70622                   CONJUNTO CAIXA COLETORA   \n",
              "AC0CR71111                      CONJUNTO DE REGISTRO   \n",
              "V151020603                                  PARAFUSO   \n",
              "V226030050                                   CS ring   \n",
              "Z907284300  UNIDADE CIS - LEITOR DE IMAGEM HN12H-X03   \n",
              "\n",
              "                                                   Criado por  \\\n",
              "Material                                                        \n",
              "13QER70400  REGILENE DE CASSIA LUIZ OLIVEIRA/JESSIE OLIVEI...   \n",
              "20AA15140                    REGILENE DE CASSIA LUIZ OLIVEIRA   \n",
              "20AAR70600                                    ROBERTA MACHADO   \n",
              "25SA40960                                         WILLIAM LUZ   \n",
              "26AA53150                                         WILLIAM LUZ   \n",
              "...                                                       ...   \n",
              "AC0CR70622                       NAYARA DA SILVA ALVES ABRAMO   \n",
              "AC0CR71111                   REGILENE DE CASSIA LUIZ OLIVEIRA   \n",
              "V151020603                   REGILENE DE CASSIA LUIZ OLIVEIRA   \n",
              "V226030050                                        CARLA SAKAI   \n",
              "Z907284300                   REGILENE DE CASSIA LUIZ OLIVEIRA   \n",
              "\n",
              "                                             Canal  Pendências Gerais  \\\n",
              "Material                                                                \n",
              "13QER70400  VENDA DIRETA/VENDA DIRETA/VENDA DIRETA                1.0   \n",
              "20AA15140                             VENDA DIRETA                3.0   \n",
              "20AAR70600                          VENDA INDIRETA                1.0   \n",
              "25SA40960                                      nan                0.0   \n",
              "26AA53150                                      nan                0.0   \n",
              "...                                            ...                ...   \n",
              "AC0CR70622                            VENDA DIRETA                0.0   \n",
              "AC0CR71111                            VENDA DIRETA                0.0   \n",
              "V151020603                            VENDA DIRETA                0.0   \n",
              "V226030050                          VENDA INDIRETA                0.0   \n",
              "Z907284300                            VENDA DIRETA                0.0   \n",
              "\n",
              "            CE01_zstok  ...  May/24  Sep/24  Montante  \\\n",
              "Material                ...                             \n",
              "13QER70400           0  ...     0.0     0.0      9.04   \n",
              "20AA15140            0  ...     0.0     1.0      2.72   \n",
              "20AAR70600           0  ...     0.0     1.0      3.58   \n",
              "25SA40960            0  ...     0.0    21.0      7.06   \n",
              "26AA53150           10  ...     0.0     1.0      8.00   \n",
              "...                ...  ...     ...     ...       ...   \n",
              "AC0CR70622           0  ...     0.0     0.0    162.20   \n",
              "AC0CR71111           0  ...     0.0     1.0    192.33   \n",
              "V151020603           0  ...     0.0     0.0      4.71   \n",
              "V226030050           0  ...     0.0     0.0      4.71   \n",
              "Z907284300           0  ...     0.0     0.0      0.00   \n",
              "\n",
              "                                        Modelos Lista Técnica    Material  \\\n",
              "Material                                                                    \n",
              "13QER70400  FS-504/FS-505/FS-509/FS-513/FS-517/FS-531/FS-6...           0   \n",
              "20AA15140                               LT-211/LU-202/LU-202M   20AA15140   \n",
              "20AAR70600  LT-211/LU-202/LU-202M/LU-202XL/LU-202XLM/LU-208XL  20AAR70600   \n",
              "25SA40960   7255/7272/8050/ACCURIOPRESS C2060/ACCURIOPRESS...   25SA40960   \n",
              "26AA53150   7075/7085/ACCURIOLABEL 400/ACCURIOPRESS 6136P/...   26AA53150   \n",
              "...                                                       ...         ...   \n",
              "AC0CR70622                                ACCURIOPRESS C14000  AC0CR70622   \n",
              "AC0CR71111                                ACCURIOPRESS C14000  AC0CR71111   \n",
              "V151020603  ACCURIOLABEL 190/BIZHUB PRESS C71CF/ACCURIOLAB...           0   \n",
              "V226030050  ACCURIOPRESS 6136P/ACCURIOPRESS 7136P/ACCURIOP...           0   \n",
              "Z907284300                                                  0           0   \n",
              "\n",
              "              Similar1    Similar2  Similar3  Similar4  Durabilidade  \n",
              "Material                                                              \n",
              "13QER70400           0           0         0         0             0  \n",
              "20AA15140            -           -         -         -             0  \n",
              "20AAR70600   20AA-4550           -         -         -             0  \n",
              "25SA40960            -           -         -         -           Sim  \n",
              "26AA53150            -           -         -         -           Sim  \n",
              "...                ...         ...       ...       ...           ...  \n",
              "AC0CR70622  AC0CR70611  AC0CR70600         -         -             0  \n",
              "AC0CR71111           -           -         -         -             0  \n",
              "V151020603           0           0         0         0             0  \n",
              "V226030050           0           0         0         0             0  \n",
              "Z907284300           0           0         0         0             0  \n",
              "\n",
              "[144 rows x 35 columns]>"
            ]
          },
          "execution_count": 193,
          "metadata": {},
          "output_type": "execute_result"
        }
      ],
      "source": [
        "merged_table_6.head"
      ]
    },
    {
      "cell_type": "code",
      "execution_count": null,
      "metadata": {
        "id": "lw_1k4QZzb9j"
      },
      "outputs": [],
      "source": []
    }
  ],
  "metadata": {
    "colab": {
      "collapsed_sections": [
        "YybzIMWxlALi",
        "O1WlUUCLlErb",
        "1Koc5JwAlIsj",
        "0XgTbAT2JGgy",
        "NVf1Tr1JJKSB"
      ],
      "provenance": []
    },
    "kernelspec": {
      "display_name": "Python 3",
      "name": "python3"
    },
    "language_info": {
      "codemirror_mode": {
        "name": "ipython",
        "version": 3
      },
      "file_extension": ".py",
      "mimetype": "text/x-python",
      "name": "python",
      "nbconvert_exporter": "python",
      "pygments_lexer": "ipython3",
      "version": "3.12.3"
    }
  },
  "nbformat": 4,
  "nbformat_minor": 0
}
