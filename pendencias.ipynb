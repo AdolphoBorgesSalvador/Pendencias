{
 "cells": [
  {
   "cell_type": "markdown",
   "metadata": {},
   "source": [
    "# Code"
   ]
  },
  {
   "cell_type": "markdown",
   "metadata": {},
   "source": [
    "## Set"
   ]
  },
  {
   "cell_type": "code",
   "execution_count": 22,
   "metadata": {
    "id": "TocGuzNwlVlT"
   },
   "outputs": [],
   "source": [
    "import pandas as pd"
   ]
  },
  {
   "cell_type": "code",
   "execution_count": 23,
   "metadata": {
    "id": "Bow97gC5gJK3"
   },
   "outputs": [],
   "source": [
    "caminho_pend = r'C:\\Users\\fsp_adolpho.salvador\\Desktop\\Konica Minolta\\Desktop Cloud - Documentos\\Desktop\\Py\\Pendencias\\Arquivos\\PEND.XLSX'\n",
    "caminho_pend_geral = r'C:\\Users\\fsp_adolpho.salvador\\Desktop\\Konica Minolta\\Desktop Cloud - Documentos\\Desktop\\Py\\Pendencias\\Arquivos\\pend geral.XLSX'\n",
    "caminho_zstok = r'C:\\Users\\fsp_adolpho.salvador\\Desktop\\Konica Minolta\\Desktop Cloud - Documentos\\Desktop\\Py\\Pendencias\\Arquivos\\zstok.XLSX'\n",
    "caminho_fup = r'C:\\Users\\fsp_adolpho.salvador\\Desktop\\Konica Minolta\\Desktop Cloud - Documentos\\Desktop\\Py\\Pendencias\\Arquivos\\fup.XLSX'\n",
    "caminho_fob = r'C:\\Users\\fsp_adolpho.salvador\\Desktop\\Konica Minolta\\Desktop Cloud - Documentos\\Desktop\\Py\\Pendencias\\Arquivos\\ZTMM069.XLSX'\n",
    "caminho_pecas = r'C:\\Users\\fsp_adolpho.salvador\\Desktop\\Konica Minolta\\Desktop Cloud - Documentos\\Desktop\\Py\\Pendencias\\Arquivos\\ZTMM085.XLSX'\n",
    "caminho_atuais = r'C:\\Users\\fsp_adolpho.salvador\\Desktop\\Konica Minolta\\Desktop Cloud - Documentos\\Desktop\\Py\\Pendencias\\Arquivos\\atuais.xlsx'\n",
    "caminho_classificacao =r'C:\\Users\\fsp_adolpho.salvador\\Desktop\\Konica Minolta\\Desktop Cloud - Documentos\\Desktop\\Py\\Pendencias\\Arquivos\\Classificação das Peças.xlsx'"
   ]
  },
  {
   "cell_type": "markdown",
   "metadata": {
    "id": "YybzIMWxlALi"
   },
   "source": [
    "## Pendências"
   ]
  },
  {
   "cell_type": "code",
   "execution_count": 24,
   "metadata": {
    "id": "PufxUea3lZXr"
   },
   "outputs": [],
   "source": [
    "pendencias = pd.read_excel(caminho_pend)"
   ]
  },
  {
   "cell_type": "code",
   "execution_count": 25,
   "metadata": {
    "colab": {
     "base_uri": "https://localhost:8080/"
    },
    "id": "mV-INAiSmEyU",
    "outputId": "5e4e28da-0cd9-4a18-f3d7-3c702a8d1dae"
   },
   "outputs": [
    {
     "data": {
      "text/plain": [
       "Index(['Nome 1', 'Cliente', 'Doc.vendas', 'Criado em', 'Item', 'Material',\n",
       "       'Denominação', 'Tipo material', 'Centro', 'Quantidade da ordem',\n",
       "       'Qtd.confirm.acumul.', 'Qtd.pendente', 'Unidade venda',\n",
       "       'Data de remessa', 'Criado por', 'Canal', 'Classificação'],\n",
       "      dtype='object')"
      ]
     },
     "execution_count": 25,
     "metadata": {},
     "output_type": "execute_result"
    }
   ],
   "source": [
    "pendencias.columns\n"
   ]
  },
  {
   "cell_type": "code",
   "execution_count": 26,
   "metadata": {
    "colab": {
     "base_uri": "https://localhost:8080/"
    },
    "id": "MeT87jF5qTOq",
    "outputId": "b79fb7db-8211-41ce-9687-0333a4c8814c"
   },
   "outputs": [
    {
     "name": "stdout",
     "output_type": "stream",
     "text": [
      "                           Criado por           Canal\n",
      "0           RODRIGO PEREIRA DOS ANJOS    VENDA DIRETA\n",
      "1           RODRIGO PEREIRA DOS ANJOS    VENDA DIRETA\n",
      "2           RODRIGO PEREIRA DOS ANJOS    VENDA DIRETA\n",
      "3                           ANA PAULA  VENDA INDIRETA\n",
      "4                           ANA PAULA  VENDA INDIRETA\n",
      "..                                ...             ...\n",
      "164  REGILENE DE CASSIA LUIZ OLIVEIRA    VENDA DIRETA\n",
      "165              THAYS JESUS DE SOUZA    VENDA DIRETA\n",
      "166  REGILENE DE CASSIA LUIZ OLIVEIRA    VENDA DIRETA\n",
      "167       JULIA MARIA MORETO DA SILVA    VENDA DIRETA\n",
      "168       ÁVILA MORAES DE VASCONCELOS    VENDA DIRETA\n",
      "\n",
      "[169 rows x 2 columns]\n"
     ]
    }
   ],
   "source": [
    "colunas_selecionadas = pendencias[[ 'Criado por',\"Canal\"]]\n",
    "\n",
    "print(colunas_selecionadas)\n"
   ]
  },
  {
   "cell_type": "code",
   "execution_count": 27,
   "metadata": {
    "colab": {
     "base_uri": "https://localhost:8080/"
    },
    "id": "rhz6J-PsmXZP",
    "outputId": "310afde0-923c-44ec-c93b-054718245d52"
   },
   "outputs": [
    {
     "name": "stdout",
     "output_type": "stream",
     "text": [
      "O número de linhas em merged_table é: 169\n"
     ]
    }
   ],
   "source": [
    "num_linhas = pendencias.shape[0]\n",
    "\n",
    "# Exibir o número de linhas\n",
    "print(f'O número de linhas em merged_table é: {num_linhas}')\n",
    "\n"
   ]
  },
  {
   "cell_type": "code",
   "execution_count": 28,
   "metadata": {
    "colab": {
     "base_uri": "https://localhost:8080/"
    },
    "id": "y6pzFUwumNdt",
    "outputId": "2d345a72-63c3-4610-827d-ce219e571a66"
   },
   "outputs": [
    {
     "name": "stdout",
     "output_type": "stream",
     "text": [
      "Centro      CE03_zva70  CE04_zva70  CE05_zva70  CE10_zva70  CE11_zva70  \\\n",
      "Material                                                                 \n",
      "08AA77360            4           0           0           0           0   \n",
      "20AL48470G           2           0           0           0           0   \n",
      "25AAR70300           0           0           0           0           3   \n",
      "26NA32870            0           0           1           0           0   \n",
      "4030300501           0           0           0           0           3   \n",
      "...                ...         ...         ...         ...         ...   \n",
      "LY5606001            0           0           0           0           1   \n",
      "V500010073           0           0           0           0          14   \n",
      "V500010081           0           3           0           0           0   \n",
      "V500020030           0           0           0           0          14   \n",
      "V570010057           0           0           0           0           9   \n",
      "\n",
      "Centro      CE13_zva70  \n",
      "Material                \n",
      "08AA77360            0  \n",
      "20AL48470G           0  \n",
      "25AAR70300           0  \n",
      "26NA32870            0  \n",
      "4030300501           0  \n",
      "...                ...  \n",
      "LY5606001            0  \n",
      "V500010073           0  \n",
      "V500010081           0  \n",
      "V500020030           0  \n",
      "V570010057           0  \n",
      "\n",
      "[144 rows x 6 columns]\n"
     ]
    }
   ],
   "source": [
    "import pandas as pd\n",
    "\n",
    "# Se você já não tiver feito isso, crie a tabela dinâmica como mostrado no código fornecido\n",
    "tabela_dinamica_pend = pd.pivot_table(pendencias, values='Qtd.pendente', index='Material', columns='Centro', aggfunc='sum', fill_value=0)\n",
    "tabela_dinamica_pend = tabela_dinamica_pend.add_suffix('_zva70')\n",
    "\n",
    "# Exibir a tabela dinâmica com as colunas adicionadas\n",
    "print(tabela_dinamica_pend)\n",
    "\n"
   ]
  },
  {
   "cell_type": "code",
   "execution_count": 29,
   "metadata": {
    "colab": {
     "base_uri": "https://localhost:8080/"
    },
    "id": "xu2h5mTo5C2k",
    "outputId": "34a5239c-fda2-4cec-c508-a6a8e7fe12e9"
   },
   "outputs": [
    {
     "name": "stdout",
     "output_type": "stream",
     "text": [
      "                                         Denominação\n",
      "Material                                            \n",
      "08AA77360                                 ENGRENAGEM\n",
      "20AL48470G                                     BOTÃO\n",
      "25AAR70300                                       FIO\n",
      "26NA32870                          MOLA DE PRESSÃO 2\n",
      "4030300501                                      ROLO\n",
      "...                                              ...\n",
      "LY5606001   UNID FIXAÇÃO MOD HL5470DW/5472/8712/6182\n",
      "V500010073                                  PRESILHA\n",
      "V500010081                                  PRESILHA\n",
      "V500020030                                     GARRA\n",
      "V570010057                          WING EDGE SADDLE\n",
      "\n",
      "[144 rows x 1 columns]\n"
     ]
    }
   ],
   "source": [
    "tabela_dinamica_pend2 = pd.pivot_table(pendencias, values='Denominação', index='Material', aggfunc='first', fill_value=0)\n",
    "\n",
    "print(tabela_dinamica_pend2)"
   ]
  },
  {
   "cell_type": "code",
   "execution_count": 30,
   "metadata": {
    "colab": {
     "base_uri": "https://localhost:8080/"
    },
    "id": "f8VigsvV56_B",
    "outputId": "6a55d80c-4884-4b0f-a44b-e3e5b45360b4"
   },
   "outputs": [
    {
     "name": "stdout",
     "output_type": "stream",
     "text": [
      "                                                   Criado por\n",
      "Material                                                     \n",
      "08AA77360                                 BRENDA DANTAS SOUZA\n",
      "20AL48470G                                BRENDA DANTAS SOUZA\n",
      "25AAR70300                              JESSIE OLIVEIRA SILVA\n",
      "26NA32870                                 BRENDA DANTAS SOUZA\n",
      "4030300501                                    ROBERTA MACHADO\n",
      "...                                                       ...\n",
      "LY5606001                              MARIANA NUNES DA SILVA\n",
      "V500010073  REGILENE DE CASSIA LUIZ OLIVEIRA/REGILENE DE C...\n",
      "V500010081                        JULIA MARIA MORETO DA SILVA\n",
      "V500020030  REGILENE DE CASSIA LUIZ OLIVEIRA/REGILENE DE C...\n",
      "V570010057  REGILENE DE CASSIA LUIZ OLIVEIRA/REGILENE DE C...\n",
      "\n",
      "[144 rows x 1 columns]\n",
      "                                             Canal\n",
      "Material                                          \n",
      "08AA77360                                      nan\n",
      "20AL48470G                                     nan\n",
      "25AAR70300                            VENDA DIRETA\n",
      "26NA32870                             VENDA DIRETA\n",
      "4030300501                          VENDA INDIRETA\n",
      "...                                            ...\n",
      "LY5606001                             VENDA DIRETA\n",
      "V500010073  VENDA DIRETA/VENDA DIRETA/VENDA DIRETA\n",
      "V500010081                            VENDA DIRETA\n",
      "V500020030  VENDA DIRETA/VENDA DIRETA/VENDA DIRETA\n",
      "V570010057               VENDA DIRETA/VENDA DIRETA\n",
      "\n",
      "[144 rows x 1 columns]\n"
     ]
    }
   ],
   "source": [
    "tabela_dinamica_pend3 = pd.pivot_table(pendencias, values='Criado por', index='Material', aggfunc=lambda x: '/'.join(x), fill_value='')\n",
    "tabela_dinamica_pend4 = pd.pivot_table(pendencias, values='Canal', index='Material', aggfunc=lambda x: '/'.join(str(v) for v in x), fill_value='')\n",
    "\n",
    "print(tabela_dinamica_pend3)\n",
    "print(tabela_dinamica_pend4)"
   ]
  },
  {
   "cell_type": "code",
   "execution_count": 31,
   "metadata": {
    "colab": {
     "base_uri": "https://localhost:8080/"
    },
    "id": "Ci8wemth6STh",
    "outputId": "7ff9823c-41db-4015-9075-0858a2011a34"
   },
   "outputs": [
    {
     "name": "stdout",
     "output_type": "stream",
     "text": [
      "            CE03_zva70  CE04_zva70  CE05_zva70  CE10_zva70  CE11_zva70  \\\n",
      "Material                                                                 \n",
      "08AA77360            4           0           0           0           0   \n",
      "20AL48470G           2           0           0           0           0   \n",
      "25AAR70300           0           0           0           0           3   \n",
      "26NA32870            0           0           1           0           0   \n",
      "4030300501           0           0           0           0           3   \n",
      "...                ...         ...         ...         ...         ...   \n",
      "LY5606001            0           0           0           0           1   \n",
      "V500010073           0           0           0           0          14   \n",
      "V500010081           0           3           0           0           0   \n",
      "V500020030           0           0           0           0          14   \n",
      "V570010057           0           0           0           0           9   \n",
      "\n",
      "            CE13_zva70                               Denominação  \\\n",
      "Material                                                           \n",
      "08AA77360            0                                ENGRENAGEM   \n",
      "20AL48470G           0                                     BOTÃO   \n",
      "25AAR70300           0                                       FIO   \n",
      "26NA32870            0                         MOLA DE PRESSÃO 2   \n",
      "4030300501           0                                      ROLO   \n",
      "...                ...                                       ...   \n",
      "LY5606001            0  UNID FIXAÇÃO MOD HL5470DW/5472/8712/6182   \n",
      "V500010073           0                                  PRESILHA   \n",
      "V500010081           0                                  PRESILHA   \n",
      "V500020030           0                                     GARRA   \n",
      "V570010057           0                          WING EDGE SADDLE   \n",
      "\n",
      "                                                   Criado por  \\\n",
      "Material                                                        \n",
      "08AA77360                                 BRENDA DANTAS SOUZA   \n",
      "20AL48470G                                BRENDA DANTAS SOUZA   \n",
      "25AAR70300                              JESSIE OLIVEIRA SILVA   \n",
      "26NA32870                                 BRENDA DANTAS SOUZA   \n",
      "4030300501                                    ROBERTA MACHADO   \n",
      "...                                                       ...   \n",
      "LY5606001                              MARIANA NUNES DA SILVA   \n",
      "V500010073  REGILENE DE CASSIA LUIZ OLIVEIRA/REGILENE DE C...   \n",
      "V500010081                        JULIA MARIA MORETO DA SILVA   \n",
      "V500020030  REGILENE DE CASSIA LUIZ OLIVEIRA/REGILENE DE C...   \n",
      "V570010057  REGILENE DE CASSIA LUIZ OLIVEIRA/REGILENE DE C...   \n",
      "\n",
      "                                             Canal  \n",
      "Material                                            \n",
      "08AA77360                                      nan  \n",
      "20AL48470G                                     nan  \n",
      "25AAR70300                            VENDA DIRETA  \n",
      "26NA32870                             VENDA DIRETA  \n",
      "4030300501                          VENDA INDIRETA  \n",
      "...                                            ...  \n",
      "LY5606001                             VENDA DIRETA  \n",
      "V500010073  VENDA DIRETA/VENDA DIRETA/VENDA DIRETA  \n",
      "V500010081                            VENDA DIRETA  \n",
      "V500020030  VENDA DIRETA/VENDA DIRETA/VENDA DIRETA  \n",
      "V570010057               VENDA DIRETA/VENDA DIRETA  \n",
      "\n",
      "[144 rows x 9 columns]\n"
     ]
    }
   ],
   "source": [
    "# Realizar left join entre as tabelas usando a coluna \"Material\" como chave\n",
    "merged_table_pend = tabela_dinamica_pend.merge(tabela_dinamica_pend2, how='left', left_index=True, right_index=True)\n",
    "merged_table_pend2 = merged_table_pend.merge(tabela_dinamica_pend3, how='left', left_index=True, right_index=True)\n",
    "_table_pend = merged_table_pend2.merge(tabela_dinamica_pend4, how='left', left_index=True, right_index=True)\n",
    "# Preencher valores nulos com zero\n",
    "_table_pend = _table_pend.fillna(0)\n",
    "\n",
    "print(_table_pend)"
   ]
  },
  {
   "cell_type": "markdown",
   "metadata": {
    "id": "O1WlUUCLlErb"
   },
   "source": [
    "## Pendencia geral"
   ]
  },
  {
   "cell_type": "code",
   "execution_count": 32,
   "metadata": {
    "id": "YoDWXIOQneYO"
   },
   "outputs": [],
   "source": [
    "pendencias_geral = pd.read_excel(caminho_pend_geral)"
   ]
  },
  {
   "cell_type": "code",
   "execution_count": 33,
   "metadata": {
    "colab": {
     "base_uri": "https://localhost:8080/"
    },
    "id": "bpySQbrYXNmV",
    "outputId": "f456d55d-360c-4e47-ac6b-622359dca4ef"
   },
   "outputs": [
    {
     "data": {
      "text/plain": [
       "<bound method NDFrame.head of                                  Nome 1  Cliente  Doc.vendas  Criado em  Item  \\\n",
       "0       3EX COM DE PROD. INFORM.LTDA ME     3117      207121 2024-09-12    20   \n",
       "1       3EX COM DE PROD. INFORM.LTDA ME     3117      208628 2024-11-13    40   \n",
       "2       3EX COM DE PROD. INFORM.LTDA ME     3117      210500 2025-02-18    70   \n",
       "3      ADENILSON PEREIRA PAPELARIA - ME     4795    50205982 2025-01-28    10   \n",
       "4      ADENILSON PEREIRA PAPELARIA - ME     4795    50205982 2025-01-28    20   \n",
       "..                                  ...      ...         ...        ...   ...   \n",
       "72  T&C TREINAMENTO CONSULT E COML LTDA     3371      208453 2024-11-04    10   \n",
       "73   TAKESHI SERVICOS E LOC DE IMP LTDA     3963      206659 2024-08-28   100   \n",
       "74      TECNOSET INF. PROD. E SERV LTDA     1956      209687 2024-12-27    10   \n",
       "75  TUDU PHOOTO SERVICOS E COMERCIO LTD    11162    50209771 2025-03-28    20   \n",
       "76           WBL GRAFICA E EDITORA LTDA    10113    50209452 2025-03-25    70   \n",
       "\n",
       "      Material                   Denominação Tipo material Centro  \\\n",
       "0   A50U520001                          ROLO          PCPS   CE13   \n",
       "1   A03U553000             LÂMINA DE LIMPEZA          PCPS   CE13   \n",
       "2   A143PP0000  CONJUNTO DO FILME DE FRICÇÃO          PCPS   CE13   \n",
       "3    65AA88020                   TERMISTORES          PCPS   CE11   \n",
       "4   A1RFM50200         SENSOR DE TEMPERATURA          PCPS   CE11   \n",
       "..         ...                           ...           ...    ...   \n",
       "72  A03U553000             LÂMINA DE LIMPEZA          PCPS   CE13   \n",
       "73  A50U520001                          ROLO          PCPS   CE13   \n",
       "74  AA2JH02N0L             CONJUNTO DA PLACA          PCPS   CE13   \n",
       "75  AC0CR74322   UNIDADE DE LIMPEZA AUXILIAR          PCPS   CE11   \n",
       "76  A1RF163400                     DOBRADIÇA          PCPS   CE11   \n",
       "\n",
       "    Quantidade da ordem  Qtd.confirm.acumul.  Qtd.pendente Unidade venda  \\\n",
       "0                     1                    0             1            PÇ   \n",
       "1                     1                    0             1            PÇ   \n",
       "2                     1                    0             1            PÇ   \n",
       "3                     1                    0             1            PÇ   \n",
       "4                     1                    0             1            PÇ   \n",
       "..                  ...                  ...           ...           ...   \n",
       "72                    2                    0             2            PÇ   \n",
       "73                    1                    0             1            PÇ   \n",
       "74                    2                    1             1            PÇ   \n",
       "75                    1                    0             1            PÇ   \n",
       "76                    2                    0             2            PÇ   \n",
       "\n",
       "   Data de remessa                        Criado por           Canal  \\\n",
       "0       2024-12-11                         ANA PAULA  VENDA INDIRETA   \n",
       "1       2025-02-11         MARIANA PEREIRA DOS ANJOS  VENDA INDIRETA   \n",
       "2       2025-05-19         MARIANA PEREIRA DOS ANJOS  VENDA INDIRETA   \n",
       "3       2025-04-28         RODRIGO PEREIRA DOS ANJOS    VENDA DIRETA   \n",
       "4       2025-04-28         RODRIGO PEREIRA DOS ANJOS    VENDA DIRETA   \n",
       "..             ...                               ...             ...   \n",
       "72      2025-02-02                   ROBERTA MACHADO  VENDA INDIRETA   \n",
       "73      2024-11-26                         ANA PAULA  VENDA INDIRETA   \n",
       "74      2025-03-27          PATRICIA ALVES PELAKOSKI  VENDA INDIRETA   \n",
       "75      2025-06-26       ÁVILA MORAES DE VASCONCELOS    VENDA DIRETA   \n",
       "76      2025-06-23  REGILENE DE CASSIA LUIZ OLIVEIRA    VENDA DIRETA   \n",
       "\n",
       "   Classificação  \n",
       "0     VI_REVENDA  \n",
       "1     VI_REVENDA  \n",
       "2     VI_REVENDA  \n",
       "3      VD_CLI_SP  \n",
       "4      VD_CLI_SP  \n",
       "..           ...  \n",
       "72    VI_REVENDA  \n",
       "73    VI_REVENDA  \n",
       "74    VI_REVENDA  \n",
       "75     VD_CLI_SP  \n",
       "76     VD_CLI_SP  \n",
       "\n",
       "[77 rows x 17 columns]>"
      ]
     },
     "execution_count": 33,
     "metadata": {},
     "output_type": "execute_result"
    }
   ],
   "source": [
    "pendencias_geral.head"
   ]
  },
  {
   "cell_type": "code",
   "execution_count": 34,
   "metadata": {
    "colab": {
     "base_uri": "https://localhost:8080/"
    },
    "id": "tUlLUsv_nt9O",
    "outputId": "ba253d33-cd8f-49c5-d91d-89298c47b9e6"
   },
   "outputs": [
    {
     "data": {
      "text/plain": [
       "Index(['Nome 1', 'Cliente', 'Doc.vendas', 'Criado em', 'Item', 'Material',\n",
       "       'Denominação', 'Tipo material', 'Centro', 'Quantidade da ordem',\n",
       "       'Qtd.confirm.acumul.', 'Qtd.pendente', 'Unidade venda',\n",
       "       'Data de remessa', 'Criado por', 'Canal', 'Classificação'],\n",
       "      dtype='object')"
      ]
     },
     "execution_count": 34,
     "metadata": {},
     "output_type": "execute_result"
    }
   ],
   "source": [
    "pendencias_geral.columns"
   ]
  },
  {
   "cell_type": "code",
   "execution_count": 35,
   "metadata": {
    "colab": {
     "base_uri": "https://localhost:8080/"
    },
    "id": "RhCXEkBkn-IH",
    "outputId": "f71c9638-eee3-4d8f-a585-c958c53df495"
   },
   "outputs": [
    {
     "name": "stdout",
     "output_type": "stream",
     "text": [
      "            Pendências Gerais\n",
      "Material                     \n",
      "26NA32870                  12\n",
      "55VA29150                   1\n",
      "56UA77440                   1\n",
      "56UA77710                   3\n",
      "56UA77770                   1\n",
      "65AA27180                   5\n",
      "65AA80112                   1\n",
      "65AA88020                   2\n",
      "65AAR75300                  4\n",
      "A00J106202                  2\n",
      "A03U553000                  4\n",
      "A0G6345600                 10\n",
      "A0G6405400                  1\n",
      "A0G6745100                  1\n",
      "A0VD165404                  1\n",
      "A143PP0000                  1\n",
      "A1RF163400                  2\n",
      "A1RF879900                  2\n",
      "A1RFM50200                  1\n",
      "A1RFR70500                  2\n",
      "A4EU252000                  6\n",
      "A4EU742800                  2\n",
      "A4EUR70600                  1\n",
      "A4EUR70J00                  2\n",
      "A4EUR76P00                  2\n",
      "A4EUR77211                  2\n",
      "A50U169002                  1\n",
      "A50U520001                  5\n",
      "A50U765000                 16\n",
      "A5AW460411                 16\n",
      "A5AW861100                  1\n",
      "A5AW862400                  1\n",
      "A5AWR70177                  2\n",
      "A5AWR72500                  2\n",
      "A5AWR73111                  3\n",
      "A7AHPP3300                  1\n",
      "A7PUM40800                  4\n",
      "A7PUR71200                  3\n",
      "A92EN10B00                  1\n",
      "A93EN11412                  1\n",
      "A9JTR71300                  1\n",
      "A9JTR71G00                  1\n",
      "A9U1R90111                  5\n",
      "AA2JH02N0L                  1\n",
      "AA6RN10600                  1\n",
      "AC0CR74322                  2\n",
      "ACTE011                     4\n",
      "V500020030                  4\n"
     ]
    }
   ],
   "source": [
    "\n",
    "tabela_dinamica_pendente = pd.pivot_table(pendencias_geral, values='Qtd.pendente', index='Material', aggfunc='sum', fill_value=0)\n",
    "\n",
    "tabela_dinamica_pendente = tabela_dinamica_pendente.rename(columns={'Qtd.pendente': 'Pendências Gerais'})\n",
    "\n",
    "print(tabela_dinamica_pendente)\n",
    "\n"
   ]
  },
  {
   "cell_type": "markdown",
   "metadata": {
    "id": "1Koc5JwAlIsj"
   },
   "source": [
    "## zstok"
   ]
  },
  {
   "cell_type": "code",
   "execution_count": 36,
   "metadata": {
    "id": "vjBPjqgdp6aB"
   },
   "outputs": [],
   "source": [
    "zstok = pd.read_excel(caminho_zstok)"
   ]
  },
  {
   "cell_type": "code",
   "execution_count": 37,
   "metadata": {
    "colab": {
     "base_uri": "https://localhost:8080/"
    },
    "id": "J9xNs_oIqE63",
    "outputId": "16958948-75a0-46b6-bb08-80f5ffb652f6"
   },
   "outputs": [
    {
     "data": {
      "text/plain": [
       "Index(['Tipo de material', 'Material', 'Descrição', 'UMB', 'Cen.', 'Dep.',\n",
       "       'Pos.dpst.', 'Utiliz.livre', 'Contr.qualid.', 'Transf.dep.',\n",
       "       'Transfer.(centro)', 'Bloqueado', 'Estoque Total', 'Reservado',\n",
       "       'Remessa->Cliente', 'SC', 'Status todos centros', 'SV',\n",
       "       'Status vendas'],\n",
       "      dtype='object')"
      ]
     },
     "execution_count": 37,
     "metadata": {},
     "output_type": "execute_result"
    }
   ],
   "source": [
    "zstok.columns"
   ]
  },
  {
   "cell_type": "code",
   "execution_count": 38,
   "metadata": {
    "colab": {
     "base_uri": "https://localhost:8080/"
    },
    "id": "5oKNJqiQqXW4",
    "outputId": "21a2b91e-4612-448e-e6e9-c1198a880375"
   },
   "outputs": [
    {
     "name": "stdout",
     "output_type": "stream",
     "text": [
      "Cen.        CE01_zstok  CE03_zstok  CE05_zstok  CE07_zstok  CE09_zstok  \\\n",
      "Material                                                                 \n",
      "08AA77360            0           0           4           0           0   \n",
      "20AL48470G           0           0           1           9           0   \n",
      "26NA32870            0           0          17           0           0   \n",
      "4030300501           0           0           0          14           0   \n",
      "55VA29150           12           0           0           0           4   \n",
      "...                ...         ...         ...         ...         ...   \n",
      "AC0CR77900           0           0           1           0           0   \n",
      "AC0CR79800           0           0          28           0           0   \n",
      "AC4GH01000           0           0           0           0           0   \n",
      "AC57761000           0           0           0           1           1   \n",
      "AC57812200           0           0           1           0           0   \n",
      "\n",
      "Cen.        CE10_zstok  CE11_zstok  CE13_zstok  \n",
      "Material                                        \n",
      "08AA77360            0           8           0  \n",
      "20AL48470G           0           7           0  \n",
      "26NA32870            0           0           5  \n",
      "4030300501           0           0           3  \n",
      "55VA29150            0           0           0  \n",
      "...                ...         ...         ...  \n",
      "AC0CR77900           0           2           0  \n",
      "AC0CR79800           0          14           0  \n",
      "AC4GH01000           0           1           0  \n",
      "AC57761000           0           2           1  \n",
      "AC57812200           0           0           0  \n",
      "\n",
      "[100 rows x 8 columns]\n"
     ]
    }
   ],
   "source": [
    "tabela_dinamica_zstok = pd.pivot_table(zstok, values='Utiliz.livre', index='Material', columns='Cen.', aggfunc='sum', fill_value=0)\n",
    "\n",
    "tabela_dinamica_zstok = tabela_dinamica_zstok.add_suffix('_zstok')\n",
    "\n",
    "print(tabela_dinamica_zstok)"
   ]
  },
  {
   "cell_type": "code",
   "execution_count": 39,
   "metadata": {
    "colab": {
     "base_uri": "https://localhost:8080/"
    },
    "id": "LZin8zUcqj6R",
    "outputId": "1c9badb8-038a-45a2-c3c7-898bb74e63ae"
   },
   "outputs": [
    {
     "name": "stdout",
     "output_type": "stream",
     "text": [
      "            Contr.qualid.\n",
      "Material                 \n",
      "08AA77360               0\n",
      "20AL48470G              0\n",
      "26NA32870               0\n",
      "4030300501              0\n",
      "55VA29150               0\n",
      "...                   ...\n",
      "AC0CR77900              0\n",
      "AC0CR79800              0\n",
      "AC4GH01000              0\n",
      "AC57761000              0\n",
      "AC57812200              4\n",
      "\n",
      "[100 rows x 1 columns]\n"
     ]
    }
   ],
   "source": [
    "tabela_dinamica_zstok_qualidade = pd.pivot_table(zstok, values='Contr.qualid.', index='Material', aggfunc='sum', fill_value=0)\n",
    "\n",
    "# Exibir a tabela dinâmica\n",
    "print(tabela_dinamica_zstok_qualidade)"
   ]
  },
  {
   "cell_type": "markdown",
   "metadata": {
    "id": "oyZA1kH0lKbC"
   },
   "source": [
    "## fup\n"
   ]
  },
  {
   "cell_type": "code",
   "execution_count": 40,
   "metadata": {
    "id": "X97OK4fSq87_"
   },
   "outputs": [],
   "source": [
    "fup = pd.read_excel(caminho_fup)"
   ]
  },
  {
   "cell_type": "code",
   "execution_count": 41,
   "metadata": {
    "colab": {
     "base_uri": "https://localhost:8080/"
    },
    "id": "mAwSMckrrGZ3",
    "outputId": "31a93d06-cb28-4594-b0c7-9d1e8e28aeeb"
   },
   "outputs": [
    {
     "data": {
      "text/plain": [
       "Index(['Nº Sequência do Embarque', 'Nº do Pedido', 'Data Pedido', 'Centro',\n",
       "       'Depósito', 'Pos.Dep.MM', 'Pos.Dep.WM', 'Cod. Fornecedor',\n",
       "       'Nome Fornecedor', 'Item', 'Saldo Pedido', 'UMP', 'UMP.1', 'UMP.2',\n",
       "       'Material', 'Texto Breve', 'Qtde Pedido', 'Vl. Total Pedido', 'Moeda',\n",
       "       'Data de Remessa', 'Data Estatística', 'Sua Referência',\n",
       "       'Nossa Referência', 'Embarque', 'Meio de Transporte', 'Meio Embarque',\n",
       "       'Nº do Conhecimento', 'Data do BL', 'Data de Chegada', 'Declaração',\n",
       "       'Dt.Registro', 'Dt.Desembaraço', 'Qtde. Desembarcada',\n",
       "       'Referência de Fatura', 'Data da Fatura', 'Valor da Fatura',\n",
       "       'Data Prev.Entrada', 'Dt. Recebimento', 'Recebimento', 'Peso Líquido',\n",
       "       'Un', 'Cód.NCM', 'Fabricante', 'Num.conversão', 'Qtd.Ped.UMB',\n",
       "       'TipoMat', 'Data total'],\n",
       "      dtype='object')"
      ]
     },
     "execution_count": 41,
     "metadata": {},
     "output_type": "execute_result"
    }
   ],
   "source": [
    "fup.columns"
   ]
  },
  {
   "cell_type": "code",
   "execution_count": 42,
   "metadata": {
    "colab": {
     "base_uri": "https://localhost:8080/"
    },
    "id": "ZQLPORuFrZqq",
    "outputId": "cb049f34-4631-4599-cc28-d437693cb6f6"
   },
   "outputs": [
    {
     "name": "stdout",
     "output_type": "stream",
     "text": [
      "Data total  2025-04-22  2025-05-05  2025-05-06  2025-05-07  2025-05-12  \\\n",
      "Material                                                                 \n",
      "20AL48470G           0           0           7           9           0   \n",
      "25AAR70300           0           0           1           0           0   \n",
      "26NA32870            8           0           5           2           0   \n",
      "56UA77440            0           0           0           1           0   \n",
      "56UA77640F           0           0           0           0           0   \n",
      "...                ...         ...         ...         ...         ...   \n",
      "AC4GH01000           0           0           1           0           0   \n",
      "AC57761000           0           0           1           0           0   \n",
      "AC57812200           0           0           1           0           0   \n",
      "ACTE011              6           0           4           0           0   \n",
      "V500020030           0           0           0           2           0   \n",
      "\n",
      "Data total  2025-06-02  2025-06-04  2025-06-05  2025-06-16  2025-06-17  \\\n",
      "Material                                                                 \n",
      "20AL48470G           0           0           0           0           0   \n",
      "25AAR70300           0           0           0           0           0   \n",
      "26NA32870            0           0           0           0           0   \n",
      "56UA77440            1           0           0           0           0   \n",
      "56UA77640F           1           0           0           0           0   \n",
      "...                ...         ...         ...         ...         ...   \n",
      "AC4GH01000           0           0           0           0           0   \n",
      "AC57761000           4           0           0           0           0   \n",
      "AC57812200           0           0           0           0           0   \n",
      "ACTE011              0           0           0           0           0   \n",
      "V500020030           0           0           0           0           0   \n",
      "\n",
      "Data total  2025-06-18  2025-06-20  2025-06-22  2025-06-23  2025-06-24  \\\n",
      "Material                                                                 \n",
      "20AL48470G           0          11           0           0           0   \n",
      "25AAR70300           0           0           0           0           0   \n",
      "26NA32870            0           2           0           0           0   \n",
      "56UA77440            0           0           0           0           0   \n",
      "56UA77640F           0           2           0           0           0   \n",
      "...                ...         ...         ...         ...         ...   \n",
      "AC4GH01000           0           0           0           0           0   \n",
      "AC57761000           0           5           0           0           0   \n",
      "AC57812200           0           0           0           0           0   \n",
      "ACTE011              0           4           0           0           0   \n",
      "V500020030           0           0           0           0           0   \n",
      "\n",
      "Data total  2025-06-27  2025-07-04  2025-07-08  2025-07-13  2025-07-18  \n",
      "Material                                                                \n",
      "20AL48470G           0           0           0           0           0  \n",
      "25AAR70300           0           0           0           0           0  \n",
      "26NA32870            0           0           0           0           0  \n",
      "56UA77440            0           0           0           0           0  \n",
      "56UA77640F           0           0           0           0           0  \n",
      "...                ...         ...         ...         ...         ...  \n",
      "AC4GH01000           0           0           0           0           0  \n",
      "AC57761000           0           0           0           0           0  \n",
      "AC57812200           0           0           0           0           0  \n",
      "ACTE011              0           0           0           0           0  \n",
      "V500020030           0           0           0           0           0  \n",
      "\n",
      "[92 rows x 20 columns]\n"
     ]
    }
   ],
   "source": [
    "fup_relevantes = fup[['Material', 'Qtde Pedido', 'Data total']].copy()\n",
    "\n",
    "fup_relevantes['Data total'] = pd.to_datetime(fup_relevantes['Data total'], errors='coerce')\n",
    "\n",
    "fup_relevantes['MesAno'] = fup_relevantes['Data total'].dt.strftime('%b/%y')\n",
    "\n",
    "tabela_dinamica_fup = pd.pivot_table(fup_relevantes, values='Qtde Pedido', index='Material', columns='Data total', aggfunc='sum', fill_value=0)\n",
    "\n",
    "print(tabela_dinamica_fup)\n",
    "\n"
   ]
  },
  {
   "cell_type": "code",
   "execution_count": 43,
   "metadata": {
    "colab": {
     "base_uri": "https://localhost:8080/"
    },
    "id": "IhIEyqhitIuj",
    "outputId": "2d90990f-ae67-44d7-c3c2-1227883fe931"
   },
   "outputs": [
    {
     "name": "stdout",
     "output_type": "stream",
     "text": [
      "Index(['20AL48470G', '25AAR70300', '26NA32870', '56UA77440', '56UA77640F',\n",
      "       '56UA77710', '56UA77770', '65AA26950D', '65AA27180', '65AA80112',\n",
      "       '65AA88020', '65AAR75300', 'A00J106202', 'A00J563600', 'A0G6345200',\n",
      "       'A0G6345600', 'A0G6405400', 'A0G6700300', 'A0G6732000', 'A0G6745100',\n",
      "       'A0VD165404', 'A143PP0000', 'A1RF163400', 'A1RF415600', 'A1RF509000',\n",
      "       'A1RF520400', 'A1RF829900', 'A1RF879900', 'A1RFM50200', 'A1RFR70500',\n",
      "       'A1RG684000', 'A4EU252000', 'A4EU742800', 'A4EU817600', 'A4EUR70600',\n",
      "       'A4EUR73600', 'A4EUR77211', 'A4Y5WY1', 'A50U169002', 'A50U172100',\n",
      "       'A50U172200', 'A50U500401', 'A50U505700', 'A50U520001', 'A50U739811',\n",
      "       'A50U765000', 'A50U767000', 'A50U899801', 'A55CN10701', 'A5AW359900',\n",
      "       'A5AW460411', 'A5AW500501', 'A5AW721800', 'A5AW743000', 'A5AW745200',\n",
      "       'A5AW861100', 'A5AW862400', 'A5AWR70177', 'A5AWR70T00', 'A5AWR72500',\n",
      "       'A5AWR73111', 'A5C1562200', 'A6DTR70144', 'A7PUM40800', 'A7PUR71200',\n",
      "       'A8JJWY1', 'A92EN10B00', 'A92WR70S00', 'A92WR71M00', 'A92WR71N11',\n",
      "       'A93EN11412', 'A9JTM10300', 'A9JTM50300', 'A9JTR70100', 'A9JTR71300',\n",
      "       'A9JTR71G00', 'A9U1R90111', 'A9VP758000', 'AA2JH02N0L', 'AA6RN10600',\n",
      "       'AC0CR73344', 'AC0CR73900', 'AC0CR74322', 'AC0CR74500', 'AC0CR74600',\n",
      "       'AC0CR76100', 'AC0CR79800', 'AC4GH01000', 'AC57761000', 'AC57812200',\n",
      "       'ACTE011', 'V500020030'],\n",
      "      dtype='object', name='Material')\n"
     ]
    }
   ],
   "source": [
    "coluna_material = tabela_dinamica_fup.index\n",
    "print(coluna_material)\n"
   ]
  },
  {
   "cell_type": "markdown",
   "metadata": {
    "id": "yDYT1LOElM9z"
   },
   "source": [
    "\n",
    "\n",
    "> Bloco com recuo\n",
    "\n"
   ]
  },
  {
   "cell_type": "markdown",
   "metadata": {
    "id": "0XgTbAT2JGgy"
   },
   "source": [
    "## ZTMM069"
   ]
  },
  {
   "cell_type": "code",
   "execution_count": 44,
   "metadata": {
    "id": "8Z_5A-snLYfW"
   },
   "outputs": [],
   "source": [
    "fob = pd.read_excel(caminho_fob)"
   ]
  },
  {
   "cell_type": "code",
   "execution_count": 45,
   "metadata": {
    "colab": {
     "base_uri": "https://localhost:8080/"
    },
    "id": "H_qd-HWALkIh",
    "outputId": "516748d8-db9e-4597-9c78-d8324a631428"
   },
   "outputs": [
    {
     "data": {
      "text/plain": [
       "<bound method NDFrame.head of        Material                    Descrição (PT)  \\\n",
       "0    4030300501                              ROLO   \n",
       "1     08AA77360                        ENGRENAGEM   \n",
       "2    20AL48470G                             BOTÃO   \n",
       "3    25AAR70300                               FIO   \n",
       "4     26NA32870                 MOLA DE PRESSÃO 2   \n",
       "..          ...                               ...   \n",
       "138     ACTE011  FRASCO COLETOR DE TONER RESIDUAL   \n",
       "139  V500010073                          PRESILHA   \n",
       "140  V500010081                          PRESILHA   \n",
       "141  V500020030                             GARRA   \n",
       "142  V570010057                  WING EDGE SADDLE   \n",
       "\n",
       "                  Descrição (EN)  Fornecedor    Nome do fornecedor  Montante  \\\n",
       "0                         ROLLER       30194  MARUBENI CORPORATION      4.35   \n",
       "1        TONER SUPPLY GEAR F 24T       30194  MARUBENI CORPORATION      1.71   \n",
       "2               JAM RELEASE KNOB       30194  MARUBENI CORPORATION      1.38   \n",
       "3      WIRE MOUNT PLATE COMBINED       30194  MARUBENI CORPORATION      1.26   \n",
       "4    CARTRIDGE PRESSING SPRING 2       30194  MARUBENI CORPORATION      0.26   \n",
       "..                           ...         ...                   ...       ...   \n",
       "138           Waste Toner Bottle       30194  MARUBENI CORPORATION     18.91   \n",
       "139                       FCLAMP       30194  MARUBENI CORPORATION      0.69   \n",
       "140          LOCKING WIRE SADDLE       30194  MARUBENI CORPORATION      0.47   \n",
       "141                        clamp       30194  MARUBENI CORPORATION      2.13   \n",
       "142             WING EDGE SADDLE       30194  MARUBENI CORPORATION      0.76   \n",
       "\n",
       "    Unid.  por  Vál.desde  TMat  ... Aplicação Pr  GME            GrMerc.Ext  \\\n",
       "0     USD    1 2018-04-23  PCPS  ...         C352   MC  Multifuncional Color   \n",
       "1     USD    5 2018-04-11  PCPS  ...       C6501P   PC           PP Colorida   \n",
       "2     USD    1 2018-04-11  PCPS  ...        C70HC   PC           PP Colorida   \n",
       "3     USD    1 2018-05-16  PCPS  ...        C70HC   PC           PP Colorida   \n",
       "4     USD    1 2018-04-11  PCPS  ...          501   MP    Multifuncional P&B   \n",
       "..    ...  ...        ...   ...  ...          ...  ...                   ...   \n",
       "138   USD    1 2024-05-08  PCPS  ...          NaN  NaN                   NaN   \n",
       "139   USD    1 2018-04-11  PCPS  ...        C8000   PC           PP Colorida   \n",
       "140   USD    5 2018-04-11  PCPS  ...        C454E   MC  Multifuncional Color   \n",
       "141   USD    1 2018-04-11  PCPS  ...       C6501P   PC           PP Colorida   \n",
       "142   USD    5 2018-04-11  PCPS  ...        C454E   PC           PP Colorida   \n",
       "\n",
       "     SM Status  Vál.desde.1  Criado em  Criado por   ÚltModif  Modif.por  \n",
       "0   NaN    NaN          NaN 2005-10-05    ALMOXSP2 2024-06-03  MYAMAMOTO  \n",
       "1   NaN    NaN          NaN 2008-01-30    ALMOXSP1 2024-07-24     CSILVA  \n",
       "2   NaN    NaN          NaN 2011-08-03    FERNANDA 2024-12-17  SSAKAGAWA  \n",
       "3   NaN    NaN          NaN 2008-01-30    ALMOXSP1 2023-12-28  MYAMAMOTO  \n",
       "4   NaN    NaN          NaN 2008-01-30    ALMOXSP1 2024-08-28     CSILVA  \n",
       "..   ..    ...          ...        ...         ...        ...        ...  \n",
       "138 NaN    NaN          NaN 2024-05-08      CSILVA 2024-05-08     CSILVA  \n",
       "139 NaN    NaN          NaN 2012-04-12   ELIZABETE 2023-10-24     CSILVA  \n",
       "140 NaN    NaN          NaN 2013-06-20    FERNANDA 2024-12-17  SSAKAGAWA  \n",
       "141 NaN    NaN          NaN 2012-02-03        LUIZ 2023-09-26  SSAKAGAWA  \n",
       "142 NaN    NaN          NaN 2012-02-28        LUIZ 2024-12-17  SSAKAGAWA  \n",
       "\n",
       "[143 rows x 33 columns]>"
      ]
     },
     "execution_count": 45,
     "metadata": {},
     "output_type": "execute_result"
    }
   ],
   "source": [
    "fob.head"
   ]
  },
  {
   "cell_type": "code",
   "execution_count": 46,
   "metadata": {
    "colab": {
     "base_uri": "https://localhost:8080/"
    },
    "id": "1lTXKItfLyxm",
    "outputId": "959a436b-6a95-4ac4-adfe-af16c5b3e86b"
   },
   "outputs": [
    {
     "data": {
      "text/plain": [
       "Index(['Material', 'Descrição (PT)', 'Descrição (EN)', 'Fornecedor',\n",
       "       'Nome do fornecedor', 'Montante', 'Unid.', 'por', 'Vál.desde', 'TMat',\n",
       "       'Tipo Mat', 'SA', 'Setor de atividade', 'GrpMercads.',\n",
       "       'Grupo de mercadorias', 'BU', 'KMI Business Unit', 'PS',\n",
       "       'KMI Print Size', 'C/B', 'KMI Color/BW', 'Printing Speed',\n",
       "       'KMI Develop Name', 'Aplicação Pr', 'GME', 'GrMerc.Ext', 'SM', 'Status',\n",
       "       'Vál.desde.1', 'Criado em', 'Criado por', 'ÚltModif', 'Modif.por'],\n",
       "      dtype='object')"
      ]
     },
     "execution_count": 46,
     "metadata": {},
     "output_type": "execute_result"
    }
   ],
   "source": [
    "fob.columns"
   ]
  },
  {
   "cell_type": "code",
   "execution_count": 47,
   "metadata": {
    "colab": {
     "base_uri": "https://localhost:8080/"
    },
    "id": "QlnxxjAfL4H3",
    "outputId": "268cac4f-b0bf-4e26-e2d9-4be9cdd9b585"
   },
   "outputs": [
    {
     "name": "stdout",
     "output_type": "stream",
     "text": [
      "            Montante\n",
      "Material            \n",
      "08AA77360       1.71\n",
      "20AL48470G      1.38\n",
      "25AAR70300      1.26\n",
      "26NA32870       0.26\n",
      "4030300501      4.35\n",
      "...              ...\n",
      "ACTE011        18.91\n",
      "V500010073      0.69\n",
      "V500010081      0.47\n",
      "V500020030      2.13\n",
      "V570010057      0.76\n",
      "\n",
      "[143 rows x 1 columns]\n"
     ]
    }
   ],
   "source": [
    "tabela_dinamica_fob = pd.pivot_table(fob, values='Montante', index='Material', aggfunc='sum', fill_value=0)\n",
    "\n",
    "print(tabela_dinamica_fob)"
   ]
  },
  {
   "cell_type": "markdown",
   "metadata": {
    "id": "NVf1Tr1JJKSB"
   },
   "source": [
    "## ZTMM085\n"
   ]
  },
  {
   "cell_type": "code",
   "execution_count": 48,
   "metadata": {
    "id": "3cxwZD7CMJ1v"
   },
   "outputs": [],
   "source": [
    "pecas = pd.read_excel(caminho_pecas)"
   ]
  },
  {
   "cell_type": "code",
   "execution_count": 49,
   "metadata": {
    "colab": {
     "base_uri": "https://localhost:8080/"
    },
    "id": "rzzl0CqOMUQ1",
    "outputId": "ca909e3f-f61f-42b3-8ed5-42ed6dbe703f"
   },
   "outputs": [
    {
     "data": {
      "text/plain": [
       "<bound method NDFrame.head of                Material                                 Descrição  \\\n",
       "0    000000004030300501                                      ROLO   \n",
       "1             08AA77360                                ENGRENAGEM   \n",
       "2            20AL48470G                                     BOTÃO   \n",
       "3            25AAR70300                                       FIO   \n",
       "4             26NA32870                         MOLA DE PRESSÃO 2   \n",
       "..                  ...                                       ...   \n",
       "139           LY5606001  UNID FIXAÇÃO MOD HL5470DW/5472/8712/6182   \n",
       "140          V500010073                                  PRESILHA   \n",
       "141          V500010081                                  PRESILHA   \n",
       "142          V500020030                                     GARRA   \n",
       "143          V570010057                          WING EDGE SADDLE   \n",
       "\n",
       "    Tipo material          Txt Tipo material  GrpMerc  Denom. Grupo Merc.  \\\n",
       "0            PCPS  Produto Coml-Peça-SPO/MAO       50               Parts   \n",
       "1            PCPS  Produto Coml-Peça-SPO/MAO       50               Parts   \n",
       "2            PCPS  Produto Coml-Peça-SPO/MAO       50               Parts   \n",
       "3            PCPS  Produto Coml-Peça-SPO/MAO       50               Parts   \n",
       "4            PCPS  Produto Coml-Peça-SPO/MAO       50               Parts   \n",
       "..            ...                        ...      ...                 ...   \n",
       "139          PCPS  Produto Coml-Peça-SPO/MAO        9  Peças - SP/CORR/AT   \n",
       "140          PCPS  Produto Coml-Peça-SPO/MAO       50               Parts   \n",
       "141          PCPS  Produto Coml-Peça-SPO/MAO       50               Parts   \n",
       "142          PCPS  Produto Coml-Peça-SPO/MAO       50               Parts   \n",
       "143          PCPS  Produto Coml-Peça-SPO/MAO       50               Parts   \n",
       "\n",
       "     Stat.centros  Status p/todos centros  Stat.canais  Status p/todos canais  \\\n",
       "0             NaN                     NaN          NaN                    NaN   \n",
       "1             NaN                     NaN          NaN                    NaN   \n",
       "2             NaN                     NaN          NaN                    NaN   \n",
       "3             NaN                     NaN          NaN                    NaN   \n",
       "4             NaN                     NaN          NaN                    NaN   \n",
       "..            ...                     ...          ...                    ...   \n",
       "139           NaN                     NaN          NaN                    NaN   \n",
       "140           NaN                     NaN          NaN                    NaN   \n",
       "141           NaN                     NaN          NaN                    NaN   \n",
       "142           NaN                     NaN          NaN                    NaN   \n",
       "143           NaN                     NaN          NaN                    NaN   \n",
       "\n",
       "                                 Modelos Lista Técnica  \n",
       "0    BIZHUB 250/BIZHUB 282/BIZHUB 350/BIZHUB 361/BI...  \n",
       "1    8050/ACCURIOPRESS C6100/BIZHUB PRESS C1085/BIZ...  \n",
       "2    ACCURIOLABEL 190/BIZHUB PRESS C71CF/ACCURIOLAB...  \n",
       "3    LT-211/LU-202/LU-202XL/LU-202XLM/LU-208XL/LU-4...  \n",
       "4    8050/ACCURIOLABEL 190/BIZHUB PRESS C71CF/ACCUR...  \n",
       "..                                                 ...  \n",
       "139                                                NaN  \n",
       "140  ACCURIOLABEL 190/BIZHUB PRESS C71CF/ACCURIOLAB...  \n",
       "141  ACCURIOLABEL 190/BIZHUB PRESS C71CF/ACCURIOLAB...  \n",
       "142  ACCURIOPRESS 6136P/ACCURIOPRESS 7136P/ACCURIOP...  \n",
       "143  ACCURIOLABEL 190/BIZHUB PRESS C71CF/ACCURIOLAB...  \n",
       "\n",
       "[144 rows x 11 columns]>"
      ]
     },
     "execution_count": 49,
     "metadata": {},
     "output_type": "execute_result"
    }
   ],
   "source": [
    "pecas.head"
   ]
  },
  {
   "cell_type": "code",
   "execution_count": 50,
   "metadata": {
    "colab": {
     "base_uri": "https://localhost:8080/"
    },
    "id": "Jmt1fwl5MX1e",
    "outputId": "8f41556a-8fdd-41ff-dd21-ce5a872001a9"
   },
   "outputs": [
    {
     "data": {
      "text/plain": [
       "Index(['Material', 'Descrição', 'Tipo material', 'Txt Tipo material',\n",
       "       'GrpMerc', 'Denom. Grupo Merc.', 'Stat.centros',\n",
       "       'Status p/todos centros', 'Stat.canais', 'Status p/todos canais',\n",
       "       'Modelos Lista Técnica'],\n",
       "      dtype='object')"
      ]
     },
     "execution_count": 50,
     "metadata": {},
     "output_type": "execute_result"
    }
   ],
   "source": [
    "pecas.columns"
   ]
  },
  {
   "cell_type": "code",
   "execution_count": 51,
   "metadata": {
    "colab": {
     "base_uri": "https://localhost:8080/"
    },
    "id": "dcXHkX_sMaZN",
    "outputId": "71e35be8-b16f-4a58-da73-53aa21222936"
   },
   "outputs": [
    {
     "name": "stdout",
     "output_type": "stream",
     "text": [
      "                                                Modelos Lista Técnica\n",
      "Material                                                             \n",
      "000000004030300501  BIZHUB 250/BIZHUB 282/BIZHUB 350/BIZHUB 361/BI...\n",
      "08AA77360           8050/ACCURIOPRESS C6100/BIZHUB PRESS C1085/BIZ...\n",
      "20AL48470G          ACCURIOLABEL 190/BIZHUB PRESS C71CF/ACCURIOLAB...\n",
      "25AAR70300          LT-211/LU-202/LU-202XL/LU-202XLM/LU-208XL/LU-4...\n",
      "26NA32870           8050/ACCURIOLABEL 190/BIZHUB PRESS C71CF/ACCUR...\n",
      "...                                                               ...\n",
      "LY5606001                                                           0\n",
      "V500010073          ACCURIOLABEL 190/BIZHUB PRESS C71CF/ACCURIOLAB...\n",
      "V500010081          ACCURIOLABEL 190/BIZHUB PRESS C71CF/ACCURIOLAB...\n",
      "V500020030          ACCURIOPRESS 6136P/ACCURIOPRESS 7136P/ACCURIOP...\n",
      "V570010057          ACCURIOLABEL 190/BIZHUB PRESS C71CF/ACCURIOLAB...\n",
      "\n",
      "[144 rows x 1 columns]\n"
     ]
    }
   ],
   "source": [
    "tabela_dinamica_pecas = pd.pivot_table(pecas, values='Modelos Lista Técnica', index='Material', aggfunc='sum', fill_value=0)\n",
    "\n",
    "print(tabela_dinamica_pecas)"
   ]
  },
  {
   "cell_type": "markdown",
   "metadata": {
    "id": "TzPPMAA_jAuT"
   },
   "source": []
  },
  {
   "cell_type": "code",
   "execution_count": null,
   "metadata": {
    "id": "hSdvAHrgi_0y"
   },
   "outputs": [],
   "source": []
  },
  {
   "cell_type": "markdown",
   "metadata": {
    "id": "HBe_enGOjCLL"
   },
   "source": [
    "## codigos atuais"
   ]
  },
  {
   "cell_type": "code",
   "execution_count": 52,
   "metadata": {
    "id": "gGSI_oJ0jGK-"
   },
   "outputs": [],
   "source": [
    "atuais = pd.read_excel(caminho_atuais)"
   ]
  },
  {
   "cell_type": "code",
   "execution_count": 53,
   "metadata": {
    "colab": {
     "base_uri": "https://localhost:8080/"
    },
    "id": "Xw4mM0Rsk3SY",
    "outputId": "2adbef34-e3dc-4eef-abe3-dbcd59deb424"
   },
   "outputs": [
    {
     "data": {
      "text/html": [
       "<div>\n",
       "<style scoped>\n",
       "    .dataframe tbody tr th:only-of-type {\n",
       "        vertical-align: middle;\n",
       "    }\n",
       "\n",
       "    .dataframe tbody tr th {\n",
       "        vertical-align: top;\n",
       "    }\n",
       "\n",
       "    .dataframe thead th {\n",
       "        text-align: right;\n",
       "    }\n",
       "</style>\n",
       "<table border=\"1\" class=\"dataframe\">\n",
       "  <thead>\n",
       "    <tr style=\"text-align: right;\">\n",
       "      <th></th>\n",
       "      <th>Atual</th>\n",
       "      <th>Material</th>\n",
       "      <th>Similar1</th>\n",
       "      <th>Similar2</th>\n",
       "      <th>Similar3</th>\n",
       "      <th>Similar4</th>\n",
       "      <th>Unnamed: 6</th>\n",
       "      <th>Unnamed: 7</th>\n",
       "      <th>Unnamed: 8</th>\n",
       "      <th>Unnamed: 9</th>\n",
       "      <th>Unnamed: 10</th>\n",
       "      <th>Unnamed: 11</th>\n",
       "      <th>Unnamed: 12</th>\n",
       "      <th>Unnamed: 13</th>\n",
       "      <th>Unnamed: 14</th>\n",
       "      <th>Unnamed: 15</th>\n",
       "      <th>Unnamed: 16</th>\n",
       "      <th>Unnamed: 17</th>\n",
       "    </tr>\n",
       "  </thead>\n",
       "  <tbody>\n",
       "    <tr>\n",
       "      <th>0</th>\n",
       "      <td>08AA77360</td>\n",
       "      <td>08AA77360</td>\n",
       "      <td>-</td>\n",
       "      <td>-</td>\n",
       "      <td>-</td>\n",
       "      <td>-</td>\n",
       "      <td>NaN</td>\n",
       "      <td>NaN</td>\n",
       "      <td>NaN</td>\n",
       "      <td>55VA79050</td>\n",
       "      <td>2</td>\n",
       "      <td>55VA79050</td>\n",
       "      <td>-</td>\n",
       "      <td>-</td>\n",
       "      <td>-</td>\n",
       "      <td>-</td>\n",
       "      <td>NaN</td>\n",
       "      <td>1.0</td>\n",
       "    </tr>\n",
       "    <tr>\n",
       "      <th>1</th>\n",
       "      <td>20AL48470G</td>\n",
       "      <td>20AL48470G</td>\n",
       "      <td>20AL48470</td>\n",
       "      <td>-</td>\n",
       "      <td>-</td>\n",
       "      <td>-</td>\n",
       "      <td>NaN</td>\n",
       "      <td>NaN</td>\n",
       "      <td>NaN</td>\n",
       "      <td>56UA70760</td>\n",
       "      <td>1</td>\n",
       "      <td>56UA70760</td>\n",
       "      <td>-</td>\n",
       "      <td>-</td>\n",
       "      <td>-</td>\n",
       "      <td>-</td>\n",
       "      <td>NaN</td>\n",
       "      <td>1.0</td>\n",
       "    </tr>\n",
       "    <tr>\n",
       "      <th>2</th>\n",
       "      <td>25AAR70300</td>\n",
       "      <td>25AAR70300</td>\n",
       "      <td>25AA-4730</td>\n",
       "      <td>1224</td>\n",
       "      <td>-</td>\n",
       "      <td>-</td>\n",
       "      <td>NaN</td>\n",
       "      <td>NaN</td>\n",
       "      <td>NaN</td>\n",
       "      <td>65AA47600E</td>\n",
       "      <td>1</td>\n",
       "      <td>65AA47600E</td>\n",
       "      <td>65AA47600</td>\n",
       "      <td>-</td>\n",
       "      <td>-</td>\n",
       "      <td>-</td>\n",
       "      <td>NaN</td>\n",
       "      <td>1.0</td>\n",
       "    </tr>\n",
       "    <tr>\n",
       "      <th>3</th>\n",
       "      <td>26NA32870</td>\n",
       "      <td>26NA32870</td>\n",
       "      <td>-</td>\n",
       "      <td>-</td>\n",
       "      <td>-</td>\n",
       "      <td>-</td>\n",
       "      <td>NaN</td>\n",
       "      <td>NaN</td>\n",
       "      <td>NaN</td>\n",
       "      <td>A0GD600800</td>\n",
       "      <td>1</td>\n",
       "      <td>A0GD600800</td>\n",
       "      <td>-</td>\n",
       "      <td>-</td>\n",
       "      <td>-</td>\n",
       "      <td>-</td>\n",
       "      <td>NaN</td>\n",
       "      <td>1.0</td>\n",
       "    </tr>\n",
       "    <tr>\n",
       "      <th>4</th>\n",
       "      <td>4030300501</td>\n",
       "      <td>4030300501</td>\n",
       "      <td>-</td>\n",
       "      <td>-</td>\n",
       "      <td>-</td>\n",
       "      <td>-</td>\n",
       "      <td>NaN</td>\n",
       "      <td>NaN</td>\n",
       "      <td>NaN</td>\n",
       "      <td>A0GD600900</td>\n",
       "      <td>1</td>\n",
       "      <td>A0GD600900</td>\n",
       "      <td>-</td>\n",
       "      <td>-</td>\n",
       "      <td>-</td>\n",
       "      <td>-</td>\n",
       "      <td>NaN</td>\n",
       "      <td>1.0</td>\n",
       "    </tr>\n",
       "    <tr>\n",
       "      <th>...</th>\n",
       "      <td>...</td>\n",
       "      <td>...</td>\n",
       "      <td>...</td>\n",
       "      <td>...</td>\n",
       "      <td>...</td>\n",
       "      <td>...</td>\n",
       "      <td>...</td>\n",
       "      <td>...</td>\n",
       "      <td>...</td>\n",
       "      <td>...</td>\n",
       "      <td>...</td>\n",
       "      <td>...</td>\n",
       "      <td>...</td>\n",
       "      <td>...</td>\n",
       "      <td>...</td>\n",
       "      <td>...</td>\n",
       "      <td>...</td>\n",
       "      <td>...</td>\n",
       "    </tr>\n",
       "    <tr>\n",
       "      <th>169</th>\n",
       "      <td>0</td>\n",
       "      <td>NaN</td>\n",
       "      <td>-</td>\n",
       "      <td>-</td>\n",
       "      <td>-</td>\n",
       "      <td>-</td>\n",
       "      <td>NaN</td>\n",
       "      <td>NaN</td>\n",
       "      <td>NaN</td>\n",
       "      <td>NaN</td>\n",
       "      <td>NaN</td>\n",
       "      <td>NaN</td>\n",
       "      <td>NaN</td>\n",
       "      <td>NaN</td>\n",
       "      <td>NaN</td>\n",
       "      <td>NaN</td>\n",
       "      <td>NaN</td>\n",
       "      <td>NaN</td>\n",
       "    </tr>\n",
       "    <tr>\n",
       "      <th>170</th>\n",
       "      <td>0</td>\n",
       "      <td>NaN</td>\n",
       "      <td>-</td>\n",
       "      <td>-</td>\n",
       "      <td>-</td>\n",
       "      <td>-</td>\n",
       "      <td>NaN</td>\n",
       "      <td>NaN</td>\n",
       "      <td>NaN</td>\n",
       "      <td>NaN</td>\n",
       "      <td>NaN</td>\n",
       "      <td>NaN</td>\n",
       "      <td>NaN</td>\n",
       "      <td>NaN</td>\n",
       "      <td>NaN</td>\n",
       "      <td>NaN</td>\n",
       "      <td>NaN</td>\n",
       "      <td>NaN</td>\n",
       "    </tr>\n",
       "    <tr>\n",
       "      <th>171</th>\n",
       "      <td>0</td>\n",
       "      <td>NaN</td>\n",
       "      <td>-</td>\n",
       "      <td>-</td>\n",
       "      <td>-</td>\n",
       "      <td>-</td>\n",
       "      <td>NaN</td>\n",
       "      <td>NaN</td>\n",
       "      <td>NaN</td>\n",
       "      <td>NaN</td>\n",
       "      <td>NaN</td>\n",
       "      <td>NaN</td>\n",
       "      <td>NaN</td>\n",
       "      <td>NaN</td>\n",
       "      <td>NaN</td>\n",
       "      <td>NaN</td>\n",
       "      <td>NaN</td>\n",
       "      <td>NaN</td>\n",
       "    </tr>\n",
       "    <tr>\n",
       "      <th>172</th>\n",
       "      <td>0</td>\n",
       "      <td>NaN</td>\n",
       "      <td>-</td>\n",
       "      <td>-</td>\n",
       "      <td>-</td>\n",
       "      <td>-</td>\n",
       "      <td>NaN</td>\n",
       "      <td>NaN</td>\n",
       "      <td>NaN</td>\n",
       "      <td>NaN</td>\n",
       "      <td>NaN</td>\n",
       "      <td>NaN</td>\n",
       "      <td>NaN</td>\n",
       "      <td>NaN</td>\n",
       "      <td>NaN</td>\n",
       "      <td>NaN</td>\n",
       "      <td>NaN</td>\n",
       "      <td>NaN</td>\n",
       "    </tr>\n",
       "    <tr>\n",
       "      <th>173</th>\n",
       "      <td>0</td>\n",
       "      <td>NaN</td>\n",
       "      <td>-</td>\n",
       "      <td>-</td>\n",
       "      <td>-</td>\n",
       "      <td>-</td>\n",
       "      <td>NaN</td>\n",
       "      <td>NaN</td>\n",
       "      <td>NaN</td>\n",
       "      <td>NaN</td>\n",
       "      <td>NaN</td>\n",
       "      <td>NaN</td>\n",
       "      <td>NaN</td>\n",
       "      <td>NaN</td>\n",
       "      <td>NaN</td>\n",
       "      <td>NaN</td>\n",
       "      <td>NaN</td>\n",
       "      <td>NaN</td>\n",
       "    </tr>\n",
       "  </tbody>\n",
       "</table>\n",
       "<p>174 rows × 18 columns</p>\n",
       "</div>"
      ],
      "text/plain": [
       "          Atual    Material   Similar1 Similar2 Similar3 Similar4  Unnamed: 6  \\\n",
       "0     08AA77360   08AA77360          -        -        -        -         NaN   \n",
       "1    20AL48470G  20AL48470G  20AL48470        -        -        -         NaN   \n",
       "2    25AAR70300  25AAR70300  25AA-4730     1224        -        -         NaN   \n",
       "3     26NA32870   26NA32870          -        -        -        -         NaN   \n",
       "4    4030300501  4030300501          -        -        -        -         NaN   \n",
       "..          ...         ...        ...      ...      ...      ...         ...   \n",
       "169           0         NaN          -        -        -        -         NaN   \n",
       "170           0         NaN          -        -        -        -         NaN   \n",
       "171           0         NaN          -        -        -        -         NaN   \n",
       "172           0         NaN          -        -        -        -         NaN   \n",
       "173           0         NaN          -        -        -        -         NaN   \n",
       "\n",
       "     Unnamed: 7 Unnamed: 8  Unnamed: 9 Unnamed: 10 Unnamed: 11 Unnamed: 12  \\\n",
       "0           NaN        NaN   55VA79050           2   55VA79050           -   \n",
       "1           NaN        NaN   56UA70760           1   56UA70760           -   \n",
       "2           NaN        NaN  65AA47600E           1  65AA47600E   65AA47600   \n",
       "3           NaN        NaN  A0GD600800           1  A0GD600800           -   \n",
       "4           NaN        NaN  A0GD600900           1  A0GD600900           -   \n",
       "..          ...        ...         ...         ...         ...         ...   \n",
       "169         NaN        NaN         NaN         NaN         NaN         NaN   \n",
       "170         NaN        NaN         NaN         NaN         NaN         NaN   \n",
       "171         NaN        NaN         NaN         NaN         NaN         NaN   \n",
       "172         NaN        NaN         NaN         NaN         NaN         NaN   \n",
       "173         NaN        NaN         NaN         NaN         NaN         NaN   \n",
       "\n",
       "    Unnamed: 13 Unnamed: 14 Unnamed: 15  Unnamed: 16  Unnamed: 17  \n",
       "0             -           -           -          NaN          1.0  \n",
       "1             -           -           -          NaN          1.0  \n",
       "2             -           -           -          NaN          1.0  \n",
       "3             -           -           -          NaN          1.0  \n",
       "4             -           -           -          NaN          1.0  \n",
       "..          ...         ...         ...          ...          ...  \n",
       "169         NaN         NaN         NaN          NaN          NaN  \n",
       "170         NaN         NaN         NaN          NaN          NaN  \n",
       "171         NaN         NaN         NaN          NaN          NaN  \n",
       "172         NaN         NaN         NaN          NaN          NaN  \n",
       "173         NaN         NaN         NaN          NaN          NaN  \n",
       "\n",
       "[174 rows x 18 columns]"
      ]
     },
     "execution_count": 53,
     "metadata": {},
     "output_type": "execute_result"
    }
   ],
   "source": [
    "atuais"
   ]
  },
  {
   "cell_type": "code",
   "execution_count": 54,
   "metadata": {
    "colab": {
     "base_uri": "https://localhost:8080/"
    },
    "id": "M93y7tkvlPyx",
    "outputId": "ae148223-39a9-455c-f97d-bae566a23b00"
   },
   "outputs": [
    {
     "data": {
      "text/plain": [
       "Index(['Atual', 'Material', 'Similar1', 'Similar2', 'Similar3', 'Similar4',\n",
       "       'Unnamed: 6', 'Unnamed: 7', 'Unnamed: 8', 'Unnamed: 9', 'Unnamed: 10',\n",
       "       'Unnamed: 11', 'Unnamed: 12', 'Unnamed: 13', 'Unnamed: 14',\n",
       "       'Unnamed: 15', 'Unnamed: 16', 'Unnamed: 17'],\n",
       "      dtype='object')"
      ]
     },
     "execution_count": 54,
     "metadata": {},
     "output_type": "execute_result"
    }
   ],
   "source": [
    "atuais.columns"
   ]
  },
  {
   "cell_type": "code",
   "execution_count": 55,
   "metadata": {
    "colab": {
     "base_uri": "https://localhost:8080/"
    },
    "id": "Ym54xRgBrUo3",
    "outputId": "715a8115-9a14-4b78-e94e-f88a6a011379"
   },
   "outputs": [
    {
     "name": "stdout",
     "output_type": "stream",
     "text": [
      "          Atual    Material    Similar1   Similar2 Similar3 Similar4  \\\n",
      "1    20AL48470G  20AL48470G   20AL48470          -        -        -   \n",
      "2    25AAR70300  25AAR70300   25AA-4730       1224        -        -   \n",
      "3     26NA32870   26NA32870           -          -        -        -   \n",
      "10    56UA77440   56UA77440           -          -        -        -   \n",
      "11   56UA77640F  56UA77640F  56UA77640E  56UA77640     1406        -   \n",
      "..          ...         ...         ...        ...      ...      ...   \n",
      "135  AC4GH01000  AC4GH01000           -          -        -        -   \n",
      "136  AC57761000  AC57761000  A50U761000          -        -        -   \n",
      "137  AC57812200  AC57812200           -          -        -        -   \n",
      "138     ACTE011     ACTE011           -          -        -        -   \n",
      "142  V500020030  V500020030           -          -        -        -   \n",
      "\n",
      "     Unnamed: 6  Unnamed: 7 Unnamed: 8  Unnamed: 9 Unnamed: 10 Unnamed: 11  \\\n",
      "1           NaN         NaN        NaN   56UA70760           1   56UA70760   \n",
      "2           NaN         NaN        NaN  65AA47600E           1  65AA47600E   \n",
      "3           NaN         NaN        NaN  A0GD600800           1  A0GD600800   \n",
      "10          NaN         NaN        NaN  A50U621900           1  A50U621900   \n",
      "11          NaN         NaN        NaN  A50U622001           1  A50U622001   \n",
      "..          ...         ...        ...         ...         ...         ...   \n",
      "135         NaN         NaN        NaN         NaN         NaN         NaN   \n",
      "136         NaN         NaN        NaN         NaN         NaN         NaN   \n",
      "137         NaN         NaN        NaN         NaN         NaN         NaN   \n",
      "138         NaN         NaN        NaN         NaN         NaN         NaN   \n",
      "142         NaN         NaN        NaN         NaN         NaN         NaN   \n",
      "\n",
      "    Unnamed: 12 Unnamed: 13 Unnamed: 14 Unnamed: 15  Unnamed: 16  Unnamed: 17  \n",
      "1             -           -           -           -          NaN          1.0  \n",
      "2     65AA47600           -           -           -          NaN          1.0  \n",
      "3             -           -           -           -          NaN          1.0  \n",
      "10            -           -           -           -          NaN          1.0  \n",
      "11            -           -           -           -          NaN          1.0  \n",
      "..          ...         ...         ...         ...          ...          ...  \n",
      "135         NaN         NaN         NaN         NaN          NaN          NaN  \n",
      "136         NaN         NaN         NaN         NaN          NaN          NaN  \n",
      "137         NaN         NaN         NaN         NaN          NaN          NaN  \n",
      "138         NaN         NaN         NaN         NaN          NaN          NaN  \n",
      "142         NaN         NaN         NaN         NaN          NaN          NaN  \n",
      "\n",
      "[91 rows x 18 columns]\n"
     ]
    }
   ],
   "source": [
    "resultados_filtrados = atuais[atuais['Atual'].isin(coluna_material)]\n",
    "\n",
    "tabela_resultados = pd.DataFrame(resultados_filtrados)\n",
    "\n",
    "print(tabela_resultados)"
   ]
  },
  {
   "cell_type": "code",
   "execution_count": 56,
   "metadata": {
    "colab": {
     "base_uri": "https://localhost:8080/"
    },
    "id": "RgRZiVAF0gEO",
    "outputId": "b5c38326-6a25-493e-f817-6ae9433cefac"
   },
   "outputs": [
    {
     "name": "stdout",
     "output_type": "stream",
     "text": [
      "              Material    Similar1   Similar2 Similar3 Similar4  Unnamed: 6  \\\n",
      "Atual                                                                         \n",
      "20AL48470G  20AL48470G   20AL48470          -        -        -         NaN   \n",
      "25AAR70300  25AAR70300   25AA-4730       1224        -        -         NaN   \n",
      "26NA32870    26NA32870           -          -        -        -         NaN   \n",
      "56UA77440    56UA77440           -          -        -        -         NaN   \n",
      "56UA77640F  56UA77640F  56UA77640E  56UA77640     1406        -         NaN   \n",
      "...                ...         ...        ...      ...      ...         ...   \n",
      "AC4GH01000  AC4GH01000           -          -        -        -         NaN   \n",
      "AC57761000  AC57761000  A50U761000          -        -        -         NaN   \n",
      "AC57812200  AC57812200           -          -        -        -         NaN   \n",
      "ACTE011        ACTE011           -          -        -        -         NaN   \n",
      "V500020030  V500020030           -          -        -        -         NaN   \n",
      "\n",
      "            Unnamed: 7 Unnamed: 8  Unnamed: 9 Unnamed: 10 Unnamed: 11  \\\n",
      "Atual                                                                   \n",
      "20AL48470G         NaN        NaN   56UA70760           1   56UA70760   \n",
      "25AAR70300         NaN        NaN  65AA47600E           1  65AA47600E   \n",
      "26NA32870          NaN        NaN  A0GD600800           1  A0GD600800   \n",
      "56UA77440          NaN        NaN  A50U621900           1  A50U621900   \n",
      "56UA77640F         NaN        NaN  A50U622001           1  A50U622001   \n",
      "...                ...        ...         ...         ...         ...   \n",
      "AC4GH01000         NaN        NaN         NaN         NaN         NaN   \n",
      "AC57761000         NaN        NaN         NaN         NaN         NaN   \n",
      "AC57812200         NaN        NaN         NaN         NaN         NaN   \n",
      "ACTE011            NaN        NaN         NaN         NaN         NaN   \n",
      "V500020030         NaN        NaN         NaN         NaN         NaN   \n",
      "\n",
      "           Unnamed: 12 Unnamed: 13 Unnamed: 14 Unnamed: 15  Unnamed: 16  \\\n",
      "Atual                                                                     \n",
      "20AL48470G           -           -           -           -          NaN   \n",
      "25AAR70300   65AA47600           -           -           -          NaN   \n",
      "26NA32870            -           -           -           -          NaN   \n",
      "56UA77440            -           -           -           -          NaN   \n",
      "56UA77640F           -           -           -           -          NaN   \n",
      "...                ...         ...         ...         ...          ...   \n",
      "AC4GH01000         NaN         NaN         NaN         NaN          NaN   \n",
      "AC57761000         NaN         NaN         NaN         NaN          NaN   \n",
      "AC57812200         NaN         NaN         NaN         NaN          NaN   \n",
      "ACTE011            NaN         NaN         NaN         NaN          NaN   \n",
      "V500020030         NaN         NaN         NaN         NaN          NaN   \n",
      "\n",
      "            Unnamed: 17  \n",
      "Atual                    \n",
      "20AL48470G          1.0  \n",
      "25AAR70300          1.0  \n",
      "26NA32870           1.0  \n",
      "56UA77440           1.0  \n",
      "56UA77640F          1.0  \n",
      "...                 ...  \n",
      "AC4GH01000          NaN  \n",
      "AC57761000          NaN  \n",
      "AC57812200          NaN  \n",
      "ACTE011             NaN  \n",
      "V500020030          NaN  \n",
      "\n",
      "[91 rows x 17 columns]\n"
     ]
    }
   ],
   "source": [
    "tabela_resultados = tabela_resultados.set_index(tabela_resultados.columns[0])\n",
    "\n",
    "print(tabela_resultados)"
   ]
  },
  {
   "cell_type": "code",
   "execution_count": null,
   "metadata": {
    "id": "cmiqM9VUvbUM"
   },
   "outputs": [],
   "source": []
  },
  {
   "cell_type": "code",
   "execution_count": null,
   "metadata": {
    "id": "RvsAkUNDvbTI"
   },
   "outputs": [],
   "source": []
  },
  {
   "cell_type": "markdown",
   "metadata": {
    "id": "6xRNfQGJyK1v"
   },
   "source": [
    "## Classificação de peças"
   ]
  },
  {
   "cell_type": "code",
   "execution_count": 57,
   "metadata": {
    "id": "pdep8rVnyRQN"
   },
   "outputs": [],
   "source": [
    "classificacao = pd.read_excel(caminho_classificacao, sheet_name='consumable parts')"
   ]
  },
  {
   "cell_type": "code",
   "execution_count": 58,
   "metadata": {
    "colab": {
     "base_uri": "https://localhost:8080/"
    },
    "id": "Omok9dAmy4lN",
    "outputId": "af5895a3-ae25-40f9-81b9-4fce24a99223"
   },
   "outputs": [
    {
     "data": {
      "text/plain": [
       "<bound method NDFrame.head of           Código                                   Aplicação Modelo  \\\n",
       "0     A92WR70100                                              C6100   \n",
       "1     65AAR75600  8050/ C14000/ C6100/ C1085/ C1100/ C8000/ C500...   \n",
       "2     A1RF520400                 C14000/ C6100/ C1085/ C1100/ C8000   \n",
       "3     A1RF531600                                C6100/ C1085/ C1100   \n",
       "4     A1RF532800                 C14000/ C6100/ C1085/ C1100/ C8000   \n",
       "...          ...                                                ...   \n",
       "2125  AC0CR72766                                             C12010   \n",
       "2126  AC0CR75800                                             C12010   \n",
       "2127  A0G6739300                                             C12010   \n",
       "2128  ADY9R70300                                             TS-101   \n",
       "2129  ADY8R70100                                    CK-101 / CK-102   \n",
       "\n",
       "       Cód.Atual    Similar1    Similar2    Similar3    Similar4 Similar5  \\\n",
       "0     A92WR70100           -           -           -           -        -   \n",
       "1     65AAR75600   65AA-2930           -           -           -        -   \n",
       "2     A1RF520400           -           -           -           -        -   \n",
       "3     A1RF531600           -           -           -           -        -   \n",
       "4     A1RF532800        4109           -           -           -        -   \n",
       "...          ...         ...         ...         ...         ...      ...   \n",
       "2125  AC0CR72766  AC0CR72755  AC0CR72744  AC0CR72733  AC0CR72722        -   \n",
       "2126  AC0CR75800           -           -           -           -        -   \n",
       "2127  A0G6739300           -           -           -           -        -   \n",
       "2128  ADY9R70300           -           -           -           -        -   \n",
       "2129  ADY8R70133  ADY8R70100           -           -           -        -   \n",
       "\n",
       "     Similar6 Similar7 Similar7.1 Durabilidade                     Unnamed: 12  \n",
       "0           -        -          -          Sim                   C6100 / C1100  \n",
       "1           -        -          -          Sim                   C6100 / C1100  \n",
       "2           -        -          -          Sim                   C6100 / C1100  \n",
       "3           -        -          -          Sim                   C6100 / C1100  \n",
       "4           -        -          -          Sim                   C6100 / C1100  \n",
       "...       ...      ...        ...          ...                             ...  \n",
       "2125        -        -          -          Sim  Acrescentado 06.03.25 - Carlos  \n",
       "2126        -        -          -          Sim  Acrescentado 06.03.25 - Carlos  \n",
       "2127        -        -          -          Sim  Acrescentado 06.03.25 - Carlos  \n",
       "2128        -        -          -          Sim  Acrescentado 06.03.25 - Carlos  \n",
       "2129        -        -          -          Sim  Acrescentado 06.03.25 - Carlos  \n",
       "\n",
       "[2130 rows x 13 columns]>"
      ]
     },
     "execution_count": 58,
     "metadata": {},
     "output_type": "execute_result"
    }
   ],
   "source": [
    "classificacao.head"
   ]
  },
  {
   "cell_type": "code",
   "execution_count": 59,
   "metadata": {
    "colab": {
     "base_uri": "https://localhost:8080/"
    },
    "id": "8loQBBC8zmTC",
    "outputId": "22e5d1b2-8c42-4449-cebd-2df17c719ca6"
   },
   "outputs": [
    {
     "data": {
      "text/plain": [
       "Index(['Código', 'Aplicação Modelo', 'Cód.Atual', 'Similar1', 'Similar2',\n",
       "       'Similar3', 'Similar4', 'Similar5', 'Similar6', 'Similar7',\n",
       "       'Similar7.1', 'Durabilidade', 'Unnamed: 12'],\n",
       "      dtype='object')"
      ]
     },
     "execution_count": 59,
     "metadata": {},
     "output_type": "execute_result"
    }
   ],
   "source": [
    "classificacao.columns"
   ]
  },
  {
   "cell_type": "code",
   "execution_count": 60,
   "metadata": {
    "colab": {
     "base_uri": "https://localhost:8080/"
    },
    "id": "3DNnf2bLzhg6",
    "outputId": "d6daab57-3e78-4090-ee66-be3ee3d66a11"
   },
   "outputs": [
    {
     "name": "stdout",
     "output_type": "stream",
     "text": [
      "           Durabilidade\n",
      "Código                 \n",
      "4049521             Sim\n",
      "4049522             Sim\n",
      "4049524             Sim\n",
      "454053391           Sim\n",
      "454075040           Sim\n",
      "...                 ...\n",
      "AE94114500          Sim\n",
      "SP00-0210           Sim\n",
      "SP00-0220           Sim\n",
      "V218060086          Sim\n",
      "V234301250          Sim\n",
      "\n",
      "[1421 rows x 1 columns]\n"
     ]
    }
   ],
   "source": [
    "tabela_dinamica_classificacao = pd.pivot_table(classificacao, values='Durabilidade', index='Código', aggfunc='first', fill_value=0)\n",
    "\n",
    "print(tabela_dinamica_classificacao)"
   ]
  },
  {
   "cell_type": "markdown",
   "metadata": {
    "id": "bivdLhPFuCnC"
   },
   "source": [
    "## juntando tabelas\n"
   ]
  },
  {
   "cell_type": "markdown",
   "metadata": {
    "id": "ZzgNa0NMw2Oe"
   },
   "source": [
    "juntando pendencias"
   ]
  },
  {
   "cell_type": "code",
   "execution_count": 61,
   "metadata": {
    "colab": {
     "base_uri": "https://localhost:8080/"
    },
    "id": "LI3Bn5znuKzn",
    "outputId": "8c0500c0-9782-485a-edcb-f5593a12b3fb"
   },
   "outputs": [
    {
     "name": "stdout",
     "output_type": "stream",
     "text": [
      "            CE03_zva70  CE04_zva70  CE05_zva70  CE10_zva70  CE11_zva70  \\\n",
      "Material                                                                 \n",
      "08AA77360            4           0           0           0           0   \n",
      "20AL48470G           2           0           0           0           0   \n",
      "25AAR70300           0           0           0           0           3   \n",
      "26NA32870            0           0           1           0           0   \n",
      "4030300501           0           0           0           0           3   \n",
      "...                ...         ...         ...         ...         ...   \n",
      "LY5606001            0           0           0           0           1   \n",
      "V500010073           0           0           0           0          14   \n",
      "V500010081           0           3           0           0           0   \n",
      "V500020030           0           0           0           0          14   \n",
      "V570010057           0           0           0           0           9   \n",
      "\n",
      "            CE13_zva70                               Denominação  \\\n",
      "Material                                                           \n",
      "08AA77360            0                                ENGRENAGEM   \n",
      "20AL48470G           0                                     BOTÃO   \n",
      "25AAR70300           0                                       FIO   \n",
      "26NA32870            0                         MOLA DE PRESSÃO 2   \n",
      "4030300501           0                                      ROLO   \n",
      "...                ...                                       ...   \n",
      "LY5606001            0  UNID FIXAÇÃO MOD HL5470DW/5472/8712/6182   \n",
      "V500010073           0                                  PRESILHA   \n",
      "V500010081           0                                  PRESILHA   \n",
      "V500020030           0                                     GARRA   \n",
      "V570010057           0                          WING EDGE SADDLE   \n",
      "\n",
      "                                                   Criado por  \\\n",
      "Material                                                        \n",
      "08AA77360                                 BRENDA DANTAS SOUZA   \n",
      "20AL48470G                                BRENDA DANTAS SOUZA   \n",
      "25AAR70300                              JESSIE OLIVEIRA SILVA   \n",
      "26NA32870                                 BRENDA DANTAS SOUZA   \n",
      "4030300501                                    ROBERTA MACHADO   \n",
      "...                                                       ...   \n",
      "LY5606001                              MARIANA NUNES DA SILVA   \n",
      "V500010073  REGILENE DE CASSIA LUIZ OLIVEIRA/REGILENE DE C...   \n",
      "V500010081                        JULIA MARIA MORETO DA SILVA   \n",
      "V500020030  REGILENE DE CASSIA LUIZ OLIVEIRA/REGILENE DE C...   \n",
      "V570010057  REGILENE DE CASSIA LUIZ OLIVEIRA/REGILENE DE C...   \n",
      "\n",
      "                                             Canal  Pendências Gerais  \n",
      "Material                                                               \n",
      "08AA77360                                      nan                0.0  \n",
      "20AL48470G                                     nan                0.0  \n",
      "25AAR70300                            VENDA DIRETA                0.0  \n",
      "26NA32870                             VENDA DIRETA               12.0  \n",
      "4030300501                          VENDA INDIRETA                0.0  \n",
      "...                                            ...                ...  \n",
      "LY5606001                             VENDA DIRETA                0.0  \n",
      "V500010073  VENDA DIRETA/VENDA DIRETA/VENDA DIRETA                0.0  \n",
      "V500010081                            VENDA DIRETA                0.0  \n",
      "V500020030  VENDA DIRETA/VENDA DIRETA/VENDA DIRETA                4.0  \n",
      "V570010057               VENDA DIRETA/VENDA DIRETA                0.0  \n",
      "\n",
      "[144 rows x 10 columns]\n"
     ]
    }
   ],
   "source": [
    "merged_table_pend = _table_pend.merge(tabela_dinamica_pendente, how='left', left_index=True, right_index=True)\n",
    "\n",
    "merged_table_pend = merged_table_pend.fillna(0)\n",
    "\n",
    "print(merged_table_pend)\n"
   ]
  },
  {
   "cell_type": "code",
   "execution_count": 62,
   "metadata": {
    "colab": {
     "base_uri": "https://localhost:8080/"
    },
    "id": "AKf46nHiuxjp",
    "outputId": "acbad665-9081-440d-c6f1-1a35169b9d9f"
   },
   "outputs": [
    {
     "data": {
      "text/plain": [
       "Index(['CE03_zva70', 'CE04_zva70', 'CE05_zva70', 'CE10_zva70', 'CE11_zva70',\n",
       "       'CE13_zva70', 'Denominação', 'Criado por', 'Canal',\n",
       "       'Pendências Gerais'],\n",
       "      dtype='object')"
      ]
     },
     "execution_count": 62,
     "metadata": {},
     "output_type": "execute_result"
    }
   ],
   "source": [
    "merged_table_pend.columns"
   ]
  },
  {
   "cell_type": "markdown",
   "metadata": {
    "id": "ci51sme8uHd4"
   },
   "source": [
    "juntando zstok"
   ]
  },
  {
   "cell_type": "code",
   "execution_count": 63,
   "metadata": {
    "colab": {
     "base_uri": "https://localhost:8080/"
    },
    "id": "qvyGn4s5w--B",
    "outputId": "3578f1ac-d4df-4aeb-a532-3767bf4f14ed"
   },
   "outputs": [
    {
     "name": "stdout",
     "output_type": "stream",
     "text": [
      "            CE01_zstok  CE03_zstok  CE05_zstok  CE07_zstok  CE09_zstok  \\\n",
      "Material                                                                 \n",
      "08AA77360            0           0           4           0           0   \n",
      "20AL48470G           0           0           1           9           0   \n",
      "26NA32870            0           0          17           0           0   \n",
      "4030300501           0           0           0          14           0   \n",
      "55VA29150           12           0           0           0           4   \n",
      "...                ...         ...         ...         ...         ...   \n",
      "AC0CR77900           0           0           1           0           0   \n",
      "AC0CR79800           0           0          28           0           0   \n",
      "AC4GH01000           0           0           0           0           0   \n",
      "AC57761000           0           0           0           1           1   \n",
      "AC57812200           0           0           1           0           0   \n",
      "\n",
      "            CE10_zstok  CE11_zstok  CE13_zstok  Contr.qualid.  \n",
      "Material                                                       \n",
      "08AA77360            0           8           0              0  \n",
      "20AL48470G           0           7           0              0  \n",
      "26NA32870            0           0           5              0  \n",
      "4030300501           0           0           3              0  \n",
      "55VA29150            0           0           0              0  \n",
      "...                ...         ...         ...            ...  \n",
      "AC0CR77900           0           2           0              0  \n",
      "AC0CR79800           0          14           0              0  \n",
      "AC4GH01000           0           1           0              0  \n",
      "AC57761000           0           2           1              0  \n",
      "AC57812200           0           0           0              4  \n",
      "\n",
      "[100 rows x 9 columns]\n"
     ]
    }
   ],
   "source": [
    "merged_table_zstok = tabela_dinamica_zstok.merge(tabela_dinamica_zstok_qualidade, how='left', left_index=True, right_index=True)\n",
    "\n",
    "merged_table_zstok = merged_table_zstok.fillna(0)\n",
    "\n",
    "print(merged_table_zstok)"
   ]
  },
  {
   "cell_type": "markdown",
   "metadata": {
    "id": "LYJYChyyxjqz"
   },
   "source": [
    "juntando pend com zstok"
   ]
  },
  {
   "cell_type": "code",
   "execution_count": 64,
   "metadata": {
    "colab": {
     "base_uri": "https://localhost:8080/"
    },
    "id": "_HdLYaYpxdn_",
    "outputId": "ceb9c759-8a39-47c8-f2b1-6b3de627566e"
   },
   "outputs": [
    {
     "name": "stdout",
     "output_type": "stream",
     "text": [
      "            CE03_zva70  CE04_zva70  CE05_zva70  CE10_zva70  CE11_zva70  \\\n",
      "Material                                                                 \n",
      "08AA77360            4           0           0           0           0   \n",
      "20AL48470G           2           0           0           0           0   \n",
      "25AAR70300           0           0           0           0           3   \n",
      "26NA32870            0           0           1           0           0   \n",
      "4030300501           0           0           0           0           3   \n",
      "...                ...         ...         ...         ...         ...   \n",
      "LY5606001            0           0           0           0           1   \n",
      "V500010073           0           0           0           0          14   \n",
      "V500010081           0           3           0           0           0   \n",
      "V500020030           0           0           0           0          14   \n",
      "V570010057           0           0           0           0           9   \n",
      "\n",
      "            CE13_zva70                               Denominação  \\\n",
      "Material                                                           \n",
      "08AA77360            0                                ENGRENAGEM   \n",
      "20AL48470G           0                                     BOTÃO   \n",
      "25AAR70300           0                                       FIO   \n",
      "26NA32870            0                         MOLA DE PRESSÃO 2   \n",
      "4030300501           0                                      ROLO   \n",
      "...                ...                                       ...   \n",
      "LY5606001            0  UNID FIXAÇÃO MOD HL5470DW/5472/8712/6182   \n",
      "V500010073           0                                  PRESILHA   \n",
      "V500010081           0                                  PRESILHA   \n",
      "V500020030           0                                     GARRA   \n",
      "V570010057           0                          WING EDGE SADDLE   \n",
      "\n",
      "                                                   Criado por  \\\n",
      "Material                                                        \n",
      "08AA77360                                 BRENDA DANTAS SOUZA   \n",
      "20AL48470G                                BRENDA DANTAS SOUZA   \n",
      "25AAR70300                              JESSIE OLIVEIRA SILVA   \n",
      "26NA32870                                 BRENDA DANTAS SOUZA   \n",
      "4030300501                                    ROBERTA MACHADO   \n",
      "...                                                       ...   \n",
      "LY5606001                              MARIANA NUNES DA SILVA   \n",
      "V500010073  REGILENE DE CASSIA LUIZ OLIVEIRA/REGILENE DE C...   \n",
      "V500010081                        JULIA MARIA MORETO DA SILVA   \n",
      "V500020030  REGILENE DE CASSIA LUIZ OLIVEIRA/REGILENE DE C...   \n",
      "V570010057  REGILENE DE CASSIA LUIZ OLIVEIRA/REGILENE DE C...   \n",
      "\n",
      "                                             Canal  Pendências Gerais  \\\n",
      "Material                                                                \n",
      "08AA77360                                      nan                0.0   \n",
      "20AL48470G                                     nan                0.0   \n",
      "25AAR70300                            VENDA DIRETA                0.0   \n",
      "26NA32870                             VENDA DIRETA               12.0   \n",
      "4030300501                          VENDA INDIRETA                0.0   \n",
      "...                                            ...                ...   \n",
      "LY5606001                             VENDA DIRETA                0.0   \n",
      "V500010073  VENDA DIRETA/VENDA DIRETA/VENDA DIRETA                0.0   \n",
      "V500010081                            VENDA DIRETA                0.0   \n",
      "V500020030  VENDA DIRETA/VENDA DIRETA/VENDA DIRETA                4.0   \n",
      "V570010057               VENDA DIRETA/VENDA DIRETA                0.0   \n",
      "\n",
      "            CE01_zstok  CE03_zstok  CE05_zstok  CE07_zstok  CE09_zstok  \\\n",
      "Material                                                                 \n",
      "08AA77360          0.0         0.0         4.0         0.0         0.0   \n",
      "20AL48470G         0.0         0.0         1.0         9.0         0.0   \n",
      "25AAR70300         0.0         0.0         0.0         0.0         0.0   \n",
      "26NA32870          0.0         0.0        17.0         0.0         0.0   \n",
      "4030300501         0.0         0.0         0.0        14.0         0.0   \n",
      "...                ...         ...         ...         ...         ...   \n",
      "LY5606001          0.0         0.0         0.0         0.0         0.0   \n",
      "V500010073         0.0         0.0         0.0         0.0         0.0   \n",
      "V500010081         0.0         0.0         0.0         0.0         0.0   \n",
      "V500020030         0.0         0.0         0.0         0.0         0.0   \n",
      "V570010057         0.0         0.0         0.0         0.0         0.0   \n",
      "\n",
      "            CE10_zstok  CE11_zstok  CE13_zstok  Contr.qualid.  \n",
      "Material                                                       \n",
      "08AA77360          0.0         8.0         0.0            0.0  \n",
      "20AL48470G         0.0         7.0         0.0            0.0  \n",
      "25AAR70300         0.0         0.0         0.0            0.0  \n",
      "26NA32870          0.0         0.0         5.0            0.0  \n",
      "4030300501         0.0         0.0         3.0            0.0  \n",
      "...                ...         ...         ...            ...  \n",
      "LY5606001          0.0         0.0         0.0            0.0  \n",
      "V500010073         0.0         0.0         0.0            0.0  \n",
      "V500010081         0.0         0.0         0.0            0.0  \n",
      "V500020030         0.0         0.0         0.0            0.0  \n",
      "V570010057         0.0         0.0         0.0            0.0  \n",
      "\n",
      "[144 rows x 19 columns]\n"
     ]
    }
   ],
   "source": [
    "merged_table_1 = merged_table_pend.merge(merged_table_zstok, how='left', left_index=True, right_index=True)\n",
    "\n",
    "merged_table_1 = merged_table_1.fillna(0)\n",
    "\n",
    "print(merged_table_1)"
   ]
  },
  {
   "cell_type": "code",
   "execution_count": 65,
   "metadata": {
    "colab": {
     "base_uri": "https://localhost:8080/"
    },
    "id": "dL-H6otByU60",
    "outputId": "9601c914-cfb4-4039-d691-51021a8b24eb"
   },
   "outputs": [
    {
     "data": {
      "text/plain": [
       "Index(['CE03_zva70', 'CE04_zva70', 'CE05_zva70', 'CE10_zva70', 'CE11_zva70',\n",
       "       'CE13_zva70', 'Denominação', 'Criado por', 'Canal', 'Pendências Gerais',\n",
       "       'CE01_zstok', 'CE03_zstok', 'CE05_zstok', 'CE07_zstok', 'CE09_zstok',\n",
       "       'CE10_zstok', 'CE11_zstok', 'CE13_zstok', 'Contr.qualid.'],\n",
       "      dtype='object')"
      ]
     },
     "execution_count": 65,
     "metadata": {},
     "output_type": "execute_result"
    }
   ],
   "source": [
    "merged_table_1.columns"
   ]
  },
  {
   "cell_type": "markdown",
   "metadata": {
    "id": "FbEdg9w2ynhX"
   },
   "source": [
    "colocando o fup"
   ]
  },
  {
   "cell_type": "code",
   "execution_count": 66,
   "metadata": {
    "colab": {
     "base_uri": "https://localhost:8080/"
    },
    "id": "yVN9twaBya7z",
    "outputId": "9ae1059c-8407-445a-e6ee-cea5761e44c5"
   },
   "outputs": [
    {
     "name": "stdout",
     "output_type": "stream",
     "text": [
      "            CE03_zva70  CE04_zva70  CE05_zva70  CE10_zva70  CE11_zva70  \\\n",
      "Material                                                                 \n",
      "08AA77360            4           0           0           0           0   \n",
      "20AL48470G           2           0           0           0           0   \n",
      "25AAR70300           0           0           0           0           3   \n",
      "26NA32870            0           0           1           0           0   \n",
      "4030300501           0           0           0           0           3   \n",
      "...                ...         ...         ...         ...         ...   \n",
      "LY5606001            0           0           0           0           1   \n",
      "V500010073           0           0           0           0          14   \n",
      "V500010081           0           3           0           0           0   \n",
      "V500020030           0           0           0           0          14   \n",
      "V570010057           0           0           0           0           9   \n",
      "\n",
      "            CE13_zva70                               Denominação  \\\n",
      "Material                                                           \n",
      "08AA77360            0                                ENGRENAGEM   \n",
      "20AL48470G           0                                     BOTÃO   \n",
      "25AAR70300           0                                       FIO   \n",
      "26NA32870            0                         MOLA DE PRESSÃO 2   \n",
      "4030300501           0                                      ROLO   \n",
      "...                ...                                       ...   \n",
      "LY5606001            0  UNID FIXAÇÃO MOD HL5470DW/5472/8712/6182   \n",
      "V500010073           0                                  PRESILHA   \n",
      "V500010081           0                                  PRESILHA   \n",
      "V500020030           0                                     GARRA   \n",
      "V570010057           0                          WING EDGE SADDLE   \n",
      "\n",
      "                                                   Criado por  \\\n",
      "Material                                                        \n",
      "08AA77360                                 BRENDA DANTAS SOUZA   \n",
      "20AL48470G                                BRENDA DANTAS SOUZA   \n",
      "25AAR70300                              JESSIE OLIVEIRA SILVA   \n",
      "26NA32870                                 BRENDA DANTAS SOUZA   \n",
      "4030300501                                    ROBERTA MACHADO   \n",
      "...                                                       ...   \n",
      "LY5606001                              MARIANA NUNES DA SILVA   \n",
      "V500010073  REGILENE DE CASSIA LUIZ OLIVEIRA/REGILENE DE C...   \n",
      "V500010081                        JULIA MARIA MORETO DA SILVA   \n",
      "V500020030  REGILENE DE CASSIA LUIZ OLIVEIRA/REGILENE DE C...   \n",
      "V570010057  REGILENE DE CASSIA LUIZ OLIVEIRA/REGILENE DE C...   \n",
      "\n",
      "                                             Canal  Pendências Gerais  ...  \\\n",
      "Material                                                               ...   \n",
      "08AA77360                                      nan                0.0  ...   \n",
      "20AL48470G                                     nan                0.0  ...   \n",
      "25AAR70300                            VENDA DIRETA                0.0  ...   \n",
      "26NA32870                             VENDA DIRETA               12.0  ...   \n",
      "4030300501                          VENDA INDIRETA                0.0  ...   \n",
      "...                                            ...                ...  ...   \n",
      "LY5606001                             VENDA DIRETA                0.0  ...   \n",
      "V500010073  VENDA DIRETA/VENDA DIRETA/VENDA DIRETA                0.0  ...   \n",
      "V500010081                            VENDA DIRETA                0.0  ...   \n",
      "V500020030  VENDA DIRETA/VENDA DIRETA/VENDA DIRETA                4.0  ...   \n",
      "V570010057               VENDA DIRETA/VENDA DIRETA                0.0  ...   \n",
      "\n",
      "            2025-06-18 00:00:00  2025-06-20 00:00:00  2025-06-22 00:00:00  \\\n",
      "Material                                                                    \n",
      "08AA77360                   0.0                  0.0                  0.0   \n",
      "20AL48470G                  0.0                 11.0                  0.0   \n",
      "25AAR70300                  0.0                  0.0                  0.0   \n",
      "26NA32870                   0.0                  2.0                  0.0   \n",
      "4030300501                  0.0                  0.0                  0.0   \n",
      "...                         ...                  ...                  ...   \n",
      "LY5606001                   0.0                  0.0                  0.0   \n",
      "V500010073                  0.0                  0.0                  0.0   \n",
      "V500010081                  0.0                  0.0                  0.0   \n",
      "V500020030                  0.0                  0.0                  0.0   \n",
      "V570010057                  0.0                  0.0                  0.0   \n",
      "\n",
      "            2025-06-23 00:00:00  2025-06-24 00:00:00  2025-06-27 00:00:00  \\\n",
      "Material                                                                    \n",
      "08AA77360                   0.0                  0.0                  0.0   \n",
      "20AL48470G                  0.0                  0.0                  0.0   \n",
      "25AAR70300                  0.0                  0.0                  0.0   \n",
      "26NA32870                   0.0                  0.0                  0.0   \n",
      "4030300501                  0.0                  0.0                  0.0   \n",
      "...                         ...                  ...                  ...   \n",
      "LY5606001                   0.0                  0.0                  0.0   \n",
      "V500010073                  0.0                  0.0                  0.0   \n",
      "V500010081                  0.0                  0.0                  0.0   \n",
      "V500020030                  0.0                  0.0                  0.0   \n",
      "V570010057                  0.0                  0.0                  0.0   \n",
      "\n",
      "            2025-07-04 00:00:00  2025-07-08 00:00:00  2025-07-13 00:00:00  \\\n",
      "Material                                                                    \n",
      "08AA77360                   0.0                  0.0                  0.0   \n",
      "20AL48470G                  0.0                  0.0                  0.0   \n",
      "25AAR70300                  0.0                  0.0                  0.0   \n",
      "26NA32870                   0.0                  0.0                  0.0   \n",
      "4030300501                  0.0                  0.0                  0.0   \n",
      "...                         ...                  ...                  ...   \n",
      "LY5606001                   0.0                  0.0                  0.0   \n",
      "V500010073                  0.0                  0.0                  0.0   \n",
      "V500010081                  0.0                  0.0                  0.0   \n",
      "V500020030                  0.0                  0.0                  0.0   \n",
      "V570010057                  0.0                  0.0                  0.0   \n",
      "\n",
      "            2025-07-18 00:00:00  \n",
      "Material                         \n",
      "08AA77360                   0.0  \n",
      "20AL48470G                  0.0  \n",
      "25AAR70300                  0.0  \n",
      "26NA32870                   0.0  \n",
      "4030300501                  0.0  \n",
      "...                         ...  \n",
      "LY5606001                   0.0  \n",
      "V500010073                  0.0  \n",
      "V500010081                  0.0  \n",
      "V500020030                  0.0  \n",
      "V570010057                  0.0  \n",
      "\n",
      "[144 rows x 39 columns]\n"
     ]
    }
   ],
   "source": [
    "merged_table_2 = merged_table_1.merge(tabela_dinamica_fup, how='left', left_index=True, right_index=True)\n",
    "\n",
    "merged_table_2 = merged_table_2.fillna(0)\n",
    "\n",
    "print(merged_table_2)"
   ]
  },
  {
   "cell_type": "code",
   "execution_count": 67,
   "metadata": {
    "colab": {
     "base_uri": "https://localhost:8080/"
    },
    "id": "naqhcdgRyzfi",
    "outputId": "05f69321-4df1-4c7f-90e1-815aa97a0390"
   },
   "outputs": [
    {
     "data": {
      "text/plain": [
       "Index([       'CE03_zva70',        'CE04_zva70',        'CE05_zva70',\n",
       "              'CE10_zva70',        'CE11_zva70',        'CE13_zva70',\n",
       "             'Denominação',        'Criado por',             'Canal',\n",
       "       'Pendências Gerais',        'CE01_zstok',        'CE03_zstok',\n",
       "              'CE05_zstok',        'CE07_zstok',        'CE09_zstok',\n",
       "              'CE10_zstok',        'CE11_zstok',        'CE13_zstok',\n",
       "           'Contr.qualid.', 2025-04-22 00:00:00, 2025-05-05 00:00:00,\n",
       "       2025-05-06 00:00:00, 2025-05-07 00:00:00, 2025-05-12 00:00:00,\n",
       "       2025-06-02 00:00:00, 2025-06-04 00:00:00, 2025-06-05 00:00:00,\n",
       "       2025-06-16 00:00:00, 2025-06-17 00:00:00, 2025-06-18 00:00:00,\n",
       "       2025-06-20 00:00:00, 2025-06-22 00:00:00, 2025-06-23 00:00:00,\n",
       "       2025-06-24 00:00:00, 2025-06-27 00:00:00, 2025-07-04 00:00:00,\n",
       "       2025-07-08 00:00:00, 2025-07-13 00:00:00, 2025-07-18 00:00:00],\n",
       "      dtype='object')"
      ]
     },
     "execution_count": 67,
     "metadata": {},
     "output_type": "execute_result"
    }
   ],
   "source": [
    "merged_table_2.columns"
   ]
  },
  {
   "cell_type": "code",
   "execution_count": 68,
   "metadata": {
    "id": "xV6-3goc1ND_"
   },
   "outputs": [],
   "source": [
    "# Renomear colunas com sufixo \"_x\"\n",
    "#merged_table_2 = merged_table_2.rename(columns=lambda x: x.replace('_x', '_zva70'))\n",
    "\n",
    "# Renomear colunas com sufixo \"_y\"\n",
    "#merged_table_2 = merged_table_2.rename(columns=lambda x: x.replace('_y', '_zstok'))\n"
   ]
  },
  {
   "cell_type": "code",
   "execution_count": 69,
   "metadata": {
    "colab": {
     "base_uri": "https://localhost:8080/"
    },
    "id": "wgPKOqwXMwBn",
    "outputId": "e2b8f186-1d5e-47d1-e988-c86815e0de1b"
   },
   "outputs": [
    {
     "name": "stdout",
     "output_type": "stream",
     "text": [
      "            CE03_zva70  CE04_zva70  CE05_zva70  CE10_zva70  CE11_zva70  \\\n",
      "Material                                                                 \n",
      "08AA77360            4           0           0           0           0   \n",
      "20AL48470G           2           0           0           0           0   \n",
      "25AAR70300           0           0           0           0           3   \n",
      "26NA32870            0           0           1           0           0   \n",
      "4030300501           0           0           0           0           3   \n",
      "...                ...         ...         ...         ...         ...   \n",
      "LY5606001            0           0           0           0           1   \n",
      "V500010073           0           0           0           0          14   \n",
      "V500010081           0           3           0           0           0   \n",
      "V500020030           0           0           0           0          14   \n",
      "V570010057           0           0           0           0           9   \n",
      "\n",
      "            CE13_zva70                               Denominação  \\\n",
      "Material                                                           \n",
      "08AA77360            0                                ENGRENAGEM   \n",
      "20AL48470G           0                                     BOTÃO   \n",
      "25AAR70300           0                                       FIO   \n",
      "26NA32870            0                         MOLA DE PRESSÃO 2   \n",
      "4030300501           0                                      ROLO   \n",
      "...                ...                                       ...   \n",
      "LY5606001            0  UNID FIXAÇÃO MOD HL5470DW/5472/8712/6182   \n",
      "V500010073           0                                  PRESILHA   \n",
      "V500010081           0                                  PRESILHA   \n",
      "V500020030           0                                     GARRA   \n",
      "V570010057           0                          WING EDGE SADDLE   \n",
      "\n",
      "                                                   Criado por  \\\n",
      "Material                                                        \n",
      "08AA77360                                 BRENDA DANTAS SOUZA   \n",
      "20AL48470G                                BRENDA DANTAS SOUZA   \n",
      "25AAR70300                              JESSIE OLIVEIRA SILVA   \n",
      "26NA32870                                 BRENDA DANTAS SOUZA   \n",
      "4030300501                                    ROBERTA MACHADO   \n",
      "...                                                       ...   \n",
      "LY5606001                              MARIANA NUNES DA SILVA   \n",
      "V500010073  REGILENE DE CASSIA LUIZ OLIVEIRA/REGILENE DE C...   \n",
      "V500010081                        JULIA MARIA MORETO DA SILVA   \n",
      "V500020030  REGILENE DE CASSIA LUIZ OLIVEIRA/REGILENE DE C...   \n",
      "V570010057  REGILENE DE CASSIA LUIZ OLIVEIRA/REGILENE DE C...   \n",
      "\n",
      "                                             Canal  Pendências Gerais  ...  \\\n",
      "Material                                                               ...   \n",
      "08AA77360                                      nan                0.0  ...   \n",
      "20AL48470G                                     nan                0.0  ...   \n",
      "25AAR70300                            VENDA DIRETA                0.0  ...   \n",
      "26NA32870                             VENDA DIRETA               12.0  ...   \n",
      "4030300501                          VENDA INDIRETA                0.0  ...   \n",
      "...                                            ...                ...  ...   \n",
      "LY5606001                             VENDA DIRETA                0.0  ...   \n",
      "V500010073  VENDA DIRETA/VENDA DIRETA/VENDA DIRETA                0.0  ...   \n",
      "V500010081                            VENDA DIRETA                0.0  ...   \n",
      "V500020030  VENDA DIRETA/VENDA DIRETA/VENDA DIRETA                4.0  ...   \n",
      "V570010057               VENDA DIRETA/VENDA DIRETA                0.0  ...   \n",
      "\n",
      "            2025-06-20 00:00:00  2025-06-22 00:00:00  2025-06-23 00:00:00  \\\n",
      "Material                                                                    \n",
      "08AA77360                   0.0                  0.0                  0.0   \n",
      "20AL48470G                 11.0                  0.0                  0.0   \n",
      "25AAR70300                  0.0                  0.0                  0.0   \n",
      "26NA32870                   2.0                  0.0                  0.0   \n",
      "4030300501                  0.0                  0.0                  0.0   \n",
      "...                         ...                  ...                  ...   \n",
      "LY5606001                   0.0                  0.0                  0.0   \n",
      "V500010073                  0.0                  0.0                  0.0   \n",
      "V500010081                  0.0                  0.0                  0.0   \n",
      "V500020030                  0.0                  0.0                  0.0   \n",
      "V570010057                  0.0                  0.0                  0.0   \n",
      "\n",
      "            2025-06-24 00:00:00  2025-06-27 00:00:00  2025-07-04 00:00:00  \\\n",
      "Material                                                                    \n",
      "08AA77360                   0.0                  0.0                  0.0   \n",
      "20AL48470G                  0.0                  0.0                  0.0   \n",
      "25AAR70300                  0.0                  0.0                  0.0   \n",
      "26NA32870                   0.0                  0.0                  0.0   \n",
      "4030300501                  0.0                  0.0                  0.0   \n",
      "...                         ...                  ...                  ...   \n",
      "LY5606001                   0.0                  0.0                  0.0   \n",
      "V500010073                  0.0                  0.0                  0.0   \n",
      "V500010081                  0.0                  0.0                  0.0   \n",
      "V500020030                  0.0                  0.0                  0.0   \n",
      "V570010057                  0.0                  0.0                  0.0   \n",
      "\n",
      "            2025-07-08 00:00:00  2025-07-13 00:00:00  2025-07-18 00:00:00  \\\n",
      "Material                                                                    \n",
      "08AA77360                   0.0                  0.0                  0.0   \n",
      "20AL48470G                  0.0                  0.0                  0.0   \n",
      "25AAR70300                  0.0                  0.0                  0.0   \n",
      "26NA32870                   0.0                  0.0                  0.0   \n",
      "4030300501                  0.0                  0.0                  0.0   \n",
      "...                         ...                  ...                  ...   \n",
      "LY5606001                   0.0                  0.0                  0.0   \n",
      "V500010073                  0.0                  0.0                  0.0   \n",
      "V500010081                  0.0                  0.0                  0.0   \n",
      "V500020030                  0.0                  0.0                  0.0   \n",
      "V570010057                  0.0                  0.0                  0.0   \n",
      "\n",
      "            Montante  \n",
      "Material              \n",
      "08AA77360       1.71  \n",
      "20AL48470G      1.38  \n",
      "25AAR70300      1.26  \n",
      "26NA32870       0.26  \n",
      "4030300501      4.35  \n",
      "...              ...  \n",
      "LY5606001       0.00  \n",
      "V500010073      0.69  \n",
      "V500010081      0.47  \n",
      "V500020030      2.13  \n",
      "V570010057      0.76  \n",
      "\n",
      "[144 rows x 40 columns]\n"
     ]
    }
   ],
   "source": [
    "merged_table_3 = merged_table_2.merge(tabela_dinamica_fob, how='left', left_index=True, right_index=True)\n",
    "\n",
    "merged_table_3 = merged_table_3.fillna(0)\n",
    "\n",
    "print(merged_table_3)"
   ]
  },
  {
   "cell_type": "code",
   "execution_count": 70,
   "metadata": {
    "colab": {
     "base_uri": "https://localhost:8080/"
    },
    "id": "qS1JaxmdMvIG",
    "outputId": "5dcd9ada-f328-498f-acf1-fed8241a0cbe"
   },
   "outputs": [
    {
     "name": "stdout",
     "output_type": "stream",
     "text": [
      "            CE03_zva70  CE04_zva70  CE05_zva70  CE10_zva70  CE11_zva70  \\\n",
      "Material                                                                 \n",
      "08AA77360            4           0           0           0           0   \n",
      "20AL48470G           2           0           0           0           0   \n",
      "25AAR70300           0           0           0           0           3   \n",
      "26NA32870            0           0           1           0           0   \n",
      "4030300501           0           0           0           0           3   \n",
      "...                ...         ...         ...         ...         ...   \n",
      "LY5606001            0           0           0           0           1   \n",
      "V500010073           0           0           0           0          14   \n",
      "V500010081           0           3           0           0           0   \n",
      "V500020030           0           0           0           0          14   \n",
      "V570010057           0           0           0           0           9   \n",
      "\n",
      "            CE13_zva70                               Denominação  \\\n",
      "Material                                                           \n",
      "08AA77360            0                                ENGRENAGEM   \n",
      "20AL48470G           0                                     BOTÃO   \n",
      "25AAR70300           0                                       FIO   \n",
      "26NA32870            0                         MOLA DE PRESSÃO 2   \n",
      "4030300501           0                                      ROLO   \n",
      "...                ...                                       ...   \n",
      "LY5606001            0  UNID FIXAÇÃO MOD HL5470DW/5472/8712/6182   \n",
      "V500010073           0                                  PRESILHA   \n",
      "V500010081           0                                  PRESILHA   \n",
      "V500020030           0                                     GARRA   \n",
      "V570010057           0                          WING EDGE SADDLE   \n",
      "\n",
      "                                                   Criado por  \\\n",
      "Material                                                        \n",
      "08AA77360                                 BRENDA DANTAS SOUZA   \n",
      "20AL48470G                                BRENDA DANTAS SOUZA   \n",
      "25AAR70300                              JESSIE OLIVEIRA SILVA   \n",
      "26NA32870                                 BRENDA DANTAS SOUZA   \n",
      "4030300501                                    ROBERTA MACHADO   \n",
      "...                                                       ...   \n",
      "LY5606001                              MARIANA NUNES DA SILVA   \n",
      "V500010073  REGILENE DE CASSIA LUIZ OLIVEIRA/REGILENE DE C...   \n",
      "V500010081                        JULIA MARIA MORETO DA SILVA   \n",
      "V500020030  REGILENE DE CASSIA LUIZ OLIVEIRA/REGILENE DE C...   \n",
      "V570010057  REGILENE DE CASSIA LUIZ OLIVEIRA/REGILENE DE C...   \n",
      "\n",
      "                                             Canal  Pendências Gerais  ...  \\\n",
      "Material                                                               ...   \n",
      "08AA77360                                      nan                0.0  ...   \n",
      "20AL48470G                                     nan                0.0  ...   \n",
      "25AAR70300                            VENDA DIRETA                0.0  ...   \n",
      "26NA32870                             VENDA DIRETA               12.0  ...   \n",
      "4030300501                          VENDA INDIRETA                0.0  ...   \n",
      "...                                            ...                ...  ...   \n",
      "LY5606001                             VENDA DIRETA                0.0  ...   \n",
      "V500010073  VENDA DIRETA/VENDA DIRETA/VENDA DIRETA                0.0  ...   \n",
      "V500010081                            VENDA DIRETA                0.0  ...   \n",
      "V500020030  VENDA DIRETA/VENDA DIRETA/VENDA DIRETA                4.0  ...   \n",
      "V570010057               VENDA DIRETA/VENDA DIRETA                0.0  ...   \n",
      "\n",
      "            2025-06-22 00:00:00  2025-06-23 00:00:00  2025-06-24 00:00:00  \\\n",
      "Material                                                                    \n",
      "08AA77360                   0.0                  0.0                  0.0   \n",
      "20AL48470G                  0.0                  0.0                  0.0   \n",
      "25AAR70300                  0.0                  0.0                  0.0   \n",
      "26NA32870                   0.0                  0.0                  0.0   \n",
      "4030300501                  0.0                  0.0                  0.0   \n",
      "...                         ...                  ...                  ...   \n",
      "LY5606001                   0.0                  0.0                  0.0   \n",
      "V500010073                  0.0                  0.0                  0.0   \n",
      "V500010081                  0.0                  0.0                  0.0   \n",
      "V500020030                  0.0                  0.0                  0.0   \n",
      "V570010057                  0.0                  0.0                  0.0   \n",
      "\n",
      "            2025-06-27 00:00:00  2025-07-04 00:00:00  2025-07-08 00:00:00  \\\n",
      "Material                                                                    \n",
      "08AA77360                   0.0                  0.0                  0.0   \n",
      "20AL48470G                  0.0                  0.0                  0.0   \n",
      "25AAR70300                  0.0                  0.0                  0.0   \n",
      "26NA32870                   0.0                  0.0                  0.0   \n",
      "4030300501                  0.0                  0.0                  0.0   \n",
      "...                         ...                  ...                  ...   \n",
      "LY5606001                   0.0                  0.0                  0.0   \n",
      "V500010073                  0.0                  0.0                  0.0   \n",
      "V500010081                  0.0                  0.0                  0.0   \n",
      "V500020030                  0.0                  0.0                  0.0   \n",
      "V570010057                  0.0                  0.0                  0.0   \n",
      "\n",
      "            2025-07-13 00:00:00  2025-07-18 00:00:00  Montante  \\\n",
      "Material                                                         \n",
      "08AA77360                   0.0                  0.0      1.71   \n",
      "20AL48470G                  0.0                  0.0      1.38   \n",
      "25AAR70300                  0.0                  0.0      1.26   \n",
      "26NA32870                   0.0                  0.0      0.26   \n",
      "4030300501                  0.0                  0.0      4.35   \n",
      "...                         ...                  ...       ...   \n",
      "LY5606001                   0.0                  0.0      0.00   \n",
      "V500010073                  0.0                  0.0      0.69   \n",
      "V500010081                  0.0                  0.0      0.47   \n",
      "V500020030                  0.0                  0.0      2.13   \n",
      "V570010057                  0.0                  0.0      0.76   \n",
      "\n",
      "                                        Modelos Lista Técnica  \n",
      "Material                                                       \n",
      "08AA77360   8050/ACCURIOPRESS C6100/BIZHUB PRESS C1085/BIZ...  \n",
      "20AL48470G  ACCURIOLABEL 190/BIZHUB PRESS C71CF/ACCURIOLAB...  \n",
      "25AAR70300  LT-211/LU-202/LU-202XL/LU-202XLM/LU-208XL/LU-4...  \n",
      "26NA32870   8050/ACCURIOLABEL 190/BIZHUB PRESS C71CF/ACCUR...  \n",
      "4030300501                                                  0  \n",
      "...                                                       ...  \n",
      "LY5606001                                                   0  \n",
      "V500010073  ACCURIOLABEL 190/BIZHUB PRESS C71CF/ACCURIOLAB...  \n",
      "V500010081  ACCURIOLABEL 190/BIZHUB PRESS C71CF/ACCURIOLAB...  \n",
      "V500020030  ACCURIOPRESS 6136P/ACCURIOPRESS 7136P/ACCURIOP...  \n",
      "V570010057  ACCURIOLABEL 190/BIZHUB PRESS C71CF/ACCURIOLAB...  \n",
      "\n",
      "[144 rows x 41 columns]\n"
     ]
    }
   ],
   "source": [
    "merged_table_4 = merged_table_3.merge(tabela_dinamica_pecas, how='left', left_index=True, right_index=True)\n",
    "\n",
    "merged_table_4 = merged_table_4.fillna(0)\n",
    "\n",
    "print(merged_table_4)"
   ]
  },
  {
   "cell_type": "code",
   "execution_count": 71,
   "metadata": {
    "colab": {
     "base_uri": "https://localhost:8080/"
    },
    "id": "HpeYh95LtwU7",
    "outputId": "9016fcc1-e63a-4b71-99a1-e603ecb6eda2"
   },
   "outputs": [
    {
     "name": "stdout",
     "output_type": "stream",
     "text": [
      "            CE03_zva70  CE04_zva70  CE05_zva70  CE10_zva70  CE11_zva70  \\\n",
      "Material                                                                 \n",
      "08AA77360            4           0           0           0           0   \n",
      "20AL48470G           2           0           0           0           0   \n",
      "25AAR70300           0           0           0           0           3   \n",
      "26NA32870            0           0           1           0           0   \n",
      "4030300501           0           0           0           0           3   \n",
      "...                ...         ...         ...         ...         ...   \n",
      "LY5606001            0           0           0           0           1   \n",
      "V500010073           0           0           0           0          14   \n",
      "V500010081           0           3           0           0           0   \n",
      "V500020030           0           0           0           0          14   \n",
      "V570010057           0           0           0           0           9   \n",
      "\n",
      "            CE13_zva70                               Denominação  \\\n",
      "Material                                                           \n",
      "08AA77360            0                                ENGRENAGEM   \n",
      "20AL48470G           0                                     BOTÃO   \n",
      "25AAR70300           0                                       FIO   \n",
      "26NA32870            0                         MOLA DE PRESSÃO 2   \n",
      "4030300501           0                                      ROLO   \n",
      "...                ...                                       ...   \n",
      "LY5606001            0  UNID FIXAÇÃO MOD HL5470DW/5472/8712/6182   \n",
      "V500010073           0                                  PRESILHA   \n",
      "V500010081           0                                  PRESILHA   \n",
      "V500020030           0                                     GARRA   \n",
      "V570010057           0                          WING EDGE SADDLE   \n",
      "\n",
      "                                                   Criado por  \\\n",
      "Material                                                        \n",
      "08AA77360                                 BRENDA DANTAS SOUZA   \n",
      "20AL48470G                                BRENDA DANTAS SOUZA   \n",
      "25AAR70300                              JESSIE OLIVEIRA SILVA   \n",
      "26NA32870                                 BRENDA DANTAS SOUZA   \n",
      "4030300501                                    ROBERTA MACHADO   \n",
      "...                                                       ...   \n",
      "LY5606001                              MARIANA NUNES DA SILVA   \n",
      "V500010073  REGILENE DE CASSIA LUIZ OLIVEIRA/REGILENE DE C...   \n",
      "V500010081                        JULIA MARIA MORETO DA SILVA   \n",
      "V500020030  REGILENE DE CASSIA LUIZ OLIVEIRA/REGILENE DE C...   \n",
      "V570010057  REGILENE DE CASSIA LUIZ OLIVEIRA/REGILENE DE C...   \n",
      "\n",
      "                                             Canal  Pendências Gerais  ...  \\\n",
      "Material                                                               ...   \n",
      "08AA77360                                      nan                0.0  ...   \n",
      "20AL48470G                                     nan                0.0  ...   \n",
      "25AAR70300                            VENDA DIRETA                0.0  ...   \n",
      "26NA32870                             VENDA DIRETA               12.0  ...   \n",
      "4030300501                          VENDA INDIRETA                0.0  ...   \n",
      "...                                            ...                ...  ...   \n",
      "LY5606001                             VENDA DIRETA                0.0  ...   \n",
      "V500010073  VENDA DIRETA/VENDA DIRETA/VENDA DIRETA                0.0  ...   \n",
      "V500010081                            VENDA DIRETA                0.0  ...   \n",
      "V500020030  VENDA DIRETA/VENDA DIRETA/VENDA DIRETA                4.0  ...   \n",
      "V570010057               VENDA DIRETA/VENDA DIRETA                0.0  ...   \n",
      "\n",
      "            Unnamed: 8  Unnamed: 9  Unnamed: 10  Unnamed: 11  Unnamed: 12  \\\n",
      "Material                                                                    \n",
      "08AA77360            0           0            0            0            0   \n",
      "20AL48470G           0   56UA70760            1    56UA70760            -   \n",
      "25AAR70300           0  65AA47600E            1   65AA47600E    65AA47600   \n",
      "26NA32870            0  A0GD600800            1   A0GD600800            -   \n",
      "4030300501           0           0            0            0            0   \n",
      "...                ...         ...          ...          ...          ...   \n",
      "LY5606001            0           0            0            0            0   \n",
      "V500010073           0           0            0            0            0   \n",
      "V500010081           0           0            0            0            0   \n",
      "V500020030           0           0            0            0            0   \n",
      "V570010057           0           0            0            0            0   \n",
      "\n",
      "            Unnamed: 13  Unnamed: 14  Unnamed: 15  Unnamed: 16  Unnamed: 17  \n",
      "Material                                                                     \n",
      "08AA77360             0            0            0          0.0          0.0  \n",
      "20AL48470G            -            -            -          0.0          1.0  \n",
      "25AAR70300            -            -            -          0.0          1.0  \n",
      "26NA32870             -            -            -          0.0          1.0  \n",
      "4030300501            0            0            0          0.0          0.0  \n",
      "...                 ...          ...          ...          ...          ...  \n",
      "LY5606001             0            0            0          0.0          0.0  \n",
      "V500010073            0            0            0          0.0          0.0  \n",
      "V500010081            0            0            0          0.0          0.0  \n",
      "V500020030            0            0            0          0.0          0.0  \n",
      "V570010057            0            0            0          0.0          0.0  \n",
      "\n",
      "[144 rows x 58 columns]\n"
     ]
    }
   ],
   "source": [
    "merged_table_5 = merged_table_4.merge(tabela_resultados, how='left', left_index=True, right_index=True)\n",
    "\n",
    "merged_table_5 = merged_table_5.fillna(0)\n",
    "\n",
    "print(merged_table_5)"
   ]
  },
  {
   "cell_type": "code",
   "execution_count": 72,
   "metadata": {
    "colab": {
     "base_uri": "https://localhost:8080/"
    },
    "id": "Av3CKwK00NDx",
    "outputId": "e72e9dfa-df0a-4bbe-a347-edaec60d9fd9"
   },
   "outputs": [
    {
     "name": "stdout",
     "output_type": "stream",
     "text": [
      "            CE03_zva70  CE04_zva70  CE05_zva70  CE10_zva70  CE11_zva70  \\\n",
      "Material                                                                 \n",
      "08AA77360            4           0           0           0           0   \n",
      "20AL48470G           2           0           0           0           0   \n",
      "25AAR70300           0           0           0           0           3   \n",
      "26NA32870            0           0           1           0           0   \n",
      "4030300501           0           0           0           0           3   \n",
      "...                ...         ...         ...         ...         ...   \n",
      "LY5606001            0           0           0           0           1   \n",
      "V500010073           0           0           0           0          14   \n",
      "V500010081           0           3           0           0           0   \n",
      "V500020030           0           0           0           0          14   \n",
      "V570010057           0           0           0           0           9   \n",
      "\n",
      "            CE13_zva70                               Denominação  \\\n",
      "Material                                                           \n",
      "08AA77360            0                                ENGRENAGEM   \n",
      "20AL48470G           0                                     BOTÃO   \n",
      "25AAR70300           0                                       FIO   \n",
      "26NA32870            0                         MOLA DE PRESSÃO 2   \n",
      "4030300501           0                                      ROLO   \n",
      "...                ...                                       ...   \n",
      "LY5606001            0  UNID FIXAÇÃO MOD HL5470DW/5472/8712/6182   \n",
      "V500010073           0                                  PRESILHA   \n",
      "V500010081           0                                  PRESILHA   \n",
      "V500020030           0                                     GARRA   \n",
      "V570010057           0                          WING EDGE SADDLE   \n",
      "\n",
      "                                                   Criado por  \\\n",
      "Material                                                        \n",
      "08AA77360                                 BRENDA DANTAS SOUZA   \n",
      "20AL48470G                                BRENDA DANTAS SOUZA   \n",
      "25AAR70300                              JESSIE OLIVEIRA SILVA   \n",
      "26NA32870                                 BRENDA DANTAS SOUZA   \n",
      "4030300501                                    ROBERTA MACHADO   \n",
      "...                                                       ...   \n",
      "LY5606001                              MARIANA NUNES DA SILVA   \n",
      "V500010073  REGILENE DE CASSIA LUIZ OLIVEIRA/REGILENE DE C...   \n",
      "V500010081                        JULIA MARIA MORETO DA SILVA   \n",
      "V500020030  REGILENE DE CASSIA LUIZ OLIVEIRA/REGILENE DE C...   \n",
      "V570010057  REGILENE DE CASSIA LUIZ OLIVEIRA/REGILENE DE C...   \n",
      "\n",
      "                                             Canal  Pendências Gerais  ...  \\\n",
      "Material                                                               ...   \n",
      "08AA77360                                      nan                0.0  ...   \n",
      "20AL48470G                                     nan                0.0  ...   \n",
      "25AAR70300                            VENDA DIRETA                0.0  ...   \n",
      "26NA32870                             VENDA DIRETA               12.0  ...   \n",
      "4030300501                          VENDA INDIRETA                0.0  ...   \n",
      "...                                            ...                ...  ...   \n",
      "LY5606001                             VENDA DIRETA                0.0  ...   \n",
      "V500010073  VENDA DIRETA/VENDA DIRETA/VENDA DIRETA                0.0  ...   \n",
      "V500010081                            VENDA DIRETA                0.0  ...   \n",
      "V500020030  VENDA DIRETA/VENDA DIRETA/VENDA DIRETA                4.0  ...   \n",
      "V570010057               VENDA DIRETA/VENDA DIRETA                0.0  ...   \n",
      "\n",
      "            Unnamed: 9  Unnamed: 10  Unnamed: 11  Unnamed: 12  Unnamed: 13  \\\n",
      "Material                                                                     \n",
      "08AA77360            0            0            0            0            0   \n",
      "20AL48470G   56UA70760            1    56UA70760            -            -   \n",
      "25AAR70300  65AA47600E            1   65AA47600E    65AA47600            -   \n",
      "26NA32870   A0GD600800            1   A0GD600800            -            -   \n",
      "4030300501           0            0            0            0            0   \n",
      "...                ...          ...          ...          ...          ...   \n",
      "LY5606001            0            0            0            0            0   \n",
      "V500010073           0            0            0            0            0   \n",
      "V500010081           0            0            0            0            0   \n",
      "V500020030           0            0            0            0            0   \n",
      "V570010057           0            0            0            0            0   \n",
      "\n",
      "            Unnamed: 14  Unnamed: 15  Unnamed: 16  Unnamed: 17  Durabilidade  \n",
      "Material                                                                      \n",
      "08AA77360             0            0          0.0          0.0             0  \n",
      "20AL48470G            -            -          0.0          1.0             0  \n",
      "25AAR70300            -            -          0.0          1.0             0  \n",
      "26NA32870             -            -          0.0          1.0             0  \n",
      "4030300501            0            0          0.0          0.0             0  \n",
      "...                 ...          ...          ...          ...           ...  \n",
      "LY5606001             0            0          0.0          0.0             0  \n",
      "V500010073            0            0          0.0          0.0             0  \n",
      "V500010081            0            0          0.0          0.0             0  \n",
      "V500020030            0            0          0.0          0.0             0  \n",
      "V570010057            0            0          0.0          0.0             0  \n",
      "\n",
      "[144 rows x 59 columns]\n"
     ]
    }
   ],
   "source": [
    "merged_table_6 = merged_table_5.merge(tabela_dinamica_classificacao, how='left', left_index=True, right_index=True)\n",
    "\n",
    "merged_table_6 = merged_table_6.fillna(0)\n",
    "\n",
    "print(merged_table_6)"
   ]
  },
  {
   "cell_type": "code",
   "execution_count": 73,
   "metadata": {
    "colab": {
     "base_uri": "https://localhost:8080/"
    },
    "id": "aYCsNgDTujli",
    "outputId": "c3515f20-4a27-401d-fa49-4195f3f8cad2"
   },
   "outputs": [
    {
     "data": {
      "text/plain": [
       "Index([           'CE03_zva70',            'CE04_zva70',\n",
       "                  'CE05_zva70',            'CE10_zva70',\n",
       "                  'CE11_zva70',            'CE13_zva70',\n",
       "                 'Denominação',            'Criado por',\n",
       "                       'Canal',     'Pendências Gerais',\n",
       "                  'CE01_zstok',            'CE03_zstok',\n",
       "                  'CE05_zstok',            'CE07_zstok',\n",
       "                  'CE09_zstok',            'CE10_zstok',\n",
       "                  'CE11_zstok',            'CE13_zstok',\n",
       "               'Contr.qualid.',     2025-04-22 00:00:00,\n",
       "           2025-05-05 00:00:00,     2025-05-06 00:00:00,\n",
       "           2025-05-07 00:00:00,     2025-05-12 00:00:00,\n",
       "           2025-06-02 00:00:00,     2025-06-04 00:00:00,\n",
       "           2025-06-05 00:00:00,     2025-06-16 00:00:00,\n",
       "           2025-06-17 00:00:00,     2025-06-18 00:00:00,\n",
       "           2025-06-20 00:00:00,     2025-06-22 00:00:00,\n",
       "           2025-06-23 00:00:00,     2025-06-24 00:00:00,\n",
       "           2025-06-27 00:00:00,     2025-07-04 00:00:00,\n",
       "           2025-07-08 00:00:00,     2025-07-13 00:00:00,\n",
       "           2025-07-18 00:00:00,              'Montante',\n",
       "       'Modelos Lista Técnica',              'Material',\n",
       "                    'Similar1',              'Similar2',\n",
       "                    'Similar3',              'Similar4',\n",
       "                  'Unnamed: 6',            'Unnamed: 7',\n",
       "                  'Unnamed: 8',            'Unnamed: 9',\n",
       "                 'Unnamed: 10',           'Unnamed: 11',\n",
       "                 'Unnamed: 12',           'Unnamed: 13',\n",
       "                 'Unnamed: 14',           'Unnamed: 15',\n",
       "                 'Unnamed: 16',           'Unnamed: 17',\n",
       "                'Durabilidade'],\n",
       "      dtype='object')"
      ]
     },
     "execution_count": 73,
     "metadata": {},
     "output_type": "execute_result"
    }
   ],
   "source": [
    "merged_table_6.columns"
   ]
  },
  {
   "cell_type": "code",
   "execution_count": 74,
   "metadata": {
    "id": "eCzTViJly1uF"
   },
   "outputs": [],
   "source": [
    "\n",
    "caminho_saida = r'C:\\Users\\fsp_adolpho.salvador\\Desktop\\Konica Minolta\\Desktop Cloud - Documentos\\Desktop\\Py\\Pendencias\\Mapa.xlsx'\n",
    "\n",
    "merged_table_6.to_excel(caminho_saida, index=True)\n"
   ]
  },
  {
   "cell_type": "code",
   "execution_count": 75,
   "metadata": {
    "colab": {
     "base_uri": "https://localhost:8080/",
     "height": 187
    },
    "id": "e86m_xIZzbH3",
    "outputId": "df79a1f3-3b9e-48f8-f40c-3e096f901b4e"
   },
   "outputs": [
    {
     "data": {
      "text/plain": [
       "<bound method NDFrame.head of             CE03_zva70  CE04_zva70  CE05_zva70  CE10_zva70  CE11_zva70  \\\n",
       "Material                                                                 \n",
       "08AA77360            4           0           0           0           0   \n",
       "20AL48470G           2           0           0           0           0   \n",
       "25AAR70300           0           0           0           0           3   \n",
       "26NA32870            0           0           1           0           0   \n",
       "4030300501           0           0           0           0           3   \n",
       "...                ...         ...         ...         ...         ...   \n",
       "LY5606001            0           0           0           0           1   \n",
       "V500010073           0           0           0           0          14   \n",
       "V500010081           0           3           0           0           0   \n",
       "V500020030           0           0           0           0          14   \n",
       "V570010057           0           0           0           0           9   \n",
       "\n",
       "            CE13_zva70                               Denominação  \\\n",
       "Material                                                           \n",
       "08AA77360            0                                ENGRENAGEM   \n",
       "20AL48470G           0                                     BOTÃO   \n",
       "25AAR70300           0                                       FIO   \n",
       "26NA32870            0                         MOLA DE PRESSÃO 2   \n",
       "4030300501           0                                      ROLO   \n",
       "...                ...                                       ...   \n",
       "LY5606001            0  UNID FIXAÇÃO MOD HL5470DW/5472/8712/6182   \n",
       "V500010073           0                                  PRESILHA   \n",
       "V500010081           0                                  PRESILHA   \n",
       "V500020030           0                                     GARRA   \n",
       "V570010057           0                          WING EDGE SADDLE   \n",
       "\n",
       "                                                   Criado por  \\\n",
       "Material                                                        \n",
       "08AA77360                                 BRENDA DANTAS SOUZA   \n",
       "20AL48470G                                BRENDA DANTAS SOUZA   \n",
       "25AAR70300                              JESSIE OLIVEIRA SILVA   \n",
       "26NA32870                                 BRENDA DANTAS SOUZA   \n",
       "4030300501                                    ROBERTA MACHADO   \n",
       "...                                                       ...   \n",
       "LY5606001                              MARIANA NUNES DA SILVA   \n",
       "V500010073  REGILENE DE CASSIA LUIZ OLIVEIRA/REGILENE DE C...   \n",
       "V500010081                        JULIA MARIA MORETO DA SILVA   \n",
       "V500020030  REGILENE DE CASSIA LUIZ OLIVEIRA/REGILENE DE C...   \n",
       "V570010057  REGILENE DE CASSIA LUIZ OLIVEIRA/REGILENE DE C...   \n",
       "\n",
       "                                             Canal  Pendências Gerais  ...  \\\n",
       "Material                                                               ...   \n",
       "08AA77360                                      nan                0.0  ...   \n",
       "20AL48470G                                     nan                0.0  ...   \n",
       "25AAR70300                            VENDA DIRETA                0.0  ...   \n",
       "26NA32870                             VENDA DIRETA               12.0  ...   \n",
       "4030300501                          VENDA INDIRETA                0.0  ...   \n",
       "...                                            ...                ...  ...   \n",
       "LY5606001                             VENDA DIRETA                0.0  ...   \n",
       "V500010073  VENDA DIRETA/VENDA DIRETA/VENDA DIRETA                0.0  ...   \n",
       "V500010081                            VENDA DIRETA                0.0  ...   \n",
       "V500020030  VENDA DIRETA/VENDA DIRETA/VENDA DIRETA                4.0  ...   \n",
       "V570010057               VENDA DIRETA/VENDA DIRETA                0.0  ...   \n",
       "\n",
       "            Unnamed: 9  Unnamed: 10  Unnamed: 11  Unnamed: 12  Unnamed: 13  \\\n",
       "Material                                                                     \n",
       "08AA77360            0            0            0            0            0   \n",
       "20AL48470G   56UA70760            1    56UA70760            -            -   \n",
       "25AAR70300  65AA47600E            1   65AA47600E    65AA47600            -   \n",
       "26NA32870   A0GD600800            1   A0GD600800            -            -   \n",
       "4030300501           0            0            0            0            0   \n",
       "...                ...          ...          ...          ...          ...   \n",
       "LY5606001            0            0            0            0            0   \n",
       "V500010073           0            0            0            0            0   \n",
       "V500010081           0            0            0            0            0   \n",
       "V500020030           0            0            0            0            0   \n",
       "V570010057           0            0            0            0            0   \n",
       "\n",
       "            Unnamed: 14  Unnamed: 15  Unnamed: 16  Unnamed: 17  Durabilidade  \n",
       "Material                                                                      \n",
       "08AA77360             0            0          0.0          0.0             0  \n",
       "20AL48470G            -            -          0.0          1.0             0  \n",
       "25AAR70300            -            -          0.0          1.0             0  \n",
       "26NA32870             -            -          0.0          1.0             0  \n",
       "4030300501            0            0          0.0          0.0             0  \n",
       "...                 ...          ...          ...          ...           ...  \n",
       "LY5606001             0            0          0.0          0.0             0  \n",
       "V500010073            0            0          0.0          0.0             0  \n",
       "V500010081            0            0          0.0          0.0             0  \n",
       "V500020030            0            0          0.0          0.0             0  \n",
       "V570010057            0            0          0.0          0.0             0  \n",
       "\n",
       "[144 rows x 59 columns]>"
      ]
     },
     "execution_count": 75,
     "metadata": {},
     "output_type": "execute_result"
    }
   ],
   "source": [
    "merged_table_6.head"
   ]
  },
  {
   "cell_type": "code",
   "execution_count": 76,
   "metadata": {},
   "outputs": [],
   "source": [
    "\n",
    "merged_table_6 = pd.read_excel(r'C:\\Users\\fsp_adolpho.salvador\\Desktop\\Konica Minolta\\Desktop Cloud - Documentos\\Desktop\\Py\\Pendencias\\Mapa.xlsx')\n",
    "ztsd017_data = pd.read_excel(r'C:\\Users\\fsp_adolpho.salvador\\Desktop\\Konica Minolta\\Desktop Cloud - Documentos\\Desktop\\Py\\Pendencias\\Arquivos\\ztsd017.XLSX')"
   ]
  },
  {
   "cell_type": "code",
   "execution_count": 77,
   "metadata": {},
   "outputs": [
    {
     "data": {
      "text/html": [
       "<div>\n",
       "<style scoped>\n",
       "    .dataframe tbody tr th:only-of-type {\n",
       "        vertical-align: middle;\n",
       "    }\n",
       "\n",
       "    .dataframe tbody tr th {\n",
       "        vertical-align: top;\n",
       "    }\n",
       "\n",
       "    .dataframe thead th {\n",
       "        text-align: right;\n",
       "    }\n",
       "</style>\n",
       "<table border=\"1\" class=\"dataframe\">\n",
       "  <thead>\n",
       "    <tr style=\"text-align: right;\">\n",
       "      <th></th>\n",
       "      <th>Material</th>\n",
       "      <th>CE03_zva70</th>\n",
       "      <th>CE04_zva70</th>\n",
       "      <th>CE05_zva70</th>\n",
       "      <th>CE10_zva70</th>\n",
       "      <th>CE11_zva70</th>\n",
       "      <th>CE13_zva70</th>\n",
       "      <th>Denominação</th>\n",
       "      <th>Criado por</th>\n",
       "      <th>Canal</th>\n",
       "      <th>...</th>\n",
       "      <th>Unnamed: 9</th>\n",
       "      <th>Unnamed: 10</th>\n",
       "      <th>Unnamed: 11</th>\n",
       "      <th>Unnamed: 12</th>\n",
       "      <th>Unnamed: 13</th>\n",
       "      <th>Unnamed: 14</th>\n",
       "      <th>Unnamed: 15</th>\n",
       "      <th>Unnamed: 16</th>\n",
       "      <th>Unnamed: 17</th>\n",
       "      <th>Durabilidade</th>\n",
       "    </tr>\n",
       "  </thead>\n",
       "  <tbody>\n",
       "    <tr>\n",
       "      <th>0</th>\n",
       "      <td>08AA77360</td>\n",
       "      <td>4</td>\n",
       "      <td>0</td>\n",
       "      <td>0</td>\n",
       "      <td>0</td>\n",
       "      <td>0</td>\n",
       "      <td>0</td>\n",
       "      <td>ENGRENAGEM</td>\n",
       "      <td>BRENDA DANTAS SOUZA</td>\n",
       "      <td>NaN</td>\n",
       "      <td>...</td>\n",
       "      <td>0</td>\n",
       "      <td>0</td>\n",
       "      <td>0</td>\n",
       "      <td>0</td>\n",
       "      <td>0</td>\n",
       "      <td>0</td>\n",
       "      <td>0</td>\n",
       "      <td>0</td>\n",
       "      <td>0</td>\n",
       "      <td>0</td>\n",
       "    </tr>\n",
       "    <tr>\n",
       "      <th>1</th>\n",
       "      <td>20AL48470G</td>\n",
       "      <td>2</td>\n",
       "      <td>0</td>\n",
       "      <td>0</td>\n",
       "      <td>0</td>\n",
       "      <td>0</td>\n",
       "      <td>0</td>\n",
       "      <td>BOTÃO</td>\n",
       "      <td>BRENDA DANTAS SOUZA</td>\n",
       "      <td>NaN</td>\n",
       "      <td>...</td>\n",
       "      <td>56UA70760</td>\n",
       "      <td>1</td>\n",
       "      <td>56UA70760</td>\n",
       "      <td>-</td>\n",
       "      <td>-</td>\n",
       "      <td>-</td>\n",
       "      <td>-</td>\n",
       "      <td>0</td>\n",
       "      <td>1</td>\n",
       "      <td>0</td>\n",
       "    </tr>\n",
       "    <tr>\n",
       "      <th>2</th>\n",
       "      <td>25AAR70300</td>\n",
       "      <td>0</td>\n",
       "      <td>0</td>\n",
       "      <td>0</td>\n",
       "      <td>0</td>\n",
       "      <td>3</td>\n",
       "      <td>0</td>\n",
       "      <td>FIO</td>\n",
       "      <td>JESSIE OLIVEIRA SILVA</td>\n",
       "      <td>VENDA DIRETA</td>\n",
       "      <td>...</td>\n",
       "      <td>65AA47600E</td>\n",
       "      <td>1</td>\n",
       "      <td>65AA47600E</td>\n",
       "      <td>65AA47600</td>\n",
       "      <td>-</td>\n",
       "      <td>-</td>\n",
       "      <td>-</td>\n",
       "      <td>0</td>\n",
       "      <td>1</td>\n",
       "      <td>0</td>\n",
       "    </tr>\n",
       "    <tr>\n",
       "      <th>3</th>\n",
       "      <td>26NA32870</td>\n",
       "      <td>0</td>\n",
       "      <td>0</td>\n",
       "      <td>1</td>\n",
       "      <td>0</td>\n",
       "      <td>0</td>\n",
       "      <td>0</td>\n",
       "      <td>MOLA DE PRESSÃO 2</td>\n",
       "      <td>BRENDA DANTAS SOUZA</td>\n",
       "      <td>VENDA DIRETA</td>\n",
       "      <td>...</td>\n",
       "      <td>A0GD600800</td>\n",
       "      <td>1</td>\n",
       "      <td>A0GD600800</td>\n",
       "      <td>-</td>\n",
       "      <td>-</td>\n",
       "      <td>-</td>\n",
       "      <td>-</td>\n",
       "      <td>0</td>\n",
       "      <td>1</td>\n",
       "      <td>0</td>\n",
       "    </tr>\n",
       "    <tr>\n",
       "      <th>4</th>\n",
       "      <td>4030300501</td>\n",
       "      <td>0</td>\n",
       "      <td>0</td>\n",
       "      <td>0</td>\n",
       "      <td>0</td>\n",
       "      <td>3</td>\n",
       "      <td>0</td>\n",
       "      <td>ROLO</td>\n",
       "      <td>ROBERTA MACHADO</td>\n",
       "      <td>VENDA INDIRETA</td>\n",
       "      <td>...</td>\n",
       "      <td>0</td>\n",
       "      <td>0</td>\n",
       "      <td>0</td>\n",
       "      <td>0</td>\n",
       "      <td>0</td>\n",
       "      <td>0</td>\n",
       "      <td>0</td>\n",
       "      <td>0</td>\n",
       "      <td>0</td>\n",
       "      <td>0</td>\n",
       "    </tr>\n",
       "    <tr>\n",
       "      <th>...</th>\n",
       "      <td>...</td>\n",
       "      <td>...</td>\n",
       "      <td>...</td>\n",
       "      <td>...</td>\n",
       "      <td>...</td>\n",
       "      <td>...</td>\n",
       "      <td>...</td>\n",
       "      <td>...</td>\n",
       "      <td>...</td>\n",
       "      <td>...</td>\n",
       "      <td>...</td>\n",
       "      <td>...</td>\n",
       "      <td>...</td>\n",
       "      <td>...</td>\n",
       "      <td>...</td>\n",
       "      <td>...</td>\n",
       "      <td>...</td>\n",
       "      <td>...</td>\n",
       "      <td>...</td>\n",
       "      <td>...</td>\n",
       "      <td>...</td>\n",
       "    </tr>\n",
       "    <tr>\n",
       "      <th>139</th>\n",
       "      <td>LY5606001</td>\n",
       "      <td>0</td>\n",
       "      <td>0</td>\n",
       "      <td>0</td>\n",
       "      <td>0</td>\n",
       "      <td>1</td>\n",
       "      <td>0</td>\n",
       "      <td>UNID FIXAÇÃO MOD HL5470DW/5472/8712/6182</td>\n",
       "      <td>MARIANA NUNES DA SILVA</td>\n",
       "      <td>VENDA DIRETA</td>\n",
       "      <td>...</td>\n",
       "      <td>0</td>\n",
       "      <td>0</td>\n",
       "      <td>0</td>\n",
       "      <td>0</td>\n",
       "      <td>0</td>\n",
       "      <td>0</td>\n",
       "      <td>0</td>\n",
       "      <td>0</td>\n",
       "      <td>0</td>\n",
       "      <td>0</td>\n",
       "    </tr>\n",
       "    <tr>\n",
       "      <th>140</th>\n",
       "      <td>V500010073</td>\n",
       "      <td>0</td>\n",
       "      <td>0</td>\n",
       "      <td>0</td>\n",
       "      <td>0</td>\n",
       "      <td>14</td>\n",
       "      <td>0</td>\n",
       "      <td>PRESILHA</td>\n",
       "      <td>REGILENE DE CASSIA LUIZ OLIVEIRA/REGILENE DE C...</td>\n",
       "      <td>VENDA DIRETA/VENDA DIRETA/VENDA DIRETA</td>\n",
       "      <td>...</td>\n",
       "      <td>0</td>\n",
       "      <td>0</td>\n",
       "      <td>0</td>\n",
       "      <td>0</td>\n",
       "      <td>0</td>\n",
       "      <td>0</td>\n",
       "      <td>0</td>\n",
       "      <td>0</td>\n",
       "      <td>0</td>\n",
       "      <td>0</td>\n",
       "    </tr>\n",
       "    <tr>\n",
       "      <th>141</th>\n",
       "      <td>V500010081</td>\n",
       "      <td>0</td>\n",
       "      <td>3</td>\n",
       "      <td>0</td>\n",
       "      <td>0</td>\n",
       "      <td>0</td>\n",
       "      <td>0</td>\n",
       "      <td>PRESILHA</td>\n",
       "      <td>JULIA MARIA MORETO DA SILVA</td>\n",
       "      <td>VENDA DIRETA</td>\n",
       "      <td>...</td>\n",
       "      <td>0</td>\n",
       "      <td>0</td>\n",
       "      <td>0</td>\n",
       "      <td>0</td>\n",
       "      <td>0</td>\n",
       "      <td>0</td>\n",
       "      <td>0</td>\n",
       "      <td>0</td>\n",
       "      <td>0</td>\n",
       "      <td>0</td>\n",
       "    </tr>\n",
       "    <tr>\n",
       "      <th>142</th>\n",
       "      <td>V500020030</td>\n",
       "      <td>0</td>\n",
       "      <td>0</td>\n",
       "      <td>0</td>\n",
       "      <td>0</td>\n",
       "      <td>14</td>\n",
       "      <td>0</td>\n",
       "      <td>GARRA</td>\n",
       "      <td>REGILENE DE CASSIA LUIZ OLIVEIRA/REGILENE DE C...</td>\n",
       "      <td>VENDA DIRETA/VENDA DIRETA/VENDA DIRETA</td>\n",
       "      <td>...</td>\n",
       "      <td>0</td>\n",
       "      <td>0</td>\n",
       "      <td>0</td>\n",
       "      <td>0</td>\n",
       "      <td>0</td>\n",
       "      <td>0</td>\n",
       "      <td>0</td>\n",
       "      <td>0</td>\n",
       "      <td>0</td>\n",
       "      <td>0</td>\n",
       "    </tr>\n",
       "    <tr>\n",
       "      <th>143</th>\n",
       "      <td>V570010057</td>\n",
       "      <td>0</td>\n",
       "      <td>0</td>\n",
       "      <td>0</td>\n",
       "      <td>0</td>\n",
       "      <td>9</td>\n",
       "      <td>0</td>\n",
       "      <td>WING EDGE SADDLE</td>\n",
       "      <td>REGILENE DE CASSIA LUIZ OLIVEIRA/REGILENE DE C...</td>\n",
       "      <td>VENDA DIRETA/VENDA DIRETA</td>\n",
       "      <td>...</td>\n",
       "      <td>0</td>\n",
       "      <td>0</td>\n",
       "      <td>0</td>\n",
       "      <td>0</td>\n",
       "      <td>0</td>\n",
       "      <td>0</td>\n",
       "      <td>0</td>\n",
       "      <td>0</td>\n",
       "      <td>0</td>\n",
       "      <td>0</td>\n",
       "    </tr>\n",
       "  </tbody>\n",
       "</table>\n",
       "<p>144 rows × 60 columns</p>\n",
       "</div>"
      ],
      "text/plain": [
       "       Material  CE03_zva70  CE04_zva70  CE05_zva70  CE10_zva70  CE11_zva70  \\\n",
       "0     08AA77360           4           0           0           0           0   \n",
       "1    20AL48470G           2           0           0           0           0   \n",
       "2    25AAR70300           0           0           0           0           3   \n",
       "3     26NA32870           0           0           1           0           0   \n",
       "4    4030300501           0           0           0           0           3   \n",
       "..          ...         ...         ...         ...         ...         ...   \n",
       "139   LY5606001           0           0           0           0           1   \n",
       "140  V500010073           0           0           0           0          14   \n",
       "141  V500010081           0           3           0           0           0   \n",
       "142  V500020030           0           0           0           0          14   \n",
       "143  V570010057           0           0           0           0           9   \n",
       "\n",
       "     CE13_zva70                               Denominação  \\\n",
       "0             0                                ENGRENAGEM   \n",
       "1             0                                     BOTÃO   \n",
       "2             0                                       FIO   \n",
       "3             0                         MOLA DE PRESSÃO 2   \n",
       "4             0                                      ROLO   \n",
       "..          ...                                       ...   \n",
       "139           0  UNID FIXAÇÃO MOD HL5470DW/5472/8712/6182   \n",
       "140           0                                  PRESILHA   \n",
       "141           0                                  PRESILHA   \n",
       "142           0                                     GARRA   \n",
       "143           0                          WING EDGE SADDLE   \n",
       "\n",
       "                                            Criado por  \\\n",
       "0                                  BRENDA DANTAS SOUZA   \n",
       "1                                  BRENDA DANTAS SOUZA   \n",
       "2                                JESSIE OLIVEIRA SILVA   \n",
       "3                                  BRENDA DANTAS SOUZA   \n",
       "4                                      ROBERTA MACHADO   \n",
       "..                                                 ...   \n",
       "139                             MARIANA NUNES DA SILVA   \n",
       "140  REGILENE DE CASSIA LUIZ OLIVEIRA/REGILENE DE C...   \n",
       "141                        JULIA MARIA MORETO DA SILVA   \n",
       "142  REGILENE DE CASSIA LUIZ OLIVEIRA/REGILENE DE C...   \n",
       "143  REGILENE DE CASSIA LUIZ OLIVEIRA/REGILENE DE C...   \n",
       "\n",
       "                                      Canal  ...  Unnamed: 9  Unnamed: 10  \\\n",
       "0                                       NaN  ...           0            0   \n",
       "1                                       NaN  ...   56UA70760            1   \n",
       "2                              VENDA DIRETA  ...  65AA47600E            1   \n",
       "3                              VENDA DIRETA  ...  A0GD600800            1   \n",
       "4                            VENDA INDIRETA  ...           0            0   \n",
       "..                                      ...  ...         ...          ...   \n",
       "139                            VENDA DIRETA  ...           0            0   \n",
       "140  VENDA DIRETA/VENDA DIRETA/VENDA DIRETA  ...           0            0   \n",
       "141                            VENDA DIRETA  ...           0            0   \n",
       "142  VENDA DIRETA/VENDA DIRETA/VENDA DIRETA  ...           0            0   \n",
       "143               VENDA DIRETA/VENDA DIRETA  ...           0            0   \n",
       "\n",
       "     Unnamed: 11  Unnamed: 12  Unnamed: 13  Unnamed: 14  Unnamed: 15  \\\n",
       "0              0            0            0            0            0   \n",
       "1      56UA70760            -            -            -            -   \n",
       "2     65AA47600E    65AA47600            -            -            -   \n",
       "3     A0GD600800            -            -            -            -   \n",
       "4              0            0            0            0            0   \n",
       "..           ...          ...          ...          ...          ...   \n",
       "139            0            0            0            0            0   \n",
       "140            0            0            0            0            0   \n",
       "141            0            0            0            0            0   \n",
       "142            0            0            0            0            0   \n",
       "143            0            0            0            0            0   \n",
       "\n",
       "     Unnamed: 16  Unnamed: 17  Durabilidade  \n",
       "0              0            0             0  \n",
       "1              0            1             0  \n",
       "2              0            1             0  \n",
       "3              0            1             0  \n",
       "4              0            0             0  \n",
       "..           ...          ...           ...  \n",
       "139            0            0             0  \n",
       "140            0            0             0  \n",
       "141            0            0             0  \n",
       "142            0            0             0  \n",
       "143            0            0             0  \n",
       "\n",
       "[144 rows x 60 columns]"
      ]
     },
     "execution_count": 77,
     "metadata": {},
     "output_type": "execute_result"
    }
   ],
   "source": [
    "merged_table_6"
   ]
  },
  {
   "cell_type": "code",
   "execution_count": 78,
   "metadata": {},
   "outputs": [],
   "source": [
    "colunas_para_remover = ['Unnamed: 6', 'Unnamed: 7', 'Unnamed: 8', 'Durabilidade', 'Quant estoque 24/10/2024']\n",
    "\n",
    "merged_table_6 = merged_table_6.drop(columns=colunas_para_remover, errors='ignore')"
   ]
  },
  {
   "cell_type": "code",
   "execution_count": 79,
   "metadata": {},
   "outputs": [
    {
     "data": {
      "text/plain": [
       "Index([             'Material',            'CE03_zva70',\n",
       "                  'CE04_zva70',            'CE05_zva70',\n",
       "                  'CE10_zva70',            'CE11_zva70',\n",
       "                  'CE13_zva70',           'Denominação',\n",
       "                  'Criado por',                 'Canal',\n",
       "           'Pendências Gerais',            'CE01_zstok',\n",
       "                  'CE03_zstok',            'CE05_zstok',\n",
       "                  'CE07_zstok',            'CE09_zstok',\n",
       "                  'CE10_zstok',            'CE11_zstok',\n",
       "                  'CE13_zstok',         'Contr.qualid.',\n",
       "           2025-04-22 00:00:00,     2025-05-05 00:00:00,\n",
       "           2025-05-06 00:00:00,     2025-05-07 00:00:00,\n",
       "           2025-05-12 00:00:00,     2025-06-02 00:00:00,\n",
       "           2025-06-04 00:00:00,     2025-06-05 00:00:00,\n",
       "           2025-06-16 00:00:00,     2025-06-17 00:00:00,\n",
       "           2025-06-18 00:00:00,     2025-06-20 00:00:00,\n",
       "           2025-06-22 00:00:00,     2025-06-23 00:00:00,\n",
       "           2025-06-24 00:00:00,     2025-06-27 00:00:00,\n",
       "           2025-07-04 00:00:00,     2025-07-08 00:00:00,\n",
       "           2025-07-13 00:00:00,     2025-07-18 00:00:00,\n",
       "                    'Montante', 'Modelos Lista Técnica',\n",
       "                  'Material.1',              'Similar1',\n",
       "                    'Similar2',              'Similar3',\n",
       "                    'Similar4',            'Unnamed: 9',\n",
       "                 'Unnamed: 10',           'Unnamed: 11',\n",
       "                 'Unnamed: 12',           'Unnamed: 13',\n",
       "                 'Unnamed: 14',           'Unnamed: 15',\n",
       "                 'Unnamed: 16',           'Unnamed: 17'],\n",
       "      dtype='object')"
      ]
     },
     "execution_count": 79,
     "metadata": {},
     "output_type": "execute_result"
    }
   ],
   "source": [
    "merged_table_6.columns"
   ]
  },
  {
   "cell_type": "code",
   "execution_count": 80,
   "metadata": {
    "id": "lw_1k4QZzb9j"
   },
   "outputs": [
    {
     "data": {
      "text/plain": [
       "Index(['Tipo material', 'Txt Tipo material', 'Material', 'Descrição',\n",
       "       'GrpMerc', 'Denom. Grupo Merc.', 'BU', 'Business Unit', 'Size',\n",
       "       'Print Size', 'Cor', 'Color/BW', 'Speed', 'Develop Name', 'Fabricante',\n",
       "       'Modelo Lista Manutenção', 'Seção LM', 'Qtde LM', 'Durabilidade LM',\n",
       "       'Page LM', 'Key LM', 'Destinations LM', 'Nota LM', 'Mais durabilidades',\n",
       "       'Modelos Lista Técnica', 'Classe', 'Status p/todos centros',\n",
       "       'Status p/todos canais', 'Preço venda', 'Moeda venda', 'Preço compra',\n",
       "       'Moeda compra', 'Qt.UMB', 'Unidade', '01/2024', '02/2024', '03/2024',\n",
       "       '04/2024', '05/2024', '06/2024', '07/2024', '08/2024', '09/2024',\n",
       "       '10/2024', '11/2024', '12/2024', 'Total Mov.', 'Média Mov.',\n",
       "       'Quant estoque 12/2024', 'Valor estoque 12/2024',\n",
       "       'Nº entradas de estoque', 'Quant total de consumo',\n",
       "       'Quant saída do estoque', 'Atendimentos 01/2025',\n",
       "       'Recebimentos 01/2025', 'Quant estoque 22/01/2025',\n",
       "       'Valor estoque 22/01/2025', 'Não faturado', 'Saldo Disponível',\n",
       "       'BKO 01/2024', 'BKO 02/2024', 'BKO 03/2024', 'BKO 04/2024',\n",
       "       'BKO 05/2024', 'BKO 06/2024', 'BKO 07/2024', 'BKO 08/2024',\n",
       "       'BKO 09/2024', 'BKO 10/2024', 'BKO 11/2024', 'BKO 12/2024',\n",
       "       'BKO 01/2025 ~', 'Backorder total', 'P.O. 01/2025', 'P.O. 02/2025',\n",
       "       'P.O. 03/2025', 'P.O. 04/2025', 'P.O. 05/2025', 'P.O. 06/2025'],\n",
       "      dtype='object')"
      ]
     },
     "execution_count": 80,
     "metadata": {},
     "output_type": "execute_result"
    }
   ],
   "source": [
    "ztsd017_data.columns"
   ]
  },
  {
   "cell_type": "code",
   "execution_count": 81,
   "metadata": {},
   "outputs": [],
   "source": [
    "estoque_coluna_indice = 52\n",
    "\n",
    "coluna_estoque = ztsd017_data.iloc[:, estoque_coluna_indice]\n",
    "\n",
    "def buscar_estoque(material, df_estoque, estoque_coluna_indice):\n",
    "    if material in df_estoque['Material'].values:\n",
    "        return df_estoque.loc[df_estoque['Material'] == material].iloc[0, estoque_coluna_indice]\n",
    "    return 0"
   ]
  },
  {
   "cell_type": "code",
   "execution_count": 82,
   "metadata": {},
   "outputs": [],
   "source": [
    "def buscar_estoque_similar(row, df_estoque, estoque_coluna_indice):\n",
    "    materiais = ['Material', 'Atual', 'Similar1', 'Similar2', 'Similar3', 'Similar4']\n",
    "    \n",
    "    for material_col in materiais:\n",
    "        if material_col in row.index and pd.notna(row[material_col]):\n",
    "            estoque = buscar_estoque(row[material_col], df_estoque, estoque_coluna_indice)\n",
    "            if estoque > 0:\n",
    "                return estoque \n",
    "    return 0  "
   ]
  },
  {
   "cell_type": "code",
   "execution_count": 83,
   "metadata": {},
   "outputs": [
    {
     "data": {
      "text/html": [
       "<div>\n",
       "<style scoped>\n",
       "    .dataframe tbody tr th:only-of-type {\n",
       "        vertical-align: middle;\n",
       "    }\n",
       "\n",
       "    .dataframe tbody tr th {\n",
       "        vertical-align: top;\n",
       "    }\n",
       "\n",
       "    .dataframe thead th {\n",
       "        text-align: right;\n",
       "    }\n",
       "</style>\n",
       "<table border=\"1\" class=\"dataframe\">\n",
       "  <thead>\n",
       "    <tr style=\"text-align: right;\">\n",
       "      <th></th>\n",
       "      <th>Material</th>\n",
       "      <th>CE03_zva70</th>\n",
       "      <th>CE04_zva70</th>\n",
       "      <th>CE05_zva70</th>\n",
       "      <th>CE10_zva70</th>\n",
       "      <th>CE11_zva70</th>\n",
       "      <th>CE13_zva70</th>\n",
       "      <th>Denominação</th>\n",
       "      <th>Criado por</th>\n",
       "      <th>Canal</th>\n",
       "      <th>...</th>\n",
       "      <th>Unnamed: 9</th>\n",
       "      <th>Unnamed: 10</th>\n",
       "      <th>Unnamed: 11</th>\n",
       "      <th>Unnamed: 12</th>\n",
       "      <th>Unnamed: 13</th>\n",
       "      <th>Unnamed: 14</th>\n",
       "      <th>Unnamed: 15</th>\n",
       "      <th>Unnamed: 16</th>\n",
       "      <th>Unnamed: 17</th>\n",
       "      <th>Quant estoque</th>\n",
       "    </tr>\n",
       "  </thead>\n",
       "  <tbody>\n",
       "    <tr>\n",
       "      <th>0</th>\n",
       "      <td>08AA77360</td>\n",
       "      <td>4</td>\n",
       "      <td>0</td>\n",
       "      <td>0</td>\n",
       "      <td>0</td>\n",
       "      <td>0</td>\n",
       "      <td>0</td>\n",
       "      <td>ENGRENAGEM</td>\n",
       "      <td>BRENDA DANTAS SOUZA</td>\n",
       "      <td>NaN</td>\n",
       "      <td>...</td>\n",
       "      <td>0</td>\n",
       "      <td>0</td>\n",
       "      <td>0</td>\n",
       "      <td>0</td>\n",
       "      <td>0</td>\n",
       "      <td>0</td>\n",
       "      <td>0</td>\n",
       "      <td>0</td>\n",
       "      <td>0</td>\n",
       "      <td>0.0</td>\n",
       "    </tr>\n",
       "    <tr>\n",
       "      <th>1</th>\n",
       "      <td>20AL48470G</td>\n",
       "      <td>2</td>\n",
       "      <td>0</td>\n",
       "      <td>0</td>\n",
       "      <td>0</td>\n",
       "      <td>0</td>\n",
       "      <td>0</td>\n",
       "      <td>BOTÃO</td>\n",
       "      <td>BRENDA DANTAS SOUZA</td>\n",
       "      <td>NaN</td>\n",
       "      <td>...</td>\n",
       "      <td>56UA70760</td>\n",
       "      <td>1</td>\n",
       "      <td>56UA70760</td>\n",
       "      <td>-</td>\n",
       "      <td>-</td>\n",
       "      <td>-</td>\n",
       "      <td>-</td>\n",
       "      <td>0</td>\n",
       "      <td>1</td>\n",
       "      <td>89.0</td>\n",
       "    </tr>\n",
       "    <tr>\n",
       "      <th>2</th>\n",
       "      <td>25AAR70300</td>\n",
       "      <td>0</td>\n",
       "      <td>0</td>\n",
       "      <td>0</td>\n",
       "      <td>0</td>\n",
       "      <td>3</td>\n",
       "      <td>0</td>\n",
       "      <td>FIO</td>\n",
       "      <td>JESSIE OLIVEIRA SILVA</td>\n",
       "      <td>VENDA DIRETA</td>\n",
       "      <td>...</td>\n",
       "      <td>65AA47600E</td>\n",
       "      <td>1</td>\n",
       "      <td>65AA47600E</td>\n",
       "      <td>65AA47600</td>\n",
       "      <td>-</td>\n",
       "      <td>-</td>\n",
       "      <td>-</td>\n",
       "      <td>0</td>\n",
       "      <td>1</td>\n",
       "      <td>0.0</td>\n",
       "    </tr>\n",
       "    <tr>\n",
       "      <th>3</th>\n",
       "      <td>26NA32870</td>\n",
       "      <td>0</td>\n",
       "      <td>0</td>\n",
       "      <td>1</td>\n",
       "      <td>0</td>\n",
       "      <td>0</td>\n",
       "      <td>0</td>\n",
       "      <td>MOLA DE PRESSÃO 2</td>\n",
       "      <td>BRENDA DANTAS SOUZA</td>\n",
       "      <td>VENDA DIRETA</td>\n",
       "      <td>...</td>\n",
       "      <td>A0GD600800</td>\n",
       "      <td>1</td>\n",
       "      <td>A0GD600800</td>\n",
       "      <td>-</td>\n",
       "      <td>-</td>\n",
       "      <td>-</td>\n",
       "      <td>-</td>\n",
       "      <td>0</td>\n",
       "      <td>1</td>\n",
       "      <td>0.0</td>\n",
       "    </tr>\n",
       "    <tr>\n",
       "      <th>4</th>\n",
       "      <td>4030300501</td>\n",
       "      <td>0</td>\n",
       "      <td>0</td>\n",
       "      <td>0</td>\n",
       "      <td>0</td>\n",
       "      <td>3</td>\n",
       "      <td>0</td>\n",
       "      <td>ROLO</td>\n",
       "      <td>ROBERTA MACHADO</td>\n",
       "      <td>VENDA INDIRETA</td>\n",
       "      <td>...</td>\n",
       "      <td>0</td>\n",
       "      <td>0</td>\n",
       "      <td>0</td>\n",
       "      <td>0</td>\n",
       "      <td>0</td>\n",
       "      <td>0</td>\n",
       "      <td>0</td>\n",
       "      <td>0</td>\n",
       "      <td>0</td>\n",
       "      <td>0.0</td>\n",
       "    </tr>\n",
       "    <tr>\n",
       "      <th>...</th>\n",
       "      <td>...</td>\n",
       "      <td>...</td>\n",
       "      <td>...</td>\n",
       "      <td>...</td>\n",
       "      <td>...</td>\n",
       "      <td>...</td>\n",
       "      <td>...</td>\n",
       "      <td>...</td>\n",
       "      <td>...</td>\n",
       "      <td>...</td>\n",
       "      <td>...</td>\n",
       "      <td>...</td>\n",
       "      <td>...</td>\n",
       "      <td>...</td>\n",
       "      <td>...</td>\n",
       "      <td>...</td>\n",
       "      <td>...</td>\n",
       "      <td>...</td>\n",
       "      <td>...</td>\n",
       "      <td>...</td>\n",
       "      <td>...</td>\n",
       "    </tr>\n",
       "    <tr>\n",
       "      <th>139</th>\n",
       "      <td>LY5606001</td>\n",
       "      <td>0</td>\n",
       "      <td>0</td>\n",
       "      <td>0</td>\n",
       "      <td>0</td>\n",
       "      <td>1</td>\n",
       "      <td>0</td>\n",
       "      <td>UNID FIXAÇÃO MOD HL5470DW/5472/8712/6182</td>\n",
       "      <td>MARIANA NUNES DA SILVA</td>\n",
       "      <td>VENDA DIRETA</td>\n",
       "      <td>...</td>\n",
       "      <td>0</td>\n",
       "      <td>0</td>\n",
       "      <td>0</td>\n",
       "      <td>0</td>\n",
       "      <td>0</td>\n",
       "      <td>0</td>\n",
       "      <td>0</td>\n",
       "      <td>0</td>\n",
       "      <td>0</td>\n",
       "      <td>0.0</td>\n",
       "    </tr>\n",
       "    <tr>\n",
       "      <th>140</th>\n",
       "      <td>V500010073</td>\n",
       "      <td>0</td>\n",
       "      <td>0</td>\n",
       "      <td>0</td>\n",
       "      <td>0</td>\n",
       "      <td>14</td>\n",
       "      <td>0</td>\n",
       "      <td>PRESILHA</td>\n",
       "      <td>REGILENE DE CASSIA LUIZ OLIVEIRA/REGILENE DE C...</td>\n",
       "      <td>VENDA DIRETA/VENDA DIRETA/VENDA DIRETA</td>\n",
       "      <td>...</td>\n",
       "      <td>0</td>\n",
       "      <td>0</td>\n",
       "      <td>0</td>\n",
       "      <td>0</td>\n",
       "      <td>0</td>\n",
       "      <td>0</td>\n",
       "      <td>0</td>\n",
       "      <td>0</td>\n",
       "      <td>0</td>\n",
       "      <td>0.0</td>\n",
       "    </tr>\n",
       "    <tr>\n",
       "      <th>141</th>\n",
       "      <td>V500010081</td>\n",
       "      <td>0</td>\n",
       "      <td>3</td>\n",
       "      <td>0</td>\n",
       "      <td>0</td>\n",
       "      <td>0</td>\n",
       "      <td>0</td>\n",
       "      <td>PRESILHA</td>\n",
       "      <td>JULIA MARIA MORETO DA SILVA</td>\n",
       "      <td>VENDA DIRETA</td>\n",
       "      <td>...</td>\n",
       "      <td>0</td>\n",
       "      <td>0</td>\n",
       "      <td>0</td>\n",
       "      <td>0</td>\n",
       "      <td>0</td>\n",
       "      <td>0</td>\n",
       "      <td>0</td>\n",
       "      <td>0</td>\n",
       "      <td>0</td>\n",
       "      <td>0.0</td>\n",
       "    </tr>\n",
       "    <tr>\n",
       "      <th>142</th>\n",
       "      <td>V500020030</td>\n",
       "      <td>0</td>\n",
       "      <td>0</td>\n",
       "      <td>0</td>\n",
       "      <td>0</td>\n",
       "      <td>14</td>\n",
       "      <td>0</td>\n",
       "      <td>GARRA</td>\n",
       "      <td>REGILENE DE CASSIA LUIZ OLIVEIRA/REGILENE DE C...</td>\n",
       "      <td>VENDA DIRETA/VENDA DIRETA/VENDA DIRETA</td>\n",
       "      <td>...</td>\n",
       "      <td>0</td>\n",
       "      <td>0</td>\n",
       "      <td>0</td>\n",
       "      <td>0</td>\n",
       "      <td>0</td>\n",
       "      <td>0</td>\n",
       "      <td>0</td>\n",
       "      <td>0</td>\n",
       "      <td>0</td>\n",
       "      <td>0.0</td>\n",
       "    </tr>\n",
       "    <tr>\n",
       "      <th>143</th>\n",
       "      <td>V570010057</td>\n",
       "      <td>0</td>\n",
       "      <td>0</td>\n",
       "      <td>0</td>\n",
       "      <td>0</td>\n",
       "      <td>9</td>\n",
       "      <td>0</td>\n",
       "      <td>WING EDGE SADDLE</td>\n",
       "      <td>REGILENE DE CASSIA LUIZ OLIVEIRA/REGILENE DE C...</td>\n",
       "      <td>VENDA DIRETA/VENDA DIRETA</td>\n",
       "      <td>...</td>\n",
       "      <td>0</td>\n",
       "      <td>0</td>\n",
       "      <td>0</td>\n",
       "      <td>0</td>\n",
       "      <td>0</td>\n",
       "      <td>0</td>\n",
       "      <td>0</td>\n",
       "      <td>0</td>\n",
       "      <td>0</td>\n",
       "      <td>0.0</td>\n",
       "    </tr>\n",
       "  </tbody>\n",
       "</table>\n",
       "<p>144 rows × 57 columns</p>\n",
       "</div>"
      ],
      "text/plain": [
       "       Material  CE03_zva70  CE04_zva70  CE05_zva70  CE10_zva70  CE11_zva70  \\\n",
       "0     08AA77360           4           0           0           0           0   \n",
       "1    20AL48470G           2           0           0           0           0   \n",
       "2    25AAR70300           0           0           0           0           3   \n",
       "3     26NA32870           0           0           1           0           0   \n",
       "4    4030300501           0           0           0           0           3   \n",
       "..          ...         ...         ...         ...         ...         ...   \n",
       "139   LY5606001           0           0           0           0           1   \n",
       "140  V500010073           0           0           0           0          14   \n",
       "141  V500010081           0           3           0           0           0   \n",
       "142  V500020030           0           0           0           0          14   \n",
       "143  V570010057           0           0           0           0           9   \n",
       "\n",
       "     CE13_zva70                               Denominação  \\\n",
       "0             0                                ENGRENAGEM   \n",
       "1             0                                     BOTÃO   \n",
       "2             0                                       FIO   \n",
       "3             0                         MOLA DE PRESSÃO 2   \n",
       "4             0                                      ROLO   \n",
       "..          ...                                       ...   \n",
       "139           0  UNID FIXAÇÃO MOD HL5470DW/5472/8712/6182   \n",
       "140           0                                  PRESILHA   \n",
       "141           0                                  PRESILHA   \n",
       "142           0                                     GARRA   \n",
       "143           0                          WING EDGE SADDLE   \n",
       "\n",
       "                                            Criado por  \\\n",
       "0                                  BRENDA DANTAS SOUZA   \n",
       "1                                  BRENDA DANTAS SOUZA   \n",
       "2                                JESSIE OLIVEIRA SILVA   \n",
       "3                                  BRENDA DANTAS SOUZA   \n",
       "4                                      ROBERTA MACHADO   \n",
       "..                                                 ...   \n",
       "139                             MARIANA NUNES DA SILVA   \n",
       "140  REGILENE DE CASSIA LUIZ OLIVEIRA/REGILENE DE C...   \n",
       "141                        JULIA MARIA MORETO DA SILVA   \n",
       "142  REGILENE DE CASSIA LUIZ OLIVEIRA/REGILENE DE C...   \n",
       "143  REGILENE DE CASSIA LUIZ OLIVEIRA/REGILENE DE C...   \n",
       "\n",
       "                                      Canal  ...  Unnamed: 9  Unnamed: 10  \\\n",
       "0                                       NaN  ...           0            0   \n",
       "1                                       NaN  ...   56UA70760            1   \n",
       "2                              VENDA DIRETA  ...  65AA47600E            1   \n",
       "3                              VENDA DIRETA  ...  A0GD600800            1   \n",
       "4                            VENDA INDIRETA  ...           0            0   \n",
       "..                                      ...  ...         ...          ...   \n",
       "139                            VENDA DIRETA  ...           0            0   \n",
       "140  VENDA DIRETA/VENDA DIRETA/VENDA DIRETA  ...           0            0   \n",
       "141                            VENDA DIRETA  ...           0            0   \n",
       "142  VENDA DIRETA/VENDA DIRETA/VENDA DIRETA  ...           0            0   \n",
       "143               VENDA DIRETA/VENDA DIRETA  ...           0            0   \n",
       "\n",
       "     Unnamed: 11  Unnamed: 12  Unnamed: 13  Unnamed: 14  Unnamed: 15  \\\n",
       "0              0            0            0            0            0   \n",
       "1      56UA70760            -            -            -            -   \n",
       "2     65AA47600E    65AA47600            -            -            -   \n",
       "3     A0GD600800            -            -            -            -   \n",
       "4              0            0            0            0            0   \n",
       "..           ...          ...          ...          ...          ...   \n",
       "139            0            0            0            0            0   \n",
       "140            0            0            0            0            0   \n",
       "141            0            0            0            0            0   \n",
       "142            0            0            0            0            0   \n",
       "143            0            0            0            0            0   \n",
       "\n",
       "     Unnamed: 16  Unnamed: 17  Quant estoque  \n",
       "0              0            0            0.0  \n",
       "1              0            1           89.0  \n",
       "2              0            1            0.0  \n",
       "3              0            1            0.0  \n",
       "4              0            0            0.0  \n",
       "..           ...          ...            ...  \n",
       "139            0            0            0.0  \n",
       "140            0            0            0.0  \n",
       "141            0            0            0.0  \n",
       "142            0            0            0.0  \n",
       "143            0            0            0.0  \n",
       "\n",
       "[144 rows x 57 columns]"
      ]
     },
     "execution_count": 83,
     "metadata": {},
     "output_type": "execute_result"
    }
   ],
   "source": [
    "merged_table_6['Quant estoque'] = merged_table_6.apply(\n",
    "    lambda row: buscar_estoque_similar(row, ztsd017_data, estoque_coluna_indice), axis=1\n",
    ")\n",
    "\n",
    "merged_table_6"
   ]
  },
  {
   "cell_type": "code",
   "execution_count": 84,
   "metadata": {},
   "outputs": [],
   "source": [
    "\n",
    "caminho_saida = r'C:\\Users\\fsp_adolpho.salvador\\Desktop\\Konica Minolta\\Desktop Cloud - Documentos\\Desktop\\Py\\Pendencias\\Arquivos\\Mapa2.xlsx'\n",
    "\n",
    "merged_table_6.to_excel(caminho_saida, index=True)"
   ]
  },
  {
   "cell_type": "code",
   "execution_count": null,
   "metadata": {},
   "outputs": [],
   "source": []
  }
 ],
 "metadata": {
  "colab": {
   "collapsed_sections": [
    "YybzIMWxlALi",
    "O1WlUUCLlErb",
    "1Koc5JwAlIsj",
    "0XgTbAT2JGgy",
    "NVf1Tr1JJKSB"
   ],
   "provenance": []
  },
  "kernelspec": {
   "display_name": "Python 3",
   "name": "python3"
  },
  "language_info": {
   "codemirror_mode": {
    "name": "ipython",
    "version": 3
   },
   "file_extension": ".py",
   "mimetype": "text/x-python",
   "name": "python",
   "nbconvert_exporter": "python",
   "pygments_lexer": "ipython3",
   "version": "3.12.3"
  }
 },
 "nbformat": 4,
 "nbformat_minor": 0
}
