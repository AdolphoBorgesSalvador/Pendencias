{
 "cells": [
  {
   "cell_type": "markdown",
   "metadata": {},
   "source": [
    "# Code"
   ]
  },
  {
   "cell_type": "markdown",
   "metadata": {},
   "source": [
    "## Set"
   ]
  },
  {
   "cell_type": "code",
   "execution_count": 1,
   "metadata": {
    "id": "TocGuzNwlVlT"
   },
   "outputs": [],
   "source": [
    "import pandas as pd"
   ]
  },
  {
   "cell_type": "code",
   "execution_count": 2,
   "metadata": {
    "id": "Bow97gC5gJK3"
   },
   "outputs": [],
   "source": [
    "caminho_pend = r'C:\\Users\\fsp_adolpho.salvador\\Desktop\\Konica Minolta\\Desktop Cloud - Documentos\\Desktop\\Py\\Pendencias\\Arquivos\\PEND.XLSX'\n",
    "caminho_pend_geral = r'C:\\Users\\fsp_adolpho.salvador\\Desktop\\Konica Minolta\\Desktop Cloud - Documentos\\Desktop\\Py\\Pendencias\\Arquivos\\pend geral.XLSX'\n",
    "caminho_zstok = r'C:\\Users\\fsp_adolpho.salvador\\Desktop\\Konica Minolta\\Desktop Cloud - Documentos\\Desktop\\Py\\Pendencias\\Arquivos\\zstok.XLSX'\n",
    "caminho_fup = r'C:\\Users\\fsp_adolpho.salvador\\Desktop\\Konica Minolta\\Desktop Cloud - Documentos\\Desktop\\Py\\Pendencias\\Arquivos\\fup.XLSX'\n",
    "caminho_fob = r'C:\\Users\\fsp_adolpho.salvador\\Desktop\\Konica Minolta\\Desktop Cloud - Documentos\\Desktop\\Py\\Pendencias\\Arquivos\\ZTMM069.XLSX'\n",
    "caminho_pecas = r'C:\\Users\\fsp_adolpho.salvador\\Desktop\\Konica Minolta\\Desktop Cloud - Documentos\\Desktop\\Py\\Pendencias\\Arquivos\\ZTMM085.XLSX'\n",
    "caminho_atuais = r'C:\\Users\\fsp_adolpho.salvador\\Desktop\\Konica Minolta\\Desktop Cloud - Documentos\\Desktop\\Py\\Pendencias\\Arquivos\\atuais.xlsx'\n",
    "caminho_classificacao =r'C:\\Users\\fsp_adolpho.salvador\\Desktop\\Konica Minolta\\Desktop Cloud - Documentos\\Desktop\\Py\\Pendencias\\Arquivos\\Classificação das Peças.xlsx'"
   ]
  },
  {
   "cell_type": "markdown",
   "metadata": {
    "id": "YybzIMWxlALi"
   },
   "source": [
    "## Pendências"
   ]
  },
  {
   "cell_type": "code",
   "execution_count": 87,
   "metadata": {
    "id": "PufxUea3lZXr"
   },
   "outputs": [],
   "source": [
    "pendencias = pd.read_excel(caminho_pend)"
   ]
  },
  {
   "cell_type": "code",
   "execution_count": 88,
   "metadata": {
    "colab": {
     "base_uri": "https://localhost:8080/"
    },
    "id": "mV-INAiSmEyU",
    "outputId": "5e4e28da-0cd9-4a18-f3d7-3c702a8d1dae"
   },
   "outputs": [
    {
     "data": {
      "text/plain": [
       "Index([' ', 'Cliente', 'Doc.vendas', 'Criado em', 'Item', 'Material',\n",
       "       'Denominação', 'Tipo material', 'Centro', 'Quantidade da ordem',\n",
       "       'Qtd.confirm.acumul.', 'Qtd.pendente', 'Unidade venda',\n",
       "       'Data de remessa', 'Criado por', 'Canal', 'Classificação'],\n",
       "      dtype='object')"
      ]
     },
     "execution_count": 88,
     "metadata": {},
     "output_type": "execute_result"
    }
   ],
   "source": [
    "pendencias.columns\n"
   ]
  },
  {
   "cell_type": "code",
   "execution_count": 89,
   "metadata": {
    "colab": {
     "base_uri": "https://localhost:8080/"
    },
    "id": "MeT87jF5qTOq",
    "outputId": "b79fb7db-8211-41ce-9687-0333a4c8814c"
   },
   "outputs": [
    {
     "name": "stdout",
     "output_type": "stream",
     "text": [
      "                         Criado por           Canal\n",
      "0         RODRIGO PEREIRA DOS ANJOS             NaN\n",
      "1    JOÃO PAULO CLEMENTE DOS SANTOS             NaN\n",
      "2                 ITALO LIMA NOVAES             NaN\n",
      "3                         ANA PAULA  VENDA INDIRETA\n",
      "4                         ANA PAULA  VENDA INDIRETA\n",
      "..                              ...             ...\n",
      "134                       ANA PAULA  VENDA INDIRETA\n",
      "135               ITALO LIMA NOVAES             NaN\n",
      "136       RODRIGO PEREIRA DOS ANJOS             NaN\n",
      "137       RODRIGO PEREIRA DOS ANJOS             NaN\n",
      "138                  VANESSA ARAUJO    VENDA DIRETA\n",
      "\n",
      "[139 rows x 2 columns]\n"
     ]
    }
   ],
   "source": [
    "# Substitua a lista pelos nomes das colunas que você deseja visualizar\n",
    "colunas_selecionadas = pendencias[[ 'Criado por',\"Canal\"]]\n",
    "\n",
    "# Exibir as colunas selecionadas\n",
    "print(colunas_selecionadas)\n"
   ]
  },
  {
   "cell_type": "code",
   "execution_count": 90,
   "metadata": {
    "colab": {
     "base_uri": "https://localhost:8080/"
    },
    "id": "rhz6J-PsmXZP",
    "outputId": "310afde0-923c-44ec-c93b-054718245d52"
   },
   "outputs": [
    {
     "name": "stdout",
     "output_type": "stream",
     "text": [
      "O número de linhas em merged_table é: 139\n"
     ]
    }
   ],
   "source": [
    "num_linhas = pendencias.shape[0]\n",
    "\n",
    "# Exibir o número de linhas\n",
    "print(f'O número de linhas em merged_table é: {num_linhas}')\n",
    "\n"
   ]
  },
  {
   "cell_type": "code",
   "execution_count": 91,
   "metadata": {
    "colab": {
     "base_uri": "https://localhost:8080/"
    },
    "id": "y6pzFUwumNdt",
    "outputId": "2d345a72-63c3-4610-827d-ce219e571a66"
   },
   "outputs": [
    {
     "name": "stdout",
     "output_type": "stream",
     "text": [
      "Centro      CE04_zva70  CE05_zva70  CE11_zva70  CE13_zva70\n",
      "Material                                                  \n",
      "00VD1000             0           0           1           0\n",
      "113620270            0           0           4           0\n",
      "25AA42570            2           0           0           0\n",
      "500030320            0           0           3           0\n",
      "55VA32480            0           0           1           0\n",
      "...                ...         ...         ...         ...\n",
      "ACMEM15100           0           0           1           0\n",
      "D000BE001            0           0           1           0\n",
      "SP00-0043            0           0           1           0\n",
      "V217060003           0           0           3           0\n",
      "V217100050           0           0           3           0\n",
      "\n",
      "[125 rows x 4 columns]\n"
     ]
    }
   ],
   "source": [
    "import pandas as pd\n",
    "\n",
    "# Se você já não tiver feito isso, crie a tabela dinâmica como mostrado no código fornecido\n",
    "tabela_dinamica_pend = pd.pivot_table(pendencias, values='Qtd.pendente', index='Material', columns='Centro', aggfunc='sum', fill_value=0)\n",
    "tabela_dinamica_pend = tabela_dinamica_pend.add_suffix('_zva70')\n",
    "\n",
    "# Exibir a tabela dinâmica com as colunas adicionadas\n",
    "print(tabela_dinamica_pend)\n",
    "\n"
   ]
  },
  {
   "cell_type": "code",
   "execution_count": 92,
   "metadata": {
    "colab": {
     "base_uri": "https://localhost:8080/"
    },
    "id": "xu2h5mTo5C2k",
    "outputId": "34a5239c-fda2-4cec-c508-a6a8e7fe12e9"
   },
   "outputs": [
    {
     "name": "stdout",
     "output_type": "stream",
     "text": [
      "                                     Denominação\n",
      "Material                                        \n",
      "00VD1000                                  ESCOVA\n",
      "113620270                           RODA DENTADA\n",
      "25AA42570                          POLIA DO CABO\n",
      "500030320                                   ROLO\n",
      "55VA32480                        FECHO MAGNÉTICO\n",
      "...                                          ...\n",
      "ACMEM15100                                 MOTOR\n",
      "D000BE001   VENTILADOR PRINCIPAL BROTHER HLL6402\n",
      "SP00-0043                           TERMOSTATO 3\n",
      "V217060003                                E ring\n",
      "V217100050                                E ring\n",
      "\n",
      "[125 rows x 1 columns]\n"
     ]
    }
   ],
   "source": [
    "tabela_dinamica_pend2 = pd.pivot_table(pendencias, values='Denominação', index='Material', aggfunc='first', fill_value=0)\n",
    "\n",
    "print(tabela_dinamica_pend2)"
   ]
  },
  {
   "cell_type": "code",
   "execution_count": 93,
   "metadata": {
    "colab": {
     "base_uri": "https://localhost:8080/"
    },
    "id": "f8VigsvV56_B",
    "outputId": "6a55d80c-4884-4b0f-a44b-e3e5b45360b4"
   },
   "outputs": [
    {
     "name": "stdout",
     "output_type": "stream",
     "text": [
      "                                  Criado por\n",
      "Material                                    \n",
      "00VD1000           RODRIGO PEREIRA DOS ANJOS\n",
      "113620270   REGILENE DE CASSIA LUIZ OLIVEIRA\n",
      "25AA42570                          ANA PAULA\n",
      "500030320               THAYS JESUS DE SOUZA\n",
      "55VA32480          RODRIGO PEREIRA DOS ANJOS\n",
      "...                                      ...\n",
      "ACMEM15100         RODRIGO PEREIRA DOS ANJOS\n",
      "D000BE001          RODRIGO PEREIRA DOS ANJOS\n",
      "SP00-0043   REGILENE DE CASSIA LUIZ OLIVEIRA\n",
      "V217060003  REGILENE DE CASSIA LUIZ OLIVEIRA\n",
      "V217100050  REGILENE DE CASSIA LUIZ OLIVEIRA\n",
      "\n",
      "[125 rows x 1 columns]\n",
      "                     Canal\n",
      "Material                  \n",
      "00VD1000               nan\n",
      "113620270     VENDA DIRETA\n",
      "25AA42570   VENDA INDIRETA\n",
      "500030320     VENDA DIRETA\n",
      "55VA32480              nan\n",
      "...                    ...\n",
      "ACMEM15100             nan\n",
      "D000BE001     VENDA DIRETA\n",
      "SP00-0043     VENDA DIRETA\n",
      "V217060003             nan\n",
      "V217100050             nan\n",
      "\n",
      "[125 rows x 1 columns]\n"
     ]
    }
   ],
   "source": [
    "tabela_dinamica_pend3 = pd.pivot_table(pendencias, values='Criado por', index='Material', aggfunc=lambda x: '/'.join(x), fill_value='')\n",
    "tabela_dinamica_pend4 = pd.pivot_table(pendencias, values='Canal', index='Material', aggfunc=lambda x: '/'.join(str(v) for v in x), fill_value='')\n",
    "\n",
    "print(tabela_dinamica_pend3)\n",
    "print(tabela_dinamica_pend4)"
   ]
  },
  {
   "cell_type": "code",
   "execution_count": 94,
   "metadata": {
    "colab": {
     "base_uri": "https://localhost:8080/"
    },
    "id": "Ci8wemth6STh",
    "outputId": "7ff9823c-41db-4015-9075-0858a2011a34"
   },
   "outputs": [
    {
     "name": "stdout",
     "output_type": "stream",
     "text": [
      "            CE04_zva70  CE05_zva70  CE11_zva70  CE13_zva70  \\\n",
      "Material                                                     \n",
      "00VD1000             0           0           1           0   \n",
      "113620270            0           0           4           0   \n",
      "25AA42570            2           0           0           0   \n",
      "500030320            0           0           3           0   \n",
      "55VA32480            0           0           1           0   \n",
      "...                ...         ...         ...         ...   \n",
      "ACMEM15100           0           0           1           0   \n",
      "D000BE001            0           0           1           0   \n",
      "SP00-0043            0           0           1           0   \n",
      "V217060003           0           0           3           0   \n",
      "V217100050           0           0           3           0   \n",
      "\n",
      "                                     Denominação  \\\n",
      "Material                                           \n",
      "00VD1000                                  ESCOVA   \n",
      "113620270                           RODA DENTADA   \n",
      "25AA42570                          POLIA DO CABO   \n",
      "500030320                                   ROLO   \n",
      "55VA32480                        FECHO MAGNÉTICO   \n",
      "...                                          ...   \n",
      "ACMEM15100                                 MOTOR   \n",
      "D000BE001   VENTILADOR PRINCIPAL BROTHER HLL6402   \n",
      "SP00-0043                           TERMOSTATO 3   \n",
      "V217060003                                E ring   \n",
      "V217100050                                E ring   \n",
      "\n",
      "                                  Criado por           Canal  \n",
      "Material                                                      \n",
      "00VD1000           RODRIGO PEREIRA DOS ANJOS             nan  \n",
      "113620270   REGILENE DE CASSIA LUIZ OLIVEIRA    VENDA DIRETA  \n",
      "25AA42570                          ANA PAULA  VENDA INDIRETA  \n",
      "500030320               THAYS JESUS DE SOUZA    VENDA DIRETA  \n",
      "55VA32480          RODRIGO PEREIRA DOS ANJOS             nan  \n",
      "...                                      ...             ...  \n",
      "ACMEM15100         RODRIGO PEREIRA DOS ANJOS             nan  \n",
      "D000BE001          RODRIGO PEREIRA DOS ANJOS    VENDA DIRETA  \n",
      "SP00-0043   REGILENE DE CASSIA LUIZ OLIVEIRA    VENDA DIRETA  \n",
      "V217060003  REGILENE DE CASSIA LUIZ OLIVEIRA             nan  \n",
      "V217100050  REGILENE DE CASSIA LUIZ OLIVEIRA             nan  \n",
      "\n",
      "[125 rows x 7 columns]\n"
     ]
    }
   ],
   "source": [
    "# Realizar left join entre as tabelas usando a coluna \"Material\" como chave\n",
    "merged_table_pend = tabela_dinamica_pend.merge(tabela_dinamica_pend2, how='left', left_index=True, right_index=True)\n",
    "merged_table_pend2 = merged_table_pend.merge(tabela_dinamica_pend3, how='left', left_index=True, right_index=True)\n",
    "_table_pend = merged_table_pend2.merge(tabela_dinamica_pend4, how='left', left_index=True, right_index=True)\n",
    "# Preencher valores nulos com zero\n",
    "_table_pend = _table_pend.fillna(0)\n",
    "\n",
    "print(_table_pend)"
   ]
  },
  {
   "cell_type": "markdown",
   "metadata": {
    "id": "O1WlUUCLlErb"
   },
   "source": [
    "## Pendencia geral"
   ]
  },
  {
   "cell_type": "code",
   "execution_count": 95,
   "metadata": {
    "id": "YoDWXIOQneYO"
   },
   "outputs": [],
   "source": [
    "pendencias_geral = pd.read_excel(caminho_pend_geral)"
   ]
  },
  {
   "cell_type": "code",
   "execution_count": 96,
   "metadata": {
    "colab": {
     "base_uri": "https://localhost:8080/"
    },
    "id": "bpySQbrYXNmV",
    "outputId": "f456d55d-360c-4e47-ac6b-622359dca4ef"
   },
   "outputs": [
    {
     "data": {
      "text/plain": [
       "<bound method NDFrame.head of                                  Nome 1  Cliente  Doc.vendas  Criado em  Item  \\\n",
       "0       3EX COM DE PROD. INFORM.LTDA ME     3117      207121 2024-09-12    20   \n",
       "1       3EX COM DE PROD. INFORM.LTDA ME     3117      207287 2024-09-19    50   \n",
       "2       3EX COM DE PROD. INFORM.LTDA ME     3117      207287 2024-09-19   100   \n",
       "3       3EX COM DE PROD. INFORM.LTDA ME     3117      207454 2024-09-25    10   \n",
       "4       3EX COM DE PROD. INFORM.LTDA ME     3117      207454 2024-09-25    20   \n",
       "..                                  ...      ...         ...        ...   ...   \n",
       "561          WBL GRAFICA E EDITORA LTDA    10113    50198853 2024-09-18    10   \n",
       "562          WBL GRAFICA E EDITORA LTDA    10113    50198949 2024-09-19    10   \n",
       "563          WBL GRAFICA E EDITORA LTDA    10113    50199069 2024-09-20    10   \n",
       "564  WITTE COMERCIO E SERVICOS GRAFICOS     2873    50197564 2024-08-27    10   \n",
       "565  WITTE COMERCIO E SERVICOS GRAFICOS     2873    50199218 2024-09-24    10   \n",
       "\n",
       "       Material                     Denominação Tipo material Centro  \\\n",
       "0    A50U520001                            ROLO          PCPS   CE13   \n",
       "1    A1DUR73600                      CHAPA GUIA          PCPS   CE13   \n",
       "2    A50U743200                  ENGRENAGEM 87D          PCPS   CE13   \n",
       "3     65AA26111  ROLO DE TRANSFERÊNCIA INFERIOR          PCPS   CE13   \n",
       "4    A50UR70266            UNIDADE DE REVELAÇÃO          PCPS   CE13   \n",
       "..          ...                             ...           ...    ...   \n",
       "561  A92WR71E00         Fusing Front Guide Assy          PCPS   CE11   \n",
       "562  A1RF501600                           TAMPA          PCPS   CE11   \n",
       "563  A9VP719200                            ROLO          PCPS   CE11   \n",
       "564  A4EU400800                          TRILHO          PCPS   CE11   \n",
       "565  A9VPR70311                          CORONA          PCPS   CE11   \n",
       "\n",
       "     Quantidade da ordem  Qtd.confirm.acumul.  Qtd.pendente Unidade venda  \\\n",
       "0                      1                    0             1            PÇ   \n",
       "1                      1                    0             1            PÇ   \n",
       "2                      2                    0             2            PÇ   \n",
       "3                      1                    0             1            PÇ   \n",
       "4                      1                    0             1            PÇ   \n",
       "..                   ...                  ...           ...           ...   \n",
       "561                    1                    0             1            PÇ   \n",
       "562                    1                    0             1            PÇ   \n",
       "563                    2                    0             2            PÇ   \n",
       "564                    1                    0             1            PÇ   \n",
       "565                    4                    0             4            PÇ   \n",
       "\n",
       "    Data de remessa                            Criado por           Canal  \\\n",
       "0        2024-12-11                             ANA PAULA  VENDA INDIRETA   \n",
       "1        2024-12-18             MARIANA PEREIRA DOS ANJOS  VENDA INDIRETA   \n",
       "2        2024-12-18             MARIANA PEREIRA DOS ANJOS  VENDA INDIRETA   \n",
       "3        2024-12-24             MARIANA PEREIRA DOS ANJOS  VENDA INDIRETA   \n",
       "4        2024-12-24             MARIANA PEREIRA DOS ANJOS  VENDA INDIRETA   \n",
       "..              ...                                   ...             ...   \n",
       "561      2024-12-17  MILENA PIMENTEL MONTEIRO DE OLIVEIRA             NaN   \n",
       "562      2024-12-18  MILENA PIMENTEL MONTEIRO DE OLIVEIRA             NaN   \n",
       "563      2024-12-19  MILENA PIMENTEL MONTEIRO DE OLIVEIRA             NaN   \n",
       "564      2024-11-25             RODRIGO PEREIRA DOS ANJOS    VENDA DIRETA   \n",
       "565      2024-12-23                     ITALO LIMA NOVAES    VENDA DIRETA   \n",
       "\n",
       "    Classificação  \n",
       "0          REV VI  \n",
       "1          REV VI  \n",
       "2          REV VI  \n",
       "3          REV VI  \n",
       "4          REV VI  \n",
       "..            ...  \n",
       "561    CLIENTE SP  \n",
       "562    CLIENTE SP  \n",
       "563    CLIENTE SP  \n",
       "564    CLIENTE SP  \n",
       "565    CLIENTE SP  \n",
       "\n",
       "[566 rows x 17 columns]>"
      ]
     },
     "execution_count": 96,
     "metadata": {},
     "output_type": "execute_result"
    }
   ],
   "source": [
    "pendencias_geral.head"
   ]
  },
  {
   "cell_type": "code",
   "execution_count": 97,
   "metadata": {
    "colab": {
     "base_uri": "https://localhost:8080/"
    },
    "id": "tUlLUsv_nt9O",
    "outputId": "ba253d33-cd8f-49c5-d91d-89298c47b9e6"
   },
   "outputs": [
    {
     "data": {
      "text/plain": [
       "Index(['Nome 1', 'Cliente', 'Doc.vendas', 'Criado em', 'Item', 'Material',\n",
       "       'Denominação', 'Tipo material', 'Centro', 'Quantidade da ordem',\n",
       "       'Qtd.confirm.acumul.', 'Qtd.pendente', 'Unidade venda',\n",
       "       'Data de remessa', 'Criado por', 'Canal', 'Classificação'],\n",
       "      dtype='object')"
      ]
     },
     "execution_count": 97,
     "metadata": {},
     "output_type": "execute_result"
    }
   ],
   "source": [
    "pendencias_geral.columns"
   ]
  },
  {
   "cell_type": "code",
   "execution_count": 98,
   "metadata": {
    "colab": {
     "base_uri": "https://localhost:8080/"
    },
    "id": "RhCXEkBkn-IH",
    "outputId": "f71c9638-eee3-4d8f-a585-c958c53df495"
   },
   "outputs": [
    {
     "name": "stdout",
     "output_type": "stream",
     "text": [
      "            Pendências Gerais\n",
      "Material                     \n",
      "00VC200                     1\n",
      "12EJ41370                   2\n",
      "13GG15111                   1\n",
      "15AG12380                   2\n",
      "15AN55031E                  1\n",
      "...                       ...\n",
      "V217060003                  1\n",
      "V223150004                  1\n",
      "V223170017                  2\n",
      "V234301650                  1\n",
      "V500020030                  6\n",
      "\n",
      "[472 rows x 1 columns]\n"
     ]
    }
   ],
   "source": [
    "\n",
    "tabela_dinamica_pendente = pd.pivot_table(pendencias_geral, values='Qtd.pendente', index='Material', aggfunc='sum', fill_value=0)\n",
    "\n",
    "tabela_dinamica_pendente = tabela_dinamica_pendente.rename(columns={'Qtd.pendente': 'Pendências Gerais'})\n",
    "\n",
    "print(tabela_dinamica_pendente)\n",
    "\n"
   ]
  },
  {
   "cell_type": "markdown",
   "metadata": {
    "id": "1Koc5JwAlIsj"
   },
   "source": [
    "## zstok"
   ]
  },
  {
   "cell_type": "code",
   "execution_count": 99,
   "metadata": {
    "id": "vjBPjqgdp6aB"
   },
   "outputs": [],
   "source": [
    "zstok = pd.read_excel(caminho_zstok)"
   ]
  },
  {
   "cell_type": "code",
   "execution_count": 100,
   "metadata": {
    "colab": {
     "base_uri": "https://localhost:8080/"
    },
    "id": "J9xNs_oIqE63",
    "outputId": "16958948-75a0-46b6-bb08-80f5ffb652f6"
   },
   "outputs": [
    {
     "data": {
      "text/plain": [
       "Index(['Tipo de material', 'Material', 'Descrição', 'UMB', 'Cen.', 'Dep.',\n",
       "       'Pos.dpst.', 'Utiliz.livre', 'Contr.qualid.', 'Transf.dep.',\n",
       "       'Transfer.(centro)', 'Bloqueado', 'Estoque Total', 'Reservado',\n",
       "       'Remessa->Cliente', 'SC', 'Status todos centros', 'SV',\n",
       "       'Status vendas'],\n",
       "      dtype='object')"
      ]
     },
     "execution_count": 100,
     "metadata": {},
     "output_type": "execute_result"
    }
   ],
   "source": [
    "zstok.columns"
   ]
  },
  {
   "cell_type": "code",
   "execution_count": 101,
   "metadata": {
    "colab": {
     "base_uri": "https://localhost:8080/"
    },
    "id": "5oKNJqiQqXW4",
    "outputId": "21a2b91e-4612-448e-e6e9-c1198a880375"
   },
   "outputs": [
    {
     "name": "stdout",
     "output_type": "stream",
     "text": [
      "Cen.        CE01_zstok  CE03_zstok  CE05_zstok  CE07_zstok  CE09_zstok  \\\n",
      "Material                                                                 \n",
      "25AA42570            0           0           0           0           1   \n",
      "55VB83042            0           0           0           5           2   \n",
      "56UA12570            8           0           0           0           1   \n",
      "56UA77260            0           0           0           0           2   \n",
      "56UA78090            4           0           0           0           0   \n",
      "56UAR73900           0           0           0           0           3   \n",
      "65AA26111            0           0           0           2           2   \n",
      "65AA77730            0           0           0           2           0   \n",
      "65AA80112            0           0           0           1           0   \n",
      "9J06M20000           0           0           0           3           2   \n",
      "A00J563600           0           0         723         240           0   \n",
      "A03U720100           0           0           0           1           0   \n",
      "A03U720201           0           0           1           4           0   \n",
      "A03U808201           0           0           0           2           0   \n",
      "A03U861002           0           0           0           1           1   \n",
      "A0G6531401           2           0           0           0           4   \n",
      "A0G6714200           0           0           0           1           1   \n",
      "A0VDR72555           0           0           0           0           0   \n",
      "A161M20101           0           0           0           1           0   \n",
      "A1DU808600           0           0           0           1           1   \n",
      "A1DUR71300           0           0           0           0           0   \n",
      "A1DUR73N00           0           0           0           2           0   \n",
      "A1RF105700           0           0           0           0           1   \n",
      "A21ER70200           0           0           0          16           2   \n",
      "A3PM173301           2           0           0           1           2   \n",
      "A4EUR70200           0           0           0           0           7   \n",
      "A50U760300           0           0           0           0           1   \n",
      "A50U765500           0           0          10           6           4   \n",
      "A50UM50200           0           0           0           2           0   \n",
      "A5AW515900           0           0           0           1           2   \n",
      "A5AW720301           0           0           0           2          10   \n",
      "A5AWR71R11           0           0           0           0           1   \n",
      "A5AWR72300           0           0           0           0           0   \n",
      "A5AWR73011           0           0           0           0           0   \n",
      "A797578100           0           0           0           2           0   \n",
      "A7PU160200           0           0           0           1           0   \n",
      "A7PUM10000           0           0           0           0           0   \n",
      "A7X5740100           0           0           0           0           3   \n",
      "A85CM10100           0           0           0           0           0   \n",
      "A92WR70600           0           0           0           3           0   \n",
      "A92WR70C11           0           0           0           0           0   \n",
      "A92WR71M00           0           0           1           0           0   \n",
      "A9CE722400           0           0           0           0           0   \n",
      "A9CE724100           0           0           0           0           0   \n",
      "A9JTM33001           0           0           0           0           1   \n",
      "A9JTR71200           0           0           1           0           0   \n",
      "A9VE720300           0           0           0           3           2   \n",
      "AA2J578100           0           0           0           0           0   \n",
      "AC0C720300           0           0           0           0           0   \n",
      "AC0C720401           0           0           0           0           0   \n",
      "AC57M50001           0           0           1           0           0   \n",
      "AC57R70111           0           0           0          27          18   \n",
      "SP00-0043            0           0           2           0           3   \n",
      "\n",
      "Cen.        CE11_zstok  CE13_zstok  \n",
      "Material                            \n",
      "25AA42570            2           0  \n",
      "55VB83042            0           0  \n",
      "56UA12570            0           0  \n",
      "56UA77260            0           0  \n",
      "56UA78090            1           0  \n",
      "56UAR73900           0           0  \n",
      "65AA26111            0           0  \n",
      "65AA77730            0           0  \n",
      "65AA80112            0           0  \n",
      "9J06M20000           0           0  \n",
      "A00J563600         164        1678  \n",
      "A03U720100           0           0  \n",
      "A03U720201           1           0  \n",
      "A03U808201           0           0  \n",
      "A03U861002           0           0  \n",
      "A0G6531401           0           0  \n",
      "A0G6714200           4           1  \n",
      "A0VDR72555           0           0  \n",
      "A161M20101           0           0  \n",
      "A1DU808600           0           0  \n",
      "A1DUR71300           0           0  \n",
      "A1DUR73N00           0           0  \n",
      "A1RF105700           0           0  \n",
      "A21ER70200          26           2  \n",
      "A3PM173301           0           0  \n",
      "A4EUR70200           0           0  \n",
      "A50U760300           0           0  \n",
      "A50U765500           9          35  \n",
      "A50UM50200           0           1  \n",
      "A5AW515900           1           0  \n",
      "A5AW720301           0          12  \n",
      "A5AWR71R11           1           0  \n",
      "A5AWR72300           0           0  \n",
      "A5AWR73011           0           0  \n",
      "A797578100           0           0  \n",
      "A7PU160200           0           0  \n",
      "A7PUM10000           0           0  \n",
      "A7X5740100           0           0  \n",
      "A85CM10100           0           0  \n",
      "A92WR70600           1           0  \n",
      "A92WR70C11           5           3  \n",
      "A92WR71M00          32          11  \n",
      "A9CE722400           0           0  \n",
      "A9CE724100           0           0  \n",
      "A9JTM33001           0           0  \n",
      "A9JTR71200           0           1  \n",
      "A9VE720300           2           0  \n",
      "AA2J578100           0           0  \n",
      "AC0C720300           1           0  \n",
      "AC0C720401          10           1  \n",
      "AC57M50001           0           0  \n",
      "AC57R70111           0           0  \n",
      "SP00-0043            0           0  \n"
     ]
    }
   ],
   "source": [
    "# Criar a tabela dinâmica mantendo 'Cen.' como texto\n",
    "tabela_dinamica_zstok = pd.pivot_table(zstok, values='Utiliz.livre', index='Material', columns='Cen.', aggfunc='sum', fill_value=0)\n",
    "\n",
    "tabela_dinamica_zstok = tabela_dinamica_zstok.add_suffix('_zstok')\n",
    "\n",
    "\n",
    "# Exibir a tabela dinâmica\n",
    "print(tabela_dinamica_zstok)"
   ]
  },
  {
   "cell_type": "code",
   "execution_count": 102,
   "metadata": {
    "colab": {
     "base_uri": "https://localhost:8080/"
    },
    "id": "LZin8zUcqj6R",
    "outputId": "1c9badb8-038a-45a2-c3c7-898bb74e63ae"
   },
   "outputs": [
    {
     "name": "stdout",
     "output_type": "stream",
     "text": [
      "            Contr.qualid.\n",
      "Material                 \n",
      "25AA42570               0\n",
      "55VB83042               5\n",
      "56UA12570               4\n",
      "56UA77260               0\n",
      "56UA78090               0\n",
      "56UAR73900              0\n",
      "65AA26111               2\n",
      "65AA77730               0\n",
      "65AA80112               3\n",
      "9J06M20000              1\n",
      "A00J563600           1870\n",
      "A03U720100              0\n",
      "A03U720201              0\n",
      "A03U808201              0\n",
      "A03U861002              1\n",
      "A0G6531401              4\n",
      "A0G6714200              5\n",
      "A0VDR72555              1\n",
      "A161M20101              0\n",
      "A1DU808600              0\n",
      "A1DUR71300              3\n",
      "A1DUR73N00              0\n",
      "A1RF105700              0\n",
      "A21ER70200             10\n",
      "A3PM173301              0\n",
      "A4EUR70200              3\n",
      "A50U760300              0\n",
      "A50U765500             33\n",
      "A50UM50200              0\n",
      "A5AW515900              1\n",
      "A5AW720301             18\n",
      "A5AWR71R11              1\n",
      "A5AWR72300             10\n",
      "A5AWR73011              3\n",
      "A797578100              2\n",
      "A7PU160200              0\n",
      "A7PUM10000              1\n",
      "A7X5740100              2\n",
      "A85CM10100              1\n",
      "A92WR70600              2\n",
      "A92WR70C11              0\n",
      "A92WR71M00             20\n",
      "A9CE722400              5\n",
      "A9CE724100              2\n",
      "A9JTM33001              9\n",
      "A9JTR71200              0\n",
      "A9VE720300              2\n",
      "AA2J578100             18\n",
      "AC0C720300              0\n",
      "AC0C720401              1\n",
      "AC57M50001              0\n",
      "AC57R70111             20\n",
      "SP00-0043               3\n"
     ]
    }
   ],
   "source": [
    "tabela_dinamica_zstok_qualidade = pd.pivot_table(zstok, values='Contr.qualid.', index='Material', aggfunc='sum', fill_value=0)\n",
    "\n",
    "# Exibir a tabela dinâmica\n",
    "print(tabela_dinamica_zstok_qualidade)"
   ]
  },
  {
   "cell_type": "markdown",
   "metadata": {
    "id": "oyZA1kH0lKbC"
   },
   "source": [
    "## fup\n"
   ]
  },
  {
   "cell_type": "code",
   "execution_count": 103,
   "metadata": {
    "id": "X97OK4fSq87_"
   },
   "outputs": [],
   "source": [
    "fup = pd.read_excel(caminho_fup)"
   ]
  },
  {
   "cell_type": "code",
   "execution_count": 104,
   "metadata": {
    "colab": {
     "base_uri": "https://localhost:8080/"
    },
    "id": "mAwSMckrrGZ3",
    "outputId": "31a93d06-cb28-4594-b0c7-9d1e8e28aeeb"
   },
   "outputs": [
    {
     "data": {
      "text/plain": [
       "Index(['Nº Sequência do Embarque', 'Nº do Pedido', 'Data Pedido', 'Centro',\n",
       "       'Depósito', 'Pos.Dep.MM', 'Pos.Dep.WM', 'Cod. Fornecedor',\n",
       "       'Nome Fornecedor', 'Item', 'Saldo Pedido', 'UMP', 'UMP.1', 'UMP.2',\n",
       "       'Material', 'Texto Breve', 'Qtde Pedido', 'Vl. Total Pedido', 'Moeda',\n",
       "       'Data de Remessa', 'Data Estatística', 'Sua Referência',\n",
       "       'Nossa Referência', 'Embarque', 'Meio de Transporte', 'Meio Embarque',\n",
       "       'Nº do Conhecimento', 'Data do BL', 'Data de Chegada', 'Declaração',\n",
       "       'Dt.Registro', 'Dt.Desembaraço', 'Qtde. Desembarcada',\n",
       "       'Referência de Fatura', 'Data da Fatura', 'Valor da Fatura',\n",
       "       'Data Prev.Entrada', 'Dt. Recebimento', 'Recebimento', 'Peso Líquido',\n",
       "       'Un', 'Cód.NCM', 'Fabricante', 'Num.conversão', 'Qtd.Ped.UMB',\n",
       "       'TipoMat', 'Data total'],\n",
       "      dtype='object')"
      ]
     },
     "execution_count": 104,
     "metadata": {},
     "output_type": "execute_result"
    }
   ],
   "source": [
    "fup.columns"
   ]
  },
  {
   "cell_type": "code",
   "execution_count": 105,
   "metadata": {
    "colab": {
     "base_uri": "https://localhost:8080/"
    },
    "id": "ZQLPORuFrZqq",
    "outputId": "cb049f34-4631-4599-cc28-d437693cb6f6"
   },
   "outputs": [
    {
     "name": "stdout",
     "output_type": "stream",
     "text": [
      "Data total  2024-11-05  2024-11-14  2024-11-15  2024-11-20  2024-11-26  \\\n",
      "Material                                                                 \n",
      "55VA76530E           0           0           0           0           0   \n",
      "55VB83042            0           0           7           0           0   \n",
      "56UA77111            0           0           0           0           0   \n",
      "56UA78090            0           0           0           0           0   \n",
      "56UAR73900           0           0           0           0           0   \n",
      "57GA79440            0           0           0           0           0   \n",
      "65AA26111            0           0           2           0           0   \n",
      "65AA27180            0           0           0           0           0   \n",
      "9J06M20000           0           0           0           0           0   \n",
      "A00J563600          88          70         230           0           0   \n",
      "A011946200           0           0           0           0           0   \n",
      "A03U720100           0           0           0           0           0   \n",
      "A03U720201           0           0           1           0           0   \n",
      "A0G6531401           0           0           0           0           0   \n",
      "A0G6714200           0           0           0           0           0   \n",
      "A0VDR72555           0           0           0           0           0   \n",
      "A161M20101           0           0           0           0           0   \n",
      "A1RF105700           0           0           6           0           0   \n",
      "A1RF106000           0           0           0           0           0   \n",
      "A1RF502400           0           0           3           0           1   \n",
      "A21ER70200           0           0          24           0           0   \n",
      "A4EUR70200           0           0           8           0           0   \n",
      "A50U765500           0           0           0           0           0   \n",
      "A50UM50200           0           0           0           0           0   \n",
      "A5AW515900           0           0           1           0           0   \n",
      "A5AW720301           0           0          35           0           0   \n",
      "A5AWR71R11           0           0           0           0           0   \n",
      "A5AWR72300           0           0           3           0           0   \n",
      "A5AWR73011           0           0           0           0           0   \n",
      "A797578100           0           0           3           0           0   \n",
      "A7X5740100           0           0           0           0           0   \n",
      "A92WR70C11           0           0           1           0           0   \n",
      "A92WR71M00          70           0          16           0           0   \n",
      "A9CE722400           0           0           0           0           0   \n",
      "A9CE724100           0           0           1           0           0   \n",
      "A9CE725800           0           0           0           0           0   \n",
      "A9JTM33001           0           0           4           0           0   \n",
      "A9JTR71200           0           0           0           0           0   \n",
      "A9VE720300           0           0           0           0           0   \n",
      "A9VP719200           0           0           0           0           0   \n",
      "AA2J578100           0           0           0           0           0   \n",
      "AC0C500500           0           0           0           0           0   \n",
      "AC0C720300           0           0           3          20           0   \n",
      "AC0C720401           0           0           2           0           0   \n",
      "AC0CR77900           0           0           1           0           0   \n",
      "AC0CR79800           0           0          20           0           0   \n",
      "AC57M50001           0           0           0           0           0   \n",
      "V217060003           0           0           0           0           0   \n",
      "\n",
      "Data total  2024-11-27  2024-12-07  2024-12-10  2024-12-12  2024-12-20  \\\n",
      "Material                                                                 \n",
      "55VA76530E           0           0           4           0           0   \n",
      "55VB83042            6           0           4           0           0   \n",
      "56UA77111            0           0           0           0           0   \n",
      "56UA78090            0           0           0           0           0   \n",
      "56UAR73900           0           0           0           0           0   \n",
      "57GA79440            0           0           0           0           0   \n",
      "65AA26111            2           0           4           0           0   \n",
      "65AA27180            4           0           0           0           0   \n",
      "9J06M20000           0           0           0           0           0   \n",
      "A00J563600          20         180           0           0           0   \n",
      "A011946200           0           0           1           0           0   \n",
      "A03U720100           2           0           2           0           0   \n",
      "A03U720201           1           0           0           0           0   \n",
      "A0G6531401           0           0           0           0           0   \n",
      "A0G6714200           0           0           9           0           0   \n",
      "A0VDR72555           0           0           0           0           0   \n",
      "A161M20101           0           0           0           0           0   \n",
      "A1RF105700           5           0           6           0           0   \n",
      "A1RF106000           0           0           2           0           0   \n",
      "A1RF502400           5           0           0           0           0   \n",
      "A21ER70200           0           0          50           0           0   \n",
      "A4EUR70200           2           0           0           0           0   \n",
      "A50U765500           0           2           0           0           0   \n",
      "A50UM50200           0           0           0           0           0   \n",
      "A5AW515900           0           0           0           0           0   \n",
      "A5AW720301           0           0           0           0           0   \n",
      "A5AWR71R11           0           0           0           0           0   \n",
      "A5AWR72300           0           0           8           0           0   \n",
      "A5AWR73011           0           0           5           0           0   \n",
      "A797578100           4           0           0           0           0   \n",
      "A7X5740100           0           0           1           0           0   \n",
      "A92WR70C11           0           0           0           0           0   \n",
      "A92WR71M00          11           0           0           0           0   \n",
      "A9CE722400           0           0           3           0           0   \n",
      "A9CE724100           2           0           0           0           0   \n",
      "A9CE725800           1           0           2           0           0   \n",
      "A9JTM33001           0           0           1           0           0   \n",
      "A9JTR71200           1           0           1           0           0   \n",
      "A9VE720300           0           0           0           0           0   \n",
      "A9VP719200           0           0           0           0           0   \n",
      "AA2J578100          13           0           0           0           0   \n",
      "AC0C500500           1           0           3           0           0   \n",
      "AC0C720300           4           0           0           7           8   \n",
      "AC0C720401           0           0           0           0           0   \n",
      "AC0CR77900           3           0           0           0           0   \n",
      "AC0CR79800          50           0           0           0           0   \n",
      "AC57M50001           0           0           2           0           0   \n",
      "V217060003           0           0           0           0           0   \n",
      "\n",
      "Data total  2024-12-28  2025-01-02  2025-01-09  2025-02-11  \n",
      "Material                                                    \n",
      "55VA76530E           7           4           0           5  \n",
      "55VB83042            3           0           0           9  \n",
      "56UA77111            0           0           0           1  \n",
      "56UA78090            2           1           0           1  \n",
      "56UAR73900           0          10           0           0  \n",
      "57GA79440            1           0           0           0  \n",
      "65AA26111            2           2           0           2  \n",
      "65AA27180            0           0           0           0  \n",
      "9J06M20000           7           3           0           3  \n",
      "A00J563600           0         500           0           0  \n",
      "A011946200           0           0           0           0  \n",
      "A03U720100           1           0           0           0  \n",
      "A03U720201           3           0           0           0  \n",
      "A0G6531401          20           0           0          10  \n",
      "A0G6714200          10          11           0           3  \n",
      "A0VDR72555           2           0           0           1  \n",
      "A161M20101           3           0           0           2  \n",
      "A1RF105700           5           3           0          10  \n",
      "A1RF106000           0           0           0           0  \n",
      "A1RF502400           0           0           0           0  \n",
      "A21ER70200           4          11           0          31  \n",
      "A4EUR70200           0           1           0           0  \n",
      "A50U765500           9          15           0          24  \n",
      "A50UM50200           3           0           0           1  \n",
      "A5AW515900           0           0           0           0  \n",
      "A5AW720301           0         110           0          25  \n",
      "A5AWR71R11           5           0           0           4  \n",
      "A5AWR72300           0          10           0           0  \n",
      "A5AWR73011           2           5           0           1  \n",
      "A797578100           0           0           0           0  \n",
      "A7X5740100           7           3           0           1  \n",
      "A92WR70C11          19           9           0           5  \n",
      "A92WR71M00          90          14           0         100  \n",
      "A9CE722400           2           0           0           1  \n",
      "A9CE724100           2           0           0           2  \n",
      "A9CE725800           3           2           0           1  \n",
      "A9JTM33001           6           1           0           6  \n",
      "A9JTR71200           1           1           0           0  \n",
      "A9VE720300           7           3           0           3  \n",
      "A9VP719200           0           2           0           0  \n",
      "AA2J578100           0           0           0           0  \n",
      "AC0C500500           0           1           0           0  \n",
      "AC0C720300           0           4          10           2  \n",
      "AC0C720401           5           4           0           4  \n",
      "AC0CR77900           0           0           0           0  \n",
      "AC0CR79800           0           0           0           0  \n",
      "AC57M50001           0           2           0           0  \n",
      "V217060003           1           0           0           0  \n"
     ]
    }
   ],
   "source": [
    "# Selecione apenas as colunas relevantes do DataFrame 'fup'\n",
    "fup_relevantes = fup[['Material', 'Qtde Pedido', 'Data total']].copy()\n",
    "\n",
    "# Converter 'Data total' para datetime e sobrescrever a coluna original\n",
    "fup_relevantes['Data total'] = pd.to_datetime(fup_relevantes['Data total'], errors='coerce')\n",
    "\n",
    "# Criar uma nova coluna 'MesAno' no formato desejado\n",
    "fup_relevantes['MesAno'] = fup_relevantes['Data total'].dt.strftime('%b/%y')\n",
    "\n",
    "# Criar a tabela dinâmica\n",
    "tabela_dinamica_fup = pd.pivot_table(fup_relevantes, values='Qtde Pedido', index='Material', columns='Data total', aggfunc='sum', fill_value=0)\n",
    "\n",
    "# Exibir a tabela dinâmica\n",
    "print(tabela_dinamica_fup)\n",
    "\n"
   ]
  },
  {
   "cell_type": "code",
   "execution_count": 106,
   "metadata": {
    "colab": {
     "base_uri": "https://localhost:8080/"
    },
    "id": "IhIEyqhitIuj",
    "outputId": "2d90990f-ae67-44d7-c3c2-1227883fe931"
   },
   "outputs": [
    {
     "name": "stdout",
     "output_type": "stream",
     "text": [
      "Index(['55VA76530E', '55VB83042', '56UA77111', '56UA78090', '56UAR73900',\n",
      "       '57GA79440', '65AA26111', '65AA27180', '9J06M20000', 'A00J563600',\n",
      "       'A011946200', 'A03U720100', 'A03U720201', 'A0G6531401', 'A0G6714200',\n",
      "       'A0VDR72555', 'A161M20101', 'A1RF105700', 'A1RF106000', 'A1RF502400',\n",
      "       'A21ER70200', 'A4EUR70200', 'A50U765500', 'A50UM50200', 'A5AW515900',\n",
      "       'A5AW720301', 'A5AWR71R11', 'A5AWR72300', 'A5AWR73011', 'A797578100',\n",
      "       'A7X5740100', 'A92WR70C11', 'A92WR71M00', 'A9CE722400', 'A9CE724100',\n",
      "       'A9CE725800', 'A9JTM33001', 'A9JTR71200', 'A9VE720300', 'A9VP719200',\n",
      "       'AA2J578100', 'AC0C500500', 'AC0C720300', 'AC0C720401', 'AC0CR77900',\n",
      "       'AC0CR79800', 'AC57M50001', 'V217060003'],\n",
      "      dtype='object', name='Material')\n"
     ]
    }
   ],
   "source": [
    "# Exibir apenas a coluna 'Material' da tabela dinâmica\n",
    "coluna_material = tabela_dinamica_fup.index\n",
    "print(coluna_material)\n"
   ]
  },
  {
   "cell_type": "markdown",
   "metadata": {
    "id": "yDYT1LOElM9z"
   },
   "source": [
    "\n",
    "\n",
    "> Bloco com recuo\n",
    "\n"
   ]
  },
  {
   "cell_type": "markdown",
   "metadata": {
    "id": "0XgTbAT2JGgy"
   },
   "source": [
    "## ZTMM069"
   ]
  },
  {
   "cell_type": "code",
   "execution_count": 107,
   "metadata": {
    "id": "8Z_5A-snLYfW"
   },
   "outputs": [],
   "source": [
    "fob = pd.read_excel(caminho_fob)"
   ]
  },
  {
   "cell_type": "code",
   "execution_count": 108,
   "metadata": {
    "colab": {
     "base_uri": "https://localhost:8080/"
    },
    "id": "H_qd-HWALkIh",
    "outputId": "516748d8-db9e-4597-9c78-d8324a631428"
   },
   "outputs": [
    {
     "data": {
      "text/plain": [
       "<bound method NDFrame.head of        Material    Descrição (PT)                Descrição (EN)  Fornecedor  \\\n",
       "0     113620270      RODA DENTADA                    CLAW WHEEL       30194   \n",
       "1     500030320              ROLO       AGITATOR SUPPORT ROLLER       30194   \n",
       "2     25AA42570     POLIA DO CABO                   WIRE PULLEY       30194   \n",
       "3     55VA32480   FECHO MAGNÉTICO                  MAGNET CATCH       30194   \n",
       "4    55VA76530E             POLIA  ADU Conveyance Pulley /3 19T       30194   \n",
       "..          ...               ...                           ...         ...   \n",
       "117  AC57R70111  UNIDADE DE CARGA            Charging Pole Unit       30194   \n",
       "118  ACMEM15100             MOTOR                 FAN MOTOR  /1       30194   \n",
       "119   SP00-0043      TERMOSTATO 3                  THERMOSTAT 3       30194   \n",
       "120  V217060003            E RING                        E-RING       30194   \n",
       "121  V217100050            E RING                        E-RING       30194   \n",
       "\n",
       "       Nome do fornecedor  Montante Unid.  por  Vál.desde  TMat  ...  \\\n",
       "0    MARUBENI CORPORATION      0.11   USD    1 2018-04-20  PCPS  ...   \n",
       "1    MARUBENI CORPORATION      0.44   USD    1 2018-04-20  PCPS  ...   \n",
       "2    MARUBENI CORPORATION      0.47   USD    1 2018-04-20  PCPS  ...   \n",
       "3    MARUBENI CORPORATION      2.07   USD    1 2018-04-11  PCPS  ...   \n",
       "4    MARUBENI CORPORATION      0.56   USD    1 2018-04-20  PCPS  ...   \n",
       "..                    ...       ...   ...  ...        ...   ...  ...   \n",
       "117  MARUBENI CORPORATION     26.49   USD    1 2022-04-26  PCPS  ...   \n",
       "118  MARUBENI CORPORATION     35.76   USD    1 2021-06-28  PCPS  ...   \n",
       "119  MARUBENI CORPORATION      6.51   USD    1 2018-04-20  PCPS  ...   \n",
       "120  MARUBENI CORPORATION      4.71   USD  100 2018-04-24  PCPS  ...   \n",
       "121  MARUBENI CORPORATION     23.53   USD  100 2018-04-20  PCPS  ...   \n",
       "\n",
       "    Aplicação Pr  GME            GrMerc.Ext  SM Status  Vál.desde.1  \\\n",
       "0           1250   PP                PP P&B NaN    NaN          NaN   \n",
       "1           1250   PP                PP P&B NaN    NaN          NaN   \n",
       "2          C454E   MP    Multifuncional P&B NaN    NaN          NaN   \n",
       "3          C8000   PC           PP Colorida NaN    NaN          NaN   \n",
       "4            NaN   PP                PP P&B NaN    NaN          NaN   \n",
       "..           ...  ...                   ...  ..    ...          ...   \n",
       "117          NaN   PC           PP Colorida NaN    NaN          NaN   \n",
       "118          NaN  NaN                   NaN NaN    NaN          NaN   \n",
       "119         1250   PP                PP P&B NaN    NaN          NaN   \n",
       "120         C353   MC  Multifuncional Color NaN    NaN          NaN   \n",
       "121         1250   PP                PP P&B NaN    NaN          NaN   \n",
       "\n",
       "     Criado em  Criado por   ÚltModif  Modif.por  \n",
       "0   2008-01-30    ALMOXSP1 2021-04-30  SSAKAGAWA  \n",
       "1   2008-01-31    ALMOXSP1 2023-09-25  SSAKAGAWA  \n",
       "2   2008-01-30    ALMOXSP1 2023-01-03    VANESSA  \n",
       "3   2008-01-31    ALMOXSP1 2023-12-28  MYAMAMOTO  \n",
       "4   2017-09-22   JCARVALHO 2024-01-02    VANESSA  \n",
       "..         ...         ...        ...        ...  \n",
       "117 2022-04-26   SSAKAGAWA 2024-06-17     CSILVA  \n",
       "118 2021-06-28   SSAKAGAWA 2023-09-26  SSAKAGAWA  \n",
       "119 2008-01-31    ALMOXSP1 2024-06-24     CSILVA  \n",
       "120 2012-02-28        LUIZ 2023-10-24     CSILVA  \n",
       "121 2012-04-12   ELIZABETE 2023-09-26  SSAKAGAWA  \n",
       "\n",
       "[122 rows x 33 columns]>"
      ]
     },
     "execution_count": 108,
     "metadata": {},
     "output_type": "execute_result"
    }
   ],
   "source": [
    "fob.head"
   ]
  },
  {
   "cell_type": "code",
   "execution_count": 109,
   "metadata": {
    "colab": {
     "base_uri": "https://localhost:8080/"
    },
    "id": "1lTXKItfLyxm",
    "outputId": "959a436b-6a95-4ac4-adfe-af16c5b3e86b"
   },
   "outputs": [
    {
     "data": {
      "text/plain": [
       "Index(['Material', 'Descrição (PT)', 'Descrição (EN)', 'Fornecedor',\n",
       "       'Nome do fornecedor', 'Montante', 'Unid.', 'por', 'Vál.desde', 'TMat',\n",
       "       'Tipo Mat', 'SA', 'Setor de atividade', 'GrpMercads.',\n",
       "       'Grupo de mercadorias', 'BU', 'KMI Business Unit', 'PS',\n",
       "       'KMI Print Size', 'C/B', 'KMI Color/BW', 'Printing Speed',\n",
       "       'KMI Develop Name', 'Aplicação Pr', 'GME', 'GrMerc.Ext', 'SM', 'Status',\n",
       "       'Vál.desde.1', 'Criado em', 'Criado por', 'ÚltModif', 'Modif.por'],\n",
       "      dtype='object')"
      ]
     },
     "execution_count": 109,
     "metadata": {},
     "output_type": "execute_result"
    }
   ],
   "source": [
    "fob.columns"
   ]
  },
  {
   "cell_type": "code",
   "execution_count": 110,
   "metadata": {
    "colab": {
     "base_uri": "https://localhost:8080/"
    },
    "id": "QlnxxjAfL4H3",
    "outputId": "268cac4f-b0bf-4e26-e2d9-4be9cdd9b585"
   },
   "outputs": [
    {
     "name": "stdout",
     "output_type": "stream",
     "text": [
      "            Montante\n",
      "Material            \n",
      "113620270       0.11\n",
      "25AA42570       0.47\n",
      "500030320       0.44\n",
      "55VA32480       2.07\n",
      "55VA76530E      0.56\n",
      "...              ...\n",
      "AC57R70111     26.49\n",
      "ACMEM15100     35.76\n",
      "SP00-0043       6.51\n",
      "V217060003      4.71\n",
      "V217100050     23.53\n",
      "\n",
      "[122 rows x 1 columns]\n"
     ]
    }
   ],
   "source": [
    "# Criar a tabela dinâmica mantendo 'Cen.' como texto\n",
    "tabela_dinamica_fob = pd.pivot_table(fob, values='Montante', index='Material', aggfunc='sum', fill_value=0)\n",
    "\n",
    "# Exibir a tabela dinâmica\n",
    "print(tabela_dinamica_fob)"
   ]
  },
  {
   "cell_type": "markdown",
   "metadata": {
    "id": "NVf1Tr1JJKSB"
   },
   "source": [
    "## ZTMM085\n"
   ]
  },
  {
   "cell_type": "code",
   "execution_count": 111,
   "metadata": {
    "id": "3cxwZD7CMJ1v"
   },
   "outputs": [],
   "source": [
    "pecas = pd.read_excel(caminho_pecas)"
   ]
  },
  {
   "cell_type": "code",
   "execution_count": 112,
   "metadata": {
    "colab": {
     "base_uri": "https://localhost:8080/"
    },
    "id": "rzzl0CqOMUQ1",
    "outputId": "ca909e3f-f61f-42b3-8ed5-42ed6dbe703f"
   },
   "outputs": [
    {
     "data": {
      "text/plain": [
       "<bound method NDFrame.head of                Material                             Descrição Tipo material  \\\n",
       "0    000000000113620270                          RODA DENTADA          PCPS   \n",
       "1    000000000500030320                                  ROLO          PCPS   \n",
       "2              00VD1000                                ESCOVA          PCPS   \n",
       "3             25AA42570                         POLIA DO CABO          PCPS   \n",
       "4             55VA32480                       FECHO MAGNÉTICO          PCPS   \n",
       "..                  ...                                   ...           ...   \n",
       "120          ACMEM15100                                 MOTOR          PCPS   \n",
       "121           D000BE001  VENTILADOR PRINCIPAL BROTHER HLL6402          PCPS   \n",
       "122           SP00-0043                          TERMOSTATO 3          PCPS   \n",
       "123          V217060003                                E ring          PCPS   \n",
       "124          V217100050                                E ring          PCPS   \n",
       "\n",
       "             Txt Tipo material GrpMerc    Denom. Grupo Merc.  Stat.centros  \\\n",
       "0    Produto Coml-Peça-SPO/MAO      50                 Parts           NaN   \n",
       "1    Produto Coml-Peça-SPO/MAO      50                 Parts           NaN   \n",
       "2    Produto Coml-Peça-SPO/MAO    MFCP  MFP Non-HW Col: Part           NaN   \n",
       "3    Produto Coml-Peça-SPO/MAO      50                 Parts           NaN   \n",
       "4    Produto Coml-Peça-SPO/MAO      50                 Parts           NaN   \n",
       "..                         ...     ...                   ...           ...   \n",
       "120  Produto Coml-Peça-SPO/MAO      50                 Parts           NaN   \n",
       "121  Produto Coml-Peça-SPO/MAO      50                 Parts           NaN   \n",
       "122  Produto Coml-Peça-SPO/MAO      50                 Parts           NaN   \n",
       "123  Produto Coml-Peça-SPO/MAO      50                 Parts           NaN   \n",
       "124  Produto Coml-Peça-SPO/MAO      50                 Parts           NaN   \n",
       "\n",
       "     Status p/todos centros  Stat.canais Status p/todos canais  \\\n",
       "0                       NaN          NaN                   NaN   \n",
       "1                       NaN          NaN                   NaN   \n",
       "2                       NaN          NaN                   NaN   \n",
       "3                       NaN          NaN                   NaN   \n",
       "4                       NaN          NaN                   NaN   \n",
       "..                      ...          ...                   ...   \n",
       "120                     NaN          NaN                   NaN   \n",
       "121                     NaN          NaN                   NaN   \n",
       "122                     NaN          NaN                   NaN   \n",
       "123                     NaN          NaN                   NaN   \n",
       "124                     NaN          NaN                   NaN   \n",
       "\n",
       "                                 Modelos Lista Técnica  \n",
       "0    7075/7085/ACCURIOPRESS 6136P/ACCURIOPRESS 7136...  \n",
       "1                                        PF-701/PF-703  \n",
       "2    ACCURIOLABEL 190/BIZHUB PRESS C71CF/ACCURIOLAB...  \n",
       "3    7075/7085/7255/7272/BIZHUB PRO 920/FORCE85/LT-...  \n",
       "4    7075/7085/ACCURIOLABEL 190/BIZHUB PRESS C71CF/...  \n",
       "..                                                 ...  \n",
       "120                                      IC-610/IC-611  \n",
       "121                                                NaN  \n",
       "122  7075/7085/ACCURIOPRESS 6136P/ACCURIOPRINT 2100...  \n",
       "123  ACCURIOLABEL 230/ACCURIOLABEL 400/ACCURIOPRESS...  \n",
       "124  ACCURIOPRESS 6136P/ACCURIOPRESS 7136P/ACCURIOP...  \n",
       "\n",
       "[125 rows x 11 columns]>"
      ]
     },
     "execution_count": 112,
     "metadata": {},
     "output_type": "execute_result"
    }
   ],
   "source": [
    "pecas.head"
   ]
  },
  {
   "cell_type": "code",
   "execution_count": 113,
   "metadata": {
    "colab": {
     "base_uri": "https://localhost:8080/"
    },
    "id": "Jmt1fwl5MX1e",
    "outputId": "8f41556a-8fdd-41ff-dd21-ce5a872001a9"
   },
   "outputs": [
    {
     "data": {
      "text/plain": [
       "Index(['Material', 'Descrição', 'Tipo material', 'Txt Tipo material',\n",
       "       'GrpMerc', 'Denom. Grupo Merc.', 'Stat.centros',\n",
       "       'Status p/todos centros', 'Stat.canais', 'Status p/todos canais',\n",
       "       'Modelos Lista Técnica'],\n",
       "      dtype='object')"
      ]
     },
     "execution_count": 113,
     "metadata": {},
     "output_type": "execute_result"
    }
   ],
   "source": [
    "pecas.columns"
   ]
  },
  {
   "cell_type": "code",
   "execution_count": 114,
   "metadata": {
    "colab": {
     "base_uri": "https://localhost:8080/"
    },
    "id": "dcXHkX_sMaZN",
    "outputId": "71e35be8-b16f-4a58-da73-53aa21222936"
   },
   "outputs": [
    {
     "name": "stdout",
     "output_type": "stream",
     "text": [
      "                                                Modelos Lista Técnica\n",
      "Material                                                             \n",
      "000000000113620270  7075/7085/ACCURIOPRESS 6136P/ACCURIOPRESS 7136...\n",
      "000000000500030320                                      PF-701/PF-703\n",
      "00VD1000            ACCURIOLABEL 190/BIZHUB PRESS C71CF/ACCURIOLAB...\n",
      "25AA42570           7075/7085/7255/7272/BIZHUB PRO 920/FORCE85/LT-...\n",
      "55VA32480           7075/7085/ACCURIOLABEL 190/BIZHUB PRESS C71CF/...\n",
      "...                                                               ...\n",
      "ACMEM15100                                              IC-610/IC-611\n",
      "D000BE001                                                           0\n",
      "SP00-0043           7075/7085/ACCURIOPRESS 6136P/ACCURIOPRINT 2100...\n",
      "V217060003          ACCURIOLABEL 230/ACCURIOLABEL 400/ACCURIOPRESS...\n",
      "V217100050          ACCURIOPRESS 6136P/ACCURIOPRESS 7136P/ACCURIOP...\n",
      "\n",
      "[125 rows x 1 columns]\n"
     ]
    }
   ],
   "source": [
    "# Criar a tabela dinâmica mantendo 'Cen.' como texto\n",
    "tabela_dinamica_pecas = pd.pivot_table(pecas, values='Modelos Lista Técnica', index='Material', aggfunc='sum', fill_value=0)\n",
    "\n",
    "# Exibir a tabela dinâmica\n",
    "print(tabela_dinamica_pecas)"
   ]
  },
  {
   "cell_type": "markdown",
   "metadata": {
    "id": "TzPPMAA_jAuT"
   },
   "source": []
  },
  {
   "cell_type": "code",
   "execution_count": null,
   "metadata": {
    "id": "hSdvAHrgi_0y"
   },
   "outputs": [],
   "source": []
  },
  {
   "cell_type": "markdown",
   "metadata": {
    "id": "HBe_enGOjCLL"
   },
   "source": [
    "## codigos atuais"
   ]
  },
  {
   "cell_type": "code",
   "execution_count": 115,
   "metadata": {
    "id": "gGSI_oJ0jGK-"
   },
   "outputs": [],
   "source": [
    "atuais = pd.read_excel(caminho_atuais)"
   ]
  },
  {
   "cell_type": "code",
   "execution_count": 116,
   "metadata": {
    "colab": {
     "base_uri": "https://localhost:8080/"
    },
    "id": "Xw4mM0Rsk3SY",
    "outputId": "2adbef34-e3dc-4eef-abe3-dbcd59deb424"
   },
   "outputs": [
    {
     "data": {
      "text/html": [
       "<div>\n",
       "<style scoped>\n",
       "    .dataframe tbody tr th:only-of-type {\n",
       "        vertical-align: middle;\n",
       "    }\n",
       "\n",
       "    .dataframe tbody tr th {\n",
       "        vertical-align: top;\n",
       "    }\n",
       "\n",
       "    .dataframe thead th {\n",
       "        text-align: right;\n",
       "    }\n",
       "</style>\n",
       "<table border=\"1\" class=\"dataframe\">\n",
       "  <thead>\n",
       "    <tr style=\"text-align: right;\">\n",
       "      <th></th>\n",
       "      <th>Atual</th>\n",
       "      <th>Material</th>\n",
       "      <th>Similar1</th>\n",
       "      <th>Similar2</th>\n",
       "      <th>Similar3</th>\n",
       "      <th>Similar4</th>\n",
       "      <th>Unnamed: 6</th>\n",
       "      <th>Unnamed: 7</th>\n",
       "      <th>Unnamed: 8</th>\n",
       "    </tr>\n",
       "  </thead>\n",
       "  <tbody>\n",
       "    <tr>\n",
       "      <th>0</th>\n",
       "      <td>00VD-1000</td>\n",
       "      <td>00VD1000</td>\n",
       "      <td>00VD1000</td>\n",
       "      <td>-</td>\n",
       "      <td>-</td>\n",
       "      <td>-</td>\n",
       "      <td>NaN</td>\n",
       "      <td>NaN</td>\n",
       "      <td>NaN</td>\n",
       "    </tr>\n",
       "    <tr>\n",
       "      <th>1</th>\n",
       "      <td>113620270</td>\n",
       "      <td>113620270</td>\n",
       "      <td>-</td>\n",
       "      <td>-</td>\n",
       "      <td>-</td>\n",
       "      <td>-</td>\n",
       "      <td>NaN</td>\n",
       "      <td>NaN</td>\n",
       "      <td>NaN</td>\n",
       "    </tr>\n",
       "    <tr>\n",
       "      <th>2</th>\n",
       "      <td>25AA42570</td>\n",
       "      <td>25AA42570</td>\n",
       "      <td>1223</td>\n",
       "      <td>-</td>\n",
       "      <td>-</td>\n",
       "      <td>-</td>\n",
       "      <td>NaN</td>\n",
       "      <td>NaN</td>\n",
       "      <td>NaN</td>\n",
       "    </tr>\n",
       "    <tr>\n",
       "      <th>3</th>\n",
       "      <td>500030320</td>\n",
       "      <td>500030320</td>\n",
       "      <td>-</td>\n",
       "      <td>-</td>\n",
       "      <td>-</td>\n",
       "      <td>-</td>\n",
       "      <td>NaN</td>\n",
       "      <td>NaN</td>\n",
       "      <td>NaN</td>\n",
       "    </tr>\n",
       "    <tr>\n",
       "      <th>4</th>\n",
       "      <td>55VA32480</td>\n",
       "      <td>55VA32480</td>\n",
       "      <td>-</td>\n",
       "      <td>-</td>\n",
       "      <td>-</td>\n",
       "      <td>-</td>\n",
       "      <td>NaN</td>\n",
       "      <td>NaN</td>\n",
       "      <td>NaN</td>\n",
       "    </tr>\n",
       "    <tr>\n",
       "      <th>...</th>\n",
       "      <td>...</td>\n",
       "      <td>...</td>\n",
       "      <td>...</td>\n",
       "      <td>...</td>\n",
       "      <td>...</td>\n",
       "      <td>...</td>\n",
       "      <td>...</td>\n",
       "      <td>...</td>\n",
       "      <td>...</td>\n",
       "    </tr>\n",
       "    <tr>\n",
       "      <th>132</th>\n",
       "      <td>0</td>\n",
       "      <td>NaN</td>\n",
       "      <td>-</td>\n",
       "      <td>-</td>\n",
       "      <td>-</td>\n",
       "      <td>-</td>\n",
       "      <td>NaN</td>\n",
       "      <td>NaN</td>\n",
       "      <td>NaN</td>\n",
       "    </tr>\n",
       "    <tr>\n",
       "      <th>133</th>\n",
       "      <td>0</td>\n",
       "      <td>NaN</td>\n",
       "      <td>-</td>\n",
       "      <td>-</td>\n",
       "      <td>-</td>\n",
       "      <td>-</td>\n",
       "      <td>NaN</td>\n",
       "      <td>NaN</td>\n",
       "      <td>NaN</td>\n",
       "    </tr>\n",
       "    <tr>\n",
       "      <th>134</th>\n",
       "      <td>0</td>\n",
       "      <td>NaN</td>\n",
       "      <td>-</td>\n",
       "      <td>-</td>\n",
       "      <td>-</td>\n",
       "      <td>-</td>\n",
       "      <td>NaN</td>\n",
       "      <td>NaN</td>\n",
       "      <td>NaN</td>\n",
       "    </tr>\n",
       "    <tr>\n",
       "      <th>135</th>\n",
       "      <td>0</td>\n",
       "      <td>NaN</td>\n",
       "      <td>-</td>\n",
       "      <td>-</td>\n",
       "      <td>-</td>\n",
       "      <td>-</td>\n",
       "      <td>NaN</td>\n",
       "      <td>NaN</td>\n",
       "      <td>NaN</td>\n",
       "    </tr>\n",
       "    <tr>\n",
       "      <th>136</th>\n",
       "      <td>0</td>\n",
       "      <td>NaN</td>\n",
       "      <td>-</td>\n",
       "      <td>-</td>\n",
       "      <td>-</td>\n",
       "      <td>-</td>\n",
       "      <td>NaN</td>\n",
       "      <td>NaN</td>\n",
       "      <td>NaN</td>\n",
       "    </tr>\n",
       "  </tbody>\n",
       "</table>\n",
       "<p>137 rows × 9 columns</p>\n",
       "</div>"
      ],
      "text/plain": [
       "         Atual   Material  Similar1 Similar2 Similar3 Similar4  Unnamed: 6  \\\n",
       "0    00VD-1000   00VD1000  00VD1000        -        -        -         NaN   \n",
       "1    113620270  113620270         -        -        -        -         NaN   \n",
       "2    25AA42570  25AA42570      1223        -        -        -         NaN   \n",
       "3    500030320  500030320         -        -        -        -         NaN   \n",
       "4    55VA32480  55VA32480         -        -        -        -         NaN   \n",
       "..         ...        ...       ...      ...      ...      ...         ...   \n",
       "132          0        NaN         -        -        -        -         NaN   \n",
       "133          0        NaN         -        -        -        -         NaN   \n",
       "134          0        NaN         -        -        -        -         NaN   \n",
       "135          0        NaN         -        -        -        -         NaN   \n",
       "136          0        NaN         -        -        -        -         NaN   \n",
       "\n",
       "     Unnamed: 7 Unnamed: 8  \n",
       "0           NaN        NaN  \n",
       "1           NaN        NaN  \n",
       "2           NaN        NaN  \n",
       "3           NaN        NaN  \n",
       "4           NaN        NaN  \n",
       "..          ...        ...  \n",
       "132         NaN        NaN  \n",
       "133         NaN        NaN  \n",
       "134         NaN        NaN  \n",
       "135         NaN        NaN  \n",
       "136         NaN        NaN  \n",
       "\n",
       "[137 rows x 9 columns]"
      ]
     },
     "execution_count": 116,
     "metadata": {},
     "output_type": "execute_result"
    }
   ],
   "source": [
    "atuais"
   ]
  },
  {
   "cell_type": "code",
   "execution_count": 117,
   "metadata": {
    "colab": {
     "base_uri": "https://localhost:8080/"
    },
    "id": "M93y7tkvlPyx",
    "outputId": "ae148223-39a9-455c-f97d-bae566a23b00"
   },
   "outputs": [
    {
     "data": {
      "text/plain": [
       "Index(['Atual', 'Material', 'Similar1', 'Similar2', 'Similar3', 'Similar4',\n",
       "       'Unnamed: 6', 'Unnamed: 7', 'Unnamed: 8'],\n",
       "      dtype='object')"
      ]
     },
     "execution_count": 117,
     "metadata": {},
     "output_type": "execute_result"
    }
   ],
   "source": [
    "atuais.columns"
   ]
  },
  {
   "cell_type": "code",
   "execution_count": 118,
   "metadata": {
    "colab": {
     "base_uri": "https://localhost:8080/"
    },
    "id": "Ym54xRgBrUo3",
    "outputId": "715a8115-9a14-4b78-e94e-f88a6a011379"
   },
   "outputs": [
    {
     "name": "stdout",
     "output_type": "stream",
     "text": [
      "          Atual    Material    Similar1    Similar2    Similar3    Similar4  \\\n",
      "5    55VA76530E  55VA76530E           -           -           -           -   \n",
      "6     55VB83042   55VB83042   55VB83041           -           -           -   \n",
      "9     56UA77111   56UA77111   56UA77110           -           -           -   \n",
      "11    56UA78090   56UA78090           -           -           -           -   \n",
      "12   56UAR73900  56UAR73900   56UA-1910           -           -           -   \n",
      "13    57GA79440   57GA79440           -           -           -           -   \n",
      "15    65AA26111   65AA26111           -           -           -           -   \n",
      "16    65AA27180   65AA27180           -           -           -           -   \n",
      "20   9J06M20000  9J06M20000  9321240061  9321210041           -           -   \n",
      "21   A00J563600  A00J563600           -           -           -           -   \n",
      "22   A011946200  A011946200           -           -           -           -   \n",
      "26   A03U720100  A03U720100           -           -           -           -   \n",
      "27   A03U720201  A03U720201           -           -           -           -   \n",
      "31   A0G6531401  A0G6531401           -           -           -           -   \n",
      "32   A0G6714200  A0G6714200           -           -           -           -   \n",
      "38   A0VDR72555  A0VDR72555  A0VDR72544  A0VDR72533  A0VDR72522  A0VDR72511   \n",
      "39   A161M20101  A161M20101  A161M20100           -           -           -   \n",
      "43   A1RF105700  A1RF105700           -           -           -           -   \n",
      "44   A1RF106000  A1RF106000           -           -           -           -   \n",
      "45   A1RF502400  A1RF502400           -           -           -           -   \n",
      "51   A21ER70200  A21ER70200           -           -           -           -   \n",
      "58   A4EUR70200  A4EUR70200  A0G6R73100        4575           -           -   \n",
      "68   A50U765500  A50U765500  A50U740112  A50U740101           -           -   \n",
      "72   A50UM50200  A50UM50200           -           -           -           -   \n",
      "75   A5AW515900  A5AW515900  A1RF515901           -           -           -   \n",
      "76   A5AW720301  A5AW720301  A5AW728500  A5AW720300           -           -   \n",
      "77   A5AWR71R11  A5AWR71R11  A5AWR71R00           -           -           -   \n",
      "78   A5AWR72300  A5AWR72300           -           -           -           -   \n",
      "79   A5AWR73011  A5AWR73011  A5AWR73000           -           -           -   \n",
      "81   A797578100  A797578100           -           -           -           -   \n",
      "86   A7X5740100  A7X5740100           -           -           -           -   \n",
      "90   A92WR70C11  A92WR70C11  A92WR70C00           -           -           -   \n",
      "91   A92WR71M00  A92WR71M00           -           -           -           -   \n",
      "93   A9CE722400  A9CE722400           -           -           -           -   \n",
      "94   A9CE724100  A9CE724100           -           -           -           -   \n",
      "95   A9CE725800  A9CE725800           -           -           -           -   \n",
      "98   A9JTM33001  A9JTM33001           -           -           -           -   \n",
      "99   A9JTR71200  A9JTR71200           -           -           -           -   \n",
      "101  A9VE720300  A9VE720300  A9VE720111  A9VE720100           -           -   \n",
      "102  A9VP719200  A9VP719200           -           -           -           -   \n",
      "104  AA2J578100  AA2J578100           -           -           -           -   \n",
      "107  AC0C500500  AC0C500500           -           -           -           -   \n",
      "108  AC0C720300  AC0C720300           -           -           -           -   \n",
      "109  AC0C720401  AC0C720401  AC0C720400           -           -           -   \n",
      "116  AC0CR77900  AC0CR77900           -           -           -           -   \n",
      "117  AC0CR79800  AC0CR79800           -           -           -           -   \n",
      "118  AC57M50001  AC57M50001           -           -           -           -   \n",
      "123  V217060003  V217060003           -           -           -           -   \n",
      "\n",
      "     Unnamed: 6  Unnamed: 7 Unnamed: 8  \n",
      "5           NaN         NaN        NaN  \n",
      "6           NaN         NaN        NaN  \n",
      "9           NaN         NaN        NaN  \n",
      "11          NaN         NaN        NaN  \n",
      "12          NaN         NaN        NaN  \n",
      "13          NaN         NaN        NaN  \n",
      "15          NaN         NaN        NaN  \n",
      "16          NaN         NaN        NaN  \n",
      "20          NaN         NaN        NaN  \n",
      "21          NaN         NaN        NaN  \n",
      "22          NaN         NaN        NaN  \n",
      "26          NaN         NaN        NaN  \n",
      "27          NaN         NaN        NaN  \n",
      "31          NaN         NaN        NaN  \n",
      "32          NaN         NaN        NaN  \n",
      "38          NaN         NaN        NaN  \n",
      "39          NaN         NaN        NaN  \n",
      "43          NaN         NaN        NaN  \n",
      "44          NaN         NaN        NaN  \n",
      "45          NaN         NaN        NaN  \n",
      "51          NaN         NaN        NaN  \n",
      "58          NaN         NaN        NaN  \n",
      "68          NaN         NaN        NaN  \n",
      "72          NaN         NaN        NaN  \n",
      "75          NaN         NaN        NaN  \n",
      "76          NaN         NaN        NaN  \n",
      "77          NaN         NaN        NaN  \n",
      "78          NaN         NaN        NaN  \n",
      "79          NaN         NaN        NaN  \n",
      "81          NaN         NaN        NaN  \n",
      "86          NaN         NaN        NaN  \n",
      "90          NaN         NaN        NaN  \n",
      "91          NaN         NaN        NaN  \n",
      "93          NaN         NaN        NaN  \n",
      "94          NaN         NaN        NaN  \n",
      "95          NaN         NaN        NaN  \n",
      "98          NaN         NaN        NaN  \n",
      "99          NaN         NaN        NaN  \n",
      "101         NaN         NaN        NaN  \n",
      "102         NaN         NaN        NaN  \n",
      "104         NaN         NaN        NaN  \n",
      "107         NaN         NaN        NaN  \n",
      "108         NaN         NaN        NaN  \n",
      "109         NaN         NaN        NaN  \n",
      "116         NaN         NaN        NaN  \n",
      "117         NaN         NaN        NaN  \n",
      "118         NaN         NaN        NaN  \n",
      "123         NaN         NaN        NaN  \n"
     ]
    }
   ],
   "source": [
    "resultados_filtrados = atuais[atuais['Atual'].isin(coluna_material)]\n",
    "\n",
    "tabela_resultados = pd.DataFrame(resultados_filtrados)\n",
    "\n",
    "# Exibir o novo DataFrame\n",
    "print(tabela_resultados)"
   ]
  },
  {
   "cell_type": "code",
   "execution_count": 119,
   "metadata": {
    "colab": {
     "base_uri": "https://localhost:8080/"
    },
    "id": "RgRZiVAF0gEO",
    "outputId": "b5c38326-6a25-493e-f817-6ae9433cefac"
   },
   "outputs": [
    {
     "name": "stdout",
     "output_type": "stream",
     "text": [
      "              Material    Similar1    Similar2    Similar3    Similar4  \\\n",
      "Atual                                                                    \n",
      "55VA76530E  55VA76530E           -           -           -           -   \n",
      "55VB83042    55VB83042   55VB83041           -           -           -   \n",
      "56UA77111    56UA77111   56UA77110           -           -           -   \n",
      "56UA78090    56UA78090           -           -           -           -   \n",
      "56UAR73900  56UAR73900   56UA-1910           -           -           -   \n",
      "57GA79440    57GA79440           -           -           -           -   \n",
      "65AA26111    65AA26111           -           -           -           -   \n",
      "65AA27180    65AA27180           -           -           -           -   \n",
      "9J06M20000  9J06M20000  9321240061  9321210041           -           -   \n",
      "A00J563600  A00J563600           -           -           -           -   \n",
      "A011946200  A011946200           -           -           -           -   \n",
      "A03U720100  A03U720100           -           -           -           -   \n",
      "A03U720201  A03U720201           -           -           -           -   \n",
      "A0G6531401  A0G6531401           -           -           -           -   \n",
      "A0G6714200  A0G6714200           -           -           -           -   \n",
      "A0VDR72555  A0VDR72555  A0VDR72544  A0VDR72533  A0VDR72522  A0VDR72511   \n",
      "A161M20101  A161M20101  A161M20100           -           -           -   \n",
      "A1RF105700  A1RF105700           -           -           -           -   \n",
      "A1RF106000  A1RF106000           -           -           -           -   \n",
      "A1RF502400  A1RF502400           -           -           -           -   \n",
      "A21ER70200  A21ER70200           -           -           -           -   \n",
      "A4EUR70200  A4EUR70200  A0G6R73100        4575           -           -   \n",
      "A50U765500  A50U765500  A50U740112  A50U740101           -           -   \n",
      "A50UM50200  A50UM50200           -           -           -           -   \n",
      "A5AW515900  A5AW515900  A1RF515901           -           -           -   \n",
      "A5AW720301  A5AW720301  A5AW728500  A5AW720300           -           -   \n",
      "A5AWR71R11  A5AWR71R11  A5AWR71R00           -           -           -   \n",
      "A5AWR72300  A5AWR72300           -           -           -           -   \n",
      "A5AWR73011  A5AWR73011  A5AWR73000           -           -           -   \n",
      "A797578100  A797578100           -           -           -           -   \n",
      "A7X5740100  A7X5740100           -           -           -           -   \n",
      "A92WR70C11  A92WR70C11  A92WR70C00           -           -           -   \n",
      "A92WR71M00  A92WR71M00           -           -           -           -   \n",
      "A9CE722400  A9CE722400           -           -           -           -   \n",
      "A9CE724100  A9CE724100           -           -           -           -   \n",
      "A9CE725800  A9CE725800           -           -           -           -   \n",
      "A9JTM33001  A9JTM33001           -           -           -           -   \n",
      "A9JTR71200  A9JTR71200           -           -           -           -   \n",
      "A9VE720300  A9VE720300  A9VE720111  A9VE720100           -           -   \n",
      "A9VP719200  A9VP719200           -           -           -           -   \n",
      "AA2J578100  AA2J578100           -           -           -           -   \n",
      "AC0C500500  AC0C500500           -           -           -           -   \n",
      "AC0C720300  AC0C720300           -           -           -           -   \n",
      "AC0C720401  AC0C720401  AC0C720400           -           -           -   \n",
      "AC0CR77900  AC0CR77900           -           -           -           -   \n",
      "AC0CR79800  AC0CR79800           -           -           -           -   \n",
      "AC57M50001  AC57M50001           -           -           -           -   \n",
      "V217060003  V217060003           -           -           -           -   \n",
      "\n",
      "            Unnamed: 6  Unnamed: 7 Unnamed: 8  \n",
      "Atual                                          \n",
      "55VA76530E         NaN         NaN        NaN  \n",
      "55VB83042          NaN         NaN        NaN  \n",
      "56UA77111          NaN         NaN        NaN  \n",
      "56UA78090          NaN         NaN        NaN  \n",
      "56UAR73900         NaN         NaN        NaN  \n",
      "57GA79440          NaN         NaN        NaN  \n",
      "65AA26111          NaN         NaN        NaN  \n",
      "65AA27180          NaN         NaN        NaN  \n",
      "9J06M20000         NaN         NaN        NaN  \n",
      "A00J563600         NaN         NaN        NaN  \n",
      "A011946200         NaN         NaN        NaN  \n",
      "A03U720100         NaN         NaN        NaN  \n",
      "A03U720201         NaN         NaN        NaN  \n",
      "A0G6531401         NaN         NaN        NaN  \n",
      "A0G6714200         NaN         NaN        NaN  \n",
      "A0VDR72555         NaN         NaN        NaN  \n",
      "A161M20101         NaN         NaN        NaN  \n",
      "A1RF105700         NaN         NaN        NaN  \n",
      "A1RF106000         NaN         NaN        NaN  \n",
      "A1RF502400         NaN         NaN        NaN  \n",
      "A21ER70200         NaN         NaN        NaN  \n",
      "A4EUR70200         NaN         NaN        NaN  \n",
      "A50U765500         NaN         NaN        NaN  \n",
      "A50UM50200         NaN         NaN        NaN  \n",
      "A5AW515900         NaN         NaN        NaN  \n",
      "A5AW720301         NaN         NaN        NaN  \n",
      "A5AWR71R11         NaN         NaN        NaN  \n",
      "A5AWR72300         NaN         NaN        NaN  \n",
      "A5AWR73011         NaN         NaN        NaN  \n",
      "A797578100         NaN         NaN        NaN  \n",
      "A7X5740100         NaN         NaN        NaN  \n",
      "A92WR70C11         NaN         NaN        NaN  \n",
      "A92WR71M00         NaN         NaN        NaN  \n",
      "A9CE722400         NaN         NaN        NaN  \n",
      "A9CE724100         NaN         NaN        NaN  \n",
      "A9CE725800         NaN         NaN        NaN  \n",
      "A9JTM33001         NaN         NaN        NaN  \n",
      "A9JTR71200         NaN         NaN        NaN  \n",
      "A9VE720300         NaN         NaN        NaN  \n",
      "A9VP719200         NaN         NaN        NaN  \n",
      "AA2J578100         NaN         NaN        NaN  \n",
      "AC0C500500         NaN         NaN        NaN  \n",
      "AC0C720300         NaN         NaN        NaN  \n",
      "AC0C720401         NaN         NaN        NaN  \n",
      "AC0CR77900         NaN         NaN        NaN  \n",
      "AC0CR79800         NaN         NaN        NaN  \n",
      "AC57M50001         NaN         NaN        NaN  \n",
      "V217060003         NaN         NaN        NaN  \n"
     ]
    }
   ],
   "source": [
    "tabela_resultados = tabela_resultados.set_index(tabela_resultados.columns[0])\n",
    "\n",
    "# Exibir o novo DataFrame\n",
    "print(tabela_resultados)"
   ]
  },
  {
   "cell_type": "code",
   "execution_count": null,
   "metadata": {
    "id": "cmiqM9VUvbUM"
   },
   "outputs": [],
   "source": []
  },
  {
   "cell_type": "code",
   "execution_count": null,
   "metadata": {
    "id": "RvsAkUNDvbTI"
   },
   "outputs": [],
   "source": []
  },
  {
   "cell_type": "markdown",
   "metadata": {
    "id": "6xRNfQGJyK1v"
   },
   "source": [
    "## Classificação de peças"
   ]
  },
  {
   "cell_type": "code",
   "execution_count": 120,
   "metadata": {
    "id": "pdep8rVnyRQN"
   },
   "outputs": [],
   "source": [
    "classificacao = pd.read_excel(caminho_classificacao, sheet_name='consumable parts')"
   ]
  },
  {
   "cell_type": "code",
   "execution_count": 121,
   "metadata": {
    "colab": {
     "base_uri": "https://localhost:8080/"
    },
    "id": "Omok9dAmy4lN",
    "outputId": "af5895a3-ae25-40f9-81b9-4fce24a99223"
   },
   "outputs": [
    {
     "data": {
      "text/plain": [
       "<bound method NDFrame.head of           Código                                   Aplicação Modelo  \\\n",
       "0     A92WR70100                                              C6100   \n",
       "1     65AAR75600  8050/ C14000/ C6100/ C1085/ C1100/ C8000/ C500...   \n",
       "2     A1RF520400                 C14000/ C6100/ C1085/ C1100/ C8000   \n",
       "3     A1RF531600                                C6100/ C1085/ C1100   \n",
       "4     A1RF532800                 C14000/ C6100/ C1085/ C1100/ C8000   \n",
       "...          ...                                                ...   \n",
       "2104  AC4K701900                                             MB-511   \n",
       "2105  A79A603400                                             MB-511   \n",
       "2106  A0GDR70111                                             PF-712   \n",
       "2107  A11U560000                                              4051i   \n",
       "2108  A5AW728500                         C6100/ C1085/ C1100/EF-104   \n",
       "\n",
       "       Cód.Atual    Similar1    Similar2 Similar3 Similar4 Similar5 Similar6  \\\n",
       "0     A92WR70100           -           -        -        -        -        -   \n",
       "1     65AAR75600   65AA-2930           -        -        -        -        -   \n",
       "2     A1RF520400           -           -        -        -        -        -   \n",
       "3     A1RF531600           -           -        -        -        -        -   \n",
       "4     A1RF532800        4109           -        -        -        -        -   \n",
       "...          ...         ...         ...      ...      ...      ...      ...   \n",
       "2104  AC4K701900           -           -        -        -        -        -   \n",
       "2105  A79A603400           -           -        -        -        -        -   \n",
       "2106  A0GDR70111  A0GDR70100           -        -        -        -        -   \n",
       "2107  A11U560000           -           -        -        -        -        -   \n",
       "2108  A5AW720301  A5AW728500  A5AW720300        -        -        -        -   \n",
       "\n",
       "     Similar7 Similar7.1 Durabilidade                     Unnamed: 12  \n",
       "0           -          -          Sim                   C6100 / C1100  \n",
       "1           -          -          Sim                   C6100 / C1100  \n",
       "2           -          -          Sim                   C6100 / C1100  \n",
       "3           -          -          Sim                   C6100 / C1100  \n",
       "4           -          -          Sim                   C6100 / C1100  \n",
       "...       ...        ...          ...                             ...  \n",
       "2104        -          -          Sim  Acrescentado 12.07.24 - Carlos  \n",
       "2105        -          -          Sim  Acrescentado 12.07.24 - Carlos  \n",
       "2106        -          -          Sim  Acrescentado 12.07.24 - Carlos  \n",
       "2107        -          -          Sim  Acrescentado 12.07.24 - Carlos  \n",
       "2108        -          -          Sim  Acrescentado 15.08.24 - Carlos  \n",
       "\n",
       "[2109 rows x 13 columns]>"
      ]
     },
     "execution_count": 121,
     "metadata": {},
     "output_type": "execute_result"
    }
   ],
   "source": [
    "classificacao.head"
   ]
  },
  {
   "cell_type": "code",
   "execution_count": 122,
   "metadata": {
    "colab": {
     "base_uri": "https://localhost:8080/"
    },
    "id": "8loQBBC8zmTC",
    "outputId": "22e5d1b2-8c42-4449-cebd-2df17c719ca6"
   },
   "outputs": [
    {
     "data": {
      "text/plain": [
       "Index(['Código', 'Aplicação Modelo', 'Cód.Atual', 'Similar1', 'Similar2',\n",
       "       'Similar3', 'Similar4', 'Similar5', 'Similar6', 'Similar7',\n",
       "       'Similar7.1', 'Durabilidade', 'Unnamed: 12'],\n",
       "      dtype='object')"
      ]
     },
     "execution_count": 122,
     "metadata": {},
     "output_type": "execute_result"
    }
   ],
   "source": [
    "classificacao.columns"
   ]
  },
  {
   "cell_type": "code",
   "execution_count": 123,
   "metadata": {
    "colab": {
     "base_uri": "https://localhost:8080/"
    },
    "id": "3DNnf2bLzhg6",
    "outputId": "d6daab57-3e78-4090-ee66-be3ee3d66a11"
   },
   "outputs": [
    {
     "name": "stdout",
     "output_type": "stream",
     "text": [
      "           Durabilidade\n",
      "Código                 \n",
      "4049521             Sim\n",
      "4049522             Sim\n",
      "4049524             Sim\n",
      "454053391           Sim\n",
      "454075040           Sim\n",
      "...                 ...\n",
      "AE1KR70600          Sim\n",
      "SP00-0210           Sim\n",
      "SP00-0220           Sim\n",
      "V218060086          Sim\n",
      "V234301250          Sim\n",
      "\n",
      "[1408 rows x 1 columns]\n"
     ]
    }
   ],
   "source": [
    "# Criar a tabela dinâmica mantendo 'Cen.' como texto\n",
    "tabela_dinamica_classificacao = pd.pivot_table(classificacao, values='Durabilidade', index='Código', aggfunc='first', fill_value=0)\n",
    "\n",
    "\n",
    "# Exibir a tabela dinâmica\n",
    "print(tabela_dinamica_classificacao)"
   ]
  },
  {
   "cell_type": "markdown",
   "metadata": {
    "id": "bivdLhPFuCnC"
   },
   "source": [
    "## juntando tabelas\n"
   ]
  },
  {
   "cell_type": "markdown",
   "metadata": {
    "id": "ZzgNa0NMw2Oe"
   },
   "source": [
    "juntando pendencias"
   ]
  },
  {
   "cell_type": "code",
   "execution_count": 124,
   "metadata": {
    "colab": {
     "base_uri": "https://localhost:8080/"
    },
    "id": "LI3Bn5znuKzn",
    "outputId": "8c0500c0-9782-485a-edcb-f5593a12b3fb"
   },
   "outputs": [
    {
     "name": "stdout",
     "output_type": "stream",
     "text": [
      "            CE04_zva70  CE05_zva70  CE11_zva70  CE13_zva70  \\\n",
      "Material                                                     \n",
      "00VD1000             0           0           1           0   \n",
      "113620270            0           0           4           0   \n",
      "25AA42570            2           0           0           0   \n",
      "500030320            0           0           3           0   \n",
      "55VA32480            0           0           1           0   \n",
      "...                ...         ...         ...         ...   \n",
      "ACMEM15100           0           0           1           0   \n",
      "D000BE001            0           0           1           0   \n",
      "SP00-0043            0           0           1           0   \n",
      "V217060003           0           0           3           0   \n",
      "V217100050           0           0           3           0   \n",
      "\n",
      "                                     Denominação  \\\n",
      "Material                                           \n",
      "00VD1000                                  ESCOVA   \n",
      "113620270                           RODA DENTADA   \n",
      "25AA42570                          POLIA DO CABO   \n",
      "500030320                                   ROLO   \n",
      "55VA32480                        FECHO MAGNÉTICO   \n",
      "...                                          ...   \n",
      "ACMEM15100                                 MOTOR   \n",
      "D000BE001   VENTILADOR PRINCIPAL BROTHER HLL6402   \n",
      "SP00-0043                           TERMOSTATO 3   \n",
      "V217060003                                E ring   \n",
      "V217100050                                E ring   \n",
      "\n",
      "                                  Criado por           Canal  \\\n",
      "Material                                                       \n",
      "00VD1000           RODRIGO PEREIRA DOS ANJOS             nan   \n",
      "113620270   REGILENE DE CASSIA LUIZ OLIVEIRA    VENDA DIRETA   \n",
      "25AA42570                          ANA PAULA  VENDA INDIRETA   \n",
      "500030320               THAYS JESUS DE SOUZA    VENDA DIRETA   \n",
      "55VA32480          RODRIGO PEREIRA DOS ANJOS             nan   \n",
      "...                                      ...             ...   \n",
      "ACMEM15100         RODRIGO PEREIRA DOS ANJOS             nan   \n",
      "D000BE001          RODRIGO PEREIRA DOS ANJOS    VENDA DIRETA   \n",
      "SP00-0043   REGILENE DE CASSIA LUIZ OLIVEIRA    VENDA DIRETA   \n",
      "V217060003  REGILENE DE CASSIA LUIZ OLIVEIRA             nan   \n",
      "V217100050  REGILENE DE CASSIA LUIZ OLIVEIRA             nan   \n",
      "\n",
      "            Pendências Gerais  \n",
      "Material                       \n",
      "00VD1000                  0.0  \n",
      "113620270                 0.0  \n",
      "25AA42570                 6.0  \n",
      "500030320                 0.0  \n",
      "55VA32480                 0.0  \n",
      "...                       ...  \n",
      "ACMEM15100                0.0  \n",
      "D000BE001                 0.0  \n",
      "SP00-0043                 0.0  \n",
      "V217060003                1.0  \n",
      "V217100050                0.0  \n",
      "\n",
      "[125 rows x 8 columns]\n"
     ]
    }
   ],
   "source": [
    "# Realizar left join entre as tabelas usando a coluna \"Material\" como chave\n",
    "merged_table_pend = _table_pend.merge(tabela_dinamica_pendente, how='left', left_index=True, right_index=True)\n",
    "\n",
    "# Preencher valores nulos com zero\n",
    "merged_table_pend = merged_table_pend.fillna(0)\n",
    "\n",
    "print(merged_table_pend)\n"
   ]
  },
  {
   "cell_type": "code",
   "execution_count": 125,
   "metadata": {
    "colab": {
     "base_uri": "https://localhost:8080/"
    },
    "id": "AKf46nHiuxjp",
    "outputId": "acbad665-9081-440d-c6f1-1a35169b9d9f"
   },
   "outputs": [
    {
     "data": {
      "text/plain": [
       "Index(['CE04_zva70', 'CE05_zva70', 'CE11_zva70', 'CE13_zva70', 'Denominação',\n",
       "       'Criado por', 'Canal', 'Pendências Gerais'],\n",
       "      dtype='object')"
      ]
     },
     "execution_count": 125,
     "metadata": {},
     "output_type": "execute_result"
    }
   ],
   "source": [
    "merged_table_pend.columns"
   ]
  },
  {
   "cell_type": "markdown",
   "metadata": {
    "id": "ci51sme8uHd4"
   },
   "source": [
    "juntando zstok"
   ]
  },
  {
   "cell_type": "code",
   "execution_count": 126,
   "metadata": {
    "colab": {
     "base_uri": "https://localhost:8080/"
    },
    "id": "qvyGn4s5w--B",
    "outputId": "3578f1ac-d4df-4aeb-a532-3767bf4f14ed"
   },
   "outputs": [
    {
     "name": "stdout",
     "output_type": "stream",
     "text": [
      "            CE01_zstok  CE03_zstok  CE05_zstok  CE07_zstok  CE09_zstok  \\\n",
      "Material                                                                 \n",
      "25AA42570            0           0           0           0           1   \n",
      "55VB83042            0           0           0           5           2   \n",
      "56UA12570            8           0           0           0           1   \n",
      "56UA77260            0           0           0           0           2   \n",
      "56UA78090            4           0           0           0           0   \n",
      "56UAR73900           0           0           0           0           3   \n",
      "65AA26111            0           0           0           2           2   \n",
      "65AA77730            0           0           0           2           0   \n",
      "65AA80112            0           0           0           1           0   \n",
      "9J06M20000           0           0           0           3           2   \n",
      "A00J563600           0           0         723         240           0   \n",
      "A03U720100           0           0           0           1           0   \n",
      "A03U720201           0           0           1           4           0   \n",
      "A03U808201           0           0           0           2           0   \n",
      "A03U861002           0           0           0           1           1   \n",
      "A0G6531401           2           0           0           0           4   \n",
      "A0G6714200           0           0           0           1           1   \n",
      "A0VDR72555           0           0           0           0           0   \n",
      "A161M20101           0           0           0           1           0   \n",
      "A1DU808600           0           0           0           1           1   \n",
      "A1DUR71300           0           0           0           0           0   \n",
      "A1DUR73N00           0           0           0           2           0   \n",
      "A1RF105700           0           0           0           0           1   \n",
      "A21ER70200           0           0           0          16           2   \n",
      "A3PM173301           2           0           0           1           2   \n",
      "A4EUR70200           0           0           0           0           7   \n",
      "A50U760300           0           0           0           0           1   \n",
      "A50U765500           0           0          10           6           4   \n",
      "A50UM50200           0           0           0           2           0   \n",
      "A5AW515900           0           0           0           1           2   \n",
      "A5AW720301           0           0           0           2          10   \n",
      "A5AWR71R11           0           0           0           0           1   \n",
      "A5AWR72300           0           0           0           0           0   \n",
      "A5AWR73011           0           0           0           0           0   \n",
      "A797578100           0           0           0           2           0   \n",
      "A7PU160200           0           0           0           1           0   \n",
      "A7PUM10000           0           0           0           0           0   \n",
      "A7X5740100           0           0           0           0           3   \n",
      "A85CM10100           0           0           0           0           0   \n",
      "A92WR70600           0           0           0           3           0   \n",
      "A92WR70C11           0           0           0           0           0   \n",
      "A92WR71M00           0           0           1           0           0   \n",
      "A9CE722400           0           0           0           0           0   \n",
      "A9CE724100           0           0           0           0           0   \n",
      "A9JTM33001           0           0           0           0           1   \n",
      "A9JTR71200           0           0           1           0           0   \n",
      "A9VE720300           0           0           0           3           2   \n",
      "AA2J578100           0           0           0           0           0   \n",
      "AC0C720300           0           0           0           0           0   \n",
      "AC0C720401           0           0           0           0           0   \n",
      "AC57M50001           0           0           1           0           0   \n",
      "AC57R70111           0           0           0          27          18   \n",
      "SP00-0043            0           0           2           0           3   \n",
      "\n",
      "            CE11_zstok  CE13_zstok  Contr.qualid.  \n",
      "Material                                           \n",
      "25AA42570            2           0              0  \n",
      "55VB83042            0           0              5  \n",
      "56UA12570            0           0              4  \n",
      "56UA77260            0           0              0  \n",
      "56UA78090            1           0              0  \n",
      "56UAR73900           0           0              0  \n",
      "65AA26111            0           0              2  \n",
      "65AA77730            0           0              0  \n",
      "65AA80112            0           0              3  \n",
      "9J06M20000           0           0              1  \n",
      "A00J563600         164        1678           1870  \n",
      "A03U720100           0           0              0  \n",
      "A03U720201           1           0              0  \n",
      "A03U808201           0           0              0  \n",
      "A03U861002           0           0              1  \n",
      "A0G6531401           0           0              4  \n",
      "A0G6714200           4           1              5  \n",
      "A0VDR72555           0           0              1  \n",
      "A161M20101           0           0              0  \n",
      "A1DU808600           0           0              0  \n",
      "A1DUR71300           0           0              3  \n",
      "A1DUR73N00           0           0              0  \n",
      "A1RF105700           0           0              0  \n",
      "A21ER70200          26           2             10  \n",
      "A3PM173301           0           0              0  \n",
      "A4EUR70200           0           0              3  \n",
      "A50U760300           0           0              0  \n",
      "A50U765500           9          35             33  \n",
      "A50UM50200           0           1              0  \n",
      "A5AW515900           1           0              1  \n",
      "A5AW720301           0          12             18  \n",
      "A5AWR71R11           1           0              1  \n",
      "A5AWR72300           0           0             10  \n",
      "A5AWR73011           0           0              3  \n",
      "A797578100           0           0              2  \n",
      "A7PU160200           0           0              0  \n",
      "A7PUM10000           0           0              1  \n",
      "A7X5740100           0           0              2  \n",
      "A85CM10100           0           0              1  \n",
      "A92WR70600           1           0              2  \n",
      "A92WR70C11           5           3              0  \n",
      "A92WR71M00          32          11             20  \n",
      "A9CE722400           0           0              5  \n",
      "A9CE724100           0           0              2  \n",
      "A9JTM33001           0           0              9  \n",
      "A9JTR71200           0           1              0  \n",
      "A9VE720300           2           0              2  \n",
      "AA2J578100           0           0             18  \n",
      "AC0C720300           1           0              0  \n",
      "AC0C720401          10           1              1  \n",
      "AC57M50001           0           0              0  \n",
      "AC57R70111           0           0             20  \n",
      "SP00-0043            0           0              3  \n"
     ]
    }
   ],
   "source": [
    "# Realizar left join entre as tabelas usando a coluna \"Material\" como chave\n",
    "merged_table_zstok = tabela_dinamica_zstok.merge(tabela_dinamica_zstok_qualidade, how='left', left_index=True, right_index=True)\n",
    "\n",
    "# Preencher valores nulos com zero\n",
    "merged_table_zstok = merged_table_zstok.fillna(0)\n",
    "\n",
    "print(merged_table_zstok)"
   ]
  },
  {
   "cell_type": "markdown",
   "metadata": {
    "id": "LYJYChyyxjqz"
   },
   "source": [
    "juntando pend com zstok"
   ]
  },
  {
   "cell_type": "code",
   "execution_count": 127,
   "metadata": {
    "colab": {
     "base_uri": "https://localhost:8080/"
    },
    "id": "_HdLYaYpxdn_",
    "outputId": "ceb9c759-8a39-47c8-f2b1-6b3de627566e"
   },
   "outputs": [
    {
     "name": "stdout",
     "output_type": "stream",
     "text": [
      "            CE04_zva70  CE05_zva70  CE11_zva70  CE13_zva70  \\\n",
      "Material                                                     \n",
      "00VD1000             0           0           1           0   \n",
      "113620270            0           0           4           0   \n",
      "25AA42570            2           0           0           0   \n",
      "500030320            0           0           3           0   \n",
      "55VA32480            0           0           1           0   \n",
      "...                ...         ...         ...         ...   \n",
      "ACMEM15100           0           0           1           0   \n",
      "D000BE001            0           0           1           0   \n",
      "SP00-0043            0           0           1           0   \n",
      "V217060003           0           0           3           0   \n",
      "V217100050           0           0           3           0   \n",
      "\n",
      "                                     Denominação  \\\n",
      "Material                                           \n",
      "00VD1000                                  ESCOVA   \n",
      "113620270                           RODA DENTADA   \n",
      "25AA42570                          POLIA DO CABO   \n",
      "500030320                                   ROLO   \n",
      "55VA32480                        FECHO MAGNÉTICO   \n",
      "...                                          ...   \n",
      "ACMEM15100                                 MOTOR   \n",
      "D000BE001   VENTILADOR PRINCIPAL BROTHER HLL6402   \n",
      "SP00-0043                           TERMOSTATO 3   \n",
      "V217060003                                E ring   \n",
      "V217100050                                E ring   \n",
      "\n",
      "                                  Criado por           Canal  \\\n",
      "Material                                                       \n",
      "00VD1000           RODRIGO PEREIRA DOS ANJOS             nan   \n",
      "113620270   REGILENE DE CASSIA LUIZ OLIVEIRA    VENDA DIRETA   \n",
      "25AA42570                          ANA PAULA  VENDA INDIRETA   \n",
      "500030320               THAYS JESUS DE SOUZA    VENDA DIRETA   \n",
      "55VA32480          RODRIGO PEREIRA DOS ANJOS             nan   \n",
      "...                                      ...             ...   \n",
      "ACMEM15100         RODRIGO PEREIRA DOS ANJOS             nan   \n",
      "D000BE001          RODRIGO PEREIRA DOS ANJOS    VENDA DIRETA   \n",
      "SP00-0043   REGILENE DE CASSIA LUIZ OLIVEIRA    VENDA DIRETA   \n",
      "V217060003  REGILENE DE CASSIA LUIZ OLIVEIRA             nan   \n",
      "V217100050  REGILENE DE CASSIA LUIZ OLIVEIRA             nan   \n",
      "\n",
      "            Pendências Gerais  CE01_zstok  CE03_zstok  CE05_zstok  CE07_zstok  \\\n",
      "Material                                                                        \n",
      "00VD1000                  0.0         0.0         0.0         0.0         0.0   \n",
      "113620270                 0.0         0.0         0.0         0.0         0.0   \n",
      "25AA42570                 6.0         0.0         0.0         0.0         0.0   \n",
      "500030320                 0.0         0.0         0.0         0.0         0.0   \n",
      "55VA32480                 0.0         0.0         0.0         0.0         0.0   \n",
      "...                       ...         ...         ...         ...         ...   \n",
      "ACMEM15100                0.0         0.0         0.0         0.0         0.0   \n",
      "D000BE001                 0.0         0.0         0.0         0.0         0.0   \n",
      "SP00-0043                 0.0         0.0         0.0         2.0         0.0   \n",
      "V217060003                1.0         0.0         0.0         0.0         0.0   \n",
      "V217100050                0.0         0.0         0.0         0.0         0.0   \n",
      "\n",
      "            CE09_zstok  CE11_zstok  CE13_zstok  Contr.qualid.  \n",
      "Material                                                       \n",
      "00VD1000           0.0         0.0         0.0            0.0  \n",
      "113620270          0.0         0.0         0.0            0.0  \n",
      "25AA42570          1.0         2.0         0.0            0.0  \n",
      "500030320          0.0         0.0         0.0            0.0  \n",
      "55VA32480          0.0         0.0         0.0            0.0  \n",
      "...                ...         ...         ...            ...  \n",
      "ACMEM15100         0.0         0.0         0.0            0.0  \n",
      "D000BE001          0.0         0.0         0.0            0.0  \n",
      "SP00-0043          3.0         0.0         0.0            3.0  \n",
      "V217060003         0.0         0.0         0.0            0.0  \n",
      "V217100050         0.0         0.0         0.0            0.0  \n",
      "\n",
      "[125 rows x 16 columns]\n"
     ]
    }
   ],
   "source": [
    "# Realizar left join entre as tabelas usando a coluna \"Material\" como chave\n",
    "merged_table_1 = merged_table_pend.merge(merged_table_zstok, how='left', left_index=True, right_index=True)\n",
    "\n",
    "# Preencher valores nulos com zero\n",
    "merged_table_1 = merged_table_1.fillna(0)\n",
    "\n",
    "print(merged_table_1)"
   ]
  },
  {
   "cell_type": "code",
   "execution_count": 128,
   "metadata": {
    "colab": {
     "base_uri": "https://localhost:8080/"
    },
    "id": "dL-H6otByU60",
    "outputId": "9601c914-cfb4-4039-d691-51021a8b24eb"
   },
   "outputs": [
    {
     "data": {
      "text/plain": [
       "Index(['CE04_zva70', 'CE05_zva70', 'CE11_zva70', 'CE13_zva70', 'Denominação',\n",
       "       'Criado por', 'Canal', 'Pendências Gerais', 'CE01_zstok', 'CE03_zstok',\n",
       "       'CE05_zstok', 'CE07_zstok', 'CE09_zstok', 'CE11_zstok', 'CE13_zstok',\n",
       "       'Contr.qualid.'],\n",
       "      dtype='object')"
      ]
     },
     "execution_count": 128,
     "metadata": {},
     "output_type": "execute_result"
    }
   ],
   "source": [
    "merged_table_1.columns"
   ]
  },
  {
   "cell_type": "markdown",
   "metadata": {
    "id": "FbEdg9w2ynhX"
   },
   "source": [
    "colocando o fup"
   ]
  },
  {
   "cell_type": "code",
   "execution_count": 129,
   "metadata": {
    "colab": {
     "base_uri": "https://localhost:8080/"
    },
    "id": "yVN9twaBya7z",
    "outputId": "9ae1059c-8407-445a-e6ee-cea5761e44c5"
   },
   "outputs": [
    {
     "name": "stdout",
     "output_type": "stream",
     "text": [
      "            CE04_zva70  CE05_zva70  CE11_zva70  CE13_zva70  \\\n",
      "Material                                                     \n",
      "00VD1000             0           0           1           0   \n",
      "113620270            0           0           4           0   \n",
      "25AA42570            2           0           0           0   \n",
      "500030320            0           0           3           0   \n",
      "55VA32480            0           0           1           0   \n",
      "...                ...         ...         ...         ...   \n",
      "ACMEM15100           0           0           1           0   \n",
      "D000BE001            0           0           1           0   \n",
      "SP00-0043            0           0           1           0   \n",
      "V217060003           0           0           3           0   \n",
      "V217100050           0           0           3           0   \n",
      "\n",
      "                                     Denominação  \\\n",
      "Material                                           \n",
      "00VD1000                                  ESCOVA   \n",
      "113620270                           RODA DENTADA   \n",
      "25AA42570                          POLIA DO CABO   \n",
      "500030320                                   ROLO   \n",
      "55VA32480                        FECHO MAGNÉTICO   \n",
      "...                                          ...   \n",
      "ACMEM15100                                 MOTOR   \n",
      "D000BE001   VENTILADOR PRINCIPAL BROTHER HLL6402   \n",
      "SP00-0043                           TERMOSTATO 3   \n",
      "V217060003                                E ring   \n",
      "V217100050                                E ring   \n",
      "\n",
      "                                  Criado por           Canal  \\\n",
      "Material                                                       \n",
      "00VD1000           RODRIGO PEREIRA DOS ANJOS             nan   \n",
      "113620270   REGILENE DE CASSIA LUIZ OLIVEIRA    VENDA DIRETA   \n",
      "25AA42570                          ANA PAULA  VENDA INDIRETA   \n",
      "500030320               THAYS JESUS DE SOUZA    VENDA DIRETA   \n",
      "55VA32480          RODRIGO PEREIRA DOS ANJOS             nan   \n",
      "...                                      ...             ...   \n",
      "ACMEM15100         RODRIGO PEREIRA DOS ANJOS             nan   \n",
      "D000BE001          RODRIGO PEREIRA DOS ANJOS    VENDA DIRETA   \n",
      "SP00-0043   REGILENE DE CASSIA LUIZ OLIVEIRA    VENDA DIRETA   \n",
      "V217060003  REGILENE DE CASSIA LUIZ OLIVEIRA             nan   \n",
      "V217100050  REGILENE DE CASSIA LUIZ OLIVEIRA             nan   \n",
      "\n",
      "            Pendências Gerais  CE01_zstok  CE03_zstok  ...  \\\n",
      "Material                                               ...   \n",
      "00VD1000                  0.0         0.0         0.0  ...   \n",
      "113620270                 0.0         0.0         0.0  ...   \n",
      "25AA42570                 6.0         0.0         0.0  ...   \n",
      "500030320                 0.0         0.0         0.0  ...   \n",
      "55VA32480                 0.0         0.0         0.0  ...   \n",
      "...                       ...         ...         ...  ...   \n",
      "ACMEM15100                0.0         0.0         0.0  ...   \n",
      "D000BE001                 0.0         0.0         0.0  ...   \n",
      "SP00-0043                 0.0         0.0         0.0  ...   \n",
      "V217060003                1.0         0.0         0.0  ...   \n",
      "V217100050                0.0         0.0         0.0  ...   \n",
      "\n",
      "            2024-11-26 00:00:00  2024-11-27 00:00:00  2024-12-07 00:00:00  \\\n",
      "Material                                                                    \n",
      "00VD1000                    0.0                  0.0                  0.0   \n",
      "113620270                   0.0                  0.0                  0.0   \n",
      "25AA42570                   0.0                  0.0                  0.0   \n",
      "500030320                   0.0                  0.0                  0.0   \n",
      "55VA32480                   0.0                  0.0                  0.0   \n",
      "...                         ...                  ...                  ...   \n",
      "ACMEM15100                  0.0                  0.0                  0.0   \n",
      "D000BE001                   0.0                  0.0                  0.0   \n",
      "SP00-0043                   0.0                  0.0                  0.0   \n",
      "V217060003                  0.0                  0.0                  0.0   \n",
      "V217100050                  0.0                  0.0                  0.0   \n",
      "\n",
      "            2024-12-10 00:00:00  2024-12-12 00:00:00  2024-12-20 00:00:00  \\\n",
      "Material                                                                    \n",
      "00VD1000                    0.0                  0.0                  0.0   \n",
      "113620270                   0.0                  0.0                  0.0   \n",
      "25AA42570                   0.0                  0.0                  0.0   \n",
      "500030320                   0.0                  0.0                  0.0   \n",
      "55VA32480                   0.0                  0.0                  0.0   \n",
      "...                         ...                  ...                  ...   \n",
      "ACMEM15100                  0.0                  0.0                  0.0   \n",
      "D000BE001                   0.0                  0.0                  0.0   \n",
      "SP00-0043                   0.0                  0.0                  0.0   \n",
      "V217060003                  0.0                  0.0                  0.0   \n",
      "V217100050                  0.0                  0.0                  0.0   \n",
      "\n",
      "            2024-12-28 00:00:00  2025-01-02 00:00:00  2025-01-09 00:00:00  \\\n",
      "Material                                                                    \n",
      "00VD1000                    0.0                  0.0                  0.0   \n",
      "113620270                   0.0                  0.0                  0.0   \n",
      "25AA42570                   0.0                  0.0                  0.0   \n",
      "500030320                   0.0                  0.0                  0.0   \n",
      "55VA32480                   0.0                  0.0                  0.0   \n",
      "...                         ...                  ...                  ...   \n",
      "ACMEM15100                  0.0                  0.0                  0.0   \n",
      "D000BE001                   0.0                  0.0                  0.0   \n",
      "SP00-0043                   0.0                  0.0                  0.0   \n",
      "V217060003                  1.0                  0.0                  0.0   \n",
      "V217100050                  0.0                  0.0                  0.0   \n",
      "\n",
      "            2025-02-11 00:00:00  \n",
      "Material                         \n",
      "00VD1000                    0.0  \n",
      "113620270                   0.0  \n",
      "25AA42570                   0.0  \n",
      "500030320                   0.0  \n",
      "55VA32480                   0.0  \n",
      "...                         ...  \n",
      "ACMEM15100                  0.0  \n",
      "D000BE001                   0.0  \n",
      "SP00-0043                   0.0  \n",
      "V217060003                  0.0  \n",
      "V217100050                  0.0  \n",
      "\n",
      "[125 rows x 30 columns]\n"
     ]
    }
   ],
   "source": [
    "# Realizar left join entre as tabelas usando a coluna \"Material\" como chave\n",
    "merged_table_2 = merged_table_1.merge(tabela_dinamica_fup, how='left', left_index=True, right_index=True)\n",
    "\n",
    "# Preencher valores nulos com zero\n",
    "merged_table_2 = merged_table_2.fillna(0)\n",
    "\n",
    "print(merged_table_2)"
   ]
  },
  {
   "cell_type": "code",
   "execution_count": 130,
   "metadata": {
    "colab": {
     "base_uri": "https://localhost:8080/"
    },
    "id": "naqhcdgRyzfi",
    "outputId": "05f69321-4df1-4c7f-90e1-815aa97a0390"
   },
   "outputs": [
    {
     "data": {
      "text/plain": [
       "Index([       'CE04_zva70',        'CE05_zva70',        'CE11_zva70',\n",
       "              'CE13_zva70',       'Denominação',        'Criado por',\n",
       "                   'Canal', 'Pendências Gerais',        'CE01_zstok',\n",
       "              'CE03_zstok',        'CE05_zstok',        'CE07_zstok',\n",
       "              'CE09_zstok',        'CE11_zstok',        'CE13_zstok',\n",
       "           'Contr.qualid.', 2024-11-05 00:00:00, 2024-11-14 00:00:00,\n",
       "       2024-11-15 00:00:00, 2024-11-20 00:00:00, 2024-11-26 00:00:00,\n",
       "       2024-11-27 00:00:00, 2024-12-07 00:00:00, 2024-12-10 00:00:00,\n",
       "       2024-12-12 00:00:00, 2024-12-20 00:00:00, 2024-12-28 00:00:00,\n",
       "       2025-01-02 00:00:00, 2025-01-09 00:00:00, 2025-02-11 00:00:00],\n",
       "      dtype='object')"
      ]
     },
     "execution_count": 130,
     "metadata": {},
     "output_type": "execute_result"
    }
   ],
   "source": [
    "merged_table_2.columns"
   ]
  },
  {
   "cell_type": "code",
   "execution_count": 131,
   "metadata": {
    "id": "xV6-3goc1ND_"
   },
   "outputs": [],
   "source": [
    "# Renomear colunas com sufixo \"_x\"\n",
    "#merged_table_2 = merged_table_2.rename(columns=lambda x: x.replace('_x', '_zva70'))\n",
    "\n",
    "# Renomear colunas com sufixo \"_y\"\n",
    "#merged_table_2 = merged_table_2.rename(columns=lambda x: x.replace('_y', '_zstok'))\n"
   ]
  },
  {
   "cell_type": "code",
   "execution_count": 132,
   "metadata": {
    "colab": {
     "base_uri": "https://localhost:8080/"
    },
    "id": "wgPKOqwXMwBn",
    "outputId": "e2b8f186-1d5e-47d1-e988-c86815e0de1b"
   },
   "outputs": [
    {
     "name": "stdout",
     "output_type": "stream",
     "text": [
      "            CE04_zva70  CE05_zva70  CE11_zva70  CE13_zva70  \\\n",
      "Material                                                     \n",
      "00VD1000             0           0           1           0   \n",
      "113620270            0           0           4           0   \n",
      "25AA42570            2           0           0           0   \n",
      "500030320            0           0           3           0   \n",
      "55VA32480            0           0           1           0   \n",
      "...                ...         ...         ...         ...   \n",
      "ACMEM15100           0           0           1           0   \n",
      "D000BE001            0           0           1           0   \n",
      "SP00-0043            0           0           1           0   \n",
      "V217060003           0           0           3           0   \n",
      "V217100050           0           0           3           0   \n",
      "\n",
      "                                     Denominação  \\\n",
      "Material                                           \n",
      "00VD1000                                  ESCOVA   \n",
      "113620270                           RODA DENTADA   \n",
      "25AA42570                          POLIA DO CABO   \n",
      "500030320                                   ROLO   \n",
      "55VA32480                        FECHO MAGNÉTICO   \n",
      "...                                          ...   \n",
      "ACMEM15100                                 MOTOR   \n",
      "D000BE001   VENTILADOR PRINCIPAL BROTHER HLL6402   \n",
      "SP00-0043                           TERMOSTATO 3   \n",
      "V217060003                                E ring   \n",
      "V217100050                                E ring   \n",
      "\n",
      "                                  Criado por           Canal  \\\n",
      "Material                                                       \n",
      "00VD1000           RODRIGO PEREIRA DOS ANJOS             nan   \n",
      "113620270   REGILENE DE CASSIA LUIZ OLIVEIRA    VENDA DIRETA   \n",
      "25AA42570                          ANA PAULA  VENDA INDIRETA   \n",
      "500030320               THAYS JESUS DE SOUZA    VENDA DIRETA   \n",
      "55VA32480          RODRIGO PEREIRA DOS ANJOS             nan   \n",
      "...                                      ...             ...   \n",
      "ACMEM15100         RODRIGO PEREIRA DOS ANJOS             nan   \n",
      "D000BE001          RODRIGO PEREIRA DOS ANJOS    VENDA DIRETA   \n",
      "SP00-0043   REGILENE DE CASSIA LUIZ OLIVEIRA    VENDA DIRETA   \n",
      "V217060003  REGILENE DE CASSIA LUIZ OLIVEIRA             nan   \n",
      "V217100050  REGILENE DE CASSIA LUIZ OLIVEIRA             nan   \n",
      "\n",
      "            Pendências Gerais  CE01_zstok  CE03_zstok  ...  \\\n",
      "Material                                               ...   \n",
      "00VD1000                  0.0         0.0         0.0  ...   \n",
      "113620270                 0.0         0.0         0.0  ...   \n",
      "25AA42570                 6.0         0.0         0.0  ...   \n",
      "500030320                 0.0         0.0         0.0  ...   \n",
      "55VA32480                 0.0         0.0         0.0  ...   \n",
      "...                       ...         ...         ...  ...   \n",
      "ACMEM15100                0.0         0.0         0.0  ...   \n",
      "D000BE001                 0.0         0.0         0.0  ...   \n",
      "SP00-0043                 0.0         0.0         0.0  ...   \n",
      "V217060003                1.0         0.0         0.0  ...   \n",
      "V217100050                0.0         0.0         0.0  ...   \n",
      "\n",
      "            2024-11-27 00:00:00  2024-12-07 00:00:00  2024-12-10 00:00:00  \\\n",
      "Material                                                                    \n",
      "00VD1000                    0.0                  0.0                  0.0   \n",
      "113620270                   0.0                  0.0                  0.0   \n",
      "25AA42570                   0.0                  0.0                  0.0   \n",
      "500030320                   0.0                  0.0                  0.0   \n",
      "55VA32480                   0.0                  0.0                  0.0   \n",
      "...                         ...                  ...                  ...   \n",
      "ACMEM15100                  0.0                  0.0                  0.0   \n",
      "D000BE001                   0.0                  0.0                  0.0   \n",
      "SP00-0043                   0.0                  0.0                  0.0   \n",
      "V217060003                  0.0                  0.0                  0.0   \n",
      "V217100050                  0.0                  0.0                  0.0   \n",
      "\n",
      "            2024-12-12 00:00:00  2024-12-20 00:00:00  2024-12-28 00:00:00  \\\n",
      "Material                                                                    \n",
      "00VD1000                    0.0                  0.0                  0.0   \n",
      "113620270                   0.0                  0.0                  0.0   \n",
      "25AA42570                   0.0                  0.0                  0.0   \n",
      "500030320                   0.0                  0.0                  0.0   \n",
      "55VA32480                   0.0                  0.0                  0.0   \n",
      "...                         ...                  ...                  ...   \n",
      "ACMEM15100                  0.0                  0.0                  0.0   \n",
      "D000BE001                   0.0                  0.0                  0.0   \n",
      "SP00-0043                   0.0                  0.0                  0.0   \n",
      "V217060003                  0.0                  0.0                  1.0   \n",
      "V217100050                  0.0                  0.0                  0.0   \n",
      "\n",
      "            2025-01-02 00:00:00  2025-01-09 00:00:00  2025-02-11 00:00:00  \\\n",
      "Material                                                                    \n",
      "00VD1000                    0.0                  0.0                  0.0   \n",
      "113620270                   0.0                  0.0                  0.0   \n",
      "25AA42570                   0.0                  0.0                  0.0   \n",
      "500030320                   0.0                  0.0                  0.0   \n",
      "55VA32480                   0.0                  0.0                  0.0   \n",
      "...                         ...                  ...                  ...   \n",
      "ACMEM15100                  0.0                  0.0                  0.0   \n",
      "D000BE001                   0.0                  0.0                  0.0   \n",
      "SP00-0043                   0.0                  0.0                  0.0   \n",
      "V217060003                  0.0                  0.0                  0.0   \n",
      "V217100050                  0.0                  0.0                  0.0   \n",
      "\n",
      "            Montante  \n",
      "Material              \n",
      "00VD1000        0.00  \n",
      "113620270       0.11  \n",
      "25AA42570       0.47  \n",
      "500030320       0.44  \n",
      "55VA32480       2.07  \n",
      "...              ...  \n",
      "ACMEM15100     35.76  \n",
      "D000BE001       0.00  \n",
      "SP00-0043       6.51  \n",
      "V217060003      4.71  \n",
      "V217100050     23.53  \n",
      "\n",
      "[125 rows x 31 columns]\n"
     ]
    }
   ],
   "source": [
    "# Realizar left join entre as tabelas usando a coluna \"Material\" como chave\n",
    "merged_table_3 = merged_table_2.merge(tabela_dinamica_fob, how='left', left_index=True, right_index=True)\n",
    "\n",
    "# Preencher valores nulos com zero\n",
    "merged_table_3 = merged_table_3.fillna(0)\n",
    "\n",
    "print(merged_table_3)"
   ]
  },
  {
   "cell_type": "code",
   "execution_count": 133,
   "metadata": {
    "colab": {
     "base_uri": "https://localhost:8080/"
    },
    "id": "qS1JaxmdMvIG",
    "outputId": "5dcd9ada-f328-498f-acf1-fed8241a0cbe"
   },
   "outputs": [
    {
     "name": "stdout",
     "output_type": "stream",
     "text": [
      "            CE04_zva70  CE05_zva70  CE11_zva70  CE13_zva70  \\\n",
      "Material                                                     \n",
      "00VD1000             0           0           1           0   \n",
      "113620270            0           0           4           0   \n",
      "25AA42570            2           0           0           0   \n",
      "500030320            0           0           3           0   \n",
      "55VA32480            0           0           1           0   \n",
      "...                ...         ...         ...         ...   \n",
      "ACMEM15100           0           0           1           0   \n",
      "D000BE001            0           0           1           0   \n",
      "SP00-0043            0           0           1           0   \n",
      "V217060003           0           0           3           0   \n",
      "V217100050           0           0           3           0   \n",
      "\n",
      "                                     Denominação  \\\n",
      "Material                                           \n",
      "00VD1000                                  ESCOVA   \n",
      "113620270                           RODA DENTADA   \n",
      "25AA42570                          POLIA DO CABO   \n",
      "500030320                                   ROLO   \n",
      "55VA32480                        FECHO MAGNÉTICO   \n",
      "...                                          ...   \n",
      "ACMEM15100                                 MOTOR   \n",
      "D000BE001   VENTILADOR PRINCIPAL BROTHER HLL6402   \n",
      "SP00-0043                           TERMOSTATO 3   \n",
      "V217060003                                E ring   \n",
      "V217100050                                E ring   \n",
      "\n",
      "                                  Criado por           Canal  \\\n",
      "Material                                                       \n",
      "00VD1000           RODRIGO PEREIRA DOS ANJOS             nan   \n",
      "113620270   REGILENE DE CASSIA LUIZ OLIVEIRA    VENDA DIRETA   \n",
      "25AA42570                          ANA PAULA  VENDA INDIRETA   \n",
      "500030320               THAYS JESUS DE SOUZA    VENDA DIRETA   \n",
      "55VA32480          RODRIGO PEREIRA DOS ANJOS             nan   \n",
      "...                                      ...             ...   \n",
      "ACMEM15100         RODRIGO PEREIRA DOS ANJOS             nan   \n",
      "D000BE001          RODRIGO PEREIRA DOS ANJOS    VENDA DIRETA   \n",
      "SP00-0043   REGILENE DE CASSIA LUIZ OLIVEIRA    VENDA DIRETA   \n",
      "V217060003  REGILENE DE CASSIA LUIZ OLIVEIRA             nan   \n",
      "V217100050  REGILENE DE CASSIA LUIZ OLIVEIRA             nan   \n",
      "\n",
      "            Pendências Gerais  CE01_zstok  CE03_zstok  ...  \\\n",
      "Material                                               ...   \n",
      "00VD1000                  0.0         0.0         0.0  ...   \n",
      "113620270                 0.0         0.0         0.0  ...   \n",
      "25AA42570                 6.0         0.0         0.0  ...   \n",
      "500030320                 0.0         0.0         0.0  ...   \n",
      "55VA32480                 0.0         0.0         0.0  ...   \n",
      "...                       ...         ...         ...  ...   \n",
      "ACMEM15100                0.0         0.0         0.0  ...   \n",
      "D000BE001                 0.0         0.0         0.0  ...   \n",
      "SP00-0043                 0.0         0.0         0.0  ...   \n",
      "V217060003                1.0         0.0         0.0  ...   \n",
      "V217100050                0.0         0.0         0.0  ...   \n",
      "\n",
      "            2024-12-07 00:00:00  2024-12-10 00:00:00  2024-12-12 00:00:00  \\\n",
      "Material                                                                    \n",
      "00VD1000                    0.0                  0.0                  0.0   \n",
      "113620270                   0.0                  0.0                  0.0   \n",
      "25AA42570                   0.0                  0.0                  0.0   \n",
      "500030320                   0.0                  0.0                  0.0   \n",
      "55VA32480                   0.0                  0.0                  0.0   \n",
      "...                         ...                  ...                  ...   \n",
      "ACMEM15100                  0.0                  0.0                  0.0   \n",
      "D000BE001                   0.0                  0.0                  0.0   \n",
      "SP00-0043                   0.0                  0.0                  0.0   \n",
      "V217060003                  0.0                  0.0                  0.0   \n",
      "V217100050                  0.0                  0.0                  0.0   \n",
      "\n",
      "            2024-12-20 00:00:00  2024-12-28 00:00:00  2025-01-02 00:00:00  \\\n",
      "Material                                                                    \n",
      "00VD1000                    0.0                  0.0                  0.0   \n",
      "113620270                   0.0                  0.0                  0.0   \n",
      "25AA42570                   0.0                  0.0                  0.0   \n",
      "500030320                   0.0                  0.0                  0.0   \n",
      "55VA32480                   0.0                  0.0                  0.0   \n",
      "...                         ...                  ...                  ...   \n",
      "ACMEM15100                  0.0                  0.0                  0.0   \n",
      "D000BE001                   0.0                  0.0                  0.0   \n",
      "SP00-0043                   0.0                  0.0                  0.0   \n",
      "V217060003                  0.0                  1.0                  0.0   \n",
      "V217100050                  0.0                  0.0                  0.0   \n",
      "\n",
      "            2025-01-09 00:00:00  2025-02-11 00:00:00  Montante  \\\n",
      "Material                                                         \n",
      "00VD1000                    0.0                  0.0      0.00   \n",
      "113620270                   0.0                  0.0      0.11   \n",
      "25AA42570                   0.0                  0.0      0.47   \n",
      "500030320                   0.0                  0.0      0.44   \n",
      "55VA32480                   0.0                  0.0      2.07   \n",
      "...                         ...                  ...       ...   \n",
      "ACMEM15100                  0.0                  0.0     35.76   \n",
      "D000BE001                   0.0                  0.0      0.00   \n",
      "SP00-0043                   0.0                  0.0      6.51   \n",
      "V217060003                  0.0                  0.0      4.71   \n",
      "V217100050                  0.0                  0.0     23.53   \n",
      "\n",
      "                                        Modelos Lista Técnica  \n",
      "Material                                                       \n",
      "00VD1000    ACCURIOLABEL 190/BIZHUB PRESS C71CF/ACCURIOLAB...  \n",
      "113620270                                                   0  \n",
      "25AA42570   7075/7085/7255/7272/BIZHUB PRO 920/FORCE85/LT-...  \n",
      "500030320                                                   0  \n",
      "55VA32480   7075/7085/ACCURIOLABEL 190/BIZHUB PRESS C71CF/...  \n",
      "...                                                       ...  \n",
      "ACMEM15100                                      IC-610/IC-611  \n",
      "D000BE001                                                   0  \n",
      "SP00-0043   7075/7085/ACCURIOPRESS 6136P/ACCURIOPRINT 2100...  \n",
      "V217060003  ACCURIOLABEL 230/ACCURIOLABEL 400/ACCURIOPRESS...  \n",
      "V217100050  ACCURIOPRESS 6136P/ACCURIOPRESS 7136P/ACCURIOP...  \n",
      "\n",
      "[125 rows x 32 columns]\n"
     ]
    }
   ],
   "source": [
    "# Realizar left join entre as tabelas usando a coluna \"Material\" como chave\n",
    "merged_table_4 = merged_table_3.merge(tabela_dinamica_pecas, how='left', left_index=True, right_index=True)\n",
    "\n",
    "# Preencher valores nulos com zero\n",
    "merged_table_4 = merged_table_4.fillna(0)\n",
    "\n",
    "print(merged_table_4)"
   ]
  },
  {
   "cell_type": "code",
   "execution_count": 134,
   "metadata": {
    "colab": {
     "base_uri": "https://localhost:8080/"
    },
    "id": "HpeYh95LtwU7",
    "outputId": "9016fcc1-e63a-4b71-99a1-e603ecb6eda2"
   },
   "outputs": [
    {
     "name": "stdout",
     "output_type": "stream",
     "text": [
      "            CE04_zva70  CE05_zva70  CE11_zva70  CE13_zva70  \\\n",
      "Material                                                     \n",
      "00VD1000             0           0           1           0   \n",
      "113620270            0           0           4           0   \n",
      "25AA42570            2           0           0           0   \n",
      "500030320            0           0           3           0   \n",
      "55VA32480            0           0           1           0   \n",
      "...                ...         ...         ...         ...   \n",
      "ACMEM15100           0           0           1           0   \n",
      "D000BE001            0           0           1           0   \n",
      "SP00-0043            0           0           1           0   \n",
      "V217060003           0           0           3           0   \n",
      "V217100050           0           0           3           0   \n",
      "\n",
      "                                     Denominação  \\\n",
      "Material                                           \n",
      "00VD1000                                  ESCOVA   \n",
      "113620270                           RODA DENTADA   \n",
      "25AA42570                          POLIA DO CABO   \n",
      "500030320                                   ROLO   \n",
      "55VA32480                        FECHO MAGNÉTICO   \n",
      "...                                          ...   \n",
      "ACMEM15100                                 MOTOR   \n",
      "D000BE001   VENTILADOR PRINCIPAL BROTHER HLL6402   \n",
      "SP00-0043                           TERMOSTATO 3   \n",
      "V217060003                                E ring   \n",
      "V217100050                                E ring   \n",
      "\n",
      "                                  Criado por           Canal  \\\n",
      "Material                                                       \n",
      "00VD1000           RODRIGO PEREIRA DOS ANJOS             nan   \n",
      "113620270   REGILENE DE CASSIA LUIZ OLIVEIRA    VENDA DIRETA   \n",
      "25AA42570                          ANA PAULA  VENDA INDIRETA   \n",
      "500030320               THAYS JESUS DE SOUZA    VENDA DIRETA   \n",
      "55VA32480          RODRIGO PEREIRA DOS ANJOS             nan   \n",
      "...                                      ...             ...   \n",
      "ACMEM15100         RODRIGO PEREIRA DOS ANJOS             nan   \n",
      "D000BE001          RODRIGO PEREIRA DOS ANJOS    VENDA DIRETA   \n",
      "SP00-0043   REGILENE DE CASSIA LUIZ OLIVEIRA    VENDA DIRETA   \n",
      "V217060003  REGILENE DE CASSIA LUIZ OLIVEIRA             nan   \n",
      "V217100050  REGILENE DE CASSIA LUIZ OLIVEIRA             nan   \n",
      "\n",
      "            Pendências Gerais  CE01_zstok  CE03_zstok  ...  Montante  \\\n",
      "Material                                               ...             \n",
      "00VD1000                  0.0         0.0         0.0  ...      0.00   \n",
      "113620270                 0.0         0.0         0.0  ...      0.11   \n",
      "25AA42570                 6.0         0.0         0.0  ...      0.47   \n",
      "500030320                 0.0         0.0         0.0  ...      0.44   \n",
      "55VA32480                 0.0         0.0         0.0  ...      2.07   \n",
      "...                       ...         ...         ...  ...       ...   \n",
      "ACMEM15100                0.0         0.0         0.0  ...     35.76   \n",
      "D000BE001                 0.0         0.0         0.0  ...      0.00   \n",
      "SP00-0043                 0.0         0.0         0.0  ...      6.51   \n",
      "V217060003                1.0         0.0         0.0  ...      4.71   \n",
      "V217100050                0.0         0.0         0.0  ...     23.53   \n",
      "\n",
      "                                        Modelos Lista Técnica    Material  \\\n",
      "Material                                                                    \n",
      "00VD1000    ACCURIOLABEL 190/BIZHUB PRESS C71CF/ACCURIOLAB...           0   \n",
      "113620270                                                   0           0   \n",
      "25AA42570   7075/7085/7255/7272/BIZHUB PRO 920/FORCE85/LT-...           0   \n",
      "500030320                                                   0           0   \n",
      "55VA32480   7075/7085/ACCURIOLABEL 190/BIZHUB PRESS C71CF/...           0   \n",
      "...                                                       ...         ...   \n",
      "ACMEM15100                                      IC-610/IC-611           0   \n",
      "D000BE001                                                   0           0   \n",
      "SP00-0043   7075/7085/ACCURIOPRESS 6136P/ACCURIOPRINT 2100...           0   \n",
      "V217060003  ACCURIOLABEL 230/ACCURIOLABEL 400/ACCURIOPRESS...  V217060003   \n",
      "V217100050  ACCURIOPRESS 6136P/ACCURIOPRESS 7136P/ACCURIOP...           0   \n",
      "\n",
      "            Similar1  Similar2  Similar3  Similar4  Unnamed: 6  Unnamed: 7  \\\n",
      "Material                                                                     \n",
      "00VD1000           0         0         0         0         0.0         0.0   \n",
      "113620270          0         0         0         0         0.0         0.0   \n",
      "25AA42570          0         0         0         0         0.0         0.0   \n",
      "500030320          0         0         0         0         0.0         0.0   \n",
      "55VA32480          0         0         0         0         0.0         0.0   \n",
      "...              ...       ...       ...       ...         ...         ...   \n",
      "ACMEM15100         0         0         0         0         0.0         0.0   \n",
      "D000BE001          0         0         0         0         0.0         0.0   \n",
      "SP00-0043          0         0         0         0         0.0         0.0   \n",
      "V217060003         -         -         -         -         0.0         0.0   \n",
      "V217100050         0         0         0         0         0.0         0.0   \n",
      "\n",
      "            Unnamed: 8  \n",
      "Material                \n",
      "00VD1000             0  \n",
      "113620270            0  \n",
      "25AA42570            0  \n",
      "500030320            0  \n",
      "55VA32480            0  \n",
      "...                ...  \n",
      "ACMEM15100           0  \n",
      "D000BE001            0  \n",
      "SP00-0043            0  \n",
      "V217060003           0  \n",
      "V217100050           0  \n",
      "\n",
      "[125 rows x 40 columns]\n"
     ]
    },
    {
     "name": "stderr",
     "output_type": "stream",
     "text": [
      "C:\\Users\\fsp_adolpho.salvador\\AppData\\Local\\Temp\\ipykernel_25608\\1465948772.py:5: FutureWarning: Downcasting object dtype arrays on .fillna, .ffill, .bfill is deprecated and will change in a future version. Call result.infer_objects(copy=False) instead. To opt-in to the future behavior, set `pd.set_option('future.no_silent_downcasting', True)`\n",
      "  merged_table_5 = merged_table_5.fillna(0)\n"
     ]
    }
   ],
   "source": [
    "# Realizar left join entre as tabelas usando a coluna \"Material\" como chave\n",
    "merged_table_5 = merged_table_4.merge(tabela_resultados, how='left', left_index=True, right_index=True)\n",
    "\n",
    "# Preencher valores nulos com zero\n",
    "merged_table_5 = merged_table_5.fillna(0)\n",
    "\n",
    "print(merged_table_5)"
   ]
  },
  {
   "cell_type": "code",
   "execution_count": 135,
   "metadata": {
    "colab": {
     "base_uri": "https://localhost:8080/"
    },
    "id": "Av3CKwK00NDx",
    "outputId": "e72e9dfa-df0a-4bbe-a347-edaec60d9fd9"
   },
   "outputs": [
    {
     "name": "stdout",
     "output_type": "stream",
     "text": [
      "            CE04_zva70  CE05_zva70  CE11_zva70  CE13_zva70  \\\n",
      "Material                                                     \n",
      "00VD1000             0           0           1           0   \n",
      "113620270            0           0           4           0   \n",
      "25AA42570            2           0           0           0   \n",
      "500030320            0           0           3           0   \n",
      "55VA32480            0           0           1           0   \n",
      "...                ...         ...         ...         ...   \n",
      "ACMEM15100           0           0           1           0   \n",
      "D000BE001            0           0           1           0   \n",
      "SP00-0043            0           0           1           0   \n",
      "V217060003           0           0           3           0   \n",
      "V217100050           0           0           3           0   \n",
      "\n",
      "                                     Denominação  \\\n",
      "Material                                           \n",
      "00VD1000                                  ESCOVA   \n",
      "113620270                           RODA DENTADA   \n",
      "25AA42570                          POLIA DO CABO   \n",
      "500030320                                   ROLO   \n",
      "55VA32480                        FECHO MAGNÉTICO   \n",
      "...                                          ...   \n",
      "ACMEM15100                                 MOTOR   \n",
      "D000BE001   VENTILADOR PRINCIPAL BROTHER HLL6402   \n",
      "SP00-0043                           TERMOSTATO 3   \n",
      "V217060003                                E ring   \n",
      "V217100050                                E ring   \n",
      "\n",
      "                                  Criado por           Canal  \\\n",
      "Material                                                       \n",
      "00VD1000           RODRIGO PEREIRA DOS ANJOS             nan   \n",
      "113620270   REGILENE DE CASSIA LUIZ OLIVEIRA    VENDA DIRETA   \n",
      "25AA42570                          ANA PAULA  VENDA INDIRETA   \n",
      "500030320               THAYS JESUS DE SOUZA    VENDA DIRETA   \n",
      "55VA32480          RODRIGO PEREIRA DOS ANJOS             nan   \n",
      "...                                      ...             ...   \n",
      "ACMEM15100         RODRIGO PEREIRA DOS ANJOS             nan   \n",
      "D000BE001          RODRIGO PEREIRA DOS ANJOS    VENDA DIRETA   \n",
      "SP00-0043   REGILENE DE CASSIA LUIZ OLIVEIRA    VENDA DIRETA   \n",
      "V217060003  REGILENE DE CASSIA LUIZ OLIVEIRA             nan   \n",
      "V217100050  REGILENE DE CASSIA LUIZ OLIVEIRA             nan   \n",
      "\n",
      "            Pendências Gerais  CE01_zstok  CE03_zstok  ...  \\\n",
      "Material                                               ...   \n",
      "00VD1000                  0.0         0.0         0.0  ...   \n",
      "113620270                 0.0         0.0         0.0  ...   \n",
      "25AA42570                 6.0         0.0         0.0  ...   \n",
      "500030320                 0.0         0.0         0.0  ...   \n",
      "55VA32480                 0.0         0.0         0.0  ...   \n",
      "...                       ...         ...         ...  ...   \n",
      "ACMEM15100                0.0         0.0         0.0  ...   \n",
      "D000BE001                 0.0         0.0         0.0  ...   \n",
      "SP00-0043                 0.0         0.0         0.0  ...   \n",
      "V217060003                1.0         0.0         0.0  ...   \n",
      "V217100050                0.0         0.0         0.0  ...   \n",
      "\n",
      "                                        Modelos Lista Técnica    Material  \\\n",
      "Material                                                                    \n",
      "00VD1000    ACCURIOLABEL 190/BIZHUB PRESS C71CF/ACCURIOLAB...           0   \n",
      "113620270                                                   0           0   \n",
      "25AA42570   7075/7085/7255/7272/BIZHUB PRO 920/FORCE85/LT-...           0   \n",
      "500030320                                                   0           0   \n",
      "55VA32480   7075/7085/ACCURIOLABEL 190/BIZHUB PRESS C71CF/...           0   \n",
      "...                                                       ...         ...   \n",
      "ACMEM15100                                      IC-610/IC-611           0   \n",
      "D000BE001                                                   0           0   \n",
      "SP00-0043   7075/7085/ACCURIOPRESS 6136P/ACCURIOPRINT 2100...           0   \n",
      "V217060003  ACCURIOLABEL 230/ACCURIOLABEL 400/ACCURIOPRESS...  V217060003   \n",
      "V217100050  ACCURIOPRESS 6136P/ACCURIOPRESS 7136P/ACCURIOP...           0   \n",
      "\n",
      "            Similar1  Similar2  Similar3  Similar4  Unnamed: 6  Unnamed: 7  \\\n",
      "Material                                                                     \n",
      "00VD1000           0         0         0         0         0.0         0.0   \n",
      "113620270          0         0         0         0         0.0         0.0   \n",
      "25AA42570          0         0         0         0         0.0         0.0   \n",
      "500030320          0         0         0         0         0.0         0.0   \n",
      "55VA32480          0         0         0         0         0.0         0.0   \n",
      "...              ...       ...       ...       ...         ...         ...   \n",
      "ACMEM15100         0         0         0         0         0.0         0.0   \n",
      "D000BE001          0         0         0         0         0.0         0.0   \n",
      "SP00-0043          0         0         0         0         0.0         0.0   \n",
      "V217060003         -         -         -         -         0.0         0.0   \n",
      "V217100050         0         0         0         0         0.0         0.0   \n",
      "\n",
      "            Unnamed: 8  Durabilidade  \n",
      "Material                              \n",
      "00VD1000             0             0  \n",
      "113620270            0             0  \n",
      "25AA42570            0             0  \n",
      "500030320            0             0  \n",
      "55VA32480            0             0  \n",
      "...                ...           ...  \n",
      "ACMEM15100           0             0  \n",
      "D000BE001            0             0  \n",
      "SP00-0043            0             0  \n",
      "V217060003           0             0  \n",
      "V217100050           0             0  \n",
      "\n",
      "[125 rows x 41 columns]\n"
     ]
    }
   ],
   "source": [
    "# Realizar left join entre as tabelas usando a coluna \"Material\" como chave\n",
    "merged_table_6 = merged_table_5.merge(tabela_dinamica_classificacao, how='left', left_index=True, right_index=True)\n",
    "\n",
    "# Preencher valores nulos com zero\n",
    "merged_table_6 = merged_table_6.fillna(0)\n",
    "\n",
    "print(merged_table_6)"
   ]
  },
  {
   "cell_type": "code",
   "execution_count": 136,
   "metadata": {
    "colab": {
     "base_uri": "https://localhost:8080/"
    },
    "id": "aYCsNgDTujli",
    "outputId": "c3515f20-4a27-401d-fa49-4195f3f8cad2"
   },
   "outputs": [
    {
     "data": {
      "text/plain": [
       "Index([           'CE04_zva70',            'CE05_zva70',\n",
       "                  'CE11_zva70',            'CE13_zva70',\n",
       "                 'Denominação',            'Criado por',\n",
       "                       'Canal',     'Pendências Gerais',\n",
       "                  'CE01_zstok',            'CE03_zstok',\n",
       "                  'CE05_zstok',            'CE07_zstok',\n",
       "                  'CE09_zstok',            'CE11_zstok',\n",
       "                  'CE13_zstok',         'Contr.qualid.',\n",
       "           2024-11-05 00:00:00,     2024-11-14 00:00:00,\n",
       "           2024-11-15 00:00:00,     2024-11-20 00:00:00,\n",
       "           2024-11-26 00:00:00,     2024-11-27 00:00:00,\n",
       "           2024-12-07 00:00:00,     2024-12-10 00:00:00,\n",
       "           2024-12-12 00:00:00,     2024-12-20 00:00:00,\n",
       "           2024-12-28 00:00:00,     2025-01-02 00:00:00,\n",
       "           2025-01-09 00:00:00,     2025-02-11 00:00:00,\n",
       "                    'Montante', 'Modelos Lista Técnica',\n",
       "                    'Material',              'Similar1',\n",
       "                    'Similar2',              'Similar3',\n",
       "                    'Similar4',            'Unnamed: 6',\n",
       "                  'Unnamed: 7',            'Unnamed: 8',\n",
       "                'Durabilidade'],\n",
       "      dtype='object')"
      ]
     },
     "execution_count": 136,
     "metadata": {},
     "output_type": "execute_result"
    }
   ],
   "source": [
    "merged_table_6.columns"
   ]
  },
  {
   "cell_type": "code",
   "execution_count": 137,
   "metadata": {
    "id": "eCzTViJly1uF"
   },
   "outputs": [],
   "source": [
    "# Supondo que você tenha um DataFrame chamado 'merged_table_2'\n",
    "# Certifique-se de ajustar isso conforme necessário com o nome correto do seu DataFrame\n",
    "\n",
    "# Especificar o caminho do arquivo Excel de saída\n",
    "caminho_saida = r'C:\\Users\\fsp_adolpho.salvador\\Desktop\\Konica Minolta\\Desktop Cloud - Documentos\\Desktop\\Py\\Pendencias\\Mapa.xlsx'\n",
    "\n",
    "# Exportar o DataFrame para o arquivo Excel\n",
    "merged_table_6.to_excel(caminho_saida, index=True)\n"
   ]
  },
  {
   "cell_type": "code",
   "execution_count": 138,
   "metadata": {
    "colab": {
     "base_uri": "https://localhost:8080/",
     "height": 187
    },
    "id": "e86m_xIZzbH3",
    "outputId": "df79a1f3-3b9e-48f8-f40c-3e096f901b4e"
   },
   "outputs": [
    {
     "data": {
      "text/plain": [
       "<bound method NDFrame.head of             CE04_zva70  CE05_zva70  CE11_zva70  CE13_zva70  \\\n",
       "Material                                                     \n",
       "00VD1000             0           0           1           0   \n",
       "113620270            0           0           4           0   \n",
       "25AA42570            2           0           0           0   \n",
       "500030320            0           0           3           0   \n",
       "55VA32480            0           0           1           0   \n",
       "...                ...         ...         ...         ...   \n",
       "ACMEM15100           0           0           1           0   \n",
       "D000BE001            0           0           1           0   \n",
       "SP00-0043            0           0           1           0   \n",
       "V217060003           0           0           3           0   \n",
       "V217100050           0           0           3           0   \n",
       "\n",
       "                                     Denominação  \\\n",
       "Material                                           \n",
       "00VD1000                                  ESCOVA   \n",
       "113620270                           RODA DENTADA   \n",
       "25AA42570                          POLIA DO CABO   \n",
       "500030320                                   ROLO   \n",
       "55VA32480                        FECHO MAGNÉTICO   \n",
       "...                                          ...   \n",
       "ACMEM15100                                 MOTOR   \n",
       "D000BE001   VENTILADOR PRINCIPAL BROTHER HLL6402   \n",
       "SP00-0043                           TERMOSTATO 3   \n",
       "V217060003                                E ring   \n",
       "V217100050                                E ring   \n",
       "\n",
       "                                  Criado por           Canal  \\\n",
       "Material                                                       \n",
       "00VD1000           RODRIGO PEREIRA DOS ANJOS             nan   \n",
       "113620270   REGILENE DE CASSIA LUIZ OLIVEIRA    VENDA DIRETA   \n",
       "25AA42570                          ANA PAULA  VENDA INDIRETA   \n",
       "500030320               THAYS JESUS DE SOUZA    VENDA DIRETA   \n",
       "55VA32480          RODRIGO PEREIRA DOS ANJOS             nan   \n",
       "...                                      ...             ...   \n",
       "ACMEM15100         RODRIGO PEREIRA DOS ANJOS             nan   \n",
       "D000BE001          RODRIGO PEREIRA DOS ANJOS    VENDA DIRETA   \n",
       "SP00-0043   REGILENE DE CASSIA LUIZ OLIVEIRA    VENDA DIRETA   \n",
       "V217060003  REGILENE DE CASSIA LUIZ OLIVEIRA             nan   \n",
       "V217100050  REGILENE DE CASSIA LUIZ OLIVEIRA             nan   \n",
       "\n",
       "            Pendências Gerais  CE01_zstok  CE03_zstok  ...  \\\n",
       "Material                                               ...   \n",
       "00VD1000                  0.0         0.0         0.0  ...   \n",
       "113620270                 0.0         0.0         0.0  ...   \n",
       "25AA42570                 6.0         0.0         0.0  ...   \n",
       "500030320                 0.0         0.0         0.0  ...   \n",
       "55VA32480                 0.0         0.0         0.0  ...   \n",
       "...                       ...         ...         ...  ...   \n",
       "ACMEM15100                0.0         0.0         0.0  ...   \n",
       "D000BE001                 0.0         0.0         0.0  ...   \n",
       "SP00-0043                 0.0         0.0         0.0  ...   \n",
       "V217060003                1.0         0.0         0.0  ...   \n",
       "V217100050                0.0         0.0         0.0  ...   \n",
       "\n",
       "                                        Modelos Lista Técnica    Material  \\\n",
       "Material                                                                    \n",
       "00VD1000    ACCURIOLABEL 190/BIZHUB PRESS C71CF/ACCURIOLAB...           0   \n",
       "113620270                                                   0           0   \n",
       "25AA42570   7075/7085/7255/7272/BIZHUB PRO 920/FORCE85/LT-...           0   \n",
       "500030320                                                   0           0   \n",
       "55VA32480   7075/7085/ACCURIOLABEL 190/BIZHUB PRESS C71CF/...           0   \n",
       "...                                                       ...         ...   \n",
       "ACMEM15100                                      IC-610/IC-611           0   \n",
       "D000BE001                                                   0           0   \n",
       "SP00-0043   7075/7085/ACCURIOPRESS 6136P/ACCURIOPRINT 2100...           0   \n",
       "V217060003  ACCURIOLABEL 230/ACCURIOLABEL 400/ACCURIOPRESS...  V217060003   \n",
       "V217100050  ACCURIOPRESS 6136P/ACCURIOPRESS 7136P/ACCURIOP...           0   \n",
       "\n",
       "            Similar1  Similar2  Similar3  Similar4  Unnamed: 6  Unnamed: 7  \\\n",
       "Material                                                                     \n",
       "00VD1000           0         0         0         0         0.0         0.0   \n",
       "113620270          0         0         0         0         0.0         0.0   \n",
       "25AA42570          0         0         0         0         0.0         0.0   \n",
       "500030320          0         0         0         0         0.0         0.0   \n",
       "55VA32480          0         0         0         0         0.0         0.0   \n",
       "...              ...       ...       ...       ...         ...         ...   \n",
       "ACMEM15100         0         0         0         0         0.0         0.0   \n",
       "D000BE001          0         0         0         0         0.0         0.0   \n",
       "SP00-0043          0         0         0         0         0.0         0.0   \n",
       "V217060003         -         -         -         -         0.0         0.0   \n",
       "V217100050         0         0         0         0         0.0         0.0   \n",
       "\n",
       "            Unnamed: 8  Durabilidade  \n",
       "Material                              \n",
       "00VD1000             0             0  \n",
       "113620270            0             0  \n",
       "25AA42570            0             0  \n",
       "500030320            0             0  \n",
       "55VA32480            0             0  \n",
       "...                ...           ...  \n",
       "ACMEM15100           0             0  \n",
       "D000BE001            0             0  \n",
       "SP00-0043            0             0  \n",
       "V217060003           0             0  \n",
       "V217100050           0             0  \n",
       "\n",
       "[125 rows x 41 columns]>"
      ]
     },
     "execution_count": 138,
     "metadata": {},
     "output_type": "execute_result"
    }
   ],
   "source": [
    "merged_table_6.head"
   ]
  },
  {
   "cell_type": "code",
   "execution_count": null,
   "metadata": {
    "id": "lw_1k4QZzb9j"
   },
   "outputs": [],
   "source": [
    "\n",
    "merged_table_6 = pd.read_excel(r'C:\\Users\\fsp_adolpho.salvador\\Desktop\\Konica Minolta\\Desktop Cloud - Documentos\\Desktop\\Py\\Pendencias\\Arquivos\\Mapa.xlsx')\n",
    "\n",
    "ztsd017_data = pd.read_excel(r'C:\\Users\\fsp_adolpho.salvador\\Desktop\\Konica Minolta\\Desktop Cloud - Documentos\\Desktop\\Py\\Pendencias\\Arquivos\\ztsd017.XLSX')\n",
    "\n",
    "merged_table_6.columns = merged_table_6.columns.str.strip()\n",
    "ztsd017_data.columns = ztsd017_data.columns.str.strip()\n",
    "\n",
    "# Função para encontrar o material no Mapa em uma das colunas e retornar o valor de estoque\n",
    "def buscar_estoque(material, df_estoque):\n",
    "    # Verificar se o material existe no ztsd017 e pegar o valor de 'Quant estoque 09/2024'\n",
    "    if material in df_estoque['Material'].values:\n",
    "        return df_estoque.loc[df_estoque['Material'] == material, 'Quant estoque 24/10/2024'].values[0]\n",
    "    return 0  # Se não encontrar o material, retornar 0\n",
    "\n",
    "# Função para verificar o material ou seus similares e buscar o estoque correspondente\n",
    "def buscar_estoque_similar(row, df_estoque):\n",
    "    # Lista de colunas de materiais para verificar (Material, Atual, Similar1, Similar2, Similar3, Similar4)\n",
    "    materiais = [row['Material'], row['Atual'], row['Similar1'], row['Similar2'], row['Similar3'], row['Similar4']]\n",
    "    \n",
    "    # Procurar em cada material e similar\n",
    "    for material in materiais:\n",
    "        estoque = buscar_estoque(material, df_estoque)\n",
    "        if estoque > 0:\n",
    "            return estoque  # Se encontrar estoque, retornar o valor\n",
    "    \n",
    "    return 0  # Retornar 0 se não encontrar estoque\n",
    "\n",
    "# Aplicar a função no DataFrame do Mapa para trazer o estoque da planilha ztsd017\n",
    "merged_table_6['Quant estoque'] = merged_table_6.apply(lambda row: buscar_estoque_similar(row, ztsd017_data), axis=1)\n"
   ]
  },
  {
   "cell_type": "code",
   "execution_count": null,
   "metadata": {},
   "outputs": [],
   "source": [
    "\n",
    "# Especificar o caminho do arquivo Excel de saída\n",
    "caminho_saida = r'C:\\Users\\fsp_adolpho.salvador\\Desktop\\Konica Minolta\\Desktop Cloud - Documentos\\Desktop\\Py\\Pendencias\\Arquivos\\Mapa2.xlsx'\n",
    "\n",
    "# Exportar o DataFrame para o arquivo Excel\n",
    "merged_table_6.to_excel(caminho_saida, index=True)"
   ]
  },
  {
   "cell_type": "code",
   "execution_count": null,
   "metadata": {},
   "outputs": [],
   "source": []
  }
 ],
 "metadata": {
  "colab": {
   "collapsed_sections": [
    "YybzIMWxlALi",
    "O1WlUUCLlErb",
    "1Koc5JwAlIsj",
    "0XgTbAT2JGgy",
    "NVf1Tr1JJKSB"
   ],
   "provenance": []
  },
  "kernelspec": {
   "display_name": "Python 3",
   "name": "python3"
  },
  "language_info": {
   "codemirror_mode": {
    "name": "ipython",
    "version": 3
   },
   "file_extension": ".py",
   "mimetype": "text/x-python",
   "name": "python",
   "nbconvert_exporter": "python",
   "pygments_lexer": "ipython3",
   "version": "3.12.3"
  }
 },
 "nbformat": 4,
 "nbformat_minor": 0
}
