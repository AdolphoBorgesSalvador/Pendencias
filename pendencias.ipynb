{
 "cells": [
  {
   "cell_type": "markdown",
   "metadata": {},
   "source": [
    "# Code"
   ]
  },
  {
   "cell_type": "markdown",
   "metadata": {},
   "source": [
    "## Set"
   ]
  },
  {
   "cell_type": "code",
   "execution_count": 1,
   "metadata": {
    "id": "TocGuzNwlVlT"
   },
   "outputs": [],
   "source": [
    "import pandas as pd"
   ]
  },
  {
   "cell_type": "code",
   "execution_count": 2,
   "metadata": {
    "id": "Bow97gC5gJK3"
   },
   "outputs": [],
   "source": [
    "caminho_pend = r'C:\\Users\\fsp_adolpho.salvador\\Desktop\\Konica Minolta\\Desktop Cloud - Documentos\\Desktop\\Py\\Pendencias\\Arquivos\\PEND.XLSX'\n",
    "caminho_pend_geral = r'C:\\Users\\fsp_adolpho.salvador\\Desktop\\Konica Minolta\\Desktop Cloud - Documentos\\Desktop\\Py\\Pendencias\\Arquivos\\pend geral.XLSX'\n",
    "caminho_zstok = r'C:\\Users\\fsp_adolpho.salvador\\Desktop\\Konica Minolta\\Desktop Cloud - Documentos\\Desktop\\Py\\Pendencias\\Arquivos\\zstok.XLSX'\n",
    "caminho_fup = r'C:\\Users\\fsp_adolpho.salvador\\Desktop\\Konica Minolta\\Desktop Cloud - Documentos\\Desktop\\Py\\Pendencias\\Arquivos\\fup.XLSX'\n",
    "caminho_fob = r'C:\\Users\\fsp_adolpho.salvador\\Desktop\\Konica Minolta\\Desktop Cloud - Documentos\\Desktop\\Py\\Pendencias\\Arquivos\\ZTMM069.XLSX'\n",
    "caminho_pecas = r'C:\\Users\\fsp_adolpho.salvador\\Desktop\\Konica Minolta\\Desktop Cloud - Documentos\\Desktop\\Py\\Pendencias\\Arquivos\\ZTMM085.XLSX'\n",
    "caminho_atuais = r'C:\\Users\\fsp_adolpho.salvador\\Desktop\\Konica Minolta\\Desktop Cloud - Documentos\\Desktop\\Py\\Pendencias\\Arquivos\\atuais.xlsx'\n",
    "caminho_classificacao =r'C:\\Users\\fsp_adolpho.salvador\\Desktop\\Konica Minolta\\Desktop Cloud - Documentos\\Desktop\\Py\\Pendencias\\Arquivos\\Classificação das Peças.xlsx'"
   ]
  },
  {
   "cell_type": "markdown",
   "metadata": {
    "id": "YybzIMWxlALi"
   },
   "source": [
    "## Pendências"
   ]
  },
  {
   "cell_type": "code",
   "execution_count": 3,
   "metadata": {
    "id": "PufxUea3lZXr"
   },
   "outputs": [],
   "source": [
    "pendencias = pd.read_excel(caminho_pend)"
   ]
  },
  {
   "cell_type": "code",
   "execution_count": 4,
   "metadata": {
    "colab": {
     "base_uri": "https://localhost:8080/"
    },
    "id": "mV-INAiSmEyU",
    "outputId": "5e4e28da-0cd9-4a18-f3d7-3c702a8d1dae"
   },
   "outputs": [
    {
     "data": {
      "text/plain": [
       "Index(['Nome 1', 'Cliente', 'Doc.vendas', 'Criado em', 'Item', 'Material',\n",
       "       'Denominação', 'Tipo material', 'Centro', 'Quantidade da ordem',\n",
       "       'Qtd.confirm.acumul.', 'Qtd.pendente', 'Unidade venda',\n",
       "       'Data de remessa', 'Criado por', 'Canal', 'Classificação'],\n",
       "      dtype='object')"
      ]
     },
     "execution_count": 4,
     "metadata": {},
     "output_type": "execute_result"
    }
   ],
   "source": [
    "pendencias.columns\n"
   ]
  },
  {
   "cell_type": "code",
   "execution_count": 5,
   "metadata": {
    "colab": {
     "base_uri": "https://localhost:8080/"
    },
    "id": "MeT87jF5qTOq",
    "outputId": "b79fb7db-8211-41ce-9687-0333a4c8814c"
   },
   "outputs": [
    {
     "name": "stdout",
     "output_type": "stream",
     "text": [
      "                           Criado por           Canal\n",
      "0                   ITALO LIMA NOVAES  VENDA INDIRETA\n",
      "1           MARIANA PEREIRA DOS ANJOS  VENDA INDIRETA\n",
      "2           MARIANA PEREIRA DOS ANJOS  VENDA INDIRETA\n",
      "3               JESSIE OLIVEIRA SILVA    VENDA DIRETA\n",
      "4                           ANA PAULA  VENDA INDIRETA\n",
      "..                                ...             ...\n",
      "107       JULIA MARIA MORETO DA SILVA             NaN\n",
      "108       JULIA MARIA MORETO DA SILVA             NaN\n",
      "109       JULIA MARIA MORETO DA SILVA             NaN\n",
      "110       ÁVILA MORAES DE VASCONCELOS    VENDA DIRETA\n",
      "111  REGILENE DE CASSIA LUIZ OLIVEIRA             NaN\n",
      "\n",
      "[112 rows x 2 columns]\n"
     ]
    }
   ],
   "source": [
    "# Substitua a lista pelos nomes das colunas que você deseja visualizar\n",
    "colunas_selecionadas = pendencias[[ 'Criado por',\"Canal\"]]\n",
    "\n",
    "# Exibir as colunas selecionadas\n",
    "print(colunas_selecionadas)\n"
   ]
  },
  {
   "cell_type": "code",
   "execution_count": 6,
   "metadata": {
    "colab": {
     "base_uri": "https://localhost:8080/"
    },
    "id": "rhz6J-PsmXZP",
    "outputId": "310afde0-923c-44ec-c93b-054718245d52"
   },
   "outputs": [
    {
     "name": "stdout",
     "output_type": "stream",
     "text": [
      "O número de linhas em merged_table é: 112\n"
     ]
    }
   ],
   "source": [
    "num_linhas = pendencias.shape[0]\n",
    "\n",
    "# Exibir o número de linhas\n",
    "print(f'O número de linhas em merged_table é: {num_linhas}')\n",
    "\n"
   ]
  },
  {
   "cell_type": "code",
   "execution_count": 7,
   "metadata": {
    "colab": {
     "base_uri": "https://localhost:8080/"
    },
    "id": "y6pzFUwumNdt",
    "outputId": "2d345a72-63c3-4610-827d-ce219e571a66"
   },
   "outputs": [
    {
     "name": "stdout",
     "output_type": "stream",
     "text": [
      "Centro      CE04_zva70  CE05_zva70  CE07_zva70  CE11_zva70  CE13_zva70\n",
      "Material                                                              \n",
      "15AG76710            0           0           0           2           0\n",
      "15BA77031E           0           0           0           0          13\n",
      "20AAR70600           0           0           0           0           1\n",
      "25AA77890            0           0           0           1           0\n",
      "4038258001           0           0           0           1           0\n",
      "...                ...         ...         ...         ...         ...\n",
      "AD7EP72200           1           0           0           0           0\n",
      "AD7ER72500           2           0           0           0           0\n",
      "AD7ER72600           2           0           0           0           0\n",
      "SP00-0220            0           0           0           0          19\n",
      "Z907284300           0           0           0           1           0\n",
      "\n",
      "[99 rows x 5 columns]\n"
     ]
    }
   ],
   "source": [
    "import pandas as pd\n",
    "\n",
    "# Se você já não tiver feito isso, crie a tabela dinâmica como mostrado no código fornecido\n",
    "tabela_dinamica_pend = pd.pivot_table(pendencias, values='Qtd.pendente', index='Material', columns='Centro', aggfunc='sum', fill_value=0)\n",
    "tabela_dinamica_pend = tabela_dinamica_pend.add_suffix('_zva70')\n",
    "\n",
    "# Exibir a tabela dinâmica com as colunas adicionadas\n",
    "print(tabela_dinamica_pend)\n",
    "\n"
   ]
  },
  {
   "cell_type": "code",
   "execution_count": 8,
   "metadata": {
    "colab": {
     "base_uri": "https://localhost:8080/"
    },
    "id": "xu2h5mTo5C2k",
    "outputId": "34a5239c-fda2-4cec-c508-a6a8e7fe12e9"
   },
   "outputs": [
    {
     "name": "stdout",
     "output_type": "stream",
     "text": [
      "                                         Denominação\n",
      "Material                                            \n",
      "15AG76710                                  CORREIA 2\n",
      "15BA77031E                      ENGRENAGEM 27 DENTES\n",
      "20AAR70600                                  LIMPADOR\n",
      "25AA77890                       ENGRENAGEM 36 DENTES\n",
      "4038258001                            ENGRENAGEM 16D\n",
      "...                                              ...\n",
      "AD7EP72200                       ROLO DE LIMPEZA /SP\n",
      "AD7ER72500                       CONJUNTO DE ROLO /1\n",
      "AD7ER72600                       CONJUNTO DE ROLO /2\n",
      "SP00-0220                        TERMOSTATO INFERIOR\n",
      "Z907284300  UNIDADE CIS - LEITOR DE IMAGEM HN12H-X03\n",
      "\n",
      "[99 rows x 1 columns]\n"
     ]
    }
   ],
   "source": [
    "tabela_dinamica_pend2 = pd.pivot_table(pendencias, values='Denominação', index='Material', aggfunc='first', fill_value=0)\n",
    "\n",
    "print(tabela_dinamica_pend2)"
   ]
  },
  {
   "cell_type": "code",
   "execution_count": 9,
   "metadata": {
    "colab": {
     "base_uri": "https://localhost:8080/"
    },
    "id": "f8VigsvV56_B",
    "outputId": "6a55d80c-4884-4b0f-a44b-e3e5b45360b4"
   },
   "outputs": [
    {
     "name": "stdout",
     "output_type": "stream",
     "text": [
      "                                  Criado por\n",
      "Material                                    \n",
      "15AG76710        JULIA MARIA MORETO DA SILVA\n",
      "15BA77031E                   ROBERTA MACHADO\n",
      "20AAR70600         MARIANA PEREIRA DOS ANJOS\n",
      "25AA77890     JOÃO PAULO CLEMENTE DOS SANTOS\n",
      "4038258001       JULIA MARIA MORETO DA SILVA\n",
      "...                                      ...\n",
      "AD7EP72200                    VANESSA ARAUJO\n",
      "AD7ER72500  REGILENE DE CASSIA LUIZ OLIVEIRA\n",
      "AD7ER72600  REGILENE DE CASSIA LUIZ OLIVEIRA\n",
      "SP00-0220                    ROBERTA MACHADO\n",
      "Z907284300             JESSIE OLIVEIRA SILVA\n",
      "\n",
      "[99 rows x 1 columns]\n",
      "                     Canal\n",
      "Material                  \n",
      "15AG76710     VENDA DIRETA\n",
      "15BA77031E  VENDA INDIRETA\n",
      "20AAR70600  VENDA INDIRETA\n",
      "25AA77890              nan\n",
      "4038258001             nan\n",
      "...                    ...\n",
      "AD7EP72200  VENDA INDIRETA\n",
      "AD7ER72500    VENDA DIRETA\n",
      "AD7ER72600    VENDA DIRETA\n",
      "SP00-0220   VENDA INDIRETA\n",
      "Z907284300             nan\n",
      "\n",
      "[99 rows x 1 columns]\n"
     ]
    }
   ],
   "source": [
    "tabela_dinamica_pend3 = pd.pivot_table(pendencias, values='Criado por', index='Material', aggfunc=lambda x: '/'.join(x), fill_value='')\n",
    "tabela_dinamica_pend4 = pd.pivot_table(pendencias, values='Canal', index='Material', aggfunc=lambda x: '/'.join(str(v) for v in x), fill_value='')\n",
    "\n",
    "print(tabela_dinamica_pend3)\n",
    "print(tabela_dinamica_pend4)"
   ]
  },
  {
   "cell_type": "code",
   "execution_count": 10,
   "metadata": {
    "colab": {
     "base_uri": "https://localhost:8080/"
    },
    "id": "Ci8wemth6STh",
    "outputId": "7ff9823c-41db-4015-9075-0858a2011a34"
   },
   "outputs": [
    {
     "name": "stdout",
     "output_type": "stream",
     "text": [
      "            CE04_zva70  CE05_zva70  CE07_zva70  CE11_zva70  CE13_zva70  \\\n",
      "Material                                                                 \n",
      "15AG76710            0           0           0           2           0   \n",
      "15BA77031E           0           0           0           0          13   \n",
      "20AAR70600           0           0           0           0           1   \n",
      "25AA77890            0           0           0           1           0   \n",
      "4038258001           0           0           0           1           0   \n",
      "...                ...         ...         ...         ...         ...   \n",
      "AD7EP72200           1           0           0           0           0   \n",
      "AD7ER72500           2           0           0           0           0   \n",
      "AD7ER72600           2           0           0           0           0   \n",
      "SP00-0220            0           0           0           0          19   \n",
      "Z907284300           0           0           0           1           0   \n",
      "\n",
      "                                         Denominação  \\\n",
      "Material                                               \n",
      "15AG76710                                  CORREIA 2   \n",
      "15BA77031E                      ENGRENAGEM 27 DENTES   \n",
      "20AAR70600                                  LIMPADOR   \n",
      "25AA77890                       ENGRENAGEM 36 DENTES   \n",
      "4038258001                            ENGRENAGEM 16D   \n",
      "...                                              ...   \n",
      "AD7EP72200                       ROLO DE LIMPEZA /SP   \n",
      "AD7ER72500                       CONJUNTO DE ROLO /1   \n",
      "AD7ER72600                       CONJUNTO DE ROLO /2   \n",
      "SP00-0220                        TERMOSTATO INFERIOR   \n",
      "Z907284300  UNIDADE CIS - LEITOR DE IMAGEM HN12H-X03   \n",
      "\n",
      "                                  Criado por           Canal  \n",
      "Material                                                      \n",
      "15AG76710        JULIA MARIA MORETO DA SILVA    VENDA DIRETA  \n",
      "15BA77031E                   ROBERTA MACHADO  VENDA INDIRETA  \n",
      "20AAR70600         MARIANA PEREIRA DOS ANJOS  VENDA INDIRETA  \n",
      "25AA77890     JOÃO PAULO CLEMENTE DOS SANTOS             nan  \n",
      "4038258001       JULIA MARIA MORETO DA SILVA             nan  \n",
      "...                                      ...             ...  \n",
      "AD7EP72200                    VANESSA ARAUJO  VENDA INDIRETA  \n",
      "AD7ER72500  REGILENE DE CASSIA LUIZ OLIVEIRA    VENDA DIRETA  \n",
      "AD7ER72600  REGILENE DE CASSIA LUIZ OLIVEIRA    VENDA DIRETA  \n",
      "SP00-0220                    ROBERTA MACHADO  VENDA INDIRETA  \n",
      "Z907284300             JESSIE OLIVEIRA SILVA             nan  \n",
      "\n",
      "[99 rows x 8 columns]\n"
     ]
    }
   ],
   "source": [
    "# Realizar left join entre as tabelas usando a coluna \"Material\" como chave\n",
    "merged_table_pend = tabela_dinamica_pend.merge(tabela_dinamica_pend2, how='left', left_index=True, right_index=True)\n",
    "merged_table_pend2 = merged_table_pend.merge(tabela_dinamica_pend3, how='left', left_index=True, right_index=True)\n",
    "_table_pend = merged_table_pend2.merge(tabela_dinamica_pend4, how='left', left_index=True, right_index=True)\n",
    "# Preencher valores nulos com zero\n",
    "_table_pend = _table_pend.fillna(0)\n",
    "\n",
    "print(_table_pend)"
   ]
  },
  {
   "cell_type": "markdown",
   "metadata": {
    "id": "O1WlUUCLlErb"
   },
   "source": [
    "## Pendencia geral"
   ]
  },
  {
   "cell_type": "code",
   "execution_count": 11,
   "metadata": {
    "id": "YoDWXIOQneYO"
   },
   "outputs": [],
   "source": [
    "pendencias_geral = pd.read_excel(caminho_pend_geral)"
   ]
  },
  {
   "cell_type": "code",
   "execution_count": 12,
   "metadata": {
    "colab": {
     "base_uri": "https://localhost:8080/"
    },
    "id": "bpySQbrYXNmV",
    "outputId": "f456d55d-360c-4e47-ac6b-622359dca4ef"
   },
   "outputs": [
    {
     "data": {
      "text/plain": [
       "<bound method NDFrame.head of                                  Nome 1  Cliente  Doc.vendas  Criado em  Item  \\\n",
       "0       3EX COM DE PROD. INFORM.LTDA ME     3117      207121 2024-09-12    20   \n",
       "1       3EX COM DE PROD. INFORM.LTDA ME     3117      207287 2024-09-19    50   \n",
       "2       3EX COM DE PROD. INFORM.LTDA ME     3117      207287 2024-09-19   100   \n",
       "3       3EX COM DE PROD. INFORM.LTDA ME     3117      207454 2024-09-25    10   \n",
       "4       3EX COM DE PROD. INFORM.LTDA ME     3117      207454 2024-09-25    20   \n",
       "..                                  ...      ...         ...        ...   ...   \n",
       "670          WBL GRAFICA E EDITORA LTDA    10113    50200746 2024-10-22    10   \n",
       "671          WBL GRAFICA E EDITORA LTDA    10113    50201437 2024-10-31    10   \n",
       "672  WITTE COMERCIO E SERVICOS GRAFICOS     2873    50197564 2024-08-27    10   \n",
       "673  WITTE COMERCIO E SERVICOS GRAFICOS     2873    50199218 2024-09-24    10   \n",
       "674  WITTE COMERCIO E SERVICOS GRAFICOS     2873    50200608 2024-10-18   120   \n",
       "\n",
       "       Material                     Denominação Tipo material Centro  \\\n",
       "0    A50U520001                            ROLO          PCPS   CE13   \n",
       "1    A1DUR73600                      CHAPA GUIA          PCPS   CE13   \n",
       "2    A50U743200            ENGRENAGEM 87 DENTES          PCPS   CE13   \n",
       "3     65AA26111  ROLO DE TRANSFERÊNCIA INFERIOR          PCPS   CE13   \n",
       "4    A50UR70266            UNIDADE DE REVELAÇÃO          PCPS   CE13   \n",
       "..          ...                             ...           ...    ...   \n",
       "670   65AA22290                            MOLA          PCPS   CE11   \n",
       "671  A1RG112800                    Fixing  Part          PCPS   CE11   \n",
       "672  A4EU400800                          TRILHO          PCPS   CE11   \n",
       "673  A9VPR70311                          CORONA          PCPS   CE11   \n",
       "674  A0GD522500               Roller Bearing /B          PCPS   CE11   \n",
       "\n",
       "     Quantidade da ordem  Qtd.confirm.acumul.  Qtd.pendente Unidade venda  \\\n",
       "0                      1                    0             1            PÇ   \n",
       "1                      1                    0             1            PÇ   \n",
       "2                      2                    0             2            PÇ   \n",
       "3                      1                    0             1            PÇ   \n",
       "4                      1                    0             1            PÇ   \n",
       "..                   ...                  ...           ...           ...   \n",
       "670                    1                    0             1            PÇ   \n",
       "671                    4                    0             4            PÇ   \n",
       "672                    1                    0             1            PÇ   \n",
       "673                    4                    0             4            PÇ   \n",
       "674                    4                    0             4            PÇ   \n",
       "\n",
       "    Data de remessa                 Criado por           Canal Classificação  \n",
       "0        2024-12-11                  ANA PAULA  VENDA INDIRETA        REV VI  \n",
       "1        2024-12-18  MARIANA PEREIRA DOS ANJOS  VENDA INDIRETA        REV VI  \n",
       "2        2024-12-18  MARIANA PEREIRA DOS ANJOS  VENDA INDIRETA        REV VI  \n",
       "3        2024-12-24  MARIANA PEREIRA DOS ANJOS  VENDA INDIRETA        REV VI  \n",
       "4        2024-12-24  MARIANA PEREIRA DOS ANJOS  VENDA INDIRETA        REV VI  \n",
       "..              ...                        ...             ...           ...  \n",
       "670      2025-01-20  RODRIGO PEREIRA DOS ANJOS             NaN    CLIENTE SP  \n",
       "671      2025-01-29  RODRIGO PEREIRA DOS ANJOS             NaN    CLIENTE SP  \n",
       "672      2024-11-25  RODRIGO PEREIRA DOS ANJOS    VENDA DIRETA    CLIENTE SP  \n",
       "673      2024-12-23          ITALO LIMA NOVAES    VENDA DIRETA    CLIENTE SP  \n",
       "674      2025-01-16             VANESSA ARAUJO    VENDA DIRETA    CLIENTE SP  \n",
       "\n",
       "[675 rows x 17 columns]>"
      ]
     },
     "execution_count": 12,
     "metadata": {},
     "output_type": "execute_result"
    }
   ],
   "source": [
    "pendencias_geral.head"
   ]
  },
  {
   "cell_type": "code",
   "execution_count": 13,
   "metadata": {
    "colab": {
     "base_uri": "https://localhost:8080/"
    },
    "id": "tUlLUsv_nt9O",
    "outputId": "ba253d33-cd8f-49c5-d91d-89298c47b9e6"
   },
   "outputs": [
    {
     "data": {
      "text/plain": [
       "Index(['Nome 1', 'Cliente', 'Doc.vendas', 'Criado em', 'Item', 'Material',\n",
       "       'Denominação', 'Tipo material', 'Centro', 'Quantidade da ordem',\n",
       "       'Qtd.confirm.acumul.', 'Qtd.pendente', 'Unidade venda',\n",
       "       'Data de remessa', 'Criado por', 'Canal', 'Classificação'],\n",
       "      dtype='object')"
      ]
     },
     "execution_count": 13,
     "metadata": {},
     "output_type": "execute_result"
    }
   ],
   "source": [
    "pendencias_geral.columns"
   ]
  },
  {
   "cell_type": "code",
   "execution_count": 14,
   "metadata": {
    "colab": {
     "base_uri": "https://localhost:8080/"
    },
    "id": "RhCXEkBkn-IH",
    "outputId": "f71c9638-eee3-4d8f-a585-c958c53df495"
   },
   "outputs": [
    {
     "name": "stdout",
     "output_type": "stream",
     "text": [
      "               Pendências Gerais\n",
      "Material                        \n",
      "00VC200                        1\n",
      "00VD1000                       1\n",
      "019-11833-006                  2\n",
      "021-14301-208                  2\n",
      "035-14303-001                  2\n",
      "...                          ...\n",
      "V217100050                     3\n",
      "V223150004                     1\n",
      "V223170017                     2\n",
      "V234301650                     1\n",
      "V500020030                     6\n",
      "\n",
      "[540 rows x 1 columns]\n"
     ]
    }
   ],
   "source": [
    "\n",
    "tabela_dinamica_pendente = pd.pivot_table(pendencias_geral, values='Qtd.pendente', index='Material', aggfunc='sum', fill_value=0)\n",
    "\n",
    "tabela_dinamica_pendente = tabela_dinamica_pendente.rename(columns={'Qtd.pendente': 'Pendências Gerais'})\n",
    "\n",
    "print(tabela_dinamica_pendente)\n",
    "\n"
   ]
  },
  {
   "cell_type": "markdown",
   "metadata": {
    "id": "1Koc5JwAlIsj"
   },
   "source": [
    "## zstok"
   ]
  },
  {
   "cell_type": "code",
   "execution_count": 15,
   "metadata": {
    "id": "vjBPjqgdp6aB"
   },
   "outputs": [],
   "source": [
    "zstok = pd.read_excel(caminho_zstok)"
   ]
  },
  {
   "cell_type": "code",
   "execution_count": 16,
   "metadata": {
    "colab": {
     "base_uri": "https://localhost:8080/"
    },
    "id": "J9xNs_oIqE63",
    "outputId": "16958948-75a0-46b6-bb08-80f5ffb652f6"
   },
   "outputs": [
    {
     "data": {
      "text/plain": [
       "Index(['Tipo de material', 'Material', 'Descrição', 'UMB', 'Cen.', 'Dep.',\n",
       "       'Pos.dpst.', 'Utiliz.livre', 'Contr.qualid.', 'Transf.dep.',\n",
       "       'Transfer.(centro)', 'Bloqueado', 'Estoque Total', 'Reservado',\n",
       "       'Remessa->Cliente', 'SC', 'Status todos centros', 'SV',\n",
       "       'Status vendas'],\n",
       "      dtype='object')"
      ]
     },
     "execution_count": 16,
     "metadata": {},
     "output_type": "execute_result"
    }
   ],
   "source": [
    "zstok.columns"
   ]
  },
  {
   "cell_type": "code",
   "execution_count": 17,
   "metadata": {
    "colab": {
     "base_uri": "https://localhost:8080/"
    },
    "id": "5oKNJqiQqXW4",
    "outputId": "21a2b91e-4612-448e-e6e9-c1198a880375"
   },
   "outputs": [
    {
     "name": "stdout",
     "output_type": "stream",
     "text": [
      "Cen.        CE01_zstok  CE03_zstok  CE05_zstok  CE07_zstok  CE09_zstok  \\\n",
      "Material                                                                 \n",
      "15BA77031E           1           0           9           0           3   \n",
      "20AAR70600           0           0           1           0           0   \n",
      "25AA77890            1           0           0           0           0   \n",
      "40AA88031            0           0           0           0           1   \n",
      "55VA29150           12           0           0           0           4   \n",
      "55VB83042            0           0           0           5           2   \n",
      "56UA40600            0           0           0           1           1   \n",
      "56UA77260            0           0           0           0           2   \n",
      "56UAR73900           0           0           0           0           3   \n",
      "65AA27320            0           0           0           0           0   \n",
      "9J06M10300           0           0           0          11           2   \n",
      "A03U553000           0           0           0           1           1   \n",
      "A0G6338411           0           0           0           0           4   \n",
      "A0G6531401           2           0           0           0           4   \n",
      "A0G6532700           0           0          11           0           5   \n",
      "A0G6532800           0           0          23           0           2   \n",
      "A0G6714200           0           0           0           1           1   \n",
      "A0G6M33000           0           0          13           0           1   \n",
      "A161165007           0           0           1           1           0   \n",
      "A1RF105700           0           0           0           1           0   \n",
      "A1RF415600           0           0           0           0           2   \n",
      "A4EUN14100           0           0           7           0           1   \n",
      "A4F3713001           0           0           0           0           3   \n",
      "A4F3R71411           0           0           0           0           0   \n",
      "A50U212600           0           0           0           3           5   \n",
      "A50U629801           0           0           0           0           1   \n",
      "A50U890700           0           0           0           1           1   \n",
      "A50UN10602           0           0           0           1           0   \n",
      "A5AW344100           0           0           0           0           0   \n",
      "A5AW720301           0           0           0           3           9   \n",
      "A5AWR70177           0           0          11           0           6   \n",
      "A5AWR71R11           0           0           0           0           1   \n",
      "A63PPP0400           0           0           1           0           0   \n",
      "A92WR70400           0           0           0           1           2   \n",
      "A92WR70411           0           0           0           0           1   \n",
      "A92WR70744           0           0           0           0           0   \n",
      "A9VE720300           0           0           0           3           0   \n",
      "A9VE720500           0           0           0           6           2   \n",
      "A9VEM31E00           0           0           0           2           1   \n",
      "A9VEM33E00           0           0           4           2           0   \n",
      "AC4GN14400           0           0           2           0           0   \n",
      "SP00-0220            0           0           0           5           3   \n",
      "\n",
      "Cen.        CE11_zstok  CE13_zstok  \n",
      "Material                            \n",
      "15BA77031E           2           0  \n",
      "20AAR70600           1           0  \n",
      "25AA77890            0           0  \n",
      "40AA88031            1           0  \n",
      "55VA29150            0           0  \n",
      "55VB83042            0           2  \n",
      "56UA40600            0           0  \n",
      "56UA77260            0           0  \n",
      "56UAR73900           0           0  \n",
      "65AA27320            0           0  \n",
      "9J06M10300           0           0  \n",
      "A03U553000           0           0  \n",
      "A0G6338411           0           0  \n",
      "A0G6531401           4           0  \n",
      "A0G6532700          24           0  \n",
      "A0G6532800          11           4  \n",
      "A0G6714200           4           0  \n",
      "A0G6M33000           7          11  \n",
      "A161165007           1           0  \n",
      "A1RF105700           0           0  \n",
      "A1RF415600           0           0  \n",
      "A4EUN14100           5          11  \n",
      "A4F3713001           0           0  \n",
      "A4F3R71411           2           0  \n",
      "A50U212600           0           0  \n",
      "A50U629801           0           0  \n",
      "A50U890700           0           0  \n",
      "A50UN10602           0           0  \n",
      "A5AW344100           0           0  \n",
      "A5AW720301           1           1  \n",
      "A5AWR70177           4          12  \n",
      "A5AWR71R11           0           0  \n",
      "A63PPP0400           0           0  \n",
      "A92WR70400           0           0  \n",
      "A92WR70411           0           0  \n",
      "A92WR70744           0           0  \n",
      "A9VE720300           1           0  \n",
      "A9VE720500           2           0  \n",
      "A9VEM31E00           3           0  \n",
      "A9VEM33E00           3           1  \n",
      "AC4GN14400           0           0  \n",
      "SP00-0220            1           0  \n"
     ]
    }
   ],
   "source": [
    "# Criar a tabela dinâmica mantendo 'Cen.' como texto\n",
    "tabela_dinamica_zstok = pd.pivot_table(zstok, values='Utiliz.livre', index='Material', columns='Cen.', aggfunc='sum', fill_value=0)\n",
    "\n",
    "tabela_dinamica_zstok = tabela_dinamica_zstok.add_suffix('_zstok')\n",
    "\n",
    "\n",
    "# Exibir a tabela dinâmica\n",
    "print(tabela_dinamica_zstok)"
   ]
  },
  {
   "cell_type": "code",
   "execution_count": 18,
   "metadata": {
    "colab": {
     "base_uri": "https://localhost:8080/"
    },
    "id": "LZin8zUcqj6R",
    "outputId": "1c9badb8-038a-45a2-c3c7-898bb74e63ae"
   },
   "outputs": [
    {
     "name": "stdout",
     "output_type": "stream",
     "text": [
      "            Contr.qualid.\n",
      "Material                 \n",
      "15BA77031E              0\n",
      "20AAR70600              0\n",
      "25AA77890               0\n",
      "40AA88031               2\n",
      "55VA29150               0\n",
      "55VB83042               0\n",
      "56UA40600               0\n",
      "56UA77260               0\n",
      "56UAR73900              0\n",
      "65AA27320               2\n",
      "9J06M10300              1\n",
      "A03U553000              0\n",
      "A0G6338411              0\n",
      "A0G6531401              1\n",
      "A0G6532700              1\n",
      "A0G6532800              1\n",
      "A0G6714200              0\n",
      "A0G6M33000              3\n",
      "A161165007              0\n",
      "A1RF105700              0\n",
      "A1RF415600              0\n",
      "A4EUN14100              1\n",
      "A4F3713001              0\n",
      "A4F3R71411              0\n",
      "A50U212600              3\n",
      "A50U629801              0\n",
      "A50U890700              1\n",
      "A50UN10602              0\n",
      "A5AW344100              1\n",
      "A5AW720301              3\n",
      "A5AWR70177              4\n",
      "A5AWR71R11              1\n",
      "A63PPP0400              0\n",
      "A92WR70400              0\n",
      "A92WR70411              0\n",
      "A92WR70744              0\n",
      "A9VE720300              2\n",
      "A9VE720500              2\n",
      "A9VEM31E00              1\n",
      "A9VEM33E00              0\n",
      "AC4GN14400              0\n",
      "SP00-0220               1\n"
     ]
    }
   ],
   "source": [
    "tabela_dinamica_zstok_qualidade = pd.pivot_table(zstok, values='Contr.qualid.', index='Material', aggfunc='sum', fill_value=0)\n",
    "\n",
    "# Exibir a tabela dinâmica\n",
    "print(tabela_dinamica_zstok_qualidade)"
   ]
  },
  {
   "cell_type": "markdown",
   "metadata": {
    "id": "oyZA1kH0lKbC"
   },
   "source": [
    "## fup\n"
   ]
  },
  {
   "cell_type": "code",
   "execution_count": 19,
   "metadata": {
    "id": "X97OK4fSq87_"
   },
   "outputs": [],
   "source": [
    "fup = pd.read_excel(caminho_fup)"
   ]
  },
  {
   "cell_type": "code",
   "execution_count": 20,
   "metadata": {
    "colab": {
     "base_uri": "https://localhost:8080/"
    },
    "id": "mAwSMckrrGZ3",
    "outputId": "31a93d06-cb28-4594-b0c7-9d1e8e28aeeb"
   },
   "outputs": [
    {
     "data": {
      "text/plain": [
       "Index(['Nº Sequência do Embarque', 'Nº do Pedido', 'Data Pedido', 'Centro',\n",
       "       'Depósito', 'Pos.Dep.MM', 'Pos.Dep.WM', 'Cod. Fornecedor',\n",
       "       'Nome Fornecedor', 'Item', 'Saldo Pedido', 'UMP', 'UMP.1', 'UMP.2',\n",
       "       'Material', 'Texto Breve', 'Qtde Pedido', 'Vl. Total Pedido', 'Moeda',\n",
       "       'Data de Remessa', 'Data Estatística', 'Sua Referência',\n",
       "       'Nossa Referência', 'Embarque', 'Meio de Transporte', 'Meio Embarque',\n",
       "       'Nº do Conhecimento', 'Data do BL', 'Data de Chegada', 'Declaração',\n",
       "       'Dt.Registro', 'Dt.Desembaraço', 'Qtde. Desembarcada',\n",
       "       'Referência de Fatura', 'Data da Fatura', 'Valor da Fatura',\n",
       "       'Data Prev.Entrada', 'Dt. Recebimento', 'Recebimento', 'Peso Líquido',\n",
       "       'Un', 'Cód.NCM', 'Fabricante', 'Num.conversão', 'Qtd.Ped.UMB',\n",
       "       'TipoMat', 'Data total'],\n",
       "      dtype='object')"
      ]
     },
     "execution_count": 20,
     "metadata": {},
     "output_type": "execute_result"
    }
   ],
   "source": [
    "fup.columns"
   ]
  },
  {
   "cell_type": "code",
   "execution_count": 21,
   "metadata": {
    "colab": {
     "base_uri": "https://localhost:8080/"
    },
    "id": "ZQLPORuFrZqq",
    "outputId": "cb049f34-4631-4599-cc28-d437693cb6f6"
   },
   "outputs": [
    {
     "name": "stdout",
     "output_type": "stream",
     "text": [
      "Data total  2024-11-21  2024-11-26  2024-12-02  2024-12-05  2024-12-21  \\\n",
      "Material                                                                 \n",
      "40AA88031           20           0           0          30           0   \n",
      "500030320            0           0           0           0           0   \n",
      "55VB83042            7           0           0          10           0   \n",
      "56UA40600            0           0           0           0           0   \n",
      "56UA77111            0           0           0           0           0   \n",
      "56UA77260            0           0           0           0           0   \n",
      "56UAR73900           0           0           0           0           0   \n",
      "65AA27320            0           0           0           0           0   \n",
      "9J06M10300           0           0           0           3           0   \n",
      "A03U553000           0           0           0           8           0   \n",
      "A0G6414000           0           0           0           0           0   \n",
      "A0G6531401           0           0           0           0           0   \n",
      "A0G6532700           0           0           0           0           0   \n",
      "A0G6532800          10           0           0           0           0   \n",
      "A0G6714200           0           0           0           9           0   \n",
      "A0P0666301           0           0           1           2           0   \n",
      "A1RF105700           6           0           0          11           0   \n",
      "A1RF415600          10           0           0          22           0   \n",
      "A1RF505400           0           0           0           0           0   \n",
      "A50U212600           5           0           0           0           0   \n",
      "A50U629801           0           0           0           0           0   \n",
      "A50U757000           5           0           0          13           0   \n",
      "A50U890700           2           0           0           0           0   \n",
      "A50UN10602           0           0           0           0           2   \n",
      "A5AW344100           0           0           0           0           0   \n",
      "A5AW720301           0          35           0           0           0   \n",
      "A5AWR71R11           0           0           0           0           0   \n",
      "A79J223101           3           0           0           8           0   \n",
      "A79J226200           0           0           0           2           0   \n",
      "A79J226301           0           0           0           2           0   \n",
      "A92EN10B00           0           0           0           1           0   \n",
      "A92WR70411          12           0           0           8           0   \n",
      "A92WR70744          15           0           0          27           0   \n",
      "A9CE816700           0           0           0           1           0   \n",
      "A9VE720300           0           0           0           0           0   \n",
      "A9VE720500           0           0           0           4           0   \n",
      "A9VEM33E00           0           0           0           0           0   \n",
      "A9VPR71800           0           0           0           3           0   \n",
      "A9VPR77800           2           0           0           2           0   \n",
      "AA2JH02N0L           2           0           0           3           0   \n",
      "AC0C720300           0           3           0           4           0   \n",
      "AC0C728501           0           4           0           2           0   \n",
      "AC0C891400           0           0           0           0           0   \n",
      "AC0CH09011           0           0           0           2           0   \n",
      "AD7ER72500           0           0           0           0           0   \n",
      "AD7ER72600           0           0           0           0           0   \n",
      "Z907284300           0           0           0           1           0   \n",
      "\n",
      "Data total  2024-12-27  2025-01-02  2025-01-05  2025-01-09  2025-01-18  \\\n",
      "Material                                                                 \n",
      "40AA88031            0           0           5           0           0   \n",
      "500030320            3           0           0           0           0   \n",
      "55VB83042            3           0           0           0           9   \n",
      "56UA40600            0           0           2           0           0   \n",
      "56UA77111            3           0           0           0           1   \n",
      "56UA77260            3           0           0           0           0   \n",
      "56UAR73900           7           3           0           0           0   \n",
      "65AA27320            4           0           0           0           3   \n",
      "9J06M10300           0           0           5           0           0   \n",
      "A03U553000           2           0           0           0           0   \n",
      "A0G6414000           1           0           0           0           0   \n",
      "A0G6531401           8           0           0           0          10   \n",
      "A0G6532700          12           0           0           0          20   \n",
      "A0G6532800           0           0           0           0           0   \n",
      "A0G6714200          10           0          11           0           3   \n",
      "A0P0666301           4           0           1           0           1   \n",
      "A1RF105700           5           0           3           0          10   \n",
      "A1RF415600           0           0           0           0           0   \n",
      "A1RF505400           1           0           0           0           0   \n",
      "A50U212600          15           0           0           0          18   \n",
      "A50U629801           0           0           1           0           0   \n",
      "A50U757000           0           0           2           0           2   \n",
      "A50U890700           9           0           2           0           5   \n",
      "A50UN10602           0           0           0           0           0   \n",
      "A5AW344100           2           0           1           0           0   \n",
      "A5AW720301           0           0         110           0          25   \n",
      "A5AWR71R11           5           0           0           0           4   \n",
      "A79J223101           0           0           1           0           2   \n",
      "A79J226200           0           0           3           0           0   \n",
      "A79J226301           0           0           2           0           0   \n",
      "A92EN10B00           0           0           0           0           0   \n",
      "A92WR70411          15           0           0           0          15   \n",
      "A92WR70744           0           0           0           0           7   \n",
      "A9CE816700           0           0           0           0           0   \n",
      "A9VE720300           7           0           3           0           3   \n",
      "A9VE720500           2           0           5           0           1   \n",
      "A9VEM33E00           0           0           1           0           0   \n",
      "A9VPR71800           1           0           1           0           1   \n",
      "A9VPR77800           2           0           0           0           2   \n",
      "AA2JH02N0L           0           0           1           0           0   \n",
      "AC0C720300          20           0           4          10           8   \n",
      "AC0C728501           0           0           4           0           0   \n",
      "AC0C891400           3           0           1           0           0   \n",
      "AC0CH09011           3           0           0           0           1   \n",
      "AD7ER72500           0           0           0           0           0   \n",
      "AD7ER72600           0           0           0           0           0   \n",
      "Z907284300           0           0           0           0           0   \n",
      "\n",
      "Data total  2025-01-19  2025-01-20  2025-01-24  2025-02-11  \n",
      "Material                                                    \n",
      "40AA88031            0           0           0           0  \n",
      "500030320            0           0           0           0  \n",
      "55VB83042            0           0           0           0  \n",
      "56UA40600            0           0           0           0  \n",
      "56UA77111            0           0           0           0  \n",
      "56UA77260            0           0           0           0  \n",
      "56UAR73900           0           0           0           0  \n",
      "65AA27320            0           0           0           0  \n",
      "9J06M10300           0           0           0           0  \n",
      "A03U553000           0           0           0           0  \n",
      "A0G6414000           0           0           0           0  \n",
      "A0G6531401           0          12           0           0  \n",
      "A0G6532700           0           0           0           0  \n",
      "A0G6532800           0           0           0           0  \n",
      "A0G6714200           0           0           0           0  \n",
      "A0P0666301           0           0           0           0  \n",
      "A1RF105700           0           0           0           0  \n",
      "A1RF415600           0           0           0           0  \n",
      "A1RF505400           0           0           0           0  \n",
      "A50U212600           0           0           0           0  \n",
      "A50U629801           0           0           0           0  \n",
      "A50U757000           0           0           0           0  \n",
      "A50U890700           0           0           0           0  \n",
      "A50UN10602           0           0           0           0  \n",
      "A5AW344100           0           0           0           0  \n",
      "A5AW720301           0           0           0           0  \n",
      "A5AWR71R11           0           0           0           0  \n",
      "A79J223101           0           0           0           0  \n",
      "A79J226200           0           0           0           0  \n",
      "A79J226301           0           0           0           0  \n",
      "A92EN10B00           0           0           0           0  \n",
      "A92WR70411           0           0           0           0  \n",
      "A92WR70744           2           0           0           0  \n",
      "A9CE816700           0           0           0           0  \n",
      "A9VE720300           0           0           0           0  \n",
      "A9VE720500           0           0           0           0  \n",
      "A9VEM33E00           0           0           0           0  \n",
      "A9VPR71800           0           0           0           0  \n",
      "A9VPR77800           0           0           0           1  \n",
      "AA2JH02N0L           0           0           0           0  \n",
      "AC0C720300           0           7           0           2  \n",
      "AC0C728501           0           0           0           0  \n",
      "AC0C891400           0           0           0           0  \n",
      "AC0CH09011           0           0           0           2  \n",
      "AD7ER72500           0           0           2           0  \n",
      "AD7ER72600           0           0           2           0  \n",
      "Z907284300           0           0           0           0  \n"
     ]
    }
   ],
   "source": [
    "# Selecione apenas as colunas relevantes do DataFrame 'fup'\n",
    "fup_relevantes = fup[['Material', 'Qtde Pedido', 'Data total']].copy()\n",
    "\n",
    "# Converter 'Data total' para datetime e sobrescrever a coluna original\n",
    "fup_relevantes['Data total'] = pd.to_datetime(fup_relevantes['Data total'], errors='coerce')\n",
    "\n",
    "# Criar uma nova coluna 'MesAno' no formato desejado\n",
    "fup_relevantes['MesAno'] = fup_relevantes['Data total'].dt.strftime('%b/%y')\n",
    "\n",
    "# Criar a tabela dinâmica\n",
    "tabela_dinamica_fup = pd.pivot_table(fup_relevantes, values='Qtde Pedido', index='Material', columns='Data total', aggfunc='sum', fill_value=0)\n",
    "\n",
    "# Exibir a tabela dinâmica\n",
    "print(tabela_dinamica_fup)\n",
    "\n"
   ]
  },
  {
   "cell_type": "code",
   "execution_count": 22,
   "metadata": {
    "colab": {
     "base_uri": "https://localhost:8080/"
    },
    "id": "IhIEyqhitIuj",
    "outputId": "2d90990f-ae67-44d7-c3c2-1227883fe931"
   },
   "outputs": [
    {
     "name": "stdout",
     "output_type": "stream",
     "text": [
      "Index(['40AA88031', '500030320', '55VB83042', '56UA40600', '56UA77111',\n",
      "       '56UA77260', '56UAR73900', '65AA27320', '9J06M10300', 'A03U553000',\n",
      "       'A0G6414000', 'A0G6531401', 'A0G6532700', 'A0G6532800', 'A0G6714200',\n",
      "       'A0P0666301', 'A1RF105700', 'A1RF415600', 'A1RF505400', 'A50U212600',\n",
      "       'A50U629801', 'A50U757000', 'A50U890700', 'A50UN10602', 'A5AW344100',\n",
      "       'A5AW720301', 'A5AWR71R11', 'A79J223101', 'A79J226200', 'A79J226301',\n",
      "       'A92EN10B00', 'A92WR70411', 'A92WR70744', 'A9CE816700', 'A9VE720300',\n",
      "       'A9VE720500', 'A9VEM33E00', 'A9VPR71800', 'A9VPR77800', 'AA2JH02N0L',\n",
      "       'AC0C720300', 'AC0C728501', 'AC0C891400', 'AC0CH09011', 'AD7ER72500',\n",
      "       'AD7ER72600', 'Z907284300'],\n",
      "      dtype='object', name='Material')\n"
     ]
    }
   ],
   "source": [
    "# Exibir apenas a coluna 'Material' da tabela dinâmica\n",
    "coluna_material = tabela_dinamica_fup.index\n",
    "print(coluna_material)\n"
   ]
  },
  {
   "cell_type": "markdown",
   "metadata": {
    "id": "yDYT1LOElM9z"
   },
   "source": [
    "\n",
    "\n",
    "> Bloco com recuo\n",
    "\n"
   ]
  },
  {
   "cell_type": "markdown",
   "metadata": {
    "id": "0XgTbAT2JGgy"
   },
   "source": [
    "## ZTMM069"
   ]
  },
  {
   "cell_type": "code",
   "execution_count": 23,
   "metadata": {
    "id": "8Z_5A-snLYfW"
   },
   "outputs": [],
   "source": [
    "fob = pd.read_excel(caminho_fob)"
   ]
  },
  {
   "cell_type": "code",
   "execution_count": 24,
   "metadata": {
    "colab": {
     "base_uri": "https://localhost:8080/"
    },
    "id": "H_qd-HWALkIh",
    "outputId": "516748d8-db9e-4597-9c78-d8324a631428"
   },
   "outputs": [
    {
     "data": {
      "text/plain": [
       "<bound method NDFrame.head of       Material        Descrição (PT)                   Descrição (EN)  \\\n",
       "0    500030320                  ROLO          AGITATOR SUPPORT ROLLER   \n",
       "1   4038258001        ENGRENAGEM 16D                         GEAR 16T   \n",
       "2    15AG76710             CORREIA 2     CONVEYANCE DRIVE BELT 2 285L   \n",
       "3   15BA77031E  ENGRENAGEM 27 DENTES                 DRIVE GEAR/C 27T   \n",
       "4   20AAR70600              LIMPADOR               PAPER FEED CLEANER   \n",
       "..         ...                   ...                              ...   \n",
       "91  AD7E720400                  ROLO            Lower Pressure Roller   \n",
       "92  AD7EP72200   ROLO DE LIMPEZA /SP       Fusing Cleaning Roller /SP   \n",
       "93  AD7ER72500   CONJUNTO DE ROLO /1  External Heating Roller /1 Assy   \n",
       "94  AD7ER72600   CONJUNTO DE ROLO /2  External Heating Roller /2 Assy   \n",
       "95   SP00-0220   TERMOSTATO INFERIOR               Thermostat  /Lower   \n",
       "\n",
       "    Fornecedor    Nome do fornecedor  Montante Unid.  por  Vál.desde  TMat  \\\n",
       "0        30194  MARUBENI CORPORATION      0.44   USD    1 2018-04-20  PCPS   \n",
       "1        30194  MARUBENI CORPORATION      1.59   USD    5 2018-04-25  PCPS   \n",
       "2        30194  MARUBENI CORPORATION      1.20   USD    1 2018-05-07  PCPS   \n",
       "3        30194  MARUBENI CORPORATION      0.44   USD    1 2018-04-20  PCPS   \n",
       "4        30194  MARUBENI CORPORATION      3.58   USD    1 2018-05-16  PCPS   \n",
       "..         ...                   ...       ...   ...  ...        ...   ...   \n",
       "91       30194  MARUBENI CORPORATION    236.46   USD    1 2023-11-24  PCPS   \n",
       "92       30194  MARUBENI CORPORATION    562.08   USD    1 2023-11-24  PCPS   \n",
       "93       30194  MARUBENI CORPORATION    173.93   USD    1 2023-11-24  PCPS   \n",
       "94       30194  MARUBENI CORPORATION    213.52   USD    1 2023-11-24  PCPS   \n",
       "95       30194  MARUBENI CORPORATION      3.68   USD    1 2018-04-11  PCPS   \n",
       "\n",
       "    ... Aplicação Pr  GME            GrMerc.Ext  SM Status  Vál.desde.1  \\\n",
       "0   ...         1250   PP                PP P&B NaN    NaN          NaN   \n",
       "1   ...         C352   MC  Multifuncional Color NaN    NaN          NaN   \n",
       "2   ...       C6500P   PC           PP Colorida NaN    NaN          NaN   \n",
       "3   ...          500   MP    Multifuncional P&B NaN    NaN          NaN   \n",
       "4   ...        C70HC   PC           PP Colorida NaN    NaN          NaN   \n",
       "..  ...          ...  ...                   ...  ..    ...          ...   \n",
       "91  ...          NaN  NaN                   NaN NaN    NaN          NaN   \n",
       "92  ...          NaN  NaN                   NaN NaN    NaN          NaN   \n",
       "93  ...          NaN  NaN                   NaN NaN    NaN          NaN   \n",
       "94  ...          NaN  NaN                   NaN NaN    NaN          NaN   \n",
       "95  ...        C71HC   PC           PP Colorida NaN    NaN          NaN   \n",
       "\n",
       "    Criado em  Criado por   ÚltModif  Modif.por  \n",
       "0  2008-01-31    ALMOXSP1 2023-09-25  SSAKAGAWA  \n",
       "1  2006-03-24    ALMOXSP2 2024-06-03  MYAMAMOTO  \n",
       "2  2008-01-30    ALMOXSP1 2021-01-21  SSAKAGAWA  \n",
       "3  2011-06-10    FERNANDA 2024-01-02    VANESSA  \n",
       "4  2008-01-30    ALMOXSP1 2024-08-28     CSILVA  \n",
       "..        ...         ...        ...        ...  \n",
       "91 2023-11-24      CSILVA 2024-11-13     CSILVA  \n",
       "92 2023-11-24      CSILVA 2024-11-13     CSILVA  \n",
       "93 2023-11-24      CSILVA 2024-11-13     CSILVA  \n",
       "94 2023-11-24      CSILVA 2024-11-13     CSILVA  \n",
       "95 2014-04-09    FERNANDA 2024-01-02    VANESSA  \n",
       "\n",
       "[96 rows x 33 columns]>"
      ]
     },
     "execution_count": 24,
     "metadata": {},
     "output_type": "execute_result"
    }
   ],
   "source": [
    "fob.head"
   ]
  },
  {
   "cell_type": "code",
   "execution_count": 25,
   "metadata": {
    "colab": {
     "base_uri": "https://localhost:8080/"
    },
    "id": "1lTXKItfLyxm",
    "outputId": "959a436b-6a95-4ac4-adfe-af16c5b3e86b"
   },
   "outputs": [
    {
     "data": {
      "text/plain": [
       "Index(['Material', 'Descrição (PT)', 'Descrição (EN)', 'Fornecedor',\n",
       "       'Nome do fornecedor', 'Montante', 'Unid.', 'por', 'Vál.desde', 'TMat',\n",
       "       'Tipo Mat', 'SA', 'Setor de atividade', 'GrpMercads.',\n",
       "       'Grupo de mercadorias', 'BU', 'KMI Business Unit', 'PS',\n",
       "       'KMI Print Size', 'C/B', 'KMI Color/BW', 'Printing Speed',\n",
       "       'KMI Develop Name', 'Aplicação Pr', 'GME', 'GrMerc.Ext', 'SM', 'Status',\n",
       "       'Vál.desde.1', 'Criado em', 'Criado por', 'ÚltModif', 'Modif.por'],\n",
       "      dtype='object')"
      ]
     },
     "execution_count": 25,
     "metadata": {},
     "output_type": "execute_result"
    }
   ],
   "source": [
    "fob.columns"
   ]
  },
  {
   "cell_type": "code",
   "execution_count": 26,
   "metadata": {
    "colab": {
     "base_uri": "https://localhost:8080/"
    },
    "id": "QlnxxjAfL4H3",
    "outputId": "268cac4f-b0bf-4e26-e2d9-4be9cdd9b585"
   },
   "outputs": [
    {
     "name": "stdout",
     "output_type": "stream",
     "text": [
      "            Montante\n",
      "Material            \n",
      "15AG76710       1.20\n",
      "15BA77031E      0.44\n",
      "20AAR70600      3.58\n",
      "25AA77890       0.84\n",
      "4038258001      1.59\n",
      "...              ...\n",
      "AD7E720400    236.46\n",
      "AD7EP72200    562.08\n",
      "AD7ER72500    173.93\n",
      "AD7ER72600    213.52\n",
      "SP00-0220       3.68\n",
      "\n",
      "[96 rows x 1 columns]\n"
     ]
    }
   ],
   "source": [
    "# Criar a tabela dinâmica mantendo 'Cen.' como texto\n",
    "tabela_dinamica_fob = pd.pivot_table(fob, values='Montante', index='Material', aggfunc='sum', fill_value=0)\n",
    "\n",
    "# Exibir a tabela dinâmica\n",
    "print(tabela_dinamica_fob)"
   ]
  },
  {
   "cell_type": "markdown",
   "metadata": {
    "id": "NVf1Tr1JJKSB"
   },
   "source": [
    "## ZTMM085\n"
   ]
  },
  {
   "cell_type": "code",
   "execution_count": 27,
   "metadata": {
    "id": "3cxwZD7CMJ1v"
   },
   "outputs": [],
   "source": [
    "pecas = pd.read_excel(caminho_pecas)"
   ]
  },
  {
   "cell_type": "code",
   "execution_count": 28,
   "metadata": {
    "colab": {
     "base_uri": "https://localhost:8080/"
    },
    "id": "rzzl0CqOMUQ1",
    "outputId": "ca909e3f-f61f-42b3-8ed5-42ed6dbe703f"
   },
   "outputs": [
    {
     "data": {
      "text/plain": [
       "<bound method NDFrame.head of               Material                                 Descrição  \\\n",
       "0   000000000500030320                                      ROLO   \n",
       "1   000000004038258001                            ENGRENAGEM 16D   \n",
       "2            15AG76710                                 CORREIA 2   \n",
       "3           15BA77031E                      ENGRENAGEM 27 DENTES   \n",
       "4           20AAR70600                                  LIMPADOR   \n",
       "..                 ...                                       ...   \n",
       "94          AD7EP72200                       ROLO DE LIMPEZA /SP   \n",
       "95          AD7ER72500                       CONJUNTO DE ROLO /1   \n",
       "96          AD7ER72600                       CONJUNTO DE ROLO /2   \n",
       "97           SP00-0220                       TERMOSTATO INFERIOR   \n",
       "98          Z907284300  UNIDADE CIS - LEITOR DE IMAGEM HN12H-X03   \n",
       "\n",
       "   Tipo material          Txt Tipo material GrpMerc    Denom. Grupo Merc.  \\\n",
       "0           PCPS  Produto Coml-Peça-SPO/MAO      50                 Parts   \n",
       "1           PCPS  Produto Coml-Peça-SPO/MAO      50                 Parts   \n",
       "2           PCPS  Produto Coml-Peça-SPO/MAO      50                 Parts   \n",
       "3           PCPS  Produto Coml-Peça-SPO/MAO      50                 Parts   \n",
       "4           PCPS  Produto Coml-Peça-SPO/MAO      50                 Parts   \n",
       "..           ...                        ...     ...                   ...   \n",
       "94          PCPS  Produto Coml-Peça-SPO/MAO      50                 Parts   \n",
       "95          PCPS  Produto Coml-Peça-SPO/MAO      50                 Parts   \n",
       "96          PCPS  Produto Coml-Peça-SPO/MAO      50                 Parts   \n",
       "97          PCPS  Produto Coml-Peça-SPO/MAO      50                 Parts   \n",
       "98          PCPS  Produto Coml-Peça-SPO/MAO    MUBP  Murata NonHW BW:Part   \n",
       "\n",
       "    Stat.centros  Status p/todos centros  Stat.canais  Status p/todos canais  \\\n",
       "0            NaN                     NaN          NaN                    NaN   \n",
       "1            NaN                     NaN          NaN                    NaN   \n",
       "2            NaN                     NaN          NaN                    NaN   \n",
       "3            NaN                     NaN          NaN                    NaN   \n",
       "4            NaN                     NaN          NaN                    NaN   \n",
       "..           ...                     ...          ...                    ...   \n",
       "94           NaN                     NaN          NaN                    NaN   \n",
       "95           NaN                     NaN          NaN                    NaN   \n",
       "96           NaN                     NaN          NaN                    NaN   \n",
       "97           NaN                     NaN          NaN                    NaN   \n",
       "98           NaN                     NaN          NaN                    NaN   \n",
       "\n",
       "                                Modelos Lista Técnica  \n",
       "0                                       PF-701/PF-703  \n",
       "1   BIZHUB C200/BIZHUB C220/BIZHUB C221/BIZHUB C22...  \n",
       "2            FD-501/FD-503/FS-532/FS-532 PK-SD/OT-512  \n",
       "3          LU-201/PF-701/PF-703/PF-704/PF-707/PF-707M  \n",
       "4   LT-211/LU-202/LU-202M/LU-202XL/LU-202XLM/LU-208XL  \n",
       "..                                                ...  \n",
       "94                                   ACCURIOLABEL 400  \n",
       "95                                   ACCURIOLABEL 400  \n",
       "96                                   ACCURIOLABEL 400  \n",
       "97  ACCURIOLABEL 190/BIZHUB PRESS C71CF/ACCURIOLAB...  \n",
       "98                                                NaN  \n",
       "\n",
       "[99 rows x 11 columns]>"
      ]
     },
     "execution_count": 28,
     "metadata": {},
     "output_type": "execute_result"
    }
   ],
   "source": [
    "pecas.head"
   ]
  },
  {
   "cell_type": "code",
   "execution_count": 29,
   "metadata": {
    "colab": {
     "base_uri": "https://localhost:8080/"
    },
    "id": "Jmt1fwl5MX1e",
    "outputId": "8f41556a-8fdd-41ff-dd21-ce5a872001a9"
   },
   "outputs": [
    {
     "data": {
      "text/plain": [
       "Index(['Material', 'Descrição', 'Tipo material', 'Txt Tipo material',\n",
       "       'GrpMerc', 'Denom. Grupo Merc.', 'Stat.centros',\n",
       "       'Status p/todos centros', 'Stat.canais', 'Status p/todos canais',\n",
       "       'Modelos Lista Técnica'],\n",
       "      dtype='object')"
      ]
     },
     "execution_count": 29,
     "metadata": {},
     "output_type": "execute_result"
    }
   ],
   "source": [
    "pecas.columns"
   ]
  },
  {
   "cell_type": "code",
   "execution_count": 30,
   "metadata": {
    "colab": {
     "base_uri": "https://localhost:8080/"
    },
    "id": "dcXHkX_sMaZN",
    "outputId": "71e35be8-b16f-4a58-da73-53aa21222936"
   },
   "outputs": [
    {
     "name": "stdout",
     "output_type": "stream",
     "text": [
      "                                                Modelos Lista Técnica\n",
      "Material                                                             \n",
      "000000000500030320                                      PF-701/PF-703\n",
      "000000004038258001  BIZHUB C200/BIZHUB C220/BIZHUB C221/BIZHUB C22...\n",
      "15AG76710                    FD-501/FD-503/FS-532/FS-532 PK-SD/OT-512\n",
      "15BA77031E                 LU-201/PF-701/PF-703/PF-704/PF-707/PF-707M\n",
      "20AAR70600          LT-211/LU-202/LU-202M/LU-202XL/LU-202XLM/LU-208XL\n",
      "...                                                               ...\n",
      "AD7EP72200                                           ACCURIOLABEL 400\n",
      "AD7ER72500                                           ACCURIOLABEL 400\n",
      "AD7ER72600                                           ACCURIOLABEL 400\n",
      "SP00-0220           ACCURIOLABEL 190/BIZHUB PRESS C71CF/ACCURIOLAB...\n",
      "Z907284300                                                          0\n",
      "\n",
      "[99 rows x 1 columns]\n"
     ]
    }
   ],
   "source": [
    "# Criar a tabela dinâmica mantendo 'Cen.' como texto\n",
    "tabela_dinamica_pecas = pd.pivot_table(pecas, values='Modelos Lista Técnica', index='Material', aggfunc='sum', fill_value=0)\n",
    "\n",
    "# Exibir a tabela dinâmica\n",
    "print(tabela_dinamica_pecas)"
   ]
  },
  {
   "cell_type": "markdown",
   "metadata": {
    "id": "TzPPMAA_jAuT"
   },
   "source": []
  },
  {
   "cell_type": "code",
   "execution_count": null,
   "metadata": {
    "id": "hSdvAHrgi_0y"
   },
   "outputs": [],
   "source": []
  },
  {
   "cell_type": "markdown",
   "metadata": {
    "id": "HBe_enGOjCLL"
   },
   "source": [
    "## codigos atuais"
   ]
  },
  {
   "cell_type": "code",
   "execution_count": 31,
   "metadata": {
    "id": "gGSI_oJ0jGK-"
   },
   "outputs": [],
   "source": [
    "atuais = pd.read_excel(caminho_atuais)"
   ]
  },
  {
   "cell_type": "code",
   "execution_count": 32,
   "metadata": {
    "colab": {
     "base_uri": "https://localhost:8080/"
    },
    "id": "Xw4mM0Rsk3SY",
    "outputId": "2adbef34-e3dc-4eef-abe3-dbcd59deb424"
   },
   "outputs": [
    {
     "data": {
      "text/html": [
       "<div>\n",
       "<style scoped>\n",
       "    .dataframe tbody tr th:only-of-type {\n",
       "        vertical-align: middle;\n",
       "    }\n",
       "\n",
       "    .dataframe tbody tr th {\n",
       "        vertical-align: top;\n",
       "    }\n",
       "\n",
       "    .dataframe thead th {\n",
       "        text-align: right;\n",
       "    }\n",
       "</style>\n",
       "<table border=\"1\" class=\"dataframe\">\n",
       "  <thead>\n",
       "    <tr style=\"text-align: right;\">\n",
       "      <th></th>\n",
       "      <th>Atual</th>\n",
       "      <th>Material</th>\n",
       "      <th>Similar1</th>\n",
       "      <th>Similar2</th>\n",
       "      <th>Similar3</th>\n",
       "      <th>Similar4</th>\n",
       "      <th>Unnamed: 6</th>\n",
       "      <th>Unnamed: 7</th>\n",
       "      <th>Unnamed: 8</th>\n",
       "    </tr>\n",
       "  </thead>\n",
       "  <tbody>\n",
       "    <tr>\n",
       "      <th>0</th>\n",
       "      <td>15AG76710</td>\n",
       "      <td>15AG76710</td>\n",
       "      <td>-</td>\n",
       "      <td>-</td>\n",
       "      <td>-</td>\n",
       "      <td>-</td>\n",
       "      <td>NaN</td>\n",
       "      <td>NaN</td>\n",
       "      <td>NaN</td>\n",
       "    </tr>\n",
       "    <tr>\n",
       "      <th>1</th>\n",
       "      <td>15BA77031E</td>\n",
       "      <td>15BA77031E</td>\n",
       "      <td>15BA77030</td>\n",
       "      <td>-</td>\n",
       "      <td>-</td>\n",
       "      <td>-</td>\n",
       "      <td>NaN</td>\n",
       "      <td>NaN</td>\n",
       "      <td>NaN</td>\n",
       "    </tr>\n",
       "    <tr>\n",
       "      <th>2</th>\n",
       "      <td>20AAR70600</td>\n",
       "      <td>20AAR70600</td>\n",
       "      <td>20AA-4550</td>\n",
       "      <td>-</td>\n",
       "      <td>-</td>\n",
       "      <td>-</td>\n",
       "      <td>NaN</td>\n",
       "      <td>NaN</td>\n",
       "      <td>NaN</td>\n",
       "    </tr>\n",
       "    <tr>\n",
       "      <th>3</th>\n",
       "      <td>25AA77890</td>\n",
       "      <td>25AA77890</td>\n",
       "      <td>-</td>\n",
       "      <td>-</td>\n",
       "      <td>-</td>\n",
       "      <td>-</td>\n",
       "      <td>NaN</td>\n",
       "      <td>NaN</td>\n",
       "      <td>NaN</td>\n",
       "    </tr>\n",
       "    <tr>\n",
       "      <th>4</th>\n",
       "      <td>4038258001</td>\n",
       "      <td>4038258001</td>\n",
       "      <td>-</td>\n",
       "      <td>-</td>\n",
       "      <td>-</td>\n",
       "      <td>-</td>\n",
       "      <td>NaN</td>\n",
       "      <td>NaN</td>\n",
       "      <td>NaN</td>\n",
       "    </tr>\n",
       "    <tr>\n",
       "      <th>...</th>\n",
       "      <td>...</td>\n",
       "      <td>...</td>\n",
       "      <td>...</td>\n",
       "      <td>...</td>\n",
       "      <td>...</td>\n",
       "      <td>...</td>\n",
       "      <td>...</td>\n",
       "      <td>...</td>\n",
       "      <td>...</td>\n",
       "    </tr>\n",
       "    <tr>\n",
       "      <th>107</th>\n",
       "      <td>NaN</td>\n",
       "      <td>NaN</td>\n",
       "      <td>NaN</td>\n",
       "      <td>NaN</td>\n",
       "      <td>NaN</td>\n",
       "      <td>NaN</td>\n",
       "      <td>NaN</td>\n",
       "      <td>NaN</td>\n",
       "      <td>NaN</td>\n",
       "    </tr>\n",
       "    <tr>\n",
       "      <th>108</th>\n",
       "      <td>NaN</td>\n",
       "      <td>NaN</td>\n",
       "      <td>NaN</td>\n",
       "      <td>NaN</td>\n",
       "      <td>NaN</td>\n",
       "      <td>NaN</td>\n",
       "      <td>NaN</td>\n",
       "      <td>NaN</td>\n",
       "      <td>NaN</td>\n",
       "    </tr>\n",
       "    <tr>\n",
       "      <th>109</th>\n",
       "      <td>NaN</td>\n",
       "      <td>NaN</td>\n",
       "      <td>NaN</td>\n",
       "      <td>NaN</td>\n",
       "      <td>NaN</td>\n",
       "      <td>NaN</td>\n",
       "      <td>NaN</td>\n",
       "      <td>NaN</td>\n",
       "      <td>NaN</td>\n",
       "    </tr>\n",
       "    <tr>\n",
       "      <th>110</th>\n",
       "      <td>NaN</td>\n",
       "      <td>NaN</td>\n",
       "      <td>NaN</td>\n",
       "      <td>NaN</td>\n",
       "      <td>NaN</td>\n",
       "      <td>NaN</td>\n",
       "      <td>NaN</td>\n",
       "      <td>NaN</td>\n",
       "      <td>NaN</td>\n",
       "    </tr>\n",
       "    <tr>\n",
       "      <th>111</th>\n",
       "      <td>NaN</td>\n",
       "      <td>NaN</td>\n",
       "      <td>NaN</td>\n",
       "      <td>NaN</td>\n",
       "      <td>NaN</td>\n",
       "      <td>NaN</td>\n",
       "      <td>NaN</td>\n",
       "      <td>NaN</td>\n",
       "      <td></td>\n",
       "    </tr>\n",
       "  </tbody>\n",
       "</table>\n",
       "<p>112 rows × 9 columns</p>\n",
       "</div>"
      ],
      "text/plain": [
       "          Atual    Material   Similar1 Similar2 Similar3 Similar4  Unnamed: 6  \\\n",
       "0     15AG76710   15AG76710          -        -        -        -         NaN   \n",
       "1    15BA77031E  15BA77031E  15BA77030        -        -        -         NaN   \n",
       "2    20AAR70600  20AAR70600  20AA-4550        -        -        -         NaN   \n",
       "3     25AA77890   25AA77890          -        -        -        -         NaN   \n",
       "4    4038258001  4038258001          -        -        -        -         NaN   \n",
       "..          ...         ...        ...      ...      ...      ...         ...   \n",
       "107         NaN         NaN        NaN      NaN      NaN      NaN         NaN   \n",
       "108         NaN         NaN        NaN      NaN      NaN      NaN         NaN   \n",
       "109         NaN         NaN        NaN      NaN      NaN      NaN         NaN   \n",
       "110         NaN         NaN        NaN      NaN      NaN      NaN         NaN   \n",
       "111         NaN         NaN        NaN      NaN      NaN      NaN         NaN   \n",
       "\n",
       "     Unnamed: 7 Unnamed: 8  \n",
       "0           NaN        NaN  \n",
       "1           NaN        NaN  \n",
       "2           NaN        NaN  \n",
       "3           NaN        NaN  \n",
       "4           NaN        NaN  \n",
       "..          ...        ...  \n",
       "107         NaN        NaN  \n",
       "108         NaN        NaN  \n",
       "109         NaN        NaN  \n",
       "110         NaN        NaN  \n",
       "111         NaN             \n",
       "\n",
       "[112 rows x 9 columns]"
      ]
     },
     "execution_count": 32,
     "metadata": {},
     "output_type": "execute_result"
    }
   ],
   "source": [
    "atuais"
   ]
  },
  {
   "cell_type": "code",
   "execution_count": 33,
   "metadata": {
    "colab": {
     "base_uri": "https://localhost:8080/"
    },
    "id": "M93y7tkvlPyx",
    "outputId": "ae148223-39a9-455c-f97d-bae566a23b00"
   },
   "outputs": [
    {
     "data": {
      "text/plain": [
       "Index(['Atual', 'Material', 'Similar1', 'Similar2', 'Similar3', 'Similar4',\n",
       "       'Unnamed: 6', 'Unnamed: 7', 'Unnamed: 8'],\n",
       "      dtype='object')"
      ]
     },
     "execution_count": 33,
     "metadata": {},
     "output_type": "execute_result"
    }
   ],
   "source": [
    "atuais.columns"
   ]
  },
  {
   "cell_type": "code",
   "execution_count": 34,
   "metadata": {
    "colab": {
     "base_uri": "https://localhost:8080/"
    },
    "id": "Ym54xRgBrUo3",
    "outputId": "715a8115-9a14-4b78-e94e-f88a6a011379"
   },
   "outputs": [
    {
     "name": "stdout",
     "output_type": "stream",
     "text": [
      "         Atual    Material    Similar1    Similar2    Similar3 Similar4  \\\n",
      "5    40AA88031   40AA88031   40AA88030  4014174201           -        -   \n",
      "8    55VB83042   55VB83042   55VB83041           -           -        -   \n",
      "9    56UA40600   56UA40600        4498           -           -        -   \n",
      "10   56UA77111   56UA77111   56UA77110           -           -        -   \n",
      "11   56UA77260   56UA77260           -           -           -        -   \n",
      "16  56UAR73900  56UAR73900   56UA-1910           -           -        -   \n",
      "17   65AA27320   65AA27320           -           -           -        -   \n",
      "18  9J06M10300  9J06M10300   65JA80060  9312120031           -        -   \n",
      "19  A03U553000  A03U553000           -           -           -        -   \n",
      "21  A0G6414000  A0G6414000           -           -           -        -   \n",
      "22  A0G6531401  A0G6531401           -           -           -        -   \n",
      "23  A0G6532700  A0G6532700           -           -           -        -   \n",
      "24  A0G6532800  A0G6532800           -           -           -        -   \n",
      "25  A0G6714200  A0G6714200           -           -           -        -   \n",
      "29  A0P0666301  A0P0666301           -           -           -        -   \n",
      "32  A1RF105700  A1RF105700           -           -           -        -   \n",
      "33  A1RF415600  A1RF415600           -           -           -        -   \n",
      "34  A1RF505400  A1RF505400           -           -           -        -   \n",
      "44  A50U212600  A50U212600           -           -           -        -   \n",
      "47  A50U629801  A50U629801           -           -           -        -   \n",
      "48  A50U757000  A50U757000  A50U752401           -           -        -   \n",
      "49  A50U890700  A50U890700           -           -           -        -   \n",
      "50  A50UN10602  A50UN10602           -           -           -        -   \n",
      "52  A5AW344100  A5AW344100           -           -           -        -   \n",
      "53  A5AW720301  A5AW720301  A5AW728500  A5AW720300           -        -   \n",
      "57  A5AWR71R11  A5AWR71R11  A5AWR71R00           -           -        -   \n",
      "60  A79J223101  A79J223101  A79J223100           -           -        -   \n",
      "61  A79J226200  A79J226200           -           -           -        -   \n",
      "62  A79J226301  A79J226301           -           -           -        -   \n",
      "67  A92EN10B00  A92EN10B00           -           -           -        -   \n",
      "69  A92WR70411  A92WR70400  A92WR70400           -           -        -   \n",
      "70  A92WR70411  A92WR70411  A92WR70400           -           -        -   \n",
      "71  A92WR70744  A92WR70744  A92WR70733  A92WR70722  A92WR70700        -   \n",
      "73  A9CE816700  A9CE816700           -           -           -        -   \n",
      "74  A9VE720300  A9VE720300  A9VE720111  A9VE720100           -        -   \n",
      "75  A9VE720500  A9VE720500           -           -           -        -   \n",
      "77  A9VEM33E00  A9VEM33E00           -           -           -        -   \n",
      "79  A9VPR71800  A9VPR71800           -           -           -        -   \n",
      "80  A9VPR77800  A9VPR77800  A9VP769300  A9VP765300           -        -   \n",
      "81  AA2JH02N0L  AA2JH02N0L  AA2JH02N0I  AA2JH02N0H  AA2JH02N06        -   \n",
      "86  AC0C720300  AC0C720300           -           -           -        -   \n",
      "87  AC0C728501  AC0C728501           -           -           -        -   \n",
      "88  AC0C891400  AC0C891400           -           -           -        -   \n",
      "89  AC0CH09011  AC0CH09011  AC0CH09000           -           -        -   \n",
      "95  AD7ER72500  AD7ER72500           -           -           -        -   \n",
      "96  AD7ER72600  AD7ER72600           -           -           -        -   \n",
      "98  Z907284300  Z907284300  Z90728430X           -           -        -   \n",
      "\n",
      "    Unnamed: 6  Unnamed: 7 Unnamed: 8  \n",
      "5          NaN         NaN        NaN  \n",
      "8          NaN         NaN        NaN  \n",
      "9          NaN         NaN        NaN  \n",
      "10         NaN         NaN        NaN  \n",
      "11         NaN         NaN        NaN  \n",
      "16         NaN         NaN        NaN  \n",
      "17         NaN         NaN        NaN  \n",
      "18         NaN         NaN        NaN  \n",
      "19         NaN         NaN        NaN  \n",
      "21         NaN         NaN        NaN  \n",
      "22         NaN         NaN        NaN  \n",
      "23         NaN         NaN        NaN  \n",
      "24         NaN         NaN        NaN  \n",
      "25         NaN         NaN        NaN  \n",
      "29         NaN         NaN        NaN  \n",
      "32         NaN         NaN        NaN  \n",
      "33         NaN         NaN        NaN  \n",
      "34         NaN         NaN        NaN  \n",
      "44         NaN         NaN        NaN  \n",
      "47         NaN         NaN        NaN  \n",
      "48         NaN         NaN        NaN  \n",
      "49         NaN         NaN        NaN  \n",
      "50         NaN         NaN        NaN  \n",
      "52         NaN         NaN        NaN  \n",
      "53         NaN         NaN        NaN  \n",
      "57         NaN         NaN        NaN  \n",
      "60         NaN         NaN        NaN  \n",
      "61         NaN         NaN        NaN  \n",
      "62         NaN         NaN        NaN  \n",
      "67         NaN         NaN        NaN  \n",
      "69         NaN         NaN        NaN  \n",
      "70         NaN         NaN        NaN  \n",
      "71         NaN         NaN        NaN  \n",
      "73         NaN         NaN        NaN  \n",
      "74         NaN         NaN        NaN  \n",
      "75         NaN         NaN        NaN  \n",
      "77         NaN         NaN        NaN  \n",
      "79         NaN         NaN        NaN  \n",
      "80         NaN         NaN        NaN  \n",
      "81         NaN         NaN        NaN  \n",
      "86         NaN         NaN        NaN  \n",
      "87         NaN         NaN        NaN  \n",
      "88         NaN         NaN        NaN  \n",
      "89         NaN         NaN        NaN  \n",
      "95         NaN         NaN        NaN  \n",
      "96         NaN         NaN        NaN  \n",
      "98         NaN         NaN        NaN  \n"
     ]
    }
   ],
   "source": [
    "resultados_filtrados = atuais[atuais['Atual'].isin(coluna_material)]\n",
    "\n",
    "tabela_resultados = pd.DataFrame(resultados_filtrados)\n",
    "\n",
    "# Exibir o novo DataFrame\n",
    "print(tabela_resultados)"
   ]
  },
  {
   "cell_type": "code",
   "execution_count": 35,
   "metadata": {
    "colab": {
     "base_uri": "https://localhost:8080/"
    },
    "id": "RgRZiVAF0gEO",
    "outputId": "b5c38326-6a25-493e-f817-6ae9433cefac"
   },
   "outputs": [
    {
     "name": "stdout",
     "output_type": "stream",
     "text": [
      "              Material    Similar1    Similar2    Similar3 Similar4  \\\n",
      "Atual                                                                 \n",
      "40AA88031    40AA88031   40AA88030  4014174201           -        -   \n",
      "55VB83042    55VB83042   55VB83041           -           -        -   \n",
      "56UA40600    56UA40600        4498           -           -        -   \n",
      "56UA77111    56UA77111   56UA77110           -           -        -   \n",
      "56UA77260    56UA77260           -           -           -        -   \n",
      "56UAR73900  56UAR73900   56UA-1910           -           -        -   \n",
      "65AA27320    65AA27320           -           -           -        -   \n",
      "9J06M10300  9J06M10300   65JA80060  9312120031           -        -   \n",
      "A03U553000  A03U553000           -           -           -        -   \n",
      "A0G6414000  A0G6414000           -           -           -        -   \n",
      "A0G6531401  A0G6531401           -           -           -        -   \n",
      "A0G6532700  A0G6532700           -           -           -        -   \n",
      "A0G6532800  A0G6532800           -           -           -        -   \n",
      "A0G6714200  A0G6714200           -           -           -        -   \n",
      "A0P0666301  A0P0666301           -           -           -        -   \n",
      "A1RF105700  A1RF105700           -           -           -        -   \n",
      "A1RF415600  A1RF415600           -           -           -        -   \n",
      "A1RF505400  A1RF505400           -           -           -        -   \n",
      "A50U212600  A50U212600           -           -           -        -   \n",
      "A50U629801  A50U629801           -           -           -        -   \n",
      "A50U757000  A50U757000  A50U752401           -           -        -   \n",
      "A50U890700  A50U890700           -           -           -        -   \n",
      "A50UN10602  A50UN10602           -           -           -        -   \n",
      "A5AW344100  A5AW344100           -           -           -        -   \n",
      "A5AW720301  A5AW720301  A5AW728500  A5AW720300           -        -   \n",
      "A5AWR71R11  A5AWR71R11  A5AWR71R00           -           -        -   \n",
      "A79J223101  A79J223101  A79J223100           -           -        -   \n",
      "A79J226200  A79J226200           -           -           -        -   \n",
      "A79J226301  A79J226301           -           -           -        -   \n",
      "A92EN10B00  A92EN10B00           -           -           -        -   \n",
      "A92WR70411  A92WR70400  A92WR70400           -           -        -   \n",
      "A92WR70411  A92WR70411  A92WR70400           -           -        -   \n",
      "A92WR70744  A92WR70744  A92WR70733  A92WR70722  A92WR70700        -   \n",
      "A9CE816700  A9CE816700           -           -           -        -   \n",
      "A9VE720300  A9VE720300  A9VE720111  A9VE720100           -        -   \n",
      "A9VE720500  A9VE720500           -           -           -        -   \n",
      "A9VEM33E00  A9VEM33E00           -           -           -        -   \n",
      "A9VPR71800  A9VPR71800           -           -           -        -   \n",
      "A9VPR77800  A9VPR77800  A9VP769300  A9VP765300           -        -   \n",
      "AA2JH02N0L  AA2JH02N0L  AA2JH02N0I  AA2JH02N0H  AA2JH02N06        -   \n",
      "AC0C720300  AC0C720300           -           -           -        -   \n",
      "AC0C728501  AC0C728501           -           -           -        -   \n",
      "AC0C891400  AC0C891400           -           -           -        -   \n",
      "AC0CH09011  AC0CH09011  AC0CH09000           -           -        -   \n",
      "AD7ER72500  AD7ER72500           -           -           -        -   \n",
      "AD7ER72600  AD7ER72600           -           -           -        -   \n",
      "Z907284300  Z907284300  Z90728430X           -           -        -   \n",
      "\n",
      "            Unnamed: 6  Unnamed: 7 Unnamed: 8  \n",
      "Atual                                          \n",
      "40AA88031          NaN         NaN        NaN  \n",
      "55VB83042          NaN         NaN        NaN  \n",
      "56UA40600          NaN         NaN        NaN  \n",
      "56UA77111          NaN         NaN        NaN  \n",
      "56UA77260          NaN         NaN        NaN  \n",
      "56UAR73900         NaN         NaN        NaN  \n",
      "65AA27320          NaN         NaN        NaN  \n",
      "9J06M10300         NaN         NaN        NaN  \n",
      "A03U553000         NaN         NaN        NaN  \n",
      "A0G6414000         NaN         NaN        NaN  \n",
      "A0G6531401         NaN         NaN        NaN  \n",
      "A0G6532700         NaN         NaN        NaN  \n",
      "A0G6532800         NaN         NaN        NaN  \n",
      "A0G6714200         NaN         NaN        NaN  \n",
      "A0P0666301         NaN         NaN        NaN  \n",
      "A1RF105700         NaN         NaN        NaN  \n",
      "A1RF415600         NaN         NaN        NaN  \n",
      "A1RF505400         NaN         NaN        NaN  \n",
      "A50U212600         NaN         NaN        NaN  \n",
      "A50U629801         NaN         NaN        NaN  \n",
      "A50U757000         NaN         NaN        NaN  \n",
      "A50U890700         NaN         NaN        NaN  \n",
      "A50UN10602         NaN         NaN        NaN  \n",
      "A5AW344100         NaN         NaN        NaN  \n",
      "A5AW720301         NaN         NaN        NaN  \n",
      "A5AWR71R11         NaN         NaN        NaN  \n",
      "A79J223101         NaN         NaN        NaN  \n",
      "A79J226200         NaN         NaN        NaN  \n",
      "A79J226301         NaN         NaN        NaN  \n",
      "A92EN10B00         NaN         NaN        NaN  \n",
      "A92WR70411         NaN         NaN        NaN  \n",
      "A92WR70411         NaN         NaN        NaN  \n",
      "A92WR70744         NaN         NaN        NaN  \n",
      "A9CE816700         NaN         NaN        NaN  \n",
      "A9VE720300         NaN         NaN        NaN  \n",
      "A9VE720500         NaN         NaN        NaN  \n",
      "A9VEM33E00         NaN         NaN        NaN  \n",
      "A9VPR71800         NaN         NaN        NaN  \n",
      "A9VPR77800         NaN         NaN        NaN  \n",
      "AA2JH02N0L         NaN         NaN        NaN  \n",
      "AC0C720300         NaN         NaN        NaN  \n",
      "AC0C728501         NaN         NaN        NaN  \n",
      "AC0C891400         NaN         NaN        NaN  \n",
      "AC0CH09011         NaN         NaN        NaN  \n",
      "AD7ER72500         NaN         NaN        NaN  \n",
      "AD7ER72600         NaN         NaN        NaN  \n",
      "Z907284300         NaN         NaN        NaN  \n"
     ]
    }
   ],
   "source": [
    "tabela_resultados = tabela_resultados.set_index(tabela_resultados.columns[0])\n",
    "\n",
    "# Exibir o novo DataFrame\n",
    "print(tabela_resultados)"
   ]
  },
  {
   "cell_type": "code",
   "execution_count": null,
   "metadata": {
    "id": "cmiqM9VUvbUM"
   },
   "outputs": [],
   "source": []
  },
  {
   "cell_type": "code",
   "execution_count": null,
   "metadata": {
    "id": "RvsAkUNDvbTI"
   },
   "outputs": [],
   "source": []
  },
  {
   "cell_type": "markdown",
   "metadata": {
    "id": "6xRNfQGJyK1v"
   },
   "source": [
    "## Classificação de peças"
   ]
  },
  {
   "cell_type": "code",
   "execution_count": 36,
   "metadata": {
    "id": "pdep8rVnyRQN"
   },
   "outputs": [],
   "source": [
    "classificacao = pd.read_excel(caminho_classificacao, sheet_name='consumable parts')"
   ]
  },
  {
   "cell_type": "code",
   "execution_count": 37,
   "metadata": {
    "colab": {
     "base_uri": "https://localhost:8080/"
    },
    "id": "Omok9dAmy4lN",
    "outputId": "af5895a3-ae25-40f9-81b9-4fce24a99223"
   },
   "outputs": [
    {
     "data": {
      "text/plain": [
       "<bound method NDFrame.head of           Código                                   Aplicação Modelo  \\\n",
       "0     A92WR70100                                              C6100   \n",
       "1     65AAR75600  8050/ C14000/ C6100/ C1085/ C1100/ C8000/ C500...   \n",
       "2     A1RF520400                 C14000/ C6100/ C1085/ C1100/ C8000   \n",
       "3     A1RF531600                                C6100/ C1085/ C1100   \n",
       "4     A1RF532800                 C14000/ C6100/ C1085/ C1100/ C8000   \n",
       "...          ...                                                ...   \n",
       "2104  AC4K701900                                             MB-511   \n",
       "2105  A79A603400                                             MB-511   \n",
       "2106  A0GDR70111                                             PF-712   \n",
       "2107  A11U560000                                              4051i   \n",
       "2108  A5AW728500                         C6100/ C1085/ C1100/EF-104   \n",
       "\n",
       "       Cód.Atual    Similar1    Similar2 Similar3 Similar4 Similar5 Similar6  \\\n",
       "0     A92WR70100           -           -        -        -        -        -   \n",
       "1     65AAR75600   65AA-2930           -        -        -        -        -   \n",
       "2     A1RF520400           -           -        -        -        -        -   \n",
       "3     A1RF531600           -           -        -        -        -        -   \n",
       "4     A1RF532800        4109           -        -        -        -        -   \n",
       "...          ...         ...         ...      ...      ...      ...      ...   \n",
       "2104  AC4K701900           -           -        -        -        -        -   \n",
       "2105  A79A603400           -           -        -        -        -        -   \n",
       "2106  A0GDR70111  A0GDR70100           -        -        -        -        -   \n",
       "2107  A11U560000           -           -        -        -        -        -   \n",
       "2108  A5AW720301  A5AW728500  A5AW720300        -        -        -        -   \n",
       "\n",
       "     Similar7 Similar7.1 Durabilidade                     Unnamed: 12  \n",
       "0           -          -          Sim                   C6100 / C1100  \n",
       "1           -          -          Sim                   C6100 / C1100  \n",
       "2           -          -          Sim                   C6100 / C1100  \n",
       "3           -          -          Sim                   C6100 / C1100  \n",
       "4           -          -          Sim                   C6100 / C1100  \n",
       "...       ...        ...          ...                             ...  \n",
       "2104        -          -          Sim  Acrescentado 12.07.24 - Carlos  \n",
       "2105        -          -          Sim  Acrescentado 12.07.24 - Carlos  \n",
       "2106        -          -          Sim  Acrescentado 12.07.24 - Carlos  \n",
       "2107        -          -          Sim  Acrescentado 12.07.24 - Carlos  \n",
       "2108        -          -          Sim  Acrescentado 15.08.24 - Carlos  \n",
       "\n",
       "[2109 rows x 13 columns]>"
      ]
     },
     "execution_count": 37,
     "metadata": {},
     "output_type": "execute_result"
    }
   ],
   "source": [
    "classificacao.head"
   ]
  },
  {
   "cell_type": "code",
   "execution_count": 38,
   "metadata": {
    "colab": {
     "base_uri": "https://localhost:8080/"
    },
    "id": "8loQBBC8zmTC",
    "outputId": "22e5d1b2-8c42-4449-cebd-2df17c719ca6"
   },
   "outputs": [
    {
     "data": {
      "text/plain": [
       "Index(['Código', 'Aplicação Modelo', 'Cód.Atual', 'Similar1', 'Similar2',\n",
       "       'Similar3', 'Similar4', 'Similar5', 'Similar6', 'Similar7',\n",
       "       'Similar7.1', 'Durabilidade', 'Unnamed: 12'],\n",
       "      dtype='object')"
      ]
     },
     "execution_count": 38,
     "metadata": {},
     "output_type": "execute_result"
    }
   ],
   "source": [
    "classificacao.columns"
   ]
  },
  {
   "cell_type": "code",
   "execution_count": 39,
   "metadata": {
    "colab": {
     "base_uri": "https://localhost:8080/"
    },
    "id": "3DNnf2bLzhg6",
    "outputId": "d6daab57-3e78-4090-ee66-be3ee3d66a11"
   },
   "outputs": [
    {
     "name": "stdout",
     "output_type": "stream",
     "text": [
      "           Durabilidade\n",
      "Código                 \n",
      "4049521             Sim\n",
      "4049522             Sim\n",
      "4049524             Sim\n",
      "454053391           Sim\n",
      "454075040           Sim\n",
      "...                 ...\n",
      "AE1KR70600          Sim\n",
      "SP00-0210           Sim\n",
      "SP00-0220           Sim\n",
      "V218060086          Sim\n",
      "V234301250          Sim\n",
      "\n",
      "[1408 rows x 1 columns]\n"
     ]
    }
   ],
   "source": [
    "# Criar a tabela dinâmica mantendo 'Cen.' como texto\n",
    "tabela_dinamica_classificacao = pd.pivot_table(classificacao, values='Durabilidade', index='Código', aggfunc='first', fill_value=0)\n",
    "\n",
    "\n",
    "# Exibir a tabela dinâmica\n",
    "print(tabela_dinamica_classificacao)"
   ]
  },
  {
   "cell_type": "markdown",
   "metadata": {
    "id": "bivdLhPFuCnC"
   },
   "source": [
    "## juntando tabelas\n"
   ]
  },
  {
   "cell_type": "markdown",
   "metadata": {
    "id": "ZzgNa0NMw2Oe"
   },
   "source": [
    "juntando pendencias"
   ]
  },
  {
   "cell_type": "code",
   "execution_count": 40,
   "metadata": {
    "colab": {
     "base_uri": "https://localhost:8080/"
    },
    "id": "LI3Bn5znuKzn",
    "outputId": "8c0500c0-9782-485a-edcb-f5593a12b3fb"
   },
   "outputs": [
    {
     "name": "stdout",
     "output_type": "stream",
     "text": [
      "            CE04_zva70  CE05_zva70  CE07_zva70  CE11_zva70  CE13_zva70  \\\n",
      "Material                                                                 \n",
      "15AG76710            0           0           0           2           0   \n",
      "15BA77031E           0           0           0           0          13   \n",
      "20AAR70600           0           0           0           0           1   \n",
      "25AA77890            0           0           0           1           0   \n",
      "4038258001           0           0           0           1           0   \n",
      "...                ...         ...         ...         ...         ...   \n",
      "AD7EP72200           1           0           0           0           0   \n",
      "AD7ER72500           2           0           0           0           0   \n",
      "AD7ER72600           2           0           0           0           0   \n",
      "SP00-0220            0           0           0           0          19   \n",
      "Z907284300           0           0           0           1           0   \n",
      "\n",
      "                                         Denominação  \\\n",
      "Material                                               \n",
      "15AG76710                                  CORREIA 2   \n",
      "15BA77031E                      ENGRENAGEM 27 DENTES   \n",
      "20AAR70600                                  LIMPADOR   \n",
      "25AA77890                       ENGRENAGEM 36 DENTES   \n",
      "4038258001                            ENGRENAGEM 16D   \n",
      "...                                              ...   \n",
      "AD7EP72200                       ROLO DE LIMPEZA /SP   \n",
      "AD7ER72500                       CONJUNTO DE ROLO /1   \n",
      "AD7ER72600                       CONJUNTO DE ROLO /2   \n",
      "SP00-0220                        TERMOSTATO INFERIOR   \n",
      "Z907284300  UNIDADE CIS - LEITOR DE IMAGEM HN12H-X03   \n",
      "\n",
      "                                  Criado por           Canal  \\\n",
      "Material                                                       \n",
      "15AG76710        JULIA MARIA MORETO DA SILVA    VENDA DIRETA   \n",
      "15BA77031E                   ROBERTA MACHADO  VENDA INDIRETA   \n",
      "20AAR70600         MARIANA PEREIRA DOS ANJOS  VENDA INDIRETA   \n",
      "25AA77890     JOÃO PAULO CLEMENTE DOS SANTOS             nan   \n",
      "4038258001       JULIA MARIA MORETO DA SILVA             nan   \n",
      "...                                      ...             ...   \n",
      "AD7EP72200                    VANESSA ARAUJO  VENDA INDIRETA   \n",
      "AD7ER72500  REGILENE DE CASSIA LUIZ OLIVEIRA    VENDA DIRETA   \n",
      "AD7ER72600  REGILENE DE CASSIA LUIZ OLIVEIRA    VENDA DIRETA   \n",
      "SP00-0220                    ROBERTA MACHADO  VENDA INDIRETA   \n",
      "Z907284300             JESSIE OLIVEIRA SILVA             nan   \n",
      "\n",
      "            Pendências Gerais  \n",
      "Material                       \n",
      "15AG76710                 0.0  \n",
      "15BA77031E                0.0  \n",
      "20AAR70600                0.0  \n",
      "25AA77890                 0.0  \n",
      "4038258001                0.0  \n",
      "...                       ...  \n",
      "AD7EP72200                0.0  \n",
      "AD7ER72500                0.0  \n",
      "AD7ER72600                0.0  \n",
      "SP00-0220                 0.0  \n",
      "Z907284300                0.0  \n",
      "\n",
      "[99 rows x 9 columns]\n"
     ]
    }
   ],
   "source": [
    "# Realizar left join entre as tabelas usando a coluna \"Material\" como chave\n",
    "merged_table_pend = _table_pend.merge(tabela_dinamica_pendente, how='left', left_index=True, right_index=True)\n",
    "\n",
    "# Preencher valores nulos com zero\n",
    "merged_table_pend = merged_table_pend.fillna(0)\n",
    "\n",
    "print(merged_table_pend)\n"
   ]
  },
  {
   "cell_type": "code",
   "execution_count": 41,
   "metadata": {
    "colab": {
     "base_uri": "https://localhost:8080/"
    },
    "id": "AKf46nHiuxjp",
    "outputId": "acbad665-9081-440d-c6f1-1a35169b9d9f"
   },
   "outputs": [
    {
     "data": {
      "text/plain": [
       "Index(['CE04_zva70', 'CE05_zva70', 'CE07_zva70', 'CE11_zva70', 'CE13_zva70',\n",
       "       'Denominação', 'Criado por', 'Canal', 'Pendências Gerais'],\n",
       "      dtype='object')"
      ]
     },
     "execution_count": 41,
     "metadata": {},
     "output_type": "execute_result"
    }
   ],
   "source": [
    "merged_table_pend.columns"
   ]
  },
  {
   "cell_type": "markdown",
   "metadata": {
    "id": "ci51sme8uHd4"
   },
   "source": [
    "juntando zstok"
   ]
  },
  {
   "cell_type": "code",
   "execution_count": 42,
   "metadata": {
    "colab": {
     "base_uri": "https://localhost:8080/"
    },
    "id": "qvyGn4s5w--B",
    "outputId": "3578f1ac-d4df-4aeb-a532-3767bf4f14ed"
   },
   "outputs": [
    {
     "name": "stdout",
     "output_type": "stream",
     "text": [
      "            CE01_zstok  CE03_zstok  CE05_zstok  CE07_zstok  CE09_zstok  \\\n",
      "Material                                                                 \n",
      "15BA77031E           1           0           9           0           3   \n",
      "20AAR70600           0           0           1           0           0   \n",
      "25AA77890            1           0           0           0           0   \n",
      "40AA88031            0           0           0           0           1   \n",
      "55VA29150           12           0           0           0           4   \n",
      "55VB83042            0           0           0           5           2   \n",
      "56UA40600            0           0           0           1           1   \n",
      "56UA77260            0           0           0           0           2   \n",
      "56UAR73900           0           0           0           0           3   \n",
      "65AA27320            0           0           0           0           0   \n",
      "9J06M10300           0           0           0          11           2   \n",
      "A03U553000           0           0           0           1           1   \n",
      "A0G6338411           0           0           0           0           4   \n",
      "A0G6531401           2           0           0           0           4   \n",
      "A0G6532700           0           0          11           0           5   \n",
      "A0G6532800           0           0          23           0           2   \n",
      "A0G6714200           0           0           0           1           1   \n",
      "A0G6M33000           0           0          13           0           1   \n",
      "A161165007           0           0           1           1           0   \n",
      "A1RF105700           0           0           0           1           0   \n",
      "A1RF415600           0           0           0           0           2   \n",
      "A4EUN14100           0           0           7           0           1   \n",
      "A4F3713001           0           0           0           0           3   \n",
      "A4F3R71411           0           0           0           0           0   \n",
      "A50U212600           0           0           0           3           5   \n",
      "A50U629801           0           0           0           0           1   \n",
      "A50U890700           0           0           0           1           1   \n",
      "A50UN10602           0           0           0           1           0   \n",
      "A5AW344100           0           0           0           0           0   \n",
      "A5AW720301           0           0           0           3           9   \n",
      "A5AWR70177           0           0          11           0           6   \n",
      "A5AWR71R11           0           0           0           0           1   \n",
      "A63PPP0400           0           0           1           0           0   \n",
      "A92WR70400           0           0           0           1           2   \n",
      "A92WR70411           0           0           0           0           1   \n",
      "A92WR70744           0           0           0           0           0   \n",
      "A9VE720300           0           0           0           3           0   \n",
      "A9VE720500           0           0           0           6           2   \n",
      "A9VEM31E00           0           0           0           2           1   \n",
      "A9VEM33E00           0           0           4           2           0   \n",
      "AC4GN14400           0           0           2           0           0   \n",
      "SP00-0220            0           0           0           5           3   \n",
      "\n",
      "            CE11_zstok  CE13_zstok  Contr.qualid.  \n",
      "Material                                           \n",
      "15BA77031E           2           0              0  \n",
      "20AAR70600           1           0              0  \n",
      "25AA77890            0           0              0  \n",
      "40AA88031            1           0              2  \n",
      "55VA29150            0           0              0  \n",
      "55VB83042            0           2              0  \n",
      "56UA40600            0           0              0  \n",
      "56UA77260            0           0              0  \n",
      "56UAR73900           0           0              0  \n",
      "65AA27320            0           0              2  \n",
      "9J06M10300           0           0              1  \n",
      "A03U553000           0           0              0  \n",
      "A0G6338411           0           0              0  \n",
      "A0G6531401           4           0              1  \n",
      "A0G6532700          24           0              1  \n",
      "A0G6532800          11           4              1  \n",
      "A0G6714200           4           0              0  \n",
      "A0G6M33000           7          11              3  \n",
      "A161165007           1           0              0  \n",
      "A1RF105700           0           0              0  \n",
      "A1RF415600           0           0              0  \n",
      "A4EUN14100           5          11              1  \n",
      "A4F3713001           0           0              0  \n",
      "A4F3R71411           2           0              0  \n",
      "A50U212600           0           0              3  \n",
      "A50U629801           0           0              0  \n",
      "A50U890700           0           0              1  \n",
      "A50UN10602           0           0              0  \n",
      "A5AW344100           0           0              1  \n",
      "A5AW720301           1           1              3  \n",
      "A5AWR70177           4          12              4  \n",
      "A5AWR71R11           0           0              1  \n",
      "A63PPP0400           0           0              0  \n",
      "A92WR70400           0           0              0  \n",
      "A92WR70411           0           0              0  \n",
      "A92WR70744           0           0              0  \n",
      "A9VE720300           1           0              2  \n",
      "A9VE720500           2           0              2  \n",
      "A9VEM31E00           3           0              1  \n",
      "A9VEM33E00           3           1              0  \n",
      "AC4GN14400           0           0              0  \n",
      "SP00-0220            1           0              1  \n"
     ]
    }
   ],
   "source": [
    "# Realizar left join entre as tabelas usando a coluna \"Material\" como chave\n",
    "merged_table_zstok = tabela_dinamica_zstok.merge(tabela_dinamica_zstok_qualidade, how='left', left_index=True, right_index=True)\n",
    "\n",
    "# Preencher valores nulos com zero\n",
    "merged_table_zstok = merged_table_zstok.fillna(0)\n",
    "\n",
    "print(merged_table_zstok)"
   ]
  },
  {
   "cell_type": "markdown",
   "metadata": {
    "id": "LYJYChyyxjqz"
   },
   "source": [
    "juntando pend com zstok"
   ]
  },
  {
   "cell_type": "code",
   "execution_count": 43,
   "metadata": {
    "colab": {
     "base_uri": "https://localhost:8080/"
    },
    "id": "_HdLYaYpxdn_",
    "outputId": "ceb9c759-8a39-47c8-f2b1-6b3de627566e"
   },
   "outputs": [
    {
     "name": "stdout",
     "output_type": "stream",
     "text": [
      "            CE04_zva70  CE05_zva70  CE07_zva70  CE11_zva70  CE13_zva70  \\\n",
      "Material                                                                 \n",
      "15AG76710            0           0           0           2           0   \n",
      "15BA77031E           0           0           0           0          13   \n",
      "20AAR70600           0           0           0           0           1   \n",
      "25AA77890            0           0           0           1           0   \n",
      "4038258001           0           0           0           1           0   \n",
      "...                ...         ...         ...         ...         ...   \n",
      "AD7EP72200           1           0           0           0           0   \n",
      "AD7ER72500           2           0           0           0           0   \n",
      "AD7ER72600           2           0           0           0           0   \n",
      "SP00-0220            0           0           0           0          19   \n",
      "Z907284300           0           0           0           1           0   \n",
      "\n",
      "                                         Denominação  \\\n",
      "Material                                               \n",
      "15AG76710                                  CORREIA 2   \n",
      "15BA77031E                      ENGRENAGEM 27 DENTES   \n",
      "20AAR70600                                  LIMPADOR   \n",
      "25AA77890                       ENGRENAGEM 36 DENTES   \n",
      "4038258001                            ENGRENAGEM 16D   \n",
      "...                                              ...   \n",
      "AD7EP72200                       ROLO DE LIMPEZA /SP   \n",
      "AD7ER72500                       CONJUNTO DE ROLO /1   \n",
      "AD7ER72600                       CONJUNTO DE ROLO /2   \n",
      "SP00-0220                        TERMOSTATO INFERIOR   \n",
      "Z907284300  UNIDADE CIS - LEITOR DE IMAGEM HN12H-X03   \n",
      "\n",
      "                                  Criado por           Canal  \\\n",
      "Material                                                       \n",
      "15AG76710        JULIA MARIA MORETO DA SILVA    VENDA DIRETA   \n",
      "15BA77031E                   ROBERTA MACHADO  VENDA INDIRETA   \n",
      "20AAR70600         MARIANA PEREIRA DOS ANJOS  VENDA INDIRETA   \n",
      "25AA77890     JOÃO PAULO CLEMENTE DOS SANTOS             nan   \n",
      "4038258001       JULIA MARIA MORETO DA SILVA             nan   \n",
      "...                                      ...             ...   \n",
      "AD7EP72200                    VANESSA ARAUJO  VENDA INDIRETA   \n",
      "AD7ER72500  REGILENE DE CASSIA LUIZ OLIVEIRA    VENDA DIRETA   \n",
      "AD7ER72600  REGILENE DE CASSIA LUIZ OLIVEIRA    VENDA DIRETA   \n",
      "SP00-0220                    ROBERTA MACHADO  VENDA INDIRETA   \n",
      "Z907284300             JESSIE OLIVEIRA SILVA             nan   \n",
      "\n",
      "            Pendências Gerais  CE01_zstok  CE03_zstok  CE05_zstok  CE07_zstok  \\\n",
      "Material                                                                        \n",
      "15AG76710                 0.0         0.0         0.0         0.0         0.0   \n",
      "15BA77031E                0.0         1.0         0.0         9.0         0.0   \n",
      "20AAR70600                0.0         0.0         0.0         1.0         0.0   \n",
      "25AA77890                 0.0         1.0         0.0         0.0         0.0   \n",
      "4038258001                0.0         0.0         0.0         0.0         0.0   \n",
      "...                       ...         ...         ...         ...         ...   \n",
      "AD7EP72200                0.0         0.0         0.0         0.0         0.0   \n",
      "AD7ER72500                0.0         0.0         0.0         0.0         0.0   \n",
      "AD7ER72600                0.0         0.0         0.0         0.0         0.0   \n",
      "SP00-0220                 0.0         0.0         0.0         0.0         5.0   \n",
      "Z907284300                0.0         0.0         0.0         0.0         0.0   \n",
      "\n",
      "            CE09_zstok  CE11_zstok  CE13_zstok  Contr.qualid.  \n",
      "Material                                                       \n",
      "15AG76710          0.0         0.0         0.0            0.0  \n",
      "15BA77031E         3.0         2.0         0.0            0.0  \n",
      "20AAR70600         0.0         1.0         0.0            0.0  \n",
      "25AA77890          0.0         0.0         0.0            0.0  \n",
      "4038258001         0.0         0.0         0.0            0.0  \n",
      "...                ...         ...         ...            ...  \n",
      "AD7EP72200         0.0         0.0         0.0            0.0  \n",
      "AD7ER72500         0.0         0.0         0.0            0.0  \n",
      "AD7ER72600         0.0         0.0         0.0            0.0  \n",
      "SP00-0220          3.0         1.0         0.0            1.0  \n",
      "Z907284300         0.0         0.0         0.0            0.0  \n",
      "\n",
      "[99 rows x 17 columns]\n"
     ]
    }
   ],
   "source": [
    "# Realizar left join entre as tabelas usando a coluna \"Material\" como chave\n",
    "merged_table_1 = merged_table_pend.merge(merged_table_zstok, how='left', left_index=True, right_index=True)\n",
    "\n",
    "# Preencher valores nulos com zero\n",
    "merged_table_1 = merged_table_1.fillna(0)\n",
    "\n",
    "print(merged_table_1)"
   ]
  },
  {
   "cell_type": "code",
   "execution_count": 44,
   "metadata": {
    "colab": {
     "base_uri": "https://localhost:8080/"
    },
    "id": "dL-H6otByU60",
    "outputId": "9601c914-cfb4-4039-d691-51021a8b24eb"
   },
   "outputs": [
    {
     "data": {
      "text/plain": [
       "Index(['CE04_zva70', 'CE05_zva70', 'CE07_zva70', 'CE11_zva70', 'CE13_zva70',\n",
       "       'Denominação', 'Criado por', 'Canal', 'Pendências Gerais', 'CE01_zstok',\n",
       "       'CE03_zstok', 'CE05_zstok', 'CE07_zstok', 'CE09_zstok', 'CE11_zstok',\n",
       "       'CE13_zstok', 'Contr.qualid.'],\n",
       "      dtype='object')"
      ]
     },
     "execution_count": 44,
     "metadata": {},
     "output_type": "execute_result"
    }
   ],
   "source": [
    "merged_table_1.columns"
   ]
  },
  {
   "cell_type": "markdown",
   "metadata": {
    "id": "FbEdg9w2ynhX"
   },
   "source": [
    "colocando o fup"
   ]
  },
  {
   "cell_type": "code",
   "execution_count": 45,
   "metadata": {
    "colab": {
     "base_uri": "https://localhost:8080/"
    },
    "id": "yVN9twaBya7z",
    "outputId": "9ae1059c-8407-445a-e6ee-cea5761e44c5"
   },
   "outputs": [
    {
     "name": "stdout",
     "output_type": "stream",
     "text": [
      "            CE04_zva70  CE05_zva70  CE07_zva70  CE11_zva70  CE13_zva70  \\\n",
      "Material                                                                 \n",
      "15AG76710            0           0           0           2           0   \n",
      "15BA77031E           0           0           0           0          13   \n",
      "20AAR70600           0           0           0           0           1   \n",
      "25AA77890            0           0           0           1           0   \n",
      "4038258001           0           0           0           1           0   \n",
      "...                ...         ...         ...         ...         ...   \n",
      "AD7EP72200           1           0           0           0           0   \n",
      "AD7ER72500           2           0           0           0           0   \n",
      "AD7ER72600           2           0           0           0           0   \n",
      "SP00-0220            0           0           0           0          19   \n",
      "Z907284300           0           0           0           1           0   \n",
      "\n",
      "                                         Denominação  \\\n",
      "Material                                               \n",
      "15AG76710                                  CORREIA 2   \n",
      "15BA77031E                      ENGRENAGEM 27 DENTES   \n",
      "20AAR70600                                  LIMPADOR   \n",
      "25AA77890                       ENGRENAGEM 36 DENTES   \n",
      "4038258001                            ENGRENAGEM 16D   \n",
      "...                                              ...   \n",
      "AD7EP72200                       ROLO DE LIMPEZA /SP   \n",
      "AD7ER72500                       CONJUNTO DE ROLO /1   \n",
      "AD7ER72600                       CONJUNTO DE ROLO /2   \n",
      "SP00-0220                        TERMOSTATO INFERIOR   \n",
      "Z907284300  UNIDADE CIS - LEITOR DE IMAGEM HN12H-X03   \n",
      "\n",
      "                                  Criado por           Canal  \\\n",
      "Material                                                       \n",
      "15AG76710        JULIA MARIA MORETO DA SILVA    VENDA DIRETA   \n",
      "15BA77031E                   ROBERTA MACHADO  VENDA INDIRETA   \n",
      "20AAR70600         MARIANA PEREIRA DOS ANJOS  VENDA INDIRETA   \n",
      "25AA77890     JOÃO PAULO CLEMENTE DOS SANTOS             nan   \n",
      "4038258001       JULIA MARIA MORETO DA SILVA             nan   \n",
      "...                                      ...             ...   \n",
      "AD7EP72200                    VANESSA ARAUJO  VENDA INDIRETA   \n",
      "AD7ER72500  REGILENE DE CASSIA LUIZ OLIVEIRA    VENDA DIRETA   \n",
      "AD7ER72600  REGILENE DE CASSIA LUIZ OLIVEIRA    VENDA DIRETA   \n",
      "SP00-0220                    ROBERTA MACHADO  VENDA INDIRETA   \n",
      "Z907284300             JESSIE OLIVEIRA SILVA             nan   \n",
      "\n",
      "            Pendências Gerais  CE01_zstok  ...  2024-12-21 00:00:00  \\\n",
      "Material                                   ...                        \n",
      "15AG76710                 0.0         0.0  ...                  0.0   \n",
      "15BA77031E                0.0         1.0  ...                  0.0   \n",
      "20AAR70600                0.0         0.0  ...                  0.0   \n",
      "25AA77890                 0.0         1.0  ...                  0.0   \n",
      "4038258001                0.0         0.0  ...                  0.0   \n",
      "...                       ...         ...  ...                  ...   \n",
      "AD7EP72200                0.0         0.0  ...                  0.0   \n",
      "AD7ER72500                0.0         0.0  ...                  0.0   \n",
      "AD7ER72600                0.0         0.0  ...                  0.0   \n",
      "SP00-0220                 0.0         0.0  ...                  0.0   \n",
      "Z907284300                0.0         0.0  ...                  0.0   \n",
      "\n",
      "            2024-12-27 00:00:00  2025-01-02 00:00:00  2025-01-05 00:00:00  \\\n",
      "Material                                                                    \n",
      "15AG76710                   0.0                  0.0                  0.0   \n",
      "15BA77031E                  0.0                  0.0                  0.0   \n",
      "20AAR70600                  0.0                  0.0                  0.0   \n",
      "25AA77890                   0.0                  0.0                  0.0   \n",
      "4038258001                  0.0                  0.0                  0.0   \n",
      "...                         ...                  ...                  ...   \n",
      "AD7EP72200                  0.0                  0.0                  0.0   \n",
      "AD7ER72500                  0.0                  0.0                  0.0   \n",
      "AD7ER72600                  0.0                  0.0                  0.0   \n",
      "SP00-0220                   0.0                  0.0                  0.0   \n",
      "Z907284300                  0.0                  0.0                  0.0   \n",
      "\n",
      "            2025-01-09 00:00:00  2025-01-18 00:00:00  2025-01-19 00:00:00  \\\n",
      "Material                                                                    \n",
      "15AG76710                   0.0                  0.0                  0.0   \n",
      "15BA77031E                  0.0                  0.0                  0.0   \n",
      "20AAR70600                  0.0                  0.0                  0.0   \n",
      "25AA77890                   0.0                  0.0                  0.0   \n",
      "4038258001                  0.0                  0.0                  0.0   \n",
      "...                         ...                  ...                  ...   \n",
      "AD7EP72200                  0.0                  0.0                  0.0   \n",
      "AD7ER72500                  0.0                  0.0                  0.0   \n",
      "AD7ER72600                  0.0                  0.0                  0.0   \n",
      "SP00-0220                   0.0                  0.0                  0.0   \n",
      "Z907284300                  0.0                  0.0                  0.0   \n",
      "\n",
      "            2025-01-20 00:00:00  2025-01-24 00:00:00  2025-02-11 00:00:00  \n",
      "Material                                                                   \n",
      "15AG76710                   0.0                  0.0                  0.0  \n",
      "15BA77031E                  0.0                  0.0                  0.0  \n",
      "20AAR70600                  0.0                  0.0                  0.0  \n",
      "25AA77890                   0.0                  0.0                  0.0  \n",
      "4038258001                  0.0                  0.0                  0.0  \n",
      "...                         ...                  ...                  ...  \n",
      "AD7EP72200                  0.0                  0.0                  0.0  \n",
      "AD7ER72500                  0.0                  2.0                  0.0  \n",
      "AD7ER72600                  0.0                  2.0                  0.0  \n",
      "SP00-0220                   0.0                  0.0                  0.0  \n",
      "Z907284300                  0.0                  0.0                  0.0  \n",
      "\n",
      "[99 rows x 31 columns]\n"
     ]
    }
   ],
   "source": [
    "# Realizar left join entre as tabelas usando a coluna \"Material\" como chave\n",
    "merged_table_2 = merged_table_1.merge(tabela_dinamica_fup, how='left', left_index=True, right_index=True)\n",
    "\n",
    "# Preencher valores nulos com zero\n",
    "merged_table_2 = merged_table_2.fillna(0)\n",
    "\n",
    "print(merged_table_2)"
   ]
  },
  {
   "cell_type": "code",
   "execution_count": 46,
   "metadata": {
    "colab": {
     "base_uri": "https://localhost:8080/"
    },
    "id": "naqhcdgRyzfi",
    "outputId": "05f69321-4df1-4c7f-90e1-815aa97a0390"
   },
   "outputs": [
    {
     "data": {
      "text/plain": [
       "Index([       'CE04_zva70',        'CE05_zva70',        'CE07_zva70',\n",
       "              'CE11_zva70',        'CE13_zva70',       'Denominação',\n",
       "              'Criado por',             'Canal', 'Pendências Gerais',\n",
       "              'CE01_zstok',        'CE03_zstok',        'CE05_zstok',\n",
       "              'CE07_zstok',        'CE09_zstok',        'CE11_zstok',\n",
       "              'CE13_zstok',     'Contr.qualid.', 2024-11-21 00:00:00,\n",
       "       2024-11-26 00:00:00, 2024-12-02 00:00:00, 2024-12-05 00:00:00,\n",
       "       2024-12-21 00:00:00, 2024-12-27 00:00:00, 2025-01-02 00:00:00,\n",
       "       2025-01-05 00:00:00, 2025-01-09 00:00:00, 2025-01-18 00:00:00,\n",
       "       2025-01-19 00:00:00, 2025-01-20 00:00:00, 2025-01-24 00:00:00,\n",
       "       2025-02-11 00:00:00],\n",
       "      dtype='object')"
      ]
     },
     "execution_count": 46,
     "metadata": {},
     "output_type": "execute_result"
    }
   ],
   "source": [
    "merged_table_2.columns"
   ]
  },
  {
   "cell_type": "code",
   "execution_count": 47,
   "metadata": {
    "id": "xV6-3goc1ND_"
   },
   "outputs": [],
   "source": [
    "# Renomear colunas com sufixo \"_x\"\n",
    "#merged_table_2 = merged_table_2.rename(columns=lambda x: x.replace('_x', '_zva70'))\n",
    "\n",
    "# Renomear colunas com sufixo \"_y\"\n",
    "#merged_table_2 = merged_table_2.rename(columns=lambda x: x.replace('_y', '_zstok'))\n"
   ]
  },
  {
   "cell_type": "code",
   "execution_count": 48,
   "metadata": {
    "colab": {
     "base_uri": "https://localhost:8080/"
    },
    "id": "wgPKOqwXMwBn",
    "outputId": "e2b8f186-1d5e-47d1-e988-c86815e0de1b"
   },
   "outputs": [
    {
     "name": "stdout",
     "output_type": "stream",
     "text": [
      "            CE04_zva70  CE05_zva70  CE07_zva70  CE11_zva70  CE13_zva70  \\\n",
      "Material                                                                 \n",
      "15AG76710            0           0           0           2           0   \n",
      "15BA77031E           0           0           0           0          13   \n",
      "20AAR70600           0           0           0           0           1   \n",
      "25AA77890            0           0           0           1           0   \n",
      "4038258001           0           0           0           1           0   \n",
      "...                ...         ...         ...         ...         ...   \n",
      "AD7EP72200           1           0           0           0           0   \n",
      "AD7ER72500           2           0           0           0           0   \n",
      "AD7ER72600           2           0           0           0           0   \n",
      "SP00-0220            0           0           0           0          19   \n",
      "Z907284300           0           0           0           1           0   \n",
      "\n",
      "                                         Denominação  \\\n",
      "Material                                               \n",
      "15AG76710                                  CORREIA 2   \n",
      "15BA77031E                      ENGRENAGEM 27 DENTES   \n",
      "20AAR70600                                  LIMPADOR   \n",
      "25AA77890                       ENGRENAGEM 36 DENTES   \n",
      "4038258001                            ENGRENAGEM 16D   \n",
      "...                                              ...   \n",
      "AD7EP72200                       ROLO DE LIMPEZA /SP   \n",
      "AD7ER72500                       CONJUNTO DE ROLO /1   \n",
      "AD7ER72600                       CONJUNTO DE ROLO /2   \n",
      "SP00-0220                        TERMOSTATO INFERIOR   \n",
      "Z907284300  UNIDADE CIS - LEITOR DE IMAGEM HN12H-X03   \n",
      "\n",
      "                                  Criado por           Canal  \\\n",
      "Material                                                       \n",
      "15AG76710        JULIA MARIA MORETO DA SILVA    VENDA DIRETA   \n",
      "15BA77031E                   ROBERTA MACHADO  VENDA INDIRETA   \n",
      "20AAR70600         MARIANA PEREIRA DOS ANJOS  VENDA INDIRETA   \n",
      "25AA77890     JOÃO PAULO CLEMENTE DOS SANTOS             nan   \n",
      "4038258001       JULIA MARIA MORETO DA SILVA             nan   \n",
      "...                                      ...             ...   \n",
      "AD7EP72200                    VANESSA ARAUJO  VENDA INDIRETA   \n",
      "AD7ER72500  REGILENE DE CASSIA LUIZ OLIVEIRA    VENDA DIRETA   \n",
      "AD7ER72600  REGILENE DE CASSIA LUIZ OLIVEIRA    VENDA DIRETA   \n",
      "SP00-0220                    ROBERTA MACHADO  VENDA INDIRETA   \n",
      "Z907284300             JESSIE OLIVEIRA SILVA             nan   \n",
      "\n",
      "            Pendências Gerais  CE01_zstok  ...  2024-12-27 00:00:00  \\\n",
      "Material                                   ...                        \n",
      "15AG76710                 0.0         0.0  ...                  0.0   \n",
      "15BA77031E                0.0         1.0  ...                  0.0   \n",
      "20AAR70600                0.0         0.0  ...                  0.0   \n",
      "25AA77890                 0.0         1.0  ...                  0.0   \n",
      "4038258001                0.0         0.0  ...                  0.0   \n",
      "...                       ...         ...  ...                  ...   \n",
      "AD7EP72200                0.0         0.0  ...                  0.0   \n",
      "AD7ER72500                0.0         0.0  ...                  0.0   \n",
      "AD7ER72600                0.0         0.0  ...                  0.0   \n",
      "SP00-0220                 0.0         0.0  ...                  0.0   \n",
      "Z907284300                0.0         0.0  ...                  0.0   \n",
      "\n",
      "            2025-01-02 00:00:00  2025-01-05 00:00:00  2025-01-09 00:00:00  \\\n",
      "Material                                                                    \n",
      "15AG76710                   0.0                  0.0                  0.0   \n",
      "15BA77031E                  0.0                  0.0                  0.0   \n",
      "20AAR70600                  0.0                  0.0                  0.0   \n",
      "25AA77890                   0.0                  0.0                  0.0   \n",
      "4038258001                  0.0                  0.0                  0.0   \n",
      "...                         ...                  ...                  ...   \n",
      "AD7EP72200                  0.0                  0.0                  0.0   \n",
      "AD7ER72500                  0.0                  0.0                  0.0   \n",
      "AD7ER72600                  0.0                  0.0                  0.0   \n",
      "SP00-0220                   0.0                  0.0                  0.0   \n",
      "Z907284300                  0.0                  0.0                  0.0   \n",
      "\n",
      "            2025-01-18 00:00:00  2025-01-19 00:00:00  2025-01-20 00:00:00  \\\n",
      "Material                                                                    \n",
      "15AG76710                   0.0                  0.0                  0.0   \n",
      "15BA77031E                  0.0                  0.0                  0.0   \n",
      "20AAR70600                  0.0                  0.0                  0.0   \n",
      "25AA77890                   0.0                  0.0                  0.0   \n",
      "4038258001                  0.0                  0.0                  0.0   \n",
      "...                         ...                  ...                  ...   \n",
      "AD7EP72200                  0.0                  0.0                  0.0   \n",
      "AD7ER72500                  0.0                  0.0                  0.0   \n",
      "AD7ER72600                  0.0                  0.0                  0.0   \n",
      "SP00-0220                   0.0                  0.0                  0.0   \n",
      "Z907284300                  0.0                  0.0                  0.0   \n",
      "\n",
      "            2025-01-24 00:00:00  2025-02-11 00:00:00  Montante  \n",
      "Material                                                        \n",
      "15AG76710                   0.0                  0.0      1.20  \n",
      "15BA77031E                  0.0                  0.0      0.44  \n",
      "20AAR70600                  0.0                  0.0      3.58  \n",
      "25AA77890                   0.0                  0.0      0.84  \n",
      "4038258001                  0.0                  0.0      1.59  \n",
      "...                         ...                  ...       ...  \n",
      "AD7EP72200                  0.0                  0.0    562.08  \n",
      "AD7ER72500                  2.0                  0.0    173.93  \n",
      "AD7ER72600                  2.0                  0.0    213.52  \n",
      "SP00-0220                   0.0                  0.0      3.68  \n",
      "Z907284300                  0.0                  0.0      0.00  \n",
      "\n",
      "[99 rows x 32 columns]\n"
     ]
    }
   ],
   "source": [
    "# Realizar left join entre as tabelas usando a coluna \"Material\" como chave\n",
    "merged_table_3 = merged_table_2.merge(tabela_dinamica_fob, how='left', left_index=True, right_index=True)\n",
    "\n",
    "# Preencher valores nulos com zero\n",
    "merged_table_3 = merged_table_3.fillna(0)\n",
    "\n",
    "print(merged_table_3)"
   ]
  },
  {
   "cell_type": "code",
   "execution_count": 49,
   "metadata": {
    "colab": {
     "base_uri": "https://localhost:8080/"
    },
    "id": "qS1JaxmdMvIG",
    "outputId": "5dcd9ada-f328-498f-acf1-fed8241a0cbe"
   },
   "outputs": [
    {
     "name": "stdout",
     "output_type": "stream",
     "text": [
      "            CE04_zva70  CE05_zva70  CE07_zva70  CE11_zva70  CE13_zva70  \\\n",
      "Material                                                                 \n",
      "15AG76710            0           0           0           2           0   \n",
      "15BA77031E           0           0           0           0          13   \n",
      "20AAR70600           0           0           0           0           1   \n",
      "25AA77890            0           0           0           1           0   \n",
      "4038258001           0           0           0           1           0   \n",
      "...                ...         ...         ...         ...         ...   \n",
      "AD7EP72200           1           0           0           0           0   \n",
      "AD7ER72500           2           0           0           0           0   \n",
      "AD7ER72600           2           0           0           0           0   \n",
      "SP00-0220            0           0           0           0          19   \n",
      "Z907284300           0           0           0           1           0   \n",
      "\n",
      "                                         Denominação  \\\n",
      "Material                                               \n",
      "15AG76710                                  CORREIA 2   \n",
      "15BA77031E                      ENGRENAGEM 27 DENTES   \n",
      "20AAR70600                                  LIMPADOR   \n",
      "25AA77890                       ENGRENAGEM 36 DENTES   \n",
      "4038258001                            ENGRENAGEM 16D   \n",
      "...                                              ...   \n",
      "AD7EP72200                       ROLO DE LIMPEZA /SP   \n",
      "AD7ER72500                       CONJUNTO DE ROLO /1   \n",
      "AD7ER72600                       CONJUNTO DE ROLO /2   \n",
      "SP00-0220                        TERMOSTATO INFERIOR   \n",
      "Z907284300  UNIDADE CIS - LEITOR DE IMAGEM HN12H-X03   \n",
      "\n",
      "                                  Criado por           Canal  \\\n",
      "Material                                                       \n",
      "15AG76710        JULIA MARIA MORETO DA SILVA    VENDA DIRETA   \n",
      "15BA77031E                   ROBERTA MACHADO  VENDA INDIRETA   \n",
      "20AAR70600         MARIANA PEREIRA DOS ANJOS  VENDA INDIRETA   \n",
      "25AA77890     JOÃO PAULO CLEMENTE DOS SANTOS             nan   \n",
      "4038258001       JULIA MARIA MORETO DA SILVA             nan   \n",
      "...                                      ...             ...   \n",
      "AD7EP72200                    VANESSA ARAUJO  VENDA INDIRETA   \n",
      "AD7ER72500  REGILENE DE CASSIA LUIZ OLIVEIRA    VENDA DIRETA   \n",
      "AD7ER72600  REGILENE DE CASSIA LUIZ OLIVEIRA    VENDA DIRETA   \n",
      "SP00-0220                    ROBERTA MACHADO  VENDA INDIRETA   \n",
      "Z907284300             JESSIE OLIVEIRA SILVA             nan   \n",
      "\n",
      "            Pendências Gerais  CE01_zstok  ...  2025-01-02 00:00:00  \\\n",
      "Material                                   ...                        \n",
      "15AG76710                 0.0         0.0  ...                  0.0   \n",
      "15BA77031E                0.0         1.0  ...                  0.0   \n",
      "20AAR70600                0.0         0.0  ...                  0.0   \n",
      "25AA77890                 0.0         1.0  ...                  0.0   \n",
      "4038258001                0.0         0.0  ...                  0.0   \n",
      "...                       ...         ...  ...                  ...   \n",
      "AD7EP72200                0.0         0.0  ...                  0.0   \n",
      "AD7ER72500                0.0         0.0  ...                  0.0   \n",
      "AD7ER72600                0.0         0.0  ...                  0.0   \n",
      "SP00-0220                 0.0         0.0  ...                  0.0   \n",
      "Z907284300                0.0         0.0  ...                  0.0   \n",
      "\n",
      "            2025-01-05 00:00:00  2025-01-09 00:00:00  2025-01-18 00:00:00  \\\n",
      "Material                                                                    \n",
      "15AG76710                   0.0                  0.0                  0.0   \n",
      "15BA77031E                  0.0                  0.0                  0.0   \n",
      "20AAR70600                  0.0                  0.0                  0.0   \n",
      "25AA77890                   0.0                  0.0                  0.0   \n",
      "4038258001                  0.0                  0.0                  0.0   \n",
      "...                         ...                  ...                  ...   \n",
      "AD7EP72200                  0.0                  0.0                  0.0   \n",
      "AD7ER72500                  0.0                  0.0                  0.0   \n",
      "AD7ER72600                  0.0                  0.0                  0.0   \n",
      "SP00-0220                   0.0                  0.0                  0.0   \n",
      "Z907284300                  0.0                  0.0                  0.0   \n",
      "\n",
      "            2025-01-19 00:00:00  2025-01-20 00:00:00  2025-01-24 00:00:00  \\\n",
      "Material                                                                    \n",
      "15AG76710                   0.0                  0.0                  0.0   \n",
      "15BA77031E                  0.0                  0.0                  0.0   \n",
      "20AAR70600                  0.0                  0.0                  0.0   \n",
      "25AA77890                   0.0                  0.0                  0.0   \n",
      "4038258001                  0.0                  0.0                  0.0   \n",
      "...                         ...                  ...                  ...   \n",
      "AD7EP72200                  0.0                  0.0                  0.0   \n",
      "AD7ER72500                  0.0                  0.0                  2.0   \n",
      "AD7ER72600                  0.0                  0.0                  2.0   \n",
      "SP00-0220                   0.0                  0.0                  0.0   \n",
      "Z907284300                  0.0                  0.0                  0.0   \n",
      "\n",
      "            2025-02-11 00:00:00  Montante  \\\n",
      "Material                                    \n",
      "15AG76710                   0.0      1.20   \n",
      "15BA77031E                  0.0      0.44   \n",
      "20AAR70600                  0.0      3.58   \n",
      "25AA77890                   0.0      0.84   \n",
      "4038258001                  0.0      1.59   \n",
      "...                         ...       ...   \n",
      "AD7EP72200                  0.0    562.08   \n",
      "AD7ER72500                  0.0    173.93   \n",
      "AD7ER72600                  0.0    213.52   \n",
      "SP00-0220                   0.0      3.68   \n",
      "Z907284300                  0.0      0.00   \n",
      "\n",
      "                                        Modelos Lista Técnica  \n",
      "Material                                                       \n",
      "15AG76710            FD-501/FD-503/FS-532/FS-532 PK-SD/OT-512  \n",
      "15BA77031E         LU-201/PF-701/PF-703/PF-704/PF-707/PF-707M  \n",
      "20AAR70600  LT-211/LU-202/LU-202M/LU-202XL/LU-202XLM/LU-208XL  \n",
      "25AA77890   8050/ACCURIOPRESS 6136P/ACCURIOPRESS 7136P/BIZ...  \n",
      "4038258001                                                  0  \n",
      "...                                                       ...  \n",
      "AD7EP72200                                   ACCURIOLABEL 400  \n",
      "AD7ER72500                                   ACCURIOLABEL 400  \n",
      "AD7ER72600                                   ACCURIOLABEL 400  \n",
      "SP00-0220   ACCURIOLABEL 190/BIZHUB PRESS C71CF/ACCURIOLAB...  \n",
      "Z907284300                                                  0  \n",
      "\n",
      "[99 rows x 33 columns]\n"
     ]
    }
   ],
   "source": [
    "# Realizar left join entre as tabelas usando a coluna \"Material\" como chave\n",
    "merged_table_4 = merged_table_3.merge(tabela_dinamica_pecas, how='left', left_index=True, right_index=True)\n",
    "\n",
    "# Preencher valores nulos com zero\n",
    "merged_table_4 = merged_table_4.fillna(0)\n",
    "\n",
    "print(merged_table_4)"
   ]
  },
  {
   "cell_type": "code",
   "execution_count": 50,
   "metadata": {
    "colab": {
     "base_uri": "https://localhost:8080/"
    },
    "id": "HpeYh95LtwU7",
    "outputId": "9016fcc1-e63a-4b71-99a1-e603ecb6eda2"
   },
   "outputs": [
    {
     "name": "stdout",
     "output_type": "stream",
     "text": [
      "            CE04_zva70  CE05_zva70  CE07_zva70  CE11_zva70  CE13_zva70  \\\n",
      "15AG76710            0           0           0           2           0   \n",
      "15BA77031E           0           0           0           0          13   \n",
      "20AAR70600           0           0           0           0           1   \n",
      "25AA77890            0           0           0           1           0   \n",
      "4038258001           0           0           0           1           0   \n",
      "...                ...         ...         ...         ...         ...   \n",
      "AD7EP72200           1           0           0           0           0   \n",
      "AD7ER72500           2           0           0           0           0   \n",
      "AD7ER72600           2           0           0           0           0   \n",
      "SP00-0220            0           0           0           0          19   \n",
      "Z907284300           0           0           0           1           0   \n",
      "\n",
      "                                         Denominação  \\\n",
      "15AG76710                                  CORREIA 2   \n",
      "15BA77031E                      ENGRENAGEM 27 DENTES   \n",
      "20AAR70600                                  LIMPADOR   \n",
      "25AA77890                       ENGRENAGEM 36 DENTES   \n",
      "4038258001                            ENGRENAGEM 16D   \n",
      "...                                              ...   \n",
      "AD7EP72200                       ROLO DE LIMPEZA /SP   \n",
      "AD7ER72500                       CONJUNTO DE ROLO /1   \n",
      "AD7ER72600                       CONJUNTO DE ROLO /2   \n",
      "SP00-0220                        TERMOSTATO INFERIOR   \n",
      "Z907284300  UNIDADE CIS - LEITOR DE IMAGEM HN12H-X03   \n",
      "\n",
      "                                  Criado por           Canal  \\\n",
      "15AG76710        JULIA MARIA MORETO DA SILVA    VENDA DIRETA   \n",
      "15BA77031E                   ROBERTA MACHADO  VENDA INDIRETA   \n",
      "20AAR70600         MARIANA PEREIRA DOS ANJOS  VENDA INDIRETA   \n",
      "25AA77890     JOÃO PAULO CLEMENTE DOS SANTOS             nan   \n",
      "4038258001       JULIA MARIA MORETO DA SILVA             nan   \n",
      "...                                      ...             ...   \n",
      "AD7EP72200                    VANESSA ARAUJO  VENDA INDIRETA   \n",
      "AD7ER72500  REGILENE DE CASSIA LUIZ OLIVEIRA    VENDA DIRETA   \n",
      "AD7ER72600  REGILENE DE CASSIA LUIZ OLIVEIRA    VENDA DIRETA   \n",
      "SP00-0220                    ROBERTA MACHADO  VENDA INDIRETA   \n",
      "Z907284300             JESSIE OLIVEIRA SILVA             nan   \n",
      "\n",
      "            Pendências Gerais  CE01_zstok  ...  Montante  \\\n",
      "15AG76710                 0.0         0.0  ...      1.20   \n",
      "15BA77031E                0.0         1.0  ...      0.44   \n",
      "20AAR70600                0.0         0.0  ...      3.58   \n",
      "25AA77890                 0.0         1.0  ...      0.84   \n",
      "4038258001                0.0         0.0  ...      1.59   \n",
      "...                       ...         ...  ...       ...   \n",
      "AD7EP72200                0.0         0.0  ...    562.08   \n",
      "AD7ER72500                0.0         0.0  ...    173.93   \n",
      "AD7ER72600                0.0         0.0  ...    213.52   \n",
      "SP00-0220                 0.0         0.0  ...      3.68   \n",
      "Z907284300                0.0         0.0  ...      0.00   \n",
      "\n",
      "                                        Modelos Lista Técnica    Material  \\\n",
      "15AG76710            FD-501/FD-503/FS-532/FS-532 PK-SD/OT-512           0   \n",
      "15BA77031E         LU-201/PF-701/PF-703/PF-704/PF-707/PF-707M           0   \n",
      "20AAR70600  LT-211/LU-202/LU-202M/LU-202XL/LU-202XLM/LU-208XL           0   \n",
      "25AA77890   8050/ACCURIOPRESS 6136P/ACCURIOPRESS 7136P/BIZ...           0   \n",
      "4038258001                                                  0           0   \n",
      "...                                                       ...         ...   \n",
      "AD7EP72200                                   ACCURIOLABEL 400           0   \n",
      "AD7ER72500                                   ACCURIOLABEL 400  AD7ER72500   \n",
      "AD7ER72600                                   ACCURIOLABEL 400  AD7ER72600   \n",
      "SP00-0220   ACCURIOLABEL 190/BIZHUB PRESS C71CF/ACCURIOLAB...           0   \n",
      "Z907284300                                                  0  Z907284300   \n",
      "\n",
      "              Similar1  Similar2  Similar3  Similar4  Unnamed: 6  Unnamed: 7  \\\n",
      "15AG76710            0         0         0         0         0.0         0.0   \n",
      "15BA77031E           0         0         0         0         0.0         0.0   \n",
      "20AAR70600           0         0         0         0         0.0         0.0   \n",
      "25AA77890            0         0         0         0         0.0         0.0   \n",
      "4038258001           0         0         0         0         0.0         0.0   \n",
      "...                ...       ...       ...       ...         ...         ...   \n",
      "AD7EP72200           0         0         0         0         0.0         0.0   \n",
      "AD7ER72500           -         -         -         -         0.0         0.0   \n",
      "AD7ER72600           -         -         -         -         0.0         0.0   \n",
      "SP00-0220            0         0         0         0         0.0         0.0   \n",
      "Z907284300  Z90728430X         -         -         -         0.0         0.0   \n",
      "\n",
      "            Unnamed: 8  \n",
      "15AG76710            0  \n",
      "15BA77031E           0  \n",
      "20AAR70600           0  \n",
      "25AA77890            0  \n",
      "4038258001           0  \n",
      "...                ...  \n",
      "AD7EP72200           0  \n",
      "AD7ER72500           0  \n",
      "AD7ER72600           0  \n",
      "SP00-0220            0  \n",
      "Z907284300           0  \n",
      "\n",
      "[100 rows x 41 columns]\n"
     ]
    },
    {
     "name": "stderr",
     "output_type": "stream",
     "text": [
      "C:\\Users\\fsp_adolpho.salvador\\AppData\\Local\\Temp\\ipykernel_23036\\1465948772.py:5: FutureWarning: Downcasting object dtype arrays on .fillna, .ffill, .bfill is deprecated and will change in a future version. Call result.infer_objects(copy=False) instead. To opt-in to the future behavior, set `pd.set_option('future.no_silent_downcasting', True)`\n",
      "  merged_table_5 = merged_table_5.fillna(0)\n"
     ]
    }
   ],
   "source": [
    "# Realizar left join entre as tabelas usando a coluna \"Material\" como chave\n",
    "merged_table_5 = merged_table_4.merge(tabela_resultados, how='left', left_index=True, right_index=True)\n",
    "\n",
    "# Preencher valores nulos com zero\n",
    "merged_table_5 = merged_table_5.fillna(0)\n",
    "\n",
    "print(merged_table_5)"
   ]
  },
  {
   "cell_type": "code",
   "execution_count": 51,
   "metadata": {
    "colab": {
     "base_uri": "https://localhost:8080/"
    },
    "id": "Av3CKwK00NDx",
    "outputId": "e72e9dfa-df0a-4bbe-a347-edaec60d9fd9"
   },
   "outputs": [
    {
     "name": "stdout",
     "output_type": "stream",
     "text": [
      "            CE04_zva70  CE05_zva70  CE07_zva70  CE11_zva70  CE13_zva70  \\\n",
      "15AG76710            0           0           0           2           0   \n",
      "15BA77031E           0           0           0           0          13   \n",
      "20AAR70600           0           0           0           0           1   \n",
      "25AA77890            0           0           0           1           0   \n",
      "4038258001           0           0           0           1           0   \n",
      "...                ...         ...         ...         ...         ...   \n",
      "AD7EP72200           1           0           0           0           0   \n",
      "AD7ER72500           2           0           0           0           0   \n",
      "AD7ER72600           2           0           0           0           0   \n",
      "SP00-0220            0           0           0           0          19   \n",
      "Z907284300           0           0           0           1           0   \n",
      "\n",
      "                                         Denominação  \\\n",
      "15AG76710                                  CORREIA 2   \n",
      "15BA77031E                      ENGRENAGEM 27 DENTES   \n",
      "20AAR70600                                  LIMPADOR   \n",
      "25AA77890                       ENGRENAGEM 36 DENTES   \n",
      "4038258001                            ENGRENAGEM 16D   \n",
      "...                                              ...   \n",
      "AD7EP72200                       ROLO DE LIMPEZA /SP   \n",
      "AD7ER72500                       CONJUNTO DE ROLO /1   \n",
      "AD7ER72600                       CONJUNTO DE ROLO /2   \n",
      "SP00-0220                        TERMOSTATO INFERIOR   \n",
      "Z907284300  UNIDADE CIS - LEITOR DE IMAGEM HN12H-X03   \n",
      "\n",
      "                                  Criado por           Canal  \\\n",
      "15AG76710        JULIA MARIA MORETO DA SILVA    VENDA DIRETA   \n",
      "15BA77031E                   ROBERTA MACHADO  VENDA INDIRETA   \n",
      "20AAR70600         MARIANA PEREIRA DOS ANJOS  VENDA INDIRETA   \n",
      "25AA77890     JOÃO PAULO CLEMENTE DOS SANTOS             nan   \n",
      "4038258001       JULIA MARIA MORETO DA SILVA             nan   \n",
      "...                                      ...             ...   \n",
      "AD7EP72200                    VANESSA ARAUJO  VENDA INDIRETA   \n",
      "AD7ER72500  REGILENE DE CASSIA LUIZ OLIVEIRA    VENDA DIRETA   \n",
      "AD7ER72600  REGILENE DE CASSIA LUIZ OLIVEIRA    VENDA DIRETA   \n",
      "SP00-0220                    ROBERTA MACHADO  VENDA INDIRETA   \n",
      "Z907284300             JESSIE OLIVEIRA SILVA             nan   \n",
      "\n",
      "            Pendências Gerais  CE01_zstok  ...  \\\n",
      "15AG76710                 0.0         0.0  ...   \n",
      "15BA77031E                0.0         1.0  ...   \n",
      "20AAR70600                0.0         0.0  ...   \n",
      "25AA77890                 0.0         1.0  ...   \n",
      "4038258001                0.0         0.0  ...   \n",
      "...                       ...         ...  ...   \n",
      "AD7EP72200                0.0         0.0  ...   \n",
      "AD7ER72500                0.0         0.0  ...   \n",
      "AD7ER72600                0.0         0.0  ...   \n",
      "SP00-0220                 0.0         0.0  ...   \n",
      "Z907284300                0.0         0.0  ...   \n",
      "\n",
      "                                        Modelos Lista Técnica    Material  \\\n",
      "15AG76710            FD-501/FD-503/FS-532/FS-532 PK-SD/OT-512           0   \n",
      "15BA77031E         LU-201/PF-701/PF-703/PF-704/PF-707/PF-707M           0   \n",
      "20AAR70600  LT-211/LU-202/LU-202M/LU-202XL/LU-202XLM/LU-208XL           0   \n",
      "25AA77890   8050/ACCURIOPRESS 6136P/ACCURIOPRESS 7136P/BIZ...           0   \n",
      "4038258001                                                  0           0   \n",
      "...                                                       ...         ...   \n",
      "AD7EP72200                                   ACCURIOLABEL 400           0   \n",
      "AD7ER72500                                   ACCURIOLABEL 400  AD7ER72500   \n",
      "AD7ER72600                                   ACCURIOLABEL 400  AD7ER72600   \n",
      "SP00-0220   ACCURIOLABEL 190/BIZHUB PRESS C71CF/ACCURIOLAB...           0   \n",
      "Z907284300                                                  0  Z907284300   \n",
      "\n",
      "              Similar1  Similar2  Similar3  Similar4  Unnamed: 6  Unnamed: 7  \\\n",
      "15AG76710            0         0         0         0         0.0         0.0   \n",
      "15BA77031E           0         0         0         0         0.0         0.0   \n",
      "20AAR70600           0         0         0         0         0.0         0.0   \n",
      "25AA77890            0         0         0         0         0.0         0.0   \n",
      "4038258001           0         0         0         0         0.0         0.0   \n",
      "...                ...       ...       ...       ...         ...         ...   \n",
      "AD7EP72200           0         0         0         0         0.0         0.0   \n",
      "AD7ER72500           -         -         -         -         0.0         0.0   \n",
      "AD7ER72600           -         -         -         -         0.0         0.0   \n",
      "SP00-0220            0         0         0         0         0.0         0.0   \n",
      "Z907284300  Z90728430X         -         -         -         0.0         0.0   \n",
      "\n",
      "            Unnamed: 8  Durabilidade  \n",
      "15AG76710            0             0  \n",
      "15BA77031E           0             0  \n",
      "20AAR70600           0             0  \n",
      "25AA77890            0             0  \n",
      "4038258001           0             0  \n",
      "...                ...           ...  \n",
      "AD7EP72200           0             0  \n",
      "AD7ER72500           0             0  \n",
      "AD7ER72600           0             0  \n",
      "SP00-0220            0           Sim  \n",
      "Z907284300           0             0  \n",
      "\n",
      "[100 rows x 42 columns]\n"
     ]
    }
   ],
   "source": [
    "# Realizar left join entre as tabelas usando a coluna \"Material\" como chave\n",
    "merged_table_6 = merged_table_5.merge(tabela_dinamica_classificacao, how='left', left_index=True, right_index=True)\n",
    "\n",
    "# Preencher valores nulos com zero\n",
    "merged_table_6 = merged_table_6.fillna(0)\n",
    "\n",
    "print(merged_table_6)"
   ]
  },
  {
   "cell_type": "code",
   "execution_count": 52,
   "metadata": {
    "colab": {
     "base_uri": "https://localhost:8080/"
    },
    "id": "aYCsNgDTujli",
    "outputId": "c3515f20-4a27-401d-fa49-4195f3f8cad2"
   },
   "outputs": [
    {
     "data": {
      "text/plain": [
       "Index([           'CE04_zva70',            'CE05_zva70',\n",
       "                  'CE07_zva70',            'CE11_zva70',\n",
       "                  'CE13_zva70',           'Denominação',\n",
       "                  'Criado por',                 'Canal',\n",
       "           'Pendências Gerais',            'CE01_zstok',\n",
       "                  'CE03_zstok',            'CE05_zstok',\n",
       "                  'CE07_zstok',            'CE09_zstok',\n",
       "                  'CE11_zstok',            'CE13_zstok',\n",
       "               'Contr.qualid.',     2024-11-21 00:00:00,\n",
       "           2024-11-26 00:00:00,     2024-12-02 00:00:00,\n",
       "           2024-12-05 00:00:00,     2024-12-21 00:00:00,\n",
       "           2024-12-27 00:00:00,     2025-01-02 00:00:00,\n",
       "           2025-01-05 00:00:00,     2025-01-09 00:00:00,\n",
       "           2025-01-18 00:00:00,     2025-01-19 00:00:00,\n",
       "           2025-01-20 00:00:00,     2025-01-24 00:00:00,\n",
       "           2025-02-11 00:00:00,              'Montante',\n",
       "       'Modelos Lista Técnica',              'Material',\n",
       "                    'Similar1',              'Similar2',\n",
       "                    'Similar3',              'Similar4',\n",
       "                  'Unnamed: 6',            'Unnamed: 7',\n",
       "                  'Unnamed: 8',          'Durabilidade'],\n",
       "      dtype='object')"
      ]
     },
     "execution_count": 52,
     "metadata": {},
     "output_type": "execute_result"
    }
   ],
   "source": [
    "merged_table_6.columns"
   ]
  },
  {
   "cell_type": "code",
   "execution_count": 53,
   "metadata": {
    "id": "eCzTViJly1uF"
   },
   "outputs": [],
   "source": [
    "# Supondo que você tenha um DataFrame chamado 'merged_table_2'\n",
    "# Certifique-se de ajustar isso conforme necessário com o nome correto do seu DataFrame\n",
    "\n",
    "# Especificar o caminho do arquivo Excel de saída\n",
    "caminho_saida = r'C:\\Users\\fsp_adolpho.salvador\\Desktop\\Konica Minolta\\Desktop Cloud - Documentos\\Desktop\\Py\\Pendencias\\Mapa.xlsx'\n",
    "\n",
    "# Exportar o DataFrame para o arquivo Excel\n",
    "merged_table_6.to_excel(caminho_saida, index=True)\n"
   ]
  },
  {
   "cell_type": "code",
   "execution_count": 54,
   "metadata": {
    "colab": {
     "base_uri": "https://localhost:8080/",
     "height": 187
    },
    "id": "e86m_xIZzbH3",
    "outputId": "df79a1f3-3b9e-48f8-f40c-3e096f901b4e"
   },
   "outputs": [
    {
     "data": {
      "text/plain": [
       "<bound method NDFrame.head of             CE04_zva70  CE05_zva70  CE07_zva70  CE11_zva70  CE13_zva70  \\\n",
       "15AG76710            0           0           0           2           0   \n",
       "15BA77031E           0           0           0           0          13   \n",
       "20AAR70600           0           0           0           0           1   \n",
       "25AA77890            0           0           0           1           0   \n",
       "4038258001           0           0           0           1           0   \n",
       "...                ...         ...         ...         ...         ...   \n",
       "AD7EP72200           1           0           0           0           0   \n",
       "AD7ER72500           2           0           0           0           0   \n",
       "AD7ER72600           2           0           0           0           0   \n",
       "SP00-0220            0           0           0           0          19   \n",
       "Z907284300           0           0           0           1           0   \n",
       "\n",
       "                                         Denominação  \\\n",
       "15AG76710                                  CORREIA 2   \n",
       "15BA77031E                      ENGRENAGEM 27 DENTES   \n",
       "20AAR70600                                  LIMPADOR   \n",
       "25AA77890                       ENGRENAGEM 36 DENTES   \n",
       "4038258001                            ENGRENAGEM 16D   \n",
       "...                                              ...   \n",
       "AD7EP72200                       ROLO DE LIMPEZA /SP   \n",
       "AD7ER72500                       CONJUNTO DE ROLO /1   \n",
       "AD7ER72600                       CONJUNTO DE ROLO /2   \n",
       "SP00-0220                        TERMOSTATO INFERIOR   \n",
       "Z907284300  UNIDADE CIS - LEITOR DE IMAGEM HN12H-X03   \n",
       "\n",
       "                                  Criado por           Canal  \\\n",
       "15AG76710        JULIA MARIA MORETO DA SILVA    VENDA DIRETA   \n",
       "15BA77031E                   ROBERTA MACHADO  VENDA INDIRETA   \n",
       "20AAR70600         MARIANA PEREIRA DOS ANJOS  VENDA INDIRETA   \n",
       "25AA77890     JOÃO PAULO CLEMENTE DOS SANTOS             nan   \n",
       "4038258001       JULIA MARIA MORETO DA SILVA             nan   \n",
       "...                                      ...             ...   \n",
       "AD7EP72200                    VANESSA ARAUJO  VENDA INDIRETA   \n",
       "AD7ER72500  REGILENE DE CASSIA LUIZ OLIVEIRA    VENDA DIRETA   \n",
       "AD7ER72600  REGILENE DE CASSIA LUIZ OLIVEIRA    VENDA DIRETA   \n",
       "SP00-0220                    ROBERTA MACHADO  VENDA INDIRETA   \n",
       "Z907284300             JESSIE OLIVEIRA SILVA             nan   \n",
       "\n",
       "            Pendências Gerais  CE01_zstok  ...  \\\n",
       "15AG76710                 0.0         0.0  ...   \n",
       "15BA77031E                0.0         1.0  ...   \n",
       "20AAR70600                0.0         0.0  ...   \n",
       "25AA77890                 0.0         1.0  ...   \n",
       "4038258001                0.0         0.0  ...   \n",
       "...                       ...         ...  ...   \n",
       "AD7EP72200                0.0         0.0  ...   \n",
       "AD7ER72500                0.0         0.0  ...   \n",
       "AD7ER72600                0.0         0.0  ...   \n",
       "SP00-0220                 0.0         0.0  ...   \n",
       "Z907284300                0.0         0.0  ...   \n",
       "\n",
       "                                        Modelos Lista Técnica    Material  \\\n",
       "15AG76710            FD-501/FD-503/FS-532/FS-532 PK-SD/OT-512           0   \n",
       "15BA77031E         LU-201/PF-701/PF-703/PF-704/PF-707/PF-707M           0   \n",
       "20AAR70600  LT-211/LU-202/LU-202M/LU-202XL/LU-202XLM/LU-208XL           0   \n",
       "25AA77890   8050/ACCURIOPRESS 6136P/ACCURIOPRESS 7136P/BIZ...           0   \n",
       "4038258001                                                  0           0   \n",
       "...                                                       ...         ...   \n",
       "AD7EP72200                                   ACCURIOLABEL 400           0   \n",
       "AD7ER72500                                   ACCURIOLABEL 400  AD7ER72500   \n",
       "AD7ER72600                                   ACCURIOLABEL 400  AD7ER72600   \n",
       "SP00-0220   ACCURIOLABEL 190/BIZHUB PRESS C71CF/ACCURIOLAB...           0   \n",
       "Z907284300                                                  0  Z907284300   \n",
       "\n",
       "              Similar1  Similar2  Similar3  Similar4  Unnamed: 6  Unnamed: 7  \\\n",
       "15AG76710            0         0         0         0         0.0         0.0   \n",
       "15BA77031E           0         0         0         0         0.0         0.0   \n",
       "20AAR70600           0         0         0         0         0.0         0.0   \n",
       "25AA77890            0         0         0         0         0.0         0.0   \n",
       "4038258001           0         0         0         0         0.0         0.0   \n",
       "...                ...       ...       ...       ...         ...         ...   \n",
       "AD7EP72200           0         0         0         0         0.0         0.0   \n",
       "AD7ER72500           -         -         -         -         0.0         0.0   \n",
       "AD7ER72600           -         -         -         -         0.0         0.0   \n",
       "SP00-0220            0         0         0         0         0.0         0.0   \n",
       "Z907284300  Z90728430X         -         -         -         0.0         0.0   \n",
       "\n",
       "            Unnamed: 8  Durabilidade  \n",
       "15AG76710            0             0  \n",
       "15BA77031E           0             0  \n",
       "20AAR70600           0             0  \n",
       "25AA77890            0             0  \n",
       "4038258001           0             0  \n",
       "...                ...           ...  \n",
       "AD7EP72200           0             0  \n",
       "AD7ER72500           0             0  \n",
       "AD7ER72600           0             0  \n",
       "SP00-0220            0           Sim  \n",
       "Z907284300           0             0  \n",
       "\n",
       "[100 rows x 42 columns]>"
      ]
     },
     "execution_count": 54,
     "metadata": {},
     "output_type": "execute_result"
    }
   ],
   "source": [
    "merged_table_6.head"
   ]
  },
  {
   "cell_type": "code",
   "execution_count": 55,
   "metadata": {
    "id": "lw_1k4QZzb9j"
   },
   "outputs": [],
   "source": [
    "\n",
    "merged_table_6 = pd.read_excel(r'C:\\Users\\fsp_adolpho.salvador\\Desktop\\Konica Minolta\\Desktop Cloud - Documentos\\Desktop\\Py\\Pendencias\\Arquivos\\Mapa.xlsx')\n",
    "\n",
    "ztsd017_data = pd.read_excel(r'C:\\Users\\fsp_adolpho.salvador\\Desktop\\Konica Minolta\\Desktop Cloud - Documentos\\Desktop\\Py\\Pendencias\\Arquivos\\ztsd017.XLSX')\n",
    "\n",
    "merged_table_6.columns = merged_table_6.columns.str.strip()\n",
    "ztsd017_data.columns = ztsd017_data.columns.str.strip()\n",
    "\n",
    "# Função para encontrar o material no Mapa em uma das colunas e retornar o valor de estoque\n",
    "def buscar_estoque(material, df_estoque):\n",
    "    # Verificar se o material existe no ztsd017 e pegar o valor de 'Quant estoque 09/2024'\n",
    "    if material in df_estoque['Material'].values:\n",
    "        return df_estoque.loc[df_estoque['Material'] == material, 'Quant estoque 24/10/2024'].values[0]\n",
    "    return 0  # Se não encontrar o material, retornar 0\n",
    "\n",
    "# Função para verificar o material ou seus similares e buscar o estoque correspondente\n",
    "def buscar_estoque_similar(row, df_estoque):\n",
    "    # Lista de colunas de materiais para verificar (Material, Atual, Similar1, Similar2, Similar3, Similar4)\n",
    "    materiais = [row['Material'], row['Atual'], row['Similar1'], row['Similar2'], row['Similar3'], row['Similar4']]\n",
    "    \n",
    "    # Procurar em cada material e similar\n",
    "    for material in materiais:\n",
    "        estoque = buscar_estoque(material, df_estoque)\n",
    "        if estoque > 0:\n",
    "            return estoque  # Se encontrar estoque, retornar o valor\n",
    "    \n",
    "    return 0  # Retornar 0 se não encontrar estoque\n",
    "\n",
    "# Aplicar a função no DataFrame do Mapa para trazer o estoque da planilha ztsd017\n",
    "merged_table_6['Quant estoque'] = merged_table_6.apply(lambda row: buscar_estoque_similar(row, ztsd017_data), axis=1)\n"
   ]
  },
  {
   "cell_type": "code",
   "execution_count": 56,
   "metadata": {},
   "outputs": [],
   "source": [
    "\n",
    "# Especificar o caminho do arquivo Excel de saída\n",
    "caminho_saida = r'C:\\Users\\fsp_adolpho.salvador\\Desktop\\Konica Minolta\\Desktop Cloud - Documentos\\Desktop\\Py\\Pendencias\\Arquivos\\Mapa2.xlsx'\n",
    "\n",
    "# Exportar o DataFrame para o arquivo Excel\n",
    "merged_table_6.to_excel(caminho_saida, index=True)"
   ]
  },
  {
   "cell_type": "code",
   "execution_count": null,
   "metadata": {},
   "outputs": [],
   "source": []
  }
 ],
 "metadata": {
  "colab": {
   "collapsed_sections": [
    "YybzIMWxlALi",
    "O1WlUUCLlErb",
    "1Koc5JwAlIsj",
    "0XgTbAT2JGgy",
    "NVf1Tr1JJKSB"
   ],
   "provenance": []
  },
  "kernelspec": {
   "display_name": "Python 3",
   "name": "python3"
  },
  "language_info": {
   "codemirror_mode": {
    "name": "ipython",
    "version": 3
   },
   "file_extension": ".py",
   "mimetype": "text/x-python",
   "name": "python",
   "nbconvert_exporter": "python",
   "pygments_lexer": "ipython3",
   "version": "3.12.3"
  }
 },
 "nbformat": 4,
 "nbformat_minor": 0
}
